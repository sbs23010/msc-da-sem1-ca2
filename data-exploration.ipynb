{
 "cells": [
  {
   "cell_type": "code",
   "execution_count": 24,
   "id": "7a87c311",
   "metadata": {},
   "outputs": [],
   "source": [
    "import pandas as pd\n",
    "import numpy as np\n",
    "import seaborn as sns\n",
    "import plotly.express as px\n",
    "import plotly.graph_objects as go"
   ]
  },
  {
   "cell_type": "code",
   "execution_count": 6,
   "id": "45faff08",
   "metadata": {},
   "outputs": [],
   "source": [
    "# Source: https://data.gov.ie/dataset/national-house-construction-cost-index?package_type=dataset\n",
    "# License: Creative Commons Attribution Share-Alike 4.0\n",
    "# Accessed: 26 April 2023\n",
    "nhci_df = pd.read_csv(\"https://opendata.housing.gov.ie/dataset/aefa3fae-0ca1-4694-867a-a8a70ea77397/resource/188485c4-e5d7-4406-996b-1ff12a9a045a/download/national_house_construction_cost_index_0.csv\", header=[1], skiprows=1)"
   ]
  },
  {
   "cell_type": "code",
   "execution_count": 7,
   "id": "00b61287",
   "metadata": {},
   "outputs": [
    {
     "data": {
      "text/html": [
       "<div>\n",
       "<style scoped>\n",
       "    .dataframe tbody tr th:only-of-type {\n",
       "        vertical-align: middle;\n",
       "    }\n",
       "\n",
       "    .dataframe tbody tr th {\n",
       "        vertical-align: top;\n",
       "    }\n",
       "\n",
       "    .dataframe thead th {\n",
       "        text-align: right;\n",
       "    }\n",
       "</style>\n",
       "<table border=\"1\" class=\"dataframe\">\n",
       "  <thead>\n",
       "    <tr style=\"text-align: right;\">\n",
       "      <th></th>\n",
       "      <th>Month</th>\n",
       "      <th>1994</th>\n",
       "      <th>1995</th>\n",
       "      <th>1996</th>\n",
       "      <th>1997</th>\n",
       "      <th>1998</th>\n",
       "      <th>1999</th>\n",
       "      <th>2000</th>\n",
       "      <th>2001</th>\n",
       "      <th>2002</th>\n",
       "      <th>...</th>\n",
       "      <th>2007</th>\n",
       "      <th>2008</th>\n",
       "      <th>2009</th>\n",
       "      <th>2010</th>\n",
       "      <th>2011</th>\n",
       "      <th>2012</th>\n",
       "      <th>2013</th>\n",
       "      <th>2014</th>\n",
       "      <th>2015</th>\n",
       "      <th>2016</th>\n",
       "    </tr>\n",
       "  </thead>\n",
       "  <tbody>\n",
       "    <tr>\n",
       "      <th>0</th>\n",
       "      <td>January</td>\n",
       "      <td>109.2</td>\n",
       "      <td>113.5</td>\n",
       "      <td>115.9</td>\n",
       "      <td>118</td>\n",
       "      <td>122.9</td>\n",
       "      <td>126.3</td>\n",
       "      <td>135.8</td>\n",
       "      <td>154.3</td>\n",
       "      <td>169.9</td>\n",
       "      <td>...</td>\n",
       "      <td>198.8</td>\n",
       "      <td>207.4</td>\n",
       "      <td>208</td>\n",
       "      <td>206.9</td>\n",
       "      <td>210.2</td>\n",
       "      <td>202.5</td>\n",
       "      <td>204.1</td>\n",
       "      <td>204.9</td>\n",
       "      <td>206.2</td>\n",
       "      <td>207.4</td>\n",
       "    </tr>\n",
       "    <tr>\n",
       "      <th>1</th>\n",
       "      <td>February</td>\n",
       "      <td>109.3</td>\n",
       "      <td>114.1</td>\n",
       "      <td>115.7</td>\n",
       "      <td>118.5</td>\n",
       "      <td>123.1</td>\n",
       "      <td>126.4</td>\n",
       "      <td>136.1</td>\n",
       "      <td>154.7</td>\n",
       "      <td>170</td>\n",
       "      <td>...</td>\n",
       "      <td>198.8</td>\n",
       "      <td>208.2</td>\n",
       "      <td>207.3</td>\n",
       "      <td>207.2</td>\n",
       "      <td>210.5</td>\n",
       "      <td>202.6</td>\n",
       "      <td>204.2</td>\n",
       "      <td>205.4</td>\n",
       "      <td>206</td>\n",
       "      <td>207.1</td>\n",
       "    </tr>\n",
       "    <tr>\n",
       "      <th>2</th>\n",
       "      <td>March</td>\n",
       "      <td>109.4</td>\n",
       "      <td>114.1</td>\n",
       "      <td>115.9</td>\n",
       "      <td>118.8</td>\n",
       "      <td>123.8</td>\n",
       "      <td>126.5</td>\n",
       "      <td>136.4</td>\n",
       "      <td>155.6</td>\n",
       "      <td>169.5</td>\n",
       "      <td>...</td>\n",
       "      <td>199.4</td>\n",
       "      <td>208.6</td>\n",
       "      <td>206.8</td>\n",
       "      <td>207.3</td>\n",
       "      <td>200.7</td>\n",
       "      <td>202.7</td>\n",
       "      <td>204.3</td>\n",
       "      <td>205.4</td>\n",
       "      <td>206.5</td>\n",
       "      <td>NaN</td>\n",
       "    </tr>\n",
       "    <tr>\n",
       "      <th>3</th>\n",
       "      <td>April</td>\n",
       "      <td>110.3</td>\n",
       "      <td>114.1</td>\n",
       "      <td>115.9</td>\n",
       "      <td>119.8</td>\n",
       "      <td>123.8</td>\n",
       "      <td>130.5</td>\n",
       "      <td>136.5</td>\n",
       "      <td>157.4</td>\n",
       "      <td>169.5</td>\n",
       "      <td>...</td>\n",
       "      <td>200</td>\n",
       "      <td>208.9</td>\n",
       "      <td>206.5</td>\n",
       "      <td>207.9</td>\n",
       "      <td>201</td>\n",
       "      <td>203.4</td>\n",
       "      <td>204.5</td>\n",
       "      <td>205.6</td>\n",
       "      <td>206.8</td>\n",
       "      <td>NaN</td>\n",
       "    </tr>\n",
       "    <tr>\n",
       "      <th>4</th>\n",
       "      <td>May</td>\n",
       "      <td>110.1</td>\n",
       "      <td>114.1</td>\n",
       "      <td>115.9</td>\n",
       "      <td>119.8</td>\n",
       "      <td>124.5</td>\n",
       "      <td>130.5</td>\n",
       "      <td>136.8</td>\n",
       "      <td>157.6</td>\n",
       "      <td>169.5</td>\n",
       "      <td>...</td>\n",
       "      <td>200.1</td>\n",
       "      <td>209.4</td>\n",
       "      <td>206.5</td>\n",
       "      <td>208.7</td>\n",
       "      <td>201.2</td>\n",
       "      <td>203.6</td>\n",
       "      <td>204.5</td>\n",
       "      <td>205.9</td>\n",
       "      <td>207.2</td>\n",
       "      <td>NaN</td>\n",
       "    </tr>\n",
       "  </tbody>\n",
       "</table>\n",
       "<p>5 rows × 24 columns</p>\n",
       "</div>"
      ],
      "text/plain": [
       "      Month   1994   1995   1996   1997   1998   1999   2000   2001   2002  \\\n",
       "0   January  109.2  113.5  115.9    118  122.9  126.3  135.8  154.3  169.9   \n",
       "1  February  109.3  114.1  115.7  118.5  123.1  126.4  136.1  154.7    170   \n",
       "2     March  109.4  114.1  115.9  118.8  123.8  126.5  136.4  155.6  169.5   \n",
       "3     April  110.3  114.1  115.9  119.8  123.8  130.5  136.5  157.4  169.5   \n",
       "4       May  110.1  114.1  115.9  119.8  124.5  130.5  136.8  157.6  169.5   \n",
       "\n",
       "   ...   2007   2008   2009   2010   2011   2012   2013   2014   2015   2016  \n",
       "0  ...  198.8  207.4    208  206.9  210.2  202.5  204.1  204.9  206.2  207.4  \n",
       "1  ...  198.8  208.2  207.3  207.2  210.5  202.6  204.2  205.4    206  207.1  \n",
       "2  ...  199.4  208.6  206.8  207.3  200.7  202.7  204.3  205.4  206.5    NaN  \n",
       "3  ...    200  208.9  206.5  207.9    201  203.4  204.5  205.6  206.8    NaN  \n",
       "4  ...  200.1  209.4  206.5  208.7  201.2  203.6  204.5  205.9  207.2    NaN  \n",
       "\n",
       "[5 rows x 24 columns]"
      ]
     },
     "execution_count": 7,
     "metadata": {},
     "output_type": "execute_result"
    }
   ],
   "source": [
    "nhci_df.head()"
   ]
  },
  {
   "cell_type": "code",
   "execution_count": 8,
   "id": "cbefe440",
   "metadata": {},
   "outputs": [
    {
     "data": {
      "text/plain": [
       "(14, 24)"
      ]
     },
     "execution_count": 8,
     "metadata": {},
     "output_type": "execute_result"
    }
   ],
   "source": [
    "nhci_df.shape"
   ]
  },
  {
   "cell_type": "code",
   "execution_count": 13,
   "id": "d305d428",
   "metadata": {},
   "outputs": [
    {
     "data": {
      "text/html": [
       "<div>\n",
       "<style scoped>\n",
       "    .dataframe tbody tr th:only-of-type {\n",
       "        vertical-align: middle;\n",
       "    }\n",
       "\n",
       "    .dataframe tbody tr th {\n",
       "        vertical-align: top;\n",
       "    }\n",
       "\n",
       "    .dataframe thead th {\n",
       "        text-align: right;\n",
       "    }\n",
       "</style>\n",
       "<table border=\"1\" class=\"dataframe\">\n",
       "  <thead>\n",
       "    <tr style=\"text-align: right;\">\n",
       "      <th></th>\n",
       "      <th>Month</th>\n",
       "      <th>1994</th>\n",
       "      <th>1995</th>\n",
       "      <th>1996</th>\n",
       "      <th>1997</th>\n",
       "      <th>1998</th>\n",
       "      <th>1999</th>\n",
       "      <th>2000</th>\n",
       "      <th>2001</th>\n",
       "      <th>2002</th>\n",
       "      <th>...</th>\n",
       "      <th>2007</th>\n",
       "      <th>2008</th>\n",
       "      <th>2009</th>\n",
       "      <th>2010</th>\n",
       "      <th>2011</th>\n",
       "      <th>2012</th>\n",
       "      <th>2013</th>\n",
       "      <th>2014</th>\n",
       "      <th>2015</th>\n",
       "      <th>2016</th>\n",
       "    </tr>\n",
       "  </thead>\n",
       "  <tbody>\n",
       "    <tr>\n",
       "      <th>9</th>\n",
       "      <td>October</td>\n",
       "      <td>112.7</td>\n",
       "      <td>115.8</td>\n",
       "      <td>117.1</td>\n",
       "      <td>122</td>\n",
       "      <td>126.2</td>\n",
       "      <td>134.7</td>\n",
       "      <td>153.8</td>\n",
       "      <td>169.3</td>\n",
       "      <td>173.9</td>\n",
       "      <td>...</td>\n",
       "      <td>203.8</td>\n",
       "      <td>210.1</td>\n",
       "      <td>206.2</td>\n",
       "      <td>209.5</td>\n",
       "      <td>202</td>\n",
       "      <td>203.8</td>\n",
       "      <td>205.4</td>\n",
       "      <td>206.7</td>\n",
       "      <td>207.2</td>\n",
       "      <td>NaN</td>\n",
       "    </tr>\n",
       "    <tr>\n",
       "      <th>10</th>\n",
       "      <td>November</td>\n",
       "      <td>112.9</td>\n",
       "      <td>115.9</td>\n",
       "      <td>117.2</td>\n",
       "      <td>122.6</td>\n",
       "      <td>126.2</td>\n",
       "      <td>134.8</td>\n",
       "      <td>153.8</td>\n",
       "      <td>169.4</td>\n",
       "      <td>174</td>\n",
       "      <td>...</td>\n",
       "      <td>203.8</td>\n",
       "      <td>209.9</td>\n",
       "      <td>206.2</td>\n",
       "      <td>209.5</td>\n",
       "      <td>202.2</td>\n",
       "      <td>204</td>\n",
       "      <td>205.4</td>\n",
       "      <td>206.5</td>\n",
       "      <td>207.6</td>\n",
       "      <td>NaN</td>\n",
       "    </tr>\n",
       "    <tr>\n",
       "      <th>11</th>\n",
       "      <td>December</td>\n",
       "      <td>113.1</td>\n",
       "      <td>115.9</td>\n",
       "      <td>117.2</td>\n",
       "      <td>122.6</td>\n",
       "      <td>126.1</td>\n",
       "      <td>134.9</td>\n",
       "      <td>153.9</td>\n",
       "      <td>169.3</td>\n",
       "      <td>174.1</td>\n",
       "      <td>...</td>\n",
       "      <td>204.2</td>\n",
       "      <td>209.3</td>\n",
       "      <td>206.2</td>\n",
       "      <td>209.8</td>\n",
       "      <td>202.3</td>\n",
       "      <td>204.2</td>\n",
       "      <td>204.7</td>\n",
       "      <td>206.2</td>\n",
       "      <td>207.4</td>\n",
       "      <td>NaN</td>\n",
       "    </tr>\n",
       "    <tr>\n",
       "      <th>12</th>\n",
       "      <td>Yearly average</td>\n",
       "      <td>111</td>\n",
       "      <td>114.7</td>\n",
       "      <td>116.3</td>\n",
       "      <td>120.4</td>\n",
       "      <td>124.9</td>\n",
       "      <td>131</td>\n",
       "      <td>141</td>\n",
       "      <td>161.5</td>\n",
       "      <td>171.8</td>\n",
       "      <td>...</td>\n",
       "      <td>201.7</td>\n",
       "      <td>209.4</td>\n",
       "      <td>206.5</td>\n",
       "      <td>208.7</td>\n",
       "      <td>203.1</td>\n",
       "      <td>203.5</td>\n",
       "      <td>204.7</td>\n",
       "      <td>206</td>\n",
       "      <td>207.1</td>\n",
       "      <td>NaN</td>\n",
       "    </tr>\n",
       "    <tr>\n",
       "      <th>13</th>\n",
       "      <td>% Increase on previous year</td>\n",
       "      <td>3.40%</td>\n",
       "      <td>3.30%</td>\n",
       "      <td>1.40%</td>\n",
       "      <td>3.50%</td>\n",
       "      <td>3.70%</td>\n",
       "      <td>4.90%</td>\n",
       "      <td>7.60%</td>\n",
       "      <td>14.50%</td>\n",
       "      <td>6.40%</td>\n",
       "      <td>...</td>\n",
       "      <td>3.90%</td>\n",
       "      <td>3.80%</td>\n",
       "      <td>-1.40%</td>\n",
       "      <td>1.10%</td>\n",
       "      <td>-2.70%</td>\n",
       "      <td>0.20%</td>\n",
       "      <td>0.60%</td>\n",
       "      <td>0.60%</td>\n",
       "      <td>0.50%</td>\n",
       "      <td>NaN</td>\n",
       "    </tr>\n",
       "  </tbody>\n",
       "</table>\n",
       "<p>5 rows × 24 columns</p>\n",
       "</div>"
      ],
      "text/plain": [
       "                          Month   1994   1995   1996   1997   1998   1999  \\\n",
       "9                       October  112.7  115.8  117.1    122  126.2  134.7   \n",
       "10                     November  112.9  115.9  117.2  122.6  126.2  134.8   \n",
       "11                     December  113.1  115.9  117.2  122.6  126.1  134.9   \n",
       "12               Yearly average    111  114.7  116.3  120.4  124.9    131   \n",
       "13  % Increase on previous year  3.40%  3.30%  1.40%  3.50%  3.70%  4.90%   \n",
       "\n",
       "     2000    2001   2002  ...   2007   2008    2009   2010    2011   2012  \\\n",
       "9   153.8   169.3  173.9  ...  203.8  210.1   206.2  209.5     202  203.8   \n",
       "10  153.8   169.4    174  ...  203.8  209.9   206.2  209.5   202.2    204   \n",
       "11  153.9   169.3  174.1  ...  204.2  209.3   206.2  209.8   202.3  204.2   \n",
       "12    141   161.5  171.8  ...  201.7  209.4   206.5  208.7   203.1  203.5   \n",
       "13  7.60%  14.50%  6.40%  ...  3.90%  3.80%  -1.40%  1.10%  -2.70%  0.20%   \n",
       "\n",
       "     2013   2014   2015 2016  \n",
       "9   205.4  206.7  207.2  NaN  \n",
       "10  205.4  206.5  207.6  NaN  \n",
       "11  204.7  206.2  207.4  NaN  \n",
       "12  204.7    206  207.1  NaN  \n",
       "13  0.60%  0.60%  0.50%  NaN  \n",
       "\n",
       "[5 rows x 24 columns]"
      ]
     },
     "execution_count": 13,
     "metadata": {},
     "output_type": "execute_result"
    }
   ],
   "source": [
    "nhci_df.tail()"
   ]
  },
  {
   "cell_type": "code",
   "execution_count": 7,
   "id": "792d852d",
   "metadata": {},
   "outputs": [],
   "source": [
    "# Source: https://data.gov.ie/dataset/beq04-onstruction-sector-base-2015100-by-type-of-building-and-construction-year-and-statistic-fb86?package_type=dataset\n",
    "# License: Creative Commons Attribution 4.0\n",
    "#Accessed: 27 April 2023\n",
    "total_production_indices_df = pd.read_csv(\"https://ws.cso.ie/public/api.restful/PxStat.Data.Cube_API.ReadDataset/BEQ04/CSV/1.0/en\")"
   ]
  },
  {
   "cell_type": "code",
   "execution_count": 8,
   "id": "ec3ee873",
   "metadata": {},
   "outputs": [
    {
     "data": {
      "text/html": [
       "<div>\n",
       "<style scoped>\n",
       "    .dataframe tbody tr th:only-of-type {\n",
       "        vertical-align: middle;\n",
       "    }\n",
       "\n",
       "    .dataframe tbody tr th {\n",
       "        vertical-align: top;\n",
       "    }\n",
       "\n",
       "    .dataframe thead th {\n",
       "        text-align: right;\n",
       "    }\n",
       "</style>\n",
       "<table border=\"1\" class=\"dataframe\">\n",
       "  <thead>\n",
       "    <tr style=\"text-align: right;\">\n",
       "      <th></th>\n",
       "      <th>STATISTIC</th>\n",
       "      <th>Statistic Label</th>\n",
       "      <th>TLIST(Q1)</th>\n",
       "      <th>Quarter</th>\n",
       "      <th>C02402V02895</th>\n",
       "      <th>Type of Building and Construction</th>\n",
       "      <th>UNIT</th>\n",
       "      <th>VALUE</th>\n",
       "    </tr>\n",
       "  </thead>\n",
       "  <tbody>\n",
       "    <tr>\n",
       "      <th>0</th>\n",
       "      <td>BEQ04C01</td>\n",
       "      <td>Value of Production Index in Building and Cons...</td>\n",
       "      <td>20001</td>\n",
       "      <td>2000Q1</td>\n",
       "      <td>-</td>\n",
       "      <td>All building and construction</td>\n",
       "      <td>Base 2015=100</td>\n",
       "      <td>143.514977</td>\n",
       "    </tr>\n",
       "    <tr>\n",
       "      <th>1</th>\n",
       "      <td>BEQ04C01</td>\n",
       "      <td>Value of Production Index in Building and Cons...</td>\n",
       "      <td>20001</td>\n",
       "      <td>2000Q1</td>\n",
       "      <td>11</td>\n",
       "      <td>Building (excluding civil engineering)</td>\n",
       "      <td>Base 2015=100</td>\n",
       "      <td>182.795802</td>\n",
       "    </tr>\n",
       "    <tr>\n",
       "      <th>2</th>\n",
       "      <td>BEQ04C01</td>\n",
       "      <td>Value of Production Index in Building and Cons...</td>\n",
       "      <td>20001</td>\n",
       "      <td>2000Q1</td>\n",
       "      <td>111</td>\n",
       "      <td>Residential building</td>\n",
       "      <td>Base 2015=100</td>\n",
       "      <td>279.281551</td>\n",
       "    </tr>\n",
       "    <tr>\n",
       "      <th>3</th>\n",
       "      <td>BEQ04C01</td>\n",
       "      <td>Value of Production Index in Building and Cons...</td>\n",
       "      <td>20001</td>\n",
       "      <td>2000Q1</td>\n",
       "      <td>112</td>\n",
       "      <td>Non-residential building</td>\n",
       "      <td>Base 2015=100</td>\n",
       "      <td>115.359508</td>\n",
       "    </tr>\n",
       "    <tr>\n",
       "      <th>4</th>\n",
       "      <td>BEQ04C01</td>\n",
       "      <td>Value of Production Index in Building and Cons...</td>\n",
       "      <td>20001</td>\n",
       "      <td>2000Q1</td>\n",
       "      <td>12</td>\n",
       "      <td>Civil engineering</td>\n",
       "      <td>Base 2015=100</td>\n",
       "      <td>60.438887</td>\n",
       "    </tr>\n",
       "  </tbody>\n",
       "</table>\n",
       "</div>"
      ],
      "text/plain": [
       "  STATISTIC                                    Statistic Label  TLIST(Q1)  \\\n",
       "0  BEQ04C01  Value of Production Index in Building and Cons...      20001   \n",
       "1  BEQ04C01  Value of Production Index in Building and Cons...      20001   \n",
       "2  BEQ04C01  Value of Production Index in Building and Cons...      20001   \n",
       "3  BEQ04C01  Value of Production Index in Building and Cons...      20001   \n",
       "4  BEQ04C01  Value of Production Index in Building and Cons...      20001   \n",
       "\n",
       "  Quarter C02402V02895       Type of Building and Construction           UNIT  \\\n",
       "0  2000Q1            -           All building and construction  Base 2015=100   \n",
       "1  2000Q1           11  Building (excluding civil engineering)  Base 2015=100   \n",
       "2  2000Q1          111                    Residential building  Base 2015=100   \n",
       "3  2000Q1          112                Non-residential building  Base 2015=100   \n",
       "4  2000Q1           12                       Civil engineering  Base 2015=100   \n",
       "\n",
       "        VALUE  \n",
       "0  143.514977  \n",
       "1  182.795802  \n",
       "2  279.281551  \n",
       "3  115.359508  \n",
       "4   60.438887  "
      ]
     },
     "execution_count": 8,
     "metadata": {},
     "output_type": "execute_result"
    }
   ],
   "source": [
    "total_production_indices_df.head()"
   ]
  },
  {
   "cell_type": "code",
   "execution_count": 9,
   "id": "3e4a387a",
   "metadata": {},
   "outputs": [
    {
     "data": {
      "text/plain": [
       "(1840, 8)"
      ]
     },
     "execution_count": 9,
     "metadata": {},
     "output_type": "execute_result"
    }
   ],
   "source": [
    "total_production_indices_df.shape"
   ]
  },
  {
   "cell_type": "code",
   "execution_count": 10,
   "id": "e44836af",
   "metadata": {},
   "outputs": [
    {
     "data": {
      "text/plain": [
       "array(['BEQ04C01', 'BEQ04C02', 'BEQ04C03', 'BEQ04C04'], dtype=object)"
      ]
     },
     "execution_count": 10,
     "metadata": {},
     "output_type": "execute_result"
    }
   ],
   "source": [
    "total_production_indices_df['STATISTIC'].unique()"
   ]
  },
  {
   "cell_type": "code",
   "execution_count": 11,
   "id": "5f6c928b",
   "metadata": {},
   "outputs": [
    {
     "data": {
      "text/plain": [
       "array(['Value of Production Index in Building and Construction',\n",
       "       'Volume of Production Index in Building and Construction',\n",
       "       'Value of Production Index in Building and Construction (Seasonally Adjusted)',\n",
       "       'Volume of Production Index in Building and Construction (Seasonally Adjusted)'],\n",
       "      dtype=object)"
      ]
     },
     "execution_count": 11,
     "metadata": {},
     "output_type": "execute_result"
    }
   ],
   "source": [
    "total_production_indices_df['Statistic Label'].unique()"
   ]
  },
  {
   "cell_type": "code",
   "execution_count": 48,
   "id": "fb369071",
   "metadata": {},
   "outputs": [],
   "source": [
    "total_production_indices_df['Year'] = total_production_indices_df['TLIST(Q1)'] // 10\n",
    "total_yearly_production_indices_df = total_production_indices_df.groupby(['Year', 'STATISTIC', 'Statistic Label', 'Type of Building and Construction']).mean('VALUE').reset_index()"
   ]
  },
  {
   "cell_type": "code",
   "execution_count": 49,
   "id": "c67be64a",
   "metadata": {},
   "outputs": [
    {
     "data": {
      "text/html": [
       "<div>\n",
       "<style scoped>\n",
       "    .dataframe tbody tr th:only-of-type {\n",
       "        vertical-align: middle;\n",
       "    }\n",
       "\n",
       "    .dataframe tbody tr th {\n",
       "        vertical-align: top;\n",
       "    }\n",
       "\n",
       "    .dataframe thead th {\n",
       "        text-align: right;\n",
       "    }\n",
       "</style>\n",
       "<table border=\"1\" class=\"dataframe\">\n",
       "  <thead>\n",
       "    <tr style=\"text-align: right;\">\n",
       "      <th></th>\n",
       "      <th>Year</th>\n",
       "      <th>STATISTIC</th>\n",
       "      <th>Statistic Label</th>\n",
       "      <th>Type of Building and Construction</th>\n",
       "      <th>TLIST(Q1)</th>\n",
       "      <th>VALUE</th>\n",
       "    </tr>\n",
       "  </thead>\n",
       "  <tbody>\n",
       "    <tr>\n",
       "      <th>0</th>\n",
       "      <td>2000</td>\n",
       "      <td>BEQ04C01</td>\n",
       "      <td>Value of Production Index in Building and Cons...</td>\n",
       "      <td>All building and construction</td>\n",
       "      <td>20002.5</td>\n",
       "      <td>155.852221</td>\n",
       "    </tr>\n",
       "    <tr>\n",
       "      <th>1</th>\n",
       "      <td>2000</td>\n",
       "      <td>BEQ04C01</td>\n",
       "      <td>Value of Production Index in Building and Cons...</td>\n",
       "      <td>Building (excluding civil engineering)</td>\n",
       "      <td>20002.5</td>\n",
       "      <td>199.844255</td>\n",
       "    </tr>\n",
       "    <tr>\n",
       "      <th>2</th>\n",
       "      <td>2000</td>\n",
       "      <td>BEQ04C01</td>\n",
       "      <td>Value of Production Index in Building and Cons...</td>\n",
       "      <td>Civil engineering</td>\n",
       "      <td>20002.5</td>\n",
       "      <td>63.619979</td>\n",
       "    </tr>\n",
       "    <tr>\n",
       "      <th>3</th>\n",
       "      <td>2000</td>\n",
       "      <td>BEQ04C01</td>\n",
       "      <td>Value of Production Index in Building and Cons...</td>\n",
       "      <td>Non-residential building</td>\n",
       "      <td>20002.5</td>\n",
       "      <td>121.431248</td>\n",
       "    </tr>\n",
       "    <tr>\n",
       "      <th>4</th>\n",
       "      <td>2000</td>\n",
       "      <td>BEQ04C01</td>\n",
       "      <td>Value of Production Index in Building and Cons...</td>\n",
       "      <td>Residential building</td>\n",
       "      <td>20002.5</td>\n",
       "      <td>311.698160</td>\n",
       "    </tr>\n",
       "  </tbody>\n",
       "</table>\n",
       "</div>"
      ],
      "text/plain": [
       "   Year STATISTIC                                    Statistic Label  \\\n",
       "0  2000  BEQ04C01  Value of Production Index in Building and Cons...   \n",
       "1  2000  BEQ04C01  Value of Production Index in Building and Cons...   \n",
       "2  2000  BEQ04C01  Value of Production Index in Building and Cons...   \n",
       "3  2000  BEQ04C01  Value of Production Index in Building and Cons...   \n",
       "4  2000  BEQ04C01  Value of Production Index in Building and Cons...   \n",
       "\n",
       "        Type of Building and Construction  TLIST(Q1)       VALUE  \n",
       "0           All building and construction    20002.5  155.852221  \n",
       "1  Building (excluding civil engineering)    20002.5  199.844255  \n",
       "2                       Civil engineering    20002.5   63.619979  \n",
       "3                Non-residential building    20002.5  121.431248  \n",
       "4                    Residential building    20002.5  311.698160  "
      ]
     },
     "execution_count": 49,
     "metadata": {},
     "output_type": "execute_result"
    }
   ],
   "source": [
    "total_yearly_production_indices_df.head()"
   ]
  },
  {
   "cell_type": "code",
   "execution_count": 57,
   "id": "b4bec17c",
   "metadata": {
    "scrolled": false
   },
   "outputs": [
    {
     "data": {
      "application/vnd.plotly.v1+json": {
       "config": {
        "plotlyServerURL": "https://plot.ly"
       },
       "data": [
        {
         "customdata": [
          [
           "Value of Production Index in Building and Construction"
          ],
          [
           "Value of Production Index in Building and Construction"
          ],
          [
           "Value of Production Index in Building and Construction"
          ],
          [
           "Value of Production Index in Building and Construction"
          ],
          [
           "Value of Production Index in Building and Construction"
          ],
          [
           "Value of Production Index in Building and Construction"
          ],
          [
           "Value of Production Index in Building and Construction"
          ],
          [
           "Value of Production Index in Building and Construction"
          ],
          [
           "Value of Production Index in Building and Construction"
          ],
          [
           "Value of Production Index in Building and Construction"
          ],
          [
           "Value of Production Index in Building and Construction"
          ],
          [
           "Value of Production Index in Building and Construction"
          ],
          [
           "Value of Production Index in Building and Construction"
          ],
          [
           "Value of Production Index in Building and Construction"
          ],
          [
           "Value of Production Index in Building and Construction"
          ],
          [
           "Value of Production Index in Building and Construction"
          ],
          [
           "Value of Production Index in Building and Construction"
          ],
          [
           "Value of Production Index in Building and Construction"
          ],
          [
           "Value of Production Index in Building and Construction"
          ],
          [
           "Value of Production Index in Building and Construction"
          ],
          [
           "Value of Production Index in Building and Construction"
          ],
          [
           "Value of Production Index in Building and Construction"
          ],
          [
           "Value of Production Index in Building and Construction"
          ],
          [
           "Value of Production Index in Building and Construction"
          ],
          [
           "Value of Production Index in Building and Construction"
          ],
          [
           "Value of Production Index in Building and Construction"
          ],
          [
           "Value of Production Index in Building and Construction"
          ],
          [
           "Value of Production Index in Building and Construction"
          ],
          [
           "Value of Production Index in Building and Construction"
          ],
          [
           "Value of Production Index in Building and Construction"
          ],
          [
           "Value of Production Index in Building and Construction"
          ],
          [
           "Value of Production Index in Building and Construction"
          ],
          [
           "Value of Production Index in Building and Construction"
          ],
          [
           "Value of Production Index in Building and Construction"
          ],
          [
           "Value of Production Index in Building and Construction"
          ],
          [
           "Value of Production Index in Building and Construction"
          ],
          [
           "Value of Production Index in Building and Construction"
          ],
          [
           "Value of Production Index in Building and Construction"
          ],
          [
           "Value of Production Index in Building and Construction"
          ],
          [
           "Value of Production Index in Building and Construction"
          ],
          [
           "Value of Production Index in Building and Construction"
          ],
          [
           "Value of Production Index in Building and Construction"
          ],
          [
           "Value of Production Index in Building and Construction"
          ],
          [
           "Value of Production Index in Building and Construction"
          ],
          [
           "Value of Production Index in Building and Construction"
          ],
          [
           "Value of Production Index in Building and Construction"
          ],
          [
           "Value of Production Index in Building and Construction"
          ],
          [
           "Value of Production Index in Building and Construction"
          ],
          [
           "Value of Production Index in Building and Construction"
          ],
          [
           "Value of Production Index in Building and Construction"
          ],
          [
           "Value of Production Index in Building and Construction"
          ],
          [
           "Value of Production Index in Building and Construction"
          ],
          [
           "Value of Production Index in Building and Construction"
          ],
          [
           "Value of Production Index in Building and Construction"
          ],
          [
           "Value of Production Index in Building and Construction"
          ],
          [
           "Value of Production Index in Building and Construction"
          ],
          [
           "Value of Production Index in Building and Construction"
          ],
          [
           "Value of Production Index in Building and Construction"
          ],
          [
           "Value of Production Index in Building and Construction"
          ],
          [
           "Value of Production Index in Building and Construction"
          ],
          [
           "Value of Production Index in Building and Construction"
          ],
          [
           "Value of Production Index in Building and Construction"
          ],
          [
           "Value of Production Index in Building and Construction"
          ],
          [
           "Value of Production Index in Building and Construction"
          ],
          [
           "Value of Production Index in Building and Construction"
          ],
          [
           "Value of Production Index in Building and Construction"
          ],
          [
           "Value of Production Index in Building and Construction"
          ],
          [
           "Value of Production Index in Building and Construction"
          ],
          [
           "Value of Production Index in Building and Construction"
          ],
          [
           "Value of Production Index in Building and Construction"
          ],
          [
           "Value of Production Index in Building and Construction"
          ],
          [
           "Value of Production Index in Building and Construction"
          ],
          [
           "Value of Production Index in Building and Construction"
          ],
          [
           "Value of Production Index in Building and Construction"
          ],
          [
           "Value of Production Index in Building and Construction"
          ],
          [
           "Value of Production Index in Building and Construction"
          ],
          [
           "Value of Production Index in Building and Construction"
          ],
          [
           "Value of Production Index in Building and Construction"
          ],
          [
           "Value of Production Index in Building and Construction"
          ],
          [
           "Value of Production Index in Building and Construction"
          ],
          [
           "Value of Production Index in Building and Construction"
          ],
          [
           "Value of Production Index in Building and Construction"
          ],
          [
           "Value of Production Index in Building and Construction"
          ],
          [
           "Value of Production Index in Building and Construction"
          ],
          [
           "Value of Production Index in Building and Construction"
          ],
          [
           "Value of Production Index in Building and Construction"
          ],
          [
           "Value of Production Index in Building and Construction"
          ],
          [
           "Value of Production Index in Building and Construction"
          ],
          [
           "Value of Production Index in Building and Construction"
          ],
          [
           "Value of Production Index in Building and Construction"
          ],
          [
           "Value of Production Index in Building and Construction"
          ],
          [
           "Value of Production Index in Building and Construction"
          ],
          [
           "Value of Production Index in Building and Construction"
          ],
          [
           "Value of Production Index in Building and Construction"
          ],
          [
           "Value of Production Index in Building and Construction"
          ],
          [
           "Value of Production Index in Building and Construction"
          ],
          [
           "Value of Production Index in Building and Construction"
          ],
          [
           "Value of Production Index in Building and Construction"
          ],
          [
           "Value of Production Index in Building and Construction"
          ],
          [
           "Value of Production Index in Building and Construction"
          ],
          [
           "Value of Production Index in Building and Construction"
          ],
          [
           "Value of Production Index in Building and Construction"
          ],
          [
           "Value of Production Index in Building and Construction"
          ],
          [
           "Value of Production Index in Building and Construction"
          ],
          [
           "Value of Production Index in Building and Construction"
          ],
          [
           "Value of Production Index in Building and Construction"
          ],
          [
           "Value of Production Index in Building and Construction"
          ],
          [
           "Value of Production Index in Building and Construction"
          ],
          [
           "Value of Production Index in Building and Construction"
          ],
          [
           "Value of Production Index in Building and Construction"
          ],
          [
           "Value of Production Index in Building and Construction"
          ],
          [
           "Value of Production Index in Building and Construction"
          ],
          [
           "Value of Production Index in Building and Construction"
          ],
          [
           "Value of Production Index in Building and Construction"
          ],
          [
           "Value of Production Index in Building and Construction"
          ],
          [
           "Value of Production Index in Building and Construction"
          ],
          [
           "Value of Production Index in Building and Construction"
          ],
          [
           "Value of Production Index in Building and Construction"
          ],
          [
           "Value of Production Index in Building and Construction"
          ],
          [
           "Value of Production Index in Building and Construction"
          ],
          [
           "Value of Production Index in Building and Construction"
          ],
          [
           "Value of Production Index in Building and Construction"
          ],
          [
           "Value of Production Index in Building and Construction"
          ],
          [
           "Value of Production Index in Building and Construction"
          ],
          [
           "Value of Production Index in Building and Construction"
          ],
          [
           "Value of Production Index in Building and Construction"
          ],
          [
           "Value of Production Index in Building and Construction"
          ],
          [
           "Value of Production Index in Building and Construction"
          ],
          [
           "Value of Production Index in Building and Construction"
          ],
          [
           "Value of Production Index in Building and Construction"
          ],
          [
           "Value of Production Index in Building and Construction"
          ],
          [
           "Value of Production Index in Building and Construction"
          ],
          [
           "Value of Production Index in Building and Construction"
          ],
          [
           "Value of Production Index in Building and Construction"
          ],
          [
           "Value of Production Index in Building and Construction"
          ],
          [
           "Value of Production Index in Building and Construction"
          ],
          [
           "Value of Production Index in Building and Construction"
          ],
          [
           "Value of Production Index in Building and Construction"
          ],
          [
           "Value of Production Index in Building and Construction"
          ],
          [
           "Value of Production Index in Building and Construction"
          ],
          [
           "Value of Production Index in Building and Construction"
          ],
          [
           "Value of Production Index in Building and Construction"
          ],
          [
           "Value of Production Index in Building and Construction"
          ],
          [
           "Value of Production Index in Building and Construction"
          ],
          [
           "Value of Production Index in Building and Construction"
          ],
          [
           "Value of Production Index in Building and Construction"
          ],
          [
           "Value of Production Index in Building and Construction"
          ],
          [
           "Value of Production Index in Building and Construction"
          ],
          [
           "Value of Production Index in Building and Construction"
          ],
          [
           "Value of Production Index in Building and Construction"
          ],
          [
           "Value of Production Index in Building and Construction"
          ],
          [
           "Value of Production Index in Building and Construction"
          ],
          [
           "Value of Production Index in Building and Construction"
          ],
          [
           "Value of Production Index in Building and Construction"
          ],
          [
           "Value of Production Index in Building and Construction"
          ],
          [
           "Value of Production Index in Building and Construction"
          ],
          [
           "Value of Production Index in Building and Construction"
          ],
          [
           "Value of Production Index in Building and Construction"
          ],
          [
           "Value of Production Index in Building and Construction"
          ],
          [
           "Value of Production Index in Building and Construction"
          ],
          [
           "Value of Production Index in Building and Construction"
          ],
          [
           "Value of Production Index in Building and Construction"
          ],
          [
           "Value of Production Index in Building and Construction"
          ],
          [
           "Value of Production Index in Building and Construction"
          ],
          [
           "Value of Production Index in Building and Construction"
          ],
          [
           "Value of Production Index in Building and Construction"
          ],
          [
           "Value of Production Index in Building and Construction"
          ],
          [
           "Value of Production Index in Building and Construction"
          ],
          [
           "Value of Production Index in Building and Construction"
          ],
          [
           "Value of Production Index in Building and Construction"
          ],
          [
           "Value of Production Index in Building and Construction"
          ],
          [
           "Value of Production Index in Building and Construction"
          ],
          [
           "Value of Production Index in Building and Construction"
          ],
          [
           "Value of Production Index in Building and Construction"
          ],
          [
           "Value of Production Index in Building and Construction"
          ],
          [
           "Value of Production Index in Building and Construction"
          ],
          [
           "Value of Production Index in Building and Construction"
          ],
          [
           "Value of Production Index in Building and Construction"
          ],
          [
           "Value of Production Index in Building and Construction"
          ],
          [
           "Value of Production Index in Building and Construction"
          ],
          [
           "Value of Production Index in Building and Construction"
          ],
          [
           "Value of Production Index in Building and Construction"
          ],
          [
           "Value of Production Index in Building and Construction"
          ],
          [
           "Value of Production Index in Building and Construction"
          ],
          [
           "Value of Production Index in Building and Construction"
          ],
          [
           "Value of Production Index in Building and Construction"
          ],
          [
           "Value of Production Index in Building and Construction"
          ],
          [
           "Value of Production Index in Building and Construction"
          ],
          [
           "Value of Production Index in Building and Construction"
          ],
          [
           "Value of Production Index in Building and Construction"
          ],
          [
           "Value of Production Index in Building and Construction"
          ],
          [
           "Value of Production Index in Building and Construction"
          ],
          [
           "Value of Production Index in Building and Construction"
          ],
          [
           "Value of Production Index in Building and Construction"
          ],
          [
           "Value of Production Index in Building and Construction"
          ],
          [
           "Value of Production Index in Building and Construction"
          ],
          [
           "Value of Production Index in Building and Construction"
          ],
          [
           "Value of Production Index in Building and Construction"
          ],
          [
           "Value of Production Index in Building and Construction"
          ],
          [
           "Value of Production Index in Building and Construction"
          ],
          [
           "Value of Production Index in Building and Construction"
          ],
          [
           "Value of Production Index in Building and Construction"
          ],
          [
           "Value of Production Index in Building and Construction"
          ],
          [
           "Value of Production Index in Building and Construction"
          ],
          [
           "Value of Production Index in Building and Construction"
          ],
          [
           "Value of Production Index in Building and Construction"
          ],
          [
           "Value of Production Index in Building and Construction"
          ],
          [
           "Value of Production Index in Building and Construction"
          ],
          [
           "Value of Production Index in Building and Construction"
          ],
          [
           "Value of Production Index in Building and Construction"
          ],
          [
           "Value of Production Index in Building and Construction"
          ],
          [
           "Value of Production Index in Building and Construction"
          ],
          [
           "Value of Production Index in Building and Construction"
          ],
          [
           "Value of Production Index in Building and Construction"
          ],
          [
           "Value of Production Index in Building and Construction"
          ],
          [
           "Value of Production Index in Building and Construction"
          ],
          [
           "Value of Production Index in Building and Construction"
          ],
          [
           "Value of Production Index in Building and Construction"
          ],
          [
           "Value of Production Index in Building and Construction"
          ],
          [
           "Value of Production Index in Building and Construction"
          ],
          [
           "Value of Production Index in Building and Construction"
          ],
          [
           "Value of Production Index in Building and Construction"
          ],
          [
           "Value of Production Index in Building and Construction"
          ],
          [
           "Value of Production Index in Building and Construction"
          ],
          [
           "Value of Production Index in Building and Construction"
          ],
          [
           "Value of Production Index in Building and Construction"
          ],
          [
           "Value of Production Index in Building and Construction"
          ],
          [
           "Value of Production Index in Building and Construction"
          ],
          [
           "Value of Production Index in Building and Construction"
          ],
          [
           "Value of Production Index in Building and Construction"
          ],
          [
           "Value of Production Index in Building and Construction"
          ],
          [
           "Value of Production Index in Building and Construction"
          ],
          [
           "Value of Production Index in Building and Construction"
          ],
          [
           "Value of Production Index in Building and Construction"
          ],
          [
           "Value of Production Index in Building and Construction"
          ],
          [
           "Value of Production Index in Building and Construction"
          ],
          [
           "Value of Production Index in Building and Construction"
          ],
          [
           "Value of Production Index in Building and Construction"
          ],
          [
           "Value of Production Index in Building and Construction"
          ],
          [
           "Value of Production Index in Building and Construction"
          ],
          [
           "Value of Production Index in Building and Construction"
          ],
          [
           "Value of Production Index in Building and Construction"
          ],
          [
           "Value of Production Index in Building and Construction"
          ],
          [
           "Value of Production Index in Building and Construction"
          ],
          [
           "Value of Production Index in Building and Construction"
          ],
          [
           "Value of Production Index in Building and Construction"
          ],
          [
           "Value of Production Index in Building and Construction"
          ],
          [
           "Value of Production Index in Building and Construction"
          ],
          [
           "Value of Production Index in Building and Construction"
          ],
          [
           "Value of Production Index in Building and Construction"
          ],
          [
           "Value of Production Index in Building and Construction"
          ],
          [
           "Value of Production Index in Building and Construction"
          ],
          [
           "Value of Production Index in Building and Construction"
          ],
          [
           "Value of Production Index in Building and Construction"
          ],
          [
           "Value of Production Index in Building and Construction"
          ],
          [
           "Value of Production Index in Building and Construction"
          ],
          [
           "Value of Production Index in Building and Construction"
          ],
          [
           "Value of Production Index in Building and Construction"
          ],
          [
           "Value of Production Index in Building and Construction"
          ],
          [
           "Value of Production Index in Building and Construction"
          ],
          [
           "Value of Production Index in Building and Construction"
          ],
          [
           "Value of Production Index in Building and Construction"
          ],
          [
           "Value of Production Index in Building and Construction"
          ],
          [
           "Value of Production Index in Building and Construction"
          ],
          [
           "Value of Production Index in Building and Construction"
          ],
          [
           "Value of Production Index in Building and Construction"
          ],
          [
           "Value of Production Index in Building and Construction"
          ],
          [
           "Value of Production Index in Building and Construction"
          ],
          [
           "Value of Production Index in Building and Construction"
          ],
          [
           "Value of Production Index in Building and Construction"
          ],
          [
           "Value of Production Index in Building and Construction"
          ],
          [
           "Value of Production Index in Building and Construction"
          ],
          [
           "Value of Production Index in Building and Construction"
          ],
          [
           "Value of Production Index in Building and Construction"
          ],
          [
           "Value of Production Index in Building and Construction"
          ],
          [
           "Value of Production Index in Building and Construction"
          ],
          [
           "Value of Production Index in Building and Construction"
          ],
          [
           "Value of Production Index in Building and Construction"
          ],
          [
           "Value of Production Index in Building and Construction"
          ],
          [
           "Value of Production Index in Building and Construction"
          ],
          [
           "Value of Production Index in Building and Construction"
          ],
          [
           "Value of Production Index in Building and Construction"
          ],
          [
           "Value of Production Index in Building and Construction"
          ],
          [
           "Value of Production Index in Building and Construction"
          ],
          [
           "Value of Production Index in Building and Construction"
          ],
          [
           "Value of Production Index in Building and Construction"
          ],
          [
           "Value of Production Index in Building and Construction"
          ],
          [
           "Value of Production Index in Building and Construction"
          ],
          [
           "Value of Production Index in Building and Construction"
          ],
          [
           "Value of Production Index in Building and Construction"
          ],
          [
           "Value of Production Index in Building and Construction"
          ],
          [
           "Value of Production Index in Building and Construction"
          ],
          [
           "Value of Production Index in Building and Construction"
          ],
          [
           "Value of Production Index in Building and Construction"
          ],
          [
           "Value of Production Index in Building and Construction"
          ],
          [
           "Value of Production Index in Building and Construction"
          ],
          [
           "Value of Production Index in Building and Construction"
          ],
          [
           "Value of Production Index in Building and Construction"
          ],
          [
           "Value of Production Index in Building and Construction"
          ],
          [
           "Value of Production Index in Building and Construction"
          ],
          [
           "Value of Production Index in Building and Construction"
          ],
          [
           "Value of Production Index in Building and Construction"
          ],
          [
           "Value of Production Index in Building and Construction"
          ],
          [
           "Value of Production Index in Building and Construction"
          ],
          [
           "Value of Production Index in Building and Construction"
          ],
          [
           "Value of Production Index in Building and Construction"
          ],
          [
           "Value of Production Index in Building and Construction"
          ],
          [
           "Value of Production Index in Building and Construction"
          ],
          [
           "Value of Production Index in Building and Construction"
          ],
          [
           "Value of Production Index in Building and Construction"
          ],
          [
           "Value of Production Index in Building and Construction"
          ],
          [
           "Value of Production Index in Building and Construction"
          ],
          [
           "Value of Production Index in Building and Construction"
          ],
          [
           "Value of Production Index in Building and Construction"
          ],
          [
           "Value of Production Index in Building and Construction"
          ],
          [
           "Value of Production Index in Building and Construction"
          ],
          [
           "Value of Production Index in Building and Construction"
          ],
          [
           "Value of Production Index in Building and Construction"
          ],
          [
           "Value of Production Index in Building and Construction"
          ],
          [
           "Value of Production Index in Building and Construction"
          ],
          [
           "Value of Production Index in Building and Construction"
          ],
          [
           "Value of Production Index in Building and Construction"
          ],
          [
           "Value of Production Index in Building and Construction"
          ],
          [
           "Value of Production Index in Building and Construction"
          ],
          [
           "Value of Production Index in Building and Construction"
          ],
          [
           "Value of Production Index in Building and Construction"
          ],
          [
           "Value of Production Index in Building and Construction"
          ],
          [
           "Value of Production Index in Building and Construction"
          ],
          [
           "Value of Production Index in Building and Construction"
          ],
          [
           "Value of Production Index in Building and Construction"
          ],
          [
           "Value of Production Index in Building and Construction"
          ],
          [
           "Value of Production Index in Building and Construction"
          ],
          [
           "Value of Production Index in Building and Construction"
          ],
          [
           "Value of Production Index in Building and Construction"
          ],
          [
           "Value of Production Index in Building and Construction"
          ],
          [
           "Value of Production Index in Building and Construction"
          ],
          [
           "Value of Production Index in Building and Construction"
          ],
          [
           "Value of Production Index in Building and Construction"
          ],
          [
           "Value of Production Index in Building and Construction"
          ],
          [
           "Value of Production Index in Building and Construction"
          ],
          [
           "Value of Production Index in Building and Construction"
          ],
          [
           "Value of Production Index in Building and Construction"
          ],
          [
           "Value of Production Index in Building and Construction"
          ],
          [
           "Value of Production Index in Building and Construction"
          ],
          [
           "Value of Production Index in Building and Construction"
          ],
          [
           "Value of Production Index in Building and Construction"
          ],
          [
           "Value of Production Index in Building and Construction"
          ],
          [
           "Value of Production Index in Building and Construction"
          ],
          [
           "Value of Production Index in Building and Construction"
          ],
          [
           "Value of Production Index in Building and Construction"
          ],
          [
           "Value of Production Index in Building and Construction"
          ],
          [
           "Value of Production Index in Building and Construction"
          ],
          [
           "Value of Production Index in Building and Construction"
          ],
          [
           "Value of Production Index in Building and Construction"
          ],
          [
           "Value of Production Index in Building and Construction"
          ],
          [
           "Value of Production Index in Building and Construction"
          ],
          [
           "Value of Production Index in Building and Construction"
          ],
          [
           "Value of Production Index in Building and Construction"
          ],
          [
           "Value of Production Index in Building and Construction"
          ],
          [
           "Value of Production Index in Building and Construction"
          ],
          [
           "Value of Production Index in Building and Construction"
          ],
          [
           "Value of Production Index in Building and Construction"
          ],
          [
           "Value of Production Index in Building and Construction"
          ],
          [
           "Value of Production Index in Building and Construction"
          ],
          [
           "Value of Production Index in Building and Construction"
          ],
          [
           "Value of Production Index in Building and Construction"
          ],
          [
           "Value of Production Index in Building and Construction"
          ],
          [
           "Value of Production Index in Building and Construction"
          ],
          [
           "Value of Production Index in Building and Construction"
          ],
          [
           "Value of Production Index in Building and Construction"
          ],
          [
           "Value of Production Index in Building and Construction"
          ],
          [
           "Value of Production Index in Building and Construction"
          ],
          [
           "Value of Production Index in Building and Construction"
          ],
          [
           "Value of Production Index in Building and Construction"
          ],
          [
           "Value of Production Index in Building and Construction"
          ],
          [
           "Value of Production Index in Building and Construction"
          ],
          [
           "Value of Production Index in Building and Construction"
          ],
          [
           "Value of Production Index in Building and Construction"
          ],
          [
           "Value of Production Index in Building and Construction"
          ],
          [
           "Value of Production Index in Building and Construction"
          ],
          [
           "Value of Production Index in Building and Construction"
          ],
          [
           "Value of Production Index in Building and Construction"
          ],
          [
           "Value of Production Index in Building and Construction"
          ],
          [
           "Value of Production Index in Building and Construction"
          ],
          [
           "Value of Production Index in Building and Construction"
          ],
          [
           "Value of Production Index in Building and Construction"
          ],
          [
           "Value of Production Index in Building and Construction"
          ],
          [
           "Value of Production Index in Building and Construction"
          ],
          [
           "Value of Production Index in Building and Construction"
          ],
          [
           "Value of Production Index in Building and Construction"
          ],
          [
           "Value of Production Index in Building and Construction"
          ],
          [
           "Value of Production Index in Building and Construction"
          ],
          [
           "Value of Production Index in Building and Construction"
          ],
          [
           "Value of Production Index in Building and Construction"
          ],
          [
           "Value of Production Index in Building and Construction"
          ],
          [
           "Value of Production Index in Building and Construction"
          ],
          [
           "Value of Production Index in Building and Construction"
          ],
          [
           "Value of Production Index in Building and Construction"
          ],
          [
           "Value of Production Index in Building and Construction"
          ],
          [
           "Value of Production Index in Building and Construction"
          ],
          [
           "Value of Production Index in Building and Construction"
          ],
          [
           "Value of Production Index in Building and Construction"
          ],
          [
           "Value of Production Index in Building and Construction"
          ],
          [
           "Value of Production Index in Building and Construction"
          ],
          [
           "Value of Production Index in Building and Construction"
          ],
          [
           "Value of Production Index in Building and Construction"
          ],
          [
           "Value of Production Index in Building and Construction"
          ],
          [
           "Value of Production Index in Building and Construction"
          ],
          [
           "Value of Production Index in Building and Construction"
          ],
          [
           "Value of Production Index in Building and Construction"
          ],
          [
           "Value of Production Index in Building and Construction"
          ],
          [
           "Value of Production Index in Building and Construction"
          ],
          [
           "Value of Production Index in Building and Construction"
          ],
          [
           "Value of Production Index in Building and Construction"
          ],
          [
           "Value of Production Index in Building and Construction"
          ],
          [
           "Value of Production Index in Building and Construction"
          ],
          [
           "Value of Production Index in Building and Construction"
          ],
          [
           "Value of Production Index in Building and Construction"
          ],
          [
           "Value of Production Index in Building and Construction"
          ],
          [
           "Value of Production Index in Building and Construction"
          ],
          [
           "Value of Production Index in Building and Construction"
          ],
          [
           "Value of Production Index in Building and Construction"
          ],
          [
           "Value of Production Index in Building and Construction"
          ],
          [
           "Value of Production Index in Building and Construction"
          ],
          [
           "Value of Production Index in Building and Construction"
          ],
          [
           "Value of Production Index in Building and Construction"
          ],
          [
           "Value of Production Index in Building and Construction"
          ],
          [
           "Value of Production Index in Building and Construction"
          ],
          [
           "Value of Production Index in Building and Construction"
          ],
          [
           "Value of Production Index in Building and Construction"
          ],
          [
           "Value of Production Index in Building and Construction"
          ],
          [
           "Value of Production Index in Building and Construction"
          ],
          [
           "Value of Production Index in Building and Construction"
          ],
          [
           "Value of Production Index in Building and Construction"
          ],
          [
           "Value of Production Index in Building and Construction"
          ],
          [
           "Value of Production Index in Building and Construction"
          ],
          [
           "Value of Production Index in Building and Construction"
          ],
          [
           "Value of Production Index in Building and Construction"
          ],
          [
           "Value of Production Index in Building and Construction"
          ],
          [
           "Value of Production Index in Building and Construction"
          ],
          [
           "Value of Production Index in Building and Construction"
          ],
          [
           "Value of Production Index in Building and Construction"
          ],
          [
           "Value of Production Index in Building and Construction"
          ],
          [
           "Value of Production Index in Building and Construction"
          ],
          [
           "Value of Production Index in Building and Construction"
          ],
          [
           "Value of Production Index in Building and Construction"
          ],
          [
           "Value of Production Index in Building and Construction"
          ],
          [
           "Value of Production Index in Building and Construction"
          ],
          [
           "Value of Production Index in Building and Construction"
          ],
          [
           "Value of Production Index in Building and Construction"
          ],
          [
           "Value of Production Index in Building and Construction"
          ],
          [
           "Value of Production Index in Building and Construction"
          ],
          [
           "Value of Production Index in Building and Construction"
          ],
          [
           "Value of Production Index in Building and Construction"
          ],
          [
           "Value of Production Index in Building and Construction"
          ],
          [
           "Value of Production Index in Building and Construction"
          ],
          [
           "Value of Production Index in Building and Construction"
          ],
          [
           "Value of Production Index in Building and Construction"
          ],
          [
           "Value of Production Index in Building and Construction"
          ],
          [
           "Value of Production Index in Building and Construction"
          ]
         ],
         "hovertemplate": "STATISTIC=BEQ04C01<br>Quarter=%{x}<br>VALUE=%{y}<br>Statistic Label=%{customdata[0]}<extra></extra>",
         "legendgroup": "BEQ04C01",
         "line": {
          "color": "#636efa",
          "dash": "solid"
         },
         "marker": {
          "symbol": "circle"
         },
         "mode": "lines",
         "name": "BEQ04C01",
         "showlegend": true,
         "type": "scattergl",
         "x": [
          "2000Q1",
          "2000Q1",
          "2000Q1",
          "2000Q1",
          "2000Q1",
          "2000Q2",
          "2000Q2",
          "2000Q2",
          "2000Q2",
          "2000Q2",
          "2000Q3",
          "2000Q3",
          "2000Q3",
          "2000Q3",
          "2000Q3",
          "2000Q4",
          "2000Q4",
          "2000Q4",
          "2000Q4",
          "2000Q4",
          "2001Q1",
          "2001Q1",
          "2001Q1",
          "2001Q1",
          "2001Q1",
          "2001Q2",
          "2001Q2",
          "2001Q2",
          "2001Q2",
          "2001Q2",
          "2001Q3",
          "2001Q3",
          "2001Q3",
          "2001Q3",
          "2001Q3",
          "2001Q4",
          "2001Q4",
          "2001Q4",
          "2001Q4",
          "2001Q4",
          "2002Q1",
          "2002Q1",
          "2002Q1",
          "2002Q1",
          "2002Q1",
          "2002Q2",
          "2002Q2",
          "2002Q2",
          "2002Q2",
          "2002Q2",
          "2002Q3",
          "2002Q3",
          "2002Q3",
          "2002Q3",
          "2002Q3",
          "2002Q4",
          "2002Q4",
          "2002Q4",
          "2002Q4",
          "2002Q4",
          "2003Q1",
          "2003Q1",
          "2003Q1",
          "2003Q1",
          "2003Q1",
          "2003Q2",
          "2003Q2",
          "2003Q2",
          "2003Q2",
          "2003Q2",
          "2003Q3",
          "2003Q3",
          "2003Q3",
          "2003Q3",
          "2003Q3",
          "2003Q4",
          "2003Q4",
          "2003Q4",
          "2003Q4",
          "2003Q4",
          "2004Q1",
          "2004Q1",
          "2004Q1",
          "2004Q1",
          "2004Q1",
          "2004Q2",
          "2004Q2",
          "2004Q2",
          "2004Q2",
          "2004Q2",
          "2004Q3",
          "2004Q3",
          "2004Q3",
          "2004Q3",
          "2004Q3",
          "2004Q4",
          "2004Q4",
          "2004Q4",
          "2004Q4",
          "2004Q4",
          "2005Q1",
          "2005Q1",
          "2005Q1",
          "2005Q1",
          "2005Q1",
          "2005Q2",
          "2005Q2",
          "2005Q2",
          "2005Q2",
          "2005Q2",
          "2005Q3",
          "2005Q3",
          "2005Q3",
          "2005Q3",
          "2005Q3",
          "2005Q4",
          "2005Q4",
          "2005Q4",
          "2005Q4",
          "2005Q4",
          "2006Q1",
          "2006Q1",
          "2006Q1",
          "2006Q1",
          "2006Q1",
          "2006Q2",
          "2006Q2",
          "2006Q2",
          "2006Q2",
          "2006Q2",
          "2006Q3",
          "2006Q3",
          "2006Q3",
          "2006Q3",
          "2006Q3",
          "2006Q4",
          "2006Q4",
          "2006Q4",
          "2006Q4",
          "2006Q4",
          "2007Q1",
          "2007Q1",
          "2007Q1",
          "2007Q1",
          "2007Q1",
          "2007Q2",
          "2007Q2",
          "2007Q2",
          "2007Q2",
          "2007Q2",
          "2007Q3",
          "2007Q3",
          "2007Q3",
          "2007Q3",
          "2007Q3",
          "2007Q4",
          "2007Q4",
          "2007Q4",
          "2007Q4",
          "2007Q4",
          "2008Q1",
          "2008Q1",
          "2008Q1",
          "2008Q1",
          "2008Q1",
          "2008Q2",
          "2008Q2",
          "2008Q2",
          "2008Q2",
          "2008Q2",
          "2008Q3",
          "2008Q3",
          "2008Q3",
          "2008Q3",
          "2008Q3",
          "2008Q4",
          "2008Q4",
          "2008Q4",
          "2008Q4",
          "2008Q4",
          "2009Q1",
          "2009Q1",
          "2009Q1",
          "2009Q1",
          "2009Q1",
          "2009Q2",
          "2009Q2",
          "2009Q2",
          "2009Q2",
          "2009Q2",
          "2009Q3",
          "2009Q3",
          "2009Q3",
          "2009Q3",
          "2009Q3",
          "2009Q4",
          "2009Q4",
          "2009Q4",
          "2009Q4",
          "2009Q4",
          "2010Q1",
          "2010Q1",
          "2010Q1",
          "2010Q1",
          "2010Q1",
          "2010Q2",
          "2010Q2",
          "2010Q2",
          "2010Q2",
          "2010Q2",
          "2010Q3",
          "2010Q3",
          "2010Q3",
          "2010Q3",
          "2010Q3",
          "2010Q4",
          "2010Q4",
          "2010Q4",
          "2010Q4",
          "2010Q4",
          "2011Q1",
          "2011Q1",
          "2011Q1",
          "2011Q1",
          "2011Q1",
          "2011Q2",
          "2011Q2",
          "2011Q2",
          "2011Q2",
          "2011Q2",
          "2011Q3",
          "2011Q3",
          "2011Q3",
          "2011Q3",
          "2011Q3",
          "2011Q4",
          "2011Q4",
          "2011Q4",
          "2011Q4",
          "2011Q4",
          "2012Q1",
          "2012Q1",
          "2012Q1",
          "2012Q1",
          "2012Q1",
          "2012Q2",
          "2012Q2",
          "2012Q2",
          "2012Q2",
          "2012Q2",
          "2012Q3",
          "2012Q3",
          "2012Q3",
          "2012Q3",
          "2012Q3",
          "2012Q4",
          "2012Q4",
          "2012Q4",
          "2012Q4",
          "2012Q4",
          "2013Q1",
          "2013Q1",
          "2013Q1",
          "2013Q1",
          "2013Q1",
          "2013Q2",
          "2013Q2",
          "2013Q2",
          "2013Q2",
          "2013Q2",
          "2013Q3",
          "2013Q3",
          "2013Q3",
          "2013Q3",
          "2013Q3",
          "2013Q4",
          "2013Q4",
          "2013Q4",
          "2013Q4",
          "2013Q4",
          "2014Q1",
          "2014Q1",
          "2014Q1",
          "2014Q1",
          "2014Q1",
          "2014Q2",
          "2014Q2",
          "2014Q2",
          "2014Q2",
          "2014Q2",
          "2014Q3",
          "2014Q3",
          "2014Q3",
          "2014Q3",
          "2014Q3",
          "2014Q4",
          "2014Q4",
          "2014Q4",
          "2014Q4",
          "2014Q4",
          "2015Q1",
          "2015Q1",
          "2015Q1",
          "2015Q1",
          "2015Q1",
          "2015Q2",
          "2015Q2",
          "2015Q2",
          "2015Q2",
          "2015Q2",
          "2015Q3",
          "2015Q3",
          "2015Q3",
          "2015Q3",
          "2015Q3",
          "2015Q4",
          "2015Q4",
          "2015Q4",
          "2015Q4",
          "2015Q4",
          "2016Q1",
          "2016Q1",
          "2016Q1",
          "2016Q1",
          "2016Q1",
          "2016Q2",
          "2016Q2",
          "2016Q2",
          "2016Q2",
          "2016Q2",
          "2016Q3",
          "2016Q3",
          "2016Q3",
          "2016Q3",
          "2016Q3",
          "2016Q4",
          "2016Q4",
          "2016Q4",
          "2016Q4",
          "2016Q4",
          "2017Q1",
          "2017Q1",
          "2017Q1",
          "2017Q1",
          "2017Q1",
          "2017Q2",
          "2017Q2",
          "2017Q2",
          "2017Q2",
          "2017Q2",
          "2017Q3",
          "2017Q3",
          "2017Q3",
          "2017Q3",
          "2017Q3",
          "2017Q4",
          "2017Q4",
          "2017Q4",
          "2017Q4",
          "2017Q4",
          "2018Q1",
          "2018Q1",
          "2018Q1",
          "2018Q1",
          "2018Q1",
          "2018Q2",
          "2018Q2",
          "2018Q2",
          "2018Q2",
          "2018Q2",
          "2018Q3",
          "2018Q3",
          "2018Q3",
          "2018Q3",
          "2018Q3",
          "2018Q4",
          "2018Q4",
          "2018Q4",
          "2018Q4",
          "2018Q4",
          "2019Q1",
          "2019Q1",
          "2019Q1",
          "2019Q1",
          "2019Q1",
          "2019Q2",
          "2019Q2",
          "2019Q2",
          "2019Q2",
          "2019Q2",
          "2019Q3",
          "2019Q3",
          "2019Q3",
          "2019Q3",
          "2019Q3",
          "2019Q4",
          "2019Q4",
          "2019Q4",
          "2019Q4",
          "2019Q4",
          "2020Q1",
          "2020Q1",
          "2020Q1",
          "2020Q1",
          "2020Q1",
          "2020Q2",
          "2020Q2",
          "2020Q2",
          "2020Q2",
          "2020Q2",
          "2020Q3",
          "2020Q3",
          "2020Q3",
          "2020Q3",
          "2020Q3",
          "2020Q4",
          "2020Q4",
          "2020Q4",
          "2020Q4",
          "2020Q4",
          "2021Q1",
          "2021Q1",
          "2021Q1",
          "2021Q1",
          "2021Q1",
          "2021Q2",
          "2021Q2",
          "2021Q2",
          "2021Q2",
          "2021Q2",
          "2021Q3",
          "2021Q3",
          "2021Q3",
          "2021Q3",
          "2021Q3",
          "2021Q4",
          "2021Q4",
          "2021Q4",
          "2021Q4",
          "2021Q4",
          "2022Q1",
          "2022Q1",
          "2022Q1",
          "2022Q1",
          "2022Q1",
          "2022Q2",
          "2022Q2",
          "2022Q2",
          "2022Q2",
          "2022Q2",
          "2022Q3",
          "2022Q3",
          "2022Q3",
          "2022Q3",
          "2022Q3",
          "2022Q4",
          "2022Q4",
          "2022Q4",
          "2022Q4",
          "2022Q4"
         ],
         "xaxis": "x",
         "y": [
          143.514977427572,
          182.795802254117,
          279.281551222912,
          115.359508444902,
          60.4388869219421,
          153.542078417604,
          196.823792013697,
          306.710989289448,
          119.799136019842,
          62.7648863353802,
          162.663797696119,
          209.384591799189,
          330.40004943782,
          124.415782182151,
          65.1836289177972,
          163.688031688225,
          210.372835031086,
          330.40004943782,
          126.150564896943,
          66.0925122664424,
          167.381045922143,
          209.547935300614,
          332.224641008193,
          123.359796621535,
          75.9941511641423,
          178.852154835777,
          226.467716398974,
          369.617890714295,
          125.543338713115,
          77.3392929928335,
          178.185832197097,
          224.606755902268,
          362.42688107151,
          127.568453462809,
          78.5868378298977,
          181.92127049663,
          229.999077901212,
          373.932496437626,
          128.567234462583,
          79.2021235659531,
          174.135875231309,
          207.80954408193,
          339.824989817887,
          114.71507074804,
          94.451655957043,
          180.108692642037,
          217.042843489989,
          361.749182880295,
          114.789324013223,
          94.5127930387482,
          199.692913988463,
          245.742968606831,
          425.955747809799,
          117.920335723626,
          97.0907388918396,
          200.871352064674,
          249.24659372488,
          438.483857819477,
          114.851201734208,
          94.5637405538192,
          186.121145298732,
          225.524788451493,
          397.631705478083,
          103.272660239551,
          95.8011121745837,
          198.679281687862,
          244.291054128083,
          440.777215369425,
          104.464456329272,
          96.9066843851203,
          226.177970745465,
          284.322183247792,
          530.373583741029,
          108.801722948082,
          100.930159494411,
          233.092929640193,
          294.353224950941,
          552.741267802627,
          109.949983021085,
          101.995345488046,
          237.945161786829,
          303.213988887259,
          580.547758405582,
          105.748305562215,
          94.609819613647,
          266.74987313364,
          337.612190719066,
          650.115455006707,
          115.122157470609,
          111.17197785322,
          254.147598460311,
          316.835449667276,
          589.428221946443,
          122.667284900791,
          116.605642020413,
          252.436904943265,
          318.618921153532,
          600.41079346222,
          117.935244566517,
          107.150768569467,
          256.292300915476,
          326.56879484208,
          627.890235347781,
          112.035877720033,
          101.96056312197,
          298.841241058275,
          381.876433349431,
          741.81644907467,
          125.642898845117,
          116.471132731865,
          303.371672884521,
          376.464446188823,
          717.866952945904,
          133.367965081126,
          143.034964477256,
          305.259103072285,
          379.558888312479,
          706.414467117522,
          146.740848628722,
          142.259438481434,
          304.241934942148,
          379.551955020777,
          711.76729062178,
          142.942143280672,
          139.000768982884,
          315.439027601418,
          394.636630957154,
          748.704594518197,
          142.504155010533,
          141.645920445715,
          309.607800531758,
          381.886279346242,
          720.491580631903,
          140.746110751338,
          151.104293727372,
          349.938187826664,
          433.067359745989,
          825.71675499562,
          153.480020222558,
          167.609561307026,
          284.130736561637,
          342.700078344427,
          617.198391741905,
          147.076171254237,
          155.853126403735,
          308.98813604709,
          375.233997717191,
          688.443367339795,
          152.08809422491,
          163.837064446969,
          283.122152704952,
          336.740515991284,
          588.173909703037,
          157.458895300202,
          165.800465424272,
          284.373266080607,
          336.287131664938,
          585.846847290155,
          158.332948048061,
          170.831234012442,
          227.800645388296,
          262.611494736378,
          418.999056415455,
          150.879658557711,
          151.846274296517,
          227.673055198567,
          255.503778324213,
          395.349127130655,
          155.504473883501,
          167.171189286002,
          207.237889411472,
          227.235857836171,
          329.368678941908,
          154.034357431686,
          163.976966079514,
          186.820357868685,
          202.170099428813,
          261.168522398431,
          159.588803888187,
          153.750316058636,
          143.684676102336,
          148.921430182213,
          177.313545762535,
          128.214679470104,
          132.792865673888,
          136.117361812248,
          135.357240212555,
          153.980466787289,
          121.618084528284,
          138.464929369481,
          129.637984455345,
          123.875187321564,
          129.547519130481,
          119.346085055654,
          143.029208091589,
          118.677200390698,
          112.72256142301,
          119.582953654087,
          107.399427899243,
          132.439608977018,
          90.6815531094466,
          83.6256971493847,
          87.9644974356549,
          80.1403111429848,
          106.882672411855,
          95.7841114643568,
          83.9025720275154,
          92.9740258150884,
          76.6154152093138,
          123.065597793175,
          93.5634918771807,
          92.4481749652974,
          95.4041895680968,
          90.0735895380969,
          96.1243976626298,
          95.2364192291285,
          93.0070009201357,
          91.9859991401427,
          93.8271781769127,
          100.355439827537,
          68.4892748073368,
          69.5878191202959,
          65.5545782165471,
          72.8277473213814,
          65.9668809866619,
          70.7201661379171,
          70.0833455410036,
          61.8933193676055,
          76.6624459220788,
          72.182385112231,
          78.9799454356307,
          76.2114964031669,
          62.9947715051189,
          86.8285760036874,
          85.3366473455703,
          86.7348575271,
          81.9592220437813,
          71.8172875639285,
          90.1063028453014,
          97.7003081610137,
          67.1635153337058,
          62.4416717910165,
          55.1356530110909,
          68.3106433817638,
          78.0054530086565,
          68.5521069839513,
          62.3918375780881,
          55.6178060563772,
          67.8334604035024,
          82.6968486204422,
          75.7968188676656,
          68.2281139431001,
          59.6401553687861,
          75.1268759656742,
          93.1755029198471,
          88.4821453034722,
          73.3567531909703,
          61.2579600783524,
          83.0757910417063,
          123.211919195881,
          67.795461023386,
          62.088756313301,
          59.281905463766,
          64.3435175439522,
          80.8987619347181,
          78.7526192000389,
          71.6009874633597,
          63.2672889560637,
          78.2955007487022,
          95.1736515494321,
          91.5054662264187,
          83.0893780287939,
          64.9124262712351,
          97.691039574562,
          110.829847240018,
          98.4431103403706,
          93.2494856089707,
          70.877533125236,
          111.221018055254,
          110.368316064753,
          74.7451895143154,
          72.7788282321882,
          56.2737919793384,
          86.0374293650501,
          79.2601985938236,
          91.4606283074825,
          81.2848862628165,
          71.1597553523984,
          89.4184686495903,
          114.825392524512,
          97.7243533605647,
          91.5712210291301,
          82.6829274142784,
          98.7112441097055,
          111.852707390089,
          103.968549870311,
          102.151181940324,
          97.8824426982786,
          105.580287462022,
          108.141451757305,
          86.9943696213111,
          87.2190162115268,
          85.5852367593501,
          87.4721369717231,
          85.9709795992174,
          103.300833789336,
          102.405819903846,
          104.603908368105,
          102.065270986848,
          107.378119267678,
          100.015940172411,
          100.167889380649,
          105.004527307169,
          99.4185511103434,
          99.3237271126593,
          109.688856416941,
          110.207274503977,
          104.806327565374,
          111.044040931084,
          107.327174020444,
          87.2462097974492,
          88.9096527327527,
          99.9571539258965,
          87.1980680408572,
          79.6683030921778,
          111.448592651352,
          111.769529578752,
          135.115872683866,
          108.152490506129,
          109.986546648753,
          118.622577611946,
          120.080502993239,
          130.280640522674,
          118.500199995721,
          111.980917541612,
          123.768453741149,
          126.281542144255,
          131.724629215394,
          125.438246964219,
          112.319939904779,
          110.015241512496,
          114.534657166964,
          117.140854995853,
          114.130880038545,
          89.4267924199205,
          122.75001536843,
          127.140297416283,
          147.44447362765,
          123.994579975086,
          102.749841594878,
          129.578261643066,
          132.493601676135,
          164.965113577981,
          127.462804057539,
          116.297268159084,
          142.899021266802,
          146.542241579745,
          156.84765164558,
          144.945628752643,
          126.302128730063,
          120.211179486163,
          123.978996062005,
          133.219468679588,
          122.547373543788,
          103.046681751773,
          143.616148768282,
          150.821295947192,
          158.578497142229,
          149.619476043736,
          110.792700508801,
          153.377062518314,
          157.022638508903,
          156.431455983463,
          157.114230167774,
          136.769438561189,
          163.227398597685,
          165.435866625628,
          154.127882804995,
          167.187807780938,
          153.16659980372,
          135.040230358843,
          141.177878530954,
          139.942580025284,
          141.36926280648,
          107.079833130339,
          149.953513166436,
          154.576433897698,
          175.379507247374,
          151.353422533664,
          128.893540946242,
          164.100170833526,
          173.178882372505,
          186.051106465979,
          171.184594132671,
          122.741596044848,
          177.404782255831,
          187.81591013257,
          195.153107679177,
          186.679161216898,
          129.976310817355,
          152.958935315721,
          161.812162952862,
          155.989525467233,
          162.714261718241,
          112.627564968747,
          102.674057954399,
          110.724051254904,
          90.3639557213872,
          113.878432253055,
          66.0018662520965,
          153.805740979836,
          163.314956811788,
          148.740216249052,
          165.573015208832,
          110.485979967609,
          165.873621344872,
          173.508621523942,
          150.39320720141,
          177.089882897855,
          131.091953862441,
          104.287898051507,
          108.816541342562,
          73.5361087295046,
          114.282523860078,
          83.6574119478134,
          139.663707148809,
          143.484324872887,
          123.720229786994,
          146.546367773519,
          122.258670850227,
          165.009204076054,
          171.101313294475,
          155.063588698018,
          173.5860311897,
          137.256262081026,
          182.008655568602,
          186.417117967111,
          165.192913289849,
          189.705375029786,
          161.925660197616,
          143.728826030175,
          152.249893262979,
          137.22949754008,
          154.576996825682,
          104.91063085851,
          162.892320500678,
          170.989271863493,
          154.76322184943,
          173.503166936095,
          126.006208736743,
          179.996530978774,
          186.691702261792,
          144.661943620784,
          193.20335500899,
          149.496306245024,
          178.301453511829,
          181.766263421233,
          151.054300011773,
          186.524454935375,
          162.517319480097
         ],
         "yaxis": "y"
        },
        {
         "customdata": [
          [
           "Volume of Production Index in Building and Construction"
          ],
          [
           "Volume of Production Index in Building and Construction"
          ],
          [
           "Volume of Production Index in Building and Construction"
          ],
          [
           "Volume of Production Index in Building and Construction"
          ],
          [
           "Volume of Production Index in Building and Construction"
          ],
          [
           "Volume of Production Index in Building and Construction"
          ],
          [
           "Volume of Production Index in Building and Construction"
          ],
          [
           "Volume of Production Index in Building and Construction"
          ],
          [
           "Volume of Production Index in Building and Construction"
          ],
          [
           "Volume of Production Index in Building and Construction"
          ],
          [
           "Volume of Production Index in Building and Construction"
          ],
          [
           "Volume of Production Index in Building and Construction"
          ],
          [
           "Volume of Production Index in Building and Construction"
          ],
          [
           "Volume of Production Index in Building and Construction"
          ],
          [
           "Volume of Production Index in Building and Construction"
          ],
          [
           "Volume of Production Index in Building and Construction"
          ],
          [
           "Volume of Production Index in Building and Construction"
          ],
          [
           "Volume of Production Index in Building and Construction"
          ],
          [
           "Volume of Production Index in Building and Construction"
          ],
          [
           "Volume of Production Index in Building and Construction"
          ],
          [
           "Volume of Production Index in Building and Construction"
          ],
          [
           "Volume of Production Index in Building and Construction"
          ],
          [
           "Volume of Production Index in Building and Construction"
          ],
          [
           "Volume of Production Index in Building and Construction"
          ],
          [
           "Volume of Production Index in Building and Construction"
          ],
          [
           "Volume of Production Index in Building and Construction"
          ],
          [
           "Volume of Production Index in Building and Construction"
          ],
          [
           "Volume of Production Index in Building and Construction"
          ],
          [
           "Volume of Production Index in Building and Construction"
          ],
          [
           "Volume of Production Index in Building and Construction"
          ],
          [
           "Volume of Production Index in Building and Construction"
          ],
          [
           "Volume of Production Index in Building and Construction"
          ],
          [
           "Volume of Production Index in Building and Construction"
          ],
          [
           "Volume of Production Index in Building and Construction"
          ],
          [
           "Volume of Production Index in Building and Construction"
          ],
          [
           "Volume of Production Index in Building and Construction"
          ],
          [
           "Volume of Production Index in Building and Construction"
          ],
          [
           "Volume of Production Index in Building and Construction"
          ],
          [
           "Volume of Production Index in Building and Construction"
          ],
          [
           "Volume of Production Index in Building and Construction"
          ],
          [
           "Volume of Production Index in Building and Construction"
          ],
          [
           "Volume of Production Index in Building and Construction"
          ],
          [
           "Volume of Production Index in Building and Construction"
          ],
          [
           "Volume of Production Index in Building and Construction"
          ],
          [
           "Volume of Production Index in Building and Construction"
          ],
          [
           "Volume of Production Index in Building and Construction"
          ],
          [
           "Volume of Production Index in Building and Construction"
          ],
          [
           "Volume of Production Index in Building and Construction"
          ],
          [
           "Volume of Production Index in Building and Construction"
          ],
          [
           "Volume of Production Index in Building and Construction"
          ],
          [
           "Volume of Production Index in Building and Construction"
          ],
          [
           "Volume of Production Index in Building and Construction"
          ],
          [
           "Volume of Production Index in Building and Construction"
          ],
          [
           "Volume of Production Index in Building and Construction"
          ],
          [
           "Volume of Production Index in Building and Construction"
          ],
          [
           "Volume of Production Index in Building and Construction"
          ],
          [
           "Volume of Production Index in Building and Construction"
          ],
          [
           "Volume of Production Index in Building and Construction"
          ],
          [
           "Volume of Production Index in Building and Construction"
          ],
          [
           "Volume of Production Index in Building and Construction"
          ],
          [
           "Volume of Production Index in Building and Construction"
          ],
          [
           "Volume of Production Index in Building and Construction"
          ],
          [
           "Volume of Production Index in Building and Construction"
          ],
          [
           "Volume of Production Index in Building and Construction"
          ],
          [
           "Volume of Production Index in Building and Construction"
          ],
          [
           "Volume of Production Index in Building and Construction"
          ],
          [
           "Volume of Production Index in Building and Construction"
          ],
          [
           "Volume of Production Index in Building and Construction"
          ],
          [
           "Volume of Production Index in Building and Construction"
          ],
          [
           "Volume of Production Index in Building and Construction"
          ],
          [
           "Volume of Production Index in Building and Construction"
          ],
          [
           "Volume of Production Index in Building and Construction"
          ],
          [
           "Volume of Production Index in Building and Construction"
          ],
          [
           "Volume of Production Index in Building and Construction"
          ],
          [
           "Volume of Production Index in Building and Construction"
          ],
          [
           "Volume of Production Index in Building and Construction"
          ],
          [
           "Volume of Production Index in Building and Construction"
          ],
          [
           "Volume of Production Index in Building and Construction"
          ],
          [
           "Volume of Production Index in Building and Construction"
          ],
          [
           "Volume of Production Index in Building and Construction"
          ],
          [
           "Volume of Production Index in Building and Construction"
          ],
          [
           "Volume of Production Index in Building and Construction"
          ],
          [
           "Volume of Production Index in Building and Construction"
          ],
          [
           "Volume of Production Index in Building and Construction"
          ],
          [
           "Volume of Production Index in Building and Construction"
          ],
          [
           "Volume of Production Index in Building and Construction"
          ],
          [
           "Volume of Production Index in Building and Construction"
          ],
          [
           "Volume of Production Index in Building and Construction"
          ],
          [
           "Volume of Production Index in Building and Construction"
          ],
          [
           "Volume of Production Index in Building and Construction"
          ],
          [
           "Volume of Production Index in Building and Construction"
          ],
          [
           "Volume of Production Index in Building and Construction"
          ],
          [
           "Volume of Production Index in Building and Construction"
          ],
          [
           "Volume of Production Index in Building and Construction"
          ],
          [
           "Volume of Production Index in Building and Construction"
          ],
          [
           "Volume of Production Index in Building and Construction"
          ],
          [
           "Volume of Production Index in Building and Construction"
          ],
          [
           "Volume of Production Index in Building and Construction"
          ],
          [
           "Volume of Production Index in Building and Construction"
          ],
          [
           "Volume of Production Index in Building and Construction"
          ],
          [
           "Volume of Production Index in Building and Construction"
          ],
          [
           "Volume of Production Index in Building and Construction"
          ],
          [
           "Volume of Production Index in Building and Construction"
          ],
          [
           "Volume of Production Index in Building and Construction"
          ],
          [
           "Volume of Production Index in Building and Construction"
          ],
          [
           "Volume of Production Index in Building and Construction"
          ],
          [
           "Volume of Production Index in Building and Construction"
          ],
          [
           "Volume of Production Index in Building and Construction"
          ],
          [
           "Volume of Production Index in Building and Construction"
          ],
          [
           "Volume of Production Index in Building and Construction"
          ],
          [
           "Volume of Production Index in Building and Construction"
          ],
          [
           "Volume of Production Index in Building and Construction"
          ],
          [
           "Volume of Production Index in Building and Construction"
          ],
          [
           "Volume of Production Index in Building and Construction"
          ],
          [
           "Volume of Production Index in Building and Construction"
          ],
          [
           "Volume of Production Index in Building and Construction"
          ],
          [
           "Volume of Production Index in Building and Construction"
          ],
          [
           "Volume of Production Index in Building and Construction"
          ],
          [
           "Volume of Production Index in Building and Construction"
          ],
          [
           "Volume of Production Index in Building and Construction"
          ],
          [
           "Volume of Production Index in Building and Construction"
          ],
          [
           "Volume of Production Index in Building and Construction"
          ],
          [
           "Volume of Production Index in Building and Construction"
          ],
          [
           "Volume of Production Index in Building and Construction"
          ],
          [
           "Volume of Production Index in Building and Construction"
          ],
          [
           "Volume of Production Index in Building and Construction"
          ],
          [
           "Volume of Production Index in Building and Construction"
          ],
          [
           "Volume of Production Index in Building and Construction"
          ],
          [
           "Volume of Production Index in Building and Construction"
          ],
          [
           "Volume of Production Index in Building and Construction"
          ],
          [
           "Volume of Production Index in Building and Construction"
          ],
          [
           "Volume of Production Index in Building and Construction"
          ],
          [
           "Volume of Production Index in Building and Construction"
          ],
          [
           "Volume of Production Index in Building and Construction"
          ],
          [
           "Volume of Production Index in Building and Construction"
          ],
          [
           "Volume of Production Index in Building and Construction"
          ],
          [
           "Volume of Production Index in Building and Construction"
          ],
          [
           "Volume of Production Index in Building and Construction"
          ],
          [
           "Volume of Production Index in Building and Construction"
          ],
          [
           "Volume of Production Index in Building and Construction"
          ],
          [
           "Volume of Production Index in Building and Construction"
          ],
          [
           "Volume of Production Index in Building and Construction"
          ],
          [
           "Volume of Production Index in Building and Construction"
          ],
          [
           "Volume of Production Index in Building and Construction"
          ],
          [
           "Volume of Production Index in Building and Construction"
          ],
          [
           "Volume of Production Index in Building and Construction"
          ],
          [
           "Volume of Production Index in Building and Construction"
          ],
          [
           "Volume of Production Index in Building and Construction"
          ],
          [
           "Volume of Production Index in Building and Construction"
          ],
          [
           "Volume of Production Index in Building and Construction"
          ],
          [
           "Volume of Production Index in Building and Construction"
          ],
          [
           "Volume of Production Index in Building and Construction"
          ],
          [
           "Volume of Production Index in Building and Construction"
          ],
          [
           "Volume of Production Index in Building and Construction"
          ],
          [
           "Volume of Production Index in Building and Construction"
          ],
          [
           "Volume of Production Index in Building and Construction"
          ],
          [
           "Volume of Production Index in Building and Construction"
          ],
          [
           "Volume of Production Index in Building and Construction"
          ],
          [
           "Volume of Production Index in Building and Construction"
          ],
          [
           "Volume of Production Index in Building and Construction"
          ],
          [
           "Volume of Production Index in Building and Construction"
          ],
          [
           "Volume of Production Index in Building and Construction"
          ],
          [
           "Volume of Production Index in Building and Construction"
          ],
          [
           "Volume of Production Index in Building and Construction"
          ],
          [
           "Volume of Production Index in Building and Construction"
          ],
          [
           "Volume of Production Index in Building and Construction"
          ],
          [
           "Volume of Production Index in Building and Construction"
          ],
          [
           "Volume of Production Index in Building and Construction"
          ],
          [
           "Volume of Production Index in Building and Construction"
          ],
          [
           "Volume of Production Index in Building and Construction"
          ],
          [
           "Volume of Production Index in Building and Construction"
          ],
          [
           "Volume of Production Index in Building and Construction"
          ],
          [
           "Volume of Production Index in Building and Construction"
          ],
          [
           "Volume of Production Index in Building and Construction"
          ],
          [
           "Volume of Production Index in Building and Construction"
          ],
          [
           "Volume of Production Index in Building and Construction"
          ],
          [
           "Volume of Production Index in Building and Construction"
          ],
          [
           "Volume of Production Index in Building and Construction"
          ],
          [
           "Volume of Production Index in Building and Construction"
          ],
          [
           "Volume of Production Index in Building and Construction"
          ],
          [
           "Volume of Production Index in Building and Construction"
          ],
          [
           "Volume of Production Index in Building and Construction"
          ],
          [
           "Volume of Production Index in Building and Construction"
          ],
          [
           "Volume of Production Index in Building and Construction"
          ],
          [
           "Volume of Production Index in Building and Construction"
          ],
          [
           "Volume of Production Index in Building and Construction"
          ],
          [
           "Volume of Production Index in Building and Construction"
          ],
          [
           "Volume of Production Index in Building and Construction"
          ],
          [
           "Volume of Production Index in Building and Construction"
          ],
          [
           "Volume of Production Index in Building and Construction"
          ],
          [
           "Volume of Production Index in Building and Construction"
          ],
          [
           "Volume of Production Index in Building and Construction"
          ],
          [
           "Volume of Production Index in Building and Construction"
          ],
          [
           "Volume of Production Index in Building and Construction"
          ],
          [
           "Volume of Production Index in Building and Construction"
          ],
          [
           "Volume of Production Index in Building and Construction"
          ],
          [
           "Volume of Production Index in Building and Construction"
          ],
          [
           "Volume of Production Index in Building and Construction"
          ],
          [
           "Volume of Production Index in Building and Construction"
          ],
          [
           "Volume of Production Index in Building and Construction"
          ],
          [
           "Volume of Production Index in Building and Construction"
          ],
          [
           "Volume of Production Index in Building and Construction"
          ],
          [
           "Volume of Production Index in Building and Construction"
          ],
          [
           "Volume of Production Index in Building and Construction"
          ],
          [
           "Volume of Production Index in Building and Construction"
          ],
          [
           "Volume of Production Index in Building and Construction"
          ],
          [
           "Volume of Production Index in Building and Construction"
          ],
          [
           "Volume of Production Index in Building and Construction"
          ],
          [
           "Volume of Production Index in Building and Construction"
          ],
          [
           "Volume of Production Index in Building and Construction"
          ],
          [
           "Volume of Production Index in Building and Construction"
          ],
          [
           "Volume of Production Index in Building and Construction"
          ],
          [
           "Volume of Production Index in Building and Construction"
          ],
          [
           "Volume of Production Index in Building and Construction"
          ],
          [
           "Volume of Production Index in Building and Construction"
          ],
          [
           "Volume of Production Index in Building and Construction"
          ],
          [
           "Volume of Production Index in Building and Construction"
          ],
          [
           "Volume of Production Index in Building and Construction"
          ],
          [
           "Volume of Production Index in Building and Construction"
          ],
          [
           "Volume of Production Index in Building and Construction"
          ],
          [
           "Volume of Production Index in Building and Construction"
          ],
          [
           "Volume of Production Index in Building and Construction"
          ],
          [
           "Volume of Production Index in Building and Construction"
          ],
          [
           "Volume of Production Index in Building and Construction"
          ],
          [
           "Volume of Production Index in Building and Construction"
          ],
          [
           "Volume of Production Index in Building and Construction"
          ],
          [
           "Volume of Production Index in Building and Construction"
          ],
          [
           "Volume of Production Index in Building and Construction"
          ],
          [
           "Volume of Production Index in Building and Construction"
          ],
          [
           "Volume of Production Index in Building and Construction"
          ],
          [
           "Volume of Production Index in Building and Construction"
          ],
          [
           "Volume of Production Index in Building and Construction"
          ],
          [
           "Volume of Production Index in Building and Construction"
          ],
          [
           "Volume of Production Index in Building and Construction"
          ],
          [
           "Volume of Production Index in Building and Construction"
          ],
          [
           "Volume of Production Index in Building and Construction"
          ],
          [
           "Volume of Production Index in Building and Construction"
          ],
          [
           "Volume of Production Index in Building and Construction"
          ],
          [
           "Volume of Production Index in Building and Construction"
          ],
          [
           "Volume of Production Index in Building and Construction"
          ],
          [
           "Volume of Production Index in Building and Construction"
          ],
          [
           "Volume of Production Index in Building and Construction"
          ],
          [
           "Volume of Production Index in Building and Construction"
          ],
          [
           "Volume of Production Index in Building and Construction"
          ],
          [
           "Volume of Production Index in Building and Construction"
          ],
          [
           "Volume of Production Index in Building and Construction"
          ],
          [
           "Volume of Production Index in Building and Construction"
          ],
          [
           "Volume of Production Index in Building and Construction"
          ],
          [
           "Volume of Production Index in Building and Construction"
          ],
          [
           "Volume of Production Index in Building and Construction"
          ],
          [
           "Volume of Production Index in Building and Construction"
          ],
          [
           "Volume of Production Index in Building and Construction"
          ],
          [
           "Volume of Production Index in Building and Construction"
          ],
          [
           "Volume of Production Index in Building and Construction"
          ],
          [
           "Volume of Production Index in Building and Construction"
          ],
          [
           "Volume of Production Index in Building and Construction"
          ],
          [
           "Volume of Production Index in Building and Construction"
          ],
          [
           "Volume of Production Index in Building and Construction"
          ],
          [
           "Volume of Production Index in Building and Construction"
          ],
          [
           "Volume of Production Index in Building and Construction"
          ],
          [
           "Volume of Production Index in Building and Construction"
          ],
          [
           "Volume of Production Index in Building and Construction"
          ],
          [
           "Volume of Production Index in Building and Construction"
          ],
          [
           "Volume of Production Index in Building and Construction"
          ],
          [
           "Volume of Production Index in Building and Construction"
          ],
          [
           "Volume of Production Index in Building and Construction"
          ],
          [
           "Volume of Production Index in Building and Construction"
          ],
          [
           "Volume of Production Index in Building and Construction"
          ],
          [
           "Volume of Production Index in Building and Construction"
          ],
          [
           "Volume of Production Index in Building and Construction"
          ],
          [
           "Volume of Production Index in Building and Construction"
          ],
          [
           "Volume of Production Index in Building and Construction"
          ],
          [
           "Volume of Production Index in Building and Construction"
          ],
          [
           "Volume of Production Index in Building and Construction"
          ],
          [
           "Volume of Production Index in Building and Construction"
          ],
          [
           "Volume of Production Index in Building and Construction"
          ],
          [
           "Volume of Production Index in Building and Construction"
          ],
          [
           "Volume of Production Index in Building and Construction"
          ],
          [
           "Volume of Production Index in Building and Construction"
          ],
          [
           "Volume of Production Index in Building and Construction"
          ],
          [
           "Volume of Production Index in Building and Construction"
          ],
          [
           "Volume of Production Index in Building and Construction"
          ],
          [
           "Volume of Production Index in Building and Construction"
          ],
          [
           "Volume of Production Index in Building and Construction"
          ],
          [
           "Volume of Production Index in Building and Construction"
          ],
          [
           "Volume of Production Index in Building and Construction"
          ],
          [
           "Volume of Production Index in Building and Construction"
          ],
          [
           "Volume of Production Index in Building and Construction"
          ],
          [
           "Volume of Production Index in Building and Construction"
          ],
          [
           "Volume of Production Index in Building and Construction"
          ],
          [
           "Volume of Production Index in Building and Construction"
          ],
          [
           "Volume of Production Index in Building and Construction"
          ],
          [
           "Volume of Production Index in Building and Construction"
          ],
          [
           "Volume of Production Index in Building and Construction"
          ],
          [
           "Volume of Production Index in Building and Construction"
          ],
          [
           "Volume of Production Index in Building and Construction"
          ],
          [
           "Volume of Production Index in Building and Construction"
          ],
          [
           "Volume of Production Index in Building and Construction"
          ],
          [
           "Volume of Production Index in Building and Construction"
          ],
          [
           "Volume of Production Index in Building and Construction"
          ],
          [
           "Volume of Production Index in Building and Construction"
          ],
          [
           "Volume of Production Index in Building and Construction"
          ],
          [
           "Volume of Production Index in Building and Construction"
          ],
          [
           "Volume of Production Index in Building and Construction"
          ],
          [
           "Volume of Production Index in Building and Construction"
          ],
          [
           "Volume of Production Index in Building and Construction"
          ],
          [
           "Volume of Production Index in Building and Construction"
          ],
          [
           "Volume of Production Index in Building and Construction"
          ],
          [
           "Volume of Production Index in Building and Construction"
          ],
          [
           "Volume of Production Index in Building and Construction"
          ],
          [
           "Volume of Production Index in Building and Construction"
          ],
          [
           "Volume of Production Index in Building and Construction"
          ],
          [
           "Volume of Production Index in Building and Construction"
          ],
          [
           "Volume of Production Index in Building and Construction"
          ],
          [
           "Volume of Production Index in Building and Construction"
          ],
          [
           "Volume of Production Index in Building and Construction"
          ],
          [
           "Volume of Production Index in Building and Construction"
          ],
          [
           "Volume of Production Index in Building and Construction"
          ],
          [
           "Volume of Production Index in Building and Construction"
          ],
          [
           "Volume of Production Index in Building and Construction"
          ],
          [
           "Volume of Production Index in Building and Construction"
          ],
          [
           "Volume of Production Index in Building and Construction"
          ],
          [
           "Volume of Production Index in Building and Construction"
          ],
          [
           "Volume of Production Index in Building and Construction"
          ],
          [
           "Volume of Production Index in Building and Construction"
          ],
          [
           "Volume of Production Index in Building and Construction"
          ],
          [
           "Volume of Production Index in Building and Construction"
          ],
          [
           "Volume of Production Index in Building and Construction"
          ],
          [
           "Volume of Production Index in Building and Construction"
          ],
          [
           "Volume of Production Index in Building and Construction"
          ],
          [
           "Volume of Production Index in Building and Construction"
          ],
          [
           "Volume of Production Index in Building and Construction"
          ],
          [
           "Volume of Production Index in Building and Construction"
          ],
          [
           "Volume of Production Index in Building and Construction"
          ],
          [
           "Volume of Production Index in Building and Construction"
          ],
          [
           "Volume of Production Index in Building and Construction"
          ],
          [
           "Volume of Production Index in Building and Construction"
          ],
          [
           "Volume of Production Index in Building and Construction"
          ],
          [
           "Volume of Production Index in Building and Construction"
          ],
          [
           "Volume of Production Index in Building and Construction"
          ],
          [
           "Volume of Production Index in Building and Construction"
          ],
          [
           "Volume of Production Index in Building and Construction"
          ],
          [
           "Volume of Production Index in Building and Construction"
          ],
          [
           "Volume of Production Index in Building and Construction"
          ],
          [
           "Volume of Production Index in Building and Construction"
          ],
          [
           "Volume of Production Index in Building and Construction"
          ],
          [
           "Volume of Production Index in Building and Construction"
          ],
          [
           "Volume of Production Index in Building and Construction"
          ],
          [
           "Volume of Production Index in Building and Construction"
          ],
          [
           "Volume of Production Index in Building and Construction"
          ],
          [
           "Volume of Production Index in Building and Construction"
          ],
          [
           "Volume of Production Index in Building and Construction"
          ],
          [
           "Volume of Production Index in Building and Construction"
          ],
          [
           "Volume of Production Index in Building and Construction"
          ],
          [
           "Volume of Production Index in Building and Construction"
          ],
          [
           "Volume of Production Index in Building and Construction"
          ],
          [
           "Volume of Production Index in Building and Construction"
          ],
          [
           "Volume of Production Index in Building and Construction"
          ],
          [
           "Volume of Production Index in Building and Construction"
          ],
          [
           "Volume of Production Index in Building and Construction"
          ],
          [
           "Volume of Production Index in Building and Construction"
          ],
          [
           "Volume of Production Index in Building and Construction"
          ],
          [
           "Volume of Production Index in Building and Construction"
          ],
          [
           "Volume of Production Index in Building and Construction"
          ],
          [
           "Volume of Production Index in Building and Construction"
          ],
          [
           "Volume of Production Index in Building and Construction"
          ],
          [
           "Volume of Production Index in Building and Construction"
          ],
          [
           "Volume of Production Index in Building and Construction"
          ],
          [
           "Volume of Production Index in Building and Construction"
          ],
          [
           "Volume of Production Index in Building and Construction"
          ],
          [
           "Volume of Production Index in Building and Construction"
          ],
          [
           "Volume of Production Index in Building and Construction"
          ],
          [
           "Volume of Production Index in Building and Construction"
          ],
          [
           "Volume of Production Index in Building and Construction"
          ],
          [
           "Volume of Production Index in Building and Construction"
          ],
          [
           "Volume of Production Index in Building and Construction"
          ],
          [
           "Volume of Production Index in Building and Construction"
          ],
          [
           "Volume of Production Index in Building and Construction"
          ],
          [
           "Volume of Production Index in Building and Construction"
          ],
          [
           "Volume of Production Index in Building and Construction"
          ],
          [
           "Volume of Production Index in Building and Construction"
          ],
          [
           "Volume of Production Index in Building and Construction"
          ],
          [
           "Volume of Production Index in Building and Construction"
          ],
          [
           "Volume of Production Index in Building and Construction"
          ],
          [
           "Volume of Production Index in Building and Construction"
          ],
          [
           "Volume of Production Index in Building and Construction"
          ],
          [
           "Volume of Production Index in Building and Construction"
          ],
          [
           "Volume of Production Index in Building and Construction"
          ],
          [
           "Volume of Production Index in Building and Construction"
          ],
          [
           "Volume of Production Index in Building and Construction"
          ],
          [
           "Volume of Production Index in Building and Construction"
          ],
          [
           "Volume of Production Index in Building and Construction"
          ],
          [
           "Volume of Production Index in Building and Construction"
          ],
          [
           "Volume of Production Index in Building and Construction"
          ],
          [
           "Volume of Production Index in Building and Construction"
          ],
          [
           "Volume of Production Index in Building and Construction"
          ],
          [
           "Volume of Production Index in Building and Construction"
          ],
          [
           "Volume of Production Index in Building and Construction"
          ],
          [
           "Volume of Production Index in Building and Construction"
          ],
          [
           "Volume of Production Index in Building and Construction"
          ],
          [
           "Volume of Production Index in Building and Construction"
          ],
          [
           "Volume of Production Index in Building and Construction"
          ],
          [
           "Volume of Production Index in Building and Construction"
          ],
          [
           "Volume of Production Index in Building and Construction"
          ],
          [
           "Volume of Production Index in Building and Construction"
          ],
          [
           "Volume of Production Index in Building and Construction"
          ],
          [
           "Volume of Production Index in Building and Construction"
          ],
          [
           "Volume of Production Index in Building and Construction"
          ],
          [
           "Volume of Production Index in Building and Construction"
          ],
          [
           "Volume of Production Index in Building and Construction"
          ],
          [
           "Volume of Production Index in Building and Construction"
          ],
          [
           "Volume of Production Index in Building and Construction"
          ],
          [
           "Volume of Production Index in Building and Construction"
          ],
          [
           "Volume of Production Index in Building and Construction"
          ],
          [
           "Volume of Production Index in Building and Construction"
          ],
          [
           "Volume of Production Index in Building and Construction"
          ],
          [
           "Volume of Production Index in Building and Construction"
          ],
          [
           "Volume of Production Index in Building and Construction"
          ],
          [
           "Volume of Production Index in Building and Construction"
          ],
          [
           "Volume of Production Index in Building and Construction"
          ],
          [
           "Volume of Production Index in Building and Construction"
          ],
          [
           "Volume of Production Index in Building and Construction"
          ],
          [
           "Volume of Production Index in Building and Construction"
          ],
          [
           "Volume of Production Index in Building and Construction"
          ],
          [
           "Volume of Production Index in Building and Construction"
          ],
          [
           "Volume of Production Index in Building and Construction"
          ],
          [
           "Volume of Production Index in Building and Construction"
          ],
          [
           "Volume of Production Index in Building and Construction"
          ],
          [
           "Volume of Production Index in Building and Construction"
          ],
          [
           "Volume of Production Index in Building and Construction"
          ],
          [
           "Volume of Production Index in Building and Construction"
          ],
          [
           "Volume of Production Index in Building and Construction"
          ],
          [
           "Volume of Production Index in Building and Construction"
          ],
          [
           "Volume of Production Index in Building and Construction"
          ],
          [
           "Volume of Production Index in Building and Construction"
          ],
          [
           "Volume of Production Index in Building and Construction"
          ],
          [
           "Volume of Production Index in Building and Construction"
          ],
          [
           "Volume of Production Index in Building and Construction"
          ],
          [
           "Volume of Production Index in Building and Construction"
          ],
          [
           "Volume of Production Index in Building and Construction"
          ],
          [
           "Volume of Production Index in Building and Construction"
          ],
          [
           "Volume of Production Index in Building and Construction"
          ],
          [
           "Volume of Production Index in Building and Construction"
          ],
          [
           "Volume of Production Index in Building and Construction"
          ],
          [
           "Volume of Production Index in Building and Construction"
          ],
          [
           "Volume of Production Index in Building and Construction"
          ],
          [
           "Volume of Production Index in Building and Construction"
          ],
          [
           "Volume of Production Index in Building and Construction"
          ],
          [
           "Volume of Production Index in Building and Construction"
          ],
          [
           "Volume of Production Index in Building and Construction"
          ],
          [
           "Volume of Production Index in Building and Construction"
          ],
          [
           "Volume of Production Index in Building and Construction"
          ],
          [
           "Volume of Production Index in Building and Construction"
          ],
          [
           "Volume of Production Index in Building and Construction"
          ],
          [
           "Volume of Production Index in Building and Construction"
          ],
          [
           "Volume of Production Index in Building and Construction"
          ],
          [
           "Volume of Production Index in Building and Construction"
          ],
          [
           "Volume of Production Index in Building and Construction"
          ],
          [
           "Volume of Production Index in Building and Construction"
          ],
          [
           "Volume of Production Index in Building and Construction"
          ]
         ],
         "hovertemplate": "STATISTIC=BEQ04C02<br>Quarter=%{x}<br>VALUE=%{y}<br>Statistic Label=%{customdata[0]}<extra></extra>",
         "legendgroup": "BEQ04C02",
         "line": {
          "color": "#EF553B",
          "dash": "solid"
         },
         "marker": {
          "symbol": "circle"
         },
         "mode": "lines",
         "name": "BEQ04C02",
         "showlegend": true,
         "type": "scattergl",
         "x": [
          "2000Q1",
          "2000Q1",
          "2000Q1",
          "2000Q1",
          "2000Q1",
          "2000Q2",
          "2000Q2",
          "2000Q2",
          "2000Q2",
          "2000Q2",
          "2000Q3",
          "2000Q3",
          "2000Q3",
          "2000Q3",
          "2000Q3",
          "2000Q4",
          "2000Q4",
          "2000Q4",
          "2000Q4",
          "2000Q4",
          "2001Q1",
          "2001Q1",
          "2001Q1",
          "2001Q1",
          "2001Q1",
          "2001Q2",
          "2001Q2",
          "2001Q2",
          "2001Q2",
          "2001Q2",
          "2001Q3",
          "2001Q3",
          "2001Q3",
          "2001Q3",
          "2001Q3",
          "2001Q4",
          "2001Q4",
          "2001Q4",
          "2001Q4",
          "2001Q4",
          "2002Q1",
          "2002Q1",
          "2002Q1",
          "2002Q1",
          "2002Q1",
          "2002Q2",
          "2002Q2",
          "2002Q2",
          "2002Q2",
          "2002Q2",
          "2002Q3",
          "2002Q3",
          "2002Q3",
          "2002Q3",
          "2002Q3",
          "2002Q4",
          "2002Q4",
          "2002Q4",
          "2002Q4",
          "2002Q4",
          "2003Q1",
          "2003Q1",
          "2003Q1",
          "2003Q1",
          "2003Q1",
          "2003Q2",
          "2003Q2",
          "2003Q2",
          "2003Q2",
          "2003Q2",
          "2003Q3",
          "2003Q3",
          "2003Q3",
          "2003Q3",
          "2003Q3",
          "2003Q4",
          "2003Q4",
          "2003Q4",
          "2003Q4",
          "2003Q4",
          "2004Q1",
          "2004Q1",
          "2004Q1",
          "2004Q1",
          "2004Q1",
          "2004Q2",
          "2004Q2",
          "2004Q2",
          "2004Q2",
          "2004Q2",
          "2004Q3",
          "2004Q3",
          "2004Q3",
          "2004Q3",
          "2004Q3",
          "2004Q4",
          "2004Q4",
          "2004Q4",
          "2004Q4",
          "2004Q4",
          "2005Q1",
          "2005Q1",
          "2005Q1",
          "2005Q1",
          "2005Q1",
          "2005Q2",
          "2005Q2",
          "2005Q2",
          "2005Q2",
          "2005Q2",
          "2005Q3",
          "2005Q3",
          "2005Q3",
          "2005Q3",
          "2005Q3",
          "2005Q4",
          "2005Q4",
          "2005Q4",
          "2005Q4",
          "2005Q4",
          "2006Q1",
          "2006Q1",
          "2006Q1",
          "2006Q1",
          "2006Q1",
          "2006Q2",
          "2006Q2",
          "2006Q2",
          "2006Q2",
          "2006Q2",
          "2006Q3",
          "2006Q3",
          "2006Q3",
          "2006Q3",
          "2006Q3",
          "2006Q4",
          "2006Q4",
          "2006Q4",
          "2006Q4",
          "2006Q4",
          "2007Q1",
          "2007Q1",
          "2007Q1",
          "2007Q1",
          "2007Q1",
          "2007Q2",
          "2007Q2",
          "2007Q2",
          "2007Q2",
          "2007Q2",
          "2007Q3",
          "2007Q3",
          "2007Q3",
          "2007Q3",
          "2007Q3",
          "2007Q4",
          "2007Q4",
          "2007Q4",
          "2007Q4",
          "2007Q4",
          "2008Q1",
          "2008Q1",
          "2008Q1",
          "2008Q1",
          "2008Q1",
          "2008Q2",
          "2008Q2",
          "2008Q2",
          "2008Q2",
          "2008Q2",
          "2008Q3",
          "2008Q3",
          "2008Q3",
          "2008Q3",
          "2008Q3",
          "2008Q4",
          "2008Q4",
          "2008Q4",
          "2008Q4",
          "2008Q4",
          "2009Q1",
          "2009Q1",
          "2009Q1",
          "2009Q1",
          "2009Q1",
          "2009Q2",
          "2009Q2",
          "2009Q2",
          "2009Q2",
          "2009Q2",
          "2009Q3",
          "2009Q3",
          "2009Q3",
          "2009Q3",
          "2009Q3",
          "2009Q4",
          "2009Q4",
          "2009Q4",
          "2009Q4",
          "2009Q4",
          "2010Q1",
          "2010Q1",
          "2010Q1",
          "2010Q1",
          "2010Q1",
          "2010Q2",
          "2010Q2",
          "2010Q2",
          "2010Q2",
          "2010Q2",
          "2010Q3",
          "2010Q3",
          "2010Q3",
          "2010Q3",
          "2010Q3",
          "2010Q4",
          "2010Q4",
          "2010Q4",
          "2010Q4",
          "2010Q4",
          "2011Q1",
          "2011Q1",
          "2011Q1",
          "2011Q1",
          "2011Q1",
          "2011Q2",
          "2011Q2",
          "2011Q2",
          "2011Q2",
          "2011Q2",
          "2011Q3",
          "2011Q3",
          "2011Q3",
          "2011Q3",
          "2011Q3",
          "2011Q4",
          "2011Q4",
          "2011Q4",
          "2011Q4",
          "2011Q4",
          "2012Q1",
          "2012Q1",
          "2012Q1",
          "2012Q1",
          "2012Q1",
          "2012Q2",
          "2012Q2",
          "2012Q2",
          "2012Q2",
          "2012Q2",
          "2012Q3",
          "2012Q3",
          "2012Q3",
          "2012Q3",
          "2012Q3",
          "2012Q4",
          "2012Q4",
          "2012Q4",
          "2012Q4",
          "2012Q4",
          "2013Q1",
          "2013Q1",
          "2013Q1",
          "2013Q1",
          "2013Q1",
          "2013Q2",
          "2013Q2",
          "2013Q2",
          "2013Q2",
          "2013Q2",
          "2013Q3",
          "2013Q3",
          "2013Q3",
          "2013Q3",
          "2013Q3",
          "2013Q4",
          "2013Q4",
          "2013Q4",
          "2013Q4",
          "2013Q4",
          "2014Q1",
          "2014Q1",
          "2014Q1",
          "2014Q1",
          "2014Q1",
          "2014Q2",
          "2014Q2",
          "2014Q2",
          "2014Q2",
          "2014Q2",
          "2014Q3",
          "2014Q3",
          "2014Q3",
          "2014Q3",
          "2014Q3",
          "2014Q4",
          "2014Q4",
          "2014Q4",
          "2014Q4",
          "2014Q4",
          "2015Q1",
          "2015Q1",
          "2015Q1",
          "2015Q1",
          "2015Q1",
          "2015Q2",
          "2015Q2",
          "2015Q2",
          "2015Q2",
          "2015Q2",
          "2015Q3",
          "2015Q3",
          "2015Q3",
          "2015Q3",
          "2015Q3",
          "2015Q4",
          "2015Q4",
          "2015Q4",
          "2015Q4",
          "2015Q4",
          "2016Q1",
          "2016Q1",
          "2016Q1",
          "2016Q1",
          "2016Q1",
          "2016Q2",
          "2016Q2",
          "2016Q2",
          "2016Q2",
          "2016Q2",
          "2016Q3",
          "2016Q3",
          "2016Q3",
          "2016Q3",
          "2016Q3",
          "2016Q4",
          "2016Q4",
          "2016Q4",
          "2016Q4",
          "2016Q4",
          "2017Q1",
          "2017Q1",
          "2017Q1",
          "2017Q1",
          "2017Q1",
          "2017Q2",
          "2017Q2",
          "2017Q2",
          "2017Q2",
          "2017Q2",
          "2017Q3",
          "2017Q3",
          "2017Q3",
          "2017Q3",
          "2017Q3",
          "2017Q4",
          "2017Q4",
          "2017Q4",
          "2017Q4",
          "2017Q4",
          "2018Q1",
          "2018Q1",
          "2018Q1",
          "2018Q1",
          "2018Q1",
          "2018Q2",
          "2018Q2",
          "2018Q2",
          "2018Q2",
          "2018Q2",
          "2018Q3",
          "2018Q3",
          "2018Q3",
          "2018Q3",
          "2018Q3",
          "2018Q4",
          "2018Q4",
          "2018Q4",
          "2018Q4",
          "2018Q4",
          "2019Q1",
          "2019Q1",
          "2019Q1",
          "2019Q1",
          "2019Q1",
          "2019Q2",
          "2019Q2",
          "2019Q2",
          "2019Q2",
          "2019Q2",
          "2019Q3",
          "2019Q3",
          "2019Q3",
          "2019Q3",
          "2019Q3",
          "2019Q4",
          "2019Q4",
          "2019Q4",
          "2019Q4",
          "2019Q4",
          "2020Q1",
          "2020Q1",
          "2020Q1",
          "2020Q1",
          "2020Q1",
          "2020Q2",
          "2020Q2",
          "2020Q2",
          "2020Q2",
          "2020Q2",
          "2020Q3",
          "2020Q3",
          "2020Q3",
          "2020Q3",
          "2020Q3",
          "2020Q4",
          "2020Q4",
          "2020Q4",
          "2020Q4",
          "2020Q4",
          "2021Q1",
          "2021Q1",
          "2021Q1",
          "2021Q1",
          "2021Q1",
          "2021Q2",
          "2021Q2",
          "2021Q2",
          "2021Q2",
          "2021Q2",
          "2021Q3",
          "2021Q3",
          "2021Q3",
          "2021Q3",
          "2021Q3",
          "2021Q4",
          "2021Q4",
          "2021Q4",
          "2021Q4",
          "2021Q4",
          "2022Q1",
          "2022Q1",
          "2022Q1",
          "2022Q1",
          "2022Q1",
          "2022Q2",
          "2022Q2",
          "2022Q2",
          "2022Q2",
          "2022Q2",
          "2022Q3",
          "2022Q3",
          "2022Q3",
          "2022Q3",
          "2022Q3",
          "2022Q4",
          "2022Q4",
          "2022Q4",
          "2022Q4",
          "2022Q4"
         ],
         "xaxis": "x",
         "y": [
          206.81997135653,
          265.870115644885,
          445.508869340789,
          140.914436021031,
          82.6456034709101,
          216.69209903382,
          279.040288097419,
          469.562334576995,
          146.337422551468,
          85.8261576219107,
          228.746937337031,
          295.483888753868,
          501.036394110496,
          151.976824217242,
          89.133638154375,
          221.786474399994,
          284.011851104239,
          471.36345427894,
          154.095882903616,
          90.376455348062,
          212.48466154237,
          267.604231453381,
          452.223077420161,
          138.845068267034,
          93.7528362877361,
          225.728420509875,
          285.574213831363,
          491.339981022928,
          141.302766949277,
          97.5392268475872,
          231.175473316256,
          293.105206962411,
          506.14200458339,
          143.582023268388,
          98.8724323280052,
          234.256484411007,
          296.934935244946,
          513.713124734737,
          144.706224989236,
          100.312294246856,
          216.771637192579,
          263.801207823433,
          453.923217395562,
          130.494469998324,
          110.313379743388,
          221.827117525073,
          268.743536263211,
          465.435849957268,
          130.579018748935,
          114.814786018968,
          244.923119630178,
          302.829917028052,
          541.03804999022,
          134.140746116793,
          117.036215183241,
          238.867731016153,
          298.808758551712,
          536.032475508108,
          130.64932770997,
          108.6180121478,
          225.342747844468,
          276.956200789234,
          499.206490467809,
          119.23064811206,
          110.332431749927,
          236.617281848433,
          291.857115830991,
          532.486860249945,
          120.606716111044,
          114.188070698842,
          266.89968770419,
          337.037171483549,
          632.328441464236,
          125.614078783213,
          116.32354834503,
          245.745815145904,
          304.726790666525,
          554.674088016623,
          126.939862525255,
          116.026980809451,
          297.908187578236,
          379.605776629742,
          726.851830062808,
          132.382944365408,
          118.465780580001,
          324.7799045376,
          411.037140917989,
          791.548979808233,
          140.151227650734,
          135.372797997877,
          303.405083277719,
          378.223603405397,
          703.671794633753,
          146.426153350281,
          139.221898628731,
          296.182233787953,
          373.814151409601,
          704.461110688033,
          138.357538811325,
          125.733959785075,
          300.433982114917,
          382.794915541841,
          736.036775144862,
          131.317804297082,
          119.535465377459,
          346.44230346926,
          442.681351189664,
          859.981553788882,
          145.640221777173,
          135.039164592706,
          350.287589711815,
          434.662000739379,
          828.888236469644,
          153.976430265145,
          165.174497498902,
          345.894904602857,
          430.063603512214,
          800.455910997857,
          166.256856350828,
          161.215831637009,
          340.3996476035,
          424.638378751191,
          796.361661359665,
          159.912831962165,
          155.538636466118,
          346.877276623175,
          433.946113797471,
          823.328623832417,
          156.689880855826,
          155.781382464577,
          337.252947138766,
          415.964145162416,
          784.829032432047,
          153.296860137059,
          164.615877660299,
          371.033551460534,
          459.150730987772,
          875.498149716287,
          162.714662633899,
          177.734481436539,
          300.156518832456,
          362.010985197051,
          652.013576619012,
          155.354871384752,
          164.66304356333,
          323.163613601868,
          392.428747747892,
          720.030945525092,
          159.048239617753,
          171.373578832305,
          291.880817354658,
          347.140318799778,
          606.372851183002,
          162.312474826095,
          170.949763562212,
          292.648049361256,
          346.054976958808,
          602.89718401853,
          162.922536644052,
          175.822804440603,
          230.525530631165,
          265.739304979787,
          424.013237911661,
          152.667913531363,
          153.680681557036,
          228.991558060177,
          256.970427072351,
          397.640774850058,
          156.388106827092,
          168.159081237488,
          207.534153505035,
          227.549174574243,
          329.841278971636,
          154.237868917472,
          164.230691419413,
          187.738738624833,
          203.153637850138,
          262.453771766974,
          160.355962585205,
          154.524294812598,
          146.0433702316,
          151.358416172498,
          180.225234112166,
          130.305318381264,
          134.988631183253,
          139.086444176089,
          138.30273071517,
          157.340020908346,
          124.257450237769,
          141.501852908757,
          132.700602657161,
          126.795234776927,
          132.608699545992,
          122.15234248129,
          146.425399039424,
          121.373276341381,
          115.277517259643,
          122.300251291093,
          109.827411548475,
          135.464260248283,
          92.3092094402992,
          85.1241386981417,
          89.5510585550933,
          81.5687085801443,
          108.808662615461,
          96.8201476669973,
          84.8075344771006,
          93.9877208883219,
          77.4345726187481,
          124.405338676338,
          94.0108791363514,
          92.8874267561623,
          95.8685933501939,
          90.4931368576127,
          96.5907215076583,
          95.7871163940093,
          93.5419844790187,
          92.5258295264274,
          94.358097722479,
          100.942730059175,
          70.3569175288962,
          71.4832615308094,
          67.3479653598181,
          74.8044774164086,
          67.7704349756135,
          73.6222849296053,
          72.9571302259929,
          64.4387356709391,
          79.7985815141759,
          75.1497144122545,
          81.9675101461357,
          79.0919531215882,
          65.3832696824945,
          90.1019256425297,
          88.5708019134183,
          89.7390785398944,
          84.7954718691893,
          74.3111788681259,
          93.2158120394222,
          101.091340710556,
          69.3477409552573,
          64.4703931961768,
          56.9335989838716,
          70.5234833811053,
          80.5478493268792,
          70.3498965565796,
          64.0261414625823,
          57.0812828784781,
          69.6038253089216,
          84.8714656279058,
          77.6268240285624,
          69.8732755290158,
          61.0853155201188,
          76.9312252324254,
          95.4317023659482,
          90.6184194238318,
          75.1255799317758,
          62.7423217858253,
          85.0710522677869,
          126.195435840615,
          69.291733724737,
          63.4571652720206,
          60.595473034228,
          65.7555007060155,
          82.6899579646238,
          80.3281132095427,
          73.031205376692,
          64.5385198171037,
          79.8520087788198,
          97.0843837365948,
          93.1479110931413,
          84.578209578698,
          66.0832114708628,
          99.4322560556508,
          112.826964221047,
          100.109163490671,
          94.8247808807897,
          72.0832427008139,
          113.089387511901,
          112.243967246995,
          76.0101785829216,
          74.0083057274686,
          57.2310748707121,
          87.4827470573788,
          80.6071837658183,
          92.3574502249287,
          82.0794530726466,
          71.8636739965028,
          90.284139351097,
          115.959351839277,
          98.1916363758417,
          92.0063061224143,
          83.0854072674157,
          99.1710241416179,
          112.395333256729,
          104.361847772402,
          102.534511530126,
          98.2611377217057,
          105.966622893078,
          108.558055415537,
          87.3437445997099,
          87.569293385067,
          85.9289525696287,
          87.8234306945011,
          86.3162445775275,
          103.197636153183,
          102.303516387459,
          104.499408959146,
          101.963307679169,
          107.270848419259,
          99.8163075572965,
          99.9679534737019,
          104.794937432305,
          99.2201108885662,
          99.1254761603386,
          109.579277139801,
          110.09717732665,
          104.701625939435,
          110.933107823261,
          107.219954066378,
          87.5965961821779,
          89.2667196111975,
          100.358588279012,
          87.548261085198,
          79.9882561166444,
          111.115246910621,
          111.435223907031,
          134.711737471452,
          107.829003495642,
          109.657573926973,
          118.032415534275,
          119.483087555462,
          129.632478132014,
          117.910646761911,
          111.423798548868,
          122.786164425743,
          125.279307682792,
          130.679195650193,
          124.442705321646,
          111.428511810297,
          108.818240863003,
          113.288483844673,
          115.866325416274,
          112.889099939213,
          88.4538006131756,
          120.698146871613,
          125.01504170726,
          144.979816743018,
          121.92190754679,
          101.032292620332,
          127.03751141477,
          129.89568791778,
          161.730503507824,
          124.963533389744,
          114.016929567729,
          140.097079673335,
          143.668864293867,
          153.772207495666,
          142.103557600631,
          123.825616402023,
          117.738667469308,
          121.428987328115,
          130.479401253269,
          120.026810522809,
          100.927210334744,
          134.472049408503,
          141.21844189812,
          148.481738897218,
          140.093142363048,
          103.738483622473,
          143.075618020815,
          146.476341892633,
          145.924865656215,
          146.561781872923,
          127.583431493646,
          152.548970652042,
          154.612959463204,
          144.044750285042,
          156.250287645736,
          143.146354956748,
          125.502072824203,
          131.206206813154,
          130.0581598748,
          131.384073240223,
          99.5165735412072,
          138.974525640812,
          143.258974882019,
          162.538931647242,
          140.271939326843,
          119.456479097537,
          152.085422459246,
          160.499427592683,
          172.429199690434,
          158.651153042327,
          113.754954629145,
          162.458591809369,
          171.992591696492,
          178.711637068843,
          170.951612835987,
          119.025925656919,
          139.944131121428,
          148.044064915702,
          142.716857701037,
          148.869406878537,
          103.044432725295,
          93.7662629720541,
          101.11785502731,
          82.5241604761527,
          103.99856826763,
          60.2756769425539,
          140.461863908526,
          149.146079280172,
          135.835813926074,
          151.208233067426,
          100.900438326583,
          151.759946335656,
          158.745307890157,
          137.596712901564,
          162.021850775714,
          119.937743698482,
          94.807180046825,
          98.9241284932385,
          66.8510079359132,
          103.893203509162,
          76.0521926798303,
          122.512023814744,
          125.863442870954,
          108.526517357012,
          128.549445415367,
          107.244448114234,
          140.313949044264,
          145.494314025914,
          131.856793110559,
          147.607169378997,
          116.714508572301,
          152.308498383767,
          155.997588256997,
          138.236747522886,
          158.749267807352,
          135.502644516833,
          117.810513139487,
          124.794994477852,
          112.483194704983,
          126.702456414493,
          85.992320375828,
          128.76863280686,
          135.169384872327,
          122.342467865162,
          137.156653704423,
          99.6096511752914,
          137.928376228945,
          143.058775679534,
          110.852064077229,
          148.048547899609,
          114.556556509597,
          135.693648030311,
          138.330489666083,
          114.957610359035,
          141.951639981259,
          123.68136946735
         ],
         "yaxis": "y"
        },
        {
         "customdata": [
          [
           "Value of Production Index in Building and Construction (Seasonally Adjusted)"
          ],
          [
           "Value of Production Index in Building and Construction (Seasonally Adjusted)"
          ],
          [
           "Value of Production Index in Building and Construction (Seasonally Adjusted)"
          ],
          [
           "Value of Production Index in Building and Construction (Seasonally Adjusted)"
          ],
          [
           "Value of Production Index in Building and Construction (Seasonally Adjusted)"
          ],
          [
           "Value of Production Index in Building and Construction (Seasonally Adjusted)"
          ],
          [
           "Value of Production Index in Building and Construction (Seasonally Adjusted)"
          ],
          [
           "Value of Production Index in Building and Construction (Seasonally Adjusted)"
          ],
          [
           "Value of Production Index in Building and Construction (Seasonally Adjusted)"
          ],
          [
           "Value of Production Index in Building and Construction (Seasonally Adjusted)"
          ],
          [
           "Value of Production Index in Building and Construction (Seasonally Adjusted)"
          ],
          [
           "Value of Production Index in Building and Construction (Seasonally Adjusted)"
          ],
          [
           "Value of Production Index in Building and Construction (Seasonally Adjusted)"
          ],
          [
           "Value of Production Index in Building and Construction (Seasonally Adjusted)"
          ],
          [
           "Value of Production Index in Building and Construction (Seasonally Adjusted)"
          ],
          [
           "Value of Production Index in Building and Construction (Seasonally Adjusted)"
          ],
          [
           "Value of Production Index in Building and Construction (Seasonally Adjusted)"
          ],
          [
           "Value of Production Index in Building and Construction (Seasonally Adjusted)"
          ],
          [
           "Value of Production Index in Building and Construction (Seasonally Adjusted)"
          ],
          [
           "Value of Production Index in Building and Construction (Seasonally Adjusted)"
          ],
          [
           "Value of Production Index in Building and Construction (Seasonally Adjusted)"
          ],
          [
           "Value of Production Index in Building and Construction (Seasonally Adjusted)"
          ],
          [
           "Value of Production Index in Building and Construction (Seasonally Adjusted)"
          ],
          [
           "Value of Production Index in Building and Construction (Seasonally Adjusted)"
          ],
          [
           "Value of Production Index in Building and Construction (Seasonally Adjusted)"
          ],
          [
           "Value of Production Index in Building and Construction (Seasonally Adjusted)"
          ],
          [
           "Value of Production Index in Building and Construction (Seasonally Adjusted)"
          ],
          [
           "Value of Production Index in Building and Construction (Seasonally Adjusted)"
          ],
          [
           "Value of Production Index in Building and Construction (Seasonally Adjusted)"
          ],
          [
           "Value of Production Index in Building and Construction (Seasonally Adjusted)"
          ],
          [
           "Value of Production Index in Building and Construction (Seasonally Adjusted)"
          ],
          [
           "Value of Production Index in Building and Construction (Seasonally Adjusted)"
          ],
          [
           "Value of Production Index in Building and Construction (Seasonally Adjusted)"
          ],
          [
           "Value of Production Index in Building and Construction (Seasonally Adjusted)"
          ],
          [
           "Value of Production Index in Building and Construction (Seasonally Adjusted)"
          ],
          [
           "Value of Production Index in Building and Construction (Seasonally Adjusted)"
          ],
          [
           "Value of Production Index in Building and Construction (Seasonally Adjusted)"
          ],
          [
           "Value of Production Index in Building and Construction (Seasonally Adjusted)"
          ],
          [
           "Value of Production Index in Building and Construction (Seasonally Adjusted)"
          ],
          [
           "Value of Production Index in Building and Construction (Seasonally Adjusted)"
          ],
          [
           "Value of Production Index in Building and Construction (Seasonally Adjusted)"
          ],
          [
           "Value of Production Index in Building and Construction (Seasonally Adjusted)"
          ],
          [
           "Value of Production Index in Building and Construction (Seasonally Adjusted)"
          ],
          [
           "Value of Production Index in Building and Construction (Seasonally Adjusted)"
          ],
          [
           "Value of Production Index in Building and Construction (Seasonally Adjusted)"
          ],
          [
           "Value of Production Index in Building and Construction (Seasonally Adjusted)"
          ],
          [
           "Value of Production Index in Building and Construction (Seasonally Adjusted)"
          ],
          [
           "Value of Production Index in Building and Construction (Seasonally Adjusted)"
          ],
          [
           "Value of Production Index in Building and Construction (Seasonally Adjusted)"
          ],
          [
           "Value of Production Index in Building and Construction (Seasonally Adjusted)"
          ],
          [
           "Value of Production Index in Building and Construction (Seasonally Adjusted)"
          ],
          [
           "Value of Production Index in Building and Construction (Seasonally Adjusted)"
          ],
          [
           "Value of Production Index in Building and Construction (Seasonally Adjusted)"
          ],
          [
           "Value of Production Index in Building and Construction (Seasonally Adjusted)"
          ],
          [
           "Value of Production Index in Building and Construction (Seasonally Adjusted)"
          ],
          [
           "Value of Production Index in Building and Construction (Seasonally Adjusted)"
          ],
          [
           "Value of Production Index in Building and Construction (Seasonally Adjusted)"
          ],
          [
           "Value of Production Index in Building and Construction (Seasonally Adjusted)"
          ],
          [
           "Value of Production Index in Building and Construction (Seasonally Adjusted)"
          ],
          [
           "Value of Production Index in Building and Construction (Seasonally Adjusted)"
          ],
          [
           "Value of Production Index in Building and Construction (Seasonally Adjusted)"
          ],
          [
           "Value of Production Index in Building and Construction (Seasonally Adjusted)"
          ],
          [
           "Value of Production Index in Building and Construction (Seasonally Adjusted)"
          ],
          [
           "Value of Production Index in Building and Construction (Seasonally Adjusted)"
          ],
          [
           "Value of Production Index in Building and Construction (Seasonally Adjusted)"
          ],
          [
           "Value of Production Index in Building and Construction (Seasonally Adjusted)"
          ],
          [
           "Value of Production Index in Building and Construction (Seasonally Adjusted)"
          ],
          [
           "Value of Production Index in Building and Construction (Seasonally Adjusted)"
          ],
          [
           "Value of Production Index in Building and Construction (Seasonally Adjusted)"
          ],
          [
           "Value of Production Index in Building and Construction (Seasonally Adjusted)"
          ],
          [
           "Value of Production Index in Building and Construction (Seasonally Adjusted)"
          ],
          [
           "Value of Production Index in Building and Construction (Seasonally Adjusted)"
          ],
          [
           "Value of Production Index in Building and Construction (Seasonally Adjusted)"
          ],
          [
           "Value of Production Index in Building and Construction (Seasonally Adjusted)"
          ],
          [
           "Value of Production Index in Building and Construction (Seasonally Adjusted)"
          ],
          [
           "Value of Production Index in Building and Construction (Seasonally Adjusted)"
          ],
          [
           "Value of Production Index in Building and Construction (Seasonally Adjusted)"
          ],
          [
           "Value of Production Index in Building and Construction (Seasonally Adjusted)"
          ],
          [
           "Value of Production Index in Building and Construction (Seasonally Adjusted)"
          ],
          [
           "Value of Production Index in Building and Construction (Seasonally Adjusted)"
          ],
          [
           "Value of Production Index in Building and Construction (Seasonally Adjusted)"
          ],
          [
           "Value of Production Index in Building and Construction (Seasonally Adjusted)"
          ],
          [
           "Value of Production Index in Building and Construction (Seasonally Adjusted)"
          ],
          [
           "Value of Production Index in Building and Construction (Seasonally Adjusted)"
          ],
          [
           "Value of Production Index in Building and Construction (Seasonally Adjusted)"
          ],
          [
           "Value of Production Index in Building and Construction (Seasonally Adjusted)"
          ],
          [
           "Value of Production Index in Building and Construction (Seasonally Adjusted)"
          ],
          [
           "Value of Production Index in Building and Construction (Seasonally Adjusted)"
          ],
          [
           "Value of Production Index in Building and Construction (Seasonally Adjusted)"
          ],
          [
           "Value of Production Index in Building and Construction (Seasonally Adjusted)"
          ],
          [
           "Value of Production Index in Building and Construction (Seasonally Adjusted)"
          ],
          [
           "Value of Production Index in Building and Construction (Seasonally Adjusted)"
          ],
          [
           "Value of Production Index in Building and Construction (Seasonally Adjusted)"
          ],
          [
           "Value of Production Index in Building and Construction (Seasonally Adjusted)"
          ],
          [
           "Value of Production Index in Building and Construction (Seasonally Adjusted)"
          ],
          [
           "Value of Production Index in Building and Construction (Seasonally Adjusted)"
          ],
          [
           "Value of Production Index in Building and Construction (Seasonally Adjusted)"
          ],
          [
           "Value of Production Index in Building and Construction (Seasonally Adjusted)"
          ],
          [
           "Value of Production Index in Building and Construction (Seasonally Adjusted)"
          ],
          [
           "Value of Production Index in Building and Construction (Seasonally Adjusted)"
          ],
          [
           "Value of Production Index in Building and Construction (Seasonally Adjusted)"
          ],
          [
           "Value of Production Index in Building and Construction (Seasonally Adjusted)"
          ],
          [
           "Value of Production Index in Building and Construction (Seasonally Adjusted)"
          ],
          [
           "Value of Production Index in Building and Construction (Seasonally Adjusted)"
          ],
          [
           "Value of Production Index in Building and Construction (Seasonally Adjusted)"
          ],
          [
           "Value of Production Index in Building and Construction (Seasonally Adjusted)"
          ],
          [
           "Value of Production Index in Building and Construction (Seasonally Adjusted)"
          ],
          [
           "Value of Production Index in Building and Construction (Seasonally Adjusted)"
          ],
          [
           "Value of Production Index in Building and Construction (Seasonally Adjusted)"
          ],
          [
           "Value of Production Index in Building and Construction (Seasonally Adjusted)"
          ],
          [
           "Value of Production Index in Building and Construction (Seasonally Adjusted)"
          ],
          [
           "Value of Production Index in Building and Construction (Seasonally Adjusted)"
          ],
          [
           "Value of Production Index in Building and Construction (Seasonally Adjusted)"
          ],
          [
           "Value of Production Index in Building and Construction (Seasonally Adjusted)"
          ],
          [
           "Value of Production Index in Building and Construction (Seasonally Adjusted)"
          ],
          [
           "Value of Production Index in Building and Construction (Seasonally Adjusted)"
          ],
          [
           "Value of Production Index in Building and Construction (Seasonally Adjusted)"
          ],
          [
           "Value of Production Index in Building and Construction (Seasonally Adjusted)"
          ],
          [
           "Value of Production Index in Building and Construction (Seasonally Adjusted)"
          ],
          [
           "Value of Production Index in Building and Construction (Seasonally Adjusted)"
          ],
          [
           "Value of Production Index in Building and Construction (Seasonally Adjusted)"
          ],
          [
           "Value of Production Index in Building and Construction (Seasonally Adjusted)"
          ],
          [
           "Value of Production Index in Building and Construction (Seasonally Adjusted)"
          ],
          [
           "Value of Production Index in Building and Construction (Seasonally Adjusted)"
          ],
          [
           "Value of Production Index in Building and Construction (Seasonally Adjusted)"
          ],
          [
           "Value of Production Index in Building and Construction (Seasonally Adjusted)"
          ],
          [
           "Value of Production Index in Building and Construction (Seasonally Adjusted)"
          ],
          [
           "Value of Production Index in Building and Construction (Seasonally Adjusted)"
          ],
          [
           "Value of Production Index in Building and Construction (Seasonally Adjusted)"
          ],
          [
           "Value of Production Index in Building and Construction (Seasonally Adjusted)"
          ],
          [
           "Value of Production Index in Building and Construction (Seasonally Adjusted)"
          ],
          [
           "Value of Production Index in Building and Construction (Seasonally Adjusted)"
          ],
          [
           "Value of Production Index in Building and Construction (Seasonally Adjusted)"
          ],
          [
           "Value of Production Index in Building and Construction (Seasonally Adjusted)"
          ],
          [
           "Value of Production Index in Building and Construction (Seasonally Adjusted)"
          ],
          [
           "Value of Production Index in Building and Construction (Seasonally Adjusted)"
          ],
          [
           "Value of Production Index in Building and Construction (Seasonally Adjusted)"
          ],
          [
           "Value of Production Index in Building and Construction (Seasonally Adjusted)"
          ],
          [
           "Value of Production Index in Building and Construction (Seasonally Adjusted)"
          ],
          [
           "Value of Production Index in Building and Construction (Seasonally Adjusted)"
          ],
          [
           "Value of Production Index in Building and Construction (Seasonally Adjusted)"
          ],
          [
           "Value of Production Index in Building and Construction (Seasonally Adjusted)"
          ],
          [
           "Value of Production Index in Building and Construction (Seasonally Adjusted)"
          ],
          [
           "Value of Production Index in Building and Construction (Seasonally Adjusted)"
          ],
          [
           "Value of Production Index in Building and Construction (Seasonally Adjusted)"
          ],
          [
           "Value of Production Index in Building and Construction (Seasonally Adjusted)"
          ],
          [
           "Value of Production Index in Building and Construction (Seasonally Adjusted)"
          ],
          [
           "Value of Production Index in Building and Construction (Seasonally Adjusted)"
          ],
          [
           "Value of Production Index in Building and Construction (Seasonally Adjusted)"
          ],
          [
           "Value of Production Index in Building and Construction (Seasonally Adjusted)"
          ],
          [
           "Value of Production Index in Building and Construction (Seasonally Adjusted)"
          ],
          [
           "Value of Production Index in Building and Construction (Seasonally Adjusted)"
          ],
          [
           "Value of Production Index in Building and Construction (Seasonally Adjusted)"
          ],
          [
           "Value of Production Index in Building and Construction (Seasonally Adjusted)"
          ],
          [
           "Value of Production Index in Building and Construction (Seasonally Adjusted)"
          ],
          [
           "Value of Production Index in Building and Construction (Seasonally Adjusted)"
          ],
          [
           "Value of Production Index in Building and Construction (Seasonally Adjusted)"
          ],
          [
           "Value of Production Index in Building and Construction (Seasonally Adjusted)"
          ],
          [
           "Value of Production Index in Building and Construction (Seasonally Adjusted)"
          ],
          [
           "Value of Production Index in Building and Construction (Seasonally Adjusted)"
          ],
          [
           "Value of Production Index in Building and Construction (Seasonally Adjusted)"
          ],
          [
           "Value of Production Index in Building and Construction (Seasonally Adjusted)"
          ],
          [
           "Value of Production Index in Building and Construction (Seasonally Adjusted)"
          ],
          [
           "Value of Production Index in Building and Construction (Seasonally Adjusted)"
          ],
          [
           "Value of Production Index in Building and Construction (Seasonally Adjusted)"
          ],
          [
           "Value of Production Index in Building and Construction (Seasonally Adjusted)"
          ],
          [
           "Value of Production Index in Building and Construction (Seasonally Adjusted)"
          ],
          [
           "Value of Production Index in Building and Construction (Seasonally Adjusted)"
          ],
          [
           "Value of Production Index in Building and Construction (Seasonally Adjusted)"
          ],
          [
           "Value of Production Index in Building and Construction (Seasonally Adjusted)"
          ],
          [
           "Value of Production Index in Building and Construction (Seasonally Adjusted)"
          ],
          [
           "Value of Production Index in Building and Construction (Seasonally Adjusted)"
          ],
          [
           "Value of Production Index in Building and Construction (Seasonally Adjusted)"
          ],
          [
           "Value of Production Index in Building and Construction (Seasonally Adjusted)"
          ],
          [
           "Value of Production Index in Building and Construction (Seasonally Adjusted)"
          ],
          [
           "Value of Production Index in Building and Construction (Seasonally Adjusted)"
          ],
          [
           "Value of Production Index in Building and Construction (Seasonally Adjusted)"
          ],
          [
           "Value of Production Index in Building and Construction (Seasonally Adjusted)"
          ],
          [
           "Value of Production Index in Building and Construction (Seasonally Adjusted)"
          ],
          [
           "Value of Production Index in Building and Construction (Seasonally Adjusted)"
          ],
          [
           "Value of Production Index in Building and Construction (Seasonally Adjusted)"
          ],
          [
           "Value of Production Index in Building and Construction (Seasonally Adjusted)"
          ],
          [
           "Value of Production Index in Building and Construction (Seasonally Adjusted)"
          ],
          [
           "Value of Production Index in Building and Construction (Seasonally Adjusted)"
          ],
          [
           "Value of Production Index in Building and Construction (Seasonally Adjusted)"
          ],
          [
           "Value of Production Index in Building and Construction (Seasonally Adjusted)"
          ],
          [
           "Value of Production Index in Building and Construction (Seasonally Adjusted)"
          ],
          [
           "Value of Production Index in Building and Construction (Seasonally Adjusted)"
          ],
          [
           "Value of Production Index in Building and Construction (Seasonally Adjusted)"
          ],
          [
           "Value of Production Index in Building and Construction (Seasonally Adjusted)"
          ],
          [
           "Value of Production Index in Building and Construction (Seasonally Adjusted)"
          ],
          [
           "Value of Production Index in Building and Construction (Seasonally Adjusted)"
          ],
          [
           "Value of Production Index in Building and Construction (Seasonally Adjusted)"
          ],
          [
           "Value of Production Index in Building and Construction (Seasonally Adjusted)"
          ],
          [
           "Value of Production Index in Building and Construction (Seasonally Adjusted)"
          ],
          [
           "Value of Production Index in Building and Construction (Seasonally Adjusted)"
          ],
          [
           "Value of Production Index in Building and Construction (Seasonally Adjusted)"
          ],
          [
           "Value of Production Index in Building and Construction (Seasonally Adjusted)"
          ],
          [
           "Value of Production Index in Building and Construction (Seasonally Adjusted)"
          ],
          [
           "Value of Production Index in Building and Construction (Seasonally Adjusted)"
          ],
          [
           "Value of Production Index in Building and Construction (Seasonally Adjusted)"
          ],
          [
           "Value of Production Index in Building and Construction (Seasonally Adjusted)"
          ],
          [
           "Value of Production Index in Building and Construction (Seasonally Adjusted)"
          ],
          [
           "Value of Production Index in Building and Construction (Seasonally Adjusted)"
          ],
          [
           "Value of Production Index in Building and Construction (Seasonally Adjusted)"
          ],
          [
           "Value of Production Index in Building and Construction (Seasonally Adjusted)"
          ],
          [
           "Value of Production Index in Building and Construction (Seasonally Adjusted)"
          ],
          [
           "Value of Production Index in Building and Construction (Seasonally Adjusted)"
          ],
          [
           "Value of Production Index in Building and Construction (Seasonally Adjusted)"
          ],
          [
           "Value of Production Index in Building and Construction (Seasonally Adjusted)"
          ],
          [
           "Value of Production Index in Building and Construction (Seasonally Adjusted)"
          ],
          [
           "Value of Production Index in Building and Construction (Seasonally Adjusted)"
          ],
          [
           "Value of Production Index in Building and Construction (Seasonally Adjusted)"
          ],
          [
           "Value of Production Index in Building and Construction (Seasonally Adjusted)"
          ],
          [
           "Value of Production Index in Building and Construction (Seasonally Adjusted)"
          ],
          [
           "Value of Production Index in Building and Construction (Seasonally Adjusted)"
          ],
          [
           "Value of Production Index in Building and Construction (Seasonally Adjusted)"
          ],
          [
           "Value of Production Index in Building and Construction (Seasonally Adjusted)"
          ],
          [
           "Value of Production Index in Building and Construction (Seasonally Adjusted)"
          ],
          [
           "Value of Production Index in Building and Construction (Seasonally Adjusted)"
          ],
          [
           "Value of Production Index in Building and Construction (Seasonally Adjusted)"
          ],
          [
           "Value of Production Index in Building and Construction (Seasonally Adjusted)"
          ],
          [
           "Value of Production Index in Building and Construction (Seasonally Adjusted)"
          ],
          [
           "Value of Production Index in Building and Construction (Seasonally Adjusted)"
          ],
          [
           "Value of Production Index in Building and Construction (Seasonally Adjusted)"
          ],
          [
           "Value of Production Index in Building and Construction (Seasonally Adjusted)"
          ],
          [
           "Value of Production Index in Building and Construction (Seasonally Adjusted)"
          ],
          [
           "Value of Production Index in Building and Construction (Seasonally Adjusted)"
          ],
          [
           "Value of Production Index in Building and Construction (Seasonally Adjusted)"
          ],
          [
           "Value of Production Index in Building and Construction (Seasonally Adjusted)"
          ],
          [
           "Value of Production Index in Building and Construction (Seasonally Adjusted)"
          ],
          [
           "Value of Production Index in Building and Construction (Seasonally Adjusted)"
          ],
          [
           "Value of Production Index in Building and Construction (Seasonally Adjusted)"
          ],
          [
           "Value of Production Index in Building and Construction (Seasonally Adjusted)"
          ],
          [
           "Value of Production Index in Building and Construction (Seasonally Adjusted)"
          ],
          [
           "Value of Production Index in Building and Construction (Seasonally Adjusted)"
          ],
          [
           "Value of Production Index in Building and Construction (Seasonally Adjusted)"
          ],
          [
           "Value of Production Index in Building and Construction (Seasonally Adjusted)"
          ],
          [
           "Value of Production Index in Building and Construction (Seasonally Adjusted)"
          ],
          [
           "Value of Production Index in Building and Construction (Seasonally Adjusted)"
          ],
          [
           "Value of Production Index in Building and Construction (Seasonally Adjusted)"
          ],
          [
           "Value of Production Index in Building and Construction (Seasonally Adjusted)"
          ],
          [
           "Value of Production Index in Building and Construction (Seasonally Adjusted)"
          ],
          [
           "Value of Production Index in Building and Construction (Seasonally Adjusted)"
          ],
          [
           "Value of Production Index in Building and Construction (Seasonally Adjusted)"
          ],
          [
           "Value of Production Index in Building and Construction (Seasonally Adjusted)"
          ],
          [
           "Value of Production Index in Building and Construction (Seasonally Adjusted)"
          ],
          [
           "Value of Production Index in Building and Construction (Seasonally Adjusted)"
          ],
          [
           "Value of Production Index in Building and Construction (Seasonally Adjusted)"
          ],
          [
           "Value of Production Index in Building and Construction (Seasonally Adjusted)"
          ],
          [
           "Value of Production Index in Building and Construction (Seasonally Adjusted)"
          ],
          [
           "Value of Production Index in Building and Construction (Seasonally Adjusted)"
          ],
          [
           "Value of Production Index in Building and Construction (Seasonally Adjusted)"
          ],
          [
           "Value of Production Index in Building and Construction (Seasonally Adjusted)"
          ],
          [
           "Value of Production Index in Building and Construction (Seasonally Adjusted)"
          ],
          [
           "Value of Production Index in Building and Construction (Seasonally Adjusted)"
          ],
          [
           "Value of Production Index in Building and Construction (Seasonally Adjusted)"
          ],
          [
           "Value of Production Index in Building and Construction (Seasonally Adjusted)"
          ],
          [
           "Value of Production Index in Building and Construction (Seasonally Adjusted)"
          ],
          [
           "Value of Production Index in Building and Construction (Seasonally Adjusted)"
          ],
          [
           "Value of Production Index in Building and Construction (Seasonally Adjusted)"
          ],
          [
           "Value of Production Index in Building and Construction (Seasonally Adjusted)"
          ],
          [
           "Value of Production Index in Building and Construction (Seasonally Adjusted)"
          ],
          [
           "Value of Production Index in Building and Construction (Seasonally Adjusted)"
          ],
          [
           "Value of Production Index in Building and Construction (Seasonally Adjusted)"
          ],
          [
           "Value of Production Index in Building and Construction (Seasonally Adjusted)"
          ],
          [
           "Value of Production Index in Building and Construction (Seasonally Adjusted)"
          ],
          [
           "Value of Production Index in Building and Construction (Seasonally Adjusted)"
          ],
          [
           "Value of Production Index in Building and Construction (Seasonally Adjusted)"
          ],
          [
           "Value of Production Index in Building and Construction (Seasonally Adjusted)"
          ],
          [
           "Value of Production Index in Building and Construction (Seasonally Adjusted)"
          ],
          [
           "Value of Production Index in Building and Construction (Seasonally Adjusted)"
          ],
          [
           "Value of Production Index in Building and Construction (Seasonally Adjusted)"
          ],
          [
           "Value of Production Index in Building and Construction (Seasonally Adjusted)"
          ],
          [
           "Value of Production Index in Building and Construction (Seasonally Adjusted)"
          ],
          [
           "Value of Production Index in Building and Construction (Seasonally Adjusted)"
          ],
          [
           "Value of Production Index in Building and Construction (Seasonally Adjusted)"
          ],
          [
           "Value of Production Index in Building and Construction (Seasonally Adjusted)"
          ],
          [
           "Value of Production Index in Building and Construction (Seasonally Adjusted)"
          ],
          [
           "Value of Production Index in Building and Construction (Seasonally Adjusted)"
          ],
          [
           "Value of Production Index in Building and Construction (Seasonally Adjusted)"
          ],
          [
           "Value of Production Index in Building and Construction (Seasonally Adjusted)"
          ],
          [
           "Value of Production Index in Building and Construction (Seasonally Adjusted)"
          ],
          [
           "Value of Production Index in Building and Construction (Seasonally Adjusted)"
          ],
          [
           "Value of Production Index in Building and Construction (Seasonally Adjusted)"
          ],
          [
           "Value of Production Index in Building and Construction (Seasonally Adjusted)"
          ],
          [
           "Value of Production Index in Building and Construction (Seasonally Adjusted)"
          ],
          [
           "Value of Production Index in Building and Construction (Seasonally Adjusted)"
          ],
          [
           "Value of Production Index in Building and Construction (Seasonally Adjusted)"
          ],
          [
           "Value of Production Index in Building and Construction (Seasonally Adjusted)"
          ],
          [
           "Value of Production Index in Building and Construction (Seasonally Adjusted)"
          ],
          [
           "Value of Production Index in Building and Construction (Seasonally Adjusted)"
          ],
          [
           "Value of Production Index in Building and Construction (Seasonally Adjusted)"
          ],
          [
           "Value of Production Index in Building and Construction (Seasonally Adjusted)"
          ],
          [
           "Value of Production Index in Building and Construction (Seasonally Adjusted)"
          ],
          [
           "Value of Production Index in Building and Construction (Seasonally Adjusted)"
          ],
          [
           "Value of Production Index in Building and Construction (Seasonally Adjusted)"
          ],
          [
           "Value of Production Index in Building and Construction (Seasonally Adjusted)"
          ],
          [
           "Value of Production Index in Building and Construction (Seasonally Adjusted)"
          ],
          [
           "Value of Production Index in Building and Construction (Seasonally Adjusted)"
          ],
          [
           "Value of Production Index in Building and Construction (Seasonally Adjusted)"
          ],
          [
           "Value of Production Index in Building and Construction (Seasonally Adjusted)"
          ],
          [
           "Value of Production Index in Building and Construction (Seasonally Adjusted)"
          ],
          [
           "Value of Production Index in Building and Construction (Seasonally Adjusted)"
          ],
          [
           "Value of Production Index in Building and Construction (Seasonally Adjusted)"
          ],
          [
           "Value of Production Index in Building and Construction (Seasonally Adjusted)"
          ],
          [
           "Value of Production Index in Building and Construction (Seasonally Adjusted)"
          ],
          [
           "Value of Production Index in Building and Construction (Seasonally Adjusted)"
          ],
          [
           "Value of Production Index in Building and Construction (Seasonally Adjusted)"
          ],
          [
           "Value of Production Index in Building and Construction (Seasonally Adjusted)"
          ],
          [
           "Value of Production Index in Building and Construction (Seasonally Adjusted)"
          ],
          [
           "Value of Production Index in Building and Construction (Seasonally Adjusted)"
          ],
          [
           "Value of Production Index in Building and Construction (Seasonally Adjusted)"
          ],
          [
           "Value of Production Index in Building and Construction (Seasonally Adjusted)"
          ],
          [
           "Value of Production Index in Building and Construction (Seasonally Adjusted)"
          ],
          [
           "Value of Production Index in Building and Construction (Seasonally Adjusted)"
          ],
          [
           "Value of Production Index in Building and Construction (Seasonally Adjusted)"
          ],
          [
           "Value of Production Index in Building and Construction (Seasonally Adjusted)"
          ],
          [
           "Value of Production Index in Building and Construction (Seasonally Adjusted)"
          ],
          [
           "Value of Production Index in Building and Construction (Seasonally Adjusted)"
          ],
          [
           "Value of Production Index in Building and Construction (Seasonally Adjusted)"
          ],
          [
           "Value of Production Index in Building and Construction (Seasonally Adjusted)"
          ],
          [
           "Value of Production Index in Building and Construction (Seasonally Adjusted)"
          ],
          [
           "Value of Production Index in Building and Construction (Seasonally Adjusted)"
          ],
          [
           "Value of Production Index in Building and Construction (Seasonally Adjusted)"
          ],
          [
           "Value of Production Index in Building and Construction (Seasonally Adjusted)"
          ],
          [
           "Value of Production Index in Building and Construction (Seasonally Adjusted)"
          ],
          [
           "Value of Production Index in Building and Construction (Seasonally Adjusted)"
          ],
          [
           "Value of Production Index in Building and Construction (Seasonally Adjusted)"
          ],
          [
           "Value of Production Index in Building and Construction (Seasonally Adjusted)"
          ],
          [
           "Value of Production Index in Building and Construction (Seasonally Adjusted)"
          ],
          [
           "Value of Production Index in Building and Construction (Seasonally Adjusted)"
          ],
          [
           "Value of Production Index in Building and Construction (Seasonally Adjusted)"
          ],
          [
           "Value of Production Index in Building and Construction (Seasonally Adjusted)"
          ],
          [
           "Value of Production Index in Building and Construction (Seasonally Adjusted)"
          ],
          [
           "Value of Production Index in Building and Construction (Seasonally Adjusted)"
          ],
          [
           "Value of Production Index in Building and Construction (Seasonally Adjusted)"
          ],
          [
           "Value of Production Index in Building and Construction (Seasonally Adjusted)"
          ],
          [
           "Value of Production Index in Building and Construction (Seasonally Adjusted)"
          ],
          [
           "Value of Production Index in Building and Construction (Seasonally Adjusted)"
          ],
          [
           "Value of Production Index in Building and Construction (Seasonally Adjusted)"
          ],
          [
           "Value of Production Index in Building and Construction (Seasonally Adjusted)"
          ],
          [
           "Value of Production Index in Building and Construction (Seasonally Adjusted)"
          ],
          [
           "Value of Production Index in Building and Construction (Seasonally Adjusted)"
          ],
          [
           "Value of Production Index in Building and Construction (Seasonally Adjusted)"
          ],
          [
           "Value of Production Index in Building and Construction (Seasonally Adjusted)"
          ],
          [
           "Value of Production Index in Building and Construction (Seasonally Adjusted)"
          ],
          [
           "Value of Production Index in Building and Construction (Seasonally Adjusted)"
          ],
          [
           "Value of Production Index in Building and Construction (Seasonally Adjusted)"
          ],
          [
           "Value of Production Index in Building and Construction (Seasonally Adjusted)"
          ],
          [
           "Value of Production Index in Building and Construction (Seasonally Adjusted)"
          ],
          [
           "Value of Production Index in Building and Construction (Seasonally Adjusted)"
          ],
          [
           "Value of Production Index in Building and Construction (Seasonally Adjusted)"
          ],
          [
           "Value of Production Index in Building and Construction (Seasonally Adjusted)"
          ],
          [
           "Value of Production Index in Building and Construction (Seasonally Adjusted)"
          ],
          [
           "Value of Production Index in Building and Construction (Seasonally Adjusted)"
          ],
          [
           "Value of Production Index in Building and Construction (Seasonally Adjusted)"
          ],
          [
           "Value of Production Index in Building and Construction (Seasonally Adjusted)"
          ],
          [
           "Value of Production Index in Building and Construction (Seasonally Adjusted)"
          ],
          [
           "Value of Production Index in Building and Construction (Seasonally Adjusted)"
          ],
          [
           "Value of Production Index in Building and Construction (Seasonally Adjusted)"
          ],
          [
           "Value of Production Index in Building and Construction (Seasonally Adjusted)"
          ],
          [
           "Value of Production Index in Building and Construction (Seasonally Adjusted)"
          ],
          [
           "Value of Production Index in Building and Construction (Seasonally Adjusted)"
          ],
          [
           "Value of Production Index in Building and Construction (Seasonally Adjusted)"
          ],
          [
           "Value of Production Index in Building and Construction (Seasonally Adjusted)"
          ],
          [
           "Value of Production Index in Building and Construction (Seasonally Adjusted)"
          ],
          [
           "Value of Production Index in Building and Construction (Seasonally Adjusted)"
          ],
          [
           "Value of Production Index in Building and Construction (Seasonally Adjusted)"
          ],
          [
           "Value of Production Index in Building and Construction (Seasonally Adjusted)"
          ],
          [
           "Value of Production Index in Building and Construction (Seasonally Adjusted)"
          ],
          [
           "Value of Production Index in Building and Construction (Seasonally Adjusted)"
          ],
          [
           "Value of Production Index in Building and Construction (Seasonally Adjusted)"
          ],
          [
           "Value of Production Index in Building and Construction (Seasonally Adjusted)"
          ],
          [
           "Value of Production Index in Building and Construction (Seasonally Adjusted)"
          ],
          [
           "Value of Production Index in Building and Construction (Seasonally Adjusted)"
          ],
          [
           "Value of Production Index in Building and Construction (Seasonally Adjusted)"
          ],
          [
           "Value of Production Index in Building and Construction (Seasonally Adjusted)"
          ],
          [
           "Value of Production Index in Building and Construction (Seasonally Adjusted)"
          ],
          [
           "Value of Production Index in Building and Construction (Seasonally Adjusted)"
          ],
          [
           "Value of Production Index in Building and Construction (Seasonally Adjusted)"
          ],
          [
           "Value of Production Index in Building and Construction (Seasonally Adjusted)"
          ],
          [
           "Value of Production Index in Building and Construction (Seasonally Adjusted)"
          ],
          [
           "Value of Production Index in Building and Construction (Seasonally Adjusted)"
          ],
          [
           "Value of Production Index in Building and Construction (Seasonally Adjusted)"
          ],
          [
           "Value of Production Index in Building and Construction (Seasonally Adjusted)"
          ],
          [
           "Value of Production Index in Building and Construction (Seasonally Adjusted)"
          ],
          [
           "Value of Production Index in Building and Construction (Seasonally Adjusted)"
          ],
          [
           "Value of Production Index in Building and Construction (Seasonally Adjusted)"
          ],
          [
           "Value of Production Index in Building and Construction (Seasonally Adjusted)"
          ],
          [
           "Value of Production Index in Building and Construction (Seasonally Adjusted)"
          ],
          [
           "Value of Production Index in Building and Construction (Seasonally Adjusted)"
          ],
          [
           "Value of Production Index in Building and Construction (Seasonally Adjusted)"
          ],
          [
           "Value of Production Index in Building and Construction (Seasonally Adjusted)"
          ],
          [
           "Value of Production Index in Building and Construction (Seasonally Adjusted)"
          ],
          [
           "Value of Production Index in Building and Construction (Seasonally Adjusted)"
          ],
          [
           "Value of Production Index in Building and Construction (Seasonally Adjusted)"
          ],
          [
           "Value of Production Index in Building and Construction (Seasonally Adjusted)"
          ],
          [
           "Value of Production Index in Building and Construction (Seasonally Adjusted)"
          ],
          [
           "Value of Production Index in Building and Construction (Seasonally Adjusted)"
          ],
          [
           "Value of Production Index in Building and Construction (Seasonally Adjusted)"
          ],
          [
           "Value of Production Index in Building and Construction (Seasonally Adjusted)"
          ],
          [
           "Value of Production Index in Building and Construction (Seasonally Adjusted)"
          ],
          [
           "Value of Production Index in Building and Construction (Seasonally Adjusted)"
          ],
          [
           "Value of Production Index in Building and Construction (Seasonally Adjusted)"
          ],
          [
           "Value of Production Index in Building and Construction (Seasonally Adjusted)"
          ],
          [
           "Value of Production Index in Building and Construction (Seasonally Adjusted)"
          ],
          [
           "Value of Production Index in Building and Construction (Seasonally Adjusted)"
          ],
          [
           "Value of Production Index in Building and Construction (Seasonally Adjusted)"
          ],
          [
           "Value of Production Index in Building and Construction (Seasonally Adjusted)"
          ],
          [
           "Value of Production Index in Building and Construction (Seasonally Adjusted)"
          ],
          [
           "Value of Production Index in Building and Construction (Seasonally Adjusted)"
          ],
          [
           "Value of Production Index in Building and Construction (Seasonally Adjusted)"
          ],
          [
           "Value of Production Index in Building and Construction (Seasonally Adjusted)"
          ],
          [
           "Value of Production Index in Building and Construction (Seasonally Adjusted)"
          ],
          [
           "Value of Production Index in Building and Construction (Seasonally Adjusted)"
          ],
          [
           "Value of Production Index in Building and Construction (Seasonally Adjusted)"
          ],
          [
           "Value of Production Index in Building and Construction (Seasonally Adjusted)"
          ],
          [
           "Value of Production Index in Building and Construction (Seasonally Adjusted)"
          ],
          [
           "Value of Production Index in Building and Construction (Seasonally Adjusted)"
          ],
          [
           "Value of Production Index in Building and Construction (Seasonally Adjusted)"
          ],
          [
           "Value of Production Index in Building and Construction (Seasonally Adjusted)"
          ],
          [
           "Value of Production Index in Building and Construction (Seasonally Adjusted)"
          ],
          [
           "Value of Production Index in Building and Construction (Seasonally Adjusted)"
          ],
          [
           "Value of Production Index in Building and Construction (Seasonally Adjusted)"
          ],
          [
           "Value of Production Index in Building and Construction (Seasonally Adjusted)"
          ],
          [
           "Value of Production Index in Building and Construction (Seasonally Adjusted)"
          ],
          [
           "Value of Production Index in Building and Construction (Seasonally Adjusted)"
          ],
          [
           "Value of Production Index in Building and Construction (Seasonally Adjusted)"
          ],
          [
           "Value of Production Index in Building and Construction (Seasonally Adjusted)"
          ],
          [
           "Value of Production Index in Building and Construction (Seasonally Adjusted)"
          ],
          [
           "Value of Production Index in Building and Construction (Seasonally Adjusted)"
          ],
          [
           "Value of Production Index in Building and Construction (Seasonally Adjusted)"
          ],
          [
           "Value of Production Index in Building and Construction (Seasonally Adjusted)"
          ],
          [
           "Value of Production Index in Building and Construction (Seasonally Adjusted)"
          ],
          [
           "Value of Production Index in Building and Construction (Seasonally Adjusted)"
          ],
          [
           "Value of Production Index in Building and Construction (Seasonally Adjusted)"
          ],
          [
           "Value of Production Index in Building and Construction (Seasonally Adjusted)"
          ],
          [
           "Value of Production Index in Building and Construction (Seasonally Adjusted)"
          ],
          [
           "Value of Production Index in Building and Construction (Seasonally Adjusted)"
          ],
          [
           "Value of Production Index in Building and Construction (Seasonally Adjusted)"
          ],
          [
           "Value of Production Index in Building and Construction (Seasonally Adjusted)"
          ],
          [
           "Value of Production Index in Building and Construction (Seasonally Adjusted)"
          ],
          [
           "Value of Production Index in Building and Construction (Seasonally Adjusted)"
          ],
          [
           "Value of Production Index in Building and Construction (Seasonally Adjusted)"
          ],
          [
           "Value of Production Index in Building and Construction (Seasonally Adjusted)"
          ],
          [
           "Value of Production Index in Building and Construction (Seasonally Adjusted)"
          ],
          [
           "Value of Production Index in Building and Construction (Seasonally Adjusted)"
          ],
          [
           "Value of Production Index in Building and Construction (Seasonally Adjusted)"
          ],
          [
           "Value of Production Index in Building and Construction (Seasonally Adjusted)"
          ],
          [
           "Value of Production Index in Building and Construction (Seasonally Adjusted)"
          ],
          [
           "Value of Production Index in Building and Construction (Seasonally Adjusted)"
          ],
          [
           "Value of Production Index in Building and Construction (Seasonally Adjusted)"
          ],
          [
           "Value of Production Index in Building and Construction (Seasonally Adjusted)"
          ],
          [
           "Value of Production Index in Building and Construction (Seasonally Adjusted)"
          ],
          [
           "Value of Production Index in Building and Construction (Seasonally Adjusted)"
          ],
          [
           "Value of Production Index in Building and Construction (Seasonally Adjusted)"
          ],
          [
           "Value of Production Index in Building and Construction (Seasonally Adjusted)"
          ],
          [
           "Value of Production Index in Building and Construction (Seasonally Adjusted)"
          ],
          [
           "Value of Production Index in Building and Construction (Seasonally Adjusted)"
          ]
         ],
         "hovertemplate": "STATISTIC=BEQ04C03<br>Quarter=%{x}<br>VALUE=%{y}<br>Statistic Label=%{customdata[0]}<extra></extra>",
         "legendgroup": "BEQ04C03",
         "line": {
          "color": "#00cc96",
          "dash": "solid"
         },
         "marker": {
          "symbol": "circle"
         },
         "mode": "lines",
         "name": "BEQ04C03",
         "showlegend": true,
         "type": "scattergl",
         "x": [
          "2000Q1",
          "2000Q1",
          "2000Q1",
          "2000Q1",
          "2000Q1",
          "2000Q2",
          "2000Q2",
          "2000Q2",
          "2000Q2",
          "2000Q2",
          "2000Q3",
          "2000Q3",
          "2000Q3",
          "2000Q3",
          "2000Q3",
          "2000Q4",
          "2000Q4",
          "2000Q4",
          "2000Q4",
          "2000Q4",
          "2001Q1",
          "2001Q1",
          "2001Q1",
          "2001Q1",
          "2001Q1",
          "2001Q2",
          "2001Q2",
          "2001Q2",
          "2001Q2",
          "2001Q2",
          "2001Q3",
          "2001Q3",
          "2001Q3",
          "2001Q3",
          "2001Q3",
          "2001Q4",
          "2001Q4",
          "2001Q4",
          "2001Q4",
          "2001Q4",
          "2002Q1",
          "2002Q1",
          "2002Q1",
          "2002Q1",
          "2002Q1",
          "2002Q2",
          "2002Q2",
          "2002Q2",
          "2002Q2",
          "2002Q2",
          "2002Q3",
          "2002Q3",
          "2002Q3",
          "2002Q3",
          "2002Q3",
          "2002Q4",
          "2002Q4",
          "2002Q4",
          "2002Q4",
          "2002Q4",
          "2003Q1",
          "2003Q1",
          "2003Q1",
          "2003Q1",
          "2003Q1",
          "2003Q2",
          "2003Q2",
          "2003Q2",
          "2003Q2",
          "2003Q2",
          "2003Q3",
          "2003Q3",
          "2003Q3",
          "2003Q3",
          "2003Q3",
          "2003Q4",
          "2003Q4",
          "2003Q4",
          "2003Q4",
          "2003Q4",
          "2004Q1",
          "2004Q1",
          "2004Q1",
          "2004Q1",
          "2004Q1",
          "2004Q2",
          "2004Q2",
          "2004Q2",
          "2004Q2",
          "2004Q2",
          "2004Q3",
          "2004Q3",
          "2004Q3",
          "2004Q3",
          "2004Q3",
          "2004Q4",
          "2004Q4",
          "2004Q4",
          "2004Q4",
          "2004Q4",
          "2005Q1",
          "2005Q1",
          "2005Q1",
          "2005Q1",
          "2005Q1",
          "2005Q2",
          "2005Q2",
          "2005Q2",
          "2005Q2",
          "2005Q2",
          "2005Q3",
          "2005Q3",
          "2005Q3",
          "2005Q3",
          "2005Q3",
          "2005Q4",
          "2005Q4",
          "2005Q4",
          "2005Q4",
          "2005Q4",
          "2006Q1",
          "2006Q1",
          "2006Q1",
          "2006Q1",
          "2006Q1",
          "2006Q2",
          "2006Q2",
          "2006Q2",
          "2006Q2",
          "2006Q2",
          "2006Q3",
          "2006Q3",
          "2006Q3",
          "2006Q3",
          "2006Q3",
          "2006Q4",
          "2006Q4",
          "2006Q4",
          "2006Q4",
          "2006Q4",
          "2007Q1",
          "2007Q1",
          "2007Q1",
          "2007Q1",
          "2007Q1",
          "2007Q2",
          "2007Q2",
          "2007Q2",
          "2007Q2",
          "2007Q2",
          "2007Q3",
          "2007Q3",
          "2007Q3",
          "2007Q3",
          "2007Q3",
          "2007Q4",
          "2007Q4",
          "2007Q4",
          "2007Q4",
          "2007Q4",
          "2008Q1",
          "2008Q1",
          "2008Q1",
          "2008Q1",
          "2008Q1",
          "2008Q2",
          "2008Q2",
          "2008Q2",
          "2008Q2",
          "2008Q2",
          "2008Q3",
          "2008Q3",
          "2008Q3",
          "2008Q3",
          "2008Q3",
          "2008Q4",
          "2008Q4",
          "2008Q4",
          "2008Q4",
          "2008Q4",
          "2009Q1",
          "2009Q1",
          "2009Q1",
          "2009Q1",
          "2009Q1",
          "2009Q2",
          "2009Q2",
          "2009Q2",
          "2009Q2",
          "2009Q2",
          "2009Q3",
          "2009Q3",
          "2009Q3",
          "2009Q3",
          "2009Q3",
          "2009Q4",
          "2009Q4",
          "2009Q4",
          "2009Q4",
          "2009Q4",
          "2010Q1",
          "2010Q1",
          "2010Q1",
          "2010Q1",
          "2010Q1",
          "2010Q2",
          "2010Q2",
          "2010Q2",
          "2010Q2",
          "2010Q2",
          "2010Q3",
          "2010Q3",
          "2010Q3",
          "2010Q3",
          "2010Q3",
          "2010Q4",
          "2010Q4",
          "2010Q4",
          "2010Q4",
          "2010Q4",
          "2011Q1",
          "2011Q1",
          "2011Q1",
          "2011Q1",
          "2011Q1",
          "2011Q2",
          "2011Q2",
          "2011Q2",
          "2011Q2",
          "2011Q2",
          "2011Q3",
          "2011Q3",
          "2011Q3",
          "2011Q3",
          "2011Q3",
          "2011Q4",
          "2011Q4",
          "2011Q4",
          "2011Q4",
          "2011Q4",
          "2012Q1",
          "2012Q1",
          "2012Q1",
          "2012Q1",
          "2012Q1",
          "2012Q2",
          "2012Q2",
          "2012Q2",
          "2012Q2",
          "2012Q2",
          "2012Q3",
          "2012Q3",
          "2012Q3",
          "2012Q3",
          "2012Q3",
          "2012Q4",
          "2012Q4",
          "2012Q4",
          "2012Q4",
          "2012Q4",
          "2013Q1",
          "2013Q1",
          "2013Q1",
          "2013Q1",
          "2013Q1",
          "2013Q2",
          "2013Q2",
          "2013Q2",
          "2013Q2",
          "2013Q2",
          "2013Q3",
          "2013Q3",
          "2013Q3",
          "2013Q3",
          "2013Q3",
          "2013Q4",
          "2013Q4",
          "2013Q4",
          "2013Q4",
          "2013Q4",
          "2014Q1",
          "2014Q1",
          "2014Q1",
          "2014Q1",
          "2014Q1",
          "2014Q2",
          "2014Q2",
          "2014Q2",
          "2014Q2",
          "2014Q2",
          "2014Q3",
          "2014Q3",
          "2014Q3",
          "2014Q3",
          "2014Q3",
          "2014Q4",
          "2014Q4",
          "2014Q4",
          "2014Q4",
          "2014Q4",
          "2015Q1",
          "2015Q1",
          "2015Q1",
          "2015Q1",
          "2015Q1",
          "2015Q2",
          "2015Q2",
          "2015Q2",
          "2015Q2",
          "2015Q2",
          "2015Q3",
          "2015Q3",
          "2015Q3",
          "2015Q3",
          "2015Q3",
          "2015Q4",
          "2015Q4",
          "2015Q4",
          "2015Q4",
          "2015Q4",
          "2016Q1",
          "2016Q1",
          "2016Q1",
          "2016Q1",
          "2016Q1",
          "2016Q2",
          "2016Q2",
          "2016Q2",
          "2016Q2",
          "2016Q2",
          "2016Q3",
          "2016Q3",
          "2016Q3",
          "2016Q3",
          "2016Q3",
          "2016Q4",
          "2016Q4",
          "2016Q4",
          "2016Q4",
          "2016Q4",
          "2017Q1",
          "2017Q1",
          "2017Q1",
          "2017Q1",
          "2017Q1",
          "2017Q2",
          "2017Q2",
          "2017Q2",
          "2017Q2",
          "2017Q2",
          "2017Q3",
          "2017Q3",
          "2017Q3",
          "2017Q3",
          "2017Q3",
          "2017Q4",
          "2017Q4",
          "2017Q4",
          "2017Q4",
          "2017Q4",
          "2018Q1",
          "2018Q1",
          "2018Q1",
          "2018Q1",
          "2018Q1",
          "2018Q2",
          "2018Q2",
          "2018Q2",
          "2018Q2",
          "2018Q2",
          "2018Q3",
          "2018Q3",
          "2018Q3",
          "2018Q3",
          "2018Q3",
          "2018Q4",
          "2018Q4",
          "2018Q4",
          "2018Q4",
          "2018Q4",
          "2019Q1",
          "2019Q1",
          "2019Q1",
          "2019Q1",
          "2019Q1",
          "2019Q2",
          "2019Q2",
          "2019Q2",
          "2019Q2",
          "2019Q2",
          "2019Q3",
          "2019Q3",
          "2019Q3",
          "2019Q3",
          "2019Q3",
          "2019Q4",
          "2019Q4",
          "2019Q4",
          "2019Q4",
          "2019Q4",
          "2020Q1",
          "2020Q1",
          "2020Q1",
          "2020Q1",
          "2020Q1",
          "2020Q2",
          "2020Q2",
          "2020Q2",
          "2020Q2",
          "2020Q2",
          "2020Q3",
          "2020Q3",
          "2020Q3",
          "2020Q3",
          "2020Q3",
          "2020Q4",
          "2020Q4",
          "2020Q4",
          "2020Q4",
          "2020Q4",
          "2021Q1",
          "2021Q1",
          "2021Q1",
          "2021Q1",
          "2021Q1",
          "2021Q2",
          "2021Q2",
          "2021Q2",
          "2021Q2",
          "2021Q2",
          "2021Q3",
          "2021Q3",
          "2021Q3",
          "2021Q3",
          "2021Q3",
          "2021Q4",
          "2021Q4",
          "2021Q4",
          "2021Q4",
          "2021Q4",
          "2022Q1",
          "2022Q1",
          "2022Q1",
          "2022Q1",
          "2022Q1",
          "2022Q2",
          "2022Q2",
          "2022Q2",
          "2022Q2",
          "2022Q2",
          "2022Q3",
          "2022Q3",
          "2022Q3",
          "2022Q3",
          "2022Q3",
          "2022Q4",
          "2022Q4",
          "2022Q4",
          "2022Q4",
          "2022Q4"
         ],
         "xaxis": "x",
         "y": [
          148.962897581372,
          192.043996388387,
          297.635954843263,
          119.454102292447,
          58.7811972846848,
          154.184896607106,
          197.648074315339,
          307.40464460562,
          121.366027745656,
          62.255065633868,
          158.238980182692,
          203.636221541916,
          318.749628841375,
          121.681033947686,
          64.7627580872921,
          161.520362355978,
          205.484011951207,
          321.599695802848,
          123.132906777184,
          68.8571976751821,
          173.710432385175,
          220.431752022006,
          353.415661004046,
          127.584569658067,
          74.192407760516,
          179.869535778254,
          227.291035568675,
          371.08735737182,
          127.13299419563,
          76.8476806308592,
          173.242523422165,
          218.431231959777,
          349.898137405527,
          124.701786877578,
          77.8494600415968,
          179.417866447194,
          224.827652359046,
          364.495159996541,
          125.475465882057,
          81.8565993459284,
          180.962667956839,
          223.684182850493,
          360.272532034495,
          119.245730343415,
          93.24470849969,
          180.754000527198,
          212.173708601463,
          362.221303045761,
          116.193685039278,
          94.1452759229643,
          194.150045325439,
          239.270192763183,
          412.441423178978,
          114.978374155914,
          95.5987727916509,
          198.57082218235,
          245.015797606955,
          430.390454309309,
          111.808380428275,
          96.4417755705037,
          194.135432021407,
          235.570098886146,
          419.796492632022,
          108.14501582697,
          96.3186326599553,
          197.526998374986,
          243.495179301113,
          436.006950457939,
          105.435843324799,
          96.7848009838761,
          220.27385620289,
          277.653433281756,
          517.235147826986,
          106.006239632638,
          98.7174083739325,
          231.898561127174,
          292.50983928347,
          549.624212221418,
          106.876072142497,
          102.472842794518,
          248.877584638847,
          317.495690757263,
          608.508830576194,
          110.791525039859,
          96.8843198502107,
          261.892453455635,
          330.539003201277,
          633.480025620737,
          115.806034174997,
          111.351987263248,
          248.664871375329,
          311.056962934606,
          581.991966759447,
          120.178071867683,
          113.541827174112,
          251.952282773325,
          318.539138133412,
          598.038984402838,
          114.662293606837,
          106.126019738377,
          269.057403495567,
          346.666005181,
          658.753069105,
          117.061078785992,
          105.961706907153,
          290.889480184623,
          366.202708727778,
          715.929126853088,
          126.380590622053,
          117.024343458579,
          298.513599913342,
          371.519264618037,
          717.554444011304,
          131.146874499606,
          139.043996842579,
          302.848347478677,
          376.920676882102,
          693.957736948741,
          143.030285617254,
          138.946199910204,
          321.280906826021,
          393.530459379748,
          753.507712331356,
          147.843801300494,
          146.138615621002,
          307.220002375661,
          390.881689883206,
          724.095732295483,
          143.758223262277,
          142.955059597789,
          305.479216586305,
          377.3833096453,
          724.79154759287,
          138.45220594764,
          146.535970133969,
          341.886208674635,
          421.850303701099,
          789.911977187872,
          149.199852136172,
          161.529156380585,
          303.406817023938,
          364.468136292721,
          666.864965017394,
          152.369097901853,
          166.055562421676,
          303.25094655909,
          371.707425538523,
          671.286345427955,
          153.807284360194,
          166.048488252858,
          278.782573213393,
          331.042528645475,
          589.369889733612,
          154.688379286261,
          159.993297274841,
          272.697482096016,
          320.38400296573,
          549.195767812089,
          153.439865658628,
          162.722508083954,
          246.541796824606,
          286.697092422189,
          459.562930630814,
          156.953457121065,
          164.385490966047,
          226.248851511645,
          254.700128966319,
          391.038195101974,
          157.853998254362,
          170.31561609536,
          202.883323255258,
          221.339795343161,
          326.808893380805,
          150.539716432351,
          157.116586358789,
          175.620414955411,
          188.604186727035,
          241.753749492815,
          153.521817466507,
          144.123414067743,
          157.673146589606,
          161.822688816536,
          195.992617266066,
          135.56267262625,
          146.971252189323,
          137.493360902218,
          140.118211471192,
          154.984332337477,
          124.798131731356,
          141.974863016321,
          126.121340937223,
          119.591686084896,
          127.330574319722,
          115.154034228271,
          136.133769939516,
          109.194717289716,
          103.212769585801,
          109.247073336824,
          99.8678303886131,
          121.683798855069,
          100.912579580235,
          93.2424315397179,
          97.6206507714102,
          88.5590396362522,
          121.188571123108,
          98.4735445931998,
          87.09195039995,
          95.3260940669916,
          80.8811447322944,
          127.359412291854,
          90.461770395094,
          88.6610062565302,
          93.1538247073247,
          85.4451110820493,
          90.9352259334685,
          85.7728779783878,
          83.9336425379025,
          83.1539098408112,
          84.5830356723087,
          90.1003408283838,
          77.2588785409441,
          76.685254394036,
          72.9974600103043,
          82.2381982349105,
          76.8506708168731,
          73.8321335001052,
          75.0079743710679,
          64.1242718696802,
          81.8071025479292,
          74.8101953552598,
          75.9124226678223,
          72.8767243417609,
          61.3422117224892,
          81.9974713785097,
          80.4175708980368,
          77.0552445550677,
          73.3145035836961,
          64.3501821840766,
          79.589121769152,
          86.7576220740339,
          76.7990278359132,
          70.211762154601,
          61.9613703451055,
          78.4328622851377,
          92.8421422809742,
          71.6803490099852,
          65.8794567387149,
          57.4114451893233,
          73.3885207647454,
          84.8756138891147,
          72.555442644398,
          65.2953279330525,
          57.9822755052834,
          70.2209659522681,
          87.6551153226666,
          78.4807560431837,
          65.6113646930051,
          55.1424258219145,
          71.7762072504662,
          109.444185736091,
          78.4559814335397,
          70.9839161757344,
          67.2086276454847,
          75.2785993920728,
          98.0362757494167,
          81.3089033344458,
          73.8755591146759,
          64.1821354606267,
          83.5249524281676,
          95.6530358019056,
          87.3960557995899,
          79.8008412281471,
          62.9446292095788,
          92.7755207108047,
          104.329846351511,
          88.1604138765516,
          83.7036627636856,
          64.6776991989375,
          99.6813686365351,
          98.9505006025038,
          87.3854480492852,
          81.625514985488,
          64.4027594697486,
          97.9301061233345,
          97.1847573917503,
          92.2891645731772,
          84.5323769129307,
          70.5062993770157,
          93.6238903621004,
          113.253914264364,
          93.3961946842197,
          88.3401084171998,
          79.8260248934469,
          93.8339570605652,
          105.335043800348,
          94.469036405846,
          92.6169595587399,
          91.4217341858583,
          94.2201315031911,
          98.1349598849155,
          101.980797416989,
          99.9453871177858,
          98.0868109735722,
          100.601112456659,
          105.078265110763,
          102.404545758711,
          102.658691124652,
          101.579468693482,
          104.691683945304,
          104.923776459783,
          95.8915871393072,
          97.0599011284369,
          100.827583819701,
          94.6958523129109,
          93.9246262201462,
          100.58976330668,
          100.702142058681,
          100.160435416783,
          99.5721737035636,
          98.0683796233918,
          102.101981671785,
          102.688284114099,
          114.250186937606,
          101.974242460527,
          96.1162039692901,
          109.663307146741,
          110.057109972641,
          129.650401926383,
          109.151463092641,
          107.666858131488,
          114.021398222613,
          116.546848796451,
          124.568220844535,
          113.912603364111,
          106.496832267074,
          114.110299267847,
          116.457982420095,
          127.708518980138,
          113.809610425886,
          102.870495764629,
          127.523556979307,
          128.107125363383,
          133.445170510177,
          130.323506335622,
          105.79065397531,
          121.484232900869,
          128.417512382517,
          141.165910435184,
          123.996671360968,
          101.761749942218,
          124.50851477117,
          128.179337350297,
          157.281369399554,
          122.685865832159,
          111.038745785331,
          131.737217989996,
          135.691828079165,
          152.276791863275,
          132.833502864121,
          115.072472237923,
          137.857030061284,
          142.249298640448,
          152.009750526699,
          139.966590898781,
          120.526645846563,
          144.092631572758,
          148.803665342433,
          152.312681471506,
          149.439365525758,
          111.413237850665,
          146.75998933912,
          150.740156272507,
          148.944223663418,
          151.596396412744,
          130.481122631251,
          150.370124846302,
          153.879778827959,
          148.637909158685,
          154.958662937232,
          138.377440270354,
          153.140602010176,
          158.047945682191,
          159.788166866258,
          159.561831002894,
          125.107243122155,
          153.20893246563,
          157.232767262857,
          170.002846910058,
          151.779735318684,
          131.372560360985,
          155.927437558575,
          164.537577269196,
          177.211646582434,
          164.348732997189,
          116.672425983136,
          162.772958927034,
          174.902812230691,
          186.234074842609,
          174.01961131426,
          116.20752391585,
          172.861865415231,
          184.082031788157,
          178.291608694323,
          182.035656187006,
          132.463501895395,
          106.452141907445,
          111.954154142535,
          88.2779627640022,
          115.151616011317,
          67.8516419704327,
          145.060803830951,
          153.629277778451,
          141.845730680858,
          157.108594885796,
          104.845205492028,
          151.462387796918,
          161.842740867114,
          142.54418366834,
          164.01089426304,
          115.47007686733,
          118.359730646964,
          126.749943158875,
          83.8088764975487,
          134.899019644895,
          99.9930657287521,
          145.936029611238,
          143.095365880028,
          121.674613465863,
          148.665521013911,
          126.523948232274,
          154.59620373863,
          159.708526807572,
          148.179127634633,
          163.555727405039,
          129.784647089929,
          165.584751428213,
          173.83713025391,
          155.790311354312,
          176.049308457382,
          140.636163145196,
          164.340372110492,
          174.976072586854,
          156.403484665095,
          176.381382427542,
          127.373380594056,
          170.363198205159,
          174.111059209706,
          152.291946796285,
          176.197185713024,
          131.076014727039,
          167.988188591532,
          173.490557167944,
          138.466401776571,
          182.060597320424,
          140.85139104912,
          162.04888235783,
          169.644861090298,
          142.291632822271,
          172.696860053348,
          139.838235672104
         ],
         "yaxis": "y"
        },
        {
         "customdata": [
          [
           "Volume of Production Index in Building and Construction (Seasonally Adjusted)"
          ],
          [
           "Volume of Production Index in Building and Construction (Seasonally Adjusted)"
          ],
          [
           "Volume of Production Index in Building and Construction (Seasonally Adjusted)"
          ],
          [
           "Volume of Production Index in Building and Construction (Seasonally Adjusted)"
          ],
          [
           "Volume of Production Index in Building and Construction (Seasonally Adjusted)"
          ],
          [
           "Volume of Production Index in Building and Construction (Seasonally Adjusted)"
          ],
          [
           "Volume of Production Index in Building and Construction (Seasonally Adjusted)"
          ],
          [
           "Volume of Production Index in Building and Construction (Seasonally Adjusted)"
          ],
          [
           "Volume of Production Index in Building and Construction (Seasonally Adjusted)"
          ],
          [
           "Volume of Production Index in Building and Construction (Seasonally Adjusted)"
          ],
          [
           "Volume of Production Index in Building and Construction (Seasonally Adjusted)"
          ],
          [
           "Volume of Production Index in Building and Construction (Seasonally Adjusted)"
          ],
          [
           "Volume of Production Index in Building and Construction (Seasonally Adjusted)"
          ],
          [
           "Volume of Production Index in Building and Construction (Seasonally Adjusted)"
          ],
          [
           "Volume of Production Index in Building and Construction (Seasonally Adjusted)"
          ],
          [
           "Volume of Production Index in Building and Construction (Seasonally Adjusted)"
          ],
          [
           "Volume of Production Index in Building and Construction (Seasonally Adjusted)"
          ],
          [
           "Volume of Production Index in Building and Construction (Seasonally Adjusted)"
          ],
          [
           "Volume of Production Index in Building and Construction (Seasonally Adjusted)"
          ],
          [
           "Volume of Production Index in Building and Construction (Seasonally Adjusted)"
          ],
          [
           "Volume of Production Index in Building and Construction (Seasonally Adjusted)"
          ],
          [
           "Volume of Production Index in Building and Construction (Seasonally Adjusted)"
          ],
          [
           "Volume of Production Index in Building and Construction (Seasonally Adjusted)"
          ],
          [
           "Volume of Production Index in Building and Construction (Seasonally Adjusted)"
          ],
          [
           "Volume of Production Index in Building and Construction (Seasonally Adjusted)"
          ],
          [
           "Volume of Production Index in Building and Construction (Seasonally Adjusted)"
          ],
          [
           "Volume of Production Index in Building and Construction (Seasonally Adjusted)"
          ],
          [
           "Volume of Production Index in Building and Construction (Seasonally Adjusted)"
          ],
          [
           "Volume of Production Index in Building and Construction (Seasonally Adjusted)"
          ],
          [
           "Volume of Production Index in Building and Construction (Seasonally Adjusted)"
          ],
          [
           "Volume of Production Index in Building and Construction (Seasonally Adjusted)"
          ],
          [
           "Volume of Production Index in Building and Construction (Seasonally Adjusted)"
          ],
          [
           "Volume of Production Index in Building and Construction (Seasonally Adjusted)"
          ],
          [
           "Volume of Production Index in Building and Construction (Seasonally Adjusted)"
          ],
          [
           "Volume of Production Index in Building and Construction (Seasonally Adjusted)"
          ],
          [
           "Volume of Production Index in Building and Construction (Seasonally Adjusted)"
          ],
          [
           "Volume of Production Index in Building and Construction (Seasonally Adjusted)"
          ],
          [
           "Volume of Production Index in Building and Construction (Seasonally Adjusted)"
          ],
          [
           "Volume of Production Index in Building and Construction (Seasonally Adjusted)"
          ],
          [
           "Volume of Production Index in Building and Construction (Seasonally Adjusted)"
          ],
          [
           "Volume of Production Index in Building and Construction (Seasonally Adjusted)"
          ],
          [
           "Volume of Production Index in Building and Construction (Seasonally Adjusted)"
          ],
          [
           "Volume of Production Index in Building and Construction (Seasonally Adjusted)"
          ],
          [
           "Volume of Production Index in Building and Construction (Seasonally Adjusted)"
          ],
          [
           "Volume of Production Index in Building and Construction (Seasonally Adjusted)"
          ],
          [
           "Volume of Production Index in Building and Construction (Seasonally Adjusted)"
          ],
          [
           "Volume of Production Index in Building and Construction (Seasonally Adjusted)"
          ],
          [
           "Volume of Production Index in Building and Construction (Seasonally Adjusted)"
          ],
          [
           "Volume of Production Index in Building and Construction (Seasonally Adjusted)"
          ],
          [
           "Volume of Production Index in Building and Construction (Seasonally Adjusted)"
          ],
          [
           "Volume of Production Index in Building and Construction (Seasonally Adjusted)"
          ],
          [
           "Volume of Production Index in Building and Construction (Seasonally Adjusted)"
          ],
          [
           "Volume of Production Index in Building and Construction (Seasonally Adjusted)"
          ],
          [
           "Volume of Production Index in Building and Construction (Seasonally Adjusted)"
          ],
          [
           "Volume of Production Index in Building and Construction (Seasonally Adjusted)"
          ],
          [
           "Volume of Production Index in Building and Construction (Seasonally Adjusted)"
          ],
          [
           "Volume of Production Index in Building and Construction (Seasonally Adjusted)"
          ],
          [
           "Volume of Production Index in Building and Construction (Seasonally Adjusted)"
          ],
          [
           "Volume of Production Index in Building and Construction (Seasonally Adjusted)"
          ],
          [
           "Volume of Production Index in Building and Construction (Seasonally Adjusted)"
          ],
          [
           "Volume of Production Index in Building and Construction (Seasonally Adjusted)"
          ],
          [
           "Volume of Production Index in Building and Construction (Seasonally Adjusted)"
          ],
          [
           "Volume of Production Index in Building and Construction (Seasonally Adjusted)"
          ],
          [
           "Volume of Production Index in Building and Construction (Seasonally Adjusted)"
          ],
          [
           "Volume of Production Index in Building and Construction (Seasonally Adjusted)"
          ],
          [
           "Volume of Production Index in Building and Construction (Seasonally Adjusted)"
          ],
          [
           "Volume of Production Index in Building and Construction (Seasonally Adjusted)"
          ],
          [
           "Volume of Production Index in Building and Construction (Seasonally Adjusted)"
          ],
          [
           "Volume of Production Index in Building and Construction (Seasonally Adjusted)"
          ],
          [
           "Volume of Production Index in Building and Construction (Seasonally Adjusted)"
          ],
          [
           "Volume of Production Index in Building and Construction (Seasonally Adjusted)"
          ],
          [
           "Volume of Production Index in Building and Construction (Seasonally Adjusted)"
          ],
          [
           "Volume of Production Index in Building and Construction (Seasonally Adjusted)"
          ],
          [
           "Volume of Production Index in Building and Construction (Seasonally Adjusted)"
          ],
          [
           "Volume of Production Index in Building and Construction (Seasonally Adjusted)"
          ],
          [
           "Volume of Production Index in Building and Construction (Seasonally Adjusted)"
          ],
          [
           "Volume of Production Index in Building and Construction (Seasonally Adjusted)"
          ],
          [
           "Volume of Production Index in Building and Construction (Seasonally Adjusted)"
          ],
          [
           "Volume of Production Index in Building and Construction (Seasonally Adjusted)"
          ],
          [
           "Volume of Production Index in Building and Construction (Seasonally Adjusted)"
          ],
          [
           "Volume of Production Index in Building and Construction (Seasonally Adjusted)"
          ],
          [
           "Volume of Production Index in Building and Construction (Seasonally Adjusted)"
          ],
          [
           "Volume of Production Index in Building and Construction (Seasonally Adjusted)"
          ],
          [
           "Volume of Production Index in Building and Construction (Seasonally Adjusted)"
          ],
          [
           "Volume of Production Index in Building and Construction (Seasonally Adjusted)"
          ],
          [
           "Volume of Production Index in Building and Construction (Seasonally Adjusted)"
          ],
          [
           "Volume of Production Index in Building and Construction (Seasonally Adjusted)"
          ],
          [
           "Volume of Production Index in Building and Construction (Seasonally Adjusted)"
          ],
          [
           "Volume of Production Index in Building and Construction (Seasonally Adjusted)"
          ],
          [
           "Volume of Production Index in Building and Construction (Seasonally Adjusted)"
          ],
          [
           "Volume of Production Index in Building and Construction (Seasonally Adjusted)"
          ],
          [
           "Volume of Production Index in Building and Construction (Seasonally Adjusted)"
          ],
          [
           "Volume of Production Index in Building and Construction (Seasonally Adjusted)"
          ],
          [
           "Volume of Production Index in Building and Construction (Seasonally Adjusted)"
          ],
          [
           "Volume of Production Index in Building and Construction (Seasonally Adjusted)"
          ],
          [
           "Volume of Production Index in Building and Construction (Seasonally Adjusted)"
          ],
          [
           "Volume of Production Index in Building and Construction (Seasonally Adjusted)"
          ],
          [
           "Volume of Production Index in Building and Construction (Seasonally Adjusted)"
          ],
          [
           "Volume of Production Index in Building and Construction (Seasonally Adjusted)"
          ],
          [
           "Volume of Production Index in Building and Construction (Seasonally Adjusted)"
          ],
          [
           "Volume of Production Index in Building and Construction (Seasonally Adjusted)"
          ],
          [
           "Volume of Production Index in Building and Construction (Seasonally Adjusted)"
          ],
          [
           "Volume of Production Index in Building and Construction (Seasonally Adjusted)"
          ],
          [
           "Volume of Production Index in Building and Construction (Seasonally Adjusted)"
          ],
          [
           "Volume of Production Index in Building and Construction (Seasonally Adjusted)"
          ],
          [
           "Volume of Production Index in Building and Construction (Seasonally Adjusted)"
          ],
          [
           "Volume of Production Index in Building and Construction (Seasonally Adjusted)"
          ],
          [
           "Volume of Production Index in Building and Construction (Seasonally Adjusted)"
          ],
          [
           "Volume of Production Index in Building and Construction (Seasonally Adjusted)"
          ],
          [
           "Volume of Production Index in Building and Construction (Seasonally Adjusted)"
          ],
          [
           "Volume of Production Index in Building and Construction (Seasonally Adjusted)"
          ],
          [
           "Volume of Production Index in Building and Construction (Seasonally Adjusted)"
          ],
          [
           "Volume of Production Index in Building and Construction (Seasonally Adjusted)"
          ],
          [
           "Volume of Production Index in Building and Construction (Seasonally Adjusted)"
          ],
          [
           "Volume of Production Index in Building and Construction (Seasonally Adjusted)"
          ],
          [
           "Volume of Production Index in Building and Construction (Seasonally Adjusted)"
          ],
          [
           "Volume of Production Index in Building and Construction (Seasonally Adjusted)"
          ],
          [
           "Volume of Production Index in Building and Construction (Seasonally Adjusted)"
          ],
          [
           "Volume of Production Index in Building and Construction (Seasonally Adjusted)"
          ],
          [
           "Volume of Production Index in Building and Construction (Seasonally Adjusted)"
          ],
          [
           "Volume of Production Index in Building and Construction (Seasonally Adjusted)"
          ],
          [
           "Volume of Production Index in Building and Construction (Seasonally Adjusted)"
          ],
          [
           "Volume of Production Index in Building and Construction (Seasonally Adjusted)"
          ],
          [
           "Volume of Production Index in Building and Construction (Seasonally Adjusted)"
          ],
          [
           "Volume of Production Index in Building and Construction (Seasonally Adjusted)"
          ],
          [
           "Volume of Production Index in Building and Construction (Seasonally Adjusted)"
          ],
          [
           "Volume of Production Index in Building and Construction (Seasonally Adjusted)"
          ],
          [
           "Volume of Production Index in Building and Construction (Seasonally Adjusted)"
          ],
          [
           "Volume of Production Index in Building and Construction (Seasonally Adjusted)"
          ],
          [
           "Volume of Production Index in Building and Construction (Seasonally Adjusted)"
          ],
          [
           "Volume of Production Index in Building and Construction (Seasonally Adjusted)"
          ],
          [
           "Volume of Production Index in Building and Construction (Seasonally Adjusted)"
          ],
          [
           "Volume of Production Index in Building and Construction (Seasonally Adjusted)"
          ],
          [
           "Volume of Production Index in Building and Construction (Seasonally Adjusted)"
          ],
          [
           "Volume of Production Index in Building and Construction (Seasonally Adjusted)"
          ],
          [
           "Volume of Production Index in Building and Construction (Seasonally Adjusted)"
          ],
          [
           "Volume of Production Index in Building and Construction (Seasonally Adjusted)"
          ],
          [
           "Volume of Production Index in Building and Construction (Seasonally Adjusted)"
          ],
          [
           "Volume of Production Index in Building and Construction (Seasonally Adjusted)"
          ],
          [
           "Volume of Production Index in Building and Construction (Seasonally Adjusted)"
          ],
          [
           "Volume of Production Index in Building and Construction (Seasonally Adjusted)"
          ],
          [
           "Volume of Production Index in Building and Construction (Seasonally Adjusted)"
          ],
          [
           "Volume of Production Index in Building and Construction (Seasonally Adjusted)"
          ],
          [
           "Volume of Production Index in Building and Construction (Seasonally Adjusted)"
          ],
          [
           "Volume of Production Index in Building and Construction (Seasonally Adjusted)"
          ],
          [
           "Volume of Production Index in Building and Construction (Seasonally Adjusted)"
          ],
          [
           "Volume of Production Index in Building and Construction (Seasonally Adjusted)"
          ],
          [
           "Volume of Production Index in Building and Construction (Seasonally Adjusted)"
          ],
          [
           "Volume of Production Index in Building and Construction (Seasonally Adjusted)"
          ],
          [
           "Volume of Production Index in Building and Construction (Seasonally Adjusted)"
          ],
          [
           "Volume of Production Index in Building and Construction (Seasonally Adjusted)"
          ],
          [
           "Volume of Production Index in Building and Construction (Seasonally Adjusted)"
          ],
          [
           "Volume of Production Index in Building and Construction (Seasonally Adjusted)"
          ],
          [
           "Volume of Production Index in Building and Construction (Seasonally Adjusted)"
          ],
          [
           "Volume of Production Index in Building and Construction (Seasonally Adjusted)"
          ],
          [
           "Volume of Production Index in Building and Construction (Seasonally Adjusted)"
          ],
          [
           "Volume of Production Index in Building and Construction (Seasonally Adjusted)"
          ],
          [
           "Volume of Production Index in Building and Construction (Seasonally Adjusted)"
          ],
          [
           "Volume of Production Index in Building and Construction (Seasonally Adjusted)"
          ],
          [
           "Volume of Production Index in Building and Construction (Seasonally Adjusted)"
          ],
          [
           "Volume of Production Index in Building and Construction (Seasonally Adjusted)"
          ],
          [
           "Volume of Production Index in Building and Construction (Seasonally Adjusted)"
          ],
          [
           "Volume of Production Index in Building and Construction (Seasonally Adjusted)"
          ],
          [
           "Volume of Production Index in Building and Construction (Seasonally Adjusted)"
          ],
          [
           "Volume of Production Index in Building and Construction (Seasonally Adjusted)"
          ],
          [
           "Volume of Production Index in Building and Construction (Seasonally Adjusted)"
          ],
          [
           "Volume of Production Index in Building and Construction (Seasonally Adjusted)"
          ],
          [
           "Volume of Production Index in Building and Construction (Seasonally Adjusted)"
          ],
          [
           "Volume of Production Index in Building and Construction (Seasonally Adjusted)"
          ],
          [
           "Volume of Production Index in Building and Construction (Seasonally Adjusted)"
          ],
          [
           "Volume of Production Index in Building and Construction (Seasonally Adjusted)"
          ],
          [
           "Volume of Production Index in Building and Construction (Seasonally Adjusted)"
          ],
          [
           "Volume of Production Index in Building and Construction (Seasonally Adjusted)"
          ],
          [
           "Volume of Production Index in Building and Construction (Seasonally Adjusted)"
          ],
          [
           "Volume of Production Index in Building and Construction (Seasonally Adjusted)"
          ],
          [
           "Volume of Production Index in Building and Construction (Seasonally Adjusted)"
          ],
          [
           "Volume of Production Index in Building and Construction (Seasonally Adjusted)"
          ],
          [
           "Volume of Production Index in Building and Construction (Seasonally Adjusted)"
          ],
          [
           "Volume of Production Index in Building and Construction (Seasonally Adjusted)"
          ],
          [
           "Volume of Production Index in Building and Construction (Seasonally Adjusted)"
          ],
          [
           "Volume of Production Index in Building and Construction (Seasonally Adjusted)"
          ],
          [
           "Volume of Production Index in Building and Construction (Seasonally Adjusted)"
          ],
          [
           "Volume of Production Index in Building and Construction (Seasonally Adjusted)"
          ],
          [
           "Volume of Production Index in Building and Construction (Seasonally Adjusted)"
          ],
          [
           "Volume of Production Index in Building and Construction (Seasonally Adjusted)"
          ],
          [
           "Volume of Production Index in Building and Construction (Seasonally Adjusted)"
          ],
          [
           "Volume of Production Index in Building and Construction (Seasonally Adjusted)"
          ],
          [
           "Volume of Production Index in Building and Construction (Seasonally Adjusted)"
          ],
          [
           "Volume of Production Index in Building and Construction (Seasonally Adjusted)"
          ],
          [
           "Volume of Production Index in Building and Construction (Seasonally Adjusted)"
          ],
          [
           "Volume of Production Index in Building and Construction (Seasonally Adjusted)"
          ],
          [
           "Volume of Production Index in Building and Construction (Seasonally Adjusted)"
          ],
          [
           "Volume of Production Index in Building and Construction (Seasonally Adjusted)"
          ],
          [
           "Volume of Production Index in Building and Construction (Seasonally Adjusted)"
          ],
          [
           "Volume of Production Index in Building and Construction (Seasonally Adjusted)"
          ],
          [
           "Volume of Production Index in Building and Construction (Seasonally Adjusted)"
          ],
          [
           "Volume of Production Index in Building and Construction (Seasonally Adjusted)"
          ],
          [
           "Volume of Production Index in Building and Construction (Seasonally Adjusted)"
          ],
          [
           "Volume of Production Index in Building and Construction (Seasonally Adjusted)"
          ],
          [
           "Volume of Production Index in Building and Construction (Seasonally Adjusted)"
          ],
          [
           "Volume of Production Index in Building and Construction (Seasonally Adjusted)"
          ],
          [
           "Volume of Production Index in Building and Construction (Seasonally Adjusted)"
          ],
          [
           "Volume of Production Index in Building and Construction (Seasonally Adjusted)"
          ],
          [
           "Volume of Production Index in Building and Construction (Seasonally Adjusted)"
          ],
          [
           "Volume of Production Index in Building and Construction (Seasonally Adjusted)"
          ],
          [
           "Volume of Production Index in Building and Construction (Seasonally Adjusted)"
          ],
          [
           "Volume of Production Index in Building and Construction (Seasonally Adjusted)"
          ],
          [
           "Volume of Production Index in Building and Construction (Seasonally Adjusted)"
          ],
          [
           "Volume of Production Index in Building and Construction (Seasonally Adjusted)"
          ],
          [
           "Volume of Production Index in Building and Construction (Seasonally Adjusted)"
          ],
          [
           "Volume of Production Index in Building and Construction (Seasonally Adjusted)"
          ],
          [
           "Volume of Production Index in Building and Construction (Seasonally Adjusted)"
          ],
          [
           "Volume of Production Index in Building and Construction (Seasonally Adjusted)"
          ],
          [
           "Volume of Production Index in Building and Construction (Seasonally Adjusted)"
          ],
          [
           "Volume of Production Index in Building and Construction (Seasonally Adjusted)"
          ],
          [
           "Volume of Production Index in Building and Construction (Seasonally Adjusted)"
          ],
          [
           "Volume of Production Index in Building and Construction (Seasonally Adjusted)"
          ],
          [
           "Volume of Production Index in Building and Construction (Seasonally Adjusted)"
          ],
          [
           "Volume of Production Index in Building and Construction (Seasonally Adjusted)"
          ],
          [
           "Volume of Production Index in Building and Construction (Seasonally Adjusted)"
          ],
          [
           "Volume of Production Index in Building and Construction (Seasonally Adjusted)"
          ],
          [
           "Volume of Production Index in Building and Construction (Seasonally Adjusted)"
          ],
          [
           "Volume of Production Index in Building and Construction (Seasonally Adjusted)"
          ],
          [
           "Volume of Production Index in Building and Construction (Seasonally Adjusted)"
          ],
          [
           "Volume of Production Index in Building and Construction (Seasonally Adjusted)"
          ],
          [
           "Volume of Production Index in Building and Construction (Seasonally Adjusted)"
          ],
          [
           "Volume of Production Index in Building and Construction (Seasonally Adjusted)"
          ],
          [
           "Volume of Production Index in Building and Construction (Seasonally Adjusted)"
          ],
          [
           "Volume of Production Index in Building and Construction (Seasonally Adjusted)"
          ],
          [
           "Volume of Production Index in Building and Construction (Seasonally Adjusted)"
          ],
          [
           "Volume of Production Index in Building and Construction (Seasonally Adjusted)"
          ],
          [
           "Volume of Production Index in Building and Construction (Seasonally Adjusted)"
          ],
          [
           "Volume of Production Index in Building and Construction (Seasonally Adjusted)"
          ],
          [
           "Volume of Production Index in Building and Construction (Seasonally Adjusted)"
          ],
          [
           "Volume of Production Index in Building and Construction (Seasonally Adjusted)"
          ],
          [
           "Volume of Production Index in Building and Construction (Seasonally Adjusted)"
          ],
          [
           "Volume of Production Index in Building and Construction (Seasonally Adjusted)"
          ],
          [
           "Volume of Production Index in Building and Construction (Seasonally Adjusted)"
          ],
          [
           "Volume of Production Index in Building and Construction (Seasonally Adjusted)"
          ],
          [
           "Volume of Production Index in Building and Construction (Seasonally Adjusted)"
          ],
          [
           "Volume of Production Index in Building and Construction (Seasonally Adjusted)"
          ],
          [
           "Volume of Production Index in Building and Construction (Seasonally Adjusted)"
          ],
          [
           "Volume of Production Index in Building and Construction (Seasonally Adjusted)"
          ],
          [
           "Volume of Production Index in Building and Construction (Seasonally Adjusted)"
          ],
          [
           "Volume of Production Index in Building and Construction (Seasonally Adjusted)"
          ],
          [
           "Volume of Production Index in Building and Construction (Seasonally Adjusted)"
          ],
          [
           "Volume of Production Index in Building and Construction (Seasonally Adjusted)"
          ],
          [
           "Volume of Production Index in Building and Construction (Seasonally Adjusted)"
          ],
          [
           "Volume of Production Index in Building and Construction (Seasonally Adjusted)"
          ],
          [
           "Volume of Production Index in Building and Construction (Seasonally Adjusted)"
          ],
          [
           "Volume of Production Index in Building and Construction (Seasonally Adjusted)"
          ],
          [
           "Volume of Production Index in Building and Construction (Seasonally Adjusted)"
          ],
          [
           "Volume of Production Index in Building and Construction (Seasonally Adjusted)"
          ],
          [
           "Volume of Production Index in Building and Construction (Seasonally Adjusted)"
          ],
          [
           "Volume of Production Index in Building and Construction (Seasonally Adjusted)"
          ],
          [
           "Volume of Production Index in Building and Construction (Seasonally Adjusted)"
          ],
          [
           "Volume of Production Index in Building and Construction (Seasonally Adjusted)"
          ],
          [
           "Volume of Production Index in Building and Construction (Seasonally Adjusted)"
          ],
          [
           "Volume of Production Index in Building and Construction (Seasonally Adjusted)"
          ],
          [
           "Volume of Production Index in Building and Construction (Seasonally Adjusted)"
          ],
          [
           "Volume of Production Index in Building and Construction (Seasonally Adjusted)"
          ],
          [
           "Volume of Production Index in Building and Construction (Seasonally Adjusted)"
          ],
          [
           "Volume of Production Index in Building and Construction (Seasonally Adjusted)"
          ],
          [
           "Volume of Production Index in Building and Construction (Seasonally Adjusted)"
          ],
          [
           "Volume of Production Index in Building and Construction (Seasonally Adjusted)"
          ],
          [
           "Volume of Production Index in Building and Construction (Seasonally Adjusted)"
          ],
          [
           "Volume of Production Index in Building and Construction (Seasonally Adjusted)"
          ],
          [
           "Volume of Production Index in Building and Construction (Seasonally Adjusted)"
          ],
          [
           "Volume of Production Index in Building and Construction (Seasonally Adjusted)"
          ],
          [
           "Volume of Production Index in Building and Construction (Seasonally Adjusted)"
          ],
          [
           "Volume of Production Index in Building and Construction (Seasonally Adjusted)"
          ],
          [
           "Volume of Production Index in Building and Construction (Seasonally Adjusted)"
          ],
          [
           "Volume of Production Index in Building and Construction (Seasonally Adjusted)"
          ],
          [
           "Volume of Production Index in Building and Construction (Seasonally Adjusted)"
          ],
          [
           "Volume of Production Index in Building and Construction (Seasonally Adjusted)"
          ],
          [
           "Volume of Production Index in Building and Construction (Seasonally Adjusted)"
          ],
          [
           "Volume of Production Index in Building and Construction (Seasonally Adjusted)"
          ],
          [
           "Volume of Production Index in Building and Construction (Seasonally Adjusted)"
          ],
          [
           "Volume of Production Index in Building and Construction (Seasonally Adjusted)"
          ],
          [
           "Volume of Production Index in Building and Construction (Seasonally Adjusted)"
          ],
          [
           "Volume of Production Index in Building and Construction (Seasonally Adjusted)"
          ],
          [
           "Volume of Production Index in Building and Construction (Seasonally Adjusted)"
          ],
          [
           "Volume of Production Index in Building and Construction (Seasonally Adjusted)"
          ],
          [
           "Volume of Production Index in Building and Construction (Seasonally Adjusted)"
          ],
          [
           "Volume of Production Index in Building and Construction (Seasonally Adjusted)"
          ],
          [
           "Volume of Production Index in Building and Construction (Seasonally Adjusted)"
          ],
          [
           "Volume of Production Index in Building and Construction (Seasonally Adjusted)"
          ],
          [
           "Volume of Production Index in Building and Construction (Seasonally Adjusted)"
          ],
          [
           "Volume of Production Index in Building and Construction (Seasonally Adjusted)"
          ],
          [
           "Volume of Production Index in Building and Construction (Seasonally Adjusted)"
          ],
          [
           "Volume of Production Index in Building and Construction (Seasonally Adjusted)"
          ],
          [
           "Volume of Production Index in Building and Construction (Seasonally Adjusted)"
          ],
          [
           "Volume of Production Index in Building and Construction (Seasonally Adjusted)"
          ],
          [
           "Volume of Production Index in Building and Construction (Seasonally Adjusted)"
          ],
          [
           "Volume of Production Index in Building and Construction (Seasonally Adjusted)"
          ],
          [
           "Volume of Production Index in Building and Construction (Seasonally Adjusted)"
          ],
          [
           "Volume of Production Index in Building and Construction (Seasonally Adjusted)"
          ],
          [
           "Volume of Production Index in Building and Construction (Seasonally Adjusted)"
          ],
          [
           "Volume of Production Index in Building and Construction (Seasonally Adjusted)"
          ],
          [
           "Volume of Production Index in Building and Construction (Seasonally Adjusted)"
          ],
          [
           "Volume of Production Index in Building and Construction (Seasonally Adjusted)"
          ],
          [
           "Volume of Production Index in Building and Construction (Seasonally Adjusted)"
          ],
          [
           "Volume of Production Index in Building and Construction (Seasonally Adjusted)"
          ],
          [
           "Volume of Production Index in Building and Construction (Seasonally Adjusted)"
          ],
          [
           "Volume of Production Index in Building and Construction (Seasonally Adjusted)"
          ],
          [
           "Volume of Production Index in Building and Construction (Seasonally Adjusted)"
          ],
          [
           "Volume of Production Index in Building and Construction (Seasonally Adjusted)"
          ],
          [
           "Volume of Production Index in Building and Construction (Seasonally Adjusted)"
          ],
          [
           "Volume of Production Index in Building and Construction (Seasonally Adjusted)"
          ],
          [
           "Volume of Production Index in Building and Construction (Seasonally Adjusted)"
          ],
          [
           "Volume of Production Index in Building and Construction (Seasonally Adjusted)"
          ],
          [
           "Volume of Production Index in Building and Construction (Seasonally Adjusted)"
          ],
          [
           "Volume of Production Index in Building and Construction (Seasonally Adjusted)"
          ],
          [
           "Volume of Production Index in Building and Construction (Seasonally Adjusted)"
          ],
          [
           "Volume of Production Index in Building and Construction (Seasonally Adjusted)"
          ],
          [
           "Volume of Production Index in Building and Construction (Seasonally Adjusted)"
          ],
          [
           "Volume of Production Index in Building and Construction (Seasonally Adjusted)"
          ],
          [
           "Volume of Production Index in Building and Construction (Seasonally Adjusted)"
          ],
          [
           "Volume of Production Index in Building and Construction (Seasonally Adjusted)"
          ],
          [
           "Volume of Production Index in Building and Construction (Seasonally Adjusted)"
          ],
          [
           "Volume of Production Index in Building and Construction (Seasonally Adjusted)"
          ],
          [
           "Volume of Production Index in Building and Construction (Seasonally Adjusted)"
          ],
          [
           "Volume of Production Index in Building and Construction (Seasonally Adjusted)"
          ],
          [
           "Volume of Production Index in Building and Construction (Seasonally Adjusted)"
          ],
          [
           "Volume of Production Index in Building and Construction (Seasonally Adjusted)"
          ],
          [
           "Volume of Production Index in Building and Construction (Seasonally Adjusted)"
          ],
          [
           "Volume of Production Index in Building and Construction (Seasonally Adjusted)"
          ],
          [
           "Volume of Production Index in Building and Construction (Seasonally Adjusted)"
          ],
          [
           "Volume of Production Index in Building and Construction (Seasonally Adjusted)"
          ],
          [
           "Volume of Production Index in Building and Construction (Seasonally Adjusted)"
          ],
          [
           "Volume of Production Index in Building and Construction (Seasonally Adjusted)"
          ],
          [
           "Volume of Production Index in Building and Construction (Seasonally Adjusted)"
          ],
          [
           "Volume of Production Index in Building and Construction (Seasonally Adjusted)"
          ],
          [
           "Volume of Production Index in Building and Construction (Seasonally Adjusted)"
          ],
          [
           "Volume of Production Index in Building and Construction (Seasonally Adjusted)"
          ],
          [
           "Volume of Production Index in Building and Construction (Seasonally Adjusted)"
          ],
          [
           "Volume of Production Index in Building and Construction (Seasonally Adjusted)"
          ],
          [
           "Volume of Production Index in Building and Construction (Seasonally Adjusted)"
          ],
          [
           "Volume of Production Index in Building and Construction (Seasonally Adjusted)"
          ],
          [
           "Volume of Production Index in Building and Construction (Seasonally Adjusted)"
          ],
          [
           "Volume of Production Index in Building and Construction (Seasonally Adjusted)"
          ],
          [
           "Volume of Production Index in Building and Construction (Seasonally Adjusted)"
          ],
          [
           "Volume of Production Index in Building and Construction (Seasonally Adjusted)"
          ],
          [
           "Volume of Production Index in Building and Construction (Seasonally Adjusted)"
          ],
          [
           "Volume of Production Index in Building and Construction (Seasonally Adjusted)"
          ],
          [
           "Volume of Production Index in Building and Construction (Seasonally Adjusted)"
          ],
          [
           "Volume of Production Index in Building and Construction (Seasonally Adjusted)"
          ],
          [
           "Volume of Production Index in Building and Construction (Seasonally Adjusted)"
          ],
          [
           "Volume of Production Index in Building and Construction (Seasonally Adjusted)"
          ],
          [
           "Volume of Production Index in Building and Construction (Seasonally Adjusted)"
          ],
          [
           "Volume of Production Index in Building and Construction (Seasonally Adjusted)"
          ],
          [
           "Volume of Production Index in Building and Construction (Seasonally Adjusted)"
          ],
          [
           "Volume of Production Index in Building and Construction (Seasonally Adjusted)"
          ],
          [
           "Volume of Production Index in Building and Construction (Seasonally Adjusted)"
          ],
          [
           "Volume of Production Index in Building and Construction (Seasonally Adjusted)"
          ],
          [
           "Volume of Production Index in Building and Construction (Seasonally Adjusted)"
          ],
          [
           "Volume of Production Index in Building and Construction (Seasonally Adjusted)"
          ],
          [
           "Volume of Production Index in Building and Construction (Seasonally Adjusted)"
          ],
          [
           "Volume of Production Index in Building and Construction (Seasonally Adjusted)"
          ],
          [
           "Volume of Production Index in Building and Construction (Seasonally Adjusted)"
          ],
          [
           "Volume of Production Index in Building and Construction (Seasonally Adjusted)"
          ],
          [
           "Volume of Production Index in Building and Construction (Seasonally Adjusted)"
          ],
          [
           "Volume of Production Index in Building and Construction (Seasonally Adjusted)"
          ],
          [
           "Volume of Production Index in Building and Construction (Seasonally Adjusted)"
          ],
          [
           "Volume of Production Index in Building and Construction (Seasonally Adjusted)"
          ],
          [
           "Volume of Production Index in Building and Construction (Seasonally Adjusted)"
          ],
          [
           "Volume of Production Index in Building and Construction (Seasonally Adjusted)"
          ],
          [
           "Volume of Production Index in Building and Construction (Seasonally Adjusted)"
          ],
          [
           "Volume of Production Index in Building and Construction (Seasonally Adjusted)"
          ],
          [
           "Volume of Production Index in Building and Construction (Seasonally Adjusted)"
          ],
          [
           "Volume of Production Index in Building and Construction (Seasonally Adjusted)"
          ],
          [
           "Volume of Production Index in Building and Construction (Seasonally Adjusted)"
          ],
          [
           "Volume of Production Index in Building and Construction (Seasonally Adjusted)"
          ],
          [
           "Volume of Production Index in Building and Construction (Seasonally Adjusted)"
          ],
          [
           "Volume of Production Index in Building and Construction (Seasonally Adjusted)"
          ],
          [
           "Volume of Production Index in Building and Construction (Seasonally Adjusted)"
          ],
          [
           "Volume of Production Index in Building and Construction (Seasonally Adjusted)"
          ],
          [
           "Volume of Production Index in Building and Construction (Seasonally Adjusted)"
          ],
          [
           "Volume of Production Index in Building and Construction (Seasonally Adjusted)"
          ],
          [
           "Volume of Production Index in Building and Construction (Seasonally Adjusted)"
          ],
          [
           "Volume of Production Index in Building and Construction (Seasonally Adjusted)"
          ],
          [
           "Volume of Production Index in Building and Construction (Seasonally Adjusted)"
          ],
          [
           "Volume of Production Index in Building and Construction (Seasonally Adjusted)"
          ],
          [
           "Volume of Production Index in Building and Construction (Seasonally Adjusted)"
          ],
          [
           "Volume of Production Index in Building and Construction (Seasonally Adjusted)"
          ],
          [
           "Volume of Production Index in Building and Construction (Seasonally Adjusted)"
          ],
          [
           "Volume of Production Index in Building and Construction (Seasonally Adjusted)"
          ],
          [
           "Volume of Production Index in Building and Construction (Seasonally Adjusted)"
          ],
          [
           "Volume of Production Index in Building and Construction (Seasonally Adjusted)"
          ],
          [
           "Volume of Production Index in Building and Construction (Seasonally Adjusted)"
          ],
          [
           "Volume of Production Index in Building and Construction (Seasonally Adjusted)"
          ],
          [
           "Volume of Production Index in Building and Construction (Seasonally Adjusted)"
          ],
          [
           "Volume of Production Index in Building and Construction (Seasonally Adjusted)"
          ],
          [
           "Volume of Production Index in Building and Construction (Seasonally Adjusted)"
          ],
          [
           "Volume of Production Index in Building and Construction (Seasonally Adjusted)"
          ],
          [
           "Volume of Production Index in Building and Construction (Seasonally Adjusted)"
          ],
          [
           "Volume of Production Index in Building and Construction (Seasonally Adjusted)"
          ],
          [
           "Volume of Production Index in Building and Construction (Seasonally Adjusted)"
          ],
          [
           "Volume of Production Index in Building and Construction (Seasonally Adjusted)"
          ],
          [
           "Volume of Production Index in Building and Construction (Seasonally Adjusted)"
          ],
          [
           "Volume of Production Index in Building and Construction (Seasonally Adjusted)"
          ],
          [
           "Volume of Production Index in Building and Construction (Seasonally Adjusted)"
          ],
          [
           "Volume of Production Index in Building and Construction (Seasonally Adjusted)"
          ],
          [
           "Volume of Production Index in Building and Construction (Seasonally Adjusted)"
          ],
          [
           "Volume of Production Index in Building and Construction (Seasonally Adjusted)"
          ],
          [
           "Volume of Production Index in Building and Construction (Seasonally Adjusted)"
          ],
          [
           "Volume of Production Index in Building and Construction (Seasonally Adjusted)"
          ],
          [
           "Volume of Production Index in Building and Construction (Seasonally Adjusted)"
          ],
          [
           "Volume of Production Index in Building and Construction (Seasonally Adjusted)"
          ],
          [
           "Volume of Production Index in Building and Construction (Seasonally Adjusted)"
          ],
          [
           "Volume of Production Index in Building and Construction (Seasonally Adjusted)"
          ],
          [
           "Volume of Production Index in Building and Construction (Seasonally Adjusted)"
          ],
          [
           "Volume of Production Index in Building and Construction (Seasonally Adjusted)"
          ],
          [
           "Volume of Production Index in Building and Construction (Seasonally Adjusted)"
          ],
          [
           "Volume of Production Index in Building and Construction (Seasonally Adjusted)"
          ],
          [
           "Volume of Production Index in Building and Construction (Seasonally Adjusted)"
          ],
          [
           "Volume of Production Index in Building and Construction (Seasonally Adjusted)"
          ],
          [
           "Volume of Production Index in Building and Construction (Seasonally Adjusted)"
          ],
          [
           "Volume of Production Index in Building and Construction (Seasonally Adjusted)"
          ],
          [
           "Volume of Production Index in Building and Construction (Seasonally Adjusted)"
          ],
          [
           "Volume of Production Index in Building and Construction (Seasonally Adjusted)"
          ],
          [
           "Volume of Production Index in Building and Construction (Seasonally Adjusted)"
          ],
          [
           "Volume of Production Index in Building and Construction (Seasonally Adjusted)"
          ],
          [
           "Volume of Production Index in Building and Construction (Seasonally Adjusted)"
          ],
          [
           "Volume of Production Index in Building and Construction (Seasonally Adjusted)"
          ],
          [
           "Volume of Production Index in Building and Construction (Seasonally Adjusted)"
          ],
          [
           "Volume of Production Index in Building and Construction (Seasonally Adjusted)"
          ],
          [
           "Volume of Production Index in Building and Construction (Seasonally Adjusted)"
          ],
          [
           "Volume of Production Index in Building and Construction (Seasonally Adjusted)"
          ],
          [
           "Volume of Production Index in Building and Construction (Seasonally Adjusted)"
          ],
          [
           "Volume of Production Index in Building and Construction (Seasonally Adjusted)"
          ],
          [
           "Volume of Production Index in Building and Construction (Seasonally Adjusted)"
          ],
          [
           "Volume of Production Index in Building and Construction (Seasonally Adjusted)"
          ],
          [
           "Volume of Production Index in Building and Construction (Seasonally Adjusted)"
          ],
          [
           "Volume of Production Index in Building and Construction (Seasonally Adjusted)"
          ],
          [
           "Volume of Production Index in Building and Construction (Seasonally Adjusted)"
          ],
          [
           "Volume of Production Index in Building and Construction (Seasonally Adjusted)"
          ],
          [
           "Volume of Production Index in Building and Construction (Seasonally Adjusted)"
          ],
          [
           "Volume of Production Index in Building and Construction (Seasonally Adjusted)"
          ],
          [
           "Volume of Production Index in Building and Construction (Seasonally Adjusted)"
          ],
          [
           "Volume of Production Index in Building and Construction (Seasonally Adjusted)"
          ],
          [
           "Volume of Production Index in Building and Construction (Seasonally Adjusted)"
          ],
          [
           "Volume of Production Index in Building and Construction (Seasonally Adjusted)"
          ],
          [
           "Volume of Production Index in Building and Construction (Seasonally Adjusted)"
          ],
          [
           "Volume of Production Index in Building and Construction (Seasonally Adjusted)"
          ],
          [
           "Volume of Production Index in Building and Construction (Seasonally Adjusted)"
          ],
          [
           "Volume of Production Index in Building and Construction (Seasonally Adjusted)"
          ],
          [
           "Volume of Production Index in Building and Construction (Seasonally Adjusted)"
          ],
          [
           "Volume of Production Index in Building and Construction (Seasonally Adjusted)"
          ],
          [
           "Volume of Production Index in Building and Construction (Seasonally Adjusted)"
          ],
          [
           "Volume of Production Index in Building and Construction (Seasonally Adjusted)"
          ],
          [
           "Volume of Production Index in Building and Construction (Seasonally Adjusted)"
          ],
          [
           "Volume of Production Index in Building and Construction (Seasonally Adjusted)"
          ],
          [
           "Volume of Production Index in Building and Construction (Seasonally Adjusted)"
          ],
          [
           "Volume of Production Index in Building and Construction (Seasonally Adjusted)"
          ],
          [
           "Volume of Production Index in Building and Construction (Seasonally Adjusted)"
          ],
          [
           "Volume of Production Index in Building and Construction (Seasonally Adjusted)"
          ],
          [
           "Volume of Production Index in Building and Construction (Seasonally Adjusted)"
          ],
          [
           "Volume of Production Index in Building and Construction (Seasonally Adjusted)"
          ],
          [
           "Volume of Production Index in Building and Construction (Seasonally Adjusted)"
          ]
         ],
         "hovertemplate": "STATISTIC=BEQ04C04<br>Quarter=%{x}<br>VALUE=%{y}<br>Statistic Label=%{customdata[0]}<extra></extra>",
         "legendgroup": "BEQ04C04",
         "line": {
          "color": "#ab63fa",
          "dash": "solid"
         },
         "marker": {
          "symbol": "circle"
         },
         "mode": "lines",
         "name": "BEQ04C04",
         "showlegend": true,
         "type": "scattergl",
         "x": [
          "2000Q1",
          "2000Q1",
          "2000Q1",
          "2000Q1",
          "2000Q1",
          "2000Q2",
          "2000Q2",
          "2000Q2",
          "2000Q2",
          "2000Q2",
          "2000Q3",
          "2000Q3",
          "2000Q3",
          "2000Q3",
          "2000Q3",
          "2000Q4",
          "2000Q4",
          "2000Q4",
          "2000Q4",
          "2000Q4",
          "2001Q1",
          "2001Q1",
          "2001Q1",
          "2001Q1",
          "2001Q1",
          "2001Q2",
          "2001Q2",
          "2001Q2",
          "2001Q2",
          "2001Q2",
          "2001Q3",
          "2001Q3",
          "2001Q3",
          "2001Q3",
          "2001Q3",
          "2001Q4",
          "2001Q4",
          "2001Q4",
          "2001Q4",
          "2001Q4",
          "2002Q1",
          "2002Q1",
          "2002Q1",
          "2002Q1",
          "2002Q1",
          "2002Q2",
          "2002Q2",
          "2002Q2",
          "2002Q2",
          "2002Q2",
          "2002Q3",
          "2002Q3",
          "2002Q3",
          "2002Q3",
          "2002Q3",
          "2002Q4",
          "2002Q4",
          "2002Q4",
          "2002Q4",
          "2002Q4",
          "2003Q1",
          "2003Q1",
          "2003Q1",
          "2003Q1",
          "2003Q1",
          "2003Q2",
          "2003Q2",
          "2003Q2",
          "2003Q2",
          "2003Q2",
          "2003Q3",
          "2003Q3",
          "2003Q3",
          "2003Q3",
          "2003Q3",
          "2003Q4",
          "2003Q4",
          "2003Q4",
          "2003Q4",
          "2003Q4",
          "2004Q1",
          "2004Q1",
          "2004Q1",
          "2004Q1",
          "2004Q1",
          "2004Q2",
          "2004Q2",
          "2004Q2",
          "2004Q2",
          "2004Q2",
          "2004Q3",
          "2004Q3",
          "2004Q3",
          "2004Q3",
          "2004Q3",
          "2004Q4",
          "2004Q4",
          "2004Q4",
          "2004Q4",
          "2004Q4",
          "2005Q1",
          "2005Q1",
          "2005Q1",
          "2005Q1",
          "2005Q1",
          "2005Q2",
          "2005Q2",
          "2005Q2",
          "2005Q2",
          "2005Q2",
          "2005Q3",
          "2005Q3",
          "2005Q3",
          "2005Q3",
          "2005Q3",
          "2005Q4",
          "2005Q4",
          "2005Q4",
          "2005Q4",
          "2005Q4",
          "2006Q1",
          "2006Q1",
          "2006Q1",
          "2006Q1",
          "2006Q1",
          "2006Q2",
          "2006Q2",
          "2006Q2",
          "2006Q2",
          "2006Q2",
          "2006Q3",
          "2006Q3",
          "2006Q3",
          "2006Q3",
          "2006Q3",
          "2006Q4",
          "2006Q4",
          "2006Q4",
          "2006Q4",
          "2006Q4",
          "2007Q1",
          "2007Q1",
          "2007Q1",
          "2007Q1",
          "2007Q1",
          "2007Q2",
          "2007Q2",
          "2007Q2",
          "2007Q2",
          "2007Q2",
          "2007Q3",
          "2007Q3",
          "2007Q3",
          "2007Q3",
          "2007Q3",
          "2007Q4",
          "2007Q4",
          "2007Q4",
          "2007Q4",
          "2007Q4",
          "2008Q1",
          "2008Q1",
          "2008Q1",
          "2008Q1",
          "2008Q1",
          "2008Q2",
          "2008Q2",
          "2008Q2",
          "2008Q2",
          "2008Q2",
          "2008Q3",
          "2008Q3",
          "2008Q3",
          "2008Q3",
          "2008Q3",
          "2008Q4",
          "2008Q4",
          "2008Q4",
          "2008Q4",
          "2008Q4",
          "2009Q1",
          "2009Q1",
          "2009Q1",
          "2009Q1",
          "2009Q1",
          "2009Q2",
          "2009Q2",
          "2009Q2",
          "2009Q2",
          "2009Q2",
          "2009Q3",
          "2009Q3",
          "2009Q3",
          "2009Q3",
          "2009Q3",
          "2009Q4",
          "2009Q4",
          "2009Q4",
          "2009Q4",
          "2009Q4",
          "2010Q1",
          "2010Q1",
          "2010Q1",
          "2010Q1",
          "2010Q1",
          "2010Q2",
          "2010Q2",
          "2010Q2",
          "2010Q2",
          "2010Q2",
          "2010Q3",
          "2010Q3",
          "2010Q3",
          "2010Q3",
          "2010Q3",
          "2010Q4",
          "2010Q4",
          "2010Q4",
          "2010Q4",
          "2010Q4",
          "2011Q1",
          "2011Q1",
          "2011Q1",
          "2011Q1",
          "2011Q1",
          "2011Q2",
          "2011Q2",
          "2011Q2",
          "2011Q2",
          "2011Q2",
          "2011Q3",
          "2011Q3",
          "2011Q3",
          "2011Q3",
          "2011Q3",
          "2011Q4",
          "2011Q4",
          "2011Q4",
          "2011Q4",
          "2011Q4",
          "2012Q1",
          "2012Q1",
          "2012Q1",
          "2012Q1",
          "2012Q1",
          "2012Q2",
          "2012Q2",
          "2012Q2",
          "2012Q2",
          "2012Q2",
          "2012Q3",
          "2012Q3",
          "2012Q3",
          "2012Q3",
          "2012Q3",
          "2012Q4",
          "2012Q4",
          "2012Q4",
          "2012Q4",
          "2012Q4",
          "2013Q1",
          "2013Q1",
          "2013Q1",
          "2013Q1",
          "2013Q1",
          "2013Q2",
          "2013Q2",
          "2013Q2",
          "2013Q2",
          "2013Q2",
          "2013Q3",
          "2013Q3",
          "2013Q3",
          "2013Q3",
          "2013Q3",
          "2013Q4",
          "2013Q4",
          "2013Q4",
          "2013Q4",
          "2013Q4",
          "2014Q1",
          "2014Q1",
          "2014Q1",
          "2014Q1",
          "2014Q1",
          "2014Q2",
          "2014Q2",
          "2014Q2",
          "2014Q2",
          "2014Q2",
          "2014Q3",
          "2014Q3",
          "2014Q3",
          "2014Q3",
          "2014Q3",
          "2014Q4",
          "2014Q4",
          "2014Q4",
          "2014Q4",
          "2014Q4",
          "2015Q1",
          "2015Q1",
          "2015Q1",
          "2015Q1",
          "2015Q1",
          "2015Q2",
          "2015Q2",
          "2015Q2",
          "2015Q2",
          "2015Q2",
          "2015Q3",
          "2015Q3",
          "2015Q3",
          "2015Q3",
          "2015Q3",
          "2015Q4",
          "2015Q4",
          "2015Q4",
          "2015Q4",
          "2015Q4",
          "2016Q1",
          "2016Q1",
          "2016Q1",
          "2016Q1",
          "2016Q1",
          "2016Q2",
          "2016Q2",
          "2016Q2",
          "2016Q2",
          "2016Q2",
          "2016Q3",
          "2016Q3",
          "2016Q3",
          "2016Q3",
          "2016Q3",
          "2016Q4",
          "2016Q4",
          "2016Q4",
          "2016Q4",
          "2016Q4",
          "2017Q1",
          "2017Q1",
          "2017Q1",
          "2017Q1",
          "2017Q1",
          "2017Q2",
          "2017Q2",
          "2017Q2",
          "2017Q2",
          "2017Q2",
          "2017Q3",
          "2017Q3",
          "2017Q3",
          "2017Q3",
          "2017Q3",
          "2017Q4",
          "2017Q4",
          "2017Q4",
          "2017Q4",
          "2017Q4",
          "2018Q1",
          "2018Q1",
          "2018Q1",
          "2018Q1",
          "2018Q1",
          "2018Q2",
          "2018Q2",
          "2018Q2",
          "2018Q2",
          "2018Q2",
          "2018Q3",
          "2018Q3",
          "2018Q3",
          "2018Q3",
          "2018Q3",
          "2018Q4",
          "2018Q4",
          "2018Q4",
          "2018Q4",
          "2018Q4",
          "2019Q1",
          "2019Q1",
          "2019Q1",
          "2019Q1",
          "2019Q1",
          "2019Q2",
          "2019Q2",
          "2019Q2",
          "2019Q2",
          "2019Q2",
          "2019Q3",
          "2019Q3",
          "2019Q3",
          "2019Q3",
          "2019Q3",
          "2019Q4",
          "2019Q4",
          "2019Q4",
          "2019Q4",
          "2019Q4",
          "2020Q1",
          "2020Q1",
          "2020Q1",
          "2020Q1",
          "2020Q1",
          "2020Q2",
          "2020Q2",
          "2020Q2",
          "2020Q2",
          "2020Q2",
          "2020Q3",
          "2020Q3",
          "2020Q3",
          "2020Q3",
          "2020Q3",
          "2020Q4",
          "2020Q4",
          "2020Q4",
          "2020Q4",
          "2020Q4",
          "2021Q1",
          "2021Q1",
          "2021Q1",
          "2021Q1",
          "2021Q1",
          "2021Q2",
          "2021Q2",
          "2021Q2",
          "2021Q2",
          "2021Q2",
          "2021Q3",
          "2021Q3",
          "2021Q3",
          "2021Q3",
          "2021Q3",
          "2021Q4",
          "2021Q4",
          "2021Q4",
          "2021Q4",
          "2021Q4",
          "2022Q1",
          "2022Q1",
          "2022Q1",
          "2022Q1",
          "2022Q1",
          "2022Q2",
          "2022Q2",
          "2022Q2",
          "2022Q2",
          "2022Q2",
          "2022Q3",
          "2022Q3",
          "2022Q3",
          "2022Q3",
          "2022Q3",
          "2022Q4",
          "2022Q4",
          "2022Q4",
          "2022Q4",
          "2022Q4"
         ],
         "xaxis": "x",
         "y": [
          216.612216968824,
          281.721068185939,
          475.919802588304,
          147.593342961596,
          82.7018335360889,
          218.514304670204,
          283.861875986608,
          475.663376784305,
          148.472401709595,
          84.5758339744766,
          220.424981423259,
          283.018909882077,
          475.745041760254,
          148.70906806679,
          87.705318273011,
          218.552401547237,
          276.327141099137,
          460.709555246744,
          148.674556537184,
          93.0884101130893,
          222.520017423678,
          283.152739098274,
          482.642602384627,
          145.341828291778,
          94.0331420229167,
          227.320775695543,
          290.265565598132,
          496.933019036105,
          143.43614084105,
          96.1154270934832,
          222.857877172333,
          281.027264722167,
          481.661422718335,
          140.234627493554,
          97.0371070719425,
          231.451260691535,
          289.849564819816,
          503.179005820756,
          139.69802987649,
          103.165592309102,
          230.6850514844,
          282.185621855267,
          484.229983083124,
          136.703354371093,
          111.338875848827,
          218.545712048414,
          267.94453863907,
          466.58660952766,
          132.498398724659,
          113.138912290546,
          236.515426776735,
          291.252917884722,
          517.461644345415,
          130.800762596778,
          114.257330421709,
          237.540855259293,
          294.176086453091,
          529.304225412561,
          126.288032637972,
          111.159254775385,
          234.787780085271,
          290.448682046385,
          532.135226401055,
          125.2029957106,
          112.648668675908,
          235.392781938062,
          291.848061843967,
          524.364525458639,
          121.943496746198,
          112.692134070732,
          258.979609237058,
          326.470944086634,
          610.395226849295,
          122.600926728152,
          112.936342281102,
          246.27245555481,
          303.290373365891,
          553.235648703622,
          122.98002897208,
          117.611321848207,
          311.237401451428,
          397.852951858335,
          772.945499910806,
          138.144245575059,
          122.442921308088,
          318.015561740474,
          403.463405197257,
          766.579208902035,
          140.952098869672,
          134.013806806965,
          296.95036534273,
          370.474997474972,
          688.130609625867,
          143.977700094795,
          134.874409359164,
          296.882985363274,
          373.157474820212,
          702.419850543995,
          134.45615096504,
          125.813577713564,
          317.195234770268,
          403.626230074434,
          783.366729044907,
          136.798969809671,
          124.801440055928,
          334.055757605004,
          428.132619622133,
          828.047661806037,
          146.299353135395,
          134.343869476132,
          345.994563276394,
          430.512981686148,
          820.014290632255,
          152.061539025975,
          160.147098067933,
          342.571259255442,
          424.209389233904,
          783.988070172919,
          162.011535540051,
          158.747025869345,
          354.080313987881,
          441.813627006599,
          855.495276355555,
          165.082443580427,
          163.895457221717,
          342.502520618624,
          429.299017962285,
          798.159828496387,
          157.769264266787,
          155.9707018972,
          334.711107527821,
          414.065567602135,
          779.881580017551,
          151.474868767707,
          159.550571061508,
          360.124470976566,
          442.693448631178,
          835.044127876168,
          157.994359257115,
          172.368831139327,
          319.011377109478,
          384.141222246145,
          712.001304616247,
          160.697085660208,
          175.526435798503,
          318.867328583766,
          390.535508086513,
          707.272835287567,
          160.666424680679,
          172.695638773484,
          289.142050805598,
          343.96409483343,
          599.414431627303,
          160.053153799729,
          164.919308931094,
          278.697711890575,
          326.531480341478,
          563.742797489469,
          157.596809903381,
          168.254866251199,
          250.661749364015,
          288.236813906899,
          469.117482430169,
          158.723024962236,
          166.387735042256,
          226.534256560333,
          258.116749884929,
          396.218399558853,
          158.703134216386,
          170.454162094581,
          204.182652765632,
          223.029641939659,
          323.050035511489,
          151.172893133373,
          157.197084948368,
          175.718787391349,
          188.562260306744,
          243.09794368263,
          153.972570496791,
          146.23683631643,
          158.964227786411,
          164.558410867421,
          200.234162076157,
          137.549264699209,
          148.525515709472,
          141.359775520399,
          142.843897544093,
          159.245429122082,
          127.475274112256,
          144.41488310056,
          129.600338714033,
          122.871069296463,
          128.890714032804,
          118.265370910372,
          139.073270526844,
          111.569700009968,
          105.50378563059,
          112.144879815416,
          102.08712735169,
          126.326627311218,
          102.976733681559,
          94.4102867264591,
          99.7386492487822,
          89.8740221677328,
          121.899958952291,
          98.923209952848,
          88.162793013323,
          96.4915347542008,
          81.7672907512529,
          128.10549862667,
          91.182532933051,
          89.2432977188245,
          92.8317757940106,
          86.0365375757944,
          91.0633985901992,
          86.2497673256749,
          84.5843967638029,
          84.0774016479536,
          84.9924731375669,
          92.7207119317126,
          78.4952518753756,
          79.0757918779463,
          75.126793075666,
          84.1409761674263,
          77.2475814871224,
          77.4458869414711,
          77.458774601422,
          66.7079162786621,
          84.9973183552286,
          77.7682618050412,
          79.0656707858314,
          75.7120300856536,
          63.3424388758365,
          85.3714102361941,
          83.07284736463,
          79.6351278527149,
          75.9928733238759,
          66.9009423408006,
          82.5767443868973,
          91.8435264588313,
          79.2309301243351,
          72.4519408081571,
          63.9903937202247,
          80.6499689944136,
          93.5287041487048,
          73.4453682882164,
          67.4437030541847,
          58.845799408141,
          75.176714111077,
          87.2762132208918,
          74.6512819195484,
          66.9225662347836,
          59.2576968841831,
          72.1068929072577,
          89.3276439255211,
          80.1618045368735,
          67.2699739984882,
          56.6561588032317,
          73.6604342926956,
          114.586423211249,
          80.7895823424428,
          72.1559505110744,
          68.6008319610024,
          76.7927656761482,
          97.510589059319,
          82.1352456445723,
          75.6427949010818,
          65.4374979157631,
          84.9379181832998,
          98.1907639444666,
          89.4771120663266,
          81.2770221271963,
          64.0768342382087,
          94.6274361190664,
          105.796067478375,
          89.3914836441102,
          85.1763250042357,
          65.8857598986284,
          101.550302178274,
          102.111284794073,
          87.6502423137406,
          83.3729906543591,
          65.329810692201,
          99.4704121113897,
          96.5896032497163,
          94.1068356961412,
          84.926075997031,
          71.260305998237,
          94.1766064014177,
          115.28081243685,
          94.4856141464855,
          88.7943686369796,
          80.2697489201919,
          94.424312593949,
          105.658441986518,
          94.7361912785666,
          92.9218752427854,
          91.8091217184677,
          94.8864136498247,
          99.2409397248584,
          101.791253307441,
          100.02420716476,
          98.1693462737856,
          100.860557863816,
          103.842099153869,
          102.110147167765,
          102.937351775696,
          101.685123943394,
          104.137052457381,
          105.662845600972,
          96.3955465345055,
          96.9328052167037,
          100.725215251802,
          94.6680287416172,
          93.6933658965769,
          100.624121487852,
          100.452367044988,
          100.017987956321,
          100.157543408014,
          98.0526896608642,
          101.70752978896,
          102.42680467814,
          114.187009100258,
          101.679470153333,
          95.7255150076829,
          109.013703760924,
          110.60615892274,
          129.793590621234,
          108.564928949069,
          107.925303967213,
          114.191644707832,
          116.149277797865,
          124.040241398871,
          113.526691405192,
          106.11210952072,
          113.550362240614,
          115.1016674704,
          126.543617222256,
          113.811958508888,
          101.872878328643,
          122.438499974289,
          127.100958782801,
          131.311894141099,
          127.838682400518,
          104.260424858665,
          121.592007005663,
          126.244161817061,
          139.552390647982,
          121.946380668039,
          100.324100242913,
          122.628755757627,
          126.056415405311,
          154.243367596669,
          120.500152137193,
          109.112816390303,
          129.55343675968,
          132.322674060507,
          149.113468310814,
          131.122746708204,
          112.683140746852,
          134.368427408164,
          137.461086813846,
          148.011962783289,
          135.683570246904,
          117.619531859627,
          134.086914232649,
          141.708086102669,
          143.489874454163,
          140.185345864057,
          104.379069562896,
          137.219626968528,
          141.361359610818,
          138.959575759536,
          141.591960229731,
          122.179535145924,
          141.165695258632,
          142.552997200234,
          138.671216874347,
          145.112536451672,
          129.206668493473,
          140.85092378729,
          145.356710053389,
          147.888668938971,
          147.494936307202,
          115.771083259712,
          141.808645002649,
          147.943767724442,
          158.280886900355,
          140.887182683096,
          121.809839592723,
          144.700232408771,
          153.681611307457,
          164.289366663213,
          152.790905317349,
          108.58141711595,
          150.291338225523,
          158.131857013677,
          170.324073564407,
          159.554061666093,
          106.355467378998,
          159.11251280498,
          164.965502507303,
          162.542554221853,
          165.606890936774,
          120.552608340837,
          95.2771036954311,
          104.929612289381,
          80.8940309808664,
          105.215717091603,
          62.0027967745208,
          132.682269961636,
          141.743411535912,
          129.648838883395,
          144.30044518027,
          96.1979386310656,
          140.315499775655,
          145.558652917818,
          130.285134572205,
          150.480810854753,
          105.550477488785,
          110.013982133974,
          111.802866725024,
          75.9558267133054,
          121.299862702051,
          90.3793261647292,
          123.113773480618,
          130.003627478648,
          106.954544056247,
          130.321545103885,
          111.079782093398,
          131.796585030578,
          137.471513863891,
          126.199309944835,
          139.720439473084,
          110.909427117239,
          140.611706464228,
          142.748410798653,
          130.304998165638,
          146.9554641455,
          117.604954586579,
          135.517775736687,
          140.325287522478,
          127.666849720318,
          144.703602167704,
          103.706494965765,
          131.527911506066,
          141.115026719217,
          120.649474449986,
          139.313666344214,
          103.710875987338,
          129.13562563825,
          134.75014955222,
          106.337643474394,
          139.497577482028,
          108.505730003522,
          125.102538659772,
          126.742284675438,
          108.239692954312,
          130.098152787211,
          106.36823711804
         ],
         "yaxis": "y"
        }
       ],
       "layout": {
        "legend": {
         "title": {
          "text": "STATISTIC"
         },
         "tracegroupgap": 0
        },
        "template": {
         "data": {
          "bar": [
           {
            "error_x": {
             "color": "#2a3f5f"
            },
            "error_y": {
             "color": "#2a3f5f"
            },
            "marker": {
             "line": {
              "color": "#E5ECF6",
              "width": 0.5
             },
             "pattern": {
              "fillmode": "overlay",
              "size": 10,
              "solidity": 0.2
             }
            },
            "type": "bar"
           }
          ],
          "barpolar": [
           {
            "marker": {
             "line": {
              "color": "#E5ECF6",
              "width": 0.5
             },
             "pattern": {
              "fillmode": "overlay",
              "size": 10,
              "solidity": 0.2
             }
            },
            "type": "barpolar"
           }
          ],
          "carpet": [
           {
            "aaxis": {
             "endlinecolor": "#2a3f5f",
             "gridcolor": "white",
             "linecolor": "white",
             "minorgridcolor": "white",
             "startlinecolor": "#2a3f5f"
            },
            "baxis": {
             "endlinecolor": "#2a3f5f",
             "gridcolor": "white",
             "linecolor": "white",
             "minorgridcolor": "white",
             "startlinecolor": "#2a3f5f"
            },
            "type": "carpet"
           }
          ],
          "choropleth": [
           {
            "colorbar": {
             "outlinewidth": 0,
             "ticks": ""
            },
            "type": "choropleth"
           }
          ],
          "contour": [
           {
            "colorbar": {
             "outlinewidth": 0,
             "ticks": ""
            },
            "colorscale": [
             [
              0,
              "#0d0887"
             ],
             [
              0.1111111111111111,
              "#46039f"
             ],
             [
              0.2222222222222222,
              "#7201a8"
             ],
             [
              0.3333333333333333,
              "#9c179e"
             ],
             [
              0.4444444444444444,
              "#bd3786"
             ],
             [
              0.5555555555555556,
              "#d8576b"
             ],
             [
              0.6666666666666666,
              "#ed7953"
             ],
             [
              0.7777777777777778,
              "#fb9f3a"
             ],
             [
              0.8888888888888888,
              "#fdca26"
             ],
             [
              1,
              "#f0f921"
             ]
            ],
            "type": "contour"
           }
          ],
          "contourcarpet": [
           {
            "colorbar": {
             "outlinewidth": 0,
             "ticks": ""
            },
            "type": "contourcarpet"
           }
          ],
          "heatmap": [
           {
            "colorbar": {
             "outlinewidth": 0,
             "ticks": ""
            },
            "colorscale": [
             [
              0,
              "#0d0887"
             ],
             [
              0.1111111111111111,
              "#46039f"
             ],
             [
              0.2222222222222222,
              "#7201a8"
             ],
             [
              0.3333333333333333,
              "#9c179e"
             ],
             [
              0.4444444444444444,
              "#bd3786"
             ],
             [
              0.5555555555555556,
              "#d8576b"
             ],
             [
              0.6666666666666666,
              "#ed7953"
             ],
             [
              0.7777777777777778,
              "#fb9f3a"
             ],
             [
              0.8888888888888888,
              "#fdca26"
             ],
             [
              1,
              "#f0f921"
             ]
            ],
            "type": "heatmap"
           }
          ],
          "heatmapgl": [
           {
            "colorbar": {
             "outlinewidth": 0,
             "ticks": ""
            },
            "colorscale": [
             [
              0,
              "#0d0887"
             ],
             [
              0.1111111111111111,
              "#46039f"
             ],
             [
              0.2222222222222222,
              "#7201a8"
             ],
             [
              0.3333333333333333,
              "#9c179e"
             ],
             [
              0.4444444444444444,
              "#bd3786"
             ],
             [
              0.5555555555555556,
              "#d8576b"
             ],
             [
              0.6666666666666666,
              "#ed7953"
             ],
             [
              0.7777777777777778,
              "#fb9f3a"
             ],
             [
              0.8888888888888888,
              "#fdca26"
             ],
             [
              1,
              "#f0f921"
             ]
            ],
            "type": "heatmapgl"
           }
          ],
          "histogram": [
           {
            "marker": {
             "pattern": {
              "fillmode": "overlay",
              "size": 10,
              "solidity": 0.2
             }
            },
            "type": "histogram"
           }
          ],
          "histogram2d": [
           {
            "colorbar": {
             "outlinewidth": 0,
             "ticks": ""
            },
            "colorscale": [
             [
              0,
              "#0d0887"
             ],
             [
              0.1111111111111111,
              "#46039f"
             ],
             [
              0.2222222222222222,
              "#7201a8"
             ],
             [
              0.3333333333333333,
              "#9c179e"
             ],
             [
              0.4444444444444444,
              "#bd3786"
             ],
             [
              0.5555555555555556,
              "#d8576b"
             ],
             [
              0.6666666666666666,
              "#ed7953"
             ],
             [
              0.7777777777777778,
              "#fb9f3a"
             ],
             [
              0.8888888888888888,
              "#fdca26"
             ],
             [
              1,
              "#f0f921"
             ]
            ],
            "type": "histogram2d"
           }
          ],
          "histogram2dcontour": [
           {
            "colorbar": {
             "outlinewidth": 0,
             "ticks": ""
            },
            "colorscale": [
             [
              0,
              "#0d0887"
             ],
             [
              0.1111111111111111,
              "#46039f"
             ],
             [
              0.2222222222222222,
              "#7201a8"
             ],
             [
              0.3333333333333333,
              "#9c179e"
             ],
             [
              0.4444444444444444,
              "#bd3786"
             ],
             [
              0.5555555555555556,
              "#d8576b"
             ],
             [
              0.6666666666666666,
              "#ed7953"
             ],
             [
              0.7777777777777778,
              "#fb9f3a"
             ],
             [
              0.8888888888888888,
              "#fdca26"
             ],
             [
              1,
              "#f0f921"
             ]
            ],
            "type": "histogram2dcontour"
           }
          ],
          "mesh3d": [
           {
            "colorbar": {
             "outlinewidth": 0,
             "ticks": ""
            },
            "type": "mesh3d"
           }
          ],
          "parcoords": [
           {
            "line": {
             "colorbar": {
              "outlinewidth": 0,
              "ticks": ""
             }
            },
            "type": "parcoords"
           }
          ],
          "pie": [
           {
            "automargin": true,
            "type": "pie"
           }
          ],
          "scatter": [
           {
            "fillpattern": {
             "fillmode": "overlay",
             "size": 10,
             "solidity": 0.2
            },
            "type": "scatter"
           }
          ],
          "scatter3d": [
           {
            "line": {
             "colorbar": {
              "outlinewidth": 0,
              "ticks": ""
             }
            },
            "marker": {
             "colorbar": {
              "outlinewidth": 0,
              "ticks": ""
             }
            },
            "type": "scatter3d"
           }
          ],
          "scattercarpet": [
           {
            "marker": {
             "colorbar": {
              "outlinewidth": 0,
              "ticks": ""
             }
            },
            "type": "scattercarpet"
           }
          ],
          "scattergeo": [
           {
            "marker": {
             "colorbar": {
              "outlinewidth": 0,
              "ticks": ""
             }
            },
            "type": "scattergeo"
           }
          ],
          "scattergl": [
           {
            "marker": {
             "colorbar": {
              "outlinewidth": 0,
              "ticks": ""
             }
            },
            "type": "scattergl"
           }
          ],
          "scattermapbox": [
           {
            "marker": {
             "colorbar": {
              "outlinewidth": 0,
              "ticks": ""
             }
            },
            "type": "scattermapbox"
           }
          ],
          "scatterpolar": [
           {
            "marker": {
             "colorbar": {
              "outlinewidth": 0,
              "ticks": ""
             }
            },
            "type": "scatterpolar"
           }
          ],
          "scatterpolargl": [
           {
            "marker": {
             "colorbar": {
              "outlinewidth": 0,
              "ticks": ""
             }
            },
            "type": "scatterpolargl"
           }
          ],
          "scatterternary": [
           {
            "marker": {
             "colorbar": {
              "outlinewidth": 0,
              "ticks": ""
             }
            },
            "type": "scatterternary"
           }
          ],
          "surface": [
           {
            "colorbar": {
             "outlinewidth": 0,
             "ticks": ""
            },
            "colorscale": [
             [
              0,
              "#0d0887"
             ],
             [
              0.1111111111111111,
              "#46039f"
             ],
             [
              0.2222222222222222,
              "#7201a8"
             ],
             [
              0.3333333333333333,
              "#9c179e"
             ],
             [
              0.4444444444444444,
              "#bd3786"
             ],
             [
              0.5555555555555556,
              "#d8576b"
             ],
             [
              0.6666666666666666,
              "#ed7953"
             ],
             [
              0.7777777777777778,
              "#fb9f3a"
             ],
             [
              0.8888888888888888,
              "#fdca26"
             ],
             [
              1,
              "#f0f921"
             ]
            ],
            "type": "surface"
           }
          ],
          "table": [
           {
            "cells": {
             "fill": {
              "color": "#EBF0F8"
             },
             "line": {
              "color": "white"
             }
            },
            "header": {
             "fill": {
              "color": "#C8D4E3"
             },
             "line": {
              "color": "white"
             }
            },
            "type": "table"
           }
          ]
         },
         "layout": {
          "annotationdefaults": {
           "arrowcolor": "#2a3f5f",
           "arrowhead": 0,
           "arrowwidth": 1
          },
          "autotypenumbers": "strict",
          "coloraxis": {
           "colorbar": {
            "outlinewidth": 0,
            "ticks": ""
           }
          },
          "colorscale": {
           "diverging": [
            [
             0,
             "#8e0152"
            ],
            [
             0.1,
             "#c51b7d"
            ],
            [
             0.2,
             "#de77ae"
            ],
            [
             0.3,
             "#f1b6da"
            ],
            [
             0.4,
             "#fde0ef"
            ],
            [
             0.5,
             "#f7f7f7"
            ],
            [
             0.6,
             "#e6f5d0"
            ],
            [
             0.7,
             "#b8e186"
            ],
            [
             0.8,
             "#7fbc41"
            ],
            [
             0.9,
             "#4d9221"
            ],
            [
             1,
             "#276419"
            ]
           ],
           "sequential": [
            [
             0,
             "#0d0887"
            ],
            [
             0.1111111111111111,
             "#46039f"
            ],
            [
             0.2222222222222222,
             "#7201a8"
            ],
            [
             0.3333333333333333,
             "#9c179e"
            ],
            [
             0.4444444444444444,
             "#bd3786"
            ],
            [
             0.5555555555555556,
             "#d8576b"
            ],
            [
             0.6666666666666666,
             "#ed7953"
            ],
            [
             0.7777777777777778,
             "#fb9f3a"
            ],
            [
             0.8888888888888888,
             "#fdca26"
            ],
            [
             1,
             "#f0f921"
            ]
           ],
           "sequentialminus": [
            [
             0,
             "#0d0887"
            ],
            [
             0.1111111111111111,
             "#46039f"
            ],
            [
             0.2222222222222222,
             "#7201a8"
            ],
            [
             0.3333333333333333,
             "#9c179e"
            ],
            [
             0.4444444444444444,
             "#bd3786"
            ],
            [
             0.5555555555555556,
             "#d8576b"
            ],
            [
             0.6666666666666666,
             "#ed7953"
            ],
            [
             0.7777777777777778,
             "#fb9f3a"
            ],
            [
             0.8888888888888888,
             "#fdca26"
            ],
            [
             1,
             "#f0f921"
            ]
           ]
          },
          "colorway": [
           "#636efa",
           "#EF553B",
           "#00cc96",
           "#ab63fa",
           "#FFA15A",
           "#19d3f3",
           "#FF6692",
           "#B6E880",
           "#FF97FF",
           "#FECB52"
          ],
          "font": {
           "color": "#2a3f5f"
          },
          "geo": {
           "bgcolor": "white",
           "lakecolor": "white",
           "landcolor": "#E5ECF6",
           "showlakes": true,
           "showland": true,
           "subunitcolor": "white"
          },
          "hoverlabel": {
           "align": "left"
          },
          "hovermode": "closest",
          "mapbox": {
           "style": "light"
          },
          "paper_bgcolor": "white",
          "plot_bgcolor": "#E5ECF6",
          "polar": {
           "angularaxis": {
            "gridcolor": "white",
            "linecolor": "white",
            "ticks": ""
           },
           "bgcolor": "#E5ECF6",
           "radialaxis": {
            "gridcolor": "white",
            "linecolor": "white",
            "ticks": ""
           }
          },
          "scene": {
           "xaxis": {
            "backgroundcolor": "#E5ECF6",
            "gridcolor": "white",
            "gridwidth": 2,
            "linecolor": "white",
            "showbackground": true,
            "ticks": "",
            "zerolinecolor": "white"
           },
           "yaxis": {
            "backgroundcolor": "#E5ECF6",
            "gridcolor": "white",
            "gridwidth": 2,
            "linecolor": "white",
            "showbackground": true,
            "ticks": "",
            "zerolinecolor": "white"
           },
           "zaxis": {
            "backgroundcolor": "#E5ECF6",
            "gridcolor": "white",
            "gridwidth": 2,
            "linecolor": "white",
            "showbackground": true,
            "ticks": "",
            "zerolinecolor": "white"
           }
          },
          "shapedefaults": {
           "line": {
            "color": "#2a3f5f"
           }
          },
          "ternary": {
           "aaxis": {
            "gridcolor": "white",
            "linecolor": "white",
            "ticks": ""
           },
           "baxis": {
            "gridcolor": "white",
            "linecolor": "white",
            "ticks": ""
           },
           "bgcolor": "#E5ECF6",
           "caxis": {
            "gridcolor": "white",
            "linecolor": "white",
            "ticks": ""
           }
          },
          "title": {
           "x": 0.05
          },
          "xaxis": {
           "automargin": true,
           "gridcolor": "white",
           "linecolor": "white",
           "ticks": "",
           "title": {
            "standoff": 15
           },
           "zerolinecolor": "white",
           "zerolinewidth": 2
          },
          "yaxis": {
           "automargin": true,
           "gridcolor": "white",
           "linecolor": "white",
           "ticks": "",
           "title": {
            "standoff": 15
           },
           "zerolinecolor": "white",
           "zerolinewidth": 2
          }
         }
        },
        "title": {
         "text": "Indices of Total Production in Building and Construction Sector"
        },
        "xaxis": {
         "anchor": "y",
         "domain": [
          0,
          1
         ],
         "title": {
          "text": "Quarter"
         }
        },
        "yaxis": {
         "anchor": "x",
         "domain": [
          0,
          1
         ],
         "title": {
          "text": "VALUE"
         }
        }
       }
      },
      "text/html": [
       "<div>                            <div id=\"80c4e5a9-4f8f-4f9a-a7c6-56fb201a3b15\" class=\"plotly-graph-div\" style=\"height:525px; width:100%;\"></div>            <script type=\"text/javascript\">                require([\"plotly\"], function(Plotly) {                    window.PLOTLYENV=window.PLOTLYENV || {};                                    if (document.getElementById(\"80c4e5a9-4f8f-4f9a-a7c6-56fb201a3b15\")) {                    Plotly.newPlot(                        \"80c4e5a9-4f8f-4f9a-a7c6-56fb201a3b15\",                        [{\"customdata\":[[\"Value of Production Index in Building and Construction\"],[\"Value of Production Index in Building and Construction\"],[\"Value of Production Index in Building and Construction\"],[\"Value of Production Index in Building and Construction\"],[\"Value of Production Index in Building and Construction\"],[\"Value of Production Index in Building and Construction\"],[\"Value of Production Index in Building and Construction\"],[\"Value of Production Index in Building and Construction\"],[\"Value of Production Index in Building and Construction\"],[\"Value of Production Index in Building and Construction\"],[\"Value of Production Index in Building and Construction\"],[\"Value of Production Index in Building and Construction\"],[\"Value of Production Index in Building and Construction\"],[\"Value of Production Index in Building and Construction\"],[\"Value of Production Index in Building and Construction\"],[\"Value of Production Index in Building and Construction\"],[\"Value of Production Index in Building and Construction\"],[\"Value of Production Index in Building and Construction\"],[\"Value of Production Index in Building and Construction\"],[\"Value of Production Index in Building and Construction\"],[\"Value of Production Index in Building and Construction\"],[\"Value of Production Index in Building and Construction\"],[\"Value of Production Index in Building and Construction\"],[\"Value of Production Index in Building and Construction\"],[\"Value of Production Index in Building and Construction\"],[\"Value of Production Index in Building and Construction\"],[\"Value of Production Index in Building and Construction\"],[\"Value of Production Index in Building and Construction\"],[\"Value of Production Index in Building and Construction\"],[\"Value of Production Index in Building and Construction\"],[\"Value of Production Index in Building and Construction\"],[\"Value of Production Index in Building and Construction\"],[\"Value of Production Index in Building and Construction\"],[\"Value of Production Index in Building and Construction\"],[\"Value of Production Index in Building and Construction\"],[\"Value of Production Index in Building and Construction\"],[\"Value of Production Index in Building and Construction\"],[\"Value of Production Index in Building and Construction\"],[\"Value of Production Index in Building and Construction\"],[\"Value of Production Index in Building and Construction\"],[\"Value of Production Index in Building and Construction\"],[\"Value of Production Index in Building and Construction\"],[\"Value of Production Index in Building and Construction\"],[\"Value of Production Index in Building and Construction\"],[\"Value of Production Index in Building and Construction\"],[\"Value of Production Index in Building and Construction\"],[\"Value of Production Index in Building and Construction\"],[\"Value of Production Index in Building and Construction\"],[\"Value of Production Index in Building and Construction\"],[\"Value of Production Index in Building and Construction\"],[\"Value of Production Index in Building and Construction\"],[\"Value of Production Index in Building and Construction\"],[\"Value of Production Index in Building and Construction\"],[\"Value of Production Index in Building and Construction\"],[\"Value of Production Index in Building and Construction\"],[\"Value of Production Index in Building and Construction\"],[\"Value of Production Index in Building and Construction\"],[\"Value of Production Index in Building and Construction\"],[\"Value of Production Index in Building and Construction\"],[\"Value of Production Index in Building and Construction\"],[\"Value of Production Index in Building and Construction\"],[\"Value of Production Index in Building and Construction\"],[\"Value of Production Index in Building and Construction\"],[\"Value of Production Index in Building and Construction\"],[\"Value of Production Index in Building and Construction\"],[\"Value of Production Index in Building and Construction\"],[\"Value of Production Index in Building and Construction\"],[\"Value of Production Index in Building and Construction\"],[\"Value of Production Index in Building and Construction\"],[\"Value of Production Index in Building and Construction\"],[\"Value of Production Index in Building and Construction\"],[\"Value of Production Index in Building and Construction\"],[\"Value of Production Index in Building and Construction\"],[\"Value of Production Index in Building and Construction\"],[\"Value of Production Index in Building and Construction\"],[\"Value of Production Index in Building and Construction\"],[\"Value of Production Index in Building and Construction\"],[\"Value of Production Index in Building and Construction\"],[\"Value of Production Index in Building and Construction\"],[\"Value of Production Index in Building and Construction\"],[\"Value of Production Index in Building and Construction\"],[\"Value of Production Index in Building and Construction\"],[\"Value of Production Index in Building and Construction\"],[\"Value of Production Index in Building and Construction\"],[\"Value of Production Index in Building and Construction\"],[\"Value of Production Index in Building and Construction\"],[\"Value of Production Index in Building and Construction\"],[\"Value of Production Index in Building and Construction\"],[\"Value of Production Index in Building and Construction\"],[\"Value of Production Index in Building and Construction\"],[\"Value of Production Index in Building and Construction\"],[\"Value of Production Index in Building and Construction\"],[\"Value of Production Index in Building and Construction\"],[\"Value of Production Index in Building and Construction\"],[\"Value of Production Index in Building and Construction\"],[\"Value of Production Index in Building and Construction\"],[\"Value of Production Index in Building and Construction\"],[\"Value of Production Index in Building and Construction\"],[\"Value of Production Index in Building and Construction\"],[\"Value of Production Index in Building and Construction\"],[\"Value of Production Index in Building and Construction\"],[\"Value of Production Index in Building and Construction\"],[\"Value of Production Index in Building and Construction\"],[\"Value of Production Index in Building and Construction\"],[\"Value of Production Index in Building and Construction\"],[\"Value of Production Index in Building and Construction\"],[\"Value of Production Index in Building and Construction\"],[\"Value of Production Index in Building and Construction\"],[\"Value of Production Index in Building and Construction\"],[\"Value of Production Index in Building and Construction\"],[\"Value of Production Index in Building and Construction\"],[\"Value of Production Index in Building and Construction\"],[\"Value of Production Index in Building and Construction\"],[\"Value of Production Index in Building and Construction\"],[\"Value of Production Index in Building and Construction\"],[\"Value of Production Index in Building and Construction\"],[\"Value of Production Index in Building and Construction\"],[\"Value of Production Index in Building and Construction\"],[\"Value of Production Index in Building and Construction\"],[\"Value of Production Index in Building and Construction\"],[\"Value of Production Index in Building and Construction\"],[\"Value of Production Index in Building and Construction\"],[\"Value of Production Index in Building and Construction\"],[\"Value of Production Index in Building and Construction\"],[\"Value of Production Index in Building and Construction\"],[\"Value of Production Index in Building and Construction\"],[\"Value of Production Index in Building and Construction\"],[\"Value of Production Index in Building and Construction\"],[\"Value of Production Index in Building and Construction\"],[\"Value of Production Index in Building and Construction\"],[\"Value of Production Index in Building and Construction\"],[\"Value of Production Index in Building and Construction\"],[\"Value of Production Index in Building and Construction\"],[\"Value of Production Index in Building and Construction\"],[\"Value of Production Index in Building and Construction\"],[\"Value of Production Index in Building and Construction\"],[\"Value of Production Index in Building and Construction\"],[\"Value of Production Index in Building and Construction\"],[\"Value of Production Index in Building and Construction\"],[\"Value of Production Index in Building and Construction\"],[\"Value of Production Index in Building and Construction\"],[\"Value of Production Index in Building and Construction\"],[\"Value of Production Index in Building and Construction\"],[\"Value of Production Index in Building and Construction\"],[\"Value of Production Index in Building and Construction\"],[\"Value of Production Index in Building and Construction\"],[\"Value of Production Index in Building and Construction\"],[\"Value of Production Index in Building and Construction\"],[\"Value of Production Index in Building and Construction\"],[\"Value of Production Index in Building and Construction\"],[\"Value of Production Index in Building and Construction\"],[\"Value of Production Index in Building and Construction\"],[\"Value of Production Index in Building and Construction\"],[\"Value of Production Index in Building and Construction\"],[\"Value of Production Index in Building and Construction\"],[\"Value of Production Index in Building and Construction\"],[\"Value of Production Index in Building and Construction\"],[\"Value of Production Index in Building and Construction\"],[\"Value of Production Index in Building and Construction\"],[\"Value of Production Index in Building and Construction\"],[\"Value of Production Index in Building and Construction\"],[\"Value of Production Index in Building and Construction\"],[\"Value of Production Index in Building and Construction\"],[\"Value of Production Index in Building and Construction\"],[\"Value of Production Index in Building and Construction\"],[\"Value of Production Index in Building and Construction\"],[\"Value of Production Index in Building and Construction\"],[\"Value of Production Index in Building and Construction\"],[\"Value of Production Index in Building and Construction\"],[\"Value of Production Index in Building and Construction\"],[\"Value of Production Index in Building and Construction\"],[\"Value of Production Index in Building and Construction\"],[\"Value of Production Index in Building and Construction\"],[\"Value of Production Index in Building and Construction\"],[\"Value of Production Index in Building and Construction\"],[\"Value of Production Index in Building and Construction\"],[\"Value of Production Index in Building and Construction\"],[\"Value of Production Index in Building and Construction\"],[\"Value of Production Index in Building and Construction\"],[\"Value of Production Index in Building and Construction\"],[\"Value of Production Index in Building and Construction\"],[\"Value of Production Index in Building and Construction\"],[\"Value of Production Index in Building and Construction\"],[\"Value of Production Index in Building and Construction\"],[\"Value of Production Index in Building and Construction\"],[\"Value of Production Index in Building and Construction\"],[\"Value of Production Index in Building and Construction\"],[\"Value of Production Index in Building and Construction\"],[\"Value of Production Index in Building and Construction\"],[\"Value of Production Index in Building and Construction\"],[\"Value of Production Index in Building and Construction\"],[\"Value of Production Index in Building and Construction\"],[\"Value of Production Index in Building and Construction\"],[\"Value of Production Index in Building and Construction\"],[\"Value of Production Index in Building and Construction\"],[\"Value of Production Index in Building and Construction\"],[\"Value of Production Index in Building and Construction\"],[\"Value of Production Index in Building and Construction\"],[\"Value of Production Index in Building and Construction\"],[\"Value of Production Index in Building and Construction\"],[\"Value of Production Index in Building and Construction\"],[\"Value of Production Index in Building and Construction\"],[\"Value of Production Index in Building and Construction\"],[\"Value of Production Index in Building and Construction\"],[\"Value of Production Index in Building and Construction\"],[\"Value of Production Index in Building and Construction\"],[\"Value of Production Index in Building and Construction\"],[\"Value of Production Index in Building and Construction\"],[\"Value of Production Index in Building and Construction\"],[\"Value of Production Index in Building and Construction\"],[\"Value of Production Index in Building and Construction\"],[\"Value of Production Index in Building and Construction\"],[\"Value of Production Index in Building and Construction\"],[\"Value of Production Index in Building and Construction\"],[\"Value of Production Index in Building and Construction\"],[\"Value of Production Index in Building and Construction\"],[\"Value of Production Index in Building and Construction\"],[\"Value of Production Index in Building and Construction\"],[\"Value of Production Index in Building and Construction\"],[\"Value of Production Index in Building and Construction\"],[\"Value of Production Index in Building and Construction\"],[\"Value of Production Index in Building and Construction\"],[\"Value of Production Index in Building and Construction\"],[\"Value of Production Index in Building and Construction\"],[\"Value of Production Index in Building and Construction\"],[\"Value of Production Index in Building and Construction\"],[\"Value of Production Index in Building and Construction\"],[\"Value of Production Index in Building and Construction\"],[\"Value of Production Index in Building and Construction\"],[\"Value of Production Index in Building and Construction\"],[\"Value of Production Index in Building and Construction\"],[\"Value of Production Index in Building and Construction\"],[\"Value of Production Index in Building and Construction\"],[\"Value of Production Index in Building and Construction\"],[\"Value of Production Index in Building and Construction\"],[\"Value of Production Index in Building and Construction\"],[\"Value of Production Index in Building and Construction\"],[\"Value of Production Index in Building and Construction\"],[\"Value of Production Index in Building and Construction\"],[\"Value of Production Index in Building and Construction\"],[\"Value of Production Index in Building and Construction\"],[\"Value of Production Index in Building and Construction\"],[\"Value of Production Index in Building and Construction\"],[\"Value of Production Index in Building and Construction\"],[\"Value of Production Index in Building and Construction\"],[\"Value of Production Index in Building and Construction\"],[\"Value of Production Index in Building and Construction\"],[\"Value of Production Index in Building and Construction\"],[\"Value of Production Index in Building and Construction\"],[\"Value of Production Index in Building and Construction\"],[\"Value of Production Index in Building and Construction\"],[\"Value of Production Index in Building and Construction\"],[\"Value of Production Index in Building and Construction\"],[\"Value of Production Index in Building and Construction\"],[\"Value of Production Index in Building and Construction\"],[\"Value of Production Index in Building and Construction\"],[\"Value of Production Index in Building and Construction\"],[\"Value of Production Index in Building and Construction\"],[\"Value of Production Index in Building and Construction\"],[\"Value of Production Index in Building and Construction\"],[\"Value of Production Index in Building and Construction\"],[\"Value of Production Index in Building and Construction\"],[\"Value of Production Index in Building and Construction\"],[\"Value of Production Index in Building and Construction\"],[\"Value of Production Index in Building and Construction\"],[\"Value of Production Index in Building and Construction\"],[\"Value of Production Index in Building and Construction\"],[\"Value of Production Index in Building and Construction\"],[\"Value of Production Index in Building and Construction\"],[\"Value of Production Index in Building and Construction\"],[\"Value of Production Index in Building and Construction\"],[\"Value of Production Index in Building and Construction\"],[\"Value of Production Index in Building and Construction\"],[\"Value of Production Index in Building and Construction\"],[\"Value of Production Index in Building and Construction\"],[\"Value of Production Index in Building and Construction\"],[\"Value of Production Index in Building and Construction\"],[\"Value of Production Index in Building and Construction\"],[\"Value of Production Index in Building and Construction\"],[\"Value of Production Index in Building and Construction\"],[\"Value of Production Index in Building and Construction\"],[\"Value of Production Index in Building and Construction\"],[\"Value of Production Index in Building and Construction\"],[\"Value of Production Index in Building and Construction\"],[\"Value of Production Index in Building and Construction\"],[\"Value of Production Index in Building and Construction\"],[\"Value of Production Index in Building and Construction\"],[\"Value of Production Index in Building and Construction\"],[\"Value of Production Index in Building and Construction\"],[\"Value of Production Index in Building and Construction\"],[\"Value of Production Index in Building and Construction\"],[\"Value of Production Index in Building and Construction\"],[\"Value of Production Index in Building and Construction\"],[\"Value of Production Index in Building and Construction\"],[\"Value of Production Index in Building and Construction\"],[\"Value of Production Index in Building and Construction\"],[\"Value of Production Index in Building and Construction\"],[\"Value of Production Index in Building and Construction\"],[\"Value of Production Index in Building and Construction\"],[\"Value of Production Index in Building and Construction\"],[\"Value of Production Index in Building and Construction\"],[\"Value of Production Index in Building and Construction\"],[\"Value of Production Index in Building and Construction\"],[\"Value of Production Index in Building and Construction\"],[\"Value of Production Index in Building and Construction\"],[\"Value of Production Index in Building and Construction\"],[\"Value of Production Index in Building and Construction\"],[\"Value of Production Index in Building and Construction\"],[\"Value of Production Index in Building and Construction\"],[\"Value of Production Index in Building and Construction\"],[\"Value of Production Index in Building and Construction\"],[\"Value of Production Index in Building and Construction\"],[\"Value of Production Index in Building and Construction\"],[\"Value of Production Index in Building and Construction\"],[\"Value of Production Index in Building and Construction\"],[\"Value of Production Index in Building and Construction\"],[\"Value of Production Index in Building and Construction\"],[\"Value of Production Index in Building and Construction\"],[\"Value of Production Index in Building and Construction\"],[\"Value of Production Index in Building and Construction\"],[\"Value of Production Index in Building and Construction\"],[\"Value of Production Index in Building and Construction\"],[\"Value of Production Index in Building and Construction\"],[\"Value of Production Index in Building and Construction\"],[\"Value of Production Index in Building and Construction\"],[\"Value of Production Index in Building and Construction\"],[\"Value of Production Index in Building and Construction\"],[\"Value of Production Index in Building and Construction\"],[\"Value of Production Index in Building and Construction\"],[\"Value of Production Index in Building and Construction\"],[\"Value of Production Index in Building and Construction\"],[\"Value of Production Index in Building and Construction\"],[\"Value of Production Index in Building and Construction\"],[\"Value of Production Index in Building and Construction\"],[\"Value of Production Index in Building and Construction\"],[\"Value of Production Index in Building and Construction\"],[\"Value of Production Index in Building and Construction\"],[\"Value of Production Index in Building and Construction\"],[\"Value of Production Index in Building and Construction\"],[\"Value of Production Index in Building and Construction\"],[\"Value of Production Index in Building and Construction\"],[\"Value of Production Index in Building and Construction\"],[\"Value of Production Index in Building and Construction\"],[\"Value of Production Index in Building and Construction\"],[\"Value of Production Index in Building and Construction\"],[\"Value of Production Index in Building and Construction\"],[\"Value of Production Index in Building and Construction\"],[\"Value of Production Index in Building and Construction\"],[\"Value of Production Index in Building and Construction\"],[\"Value of Production Index in Building and Construction\"],[\"Value of Production Index in Building and Construction\"],[\"Value of Production Index in Building and Construction\"],[\"Value of Production Index in Building and Construction\"],[\"Value of Production Index in Building and Construction\"],[\"Value of Production Index in Building and Construction\"],[\"Value of Production Index in Building and Construction\"],[\"Value of Production Index in Building and Construction\"],[\"Value of Production Index in Building and Construction\"],[\"Value of Production Index in Building and Construction\"],[\"Value of Production Index in Building and Construction\"],[\"Value of Production Index in Building and Construction\"],[\"Value of Production Index in Building and Construction\"],[\"Value of Production Index in Building and Construction\"],[\"Value of Production Index in Building and Construction\"],[\"Value of Production Index in Building and Construction\"],[\"Value of Production Index in Building and Construction\"],[\"Value of Production Index in Building and Construction\"],[\"Value of Production Index in Building and Construction\"],[\"Value of Production Index in Building and Construction\"],[\"Value of Production Index in Building and Construction\"],[\"Value of Production Index in Building and Construction\"],[\"Value of Production Index in Building and Construction\"],[\"Value of Production Index in Building and Construction\"],[\"Value of Production Index in Building and Construction\"],[\"Value of Production Index in Building and Construction\"],[\"Value of Production Index in Building and Construction\"],[\"Value of Production Index in Building and Construction\"],[\"Value of Production Index in Building and Construction\"],[\"Value of Production Index in Building and Construction\"],[\"Value of Production Index in Building and Construction\"],[\"Value of Production Index in Building and Construction\"],[\"Value of Production Index in Building and Construction\"],[\"Value of Production Index in Building and Construction\"],[\"Value of Production Index in Building and Construction\"],[\"Value of Production Index in Building and Construction\"],[\"Value of Production Index in Building and Construction\"],[\"Value of Production Index in Building and Construction\"],[\"Value of Production Index in Building and Construction\"],[\"Value of Production Index in Building and Construction\"],[\"Value of Production Index in Building and Construction\"],[\"Value of Production Index in Building and Construction\"],[\"Value of Production Index in Building and Construction\"],[\"Value of Production Index in Building and Construction\"],[\"Value of Production Index in Building and Construction\"],[\"Value of Production Index in Building and Construction\"],[\"Value of Production Index in Building and Construction\"],[\"Value of Production Index in Building and Construction\"],[\"Value of Production Index in Building and Construction\"],[\"Value of Production Index in Building and Construction\"],[\"Value of Production Index in Building and Construction\"],[\"Value of Production Index in Building and Construction\"],[\"Value of Production Index in Building and Construction\"],[\"Value of Production Index in Building and Construction\"],[\"Value of Production Index in Building and Construction\"],[\"Value of Production Index in Building and Construction\"],[\"Value of Production Index in Building and Construction\"],[\"Value of Production Index in Building and Construction\"],[\"Value of Production Index in Building and Construction\"],[\"Value of Production Index in Building and Construction\"],[\"Value of Production Index in Building and Construction\"],[\"Value of Production Index in Building and Construction\"],[\"Value of Production Index in Building and Construction\"],[\"Value of Production Index in Building and Construction\"],[\"Value of Production Index in Building and Construction\"],[\"Value of Production Index in Building and Construction\"],[\"Value of Production Index in Building and Construction\"],[\"Value of Production Index in Building and Construction\"],[\"Value of Production Index in Building and Construction\"],[\"Value of Production Index in Building and Construction\"],[\"Value of Production Index in Building and Construction\"],[\"Value of Production Index in Building and Construction\"],[\"Value of Production Index in Building and Construction\"],[\"Value of Production Index in Building and Construction\"],[\"Value of Production Index in Building and Construction\"],[\"Value of Production Index in Building and Construction\"],[\"Value of Production Index in Building and Construction\"],[\"Value of Production Index in Building and Construction\"],[\"Value of Production Index in Building and Construction\"],[\"Value of Production Index in Building and Construction\"],[\"Value of Production Index in Building and Construction\"],[\"Value of Production Index in Building and Construction\"],[\"Value of Production Index in Building and Construction\"],[\"Value of Production Index in Building and Construction\"],[\"Value of Production Index in Building and Construction\"],[\"Value of Production Index in Building and Construction\"],[\"Value of Production Index in Building and Construction\"],[\"Value of Production Index in Building and Construction\"],[\"Value of Production Index in Building and Construction\"],[\"Value of Production Index in Building and Construction\"],[\"Value of Production Index in Building and Construction\"],[\"Value of Production Index in Building and Construction\"],[\"Value of Production Index in Building and Construction\"],[\"Value of Production Index in Building and Construction\"],[\"Value of Production Index in Building and Construction\"],[\"Value of Production Index in Building and Construction\"],[\"Value of Production Index in Building and Construction\"],[\"Value of Production Index in Building and Construction\"],[\"Value of Production Index in Building and Construction\"],[\"Value of Production Index in Building and Construction\"],[\"Value of Production Index in Building and Construction\"],[\"Value of Production Index in Building and Construction\"],[\"Value of Production Index in Building and Construction\"],[\"Value of Production Index in Building and Construction\"],[\"Value of Production Index in Building and Construction\"],[\"Value of Production Index in Building and Construction\"],[\"Value of Production Index in Building and Construction\"],[\"Value of Production Index in Building and Construction\"],[\"Value of Production Index in Building and Construction\"],[\"Value of Production Index in Building and Construction\"],[\"Value of Production Index in Building and Construction\"]],\"hovertemplate\":\"STATISTIC=BEQ04C01<br>Quarter=%{x}<br>VALUE=%{y}<br>Statistic Label=%{customdata[0]}<extra></extra>\",\"legendgroup\":\"BEQ04C01\",\"line\":{\"color\":\"#636efa\",\"dash\":\"solid\"},\"marker\":{\"symbol\":\"circle\"},\"mode\":\"lines\",\"name\":\"BEQ04C01\",\"showlegend\":true,\"x\":[\"2000Q1\",\"2000Q1\",\"2000Q1\",\"2000Q1\",\"2000Q1\",\"2000Q2\",\"2000Q2\",\"2000Q2\",\"2000Q2\",\"2000Q2\",\"2000Q3\",\"2000Q3\",\"2000Q3\",\"2000Q3\",\"2000Q3\",\"2000Q4\",\"2000Q4\",\"2000Q4\",\"2000Q4\",\"2000Q4\",\"2001Q1\",\"2001Q1\",\"2001Q1\",\"2001Q1\",\"2001Q1\",\"2001Q2\",\"2001Q2\",\"2001Q2\",\"2001Q2\",\"2001Q2\",\"2001Q3\",\"2001Q3\",\"2001Q3\",\"2001Q3\",\"2001Q3\",\"2001Q4\",\"2001Q4\",\"2001Q4\",\"2001Q4\",\"2001Q4\",\"2002Q1\",\"2002Q1\",\"2002Q1\",\"2002Q1\",\"2002Q1\",\"2002Q2\",\"2002Q2\",\"2002Q2\",\"2002Q2\",\"2002Q2\",\"2002Q3\",\"2002Q3\",\"2002Q3\",\"2002Q3\",\"2002Q3\",\"2002Q4\",\"2002Q4\",\"2002Q4\",\"2002Q4\",\"2002Q4\",\"2003Q1\",\"2003Q1\",\"2003Q1\",\"2003Q1\",\"2003Q1\",\"2003Q2\",\"2003Q2\",\"2003Q2\",\"2003Q2\",\"2003Q2\",\"2003Q3\",\"2003Q3\",\"2003Q3\",\"2003Q3\",\"2003Q3\",\"2003Q4\",\"2003Q4\",\"2003Q4\",\"2003Q4\",\"2003Q4\",\"2004Q1\",\"2004Q1\",\"2004Q1\",\"2004Q1\",\"2004Q1\",\"2004Q2\",\"2004Q2\",\"2004Q2\",\"2004Q2\",\"2004Q2\",\"2004Q3\",\"2004Q3\",\"2004Q3\",\"2004Q3\",\"2004Q3\",\"2004Q4\",\"2004Q4\",\"2004Q4\",\"2004Q4\",\"2004Q4\",\"2005Q1\",\"2005Q1\",\"2005Q1\",\"2005Q1\",\"2005Q1\",\"2005Q2\",\"2005Q2\",\"2005Q2\",\"2005Q2\",\"2005Q2\",\"2005Q3\",\"2005Q3\",\"2005Q3\",\"2005Q3\",\"2005Q3\",\"2005Q4\",\"2005Q4\",\"2005Q4\",\"2005Q4\",\"2005Q4\",\"2006Q1\",\"2006Q1\",\"2006Q1\",\"2006Q1\",\"2006Q1\",\"2006Q2\",\"2006Q2\",\"2006Q2\",\"2006Q2\",\"2006Q2\",\"2006Q3\",\"2006Q3\",\"2006Q3\",\"2006Q3\",\"2006Q3\",\"2006Q4\",\"2006Q4\",\"2006Q4\",\"2006Q4\",\"2006Q4\",\"2007Q1\",\"2007Q1\",\"2007Q1\",\"2007Q1\",\"2007Q1\",\"2007Q2\",\"2007Q2\",\"2007Q2\",\"2007Q2\",\"2007Q2\",\"2007Q3\",\"2007Q3\",\"2007Q3\",\"2007Q3\",\"2007Q3\",\"2007Q4\",\"2007Q4\",\"2007Q4\",\"2007Q4\",\"2007Q4\",\"2008Q1\",\"2008Q1\",\"2008Q1\",\"2008Q1\",\"2008Q1\",\"2008Q2\",\"2008Q2\",\"2008Q2\",\"2008Q2\",\"2008Q2\",\"2008Q3\",\"2008Q3\",\"2008Q3\",\"2008Q3\",\"2008Q3\",\"2008Q4\",\"2008Q4\",\"2008Q4\",\"2008Q4\",\"2008Q4\",\"2009Q1\",\"2009Q1\",\"2009Q1\",\"2009Q1\",\"2009Q1\",\"2009Q2\",\"2009Q2\",\"2009Q2\",\"2009Q2\",\"2009Q2\",\"2009Q3\",\"2009Q3\",\"2009Q3\",\"2009Q3\",\"2009Q3\",\"2009Q4\",\"2009Q4\",\"2009Q4\",\"2009Q4\",\"2009Q4\",\"2010Q1\",\"2010Q1\",\"2010Q1\",\"2010Q1\",\"2010Q1\",\"2010Q2\",\"2010Q2\",\"2010Q2\",\"2010Q2\",\"2010Q2\",\"2010Q3\",\"2010Q3\",\"2010Q3\",\"2010Q3\",\"2010Q3\",\"2010Q4\",\"2010Q4\",\"2010Q4\",\"2010Q4\",\"2010Q4\",\"2011Q1\",\"2011Q1\",\"2011Q1\",\"2011Q1\",\"2011Q1\",\"2011Q2\",\"2011Q2\",\"2011Q2\",\"2011Q2\",\"2011Q2\",\"2011Q3\",\"2011Q3\",\"2011Q3\",\"2011Q3\",\"2011Q3\",\"2011Q4\",\"2011Q4\",\"2011Q4\",\"2011Q4\",\"2011Q4\",\"2012Q1\",\"2012Q1\",\"2012Q1\",\"2012Q1\",\"2012Q1\",\"2012Q2\",\"2012Q2\",\"2012Q2\",\"2012Q2\",\"2012Q2\",\"2012Q3\",\"2012Q3\",\"2012Q3\",\"2012Q3\",\"2012Q3\",\"2012Q4\",\"2012Q4\",\"2012Q4\",\"2012Q4\",\"2012Q4\",\"2013Q1\",\"2013Q1\",\"2013Q1\",\"2013Q1\",\"2013Q1\",\"2013Q2\",\"2013Q2\",\"2013Q2\",\"2013Q2\",\"2013Q2\",\"2013Q3\",\"2013Q3\",\"2013Q3\",\"2013Q3\",\"2013Q3\",\"2013Q4\",\"2013Q4\",\"2013Q4\",\"2013Q4\",\"2013Q4\",\"2014Q1\",\"2014Q1\",\"2014Q1\",\"2014Q1\",\"2014Q1\",\"2014Q2\",\"2014Q2\",\"2014Q2\",\"2014Q2\",\"2014Q2\",\"2014Q3\",\"2014Q3\",\"2014Q3\",\"2014Q3\",\"2014Q3\",\"2014Q4\",\"2014Q4\",\"2014Q4\",\"2014Q4\",\"2014Q4\",\"2015Q1\",\"2015Q1\",\"2015Q1\",\"2015Q1\",\"2015Q1\",\"2015Q2\",\"2015Q2\",\"2015Q2\",\"2015Q2\",\"2015Q2\",\"2015Q3\",\"2015Q3\",\"2015Q3\",\"2015Q3\",\"2015Q3\",\"2015Q4\",\"2015Q4\",\"2015Q4\",\"2015Q4\",\"2015Q4\",\"2016Q1\",\"2016Q1\",\"2016Q1\",\"2016Q1\",\"2016Q1\",\"2016Q2\",\"2016Q2\",\"2016Q2\",\"2016Q2\",\"2016Q2\",\"2016Q3\",\"2016Q3\",\"2016Q3\",\"2016Q3\",\"2016Q3\",\"2016Q4\",\"2016Q4\",\"2016Q4\",\"2016Q4\",\"2016Q4\",\"2017Q1\",\"2017Q1\",\"2017Q1\",\"2017Q1\",\"2017Q1\",\"2017Q2\",\"2017Q2\",\"2017Q2\",\"2017Q2\",\"2017Q2\",\"2017Q3\",\"2017Q3\",\"2017Q3\",\"2017Q3\",\"2017Q3\",\"2017Q4\",\"2017Q4\",\"2017Q4\",\"2017Q4\",\"2017Q4\",\"2018Q1\",\"2018Q1\",\"2018Q1\",\"2018Q1\",\"2018Q1\",\"2018Q2\",\"2018Q2\",\"2018Q2\",\"2018Q2\",\"2018Q2\",\"2018Q3\",\"2018Q3\",\"2018Q3\",\"2018Q3\",\"2018Q3\",\"2018Q4\",\"2018Q4\",\"2018Q4\",\"2018Q4\",\"2018Q4\",\"2019Q1\",\"2019Q1\",\"2019Q1\",\"2019Q1\",\"2019Q1\",\"2019Q2\",\"2019Q2\",\"2019Q2\",\"2019Q2\",\"2019Q2\",\"2019Q3\",\"2019Q3\",\"2019Q3\",\"2019Q3\",\"2019Q3\",\"2019Q4\",\"2019Q4\",\"2019Q4\",\"2019Q4\",\"2019Q4\",\"2020Q1\",\"2020Q1\",\"2020Q1\",\"2020Q1\",\"2020Q1\",\"2020Q2\",\"2020Q2\",\"2020Q2\",\"2020Q2\",\"2020Q2\",\"2020Q3\",\"2020Q3\",\"2020Q3\",\"2020Q3\",\"2020Q3\",\"2020Q4\",\"2020Q4\",\"2020Q4\",\"2020Q4\",\"2020Q4\",\"2021Q1\",\"2021Q1\",\"2021Q1\",\"2021Q1\",\"2021Q1\",\"2021Q2\",\"2021Q2\",\"2021Q2\",\"2021Q2\",\"2021Q2\",\"2021Q3\",\"2021Q3\",\"2021Q3\",\"2021Q3\",\"2021Q3\",\"2021Q4\",\"2021Q4\",\"2021Q4\",\"2021Q4\",\"2021Q4\",\"2022Q1\",\"2022Q1\",\"2022Q1\",\"2022Q1\",\"2022Q1\",\"2022Q2\",\"2022Q2\",\"2022Q2\",\"2022Q2\",\"2022Q2\",\"2022Q3\",\"2022Q3\",\"2022Q3\",\"2022Q3\",\"2022Q3\",\"2022Q4\",\"2022Q4\",\"2022Q4\",\"2022Q4\",\"2022Q4\"],\"xaxis\":\"x\",\"y\":[143.514977427572,182.795802254117,279.281551222912,115.359508444902,60.4388869219421,153.542078417604,196.823792013697,306.710989289448,119.799136019842,62.7648863353802,162.663797696119,209.384591799189,330.40004943782,124.415782182151,65.1836289177972,163.688031688225,210.372835031086,330.40004943782,126.150564896943,66.0925122664424,167.381045922143,209.547935300614,332.224641008193,123.359796621535,75.9941511641423,178.852154835777,226.467716398974,369.617890714295,125.543338713115,77.3392929928335,178.185832197097,224.606755902268,362.42688107151,127.568453462809,78.5868378298977,181.92127049663,229.999077901212,373.932496437626,128.567234462583,79.2021235659531,174.135875231309,207.80954408193,339.824989817887,114.71507074804,94.451655957043,180.108692642037,217.042843489989,361.749182880295,114.789324013223,94.5127930387482,199.692913988463,245.742968606831,425.955747809799,117.920335723626,97.0907388918396,200.871352064674,249.24659372488,438.483857819477,114.851201734208,94.5637405538192,186.121145298732,225.524788451493,397.631705478083,103.272660239551,95.8011121745837,198.679281687862,244.291054128083,440.777215369425,104.464456329272,96.9066843851203,226.177970745465,284.322183247792,530.373583741029,108.801722948082,100.930159494411,233.092929640193,294.353224950941,552.741267802627,109.949983021085,101.995345488046,237.945161786829,303.213988887259,580.547758405582,105.748305562215,94.609819613647,266.74987313364,337.612190719066,650.115455006707,115.122157470609,111.17197785322,254.147598460311,316.835449667276,589.428221946443,122.667284900791,116.605642020413,252.436904943265,318.618921153532,600.41079346222,117.935244566517,107.150768569467,256.292300915476,326.56879484208,627.890235347781,112.035877720033,101.96056312197,298.841241058275,381.876433349431,741.81644907467,125.642898845117,116.471132731865,303.371672884521,376.464446188823,717.866952945904,133.367965081126,143.034964477256,305.259103072285,379.558888312479,706.414467117522,146.740848628722,142.259438481434,304.241934942148,379.551955020777,711.76729062178,142.942143280672,139.000768982884,315.439027601418,394.636630957154,748.704594518197,142.504155010533,141.645920445715,309.607800531758,381.886279346242,720.491580631903,140.746110751338,151.104293727372,349.938187826664,433.067359745989,825.71675499562,153.480020222558,167.609561307026,284.130736561637,342.700078344427,617.198391741905,147.076171254237,155.853126403735,308.98813604709,375.233997717191,688.443367339795,152.08809422491,163.837064446969,283.122152704952,336.740515991284,588.173909703037,157.458895300202,165.800465424272,284.373266080607,336.287131664938,585.846847290155,158.332948048061,170.831234012442,227.800645388296,262.611494736378,418.999056415455,150.879658557711,151.846274296517,227.673055198567,255.503778324213,395.349127130655,155.504473883501,167.171189286002,207.237889411472,227.235857836171,329.368678941908,154.034357431686,163.976966079514,186.820357868685,202.170099428813,261.168522398431,159.588803888187,153.750316058636,143.684676102336,148.921430182213,177.313545762535,128.214679470104,132.792865673888,136.117361812248,135.357240212555,153.980466787289,121.618084528284,138.464929369481,129.637984455345,123.875187321564,129.547519130481,119.346085055654,143.029208091589,118.677200390698,112.72256142301,119.582953654087,107.399427899243,132.439608977018,90.6815531094466,83.6256971493847,87.9644974356549,80.1403111429848,106.882672411855,95.7841114643568,83.9025720275154,92.9740258150884,76.6154152093138,123.065597793175,93.5634918771807,92.4481749652974,95.4041895680968,90.0735895380969,96.1243976626298,95.2364192291285,93.0070009201357,91.9859991401427,93.8271781769127,100.355439827537,68.4892748073368,69.5878191202959,65.5545782165471,72.8277473213814,65.9668809866619,70.7201661379171,70.0833455410036,61.8933193676055,76.6624459220788,72.182385112231,78.9799454356307,76.2114964031669,62.9947715051189,86.8285760036874,85.3366473455703,86.7348575271,81.9592220437813,71.8172875639285,90.1063028453014,97.7003081610137,67.1635153337058,62.4416717910165,55.1356530110909,68.3106433817638,78.0054530086565,68.5521069839513,62.3918375780881,55.6178060563772,67.8334604035024,82.6968486204422,75.7968188676656,68.2281139431001,59.6401553687861,75.1268759656742,93.1755029198471,88.4821453034722,73.3567531909703,61.2579600783524,83.0757910417063,123.211919195881,67.795461023386,62.088756313301,59.281905463766,64.3435175439522,80.8987619347181,78.7526192000389,71.6009874633597,63.2672889560637,78.2955007487022,95.1736515494321,91.5054662264187,83.0893780287939,64.9124262712351,97.691039574562,110.829847240018,98.4431103403706,93.2494856089707,70.877533125236,111.221018055254,110.368316064753,74.7451895143154,72.7788282321882,56.2737919793384,86.0374293650501,79.2601985938236,91.4606283074825,81.2848862628165,71.1597553523984,89.4184686495903,114.825392524512,97.7243533605647,91.5712210291301,82.6829274142784,98.7112441097055,111.852707390089,103.968549870311,102.151181940324,97.8824426982786,105.580287462022,108.141451757305,86.9943696213111,87.2190162115268,85.5852367593501,87.4721369717231,85.9709795992174,103.300833789336,102.405819903846,104.603908368105,102.065270986848,107.378119267678,100.015940172411,100.167889380649,105.004527307169,99.4185511103434,99.3237271126593,109.688856416941,110.207274503977,104.806327565374,111.044040931084,107.327174020444,87.2462097974492,88.9096527327527,99.9571539258965,87.1980680408572,79.6683030921778,111.448592651352,111.769529578752,135.115872683866,108.152490506129,109.986546648753,118.622577611946,120.080502993239,130.280640522674,118.500199995721,111.980917541612,123.768453741149,126.281542144255,131.724629215394,125.438246964219,112.319939904779,110.015241512496,114.534657166964,117.140854995853,114.130880038545,89.4267924199205,122.75001536843,127.140297416283,147.44447362765,123.994579975086,102.749841594878,129.578261643066,132.493601676135,164.965113577981,127.462804057539,116.297268159084,142.899021266802,146.542241579745,156.84765164558,144.945628752643,126.302128730063,120.211179486163,123.978996062005,133.219468679588,122.547373543788,103.046681751773,143.616148768282,150.821295947192,158.578497142229,149.619476043736,110.792700508801,153.377062518314,157.022638508903,156.431455983463,157.114230167774,136.769438561189,163.227398597685,165.435866625628,154.127882804995,167.187807780938,153.16659980372,135.040230358843,141.177878530954,139.942580025284,141.36926280648,107.079833130339,149.953513166436,154.576433897698,175.379507247374,151.353422533664,128.893540946242,164.100170833526,173.178882372505,186.051106465979,171.184594132671,122.741596044848,177.404782255831,187.81591013257,195.153107679177,186.679161216898,129.976310817355,152.958935315721,161.812162952862,155.989525467233,162.714261718241,112.627564968747,102.674057954399,110.724051254904,90.3639557213872,113.878432253055,66.0018662520965,153.805740979836,163.314956811788,148.740216249052,165.573015208832,110.485979967609,165.873621344872,173.508621523942,150.39320720141,177.089882897855,131.091953862441,104.287898051507,108.816541342562,73.5361087295046,114.282523860078,83.6574119478134,139.663707148809,143.484324872887,123.720229786994,146.546367773519,122.258670850227,165.009204076054,171.101313294475,155.063588698018,173.5860311897,137.256262081026,182.008655568602,186.417117967111,165.192913289849,189.705375029786,161.925660197616,143.728826030175,152.249893262979,137.22949754008,154.576996825682,104.91063085851,162.892320500678,170.989271863493,154.76322184943,173.503166936095,126.006208736743,179.996530978774,186.691702261792,144.661943620784,193.20335500899,149.496306245024,178.301453511829,181.766263421233,151.054300011773,186.524454935375,162.517319480097],\"yaxis\":\"y\",\"type\":\"scattergl\"},{\"customdata\":[[\"Volume of Production Index in Building and Construction\"],[\"Volume of Production Index in Building and Construction\"],[\"Volume of Production Index in Building and Construction\"],[\"Volume of Production Index in Building and Construction\"],[\"Volume of Production Index in Building and Construction\"],[\"Volume of Production Index in Building and Construction\"],[\"Volume of Production Index in Building and Construction\"],[\"Volume of Production Index in Building and Construction\"],[\"Volume of Production Index in Building and Construction\"],[\"Volume of Production Index in Building and Construction\"],[\"Volume of Production Index in Building and Construction\"],[\"Volume of Production Index in Building and Construction\"],[\"Volume of Production Index in Building and Construction\"],[\"Volume of Production Index in Building and Construction\"],[\"Volume of Production Index in Building and Construction\"],[\"Volume of Production Index in Building and Construction\"],[\"Volume of Production Index in Building and Construction\"],[\"Volume of Production Index in Building and Construction\"],[\"Volume of Production Index in Building and Construction\"],[\"Volume of Production Index in Building and Construction\"],[\"Volume of Production Index in Building and Construction\"],[\"Volume of Production Index in Building and Construction\"],[\"Volume of Production Index in Building and Construction\"],[\"Volume of Production Index in Building and Construction\"],[\"Volume of Production Index in Building and Construction\"],[\"Volume of Production Index in Building and Construction\"],[\"Volume of Production Index in Building and Construction\"],[\"Volume of Production Index in Building and Construction\"],[\"Volume of Production Index in Building and Construction\"],[\"Volume of Production Index in Building and Construction\"],[\"Volume of Production Index in Building and Construction\"],[\"Volume of Production Index in Building and Construction\"],[\"Volume of Production Index in Building and Construction\"],[\"Volume of Production Index in Building and Construction\"],[\"Volume of Production Index in Building and Construction\"],[\"Volume of Production Index in Building and Construction\"],[\"Volume of Production Index in Building and Construction\"],[\"Volume of Production Index in Building and Construction\"],[\"Volume of Production Index in Building and Construction\"],[\"Volume of Production Index in Building and Construction\"],[\"Volume of Production Index in Building and Construction\"],[\"Volume of Production Index in Building and Construction\"],[\"Volume of Production Index in Building and Construction\"],[\"Volume of Production Index in Building and Construction\"],[\"Volume of Production Index in Building and Construction\"],[\"Volume of Production Index in Building and Construction\"],[\"Volume of Production Index in Building and Construction\"],[\"Volume of Production Index in Building and Construction\"],[\"Volume of Production Index in Building and Construction\"],[\"Volume of Production Index in Building and Construction\"],[\"Volume of Production Index in Building and Construction\"],[\"Volume of Production Index in Building and Construction\"],[\"Volume of Production Index in Building and Construction\"],[\"Volume of Production Index in Building and Construction\"],[\"Volume of Production Index in Building and Construction\"],[\"Volume of Production Index in Building and Construction\"],[\"Volume of Production Index in Building and Construction\"],[\"Volume of Production Index in Building and Construction\"],[\"Volume of Production Index in Building and Construction\"],[\"Volume of Production Index in Building and Construction\"],[\"Volume of Production Index in Building and Construction\"],[\"Volume of Production Index in Building and Construction\"],[\"Volume of Production Index in Building and Construction\"],[\"Volume of Production Index in Building and Construction\"],[\"Volume of Production Index in Building and Construction\"],[\"Volume of Production Index in Building and Construction\"],[\"Volume of Production Index in Building and Construction\"],[\"Volume of Production Index in Building and Construction\"],[\"Volume of Production Index in Building and Construction\"],[\"Volume of Production Index in Building and Construction\"],[\"Volume of Production Index in Building and Construction\"],[\"Volume of Production Index in Building and Construction\"],[\"Volume of Production Index in Building and Construction\"],[\"Volume of Production Index in Building and Construction\"],[\"Volume of Production Index in Building and Construction\"],[\"Volume of Production Index in Building and Construction\"],[\"Volume of Production Index in Building and Construction\"],[\"Volume of Production Index in Building and Construction\"],[\"Volume of Production Index in Building and Construction\"],[\"Volume of Production Index in Building and Construction\"],[\"Volume of Production Index in Building and Construction\"],[\"Volume of Production Index in Building and Construction\"],[\"Volume of Production Index in Building and Construction\"],[\"Volume of Production Index in Building and Construction\"],[\"Volume of Production Index in Building and Construction\"],[\"Volume of Production Index in Building and Construction\"],[\"Volume of Production Index in Building and Construction\"],[\"Volume of Production Index in Building and Construction\"],[\"Volume of Production Index in Building and Construction\"],[\"Volume of Production Index in Building and Construction\"],[\"Volume of Production Index in Building and Construction\"],[\"Volume of Production Index in Building and Construction\"],[\"Volume of Production Index in Building and Construction\"],[\"Volume of Production Index in Building and Construction\"],[\"Volume of Production Index in Building and Construction\"],[\"Volume of Production Index in Building and Construction\"],[\"Volume of Production Index in Building and Construction\"],[\"Volume of Production Index in Building and Construction\"],[\"Volume of Production Index in Building and Construction\"],[\"Volume of Production Index in Building and Construction\"],[\"Volume of Production Index in Building and Construction\"],[\"Volume of Production Index in Building and Construction\"],[\"Volume of Production Index in Building and Construction\"],[\"Volume of Production Index in Building and Construction\"],[\"Volume of Production Index in Building and Construction\"],[\"Volume of Production Index in Building and Construction\"],[\"Volume of Production Index in Building and Construction\"],[\"Volume of Production Index in Building and Construction\"],[\"Volume of Production Index in Building and Construction\"],[\"Volume of Production Index in Building and Construction\"],[\"Volume of Production Index in Building and Construction\"],[\"Volume of Production Index in Building and Construction\"],[\"Volume of Production Index in Building and Construction\"],[\"Volume of Production Index in Building and Construction\"],[\"Volume of Production Index in Building and Construction\"],[\"Volume of Production Index in Building and Construction\"],[\"Volume of Production Index in Building and Construction\"],[\"Volume of Production Index in Building and Construction\"],[\"Volume of Production Index in Building and Construction\"],[\"Volume of Production Index in Building and Construction\"],[\"Volume of Production Index in Building and Construction\"],[\"Volume of Production Index in Building and Construction\"],[\"Volume of Production Index in Building and Construction\"],[\"Volume of Production Index in Building and Construction\"],[\"Volume of Production Index in Building and Construction\"],[\"Volume of Production Index in Building and Construction\"],[\"Volume of Production Index in Building and Construction\"],[\"Volume of Production Index in Building and Construction\"],[\"Volume of Production Index in Building and Construction\"],[\"Volume of Production Index in Building and Construction\"],[\"Volume of Production Index in Building and Construction\"],[\"Volume of Production Index in Building and Construction\"],[\"Volume of Production Index in Building and Construction\"],[\"Volume of Production Index in Building and Construction\"],[\"Volume of Production Index in Building and Construction\"],[\"Volume of Production Index in Building and Construction\"],[\"Volume of Production Index in Building and Construction\"],[\"Volume of Production Index in Building and Construction\"],[\"Volume of Production Index in Building and Construction\"],[\"Volume of Production Index in Building and Construction\"],[\"Volume of Production Index in Building and Construction\"],[\"Volume of Production Index in Building and Construction\"],[\"Volume of Production Index in Building and Construction\"],[\"Volume of Production Index in Building and Construction\"],[\"Volume of Production Index in Building and Construction\"],[\"Volume of Production Index in Building and Construction\"],[\"Volume of Production Index in Building and Construction\"],[\"Volume of Production Index in Building and Construction\"],[\"Volume of Production Index in Building and Construction\"],[\"Volume of Production Index in Building and Construction\"],[\"Volume of Production Index in Building and Construction\"],[\"Volume of Production Index in Building and Construction\"],[\"Volume of Production Index in Building and Construction\"],[\"Volume of Production Index in Building and Construction\"],[\"Volume of Production Index in Building and Construction\"],[\"Volume of Production Index in Building and Construction\"],[\"Volume of Production Index in Building and Construction\"],[\"Volume of Production Index in Building and Construction\"],[\"Volume of Production Index in Building and Construction\"],[\"Volume of Production Index in Building and Construction\"],[\"Volume of Production Index in Building and Construction\"],[\"Volume of Production Index in Building and Construction\"],[\"Volume of Production Index in Building and Construction\"],[\"Volume of Production Index in Building and Construction\"],[\"Volume of Production Index in Building and Construction\"],[\"Volume of Production Index in Building and Construction\"],[\"Volume of Production Index in Building and Construction\"],[\"Volume of Production Index in Building and Construction\"],[\"Volume of Production Index in Building and Construction\"],[\"Volume of Production Index in Building and Construction\"],[\"Volume of Production Index in Building and Construction\"],[\"Volume of Production Index in Building and Construction\"],[\"Volume of Production Index in Building and Construction\"],[\"Volume of Production Index in Building and Construction\"],[\"Volume of Production Index in Building and Construction\"],[\"Volume of Production Index in Building and Construction\"],[\"Volume of Production Index in Building and Construction\"],[\"Volume of Production Index in Building and Construction\"],[\"Volume of Production Index in Building and Construction\"],[\"Volume of Production Index in Building and Construction\"],[\"Volume of Production Index in Building and Construction\"],[\"Volume of Production Index in Building and Construction\"],[\"Volume of Production Index in Building and Construction\"],[\"Volume of Production Index in Building and Construction\"],[\"Volume of Production Index in Building and Construction\"],[\"Volume of Production Index in Building and Construction\"],[\"Volume of Production Index in Building and Construction\"],[\"Volume of Production Index in Building and Construction\"],[\"Volume of Production Index in Building and Construction\"],[\"Volume of Production Index in Building and Construction\"],[\"Volume of Production Index in Building and Construction\"],[\"Volume of Production Index in Building and Construction\"],[\"Volume of Production Index in Building and Construction\"],[\"Volume of Production Index in Building and Construction\"],[\"Volume of Production Index in Building and Construction\"],[\"Volume of Production Index in Building and Construction\"],[\"Volume of Production Index in Building and Construction\"],[\"Volume of Production Index in Building and Construction\"],[\"Volume of Production Index in Building and Construction\"],[\"Volume of Production Index in Building and Construction\"],[\"Volume of Production Index in Building and Construction\"],[\"Volume of Production Index in Building and Construction\"],[\"Volume of Production Index in Building and Construction\"],[\"Volume of Production Index in Building and Construction\"],[\"Volume of Production Index in Building and Construction\"],[\"Volume of Production Index in Building and Construction\"],[\"Volume of Production Index in Building and Construction\"],[\"Volume of Production Index in Building and Construction\"],[\"Volume of Production Index in Building and Construction\"],[\"Volume of Production Index in Building and Construction\"],[\"Volume of Production Index in Building and Construction\"],[\"Volume of Production Index in Building and Construction\"],[\"Volume of Production Index in Building and Construction\"],[\"Volume of Production Index in Building and Construction\"],[\"Volume of Production Index in Building and Construction\"],[\"Volume of Production Index in Building and Construction\"],[\"Volume of Production Index in Building and Construction\"],[\"Volume of Production Index in Building and Construction\"],[\"Volume of Production Index in Building and Construction\"],[\"Volume of Production Index in Building and Construction\"],[\"Volume of Production Index in Building and Construction\"],[\"Volume of Production Index in Building and Construction\"],[\"Volume of Production Index in Building and Construction\"],[\"Volume of Production Index in Building and Construction\"],[\"Volume of Production Index in Building and Construction\"],[\"Volume of Production Index in Building and Construction\"],[\"Volume of Production Index in Building and Construction\"],[\"Volume of Production Index in Building and Construction\"],[\"Volume of Production Index in Building and Construction\"],[\"Volume of Production Index in Building and Construction\"],[\"Volume of Production Index in Building and Construction\"],[\"Volume of Production Index in Building and Construction\"],[\"Volume of Production Index in Building and Construction\"],[\"Volume of Production Index in Building and Construction\"],[\"Volume of Production Index in Building and Construction\"],[\"Volume of Production Index in Building and Construction\"],[\"Volume of Production Index in Building and Construction\"],[\"Volume of Production Index in Building and Construction\"],[\"Volume of Production Index in Building and Construction\"],[\"Volume of Production Index in Building and Construction\"],[\"Volume of Production Index in Building and Construction\"],[\"Volume of Production Index in Building and Construction\"],[\"Volume of Production Index in Building and Construction\"],[\"Volume of Production Index in Building and Construction\"],[\"Volume of Production Index in Building and Construction\"],[\"Volume of Production Index in Building and Construction\"],[\"Volume of Production Index in Building and Construction\"],[\"Volume of Production Index in Building and Construction\"],[\"Volume of Production Index in Building and Construction\"],[\"Volume of Production Index in Building and Construction\"],[\"Volume of Production Index in Building and Construction\"],[\"Volume of Production Index in Building and Construction\"],[\"Volume of Production Index in Building and Construction\"],[\"Volume of Production Index in Building and Construction\"],[\"Volume of Production Index in Building and Construction\"],[\"Volume of Production Index in Building and Construction\"],[\"Volume of Production Index in Building and Construction\"],[\"Volume of Production Index in Building and Construction\"],[\"Volume of Production Index in Building and Construction\"],[\"Volume of Production Index in Building and Construction\"],[\"Volume of Production Index in Building and Construction\"],[\"Volume of Production Index in Building and Construction\"],[\"Volume of Production Index in Building and Construction\"],[\"Volume of Production Index in Building and Construction\"],[\"Volume of Production Index in Building and Construction\"],[\"Volume of Production Index in Building and Construction\"],[\"Volume of Production Index in Building and Construction\"],[\"Volume of Production Index in Building and Construction\"],[\"Volume of Production Index in Building and Construction\"],[\"Volume of Production Index in Building and Construction\"],[\"Volume of Production Index in Building and Construction\"],[\"Volume of Production Index in Building and Construction\"],[\"Volume of Production Index in Building and Construction\"],[\"Volume of Production Index in Building and Construction\"],[\"Volume of Production Index in Building and Construction\"],[\"Volume of Production Index in Building and Construction\"],[\"Volume of Production Index in Building and Construction\"],[\"Volume of Production Index in Building and Construction\"],[\"Volume of Production Index in Building and Construction\"],[\"Volume of Production Index in Building and Construction\"],[\"Volume of Production Index in Building and Construction\"],[\"Volume of Production Index in Building and Construction\"],[\"Volume of Production Index in Building and Construction\"],[\"Volume of Production Index in Building and Construction\"],[\"Volume of Production Index in Building and Construction\"],[\"Volume of Production Index in Building and Construction\"],[\"Volume of Production Index in Building and Construction\"],[\"Volume of Production Index in Building and Construction\"],[\"Volume of Production Index in Building and Construction\"],[\"Volume of Production Index in Building and Construction\"],[\"Volume of Production Index in Building and Construction\"],[\"Volume of Production Index in Building and Construction\"],[\"Volume of Production Index in Building and Construction\"],[\"Volume of Production Index in Building and Construction\"],[\"Volume of Production Index in Building and Construction\"],[\"Volume of Production Index in Building and Construction\"],[\"Volume of Production Index in Building and Construction\"],[\"Volume of Production Index in Building and Construction\"],[\"Volume of Production Index in Building and Construction\"],[\"Volume of Production Index in Building and Construction\"],[\"Volume of Production Index in Building and Construction\"],[\"Volume of Production Index in Building and Construction\"],[\"Volume of Production Index in Building and Construction\"],[\"Volume of Production Index in Building and Construction\"],[\"Volume of Production Index in Building and Construction\"],[\"Volume of Production Index in Building and Construction\"],[\"Volume of Production Index in Building and Construction\"],[\"Volume of Production Index in Building and Construction\"],[\"Volume of Production Index in Building and Construction\"],[\"Volume of Production Index in Building and Construction\"],[\"Volume of Production Index in Building and Construction\"],[\"Volume of Production Index in Building and Construction\"],[\"Volume of Production Index in Building and Construction\"],[\"Volume of Production Index in Building and Construction\"],[\"Volume of Production Index in Building and Construction\"],[\"Volume of Production Index in Building and Construction\"],[\"Volume of Production Index in Building and Construction\"],[\"Volume of Production Index in Building and Construction\"],[\"Volume of Production Index in Building and Construction\"],[\"Volume of Production Index in Building and Construction\"],[\"Volume of Production Index in Building and Construction\"],[\"Volume of Production Index in Building and Construction\"],[\"Volume of Production Index in Building and Construction\"],[\"Volume of Production Index in Building and Construction\"],[\"Volume of Production Index in Building and Construction\"],[\"Volume of Production Index in Building and Construction\"],[\"Volume of Production Index in Building and Construction\"],[\"Volume of Production Index in Building and Construction\"],[\"Volume of Production Index in Building and Construction\"],[\"Volume of Production Index in Building and Construction\"],[\"Volume of Production Index in Building and Construction\"],[\"Volume of Production Index in Building and Construction\"],[\"Volume of Production Index in Building and Construction\"],[\"Volume of Production Index in Building and Construction\"],[\"Volume of Production Index in Building and Construction\"],[\"Volume of Production Index in Building and Construction\"],[\"Volume of Production Index in Building and Construction\"],[\"Volume of Production Index in Building and Construction\"],[\"Volume of Production Index in Building and Construction\"],[\"Volume of Production Index in Building and Construction\"],[\"Volume of Production Index in Building and Construction\"],[\"Volume of Production Index in Building and Construction\"],[\"Volume of Production Index in Building and Construction\"],[\"Volume of Production Index in Building and Construction\"],[\"Volume of Production Index in Building and Construction\"],[\"Volume of Production Index in Building and Construction\"],[\"Volume of Production Index in Building and Construction\"],[\"Volume of Production Index in Building and Construction\"],[\"Volume of Production Index in Building and Construction\"],[\"Volume of Production Index in Building and Construction\"],[\"Volume of Production Index in Building and Construction\"],[\"Volume of Production Index in Building and Construction\"],[\"Volume of Production Index in Building and Construction\"],[\"Volume of Production Index in Building and Construction\"],[\"Volume of Production Index in Building and Construction\"],[\"Volume of Production Index in Building and Construction\"],[\"Volume of Production Index in Building and Construction\"],[\"Volume of Production Index in Building and Construction\"],[\"Volume of Production Index in Building and Construction\"],[\"Volume of Production Index in Building and Construction\"],[\"Volume of Production Index in Building and Construction\"],[\"Volume of Production Index in Building and Construction\"],[\"Volume of Production Index in Building and Construction\"],[\"Volume of Production Index in Building and Construction\"],[\"Volume of Production Index in Building and Construction\"],[\"Volume of Production Index in Building and Construction\"],[\"Volume of Production Index in Building and Construction\"],[\"Volume of Production Index in Building and Construction\"],[\"Volume of Production Index in Building and Construction\"],[\"Volume of Production Index in Building and Construction\"],[\"Volume of Production Index in Building and Construction\"],[\"Volume of Production Index in Building and Construction\"],[\"Volume of Production Index in Building and Construction\"],[\"Volume of Production Index in Building and Construction\"],[\"Volume of Production Index in Building and Construction\"],[\"Volume of Production Index in Building and Construction\"],[\"Volume of Production Index in Building and Construction\"],[\"Volume of Production Index in Building and Construction\"],[\"Volume of Production Index in Building and Construction\"],[\"Volume of Production Index in Building and Construction\"],[\"Volume of Production Index in Building and Construction\"],[\"Volume of Production Index in Building and Construction\"],[\"Volume of Production Index in Building and Construction\"],[\"Volume of Production Index in Building and Construction\"],[\"Volume of Production Index in Building and Construction\"],[\"Volume of Production Index in Building and Construction\"],[\"Volume of Production Index in Building and Construction\"],[\"Volume of Production Index in Building and Construction\"],[\"Volume of Production Index in Building and Construction\"],[\"Volume of Production Index in Building and Construction\"],[\"Volume of Production Index in Building and Construction\"],[\"Volume of Production Index in Building and Construction\"],[\"Volume of Production Index in Building and Construction\"],[\"Volume of Production Index in Building and Construction\"],[\"Volume of Production Index in Building and Construction\"],[\"Volume of Production Index in Building and Construction\"],[\"Volume of Production Index in Building and Construction\"],[\"Volume of Production Index in Building and Construction\"],[\"Volume of Production Index in Building and Construction\"],[\"Volume of Production Index in Building and Construction\"],[\"Volume of Production Index in Building and Construction\"],[\"Volume of Production Index in Building and Construction\"],[\"Volume of Production Index in Building and Construction\"],[\"Volume of Production Index in Building and Construction\"],[\"Volume of Production Index in Building and Construction\"],[\"Volume of Production Index in Building and Construction\"],[\"Volume of Production Index in Building and Construction\"],[\"Volume of Production Index in Building and Construction\"],[\"Volume of Production Index in Building and Construction\"],[\"Volume of Production Index in Building and Construction\"],[\"Volume of Production Index in Building and Construction\"],[\"Volume of Production Index in Building and Construction\"],[\"Volume of Production Index in Building and Construction\"],[\"Volume of Production Index in Building and Construction\"],[\"Volume of Production Index in Building and Construction\"],[\"Volume of Production Index in Building and Construction\"],[\"Volume of Production Index in Building and Construction\"],[\"Volume of Production Index in Building and Construction\"],[\"Volume of Production Index in Building and Construction\"],[\"Volume of Production Index in Building and Construction\"],[\"Volume of Production Index in Building and Construction\"],[\"Volume of Production Index in Building and Construction\"],[\"Volume of Production Index in Building and Construction\"],[\"Volume of Production Index in Building and Construction\"],[\"Volume of Production Index in Building and Construction\"],[\"Volume of Production Index in Building and Construction\"],[\"Volume of Production Index in Building and Construction\"],[\"Volume of Production Index in Building and Construction\"],[\"Volume of Production Index in Building and Construction\"],[\"Volume of Production Index in Building and Construction\"],[\"Volume of Production Index in Building and Construction\"],[\"Volume of Production Index in Building and Construction\"],[\"Volume of Production Index in Building and Construction\"],[\"Volume of Production Index in Building and Construction\"],[\"Volume of Production Index in Building and Construction\"],[\"Volume of Production Index in Building and Construction\"],[\"Volume of Production Index in Building and Construction\"],[\"Volume of Production Index in Building and Construction\"],[\"Volume of Production Index in Building and Construction\"],[\"Volume of Production Index in Building and Construction\"],[\"Volume of Production Index in Building and Construction\"],[\"Volume of Production Index in Building and Construction\"],[\"Volume of Production Index in Building and Construction\"],[\"Volume of Production Index in Building and Construction\"],[\"Volume of Production Index in Building and Construction\"],[\"Volume of Production Index in Building and Construction\"],[\"Volume of Production Index in Building and Construction\"],[\"Volume of Production Index in Building and Construction\"],[\"Volume of Production Index in Building and Construction\"],[\"Volume of Production Index in Building and Construction\"],[\"Volume of Production Index in Building and Construction\"],[\"Volume of Production Index in Building and Construction\"],[\"Volume of Production Index in Building and Construction\"],[\"Volume of Production Index in Building and Construction\"],[\"Volume of Production Index in Building and Construction\"],[\"Volume of Production Index in Building and Construction\"],[\"Volume of Production Index in Building and Construction\"],[\"Volume of Production Index in Building and Construction\"],[\"Volume of Production Index in Building and Construction\"],[\"Volume of Production Index in Building and Construction\"]],\"hovertemplate\":\"STATISTIC=BEQ04C02<br>Quarter=%{x}<br>VALUE=%{y}<br>Statistic Label=%{customdata[0]}<extra></extra>\",\"legendgroup\":\"BEQ04C02\",\"line\":{\"color\":\"#EF553B\",\"dash\":\"solid\"},\"marker\":{\"symbol\":\"circle\"},\"mode\":\"lines\",\"name\":\"BEQ04C02\",\"showlegend\":true,\"x\":[\"2000Q1\",\"2000Q1\",\"2000Q1\",\"2000Q1\",\"2000Q1\",\"2000Q2\",\"2000Q2\",\"2000Q2\",\"2000Q2\",\"2000Q2\",\"2000Q3\",\"2000Q3\",\"2000Q3\",\"2000Q3\",\"2000Q3\",\"2000Q4\",\"2000Q4\",\"2000Q4\",\"2000Q4\",\"2000Q4\",\"2001Q1\",\"2001Q1\",\"2001Q1\",\"2001Q1\",\"2001Q1\",\"2001Q2\",\"2001Q2\",\"2001Q2\",\"2001Q2\",\"2001Q2\",\"2001Q3\",\"2001Q3\",\"2001Q3\",\"2001Q3\",\"2001Q3\",\"2001Q4\",\"2001Q4\",\"2001Q4\",\"2001Q4\",\"2001Q4\",\"2002Q1\",\"2002Q1\",\"2002Q1\",\"2002Q1\",\"2002Q1\",\"2002Q2\",\"2002Q2\",\"2002Q2\",\"2002Q2\",\"2002Q2\",\"2002Q3\",\"2002Q3\",\"2002Q3\",\"2002Q3\",\"2002Q3\",\"2002Q4\",\"2002Q4\",\"2002Q4\",\"2002Q4\",\"2002Q4\",\"2003Q1\",\"2003Q1\",\"2003Q1\",\"2003Q1\",\"2003Q1\",\"2003Q2\",\"2003Q2\",\"2003Q2\",\"2003Q2\",\"2003Q2\",\"2003Q3\",\"2003Q3\",\"2003Q3\",\"2003Q3\",\"2003Q3\",\"2003Q4\",\"2003Q4\",\"2003Q4\",\"2003Q4\",\"2003Q4\",\"2004Q1\",\"2004Q1\",\"2004Q1\",\"2004Q1\",\"2004Q1\",\"2004Q2\",\"2004Q2\",\"2004Q2\",\"2004Q2\",\"2004Q2\",\"2004Q3\",\"2004Q3\",\"2004Q3\",\"2004Q3\",\"2004Q3\",\"2004Q4\",\"2004Q4\",\"2004Q4\",\"2004Q4\",\"2004Q4\",\"2005Q1\",\"2005Q1\",\"2005Q1\",\"2005Q1\",\"2005Q1\",\"2005Q2\",\"2005Q2\",\"2005Q2\",\"2005Q2\",\"2005Q2\",\"2005Q3\",\"2005Q3\",\"2005Q3\",\"2005Q3\",\"2005Q3\",\"2005Q4\",\"2005Q4\",\"2005Q4\",\"2005Q4\",\"2005Q4\",\"2006Q1\",\"2006Q1\",\"2006Q1\",\"2006Q1\",\"2006Q1\",\"2006Q2\",\"2006Q2\",\"2006Q2\",\"2006Q2\",\"2006Q2\",\"2006Q3\",\"2006Q3\",\"2006Q3\",\"2006Q3\",\"2006Q3\",\"2006Q4\",\"2006Q4\",\"2006Q4\",\"2006Q4\",\"2006Q4\",\"2007Q1\",\"2007Q1\",\"2007Q1\",\"2007Q1\",\"2007Q1\",\"2007Q2\",\"2007Q2\",\"2007Q2\",\"2007Q2\",\"2007Q2\",\"2007Q3\",\"2007Q3\",\"2007Q3\",\"2007Q3\",\"2007Q3\",\"2007Q4\",\"2007Q4\",\"2007Q4\",\"2007Q4\",\"2007Q4\",\"2008Q1\",\"2008Q1\",\"2008Q1\",\"2008Q1\",\"2008Q1\",\"2008Q2\",\"2008Q2\",\"2008Q2\",\"2008Q2\",\"2008Q2\",\"2008Q3\",\"2008Q3\",\"2008Q3\",\"2008Q3\",\"2008Q3\",\"2008Q4\",\"2008Q4\",\"2008Q4\",\"2008Q4\",\"2008Q4\",\"2009Q1\",\"2009Q1\",\"2009Q1\",\"2009Q1\",\"2009Q1\",\"2009Q2\",\"2009Q2\",\"2009Q2\",\"2009Q2\",\"2009Q2\",\"2009Q3\",\"2009Q3\",\"2009Q3\",\"2009Q3\",\"2009Q3\",\"2009Q4\",\"2009Q4\",\"2009Q4\",\"2009Q4\",\"2009Q4\",\"2010Q1\",\"2010Q1\",\"2010Q1\",\"2010Q1\",\"2010Q1\",\"2010Q2\",\"2010Q2\",\"2010Q2\",\"2010Q2\",\"2010Q2\",\"2010Q3\",\"2010Q3\",\"2010Q3\",\"2010Q3\",\"2010Q3\",\"2010Q4\",\"2010Q4\",\"2010Q4\",\"2010Q4\",\"2010Q4\",\"2011Q1\",\"2011Q1\",\"2011Q1\",\"2011Q1\",\"2011Q1\",\"2011Q2\",\"2011Q2\",\"2011Q2\",\"2011Q2\",\"2011Q2\",\"2011Q3\",\"2011Q3\",\"2011Q3\",\"2011Q3\",\"2011Q3\",\"2011Q4\",\"2011Q4\",\"2011Q4\",\"2011Q4\",\"2011Q4\",\"2012Q1\",\"2012Q1\",\"2012Q1\",\"2012Q1\",\"2012Q1\",\"2012Q2\",\"2012Q2\",\"2012Q2\",\"2012Q2\",\"2012Q2\",\"2012Q3\",\"2012Q3\",\"2012Q3\",\"2012Q3\",\"2012Q3\",\"2012Q4\",\"2012Q4\",\"2012Q4\",\"2012Q4\",\"2012Q4\",\"2013Q1\",\"2013Q1\",\"2013Q1\",\"2013Q1\",\"2013Q1\",\"2013Q2\",\"2013Q2\",\"2013Q2\",\"2013Q2\",\"2013Q2\",\"2013Q3\",\"2013Q3\",\"2013Q3\",\"2013Q3\",\"2013Q3\",\"2013Q4\",\"2013Q4\",\"2013Q4\",\"2013Q4\",\"2013Q4\",\"2014Q1\",\"2014Q1\",\"2014Q1\",\"2014Q1\",\"2014Q1\",\"2014Q2\",\"2014Q2\",\"2014Q2\",\"2014Q2\",\"2014Q2\",\"2014Q3\",\"2014Q3\",\"2014Q3\",\"2014Q3\",\"2014Q3\",\"2014Q4\",\"2014Q4\",\"2014Q4\",\"2014Q4\",\"2014Q4\",\"2015Q1\",\"2015Q1\",\"2015Q1\",\"2015Q1\",\"2015Q1\",\"2015Q2\",\"2015Q2\",\"2015Q2\",\"2015Q2\",\"2015Q2\",\"2015Q3\",\"2015Q3\",\"2015Q3\",\"2015Q3\",\"2015Q3\",\"2015Q4\",\"2015Q4\",\"2015Q4\",\"2015Q4\",\"2015Q4\",\"2016Q1\",\"2016Q1\",\"2016Q1\",\"2016Q1\",\"2016Q1\",\"2016Q2\",\"2016Q2\",\"2016Q2\",\"2016Q2\",\"2016Q2\",\"2016Q3\",\"2016Q3\",\"2016Q3\",\"2016Q3\",\"2016Q3\",\"2016Q4\",\"2016Q4\",\"2016Q4\",\"2016Q4\",\"2016Q4\",\"2017Q1\",\"2017Q1\",\"2017Q1\",\"2017Q1\",\"2017Q1\",\"2017Q2\",\"2017Q2\",\"2017Q2\",\"2017Q2\",\"2017Q2\",\"2017Q3\",\"2017Q3\",\"2017Q3\",\"2017Q3\",\"2017Q3\",\"2017Q4\",\"2017Q4\",\"2017Q4\",\"2017Q4\",\"2017Q4\",\"2018Q1\",\"2018Q1\",\"2018Q1\",\"2018Q1\",\"2018Q1\",\"2018Q2\",\"2018Q2\",\"2018Q2\",\"2018Q2\",\"2018Q2\",\"2018Q3\",\"2018Q3\",\"2018Q3\",\"2018Q3\",\"2018Q3\",\"2018Q4\",\"2018Q4\",\"2018Q4\",\"2018Q4\",\"2018Q4\",\"2019Q1\",\"2019Q1\",\"2019Q1\",\"2019Q1\",\"2019Q1\",\"2019Q2\",\"2019Q2\",\"2019Q2\",\"2019Q2\",\"2019Q2\",\"2019Q3\",\"2019Q3\",\"2019Q3\",\"2019Q3\",\"2019Q3\",\"2019Q4\",\"2019Q4\",\"2019Q4\",\"2019Q4\",\"2019Q4\",\"2020Q1\",\"2020Q1\",\"2020Q1\",\"2020Q1\",\"2020Q1\",\"2020Q2\",\"2020Q2\",\"2020Q2\",\"2020Q2\",\"2020Q2\",\"2020Q3\",\"2020Q3\",\"2020Q3\",\"2020Q3\",\"2020Q3\",\"2020Q4\",\"2020Q4\",\"2020Q4\",\"2020Q4\",\"2020Q4\",\"2021Q1\",\"2021Q1\",\"2021Q1\",\"2021Q1\",\"2021Q1\",\"2021Q2\",\"2021Q2\",\"2021Q2\",\"2021Q2\",\"2021Q2\",\"2021Q3\",\"2021Q3\",\"2021Q3\",\"2021Q3\",\"2021Q3\",\"2021Q4\",\"2021Q4\",\"2021Q4\",\"2021Q4\",\"2021Q4\",\"2022Q1\",\"2022Q1\",\"2022Q1\",\"2022Q1\",\"2022Q1\",\"2022Q2\",\"2022Q2\",\"2022Q2\",\"2022Q2\",\"2022Q2\",\"2022Q3\",\"2022Q3\",\"2022Q3\",\"2022Q3\",\"2022Q3\",\"2022Q4\",\"2022Q4\",\"2022Q4\",\"2022Q4\",\"2022Q4\"],\"xaxis\":\"x\",\"y\":[206.81997135653,265.870115644885,445.508869340789,140.914436021031,82.6456034709101,216.69209903382,279.040288097419,469.562334576995,146.337422551468,85.8261576219107,228.746937337031,295.483888753868,501.036394110496,151.976824217242,89.133638154375,221.786474399994,284.011851104239,471.36345427894,154.095882903616,90.376455348062,212.48466154237,267.604231453381,452.223077420161,138.845068267034,93.7528362877361,225.728420509875,285.574213831363,491.339981022928,141.302766949277,97.5392268475872,231.175473316256,293.105206962411,506.14200458339,143.582023268388,98.8724323280052,234.256484411007,296.934935244946,513.713124734737,144.706224989236,100.312294246856,216.771637192579,263.801207823433,453.923217395562,130.494469998324,110.313379743388,221.827117525073,268.743536263211,465.435849957268,130.579018748935,114.814786018968,244.923119630178,302.829917028052,541.03804999022,134.140746116793,117.036215183241,238.867731016153,298.808758551712,536.032475508108,130.64932770997,108.6180121478,225.342747844468,276.956200789234,499.206490467809,119.23064811206,110.332431749927,236.617281848433,291.857115830991,532.486860249945,120.606716111044,114.188070698842,266.89968770419,337.037171483549,632.328441464236,125.614078783213,116.32354834503,245.745815145904,304.726790666525,554.674088016623,126.939862525255,116.026980809451,297.908187578236,379.605776629742,726.851830062808,132.382944365408,118.465780580001,324.7799045376,411.037140917989,791.548979808233,140.151227650734,135.372797997877,303.405083277719,378.223603405397,703.671794633753,146.426153350281,139.221898628731,296.182233787953,373.814151409601,704.461110688033,138.357538811325,125.733959785075,300.433982114917,382.794915541841,736.036775144862,131.317804297082,119.535465377459,346.44230346926,442.681351189664,859.981553788882,145.640221777173,135.039164592706,350.287589711815,434.662000739379,828.888236469644,153.976430265145,165.174497498902,345.894904602857,430.063603512214,800.455910997857,166.256856350828,161.215831637009,340.3996476035,424.638378751191,796.361661359665,159.912831962165,155.538636466118,346.877276623175,433.946113797471,823.328623832417,156.689880855826,155.781382464577,337.252947138766,415.964145162416,784.829032432047,153.296860137059,164.615877660299,371.033551460534,459.150730987772,875.498149716287,162.714662633899,177.734481436539,300.156518832456,362.010985197051,652.013576619012,155.354871384752,164.66304356333,323.163613601868,392.428747747892,720.030945525092,159.048239617753,171.373578832305,291.880817354658,347.140318799778,606.372851183002,162.312474826095,170.949763562212,292.648049361256,346.054976958808,602.89718401853,162.922536644052,175.822804440603,230.525530631165,265.739304979787,424.013237911661,152.667913531363,153.680681557036,228.991558060177,256.970427072351,397.640774850058,156.388106827092,168.159081237488,207.534153505035,227.549174574243,329.841278971636,154.237868917472,164.230691419413,187.738738624833,203.153637850138,262.453771766974,160.355962585205,154.524294812598,146.0433702316,151.358416172498,180.225234112166,130.305318381264,134.988631183253,139.086444176089,138.30273071517,157.340020908346,124.257450237769,141.501852908757,132.700602657161,126.795234776927,132.608699545992,122.15234248129,146.425399039424,121.373276341381,115.277517259643,122.300251291093,109.827411548475,135.464260248283,92.3092094402992,85.1241386981417,89.5510585550933,81.5687085801443,108.808662615461,96.8201476669973,84.8075344771006,93.9877208883219,77.4345726187481,124.405338676338,94.0108791363514,92.8874267561623,95.8685933501939,90.4931368576127,96.5907215076583,95.7871163940093,93.5419844790187,92.5258295264274,94.358097722479,100.942730059175,70.3569175288962,71.4832615308094,67.3479653598181,74.8044774164086,67.7704349756135,73.6222849296053,72.9571302259929,64.4387356709391,79.7985815141759,75.1497144122545,81.9675101461357,79.0919531215882,65.3832696824945,90.1019256425297,88.5708019134183,89.7390785398944,84.7954718691893,74.3111788681259,93.2158120394222,101.091340710556,69.3477409552573,64.4703931961768,56.9335989838716,70.5234833811053,80.5478493268792,70.3498965565796,64.0261414625823,57.0812828784781,69.6038253089216,84.8714656279058,77.6268240285624,69.8732755290158,61.0853155201188,76.9312252324254,95.4317023659482,90.6184194238318,75.1255799317758,62.7423217858253,85.0710522677869,126.195435840615,69.291733724737,63.4571652720206,60.595473034228,65.7555007060155,82.6899579646238,80.3281132095427,73.031205376692,64.5385198171037,79.8520087788198,97.0843837365948,93.1479110931413,84.578209578698,66.0832114708628,99.4322560556508,112.826964221047,100.109163490671,94.8247808807897,72.0832427008139,113.089387511901,112.243967246995,76.0101785829216,74.0083057274686,57.2310748707121,87.4827470573788,80.6071837658183,92.3574502249287,82.0794530726466,71.8636739965028,90.284139351097,115.959351839277,98.1916363758417,92.0063061224143,83.0854072674157,99.1710241416179,112.395333256729,104.361847772402,102.534511530126,98.2611377217057,105.966622893078,108.558055415537,87.3437445997099,87.569293385067,85.9289525696287,87.8234306945011,86.3162445775275,103.197636153183,102.303516387459,104.499408959146,101.963307679169,107.270848419259,99.8163075572965,99.9679534737019,104.794937432305,99.2201108885662,99.1254761603386,109.579277139801,110.09717732665,104.701625939435,110.933107823261,107.219954066378,87.5965961821779,89.2667196111975,100.358588279012,87.548261085198,79.9882561166444,111.115246910621,111.435223907031,134.711737471452,107.829003495642,109.657573926973,118.032415534275,119.483087555462,129.632478132014,117.910646761911,111.423798548868,122.786164425743,125.279307682792,130.679195650193,124.442705321646,111.428511810297,108.818240863003,113.288483844673,115.866325416274,112.889099939213,88.4538006131756,120.698146871613,125.01504170726,144.979816743018,121.92190754679,101.032292620332,127.03751141477,129.89568791778,161.730503507824,124.963533389744,114.016929567729,140.097079673335,143.668864293867,153.772207495666,142.103557600631,123.825616402023,117.738667469308,121.428987328115,130.479401253269,120.026810522809,100.927210334744,134.472049408503,141.21844189812,148.481738897218,140.093142363048,103.738483622473,143.075618020815,146.476341892633,145.924865656215,146.561781872923,127.583431493646,152.548970652042,154.612959463204,144.044750285042,156.250287645736,143.146354956748,125.502072824203,131.206206813154,130.0581598748,131.384073240223,99.5165735412072,138.974525640812,143.258974882019,162.538931647242,140.271939326843,119.456479097537,152.085422459246,160.499427592683,172.429199690434,158.651153042327,113.754954629145,162.458591809369,171.992591696492,178.711637068843,170.951612835987,119.025925656919,139.944131121428,148.044064915702,142.716857701037,148.869406878537,103.044432725295,93.7662629720541,101.11785502731,82.5241604761527,103.99856826763,60.2756769425539,140.461863908526,149.146079280172,135.835813926074,151.208233067426,100.900438326583,151.759946335656,158.745307890157,137.596712901564,162.021850775714,119.937743698482,94.807180046825,98.9241284932385,66.8510079359132,103.893203509162,76.0521926798303,122.512023814744,125.863442870954,108.526517357012,128.549445415367,107.244448114234,140.313949044264,145.494314025914,131.856793110559,147.607169378997,116.714508572301,152.308498383767,155.997588256997,138.236747522886,158.749267807352,135.502644516833,117.810513139487,124.794994477852,112.483194704983,126.702456414493,85.992320375828,128.76863280686,135.169384872327,122.342467865162,137.156653704423,99.6096511752914,137.928376228945,143.058775679534,110.852064077229,148.048547899609,114.556556509597,135.693648030311,138.330489666083,114.957610359035,141.951639981259,123.68136946735],\"yaxis\":\"y\",\"type\":\"scattergl\"},{\"customdata\":[[\"Value of Production Index in Building and Construction (Seasonally Adjusted)\"],[\"Value of Production Index in Building and Construction (Seasonally Adjusted)\"],[\"Value of Production Index in Building and Construction (Seasonally Adjusted)\"],[\"Value of Production Index in Building and Construction (Seasonally Adjusted)\"],[\"Value of Production Index in Building and Construction (Seasonally Adjusted)\"],[\"Value of Production Index in Building and Construction (Seasonally Adjusted)\"],[\"Value of Production Index in Building and Construction (Seasonally Adjusted)\"],[\"Value of Production Index in Building and Construction (Seasonally Adjusted)\"],[\"Value of Production Index in Building and Construction (Seasonally Adjusted)\"],[\"Value of Production Index in Building and Construction (Seasonally Adjusted)\"],[\"Value of Production Index in Building and Construction (Seasonally Adjusted)\"],[\"Value of Production Index in Building and Construction (Seasonally Adjusted)\"],[\"Value of Production Index in Building and Construction (Seasonally Adjusted)\"],[\"Value of Production Index in Building and Construction (Seasonally Adjusted)\"],[\"Value of Production Index in Building and Construction (Seasonally Adjusted)\"],[\"Value of Production Index in Building and Construction (Seasonally Adjusted)\"],[\"Value of Production Index in Building and Construction (Seasonally Adjusted)\"],[\"Value of Production Index in Building and Construction (Seasonally Adjusted)\"],[\"Value of Production Index in Building and Construction (Seasonally Adjusted)\"],[\"Value of Production Index in Building and Construction (Seasonally Adjusted)\"],[\"Value of Production Index in Building and Construction (Seasonally Adjusted)\"],[\"Value of Production Index in Building and Construction (Seasonally Adjusted)\"],[\"Value of Production Index in Building and Construction (Seasonally Adjusted)\"],[\"Value of Production Index in Building and Construction (Seasonally Adjusted)\"],[\"Value of Production Index in Building and Construction (Seasonally Adjusted)\"],[\"Value of Production Index in Building and Construction (Seasonally Adjusted)\"],[\"Value of Production Index in Building and Construction (Seasonally Adjusted)\"],[\"Value of Production Index in Building and Construction (Seasonally Adjusted)\"],[\"Value of Production Index in Building and Construction (Seasonally Adjusted)\"],[\"Value of Production Index in Building and Construction (Seasonally Adjusted)\"],[\"Value of Production Index in Building and Construction (Seasonally Adjusted)\"],[\"Value of Production Index in Building and Construction (Seasonally Adjusted)\"],[\"Value of Production Index in Building and Construction (Seasonally Adjusted)\"],[\"Value of Production Index in Building and Construction (Seasonally Adjusted)\"],[\"Value of Production Index in Building and Construction (Seasonally Adjusted)\"],[\"Value of Production Index in Building and Construction (Seasonally Adjusted)\"],[\"Value of Production Index in Building and Construction (Seasonally Adjusted)\"],[\"Value of Production Index in Building and Construction (Seasonally Adjusted)\"],[\"Value of Production Index in Building and Construction (Seasonally Adjusted)\"],[\"Value of Production Index in Building and Construction (Seasonally Adjusted)\"],[\"Value of Production Index in Building and Construction (Seasonally Adjusted)\"],[\"Value of Production Index in Building and Construction (Seasonally Adjusted)\"],[\"Value of Production Index in Building and Construction (Seasonally Adjusted)\"],[\"Value of Production Index in Building and Construction (Seasonally Adjusted)\"],[\"Value of Production Index in Building and Construction (Seasonally Adjusted)\"],[\"Value of Production Index in Building and Construction (Seasonally Adjusted)\"],[\"Value of Production Index in Building and Construction (Seasonally Adjusted)\"],[\"Value of Production Index in Building and Construction (Seasonally Adjusted)\"],[\"Value of Production Index in Building and Construction (Seasonally Adjusted)\"],[\"Value of Production Index in Building and Construction (Seasonally Adjusted)\"],[\"Value of Production Index in Building and Construction (Seasonally Adjusted)\"],[\"Value of Production Index in Building and Construction (Seasonally Adjusted)\"],[\"Value of Production Index in Building and Construction (Seasonally Adjusted)\"],[\"Value of Production Index in Building and Construction (Seasonally Adjusted)\"],[\"Value of Production Index in Building and Construction (Seasonally Adjusted)\"],[\"Value of Production Index in Building and Construction (Seasonally Adjusted)\"],[\"Value of Production Index in Building and Construction (Seasonally Adjusted)\"],[\"Value of Production Index in Building and Construction (Seasonally Adjusted)\"],[\"Value of Production Index in Building and Construction (Seasonally Adjusted)\"],[\"Value of Production Index in Building and Construction (Seasonally Adjusted)\"],[\"Value of Production Index in Building and Construction (Seasonally Adjusted)\"],[\"Value of Production Index in Building and Construction (Seasonally Adjusted)\"],[\"Value of Production Index in Building and Construction (Seasonally Adjusted)\"],[\"Value of Production Index in Building and Construction (Seasonally Adjusted)\"],[\"Value of Production Index in Building and Construction (Seasonally Adjusted)\"],[\"Value of Production Index in Building and Construction (Seasonally Adjusted)\"],[\"Value of Production Index in Building and Construction (Seasonally Adjusted)\"],[\"Value of Production Index in Building and Construction (Seasonally Adjusted)\"],[\"Value of Production Index in Building and Construction (Seasonally Adjusted)\"],[\"Value of Production Index in Building and Construction (Seasonally Adjusted)\"],[\"Value of Production Index in Building and Construction (Seasonally Adjusted)\"],[\"Value of Production Index in Building and Construction (Seasonally Adjusted)\"],[\"Value of Production Index in Building and Construction (Seasonally Adjusted)\"],[\"Value of Production Index in Building and Construction (Seasonally Adjusted)\"],[\"Value of Production Index in Building and Construction (Seasonally Adjusted)\"],[\"Value of Production Index in Building and Construction (Seasonally Adjusted)\"],[\"Value of Production Index in Building and Construction (Seasonally Adjusted)\"],[\"Value of Production Index in Building and Construction (Seasonally Adjusted)\"],[\"Value of Production Index in Building and Construction (Seasonally Adjusted)\"],[\"Value of Production Index in Building and Construction (Seasonally Adjusted)\"],[\"Value of Production Index in Building and Construction (Seasonally Adjusted)\"],[\"Value of Production Index in Building and Construction (Seasonally Adjusted)\"],[\"Value of Production Index in Building and Construction (Seasonally Adjusted)\"],[\"Value of Production Index in Building and Construction (Seasonally Adjusted)\"],[\"Value of Production Index in Building and Construction (Seasonally Adjusted)\"],[\"Value of Production Index in Building and Construction (Seasonally Adjusted)\"],[\"Value of Production Index in Building and Construction (Seasonally Adjusted)\"],[\"Value of Production Index in Building and Construction (Seasonally Adjusted)\"],[\"Value of Production Index in Building and Construction (Seasonally Adjusted)\"],[\"Value of Production Index in Building and Construction (Seasonally Adjusted)\"],[\"Value of Production Index in Building and Construction (Seasonally Adjusted)\"],[\"Value of Production Index in Building and Construction (Seasonally Adjusted)\"],[\"Value of Production Index in Building and Construction (Seasonally Adjusted)\"],[\"Value of Production Index in Building and Construction (Seasonally Adjusted)\"],[\"Value of Production Index in Building and Construction (Seasonally Adjusted)\"],[\"Value of Production Index in Building and Construction (Seasonally Adjusted)\"],[\"Value of Production Index in Building and Construction (Seasonally Adjusted)\"],[\"Value of Production Index in Building and Construction (Seasonally Adjusted)\"],[\"Value of Production Index in Building and Construction (Seasonally Adjusted)\"],[\"Value of Production Index in Building and Construction (Seasonally Adjusted)\"],[\"Value of Production Index in Building and Construction (Seasonally Adjusted)\"],[\"Value of Production Index in Building and Construction (Seasonally Adjusted)\"],[\"Value of Production Index in Building and Construction (Seasonally Adjusted)\"],[\"Value of Production Index in Building and Construction (Seasonally Adjusted)\"],[\"Value of Production Index in Building and Construction (Seasonally Adjusted)\"],[\"Value of Production Index in Building and Construction (Seasonally Adjusted)\"],[\"Value of Production Index in Building and Construction (Seasonally Adjusted)\"],[\"Value of Production Index in Building and Construction (Seasonally Adjusted)\"],[\"Value of Production Index in Building and Construction (Seasonally Adjusted)\"],[\"Value of Production Index in Building and Construction (Seasonally Adjusted)\"],[\"Value of Production Index in Building and Construction (Seasonally Adjusted)\"],[\"Value of Production Index in Building and Construction (Seasonally Adjusted)\"],[\"Value of Production Index in Building and Construction (Seasonally Adjusted)\"],[\"Value of Production Index in Building and Construction (Seasonally Adjusted)\"],[\"Value of Production Index in Building and Construction (Seasonally Adjusted)\"],[\"Value of Production Index in Building and Construction (Seasonally Adjusted)\"],[\"Value of Production Index in Building and Construction (Seasonally Adjusted)\"],[\"Value of Production Index in Building and Construction (Seasonally Adjusted)\"],[\"Value of Production Index in Building and Construction (Seasonally Adjusted)\"],[\"Value of Production Index in Building and Construction (Seasonally Adjusted)\"],[\"Value of Production Index in Building and Construction (Seasonally Adjusted)\"],[\"Value of Production Index in Building and Construction (Seasonally Adjusted)\"],[\"Value of Production Index in Building and Construction (Seasonally Adjusted)\"],[\"Value of Production Index in Building and Construction (Seasonally Adjusted)\"],[\"Value of Production Index in Building and Construction (Seasonally Adjusted)\"],[\"Value of Production Index in Building and Construction (Seasonally Adjusted)\"],[\"Value of Production Index in Building and Construction (Seasonally Adjusted)\"],[\"Value of Production Index in Building and Construction (Seasonally Adjusted)\"],[\"Value of Production Index in Building and Construction (Seasonally Adjusted)\"],[\"Value of Production Index in Building and Construction (Seasonally Adjusted)\"],[\"Value of Production Index in Building and Construction (Seasonally Adjusted)\"],[\"Value of Production Index in Building and Construction (Seasonally Adjusted)\"],[\"Value of Production Index in Building and Construction (Seasonally Adjusted)\"],[\"Value of Production Index in Building and Construction (Seasonally Adjusted)\"],[\"Value of Production Index in Building and Construction (Seasonally Adjusted)\"],[\"Value of Production Index in Building and Construction (Seasonally Adjusted)\"],[\"Value of Production Index in Building and Construction (Seasonally Adjusted)\"],[\"Value of Production Index in Building and Construction (Seasonally Adjusted)\"],[\"Value of Production Index in Building and Construction (Seasonally Adjusted)\"],[\"Value of Production Index in Building and Construction (Seasonally Adjusted)\"],[\"Value of Production Index in Building and Construction (Seasonally Adjusted)\"],[\"Value of Production Index in Building and Construction (Seasonally Adjusted)\"],[\"Value of Production Index in Building and Construction (Seasonally Adjusted)\"],[\"Value of Production Index in Building and Construction (Seasonally Adjusted)\"],[\"Value of Production Index in Building and Construction (Seasonally Adjusted)\"],[\"Value of Production Index in Building and Construction (Seasonally Adjusted)\"],[\"Value of Production Index in Building and Construction (Seasonally Adjusted)\"],[\"Value of Production Index in Building and Construction (Seasonally Adjusted)\"],[\"Value of Production Index in Building and Construction (Seasonally Adjusted)\"],[\"Value of Production Index in Building and Construction (Seasonally Adjusted)\"],[\"Value of Production Index in Building and Construction (Seasonally Adjusted)\"],[\"Value of Production Index in Building and Construction (Seasonally Adjusted)\"],[\"Value of Production Index in Building and Construction (Seasonally Adjusted)\"],[\"Value of Production Index in Building and Construction (Seasonally Adjusted)\"],[\"Value of Production Index in Building and Construction (Seasonally Adjusted)\"],[\"Value of Production Index in Building and Construction (Seasonally Adjusted)\"],[\"Value of Production Index in Building and Construction (Seasonally Adjusted)\"],[\"Value of Production Index in Building and Construction (Seasonally Adjusted)\"],[\"Value of Production Index in Building and Construction (Seasonally Adjusted)\"],[\"Value of Production Index in Building and Construction (Seasonally Adjusted)\"],[\"Value of Production Index in Building and Construction (Seasonally Adjusted)\"],[\"Value of Production Index in Building and Construction (Seasonally Adjusted)\"],[\"Value of Production Index in Building and Construction (Seasonally Adjusted)\"],[\"Value of Production Index in Building and Construction (Seasonally Adjusted)\"],[\"Value of Production Index in Building and Construction (Seasonally Adjusted)\"],[\"Value of Production Index in Building and Construction (Seasonally Adjusted)\"],[\"Value of Production Index in Building and Construction (Seasonally Adjusted)\"],[\"Value of Production Index in Building and Construction (Seasonally Adjusted)\"],[\"Value of Production Index in Building and Construction (Seasonally Adjusted)\"],[\"Value of Production Index in Building and Construction (Seasonally Adjusted)\"],[\"Value of Production Index in Building and Construction (Seasonally Adjusted)\"],[\"Value of Production Index in Building and Construction (Seasonally Adjusted)\"],[\"Value of Production Index in Building and Construction (Seasonally Adjusted)\"],[\"Value of Production Index in Building and Construction (Seasonally Adjusted)\"],[\"Value of Production Index in Building and Construction (Seasonally Adjusted)\"],[\"Value of Production Index in Building and Construction (Seasonally Adjusted)\"],[\"Value of Production Index in Building and Construction (Seasonally Adjusted)\"],[\"Value of Production Index in Building and Construction (Seasonally Adjusted)\"],[\"Value of Production Index in Building and Construction (Seasonally Adjusted)\"],[\"Value of Production Index in Building and Construction (Seasonally Adjusted)\"],[\"Value of Production Index in Building and Construction (Seasonally Adjusted)\"],[\"Value of Production Index in Building and Construction (Seasonally Adjusted)\"],[\"Value of Production Index in Building and Construction (Seasonally Adjusted)\"],[\"Value of Production Index in Building and Construction (Seasonally Adjusted)\"],[\"Value of Production Index in Building and Construction (Seasonally Adjusted)\"],[\"Value of Production Index in Building and Construction (Seasonally Adjusted)\"],[\"Value of Production Index in Building and Construction (Seasonally Adjusted)\"],[\"Value of Production Index in Building and Construction (Seasonally Adjusted)\"],[\"Value of Production Index in Building and Construction (Seasonally Adjusted)\"],[\"Value of Production Index in Building and Construction (Seasonally Adjusted)\"],[\"Value of Production Index in Building and Construction (Seasonally Adjusted)\"],[\"Value of Production Index in Building and Construction (Seasonally Adjusted)\"],[\"Value of Production Index in Building and Construction (Seasonally Adjusted)\"],[\"Value of Production Index in Building and Construction (Seasonally Adjusted)\"],[\"Value of Production Index in Building and Construction (Seasonally Adjusted)\"],[\"Value of Production Index in Building and Construction (Seasonally Adjusted)\"],[\"Value of Production Index in Building and Construction (Seasonally Adjusted)\"],[\"Value of Production Index in Building and Construction (Seasonally Adjusted)\"],[\"Value of Production Index in Building and Construction (Seasonally Adjusted)\"],[\"Value of Production Index in Building and Construction (Seasonally Adjusted)\"],[\"Value of Production Index in Building and Construction (Seasonally Adjusted)\"],[\"Value of Production Index in Building and Construction (Seasonally Adjusted)\"],[\"Value of Production Index in Building and Construction (Seasonally Adjusted)\"],[\"Value of Production Index in Building and Construction (Seasonally Adjusted)\"],[\"Value of Production Index in Building and Construction (Seasonally Adjusted)\"],[\"Value of Production Index in Building and Construction (Seasonally Adjusted)\"],[\"Value of Production Index in Building and Construction (Seasonally Adjusted)\"],[\"Value of Production Index in Building and Construction (Seasonally Adjusted)\"],[\"Value of Production Index in Building and Construction (Seasonally Adjusted)\"],[\"Value of Production Index in Building and Construction (Seasonally Adjusted)\"],[\"Value of Production Index in Building and Construction (Seasonally Adjusted)\"],[\"Value of Production Index in Building and Construction (Seasonally Adjusted)\"],[\"Value of Production Index in Building and Construction (Seasonally Adjusted)\"],[\"Value of Production Index in Building and Construction (Seasonally Adjusted)\"],[\"Value of Production Index in Building and Construction (Seasonally Adjusted)\"],[\"Value of Production Index in Building and Construction (Seasonally Adjusted)\"],[\"Value of Production Index in Building and Construction (Seasonally Adjusted)\"],[\"Value of Production Index in Building and Construction (Seasonally Adjusted)\"],[\"Value of Production Index in Building and Construction (Seasonally Adjusted)\"],[\"Value of Production Index in Building and Construction (Seasonally Adjusted)\"],[\"Value of Production Index in Building and Construction (Seasonally Adjusted)\"],[\"Value of Production Index in Building and Construction (Seasonally Adjusted)\"],[\"Value of Production Index in Building and Construction (Seasonally Adjusted)\"],[\"Value of Production Index in Building and Construction (Seasonally Adjusted)\"],[\"Value of Production Index in Building and Construction (Seasonally Adjusted)\"],[\"Value of Production Index in Building and Construction (Seasonally Adjusted)\"],[\"Value of Production Index in Building and Construction (Seasonally Adjusted)\"],[\"Value of Production Index in Building and Construction (Seasonally Adjusted)\"],[\"Value of Production Index in Building and Construction (Seasonally Adjusted)\"],[\"Value of Production Index in Building and Construction (Seasonally Adjusted)\"],[\"Value of Production Index in Building and Construction (Seasonally Adjusted)\"],[\"Value of Production Index in Building and Construction (Seasonally Adjusted)\"],[\"Value of Production Index in Building and Construction (Seasonally Adjusted)\"],[\"Value of Production Index in Building and Construction (Seasonally Adjusted)\"],[\"Value of Production Index in Building and Construction (Seasonally Adjusted)\"],[\"Value of Production Index in Building and Construction (Seasonally Adjusted)\"],[\"Value of Production Index in Building and Construction (Seasonally Adjusted)\"],[\"Value of Production Index in Building and Construction (Seasonally Adjusted)\"],[\"Value of Production Index in Building and Construction (Seasonally Adjusted)\"],[\"Value of Production Index in Building and Construction (Seasonally Adjusted)\"],[\"Value of Production Index in Building and Construction (Seasonally Adjusted)\"],[\"Value of Production Index in Building and Construction (Seasonally Adjusted)\"],[\"Value of Production Index in Building and Construction (Seasonally Adjusted)\"],[\"Value of Production Index in Building and Construction (Seasonally Adjusted)\"],[\"Value of Production Index in Building and Construction (Seasonally Adjusted)\"],[\"Value of Production Index in Building and Construction (Seasonally Adjusted)\"],[\"Value of Production Index in Building and Construction (Seasonally Adjusted)\"],[\"Value of Production Index in Building and Construction (Seasonally Adjusted)\"],[\"Value of Production Index in Building and Construction (Seasonally Adjusted)\"],[\"Value of Production Index in Building and Construction (Seasonally Adjusted)\"],[\"Value of Production Index in Building and Construction (Seasonally Adjusted)\"],[\"Value of Production Index in Building and Construction (Seasonally Adjusted)\"],[\"Value of Production Index in Building and Construction (Seasonally Adjusted)\"],[\"Value of Production Index in Building and Construction (Seasonally Adjusted)\"],[\"Value of Production Index in Building and Construction (Seasonally Adjusted)\"],[\"Value of Production Index in Building and Construction (Seasonally Adjusted)\"],[\"Value of Production Index in Building and Construction (Seasonally Adjusted)\"],[\"Value of Production Index in Building and Construction (Seasonally Adjusted)\"],[\"Value of Production Index in Building and Construction (Seasonally Adjusted)\"],[\"Value of Production Index in Building and Construction (Seasonally Adjusted)\"],[\"Value of Production Index in Building and Construction (Seasonally Adjusted)\"],[\"Value of Production Index in Building and Construction (Seasonally Adjusted)\"],[\"Value of Production Index in Building and Construction (Seasonally Adjusted)\"],[\"Value of Production Index in Building and Construction (Seasonally Adjusted)\"],[\"Value of Production Index in Building and Construction (Seasonally Adjusted)\"],[\"Value of Production Index in Building and Construction (Seasonally Adjusted)\"],[\"Value of Production Index in Building and Construction (Seasonally Adjusted)\"],[\"Value of Production Index in Building and Construction (Seasonally Adjusted)\"],[\"Value of Production Index in Building and Construction (Seasonally Adjusted)\"],[\"Value of Production Index in Building and Construction (Seasonally Adjusted)\"],[\"Value of Production Index in Building and Construction (Seasonally Adjusted)\"],[\"Value of Production Index in Building and Construction (Seasonally Adjusted)\"],[\"Value of Production Index in Building and Construction (Seasonally Adjusted)\"],[\"Value of Production Index in Building and Construction (Seasonally Adjusted)\"],[\"Value of Production Index in Building and Construction (Seasonally Adjusted)\"],[\"Value of Production Index in Building and Construction (Seasonally Adjusted)\"],[\"Value of Production Index in Building and Construction (Seasonally Adjusted)\"],[\"Value of Production Index in Building and Construction (Seasonally Adjusted)\"],[\"Value of Production Index in Building and Construction (Seasonally Adjusted)\"],[\"Value of Production Index in Building and Construction (Seasonally Adjusted)\"],[\"Value of Production Index in Building and Construction (Seasonally Adjusted)\"],[\"Value of Production Index in Building and Construction (Seasonally Adjusted)\"],[\"Value of Production Index in Building and Construction (Seasonally Adjusted)\"],[\"Value of Production Index in Building and Construction (Seasonally Adjusted)\"],[\"Value of Production Index in Building and Construction (Seasonally Adjusted)\"],[\"Value of Production Index in Building and Construction (Seasonally Adjusted)\"],[\"Value of Production Index in Building and Construction (Seasonally Adjusted)\"],[\"Value of Production Index in Building and Construction (Seasonally Adjusted)\"],[\"Value of Production Index in Building and Construction (Seasonally Adjusted)\"],[\"Value of Production Index in Building and Construction (Seasonally Adjusted)\"],[\"Value of Production Index in Building and Construction (Seasonally Adjusted)\"],[\"Value of Production Index in Building and Construction (Seasonally Adjusted)\"],[\"Value of Production Index in Building and Construction (Seasonally Adjusted)\"],[\"Value of Production Index in Building and Construction (Seasonally Adjusted)\"],[\"Value of Production Index in Building and Construction (Seasonally Adjusted)\"],[\"Value of Production Index in Building and Construction (Seasonally Adjusted)\"],[\"Value of Production Index in Building and Construction (Seasonally Adjusted)\"],[\"Value of Production Index in Building and Construction (Seasonally Adjusted)\"],[\"Value of Production Index in Building and Construction (Seasonally Adjusted)\"],[\"Value of Production Index in Building and Construction (Seasonally Adjusted)\"],[\"Value of Production Index in Building and Construction (Seasonally Adjusted)\"],[\"Value of Production Index in Building and Construction (Seasonally Adjusted)\"],[\"Value of Production Index in Building and Construction (Seasonally Adjusted)\"],[\"Value of Production Index in Building and Construction (Seasonally Adjusted)\"],[\"Value of Production Index in Building and Construction (Seasonally Adjusted)\"],[\"Value of Production Index in Building and Construction (Seasonally Adjusted)\"],[\"Value of Production Index in Building and Construction (Seasonally Adjusted)\"],[\"Value of Production Index in Building and Construction (Seasonally Adjusted)\"],[\"Value of Production Index in Building and Construction (Seasonally Adjusted)\"],[\"Value of Production Index in Building and Construction (Seasonally Adjusted)\"],[\"Value of Production Index in Building and Construction (Seasonally Adjusted)\"],[\"Value of Production Index in Building and Construction (Seasonally Adjusted)\"],[\"Value of Production Index in Building and Construction (Seasonally Adjusted)\"],[\"Value of Production Index in Building and Construction (Seasonally Adjusted)\"],[\"Value of Production Index in Building and Construction (Seasonally Adjusted)\"],[\"Value of Production Index in Building and Construction (Seasonally Adjusted)\"],[\"Value of Production Index in Building and Construction (Seasonally Adjusted)\"],[\"Value of Production Index in Building and Construction (Seasonally Adjusted)\"],[\"Value of Production Index in Building and Construction (Seasonally Adjusted)\"],[\"Value of Production Index in Building and Construction (Seasonally Adjusted)\"],[\"Value of Production Index in Building and Construction (Seasonally Adjusted)\"],[\"Value of Production Index in Building and Construction (Seasonally Adjusted)\"],[\"Value of Production Index in Building and Construction (Seasonally Adjusted)\"],[\"Value of Production Index in Building and Construction (Seasonally Adjusted)\"],[\"Value of Production Index in Building and Construction (Seasonally Adjusted)\"],[\"Value of Production Index in Building and Construction (Seasonally Adjusted)\"],[\"Value of Production Index in Building and Construction (Seasonally Adjusted)\"],[\"Value of Production Index in Building and Construction (Seasonally Adjusted)\"],[\"Value of Production Index in Building and Construction (Seasonally Adjusted)\"],[\"Value of Production Index in Building and Construction (Seasonally Adjusted)\"],[\"Value of Production Index in Building and Construction (Seasonally Adjusted)\"],[\"Value of Production Index in Building and Construction (Seasonally Adjusted)\"],[\"Value of Production Index in Building and Construction (Seasonally Adjusted)\"],[\"Value of Production Index in Building and Construction (Seasonally Adjusted)\"],[\"Value of Production Index in Building and Construction (Seasonally Adjusted)\"],[\"Value of Production Index in Building and Construction (Seasonally Adjusted)\"],[\"Value of Production Index in Building and Construction (Seasonally Adjusted)\"],[\"Value of Production Index in Building and Construction (Seasonally Adjusted)\"],[\"Value of Production Index in Building and Construction (Seasonally Adjusted)\"],[\"Value of Production Index in Building and Construction (Seasonally Adjusted)\"],[\"Value of Production Index in Building and Construction (Seasonally Adjusted)\"],[\"Value of Production Index in Building and Construction (Seasonally Adjusted)\"],[\"Value of Production Index in Building and Construction (Seasonally Adjusted)\"],[\"Value of Production Index in Building and Construction (Seasonally Adjusted)\"],[\"Value of Production Index in Building and Construction (Seasonally Adjusted)\"],[\"Value of Production Index in Building and Construction (Seasonally Adjusted)\"],[\"Value of Production Index in Building and Construction (Seasonally Adjusted)\"],[\"Value of Production Index in Building and Construction (Seasonally Adjusted)\"],[\"Value of Production Index in Building and Construction (Seasonally Adjusted)\"],[\"Value of Production Index in Building and Construction (Seasonally Adjusted)\"],[\"Value of Production Index in Building and Construction (Seasonally Adjusted)\"],[\"Value of Production Index in Building and Construction (Seasonally Adjusted)\"],[\"Value of Production Index in Building and Construction (Seasonally Adjusted)\"],[\"Value of Production Index in Building and Construction (Seasonally Adjusted)\"],[\"Value of Production Index in Building and Construction (Seasonally Adjusted)\"],[\"Value of Production Index in Building and Construction (Seasonally Adjusted)\"],[\"Value of Production Index in Building and Construction (Seasonally Adjusted)\"],[\"Value of Production Index in Building and Construction (Seasonally Adjusted)\"],[\"Value of Production Index in Building and Construction (Seasonally Adjusted)\"],[\"Value of Production Index in Building and Construction (Seasonally Adjusted)\"],[\"Value of Production Index in Building and Construction (Seasonally Adjusted)\"],[\"Value of Production Index in Building and Construction (Seasonally Adjusted)\"],[\"Value of Production Index in Building and Construction (Seasonally Adjusted)\"],[\"Value of Production Index in Building and Construction (Seasonally Adjusted)\"],[\"Value of Production Index in Building and Construction (Seasonally Adjusted)\"],[\"Value of Production Index in Building and Construction (Seasonally Adjusted)\"],[\"Value of Production Index in Building and Construction (Seasonally Adjusted)\"],[\"Value of Production Index in Building and Construction (Seasonally Adjusted)\"],[\"Value of Production Index in Building and Construction (Seasonally Adjusted)\"],[\"Value of Production Index in Building and Construction (Seasonally Adjusted)\"],[\"Value of Production Index in Building and Construction (Seasonally Adjusted)\"],[\"Value of Production Index in Building and Construction (Seasonally Adjusted)\"],[\"Value of Production Index in Building and Construction (Seasonally Adjusted)\"],[\"Value of Production Index in Building and Construction (Seasonally Adjusted)\"],[\"Value of Production Index in Building and Construction (Seasonally Adjusted)\"],[\"Value of Production Index in Building and Construction (Seasonally Adjusted)\"],[\"Value of Production Index in Building and Construction (Seasonally Adjusted)\"],[\"Value of Production Index in Building and Construction (Seasonally Adjusted)\"],[\"Value of Production Index in Building and Construction (Seasonally Adjusted)\"],[\"Value of Production Index in Building and Construction (Seasonally Adjusted)\"],[\"Value of Production Index in Building and Construction (Seasonally Adjusted)\"],[\"Value of Production Index in Building and Construction (Seasonally Adjusted)\"],[\"Value of Production Index in Building and Construction (Seasonally Adjusted)\"],[\"Value of Production Index in Building and Construction (Seasonally Adjusted)\"],[\"Value of Production Index in Building and Construction (Seasonally Adjusted)\"],[\"Value of Production Index in Building and Construction (Seasonally Adjusted)\"],[\"Value of Production Index in Building and Construction (Seasonally Adjusted)\"],[\"Value of Production Index in Building and Construction (Seasonally Adjusted)\"],[\"Value of Production Index in Building and Construction (Seasonally Adjusted)\"],[\"Value of Production Index in Building and Construction (Seasonally Adjusted)\"],[\"Value of Production Index in Building and Construction (Seasonally Adjusted)\"],[\"Value of Production Index in Building and Construction (Seasonally Adjusted)\"],[\"Value of Production Index in Building and Construction (Seasonally Adjusted)\"],[\"Value of Production Index in Building and Construction (Seasonally Adjusted)\"],[\"Value of Production Index in Building and Construction (Seasonally Adjusted)\"],[\"Value of Production Index in Building and Construction (Seasonally Adjusted)\"],[\"Value of Production Index in Building and Construction (Seasonally Adjusted)\"],[\"Value of Production Index in Building and Construction (Seasonally Adjusted)\"],[\"Value of Production Index in Building and Construction (Seasonally Adjusted)\"],[\"Value of Production Index in Building and Construction (Seasonally Adjusted)\"],[\"Value of Production Index in Building and Construction (Seasonally Adjusted)\"],[\"Value of Production Index in Building and Construction (Seasonally Adjusted)\"],[\"Value of Production Index in Building and Construction (Seasonally Adjusted)\"],[\"Value of Production Index in Building and Construction (Seasonally Adjusted)\"],[\"Value of Production Index in Building and Construction (Seasonally Adjusted)\"],[\"Value of Production Index in Building and Construction (Seasonally Adjusted)\"],[\"Value of Production Index in Building and Construction (Seasonally Adjusted)\"],[\"Value of Production Index in Building and Construction (Seasonally Adjusted)\"],[\"Value of Production Index in Building and Construction (Seasonally Adjusted)\"],[\"Value of Production Index in Building and Construction (Seasonally Adjusted)\"],[\"Value of Production Index in Building and Construction (Seasonally Adjusted)\"],[\"Value of Production Index in Building and Construction (Seasonally Adjusted)\"],[\"Value of Production Index in Building and Construction (Seasonally Adjusted)\"],[\"Value of Production Index in Building and Construction (Seasonally Adjusted)\"],[\"Value of Production Index in Building and Construction (Seasonally Adjusted)\"],[\"Value of Production Index in Building and Construction (Seasonally Adjusted)\"],[\"Value of Production Index in Building and Construction (Seasonally Adjusted)\"],[\"Value of Production Index in Building and Construction (Seasonally Adjusted)\"],[\"Value of Production Index in Building and Construction (Seasonally Adjusted)\"],[\"Value of Production Index in Building and Construction (Seasonally Adjusted)\"],[\"Value of Production Index in Building and Construction (Seasonally Adjusted)\"],[\"Value of Production Index in Building and Construction (Seasonally Adjusted)\"],[\"Value of Production Index in Building and Construction (Seasonally Adjusted)\"],[\"Value of Production Index in Building and Construction (Seasonally Adjusted)\"],[\"Value of Production Index in Building and Construction (Seasonally Adjusted)\"],[\"Value of Production Index in Building and Construction (Seasonally Adjusted)\"],[\"Value of Production Index in Building and Construction (Seasonally Adjusted)\"],[\"Value of Production Index in Building and Construction (Seasonally Adjusted)\"],[\"Value of Production Index in Building and Construction (Seasonally Adjusted)\"],[\"Value of Production Index in Building and Construction (Seasonally Adjusted)\"],[\"Value of Production Index in Building and Construction (Seasonally Adjusted)\"],[\"Value of Production Index in Building and Construction (Seasonally Adjusted)\"],[\"Value of Production Index in Building and Construction (Seasonally Adjusted)\"],[\"Value of Production Index in Building and Construction (Seasonally Adjusted)\"],[\"Value of Production Index in Building and Construction (Seasonally Adjusted)\"],[\"Value of Production Index in Building and Construction (Seasonally Adjusted)\"],[\"Value of Production Index in Building and Construction (Seasonally Adjusted)\"],[\"Value of Production Index in Building and Construction (Seasonally Adjusted)\"],[\"Value of Production Index in Building and Construction (Seasonally Adjusted)\"],[\"Value of Production Index in Building and Construction (Seasonally Adjusted)\"],[\"Value of Production Index in Building and Construction (Seasonally Adjusted)\"],[\"Value of Production Index in Building and Construction (Seasonally Adjusted)\"],[\"Value of Production Index in Building and Construction (Seasonally Adjusted)\"],[\"Value of Production Index in Building and Construction (Seasonally Adjusted)\"],[\"Value of Production Index in Building and Construction (Seasonally Adjusted)\"],[\"Value of Production Index in Building and Construction (Seasonally Adjusted)\"],[\"Value of Production Index in Building and Construction (Seasonally Adjusted)\"],[\"Value of Production Index in Building and Construction (Seasonally Adjusted)\"],[\"Value of Production Index in Building and Construction (Seasonally Adjusted)\"],[\"Value of Production Index in Building and Construction (Seasonally Adjusted)\"],[\"Value of Production Index in Building and Construction (Seasonally Adjusted)\"],[\"Value of Production Index in Building and Construction (Seasonally Adjusted)\"],[\"Value of Production Index in Building and Construction (Seasonally Adjusted)\"],[\"Value of Production Index in Building and Construction (Seasonally Adjusted)\"],[\"Value of Production Index in Building and Construction (Seasonally Adjusted)\"],[\"Value of Production Index in Building and Construction (Seasonally Adjusted)\"],[\"Value of Production Index in Building and Construction (Seasonally Adjusted)\"],[\"Value of Production Index in Building and Construction (Seasonally Adjusted)\"],[\"Value of Production Index in Building and Construction (Seasonally Adjusted)\"],[\"Value of Production Index in Building and Construction (Seasonally Adjusted)\"]],\"hovertemplate\":\"STATISTIC=BEQ04C03<br>Quarter=%{x}<br>VALUE=%{y}<br>Statistic Label=%{customdata[0]}<extra></extra>\",\"legendgroup\":\"BEQ04C03\",\"line\":{\"color\":\"#00cc96\",\"dash\":\"solid\"},\"marker\":{\"symbol\":\"circle\"},\"mode\":\"lines\",\"name\":\"BEQ04C03\",\"showlegend\":true,\"x\":[\"2000Q1\",\"2000Q1\",\"2000Q1\",\"2000Q1\",\"2000Q1\",\"2000Q2\",\"2000Q2\",\"2000Q2\",\"2000Q2\",\"2000Q2\",\"2000Q3\",\"2000Q3\",\"2000Q3\",\"2000Q3\",\"2000Q3\",\"2000Q4\",\"2000Q4\",\"2000Q4\",\"2000Q4\",\"2000Q4\",\"2001Q1\",\"2001Q1\",\"2001Q1\",\"2001Q1\",\"2001Q1\",\"2001Q2\",\"2001Q2\",\"2001Q2\",\"2001Q2\",\"2001Q2\",\"2001Q3\",\"2001Q3\",\"2001Q3\",\"2001Q3\",\"2001Q3\",\"2001Q4\",\"2001Q4\",\"2001Q4\",\"2001Q4\",\"2001Q4\",\"2002Q1\",\"2002Q1\",\"2002Q1\",\"2002Q1\",\"2002Q1\",\"2002Q2\",\"2002Q2\",\"2002Q2\",\"2002Q2\",\"2002Q2\",\"2002Q3\",\"2002Q3\",\"2002Q3\",\"2002Q3\",\"2002Q3\",\"2002Q4\",\"2002Q4\",\"2002Q4\",\"2002Q4\",\"2002Q4\",\"2003Q1\",\"2003Q1\",\"2003Q1\",\"2003Q1\",\"2003Q1\",\"2003Q2\",\"2003Q2\",\"2003Q2\",\"2003Q2\",\"2003Q2\",\"2003Q3\",\"2003Q3\",\"2003Q3\",\"2003Q3\",\"2003Q3\",\"2003Q4\",\"2003Q4\",\"2003Q4\",\"2003Q4\",\"2003Q4\",\"2004Q1\",\"2004Q1\",\"2004Q1\",\"2004Q1\",\"2004Q1\",\"2004Q2\",\"2004Q2\",\"2004Q2\",\"2004Q2\",\"2004Q2\",\"2004Q3\",\"2004Q3\",\"2004Q3\",\"2004Q3\",\"2004Q3\",\"2004Q4\",\"2004Q4\",\"2004Q4\",\"2004Q4\",\"2004Q4\",\"2005Q1\",\"2005Q1\",\"2005Q1\",\"2005Q1\",\"2005Q1\",\"2005Q2\",\"2005Q2\",\"2005Q2\",\"2005Q2\",\"2005Q2\",\"2005Q3\",\"2005Q3\",\"2005Q3\",\"2005Q3\",\"2005Q3\",\"2005Q4\",\"2005Q4\",\"2005Q4\",\"2005Q4\",\"2005Q4\",\"2006Q1\",\"2006Q1\",\"2006Q1\",\"2006Q1\",\"2006Q1\",\"2006Q2\",\"2006Q2\",\"2006Q2\",\"2006Q2\",\"2006Q2\",\"2006Q3\",\"2006Q3\",\"2006Q3\",\"2006Q3\",\"2006Q3\",\"2006Q4\",\"2006Q4\",\"2006Q4\",\"2006Q4\",\"2006Q4\",\"2007Q1\",\"2007Q1\",\"2007Q1\",\"2007Q1\",\"2007Q1\",\"2007Q2\",\"2007Q2\",\"2007Q2\",\"2007Q2\",\"2007Q2\",\"2007Q3\",\"2007Q3\",\"2007Q3\",\"2007Q3\",\"2007Q3\",\"2007Q4\",\"2007Q4\",\"2007Q4\",\"2007Q4\",\"2007Q4\",\"2008Q1\",\"2008Q1\",\"2008Q1\",\"2008Q1\",\"2008Q1\",\"2008Q2\",\"2008Q2\",\"2008Q2\",\"2008Q2\",\"2008Q2\",\"2008Q3\",\"2008Q3\",\"2008Q3\",\"2008Q3\",\"2008Q3\",\"2008Q4\",\"2008Q4\",\"2008Q4\",\"2008Q4\",\"2008Q4\",\"2009Q1\",\"2009Q1\",\"2009Q1\",\"2009Q1\",\"2009Q1\",\"2009Q2\",\"2009Q2\",\"2009Q2\",\"2009Q2\",\"2009Q2\",\"2009Q3\",\"2009Q3\",\"2009Q3\",\"2009Q3\",\"2009Q3\",\"2009Q4\",\"2009Q4\",\"2009Q4\",\"2009Q4\",\"2009Q4\",\"2010Q1\",\"2010Q1\",\"2010Q1\",\"2010Q1\",\"2010Q1\",\"2010Q2\",\"2010Q2\",\"2010Q2\",\"2010Q2\",\"2010Q2\",\"2010Q3\",\"2010Q3\",\"2010Q3\",\"2010Q3\",\"2010Q3\",\"2010Q4\",\"2010Q4\",\"2010Q4\",\"2010Q4\",\"2010Q4\",\"2011Q1\",\"2011Q1\",\"2011Q1\",\"2011Q1\",\"2011Q1\",\"2011Q2\",\"2011Q2\",\"2011Q2\",\"2011Q2\",\"2011Q2\",\"2011Q3\",\"2011Q3\",\"2011Q3\",\"2011Q3\",\"2011Q3\",\"2011Q4\",\"2011Q4\",\"2011Q4\",\"2011Q4\",\"2011Q4\",\"2012Q1\",\"2012Q1\",\"2012Q1\",\"2012Q1\",\"2012Q1\",\"2012Q2\",\"2012Q2\",\"2012Q2\",\"2012Q2\",\"2012Q2\",\"2012Q3\",\"2012Q3\",\"2012Q3\",\"2012Q3\",\"2012Q3\",\"2012Q4\",\"2012Q4\",\"2012Q4\",\"2012Q4\",\"2012Q4\",\"2013Q1\",\"2013Q1\",\"2013Q1\",\"2013Q1\",\"2013Q1\",\"2013Q2\",\"2013Q2\",\"2013Q2\",\"2013Q2\",\"2013Q2\",\"2013Q3\",\"2013Q3\",\"2013Q3\",\"2013Q3\",\"2013Q3\",\"2013Q4\",\"2013Q4\",\"2013Q4\",\"2013Q4\",\"2013Q4\",\"2014Q1\",\"2014Q1\",\"2014Q1\",\"2014Q1\",\"2014Q1\",\"2014Q2\",\"2014Q2\",\"2014Q2\",\"2014Q2\",\"2014Q2\",\"2014Q3\",\"2014Q3\",\"2014Q3\",\"2014Q3\",\"2014Q3\",\"2014Q4\",\"2014Q4\",\"2014Q4\",\"2014Q4\",\"2014Q4\",\"2015Q1\",\"2015Q1\",\"2015Q1\",\"2015Q1\",\"2015Q1\",\"2015Q2\",\"2015Q2\",\"2015Q2\",\"2015Q2\",\"2015Q2\",\"2015Q3\",\"2015Q3\",\"2015Q3\",\"2015Q3\",\"2015Q3\",\"2015Q4\",\"2015Q4\",\"2015Q4\",\"2015Q4\",\"2015Q4\",\"2016Q1\",\"2016Q1\",\"2016Q1\",\"2016Q1\",\"2016Q1\",\"2016Q2\",\"2016Q2\",\"2016Q2\",\"2016Q2\",\"2016Q2\",\"2016Q3\",\"2016Q3\",\"2016Q3\",\"2016Q3\",\"2016Q3\",\"2016Q4\",\"2016Q4\",\"2016Q4\",\"2016Q4\",\"2016Q4\",\"2017Q1\",\"2017Q1\",\"2017Q1\",\"2017Q1\",\"2017Q1\",\"2017Q2\",\"2017Q2\",\"2017Q2\",\"2017Q2\",\"2017Q2\",\"2017Q3\",\"2017Q3\",\"2017Q3\",\"2017Q3\",\"2017Q3\",\"2017Q4\",\"2017Q4\",\"2017Q4\",\"2017Q4\",\"2017Q4\",\"2018Q1\",\"2018Q1\",\"2018Q1\",\"2018Q1\",\"2018Q1\",\"2018Q2\",\"2018Q2\",\"2018Q2\",\"2018Q2\",\"2018Q2\",\"2018Q3\",\"2018Q3\",\"2018Q3\",\"2018Q3\",\"2018Q3\",\"2018Q4\",\"2018Q4\",\"2018Q4\",\"2018Q4\",\"2018Q4\",\"2019Q1\",\"2019Q1\",\"2019Q1\",\"2019Q1\",\"2019Q1\",\"2019Q2\",\"2019Q2\",\"2019Q2\",\"2019Q2\",\"2019Q2\",\"2019Q3\",\"2019Q3\",\"2019Q3\",\"2019Q3\",\"2019Q3\",\"2019Q4\",\"2019Q4\",\"2019Q4\",\"2019Q4\",\"2019Q4\",\"2020Q1\",\"2020Q1\",\"2020Q1\",\"2020Q1\",\"2020Q1\",\"2020Q2\",\"2020Q2\",\"2020Q2\",\"2020Q2\",\"2020Q2\",\"2020Q3\",\"2020Q3\",\"2020Q3\",\"2020Q3\",\"2020Q3\",\"2020Q4\",\"2020Q4\",\"2020Q4\",\"2020Q4\",\"2020Q4\",\"2021Q1\",\"2021Q1\",\"2021Q1\",\"2021Q1\",\"2021Q1\",\"2021Q2\",\"2021Q2\",\"2021Q2\",\"2021Q2\",\"2021Q2\",\"2021Q3\",\"2021Q3\",\"2021Q3\",\"2021Q3\",\"2021Q3\",\"2021Q4\",\"2021Q4\",\"2021Q4\",\"2021Q4\",\"2021Q4\",\"2022Q1\",\"2022Q1\",\"2022Q1\",\"2022Q1\",\"2022Q1\",\"2022Q2\",\"2022Q2\",\"2022Q2\",\"2022Q2\",\"2022Q2\",\"2022Q3\",\"2022Q3\",\"2022Q3\",\"2022Q3\",\"2022Q3\",\"2022Q4\",\"2022Q4\",\"2022Q4\",\"2022Q4\",\"2022Q4\"],\"xaxis\":\"x\",\"y\":[148.962897581372,192.043996388387,297.635954843263,119.454102292447,58.7811972846848,154.184896607106,197.648074315339,307.40464460562,121.366027745656,62.255065633868,158.238980182692,203.636221541916,318.749628841375,121.681033947686,64.7627580872921,161.520362355978,205.484011951207,321.599695802848,123.132906777184,68.8571976751821,173.710432385175,220.431752022006,353.415661004046,127.584569658067,74.192407760516,179.869535778254,227.291035568675,371.08735737182,127.13299419563,76.8476806308592,173.242523422165,218.431231959777,349.898137405527,124.701786877578,77.8494600415968,179.417866447194,224.827652359046,364.495159996541,125.475465882057,81.8565993459284,180.962667956839,223.684182850493,360.272532034495,119.245730343415,93.24470849969,180.754000527198,212.173708601463,362.221303045761,116.193685039278,94.1452759229643,194.150045325439,239.270192763183,412.441423178978,114.978374155914,95.5987727916509,198.57082218235,245.015797606955,430.390454309309,111.808380428275,96.4417755705037,194.135432021407,235.570098886146,419.796492632022,108.14501582697,96.3186326599553,197.526998374986,243.495179301113,436.006950457939,105.435843324799,96.7848009838761,220.27385620289,277.653433281756,517.235147826986,106.006239632638,98.7174083739325,231.898561127174,292.50983928347,549.624212221418,106.876072142497,102.472842794518,248.877584638847,317.495690757263,608.508830576194,110.791525039859,96.8843198502107,261.892453455635,330.539003201277,633.480025620737,115.806034174997,111.351987263248,248.664871375329,311.056962934606,581.991966759447,120.178071867683,113.541827174112,251.952282773325,318.539138133412,598.038984402838,114.662293606837,106.126019738377,269.057403495567,346.666005181,658.753069105,117.061078785992,105.961706907153,290.889480184623,366.202708727778,715.929126853088,126.380590622053,117.024343458579,298.513599913342,371.519264618037,717.554444011304,131.146874499606,139.043996842579,302.848347478677,376.920676882102,693.957736948741,143.030285617254,138.946199910204,321.280906826021,393.530459379748,753.507712331356,147.843801300494,146.138615621002,307.220002375661,390.881689883206,724.095732295483,143.758223262277,142.955059597789,305.479216586305,377.3833096453,724.79154759287,138.45220594764,146.535970133969,341.886208674635,421.850303701099,789.911977187872,149.199852136172,161.529156380585,303.406817023938,364.468136292721,666.864965017394,152.369097901853,166.055562421676,303.25094655909,371.707425538523,671.286345427955,153.807284360194,166.048488252858,278.782573213393,331.042528645475,589.369889733612,154.688379286261,159.993297274841,272.697482096016,320.38400296573,549.195767812089,153.439865658628,162.722508083954,246.541796824606,286.697092422189,459.562930630814,156.953457121065,164.385490966047,226.248851511645,254.700128966319,391.038195101974,157.853998254362,170.31561609536,202.883323255258,221.339795343161,326.808893380805,150.539716432351,157.116586358789,175.620414955411,188.604186727035,241.753749492815,153.521817466507,144.123414067743,157.673146589606,161.822688816536,195.992617266066,135.56267262625,146.971252189323,137.493360902218,140.118211471192,154.984332337477,124.798131731356,141.974863016321,126.121340937223,119.591686084896,127.330574319722,115.154034228271,136.133769939516,109.194717289716,103.212769585801,109.247073336824,99.8678303886131,121.683798855069,100.912579580235,93.2424315397179,97.6206507714102,88.5590396362522,121.188571123108,98.4735445931998,87.09195039995,95.3260940669916,80.8811447322944,127.359412291854,90.461770395094,88.6610062565302,93.1538247073247,85.4451110820493,90.9352259334685,85.7728779783878,83.9336425379025,83.1539098408112,84.5830356723087,90.1003408283838,77.2588785409441,76.685254394036,72.9974600103043,82.2381982349105,76.8506708168731,73.8321335001052,75.0079743710679,64.1242718696802,81.8071025479292,74.8101953552598,75.9124226678223,72.8767243417609,61.3422117224892,81.9974713785097,80.4175708980368,77.0552445550677,73.3145035836961,64.3501821840766,79.589121769152,86.7576220740339,76.7990278359132,70.211762154601,61.9613703451055,78.4328622851377,92.8421422809742,71.6803490099852,65.8794567387149,57.4114451893233,73.3885207647454,84.8756138891147,72.555442644398,65.2953279330525,57.9822755052834,70.2209659522681,87.6551153226666,78.4807560431837,65.6113646930051,55.1424258219145,71.7762072504662,109.444185736091,78.4559814335397,70.9839161757344,67.2086276454847,75.2785993920728,98.0362757494167,81.3089033344458,73.8755591146759,64.1821354606267,83.5249524281676,95.6530358019056,87.3960557995899,79.8008412281471,62.9446292095788,92.7755207108047,104.329846351511,88.1604138765516,83.7036627636856,64.6776991989375,99.6813686365351,98.9505006025038,87.3854480492852,81.625514985488,64.4027594697486,97.9301061233345,97.1847573917503,92.2891645731772,84.5323769129307,70.5062993770157,93.6238903621004,113.253914264364,93.3961946842197,88.3401084171998,79.8260248934469,93.8339570605652,105.335043800348,94.469036405846,92.6169595587399,91.4217341858583,94.2201315031911,98.1349598849155,101.980797416989,99.9453871177858,98.0868109735722,100.601112456659,105.078265110763,102.404545758711,102.658691124652,101.579468693482,104.691683945304,104.923776459783,95.8915871393072,97.0599011284369,100.827583819701,94.6958523129109,93.9246262201462,100.58976330668,100.702142058681,100.160435416783,99.5721737035636,98.0683796233918,102.101981671785,102.688284114099,114.250186937606,101.974242460527,96.1162039692901,109.663307146741,110.057109972641,129.650401926383,109.151463092641,107.666858131488,114.021398222613,116.546848796451,124.568220844535,113.912603364111,106.496832267074,114.110299267847,116.457982420095,127.708518980138,113.809610425886,102.870495764629,127.523556979307,128.107125363383,133.445170510177,130.323506335622,105.79065397531,121.484232900869,128.417512382517,141.165910435184,123.996671360968,101.761749942218,124.50851477117,128.179337350297,157.281369399554,122.685865832159,111.038745785331,131.737217989996,135.691828079165,152.276791863275,132.833502864121,115.072472237923,137.857030061284,142.249298640448,152.009750526699,139.966590898781,120.526645846563,144.092631572758,148.803665342433,152.312681471506,149.439365525758,111.413237850665,146.75998933912,150.740156272507,148.944223663418,151.596396412744,130.481122631251,150.370124846302,153.879778827959,148.637909158685,154.958662937232,138.377440270354,153.140602010176,158.047945682191,159.788166866258,159.561831002894,125.107243122155,153.20893246563,157.232767262857,170.002846910058,151.779735318684,131.372560360985,155.927437558575,164.537577269196,177.211646582434,164.348732997189,116.672425983136,162.772958927034,174.902812230691,186.234074842609,174.01961131426,116.20752391585,172.861865415231,184.082031788157,178.291608694323,182.035656187006,132.463501895395,106.452141907445,111.954154142535,88.2779627640022,115.151616011317,67.8516419704327,145.060803830951,153.629277778451,141.845730680858,157.108594885796,104.845205492028,151.462387796918,161.842740867114,142.54418366834,164.01089426304,115.47007686733,118.359730646964,126.749943158875,83.8088764975487,134.899019644895,99.9930657287521,145.936029611238,143.095365880028,121.674613465863,148.665521013911,126.523948232274,154.59620373863,159.708526807572,148.179127634633,163.555727405039,129.784647089929,165.584751428213,173.83713025391,155.790311354312,176.049308457382,140.636163145196,164.340372110492,174.976072586854,156.403484665095,176.381382427542,127.373380594056,170.363198205159,174.111059209706,152.291946796285,176.197185713024,131.076014727039,167.988188591532,173.490557167944,138.466401776571,182.060597320424,140.85139104912,162.04888235783,169.644861090298,142.291632822271,172.696860053348,139.838235672104],\"yaxis\":\"y\",\"type\":\"scattergl\"},{\"customdata\":[[\"Volume of Production Index in Building and Construction (Seasonally Adjusted)\"],[\"Volume of Production Index in Building and Construction (Seasonally Adjusted)\"],[\"Volume of Production Index in Building and Construction (Seasonally Adjusted)\"],[\"Volume of Production Index in Building and Construction (Seasonally Adjusted)\"],[\"Volume of Production Index in Building and Construction (Seasonally Adjusted)\"],[\"Volume of Production Index in Building and Construction (Seasonally Adjusted)\"],[\"Volume of Production Index in Building and Construction (Seasonally Adjusted)\"],[\"Volume of Production Index in Building and Construction (Seasonally Adjusted)\"],[\"Volume of Production Index in Building and Construction (Seasonally Adjusted)\"],[\"Volume of Production Index in Building and Construction (Seasonally Adjusted)\"],[\"Volume of Production Index in Building and Construction (Seasonally Adjusted)\"],[\"Volume of Production Index in Building and Construction (Seasonally Adjusted)\"],[\"Volume of Production Index in Building and Construction (Seasonally Adjusted)\"],[\"Volume of Production Index in Building and Construction (Seasonally Adjusted)\"],[\"Volume of Production Index in Building and Construction (Seasonally Adjusted)\"],[\"Volume of Production Index in Building and Construction (Seasonally Adjusted)\"],[\"Volume of Production Index in Building and Construction (Seasonally Adjusted)\"],[\"Volume of Production Index in Building and Construction (Seasonally Adjusted)\"],[\"Volume of Production Index in Building and Construction (Seasonally Adjusted)\"],[\"Volume of Production Index in Building and Construction (Seasonally Adjusted)\"],[\"Volume of Production Index in Building and Construction (Seasonally Adjusted)\"],[\"Volume of Production Index in Building and Construction (Seasonally Adjusted)\"],[\"Volume of Production Index in Building and Construction (Seasonally Adjusted)\"],[\"Volume of Production Index in Building and Construction (Seasonally Adjusted)\"],[\"Volume of Production Index in Building and Construction (Seasonally Adjusted)\"],[\"Volume of Production Index in Building and Construction (Seasonally Adjusted)\"],[\"Volume of Production Index in Building and Construction (Seasonally Adjusted)\"],[\"Volume of Production Index in Building and Construction (Seasonally Adjusted)\"],[\"Volume of Production Index in Building and Construction (Seasonally Adjusted)\"],[\"Volume of Production Index in Building and Construction (Seasonally Adjusted)\"],[\"Volume of Production Index in Building and Construction (Seasonally Adjusted)\"],[\"Volume of Production Index in Building and Construction (Seasonally Adjusted)\"],[\"Volume of Production Index in Building and Construction (Seasonally Adjusted)\"],[\"Volume of Production Index in Building and Construction (Seasonally Adjusted)\"],[\"Volume of Production Index in Building and Construction (Seasonally Adjusted)\"],[\"Volume of Production Index in Building and Construction (Seasonally Adjusted)\"],[\"Volume of Production Index in Building and Construction (Seasonally Adjusted)\"],[\"Volume of Production Index in Building and Construction (Seasonally Adjusted)\"],[\"Volume of Production Index in Building and Construction (Seasonally Adjusted)\"],[\"Volume of Production Index in Building and Construction (Seasonally Adjusted)\"],[\"Volume of Production Index in Building and Construction (Seasonally Adjusted)\"],[\"Volume of Production Index in Building and Construction (Seasonally Adjusted)\"],[\"Volume of Production Index in Building and Construction (Seasonally Adjusted)\"],[\"Volume of Production Index in Building and Construction (Seasonally Adjusted)\"],[\"Volume of Production Index in Building and Construction (Seasonally Adjusted)\"],[\"Volume of Production Index in Building and Construction (Seasonally Adjusted)\"],[\"Volume of Production Index in Building and Construction (Seasonally Adjusted)\"],[\"Volume of Production Index in Building and Construction (Seasonally Adjusted)\"],[\"Volume of Production Index in Building and Construction (Seasonally Adjusted)\"],[\"Volume of Production Index in Building and Construction (Seasonally Adjusted)\"],[\"Volume of Production Index in Building and Construction (Seasonally Adjusted)\"],[\"Volume of Production Index in Building and Construction (Seasonally Adjusted)\"],[\"Volume of Production Index in Building and Construction (Seasonally Adjusted)\"],[\"Volume of Production Index in Building and Construction (Seasonally Adjusted)\"],[\"Volume of Production Index in Building and Construction (Seasonally Adjusted)\"],[\"Volume of Production Index in Building and Construction (Seasonally Adjusted)\"],[\"Volume of Production Index in Building and Construction (Seasonally Adjusted)\"],[\"Volume of Production Index in Building and Construction (Seasonally Adjusted)\"],[\"Volume of Production Index in Building and Construction (Seasonally Adjusted)\"],[\"Volume of Production Index in Building and Construction (Seasonally Adjusted)\"],[\"Volume of Production Index in Building and Construction (Seasonally Adjusted)\"],[\"Volume of Production Index in Building and Construction (Seasonally Adjusted)\"],[\"Volume of Production Index in Building and Construction (Seasonally Adjusted)\"],[\"Volume of Production Index in Building and Construction (Seasonally Adjusted)\"],[\"Volume of Production Index in Building and Construction (Seasonally Adjusted)\"],[\"Volume of Production Index in Building and Construction (Seasonally Adjusted)\"],[\"Volume of Production Index in Building and Construction (Seasonally Adjusted)\"],[\"Volume of Production Index in Building and Construction (Seasonally Adjusted)\"],[\"Volume of Production Index in Building and Construction (Seasonally Adjusted)\"],[\"Volume of Production Index in Building and Construction (Seasonally Adjusted)\"],[\"Volume of Production Index in Building and Construction (Seasonally Adjusted)\"],[\"Volume of Production Index in Building and Construction (Seasonally Adjusted)\"],[\"Volume of Production Index in Building and Construction (Seasonally Adjusted)\"],[\"Volume of Production Index in Building and Construction (Seasonally Adjusted)\"],[\"Volume of Production Index in Building and Construction (Seasonally Adjusted)\"],[\"Volume of Production Index in Building and Construction (Seasonally Adjusted)\"],[\"Volume of Production Index in Building and Construction (Seasonally Adjusted)\"],[\"Volume of Production Index in Building and Construction (Seasonally Adjusted)\"],[\"Volume of Production Index in Building and Construction (Seasonally Adjusted)\"],[\"Volume of Production Index in Building and Construction (Seasonally Adjusted)\"],[\"Volume of Production Index in Building and Construction (Seasonally Adjusted)\"],[\"Volume of Production Index in Building and Construction (Seasonally Adjusted)\"],[\"Volume of Production Index in Building and Construction (Seasonally Adjusted)\"],[\"Volume of Production Index in Building and Construction (Seasonally Adjusted)\"],[\"Volume of Production Index in Building and Construction (Seasonally Adjusted)\"],[\"Volume of Production Index in Building and Construction (Seasonally Adjusted)\"],[\"Volume of Production Index in Building and Construction (Seasonally Adjusted)\"],[\"Volume of Production Index in Building and Construction (Seasonally Adjusted)\"],[\"Volume of Production Index in Building and Construction (Seasonally Adjusted)\"],[\"Volume of Production Index in Building and Construction (Seasonally Adjusted)\"],[\"Volume of Production Index in Building and Construction (Seasonally Adjusted)\"],[\"Volume of Production Index in Building and Construction (Seasonally Adjusted)\"],[\"Volume of Production Index in Building and Construction (Seasonally Adjusted)\"],[\"Volume of Production Index in Building and Construction (Seasonally Adjusted)\"],[\"Volume of Production Index in Building and Construction (Seasonally Adjusted)\"],[\"Volume of Production Index in Building and Construction (Seasonally Adjusted)\"],[\"Volume of Production Index in Building and Construction (Seasonally Adjusted)\"],[\"Volume of Production Index in Building and Construction (Seasonally Adjusted)\"],[\"Volume of Production Index in Building and Construction (Seasonally Adjusted)\"],[\"Volume of Production Index in Building and Construction (Seasonally Adjusted)\"],[\"Volume of Production Index in Building and Construction (Seasonally Adjusted)\"],[\"Volume of Production Index in Building and Construction (Seasonally Adjusted)\"],[\"Volume of Production Index in Building and Construction (Seasonally Adjusted)\"],[\"Volume of Production Index in Building and Construction (Seasonally Adjusted)\"],[\"Volume of Production Index in Building and Construction (Seasonally Adjusted)\"],[\"Volume of Production Index in Building and Construction (Seasonally Adjusted)\"],[\"Volume of Production Index in Building and Construction (Seasonally Adjusted)\"],[\"Volume of Production Index in Building and Construction (Seasonally Adjusted)\"],[\"Volume of Production Index in Building and Construction (Seasonally Adjusted)\"],[\"Volume of Production Index in Building and Construction (Seasonally Adjusted)\"],[\"Volume of Production Index in Building and Construction (Seasonally Adjusted)\"],[\"Volume of Production Index in Building and Construction (Seasonally Adjusted)\"],[\"Volume of Production Index in Building and Construction (Seasonally Adjusted)\"],[\"Volume of Production Index in Building and Construction (Seasonally Adjusted)\"],[\"Volume of Production Index in Building and Construction (Seasonally Adjusted)\"],[\"Volume of Production Index in Building and Construction (Seasonally Adjusted)\"],[\"Volume of Production Index in Building and Construction (Seasonally Adjusted)\"],[\"Volume of Production Index in Building and Construction (Seasonally Adjusted)\"],[\"Volume of Production Index in Building and Construction (Seasonally Adjusted)\"],[\"Volume of Production Index in Building and Construction (Seasonally Adjusted)\"],[\"Volume of Production Index in Building and Construction (Seasonally Adjusted)\"],[\"Volume of Production Index in Building and Construction (Seasonally Adjusted)\"],[\"Volume of Production Index in Building and Construction (Seasonally Adjusted)\"],[\"Volume of Production Index in Building and Construction (Seasonally Adjusted)\"],[\"Volume of Production Index in Building and Construction (Seasonally Adjusted)\"],[\"Volume of Production Index in Building and Construction (Seasonally Adjusted)\"],[\"Volume of Production Index in Building and Construction (Seasonally Adjusted)\"],[\"Volume of Production Index in Building and Construction (Seasonally Adjusted)\"],[\"Volume of Production Index in Building and Construction (Seasonally Adjusted)\"],[\"Volume of Production Index in Building and Construction (Seasonally Adjusted)\"],[\"Volume of Production Index in Building and Construction (Seasonally Adjusted)\"],[\"Volume of Production Index in Building and Construction (Seasonally Adjusted)\"],[\"Volume of Production Index in Building and Construction (Seasonally Adjusted)\"],[\"Volume of Production Index in Building and Construction (Seasonally Adjusted)\"],[\"Volume of Production Index in Building and Construction (Seasonally Adjusted)\"],[\"Volume of Production Index in Building and Construction (Seasonally Adjusted)\"],[\"Volume of Production Index in Building and Construction (Seasonally Adjusted)\"],[\"Volume of Production Index in Building and Construction (Seasonally Adjusted)\"],[\"Volume of Production Index in Building and Construction (Seasonally Adjusted)\"],[\"Volume of Production Index in Building and Construction (Seasonally Adjusted)\"],[\"Volume of Production Index in Building and Construction (Seasonally Adjusted)\"],[\"Volume of Production Index in Building and Construction (Seasonally Adjusted)\"],[\"Volume of Production Index in Building and Construction (Seasonally Adjusted)\"],[\"Volume of Production Index in Building and Construction (Seasonally Adjusted)\"],[\"Volume of Production Index in Building and Construction (Seasonally Adjusted)\"],[\"Volume of Production Index in Building and Construction (Seasonally Adjusted)\"],[\"Volume of Production Index in Building and Construction (Seasonally Adjusted)\"],[\"Volume of Production Index in Building and Construction (Seasonally Adjusted)\"],[\"Volume of Production Index in Building and Construction (Seasonally Adjusted)\"],[\"Volume of Production Index in Building and Construction (Seasonally Adjusted)\"],[\"Volume of Production Index in Building and Construction (Seasonally Adjusted)\"],[\"Volume of Production Index in Building and Construction (Seasonally Adjusted)\"],[\"Volume of Production Index in Building and Construction (Seasonally Adjusted)\"],[\"Volume of Production Index in Building and Construction (Seasonally Adjusted)\"],[\"Volume of Production Index in Building and Construction (Seasonally Adjusted)\"],[\"Volume of Production Index in Building and Construction (Seasonally Adjusted)\"],[\"Volume of Production Index in Building and Construction (Seasonally Adjusted)\"],[\"Volume of Production Index in Building and Construction (Seasonally Adjusted)\"],[\"Volume of Production Index in Building and Construction (Seasonally Adjusted)\"],[\"Volume of Production Index in Building and Construction (Seasonally Adjusted)\"],[\"Volume of Production Index in Building and Construction (Seasonally Adjusted)\"],[\"Volume of Production Index in Building and Construction (Seasonally Adjusted)\"],[\"Volume of Production Index in Building and Construction (Seasonally Adjusted)\"],[\"Volume of Production Index in Building and Construction (Seasonally Adjusted)\"],[\"Volume of Production Index in Building and Construction (Seasonally Adjusted)\"],[\"Volume of Production Index in Building and Construction (Seasonally Adjusted)\"],[\"Volume of Production Index in Building and Construction (Seasonally Adjusted)\"],[\"Volume of Production Index in Building and Construction (Seasonally Adjusted)\"],[\"Volume of Production Index in Building and Construction (Seasonally Adjusted)\"],[\"Volume of Production Index in Building and Construction (Seasonally Adjusted)\"],[\"Volume of Production Index in Building and Construction (Seasonally Adjusted)\"],[\"Volume of Production Index in Building and Construction (Seasonally Adjusted)\"],[\"Volume of Production Index in Building and Construction (Seasonally Adjusted)\"],[\"Volume of Production Index in Building and Construction (Seasonally Adjusted)\"],[\"Volume of Production Index in Building and Construction (Seasonally Adjusted)\"],[\"Volume of Production Index in Building and Construction (Seasonally Adjusted)\"],[\"Volume of Production Index in Building and Construction (Seasonally Adjusted)\"],[\"Volume of Production Index in Building and Construction (Seasonally Adjusted)\"],[\"Volume of Production Index in Building and Construction (Seasonally Adjusted)\"],[\"Volume of Production Index in Building and Construction (Seasonally Adjusted)\"],[\"Volume of Production Index in Building and Construction (Seasonally Adjusted)\"],[\"Volume of Production Index in Building and Construction (Seasonally Adjusted)\"],[\"Volume of Production Index in Building and Construction (Seasonally Adjusted)\"],[\"Volume of Production Index in Building and Construction (Seasonally Adjusted)\"],[\"Volume of Production Index in Building and Construction (Seasonally Adjusted)\"],[\"Volume of Production Index in Building and Construction (Seasonally Adjusted)\"],[\"Volume of Production Index in Building and Construction (Seasonally Adjusted)\"],[\"Volume of Production Index in Building and Construction (Seasonally Adjusted)\"],[\"Volume of Production Index in Building and Construction (Seasonally Adjusted)\"],[\"Volume of Production Index in Building and Construction (Seasonally Adjusted)\"],[\"Volume of Production Index in Building and Construction (Seasonally Adjusted)\"],[\"Volume of Production Index in Building and Construction (Seasonally Adjusted)\"],[\"Volume of Production Index in Building and Construction (Seasonally Adjusted)\"],[\"Volume of Production Index in Building and Construction (Seasonally Adjusted)\"],[\"Volume of Production Index in Building and Construction (Seasonally Adjusted)\"],[\"Volume of Production Index in Building and Construction (Seasonally Adjusted)\"],[\"Volume of Production Index in Building and Construction (Seasonally Adjusted)\"],[\"Volume of Production Index in Building and Construction (Seasonally Adjusted)\"],[\"Volume of Production Index in Building and Construction (Seasonally Adjusted)\"],[\"Volume of Production Index in Building and Construction (Seasonally Adjusted)\"],[\"Volume of Production Index in Building and Construction (Seasonally Adjusted)\"],[\"Volume of Production Index in Building and Construction (Seasonally Adjusted)\"],[\"Volume of Production Index in Building and Construction (Seasonally Adjusted)\"],[\"Volume of Production Index in Building and Construction (Seasonally Adjusted)\"],[\"Volume of Production Index in Building and Construction (Seasonally Adjusted)\"],[\"Volume of Production Index in Building and Construction (Seasonally Adjusted)\"],[\"Volume of Production Index in Building and Construction (Seasonally Adjusted)\"],[\"Volume of Production Index in Building and Construction (Seasonally Adjusted)\"],[\"Volume of Production Index in Building and Construction (Seasonally Adjusted)\"],[\"Volume of Production Index in Building and Construction (Seasonally Adjusted)\"],[\"Volume of Production Index in Building and Construction (Seasonally Adjusted)\"],[\"Volume of Production Index in Building and Construction (Seasonally Adjusted)\"],[\"Volume of Production Index in Building and Construction (Seasonally Adjusted)\"],[\"Volume of Production Index in Building and Construction (Seasonally Adjusted)\"],[\"Volume of Production Index in Building and Construction (Seasonally Adjusted)\"],[\"Volume of Production Index in Building and Construction (Seasonally Adjusted)\"],[\"Volume of Production Index in Building and Construction (Seasonally Adjusted)\"],[\"Volume of Production Index in Building and Construction (Seasonally Adjusted)\"],[\"Volume of Production Index in Building and Construction (Seasonally Adjusted)\"],[\"Volume of Production Index in Building and Construction (Seasonally Adjusted)\"],[\"Volume of Production Index in Building and Construction (Seasonally Adjusted)\"],[\"Volume of Production Index in Building and Construction (Seasonally Adjusted)\"],[\"Volume of Production Index in Building and Construction (Seasonally Adjusted)\"],[\"Volume of Production Index in Building and Construction (Seasonally Adjusted)\"],[\"Volume of Production Index in Building and Construction (Seasonally Adjusted)\"],[\"Volume of Production Index in Building and Construction (Seasonally Adjusted)\"],[\"Volume of Production Index in Building and Construction (Seasonally Adjusted)\"],[\"Volume of Production Index in Building and Construction (Seasonally Adjusted)\"],[\"Volume of Production Index in Building and Construction (Seasonally Adjusted)\"],[\"Volume of Production Index in Building and Construction (Seasonally Adjusted)\"],[\"Volume of Production Index in Building and Construction (Seasonally Adjusted)\"],[\"Volume of Production Index in Building and Construction (Seasonally Adjusted)\"],[\"Volume of Production Index in Building and Construction (Seasonally Adjusted)\"],[\"Volume of Production Index in Building and Construction (Seasonally Adjusted)\"],[\"Volume of Production Index in Building and Construction (Seasonally Adjusted)\"],[\"Volume of Production Index in Building and Construction (Seasonally Adjusted)\"],[\"Volume of Production Index in Building and Construction (Seasonally Adjusted)\"],[\"Volume of Production Index in Building and Construction (Seasonally Adjusted)\"],[\"Volume of Production Index in Building and Construction (Seasonally Adjusted)\"],[\"Volume of Production Index in Building and Construction (Seasonally Adjusted)\"],[\"Volume of Production Index in Building and Construction (Seasonally Adjusted)\"],[\"Volume of Production Index in Building and Construction (Seasonally Adjusted)\"],[\"Volume of Production Index in Building and Construction (Seasonally Adjusted)\"],[\"Volume of Production Index in Building and Construction (Seasonally Adjusted)\"],[\"Volume of Production Index in Building and Construction (Seasonally Adjusted)\"],[\"Volume of Production Index in Building and Construction (Seasonally Adjusted)\"],[\"Volume of Production Index in Building and Construction (Seasonally Adjusted)\"],[\"Volume of Production Index in Building and Construction (Seasonally Adjusted)\"],[\"Volume of Production Index in Building and Construction (Seasonally Adjusted)\"],[\"Volume of Production Index in Building and Construction (Seasonally Adjusted)\"],[\"Volume of Production Index in Building and Construction (Seasonally Adjusted)\"],[\"Volume of Production Index in Building and Construction (Seasonally Adjusted)\"],[\"Volume of Production Index in Building and Construction (Seasonally Adjusted)\"],[\"Volume of Production Index in Building and Construction (Seasonally Adjusted)\"],[\"Volume of Production Index in Building and Construction (Seasonally Adjusted)\"],[\"Volume of Production Index in Building and Construction (Seasonally Adjusted)\"],[\"Volume of Production Index in Building and Construction (Seasonally Adjusted)\"],[\"Volume of Production Index in Building and Construction (Seasonally Adjusted)\"],[\"Volume of Production Index in Building and Construction (Seasonally Adjusted)\"],[\"Volume of Production Index in Building and Construction (Seasonally Adjusted)\"],[\"Volume of Production Index in Building and Construction (Seasonally Adjusted)\"],[\"Volume of Production Index in Building and Construction (Seasonally Adjusted)\"],[\"Volume of Production Index in Building and Construction (Seasonally Adjusted)\"],[\"Volume of Production Index in Building and Construction (Seasonally Adjusted)\"],[\"Volume of Production Index in Building and Construction (Seasonally Adjusted)\"],[\"Volume of Production Index in Building and Construction (Seasonally Adjusted)\"],[\"Volume of Production Index in Building and Construction (Seasonally Adjusted)\"],[\"Volume of Production Index in Building and Construction (Seasonally Adjusted)\"],[\"Volume of Production Index in Building and Construction (Seasonally Adjusted)\"],[\"Volume of Production Index in Building and Construction (Seasonally Adjusted)\"],[\"Volume of Production Index in Building and Construction (Seasonally Adjusted)\"],[\"Volume of Production Index in Building and Construction (Seasonally Adjusted)\"],[\"Volume of Production Index in Building and Construction (Seasonally Adjusted)\"],[\"Volume of Production Index in Building and Construction (Seasonally Adjusted)\"],[\"Volume of Production Index in Building and Construction (Seasonally Adjusted)\"],[\"Volume of Production Index in Building and Construction (Seasonally Adjusted)\"],[\"Volume of Production Index in Building and Construction (Seasonally Adjusted)\"],[\"Volume of Production Index in Building and Construction (Seasonally Adjusted)\"],[\"Volume of Production Index in Building and Construction (Seasonally Adjusted)\"],[\"Volume of Production Index in Building and Construction (Seasonally Adjusted)\"],[\"Volume of Production Index in Building and Construction (Seasonally Adjusted)\"],[\"Volume of Production Index in Building and Construction (Seasonally Adjusted)\"],[\"Volume of Production Index in Building and Construction (Seasonally Adjusted)\"],[\"Volume of Production Index in Building and Construction (Seasonally Adjusted)\"],[\"Volume of Production Index in Building and Construction (Seasonally Adjusted)\"],[\"Volume of Production Index in Building and Construction (Seasonally Adjusted)\"],[\"Volume of Production Index in Building and Construction (Seasonally Adjusted)\"],[\"Volume of Production Index in Building and Construction (Seasonally Adjusted)\"],[\"Volume of Production Index in Building and Construction (Seasonally Adjusted)\"],[\"Volume of Production Index in Building and Construction (Seasonally Adjusted)\"],[\"Volume of Production Index in Building and Construction (Seasonally Adjusted)\"],[\"Volume of Production Index in Building and Construction (Seasonally Adjusted)\"],[\"Volume of Production Index in Building and Construction (Seasonally Adjusted)\"],[\"Volume of Production Index in Building and Construction (Seasonally Adjusted)\"],[\"Volume of Production Index in Building and Construction (Seasonally Adjusted)\"],[\"Volume of Production Index in Building and Construction (Seasonally Adjusted)\"],[\"Volume of Production Index in Building and Construction (Seasonally Adjusted)\"],[\"Volume of Production Index in Building and Construction (Seasonally Adjusted)\"],[\"Volume of Production Index in Building and Construction (Seasonally Adjusted)\"],[\"Volume of Production Index in Building and Construction (Seasonally Adjusted)\"],[\"Volume of Production Index in Building and Construction (Seasonally Adjusted)\"],[\"Volume of Production Index in Building and Construction (Seasonally Adjusted)\"],[\"Volume of Production Index in Building and Construction (Seasonally Adjusted)\"],[\"Volume of Production Index in Building and Construction (Seasonally Adjusted)\"],[\"Volume of Production Index in Building and Construction (Seasonally Adjusted)\"],[\"Volume of Production Index in Building and Construction (Seasonally Adjusted)\"],[\"Volume of Production Index in Building and Construction (Seasonally Adjusted)\"],[\"Volume of Production Index in Building and Construction (Seasonally Adjusted)\"],[\"Volume of Production Index in Building and Construction (Seasonally Adjusted)\"],[\"Volume of Production Index in Building and Construction (Seasonally Adjusted)\"],[\"Volume of Production Index in Building and Construction (Seasonally Adjusted)\"],[\"Volume of Production Index in Building and Construction (Seasonally Adjusted)\"],[\"Volume of Production Index in Building and Construction (Seasonally Adjusted)\"],[\"Volume of Production Index in Building and Construction (Seasonally Adjusted)\"],[\"Volume of Production Index in Building and Construction (Seasonally Adjusted)\"],[\"Volume of Production Index in Building and Construction (Seasonally Adjusted)\"],[\"Volume of Production Index in Building and Construction (Seasonally Adjusted)\"],[\"Volume of Production Index in Building and Construction (Seasonally Adjusted)\"],[\"Volume of Production Index in Building and Construction (Seasonally Adjusted)\"],[\"Volume of Production Index in Building and Construction (Seasonally Adjusted)\"],[\"Volume of Production Index in Building and Construction (Seasonally Adjusted)\"],[\"Volume of Production Index in Building and Construction (Seasonally Adjusted)\"],[\"Volume of Production Index in Building and Construction (Seasonally Adjusted)\"],[\"Volume of Production Index in Building and Construction (Seasonally Adjusted)\"],[\"Volume of Production Index in Building and Construction (Seasonally Adjusted)\"],[\"Volume of Production Index in Building and Construction (Seasonally Adjusted)\"],[\"Volume of Production Index in Building and Construction (Seasonally Adjusted)\"],[\"Volume of Production Index in Building and Construction (Seasonally Adjusted)\"],[\"Volume of Production Index in Building and Construction (Seasonally Adjusted)\"],[\"Volume of Production Index in Building and Construction (Seasonally Adjusted)\"],[\"Volume of Production Index in Building and Construction (Seasonally Adjusted)\"],[\"Volume of Production Index in Building and Construction (Seasonally Adjusted)\"],[\"Volume of Production Index in Building and Construction (Seasonally Adjusted)\"],[\"Volume of Production Index in Building and Construction (Seasonally Adjusted)\"],[\"Volume of Production Index in Building and Construction (Seasonally Adjusted)\"],[\"Volume of Production Index in Building and Construction (Seasonally Adjusted)\"],[\"Volume of Production Index in Building and Construction (Seasonally Adjusted)\"],[\"Volume of Production Index in Building and Construction (Seasonally Adjusted)\"],[\"Volume of Production Index in Building and Construction (Seasonally Adjusted)\"],[\"Volume of Production Index in Building and Construction (Seasonally Adjusted)\"],[\"Volume of Production Index in Building and Construction (Seasonally Adjusted)\"],[\"Volume of Production Index in Building and Construction (Seasonally Adjusted)\"],[\"Volume of Production Index in Building and Construction (Seasonally Adjusted)\"],[\"Volume of Production Index in Building and Construction (Seasonally Adjusted)\"],[\"Volume of Production Index in Building and Construction (Seasonally Adjusted)\"],[\"Volume of Production Index in Building and Construction (Seasonally Adjusted)\"],[\"Volume of Production Index in Building and Construction (Seasonally Adjusted)\"],[\"Volume of Production Index in Building and Construction (Seasonally Adjusted)\"],[\"Volume of Production Index in Building and Construction (Seasonally Adjusted)\"],[\"Volume of Production Index in Building and Construction (Seasonally Adjusted)\"],[\"Volume of Production Index in Building and Construction (Seasonally Adjusted)\"],[\"Volume of Production Index in Building and Construction (Seasonally Adjusted)\"],[\"Volume of Production Index in Building and Construction (Seasonally Adjusted)\"],[\"Volume of Production Index in Building and Construction (Seasonally Adjusted)\"],[\"Volume of Production Index in Building and Construction (Seasonally Adjusted)\"],[\"Volume of Production Index in Building and Construction (Seasonally Adjusted)\"],[\"Volume of Production Index in Building and Construction (Seasonally Adjusted)\"],[\"Volume of Production Index in Building and Construction (Seasonally Adjusted)\"],[\"Volume of Production Index in Building and Construction (Seasonally Adjusted)\"],[\"Volume of Production Index in Building and Construction (Seasonally Adjusted)\"],[\"Volume of Production Index in Building and Construction (Seasonally Adjusted)\"],[\"Volume of Production Index in Building and Construction (Seasonally Adjusted)\"],[\"Volume of Production Index in Building and Construction (Seasonally Adjusted)\"],[\"Volume of Production Index in Building and Construction (Seasonally Adjusted)\"],[\"Volume of Production Index in Building and Construction (Seasonally Adjusted)\"],[\"Volume of Production Index in Building and Construction (Seasonally Adjusted)\"],[\"Volume of Production Index in Building and Construction (Seasonally Adjusted)\"],[\"Volume of Production Index in Building and Construction (Seasonally Adjusted)\"],[\"Volume of Production Index in Building and Construction (Seasonally Adjusted)\"],[\"Volume of Production Index in Building and Construction (Seasonally Adjusted)\"],[\"Volume of Production Index in Building and Construction (Seasonally Adjusted)\"],[\"Volume of Production Index in Building and Construction (Seasonally Adjusted)\"],[\"Volume of Production Index in Building and Construction (Seasonally Adjusted)\"],[\"Volume of Production Index in Building and Construction (Seasonally Adjusted)\"],[\"Volume of Production Index in Building and Construction (Seasonally Adjusted)\"],[\"Volume of Production Index in Building and Construction (Seasonally Adjusted)\"],[\"Volume of Production Index in Building and Construction (Seasonally Adjusted)\"],[\"Volume of Production Index in Building and Construction (Seasonally Adjusted)\"],[\"Volume of Production Index in Building and Construction (Seasonally Adjusted)\"],[\"Volume of Production Index in Building and Construction (Seasonally Adjusted)\"],[\"Volume of Production Index in Building and Construction (Seasonally Adjusted)\"],[\"Volume of Production Index in Building and Construction (Seasonally Adjusted)\"],[\"Volume of Production Index in Building and Construction (Seasonally Adjusted)\"],[\"Volume of Production Index in Building and Construction (Seasonally Adjusted)\"],[\"Volume of Production Index in Building and Construction (Seasonally Adjusted)\"],[\"Volume of Production Index in Building and Construction (Seasonally Adjusted)\"],[\"Volume of Production Index in Building and Construction (Seasonally Adjusted)\"],[\"Volume of Production Index in Building and Construction (Seasonally Adjusted)\"],[\"Volume of Production Index in Building and Construction (Seasonally Adjusted)\"],[\"Volume of Production Index in Building and Construction (Seasonally Adjusted)\"],[\"Volume of Production Index in Building and Construction (Seasonally Adjusted)\"],[\"Volume of Production Index in Building and Construction (Seasonally Adjusted)\"],[\"Volume of Production Index in Building and Construction (Seasonally Adjusted)\"],[\"Volume of Production Index in Building and Construction (Seasonally Adjusted)\"],[\"Volume of Production Index in Building and Construction (Seasonally Adjusted)\"],[\"Volume of Production Index in Building and Construction (Seasonally Adjusted)\"],[\"Volume of Production Index in Building and Construction (Seasonally Adjusted)\"],[\"Volume of Production Index in Building and Construction (Seasonally Adjusted)\"],[\"Volume of Production Index in Building and Construction (Seasonally Adjusted)\"],[\"Volume of Production Index in Building and Construction (Seasonally Adjusted)\"],[\"Volume of Production Index in Building and Construction (Seasonally Adjusted)\"],[\"Volume of Production Index in Building and Construction (Seasonally Adjusted)\"],[\"Volume of Production Index in Building and Construction (Seasonally Adjusted)\"],[\"Volume of Production Index in Building and Construction (Seasonally Adjusted)\"],[\"Volume of Production Index in Building and Construction (Seasonally Adjusted)\"],[\"Volume of Production Index in Building and Construction (Seasonally Adjusted)\"],[\"Volume of Production Index in Building and Construction (Seasonally Adjusted)\"],[\"Volume of Production Index in Building and Construction (Seasonally Adjusted)\"],[\"Volume of Production Index in Building and Construction (Seasonally Adjusted)\"],[\"Volume of Production Index in Building and Construction (Seasonally Adjusted)\"],[\"Volume of Production Index in Building and Construction (Seasonally Adjusted)\"],[\"Volume of Production Index in Building and Construction (Seasonally Adjusted)\"],[\"Volume of Production Index in Building and Construction (Seasonally Adjusted)\"],[\"Volume of Production Index in Building and Construction (Seasonally Adjusted)\"],[\"Volume of Production Index in Building and Construction (Seasonally Adjusted)\"],[\"Volume of Production Index in Building and Construction (Seasonally Adjusted)\"],[\"Volume of Production Index in Building and Construction (Seasonally Adjusted)\"],[\"Volume of Production Index in Building and Construction (Seasonally Adjusted)\"],[\"Volume of Production Index in Building and Construction (Seasonally Adjusted)\"],[\"Volume of Production Index in Building and Construction (Seasonally Adjusted)\"],[\"Volume of Production Index in Building and Construction (Seasonally Adjusted)\"],[\"Volume of Production Index in Building and Construction (Seasonally Adjusted)\"],[\"Volume of Production Index in Building and Construction (Seasonally Adjusted)\"],[\"Volume of Production Index in Building and Construction (Seasonally Adjusted)\"],[\"Volume of Production Index in Building and Construction (Seasonally Adjusted)\"],[\"Volume of Production Index in Building and Construction (Seasonally Adjusted)\"],[\"Volume of Production Index in Building and Construction (Seasonally Adjusted)\"],[\"Volume of Production Index in Building and Construction (Seasonally Adjusted)\"],[\"Volume of Production Index in Building and Construction (Seasonally Adjusted)\"],[\"Volume of Production Index in Building and Construction (Seasonally Adjusted)\"],[\"Volume of Production Index in Building and Construction (Seasonally Adjusted)\"],[\"Volume of Production Index in Building and Construction (Seasonally Adjusted)\"],[\"Volume of Production Index in Building and Construction (Seasonally Adjusted)\"],[\"Volume of Production Index in Building and Construction (Seasonally Adjusted)\"],[\"Volume of Production Index in Building and Construction (Seasonally Adjusted)\"],[\"Volume of Production Index in Building and Construction (Seasonally Adjusted)\"],[\"Volume of Production Index in Building and Construction (Seasonally Adjusted)\"],[\"Volume of Production Index in Building and Construction (Seasonally Adjusted)\"],[\"Volume of Production Index in Building and Construction (Seasonally Adjusted)\"],[\"Volume of Production Index in Building and Construction (Seasonally Adjusted)\"],[\"Volume of Production Index in Building and Construction (Seasonally Adjusted)\"],[\"Volume of Production Index in Building and Construction (Seasonally Adjusted)\"],[\"Volume of Production Index in Building and Construction (Seasonally Adjusted)\"],[\"Volume of Production Index in Building and Construction (Seasonally Adjusted)\"],[\"Volume of Production Index in Building and Construction (Seasonally Adjusted)\"],[\"Volume of Production Index in Building and Construction (Seasonally Adjusted)\"],[\"Volume of Production Index in Building and Construction (Seasonally Adjusted)\"],[\"Volume of Production Index in Building and Construction (Seasonally Adjusted)\"],[\"Volume of Production Index in Building and Construction (Seasonally Adjusted)\"],[\"Volume of Production Index in Building and Construction (Seasonally Adjusted)\"],[\"Volume of Production Index in Building and Construction (Seasonally Adjusted)\"],[\"Volume of Production Index in Building and Construction (Seasonally Adjusted)\"],[\"Volume of Production Index in Building and Construction (Seasonally Adjusted)\"],[\"Volume of Production Index in Building and Construction (Seasonally Adjusted)\"],[\"Volume of Production Index in Building and Construction (Seasonally Adjusted)\"],[\"Volume of Production Index in Building and Construction (Seasonally Adjusted)\"],[\"Volume of Production Index in Building and Construction (Seasonally Adjusted)\"],[\"Volume of Production Index in Building and Construction (Seasonally Adjusted)\"],[\"Volume of Production Index in Building and Construction (Seasonally Adjusted)\"],[\"Volume of Production Index in Building and Construction (Seasonally Adjusted)\"]],\"hovertemplate\":\"STATISTIC=BEQ04C04<br>Quarter=%{x}<br>VALUE=%{y}<br>Statistic Label=%{customdata[0]}<extra></extra>\",\"legendgroup\":\"BEQ04C04\",\"line\":{\"color\":\"#ab63fa\",\"dash\":\"solid\"},\"marker\":{\"symbol\":\"circle\"},\"mode\":\"lines\",\"name\":\"BEQ04C04\",\"showlegend\":true,\"x\":[\"2000Q1\",\"2000Q1\",\"2000Q1\",\"2000Q1\",\"2000Q1\",\"2000Q2\",\"2000Q2\",\"2000Q2\",\"2000Q2\",\"2000Q2\",\"2000Q3\",\"2000Q3\",\"2000Q3\",\"2000Q3\",\"2000Q3\",\"2000Q4\",\"2000Q4\",\"2000Q4\",\"2000Q4\",\"2000Q4\",\"2001Q1\",\"2001Q1\",\"2001Q1\",\"2001Q1\",\"2001Q1\",\"2001Q2\",\"2001Q2\",\"2001Q2\",\"2001Q2\",\"2001Q2\",\"2001Q3\",\"2001Q3\",\"2001Q3\",\"2001Q3\",\"2001Q3\",\"2001Q4\",\"2001Q4\",\"2001Q4\",\"2001Q4\",\"2001Q4\",\"2002Q1\",\"2002Q1\",\"2002Q1\",\"2002Q1\",\"2002Q1\",\"2002Q2\",\"2002Q2\",\"2002Q2\",\"2002Q2\",\"2002Q2\",\"2002Q3\",\"2002Q3\",\"2002Q3\",\"2002Q3\",\"2002Q3\",\"2002Q4\",\"2002Q4\",\"2002Q4\",\"2002Q4\",\"2002Q4\",\"2003Q1\",\"2003Q1\",\"2003Q1\",\"2003Q1\",\"2003Q1\",\"2003Q2\",\"2003Q2\",\"2003Q2\",\"2003Q2\",\"2003Q2\",\"2003Q3\",\"2003Q3\",\"2003Q3\",\"2003Q3\",\"2003Q3\",\"2003Q4\",\"2003Q4\",\"2003Q4\",\"2003Q4\",\"2003Q4\",\"2004Q1\",\"2004Q1\",\"2004Q1\",\"2004Q1\",\"2004Q1\",\"2004Q2\",\"2004Q2\",\"2004Q2\",\"2004Q2\",\"2004Q2\",\"2004Q3\",\"2004Q3\",\"2004Q3\",\"2004Q3\",\"2004Q3\",\"2004Q4\",\"2004Q4\",\"2004Q4\",\"2004Q4\",\"2004Q4\",\"2005Q1\",\"2005Q1\",\"2005Q1\",\"2005Q1\",\"2005Q1\",\"2005Q2\",\"2005Q2\",\"2005Q2\",\"2005Q2\",\"2005Q2\",\"2005Q3\",\"2005Q3\",\"2005Q3\",\"2005Q3\",\"2005Q3\",\"2005Q4\",\"2005Q4\",\"2005Q4\",\"2005Q4\",\"2005Q4\",\"2006Q1\",\"2006Q1\",\"2006Q1\",\"2006Q1\",\"2006Q1\",\"2006Q2\",\"2006Q2\",\"2006Q2\",\"2006Q2\",\"2006Q2\",\"2006Q3\",\"2006Q3\",\"2006Q3\",\"2006Q3\",\"2006Q3\",\"2006Q4\",\"2006Q4\",\"2006Q4\",\"2006Q4\",\"2006Q4\",\"2007Q1\",\"2007Q1\",\"2007Q1\",\"2007Q1\",\"2007Q1\",\"2007Q2\",\"2007Q2\",\"2007Q2\",\"2007Q2\",\"2007Q2\",\"2007Q3\",\"2007Q3\",\"2007Q3\",\"2007Q3\",\"2007Q3\",\"2007Q4\",\"2007Q4\",\"2007Q4\",\"2007Q4\",\"2007Q4\",\"2008Q1\",\"2008Q1\",\"2008Q1\",\"2008Q1\",\"2008Q1\",\"2008Q2\",\"2008Q2\",\"2008Q2\",\"2008Q2\",\"2008Q2\",\"2008Q3\",\"2008Q3\",\"2008Q3\",\"2008Q3\",\"2008Q3\",\"2008Q4\",\"2008Q4\",\"2008Q4\",\"2008Q4\",\"2008Q4\",\"2009Q1\",\"2009Q1\",\"2009Q1\",\"2009Q1\",\"2009Q1\",\"2009Q2\",\"2009Q2\",\"2009Q2\",\"2009Q2\",\"2009Q2\",\"2009Q3\",\"2009Q3\",\"2009Q3\",\"2009Q3\",\"2009Q3\",\"2009Q4\",\"2009Q4\",\"2009Q4\",\"2009Q4\",\"2009Q4\",\"2010Q1\",\"2010Q1\",\"2010Q1\",\"2010Q1\",\"2010Q1\",\"2010Q2\",\"2010Q2\",\"2010Q2\",\"2010Q2\",\"2010Q2\",\"2010Q3\",\"2010Q3\",\"2010Q3\",\"2010Q3\",\"2010Q3\",\"2010Q4\",\"2010Q4\",\"2010Q4\",\"2010Q4\",\"2010Q4\",\"2011Q1\",\"2011Q1\",\"2011Q1\",\"2011Q1\",\"2011Q1\",\"2011Q2\",\"2011Q2\",\"2011Q2\",\"2011Q2\",\"2011Q2\",\"2011Q3\",\"2011Q3\",\"2011Q3\",\"2011Q3\",\"2011Q3\",\"2011Q4\",\"2011Q4\",\"2011Q4\",\"2011Q4\",\"2011Q4\",\"2012Q1\",\"2012Q1\",\"2012Q1\",\"2012Q1\",\"2012Q1\",\"2012Q2\",\"2012Q2\",\"2012Q2\",\"2012Q2\",\"2012Q2\",\"2012Q3\",\"2012Q3\",\"2012Q3\",\"2012Q3\",\"2012Q3\",\"2012Q4\",\"2012Q4\",\"2012Q4\",\"2012Q4\",\"2012Q4\",\"2013Q1\",\"2013Q1\",\"2013Q1\",\"2013Q1\",\"2013Q1\",\"2013Q2\",\"2013Q2\",\"2013Q2\",\"2013Q2\",\"2013Q2\",\"2013Q3\",\"2013Q3\",\"2013Q3\",\"2013Q3\",\"2013Q3\",\"2013Q4\",\"2013Q4\",\"2013Q4\",\"2013Q4\",\"2013Q4\",\"2014Q1\",\"2014Q1\",\"2014Q1\",\"2014Q1\",\"2014Q1\",\"2014Q2\",\"2014Q2\",\"2014Q2\",\"2014Q2\",\"2014Q2\",\"2014Q3\",\"2014Q3\",\"2014Q3\",\"2014Q3\",\"2014Q3\",\"2014Q4\",\"2014Q4\",\"2014Q4\",\"2014Q4\",\"2014Q4\",\"2015Q1\",\"2015Q1\",\"2015Q1\",\"2015Q1\",\"2015Q1\",\"2015Q2\",\"2015Q2\",\"2015Q2\",\"2015Q2\",\"2015Q2\",\"2015Q3\",\"2015Q3\",\"2015Q3\",\"2015Q3\",\"2015Q3\",\"2015Q4\",\"2015Q4\",\"2015Q4\",\"2015Q4\",\"2015Q4\",\"2016Q1\",\"2016Q1\",\"2016Q1\",\"2016Q1\",\"2016Q1\",\"2016Q2\",\"2016Q2\",\"2016Q2\",\"2016Q2\",\"2016Q2\",\"2016Q3\",\"2016Q3\",\"2016Q3\",\"2016Q3\",\"2016Q3\",\"2016Q4\",\"2016Q4\",\"2016Q4\",\"2016Q4\",\"2016Q4\",\"2017Q1\",\"2017Q1\",\"2017Q1\",\"2017Q1\",\"2017Q1\",\"2017Q2\",\"2017Q2\",\"2017Q2\",\"2017Q2\",\"2017Q2\",\"2017Q3\",\"2017Q3\",\"2017Q3\",\"2017Q3\",\"2017Q3\",\"2017Q4\",\"2017Q4\",\"2017Q4\",\"2017Q4\",\"2017Q4\",\"2018Q1\",\"2018Q1\",\"2018Q1\",\"2018Q1\",\"2018Q1\",\"2018Q2\",\"2018Q2\",\"2018Q2\",\"2018Q2\",\"2018Q2\",\"2018Q3\",\"2018Q3\",\"2018Q3\",\"2018Q3\",\"2018Q3\",\"2018Q4\",\"2018Q4\",\"2018Q4\",\"2018Q4\",\"2018Q4\",\"2019Q1\",\"2019Q1\",\"2019Q1\",\"2019Q1\",\"2019Q1\",\"2019Q2\",\"2019Q2\",\"2019Q2\",\"2019Q2\",\"2019Q2\",\"2019Q3\",\"2019Q3\",\"2019Q3\",\"2019Q3\",\"2019Q3\",\"2019Q4\",\"2019Q4\",\"2019Q4\",\"2019Q4\",\"2019Q4\",\"2020Q1\",\"2020Q1\",\"2020Q1\",\"2020Q1\",\"2020Q1\",\"2020Q2\",\"2020Q2\",\"2020Q2\",\"2020Q2\",\"2020Q2\",\"2020Q3\",\"2020Q3\",\"2020Q3\",\"2020Q3\",\"2020Q3\",\"2020Q4\",\"2020Q4\",\"2020Q4\",\"2020Q4\",\"2020Q4\",\"2021Q1\",\"2021Q1\",\"2021Q1\",\"2021Q1\",\"2021Q1\",\"2021Q2\",\"2021Q2\",\"2021Q2\",\"2021Q2\",\"2021Q2\",\"2021Q3\",\"2021Q3\",\"2021Q3\",\"2021Q3\",\"2021Q3\",\"2021Q4\",\"2021Q4\",\"2021Q4\",\"2021Q4\",\"2021Q4\",\"2022Q1\",\"2022Q1\",\"2022Q1\",\"2022Q1\",\"2022Q1\",\"2022Q2\",\"2022Q2\",\"2022Q2\",\"2022Q2\",\"2022Q2\",\"2022Q3\",\"2022Q3\",\"2022Q3\",\"2022Q3\",\"2022Q3\",\"2022Q4\",\"2022Q4\",\"2022Q4\",\"2022Q4\",\"2022Q4\"],\"xaxis\":\"x\",\"y\":[216.612216968824,281.721068185939,475.919802588304,147.593342961596,82.7018335360889,218.514304670204,283.861875986608,475.663376784305,148.472401709595,84.5758339744766,220.424981423259,283.018909882077,475.745041760254,148.70906806679,87.705318273011,218.552401547237,276.327141099137,460.709555246744,148.674556537184,93.0884101130893,222.520017423678,283.152739098274,482.642602384627,145.341828291778,94.0331420229167,227.320775695543,290.265565598132,496.933019036105,143.43614084105,96.1154270934832,222.857877172333,281.027264722167,481.661422718335,140.234627493554,97.0371070719425,231.451260691535,289.849564819816,503.179005820756,139.69802987649,103.165592309102,230.6850514844,282.185621855267,484.229983083124,136.703354371093,111.338875848827,218.545712048414,267.94453863907,466.58660952766,132.498398724659,113.138912290546,236.515426776735,291.252917884722,517.461644345415,130.800762596778,114.257330421709,237.540855259293,294.176086453091,529.304225412561,126.288032637972,111.159254775385,234.787780085271,290.448682046385,532.135226401055,125.2029957106,112.648668675908,235.392781938062,291.848061843967,524.364525458639,121.943496746198,112.692134070732,258.979609237058,326.470944086634,610.395226849295,122.600926728152,112.936342281102,246.27245555481,303.290373365891,553.235648703622,122.98002897208,117.611321848207,311.237401451428,397.852951858335,772.945499910806,138.144245575059,122.442921308088,318.015561740474,403.463405197257,766.579208902035,140.952098869672,134.013806806965,296.95036534273,370.474997474972,688.130609625867,143.977700094795,134.874409359164,296.882985363274,373.157474820212,702.419850543995,134.45615096504,125.813577713564,317.195234770268,403.626230074434,783.366729044907,136.798969809671,124.801440055928,334.055757605004,428.132619622133,828.047661806037,146.299353135395,134.343869476132,345.994563276394,430.512981686148,820.014290632255,152.061539025975,160.147098067933,342.571259255442,424.209389233904,783.988070172919,162.011535540051,158.747025869345,354.080313987881,441.813627006599,855.495276355555,165.082443580427,163.895457221717,342.502520618624,429.299017962285,798.159828496387,157.769264266787,155.9707018972,334.711107527821,414.065567602135,779.881580017551,151.474868767707,159.550571061508,360.124470976566,442.693448631178,835.044127876168,157.994359257115,172.368831139327,319.011377109478,384.141222246145,712.001304616247,160.697085660208,175.526435798503,318.867328583766,390.535508086513,707.272835287567,160.666424680679,172.695638773484,289.142050805598,343.96409483343,599.414431627303,160.053153799729,164.919308931094,278.697711890575,326.531480341478,563.742797489469,157.596809903381,168.254866251199,250.661749364015,288.236813906899,469.117482430169,158.723024962236,166.387735042256,226.534256560333,258.116749884929,396.218399558853,158.703134216386,170.454162094581,204.182652765632,223.029641939659,323.050035511489,151.172893133373,157.197084948368,175.718787391349,188.562260306744,243.09794368263,153.972570496791,146.23683631643,158.964227786411,164.558410867421,200.234162076157,137.549264699209,148.525515709472,141.359775520399,142.843897544093,159.245429122082,127.475274112256,144.41488310056,129.600338714033,122.871069296463,128.890714032804,118.265370910372,139.073270526844,111.569700009968,105.50378563059,112.144879815416,102.08712735169,126.326627311218,102.976733681559,94.4102867264591,99.7386492487822,89.8740221677328,121.899958952291,98.923209952848,88.162793013323,96.4915347542008,81.7672907512529,128.10549862667,91.182532933051,89.2432977188245,92.8317757940106,86.0365375757944,91.0633985901992,86.2497673256749,84.5843967638029,84.0774016479536,84.9924731375669,92.7207119317126,78.4952518753756,79.0757918779463,75.126793075666,84.1409761674263,77.2475814871224,77.4458869414711,77.458774601422,66.7079162786621,84.9973183552286,77.7682618050412,79.0656707858314,75.7120300856536,63.3424388758365,85.3714102361941,83.07284736463,79.6351278527149,75.9928733238759,66.9009423408006,82.5767443868973,91.8435264588313,79.2309301243351,72.4519408081571,63.9903937202247,80.6499689944136,93.5287041487048,73.4453682882164,67.4437030541847,58.845799408141,75.176714111077,87.2762132208918,74.6512819195484,66.9225662347836,59.2576968841831,72.1068929072577,89.3276439255211,80.1618045368735,67.2699739984882,56.6561588032317,73.6604342926956,114.586423211249,80.7895823424428,72.1559505110744,68.6008319610024,76.7927656761482,97.510589059319,82.1352456445723,75.6427949010818,65.4374979157631,84.9379181832998,98.1907639444666,89.4771120663266,81.2770221271963,64.0768342382087,94.6274361190664,105.796067478375,89.3914836441102,85.1763250042357,65.8857598986284,101.550302178274,102.111284794073,87.6502423137406,83.3729906543591,65.329810692201,99.4704121113897,96.5896032497163,94.1068356961412,84.926075997031,71.260305998237,94.1766064014177,115.28081243685,94.4856141464855,88.7943686369796,80.2697489201919,94.424312593949,105.658441986518,94.7361912785666,92.9218752427854,91.8091217184677,94.8864136498247,99.2409397248584,101.791253307441,100.02420716476,98.1693462737856,100.860557863816,103.842099153869,102.110147167765,102.937351775696,101.685123943394,104.137052457381,105.662845600972,96.3955465345055,96.9328052167037,100.725215251802,94.6680287416172,93.6933658965769,100.624121487852,100.452367044988,100.017987956321,100.157543408014,98.0526896608642,101.70752978896,102.42680467814,114.187009100258,101.679470153333,95.7255150076829,109.013703760924,110.60615892274,129.793590621234,108.564928949069,107.925303967213,114.191644707832,116.149277797865,124.040241398871,113.526691405192,106.11210952072,113.550362240614,115.1016674704,126.543617222256,113.811958508888,101.872878328643,122.438499974289,127.100958782801,131.311894141099,127.838682400518,104.260424858665,121.592007005663,126.244161817061,139.552390647982,121.946380668039,100.324100242913,122.628755757627,126.056415405311,154.243367596669,120.500152137193,109.112816390303,129.55343675968,132.322674060507,149.113468310814,131.122746708204,112.683140746852,134.368427408164,137.461086813846,148.011962783289,135.683570246904,117.619531859627,134.086914232649,141.708086102669,143.489874454163,140.185345864057,104.379069562896,137.219626968528,141.361359610818,138.959575759536,141.591960229731,122.179535145924,141.165695258632,142.552997200234,138.671216874347,145.112536451672,129.206668493473,140.85092378729,145.356710053389,147.888668938971,147.494936307202,115.771083259712,141.808645002649,147.943767724442,158.280886900355,140.887182683096,121.809839592723,144.700232408771,153.681611307457,164.289366663213,152.790905317349,108.58141711595,150.291338225523,158.131857013677,170.324073564407,159.554061666093,106.355467378998,159.11251280498,164.965502507303,162.542554221853,165.606890936774,120.552608340837,95.2771036954311,104.929612289381,80.8940309808664,105.215717091603,62.0027967745208,132.682269961636,141.743411535912,129.648838883395,144.30044518027,96.1979386310656,140.315499775655,145.558652917818,130.285134572205,150.480810854753,105.550477488785,110.013982133974,111.802866725024,75.9558267133054,121.299862702051,90.3793261647292,123.113773480618,130.003627478648,106.954544056247,130.321545103885,111.079782093398,131.796585030578,137.471513863891,126.199309944835,139.720439473084,110.909427117239,140.611706464228,142.748410798653,130.304998165638,146.9554641455,117.604954586579,135.517775736687,140.325287522478,127.666849720318,144.703602167704,103.706494965765,131.527911506066,141.115026719217,120.649474449986,139.313666344214,103.710875987338,129.13562563825,134.75014955222,106.337643474394,139.497577482028,108.505730003522,125.102538659772,126.742284675438,108.239692954312,130.098152787211,106.36823711804],\"yaxis\":\"y\",\"type\":\"scattergl\"}],                        {\"template\":{\"data\":{\"histogram2dcontour\":[{\"type\":\"histogram2dcontour\",\"colorbar\":{\"outlinewidth\":0,\"ticks\":\"\"},\"colorscale\":[[0.0,\"#0d0887\"],[0.1111111111111111,\"#46039f\"],[0.2222222222222222,\"#7201a8\"],[0.3333333333333333,\"#9c179e\"],[0.4444444444444444,\"#bd3786\"],[0.5555555555555556,\"#d8576b\"],[0.6666666666666666,\"#ed7953\"],[0.7777777777777778,\"#fb9f3a\"],[0.8888888888888888,\"#fdca26\"],[1.0,\"#f0f921\"]]}],\"choropleth\":[{\"type\":\"choropleth\",\"colorbar\":{\"outlinewidth\":0,\"ticks\":\"\"}}],\"histogram2d\":[{\"type\":\"histogram2d\",\"colorbar\":{\"outlinewidth\":0,\"ticks\":\"\"},\"colorscale\":[[0.0,\"#0d0887\"],[0.1111111111111111,\"#46039f\"],[0.2222222222222222,\"#7201a8\"],[0.3333333333333333,\"#9c179e\"],[0.4444444444444444,\"#bd3786\"],[0.5555555555555556,\"#d8576b\"],[0.6666666666666666,\"#ed7953\"],[0.7777777777777778,\"#fb9f3a\"],[0.8888888888888888,\"#fdca26\"],[1.0,\"#f0f921\"]]}],\"heatmap\":[{\"type\":\"heatmap\",\"colorbar\":{\"outlinewidth\":0,\"ticks\":\"\"},\"colorscale\":[[0.0,\"#0d0887\"],[0.1111111111111111,\"#46039f\"],[0.2222222222222222,\"#7201a8\"],[0.3333333333333333,\"#9c179e\"],[0.4444444444444444,\"#bd3786\"],[0.5555555555555556,\"#d8576b\"],[0.6666666666666666,\"#ed7953\"],[0.7777777777777778,\"#fb9f3a\"],[0.8888888888888888,\"#fdca26\"],[1.0,\"#f0f921\"]]}],\"heatmapgl\":[{\"type\":\"heatmapgl\",\"colorbar\":{\"outlinewidth\":0,\"ticks\":\"\"},\"colorscale\":[[0.0,\"#0d0887\"],[0.1111111111111111,\"#46039f\"],[0.2222222222222222,\"#7201a8\"],[0.3333333333333333,\"#9c179e\"],[0.4444444444444444,\"#bd3786\"],[0.5555555555555556,\"#d8576b\"],[0.6666666666666666,\"#ed7953\"],[0.7777777777777778,\"#fb9f3a\"],[0.8888888888888888,\"#fdca26\"],[1.0,\"#f0f921\"]]}],\"contourcarpet\":[{\"type\":\"contourcarpet\",\"colorbar\":{\"outlinewidth\":0,\"ticks\":\"\"}}],\"contour\":[{\"type\":\"contour\",\"colorbar\":{\"outlinewidth\":0,\"ticks\":\"\"},\"colorscale\":[[0.0,\"#0d0887\"],[0.1111111111111111,\"#46039f\"],[0.2222222222222222,\"#7201a8\"],[0.3333333333333333,\"#9c179e\"],[0.4444444444444444,\"#bd3786\"],[0.5555555555555556,\"#d8576b\"],[0.6666666666666666,\"#ed7953\"],[0.7777777777777778,\"#fb9f3a\"],[0.8888888888888888,\"#fdca26\"],[1.0,\"#f0f921\"]]}],\"surface\":[{\"type\":\"surface\",\"colorbar\":{\"outlinewidth\":0,\"ticks\":\"\"},\"colorscale\":[[0.0,\"#0d0887\"],[0.1111111111111111,\"#46039f\"],[0.2222222222222222,\"#7201a8\"],[0.3333333333333333,\"#9c179e\"],[0.4444444444444444,\"#bd3786\"],[0.5555555555555556,\"#d8576b\"],[0.6666666666666666,\"#ed7953\"],[0.7777777777777778,\"#fb9f3a\"],[0.8888888888888888,\"#fdca26\"],[1.0,\"#f0f921\"]]}],\"mesh3d\":[{\"type\":\"mesh3d\",\"colorbar\":{\"outlinewidth\":0,\"ticks\":\"\"}}],\"scatter\":[{\"fillpattern\":{\"fillmode\":\"overlay\",\"size\":10,\"solidity\":0.2},\"type\":\"scatter\"}],\"parcoords\":[{\"type\":\"parcoords\",\"line\":{\"colorbar\":{\"outlinewidth\":0,\"ticks\":\"\"}}}],\"scatterpolargl\":[{\"type\":\"scatterpolargl\",\"marker\":{\"colorbar\":{\"outlinewidth\":0,\"ticks\":\"\"}}}],\"bar\":[{\"error_x\":{\"color\":\"#2a3f5f\"},\"error_y\":{\"color\":\"#2a3f5f\"},\"marker\":{\"line\":{\"color\":\"#E5ECF6\",\"width\":0.5},\"pattern\":{\"fillmode\":\"overlay\",\"size\":10,\"solidity\":0.2}},\"type\":\"bar\"}],\"scattergeo\":[{\"type\":\"scattergeo\",\"marker\":{\"colorbar\":{\"outlinewidth\":0,\"ticks\":\"\"}}}],\"scatterpolar\":[{\"type\":\"scatterpolar\",\"marker\":{\"colorbar\":{\"outlinewidth\":0,\"ticks\":\"\"}}}],\"histogram\":[{\"marker\":{\"pattern\":{\"fillmode\":\"overlay\",\"size\":10,\"solidity\":0.2}},\"type\":\"histogram\"}],\"scattergl\":[{\"type\":\"scattergl\",\"marker\":{\"colorbar\":{\"outlinewidth\":0,\"ticks\":\"\"}}}],\"scatter3d\":[{\"type\":\"scatter3d\",\"line\":{\"colorbar\":{\"outlinewidth\":0,\"ticks\":\"\"}},\"marker\":{\"colorbar\":{\"outlinewidth\":0,\"ticks\":\"\"}}}],\"scattermapbox\":[{\"type\":\"scattermapbox\",\"marker\":{\"colorbar\":{\"outlinewidth\":0,\"ticks\":\"\"}}}],\"scatterternary\":[{\"type\":\"scatterternary\",\"marker\":{\"colorbar\":{\"outlinewidth\":0,\"ticks\":\"\"}}}],\"scattercarpet\":[{\"type\":\"scattercarpet\",\"marker\":{\"colorbar\":{\"outlinewidth\":0,\"ticks\":\"\"}}}],\"carpet\":[{\"aaxis\":{\"endlinecolor\":\"#2a3f5f\",\"gridcolor\":\"white\",\"linecolor\":\"white\",\"minorgridcolor\":\"white\",\"startlinecolor\":\"#2a3f5f\"},\"baxis\":{\"endlinecolor\":\"#2a3f5f\",\"gridcolor\":\"white\",\"linecolor\":\"white\",\"minorgridcolor\":\"white\",\"startlinecolor\":\"#2a3f5f\"},\"type\":\"carpet\"}],\"table\":[{\"cells\":{\"fill\":{\"color\":\"#EBF0F8\"},\"line\":{\"color\":\"white\"}},\"header\":{\"fill\":{\"color\":\"#C8D4E3\"},\"line\":{\"color\":\"white\"}},\"type\":\"table\"}],\"barpolar\":[{\"marker\":{\"line\":{\"color\":\"#E5ECF6\",\"width\":0.5},\"pattern\":{\"fillmode\":\"overlay\",\"size\":10,\"solidity\":0.2}},\"type\":\"barpolar\"}],\"pie\":[{\"automargin\":true,\"type\":\"pie\"}]},\"layout\":{\"autotypenumbers\":\"strict\",\"colorway\":[\"#636efa\",\"#EF553B\",\"#00cc96\",\"#ab63fa\",\"#FFA15A\",\"#19d3f3\",\"#FF6692\",\"#B6E880\",\"#FF97FF\",\"#FECB52\"],\"font\":{\"color\":\"#2a3f5f\"},\"hovermode\":\"closest\",\"hoverlabel\":{\"align\":\"left\"},\"paper_bgcolor\":\"white\",\"plot_bgcolor\":\"#E5ECF6\",\"polar\":{\"bgcolor\":\"#E5ECF6\",\"angularaxis\":{\"gridcolor\":\"white\",\"linecolor\":\"white\",\"ticks\":\"\"},\"radialaxis\":{\"gridcolor\":\"white\",\"linecolor\":\"white\",\"ticks\":\"\"}},\"ternary\":{\"bgcolor\":\"#E5ECF6\",\"aaxis\":{\"gridcolor\":\"white\",\"linecolor\":\"white\",\"ticks\":\"\"},\"baxis\":{\"gridcolor\":\"white\",\"linecolor\":\"white\",\"ticks\":\"\"},\"caxis\":{\"gridcolor\":\"white\",\"linecolor\":\"white\",\"ticks\":\"\"}},\"coloraxis\":{\"colorbar\":{\"outlinewidth\":0,\"ticks\":\"\"}},\"colorscale\":{\"sequential\":[[0.0,\"#0d0887\"],[0.1111111111111111,\"#46039f\"],[0.2222222222222222,\"#7201a8\"],[0.3333333333333333,\"#9c179e\"],[0.4444444444444444,\"#bd3786\"],[0.5555555555555556,\"#d8576b\"],[0.6666666666666666,\"#ed7953\"],[0.7777777777777778,\"#fb9f3a\"],[0.8888888888888888,\"#fdca26\"],[1.0,\"#f0f921\"]],\"sequentialminus\":[[0.0,\"#0d0887\"],[0.1111111111111111,\"#46039f\"],[0.2222222222222222,\"#7201a8\"],[0.3333333333333333,\"#9c179e\"],[0.4444444444444444,\"#bd3786\"],[0.5555555555555556,\"#d8576b\"],[0.6666666666666666,\"#ed7953\"],[0.7777777777777778,\"#fb9f3a\"],[0.8888888888888888,\"#fdca26\"],[1.0,\"#f0f921\"]],\"diverging\":[[0,\"#8e0152\"],[0.1,\"#c51b7d\"],[0.2,\"#de77ae\"],[0.3,\"#f1b6da\"],[0.4,\"#fde0ef\"],[0.5,\"#f7f7f7\"],[0.6,\"#e6f5d0\"],[0.7,\"#b8e186\"],[0.8,\"#7fbc41\"],[0.9,\"#4d9221\"],[1,\"#276419\"]]},\"xaxis\":{\"gridcolor\":\"white\",\"linecolor\":\"white\",\"ticks\":\"\",\"title\":{\"standoff\":15},\"zerolinecolor\":\"white\",\"automargin\":true,\"zerolinewidth\":2},\"yaxis\":{\"gridcolor\":\"white\",\"linecolor\":\"white\",\"ticks\":\"\",\"title\":{\"standoff\":15},\"zerolinecolor\":\"white\",\"automargin\":true,\"zerolinewidth\":2},\"scene\":{\"xaxis\":{\"backgroundcolor\":\"#E5ECF6\",\"gridcolor\":\"white\",\"linecolor\":\"white\",\"showbackground\":true,\"ticks\":\"\",\"zerolinecolor\":\"white\",\"gridwidth\":2},\"yaxis\":{\"backgroundcolor\":\"#E5ECF6\",\"gridcolor\":\"white\",\"linecolor\":\"white\",\"showbackground\":true,\"ticks\":\"\",\"zerolinecolor\":\"white\",\"gridwidth\":2},\"zaxis\":{\"backgroundcolor\":\"#E5ECF6\",\"gridcolor\":\"white\",\"linecolor\":\"white\",\"showbackground\":true,\"ticks\":\"\",\"zerolinecolor\":\"white\",\"gridwidth\":2}},\"shapedefaults\":{\"line\":{\"color\":\"#2a3f5f\"}},\"annotationdefaults\":{\"arrowcolor\":\"#2a3f5f\",\"arrowhead\":0,\"arrowwidth\":1},\"geo\":{\"bgcolor\":\"white\",\"landcolor\":\"#E5ECF6\",\"subunitcolor\":\"white\",\"showland\":true,\"showlakes\":true,\"lakecolor\":\"white\"},\"title\":{\"x\":0.05},\"mapbox\":{\"style\":\"light\"}}},\"xaxis\":{\"anchor\":\"y\",\"domain\":[0.0,1.0],\"title\":{\"text\":\"Quarter\"}},\"yaxis\":{\"anchor\":\"x\",\"domain\":[0.0,1.0],\"title\":{\"text\":\"VALUE\"}},\"legend\":{\"title\":{\"text\":\"STATISTIC\"},\"tracegroupgap\":0},\"title\":{\"text\":\"Indices of Total Production in Building and Construction Sector\"}},                        {\"responsive\": true}                    ).then(function(){\n",
       "                            \n",
       "var gd = document.getElementById('80c4e5a9-4f8f-4f9a-a7c6-56fb201a3b15');\n",
       "var x = new MutationObserver(function (mutations, observer) {{\n",
       "        var display = window.getComputedStyle(gd).display;\n",
       "        if (!display || display === 'none') {{\n",
       "            console.log([gd, 'removed!']);\n",
       "            Plotly.purge(gd);\n",
       "            observer.disconnect();\n",
       "        }}\n",
       "}});\n",
       "\n",
       "// Listen for the removal of the full notebook cells\n",
       "var notebookContainer = gd.closest('#notebook-container');\n",
       "if (notebookContainer) {{\n",
       "    x.observe(notebookContainer, {childList: true});\n",
       "}}\n",
       "\n",
       "// Listen for the clearing of the current output cell\n",
       "var outputEl = gd.closest('.output');\n",
       "if (outputEl) {{\n",
       "    x.observe(outputEl, {childList: true});\n",
       "}}\n",
       "\n",
       "                        })                };                });            </script>        </div>"
      ]
     },
     "metadata": {},
     "output_type": "display_data"
    }
   ],
   "source": [
    "fig = px.line(total_production_indices_df, x=\"Quarter\", y=\"VALUE\",\n",
    "              color=\"STATISTIC\", hover_data=['Statistic Label'],\n",
    "              title='Indices of Total Production in Building and Construction Sector')\n",
    "fig.show()"
   ]
  },
  {
   "cell_type": "code",
   "execution_count": 55,
   "id": "f44e98d1",
   "metadata": {},
   "outputs": [
    {
     "data": {
      "application/vnd.plotly.v1+json": {
       "config": {
        "plotlyServerURL": "https://plot.ly"
       },
       "data": [
        {
         "connectgaps": true,
         "mode": "lines",
         "name": "BEQ04C01-All building and construction",
         "type": "scatter",
         "x": [
          2000,
          2001,
          2002,
          2003,
          2004,
          2005,
          2006,
          2007,
          2008,
          2009,
          2010,
          2011,
          2012,
          2013,
          2014,
          2015,
          2016,
          2017,
          2018,
          2019,
          2020,
          2021,
          2022
         ],
         "y": [
          155.85222130738,
          176.58507586291174,
          188.70220848162074,
          211.017831843063,
          252.81988458101125,
          290.9410794826392,
          319.806737725497,
          290.15357284857146,
          212.382986966755,
          132.02930569015675,
          93.81639392002815,
          76.23106097699615,
          74.99864662219872,
          84.12416419755354,
          91.9746802631684,
          99.99999999999977,
          110.27145845047406,
          126.3106349476985,
          145.107947342611,
          156.624674153659,
          143.828088898707,
          147.742366211243,
          166.229782755364
         ]
        },
        {
         "connectgaps": true,
         "mode": "lines",
         "name": "BEQ04C01-Building (excluding civil engineering)",
         "type": "scatter",
         "x": [
          2000,
          2001,
          2002,
          2003,
          2004,
          2005,
          2006,
          2007,
          2008,
          2009,
          2010,
          2011,
          2012,
          2013,
          2014,
          2015,
          2016,
          2017,
          2018,
          2019,
          2020,
          2021,
          2022
         ],
         "y": [
          199.84425527452225,
          222.655371375767,
          229.96048747590748,
          262.12281269457725,
          319.07013760678325,
          366.11714067320327,
          397.2855562675405,
          347.74043092946,
          236.88030758139374,
          130.2191047848355,
          88.2458612655833,
          74.46047077706193,
          66.60459412579375,
          77.50715185360633,
          86.9465293661147,
          99.9999999999997,
          111.76030686224968,
          130.17769945978176,
          149.314699285932,
          164.18727623343176,
          152.339948135874,
          152.45482436925874,
          172.92428270237423
         ]
        },
        {
         "connectgaps": true,
         "mode": "lines",
         "name": "BEQ04C01-Civil engineering",
         "type": "scatter",
         "x": [
          2000,
          2001,
          2002,
          2003,
          2004,
          2005,
          2006,
          2007,
          2008,
          2009,
          2010,
          2011,
          2012,
          2013,
          2014,
          2015,
          2016,
          2017,
          2018,
          2019,
          2020,
          2021,
          2022
         ],
         "y": [
          63.619978610390476,
          77.78060138820665,
          95.1547321103625,
          98.90832538554025,
          107.38455201418675,
          125.93152470313126,
          149.84013611574926,
          164.0804725718545,
          159.18618643016725,
          136.681653027994,
          106.6070269237992,
          80.29655540136923,
          94.2724309362067,
          99.3176441972303,
          103.5199375664324,
          99.99999999999967,
          103.48892679683046,
          108.69400772598638,
          125.94385515637074,
          122.172820234696,
          105.05184126272337,
          126.2745012691706,
          135.7326163300935
         ]
        },
        {
         "connectgaps": true,
         "mode": "lines",
         "name": "BEQ04C01-Non-residential building",
         "type": "scatter",
         "x": [
          2000,
          2001,
          2002,
          2003,
          2004,
          2005,
          2006,
          2007,
          2008,
          2009,
          2010,
          2011,
          2012,
          2013,
          2014,
          2015,
          2016,
          2017,
          2018,
          2019,
          2020,
          2021,
          2022
         ],
         "y": [
          121.4312478859595,
          126.2597058150105,
          115.56898305477425,
          106.6222056344975,
          115.368248125033,
          129.4468975687495,
          144.91810731627527,
          153.7390272068525,
          155.00182344027124,
          119.14456923832125,
          85.16412351682705,
          81.60626802311225,
          73.58669269816167,
          87.88776898061761,
          94.93685739659198,
          99.99999999999963,
          109.82225137673154,
          127.63347320595325,
          149.117221884059,
          162.64661017242827,
          154.81389801949575,
          156.03007446327075,
          176.9519934265355
         ]
        },
        {
         "connectgaps": true,
         "mode": "lines",
         "name": "BEQ04C01-Residential building",
         "type": "scatter",
         "x": [
          2000,
          2001,
          2002,
          2003,
          2004,
          2005,
          2006,
          2007,
          2008,
          2009,
          2010,
          2011,
          2012,
          2013,
          2014,
          2015,
          2016,
          2017,
          2018,
          2019,
          2020,
          2021,
          2022
         ],
         "y": [
          311.698159847,
          359.550477307906,
          391.5034445818645,
          480.38094309779103,
          605.125557205238,
          698.4970261214693,
          751.670055191875,
          619.9156290187229,
          351.22134622161224,
          145.106121333598,
          92.0821779897457,
          65.5649891633,
          57.912893628651645,
          64.58478845407521,
          76.99972936107345,
          99.99999999999952,
          124.26957408695762,
          146.599523461766,
          150.58932615256876,
          174.1315753544535,
          136.37172615977056,
          129.3782101260914,
          146.92724075551675
         ]
        },
        {
         "connectgaps": true,
         "mode": "lines",
         "name": "BEQ04C02-All building and construction",
         "type": "scatter",
         "x": [
          2000,
          2001,
          2002,
          2003,
          2004,
          2005,
          2006,
          2007,
          2008,
          2009,
          2010,
          2011,
          2012,
          2013,
          2014,
          2015,
          2016,
          2017,
          2018,
          2019,
          2020,
          2021,
          2022
         ],
         "y": [
          218.51137053184374,
          225.911259944877,
          230.59740134099576,
          243.65138313574874,
          305.568852295377,
          335.76469497471226,
          348.89085570649377,
          301.96224978755953,
          213.6974952053025,
          134.80092335155774,
          94.73183815941431,
          78.9214477861329,
          76.98572024105778,
          85.719230379523,
          92.7302782390235,
          99.9842413624976,
          109.88260576320423,
          124.16274470568025,
          136.958826387667,
          144.75515318340751,
          131.48305108441602,
          127.48541282240001,
          130.05029255140076
         ]
        },
        {
         "connectgaps": true,
         "mode": "lines",
         "name": "BEQ04C02-Building (excluding civil engineering)",
         "type": "scatter",
         "x": [
          2000,
          2001,
          2002,
          2003,
          2004,
          2005,
          2006,
          2007,
          2008,
          2009,
          2010,
          2011,
          2012,
          2013,
          2014,
          2015,
          2016,
          2017,
          2018,
          2019,
          2020,
          2021,
          2022
         ],
         "y": [
          281.10153590010276,
          285.80464687302526,
          283.545854916602,
          302.64431969257475,
          385.67016809068224,
          422.5504677457745,
          433.4248421747125,
          361.9087571758823,
          238.35313611912977,
          132.9334747310595,
          89.09027110260583,
          77.08195418689495,
          68.37384752988768,
          78.97284027705007,
          87.65714411316387,
          99.98448514321947,
          111.36608468912063,
          127.967019440895,
          140.934182645518,
          151.739300246087,
          139.26332677833523,
          131.56986841177587,
          135.338411173949
         ]
        },
        {
         "connectgaps": true,
         "mode": "lines",
         "name": "BEQ04C02-Civil engineering",
         "type": "scatter",
         "x": [
          2000,
          2001,
          2002,
          2003,
          2004,
          2005,
          2006,
          2007,
          2008,
          2009,
          2010,
          2011,
          2012,
          2013,
          2014,
          2015,
          2016,
          2017,
          2018,
          2019,
          2020,
          2021,
          2022
         ],
         "y": [
          86.99546364881445,
          97.61919742754613,
          112.69559827334925,
          114.2177579008125,
          129.698609247921,
          145.241239776519,
          163.41759450688323,
          170.7022975996125,
          160.14868725663376,
          139.59503584492927,
          107.68686321465808,
          83.14557300296057,
          96.76161329033705,
          101.21131829231516,
          104.37998106934033,
          99.98313080587577,
          103.1245351006956,
          106.8321598008149,
          118.84887010190275,
          112.93848323120204,
          96.03957292322848,
          108.87844847079957,
          105.9599743820166
         ]
        },
        {
         "connectgaps": true,
         "mode": "lines",
         "name": "BEQ04C02-Non-residential building",
         "type": "scatter",
         "x": [
          2000,
          2001,
          2002,
          2003,
          2004,
          2005,
          2006,
          2007,
          2008,
          2009,
          2010,
          2011,
          2012,
          2013,
          2014,
          2015,
          2016,
          2017,
          2018,
          2019,
          2020,
          2021,
          2022
         ],
         "y": [
          148.33114142333926,
          142.10902086848375,
          131.4658906435055,
          123.097826382893,
          139.329466044437,
          149.297828172557,
          158.15355889723725,
          159.909530618163,
          155.912462965283,
          121.6356306621995,
          85.96362894474603,
          84.4801991531341,
          75.5323965475598,
          89.53228826309677,
          95.72613336079293,
          99.98498927137433,
          109.43265416609925,
          125.4695246190945,
          140.733005601129,
          150.314694611345,
          141.52451474732675,
          134.6997715277195,
          138.464824499946
         ]
        },
        {
         "connectgaps": true,
         "mode": "lines",
         "name": "BEQ04C02-Residential building",
         "type": "scatter",
         "x": [
          2000,
          2001,
          2002,
          2003,
          2004,
          2005,
          2006,
          2007,
          2008,
          2009,
          2010,
          2011,
          2012,
          2013,
          2014,
          2015,
          2016,
          2017,
          2018,
          2019,
          2020,
          2021,
          2022
         ],
         "y": [
          471.867763076805,
          490.854546940304,
          499.10739821278946,
          554.6739700496532,
          731.6334287982068,
          806.3406191003112,
          820.0043668351041,
          645.328639336409,
          353.48726587508224,
          148.11855146439925,
          92.98330058000913,
          67.8702873953444,
          59.46062979207345,
          65.8251117557521,
          77.61032346408408,
          99.98123122512868,
          123.84549988316775,
          144.0872132906955,
          142.232689022936,
          160.93448207032975,
          124.66838625120693,
          111.36776648159255,
          115.15883425160226
         ]
        },
        {
         "connectgaps": true,
         "mode": "lines",
         "name": "BEQ04C03-All building and construction",
         "type": "scatter",
         "x": [
          2000,
          2001,
          2002,
          2003,
          2004,
          2005,
          2006,
          2007,
          2008,
          2009,
          2010,
          2011,
          2012,
          2013,
          2014,
          2015,
          2016,
          2017,
          2018,
          2019,
          2020,
          2021,
          2022
         ],
         "y": [
          155.726784181787,
          176.560089508197,
          188.6093839979565,
          210.95871193161423,
          252.846798060784,
          290.32720776805223,
          318.9665836156555,
          289.53445472310926,
          212.82359663673,
          132.62064142969075,
          93.90519313672915,
          76.01466981598483,
          74.87889388337003,
          83.83033861103175,
          91.88496092813202,
          100.2166734054218,
          109.9742465772465,
          126.3133806603355,
          144.769943954866,
          156.26248274035376,
          143.95929973763623,
          146.11917885626127,
          166.18516031625325
         ]
        },
        {
         "connectgaps": true,
         "mode": "lines",
         "name": "BEQ04C03-Building (excluding civil engineering)",
         "type": "scatter",
         "x": [
          2000,
          2001,
          2002,
          2003,
          2004,
          2005,
          2006,
          2007,
          2008,
          2009,
          2010,
          2011,
          2012,
          2013,
          2014,
          2015,
          2016,
          2017,
          2018,
          2019,
          2020,
          2021,
          2022
         ],
         "y": [
          199.70307604921226,
          222.745417977376,
          230.0359704555235,
          262.30713768812126,
          319.4076987566395,
          365.32716385222926,
          395.91144065233823,
          346.9005233606123,
          237.835300864676,
          131.18633898960624,
          88.23225768352515,
          74.47111417264023,
          66.74947787984337,
          77.09099482056075,
          86.7787399685896,
          100.09153035738893,
          111.4375563258215,
          130.09895079384052,
          148.91822477083673,
          163.68027561123375,
          152.87705114406424,
          150.84774152509624,
          173.0556375137005
         ]
        },
        {
         "connectgaps": true,
         "mode": "lines",
         "name": "BEQ04C03-Civil engineering",
         "type": "scatter",
         "x": [
          2000,
          2001,
          2002,
          2003,
          2004,
          2005,
          2006,
          2007,
          2008,
          2009,
          2010,
          2011,
          2012,
          2013,
          2014,
          2015,
          2016,
          2017,
          2018,
          2019,
          2020,
          2021,
          2022
         ],
         "y": [
          63.66405467025675,
          77.6865369447251,
          94.85763319620223,
          98.57342120307047,
          106.97603850648693,
          125.24406177962874,
          149.28970043333624,
          163.70496400833224,
          158.98527687198475,
          136.69092100005724,
          107.39588754420357,
          79.7090147860509,
          93.70426430721163,
          99.24241462633427,
          103.47716883534446,
          100.498761853521,
          103.28759753312028,
          108.4159054851955,
          125.19961164970825,
          122.33993834553151,
          105.15760655629643,
          124.23445604903777,
          134.78475551057974
         ]
        },
        {
         "connectgaps": true,
         "mode": "lines",
         "name": "BEQ04C03-Non-residential building",
         "type": "scatter",
         "x": [
          2000,
          2001,
          2002,
          2003,
          2004,
          2005,
          2006,
          2007,
          2008,
          2009,
          2010,
          2011,
          2012,
          2013,
          2014,
          2015,
          2016,
          2017,
          2018,
          2019,
          2020,
          2021,
          2022
         ],
         "y": [
          121.40851769074325,
          126.223704153333,
          115.5565424917205,
          106.615792731726,
          115.359481172344,
          129.40470738122625,
          144.81352066164575,
          153.576156801734,
          154.71724731857125,
          118.84566724362253,
          84.86708278072615,
          81.40797348262535,
          73.45463906315435,
          87.81511029189505,
          94.9020212622978,
          99.89020560460938,
          109.71197983579125,
          127.4598865982175,
          148.99025394362874,
          162.42747765825675,
          154.57669033678974,
          155.79239413030675,
          176.8340063785845
         ]
        },
        {
         "connectgaps": true,
         "mode": "lines",
         "name": "BEQ04C03-Residential building",
         "type": "scatter",
         "x": [
          2000,
          2001,
          2002,
          2003,
          2004,
          2005,
          2006,
          2007,
          2008,
          2009,
          2010,
          2011,
          2012,
          2013,
          2014,
          2015,
          2016,
          2017,
          2018,
          2019,
          2020,
          2021,
          2022
         ],
         "y": [
          311.3474810232765,
          359.7240789444835,
          391.33142814213574,
          480.66570078459125,
          605.504951839804,
          696.5485942295333,
          748.0767423518953,
          619.1792419977625,
          354.790942151602,
          146.88864931502226,
          92.31361984663442,
          65.70353144663758,
          58.12437921540668,
          64.75327287865693,
          76.53920448151737,
          100.16357472588456,
          124.0443321721655,
          146.0423105520475,
          150.476141205077,
          173.30918380033975,
          137.7398714518808,
          127.36323223808918,
          147.3633665150555
         ]
        },
        {
         "connectgaps": true,
         "mode": "lines",
         "name": "BEQ04C04-All building and construction",
         "type": "scatter",
         "x": [
          2000,
          2001,
          2002,
          2003,
          2004,
          2005,
          2006,
          2007,
          2008,
          2009,
          2010,
          2011,
          2012,
          2013,
          2014,
          2015,
          2016,
          2017,
          2018,
          2019,
          2020,
          2021,
          2022
         ],
         "y": [
          218.525976152381,
          226.03748274577225,
          230.8217613922105,
          243.85815670380026,
          305.7715784744765,
          334.954203726777,
          347.854603277723,
          301.42961709735425,
          214.27436152033226,
          135.37351050770275,
          94.83306097328322,
          78.66048436384825,
          76.87234621724335,
          85.44835592436297,
          92.74472085873347,
          100.23026712439088,
          109.61581012458251,
          124.05317487431475,
          136.71016596699326,
          144.41278485605824,
          131.84684655942553,
          126.3840117773495,
          130.32096288519375
         ]
        },
        {
         "connectgaps": true,
         "mode": "lines",
         "name": "BEQ04C04-Building (excluding civil engineering)",
         "type": "scatter",
         "x": [
          2000,
          2001,
          2002,
          2003,
          2004,
          2005,
          2006,
          2007,
          2008,
          2009,
          2010,
          2011,
          2012,
          2013,
          2014,
          2015,
          2016,
          2017,
          2018,
          2019,
          2020,
          2021,
          2022
         ],
         "y": [
          281.23224878844024,
          286.07378355959725,
          283.88979120803754,
          303.01451533571924,
          386.237207337694,
          421.6203051541547,
          431.96791530054924,
          361.2930763768915,
          239.48636650955774,
          133.94429083464175,
          89.10019355560237,
          77.05986747222445,
          68.5220460239034,
          78.56302313589705,
          87.50382763278878,
          100.08668280053692,
          111.07097721728624,
          127.93105251642001,
          140.77088243189175,
          151.27848652474125,
          139.2992948126035,
          130.506604716554,
          135.73318711733825
         ]
        },
        {
         "connectgaps": true,
         "mode": "lines",
         "name": "BEQ04C04-Civil engineering",
         "type": "scatter",
         "x": [
          2000,
          2001,
          2002,
          2003,
          2004,
          2005,
          2006,
          2007,
          2008,
          2009,
          2010,
          2011,
          2012,
          2013,
          2014,
          2015,
          2016,
          2017,
          2018,
          2019,
          2020,
          2021,
          2022
         ],
         "y": [
          87.01784897416644,
          97.5878171243611,
          112.47359333411674,
          113.97211671898725,
          129.28617879694525,
          144.50985836733452,
          162.946390329938,
          170.34906243857,
          160.06895460040874,
          139.5850741620235,
          108.44739202521819,
          82.48305427890622,
          96.17974612659168,
          100.9021763190584,
          104.19244934948568,
          100.31275007807054,
          102.90895170606473,
          106.59512055968325,
          118.34620126548,
          113.12945183684575,
          96.0759553088021,
          107.49337249048631,
          105.57283451866626
         ]
        },
        {
         "connectgaps": true,
         "mode": "lines",
         "name": "BEQ04C04-Non-residential building",
         "type": "scatter",
         "x": [
          2000,
          2001,
          2002,
          2003,
          2004,
          2005,
          2006,
          2007,
          2008,
          2009,
          2010,
          2011,
          2012,
          2013,
          2014,
          2015,
          2016,
          2017,
          2018,
          2019,
          2020,
          2021,
          2022
         ],
         "y": [
          148.36234231879126,
          142.177656625718,
          131.5726370826255,
          123.18186203925751,
          139.3825488761415,
          149.292849377773,
          158.080233968009,
          159.75336851099925,
          155.64290570219651,
          121.34425926838175,
          85.66758090808675,
          84.27161228643658,
          75.39850257636098,
          89.4771055391971,
          95.73943618914528,
          99.95579561770705,
          109.3957622541205,
          125.3519904784885,
          140.643353198091,
          150.181771493435,
          141.40096601585,
          134.57432785613,
          138.40324969528925
         ]
        },
        {
         "connectgaps": true,
         "mode": "lines",
         "name": "BEQ04C04-Residential building",
         "type": "scatter",
         "x": [
          2000,
          2001,
          2002,
          2003,
          2004,
          2005,
          2006,
          2007,
          2008,
          2009,
          2010,
          2011,
          2012,
          2013,
          2014,
          2015,
          2016,
          2017,
          2018,
          2019,
          2020,
          2021,
          2022
         ],
         "y": [
          472.00944409490177,
          491.1040124899558,
          499.39561559219,
          555.0326568531527,
          732.5187922456757,
          803.8541879140295,
          817.1452031864153,
          645.6078422551465,
          357.87096529578525,
          150.12879626161475,
          93.2848403612368,
          68.0195226427413,
          59.687512203945126,
          66.00023100340064,
          77.1672468322744,
          100.14941835632565,
          123.64111458565475,
          143.555280174141,
          142.28315746783375,
          160.1957490167365,
          125.84263966457985,
          109.85366972000635,
          115.7234151497525
         ]
        }
       ],
       "layout": {
        "plot_bgcolor": "white",
        "template": {
         "data": {
          "bar": [
           {
            "error_x": {
             "color": "#2a3f5f"
            },
            "error_y": {
             "color": "#2a3f5f"
            },
            "marker": {
             "line": {
              "color": "#E5ECF6",
              "width": 0.5
             },
             "pattern": {
              "fillmode": "overlay",
              "size": 10,
              "solidity": 0.2
             }
            },
            "type": "bar"
           }
          ],
          "barpolar": [
           {
            "marker": {
             "line": {
              "color": "#E5ECF6",
              "width": 0.5
             },
             "pattern": {
              "fillmode": "overlay",
              "size": 10,
              "solidity": 0.2
             }
            },
            "type": "barpolar"
           }
          ],
          "carpet": [
           {
            "aaxis": {
             "endlinecolor": "#2a3f5f",
             "gridcolor": "white",
             "linecolor": "white",
             "minorgridcolor": "white",
             "startlinecolor": "#2a3f5f"
            },
            "baxis": {
             "endlinecolor": "#2a3f5f",
             "gridcolor": "white",
             "linecolor": "white",
             "minorgridcolor": "white",
             "startlinecolor": "#2a3f5f"
            },
            "type": "carpet"
           }
          ],
          "choropleth": [
           {
            "colorbar": {
             "outlinewidth": 0,
             "ticks": ""
            },
            "type": "choropleth"
           }
          ],
          "contour": [
           {
            "colorbar": {
             "outlinewidth": 0,
             "ticks": ""
            },
            "colorscale": [
             [
              0,
              "#0d0887"
             ],
             [
              0.1111111111111111,
              "#46039f"
             ],
             [
              0.2222222222222222,
              "#7201a8"
             ],
             [
              0.3333333333333333,
              "#9c179e"
             ],
             [
              0.4444444444444444,
              "#bd3786"
             ],
             [
              0.5555555555555556,
              "#d8576b"
             ],
             [
              0.6666666666666666,
              "#ed7953"
             ],
             [
              0.7777777777777778,
              "#fb9f3a"
             ],
             [
              0.8888888888888888,
              "#fdca26"
             ],
             [
              1,
              "#f0f921"
             ]
            ],
            "type": "contour"
           }
          ],
          "contourcarpet": [
           {
            "colorbar": {
             "outlinewidth": 0,
             "ticks": ""
            },
            "type": "contourcarpet"
           }
          ],
          "heatmap": [
           {
            "colorbar": {
             "outlinewidth": 0,
             "ticks": ""
            },
            "colorscale": [
             [
              0,
              "#0d0887"
             ],
             [
              0.1111111111111111,
              "#46039f"
             ],
             [
              0.2222222222222222,
              "#7201a8"
             ],
             [
              0.3333333333333333,
              "#9c179e"
             ],
             [
              0.4444444444444444,
              "#bd3786"
             ],
             [
              0.5555555555555556,
              "#d8576b"
             ],
             [
              0.6666666666666666,
              "#ed7953"
             ],
             [
              0.7777777777777778,
              "#fb9f3a"
             ],
             [
              0.8888888888888888,
              "#fdca26"
             ],
             [
              1,
              "#f0f921"
             ]
            ],
            "type": "heatmap"
           }
          ],
          "heatmapgl": [
           {
            "colorbar": {
             "outlinewidth": 0,
             "ticks": ""
            },
            "colorscale": [
             [
              0,
              "#0d0887"
             ],
             [
              0.1111111111111111,
              "#46039f"
             ],
             [
              0.2222222222222222,
              "#7201a8"
             ],
             [
              0.3333333333333333,
              "#9c179e"
             ],
             [
              0.4444444444444444,
              "#bd3786"
             ],
             [
              0.5555555555555556,
              "#d8576b"
             ],
             [
              0.6666666666666666,
              "#ed7953"
             ],
             [
              0.7777777777777778,
              "#fb9f3a"
             ],
             [
              0.8888888888888888,
              "#fdca26"
             ],
             [
              1,
              "#f0f921"
             ]
            ],
            "type": "heatmapgl"
           }
          ],
          "histogram": [
           {
            "marker": {
             "pattern": {
              "fillmode": "overlay",
              "size": 10,
              "solidity": 0.2
             }
            },
            "type": "histogram"
           }
          ],
          "histogram2d": [
           {
            "colorbar": {
             "outlinewidth": 0,
             "ticks": ""
            },
            "colorscale": [
             [
              0,
              "#0d0887"
             ],
             [
              0.1111111111111111,
              "#46039f"
             ],
             [
              0.2222222222222222,
              "#7201a8"
             ],
             [
              0.3333333333333333,
              "#9c179e"
             ],
             [
              0.4444444444444444,
              "#bd3786"
             ],
             [
              0.5555555555555556,
              "#d8576b"
             ],
             [
              0.6666666666666666,
              "#ed7953"
             ],
             [
              0.7777777777777778,
              "#fb9f3a"
             ],
             [
              0.8888888888888888,
              "#fdca26"
             ],
             [
              1,
              "#f0f921"
             ]
            ],
            "type": "histogram2d"
           }
          ],
          "histogram2dcontour": [
           {
            "colorbar": {
             "outlinewidth": 0,
             "ticks": ""
            },
            "colorscale": [
             [
              0,
              "#0d0887"
             ],
             [
              0.1111111111111111,
              "#46039f"
             ],
             [
              0.2222222222222222,
              "#7201a8"
             ],
             [
              0.3333333333333333,
              "#9c179e"
             ],
             [
              0.4444444444444444,
              "#bd3786"
             ],
             [
              0.5555555555555556,
              "#d8576b"
             ],
             [
              0.6666666666666666,
              "#ed7953"
             ],
             [
              0.7777777777777778,
              "#fb9f3a"
             ],
             [
              0.8888888888888888,
              "#fdca26"
             ],
             [
              1,
              "#f0f921"
             ]
            ],
            "type": "histogram2dcontour"
           }
          ],
          "mesh3d": [
           {
            "colorbar": {
             "outlinewidth": 0,
             "ticks": ""
            },
            "type": "mesh3d"
           }
          ],
          "parcoords": [
           {
            "line": {
             "colorbar": {
              "outlinewidth": 0,
              "ticks": ""
             }
            },
            "type": "parcoords"
           }
          ],
          "pie": [
           {
            "automargin": true,
            "type": "pie"
           }
          ],
          "scatter": [
           {
            "fillpattern": {
             "fillmode": "overlay",
             "size": 10,
             "solidity": 0.2
            },
            "type": "scatter"
           }
          ],
          "scatter3d": [
           {
            "line": {
             "colorbar": {
              "outlinewidth": 0,
              "ticks": ""
             }
            },
            "marker": {
             "colorbar": {
              "outlinewidth": 0,
              "ticks": ""
             }
            },
            "type": "scatter3d"
           }
          ],
          "scattercarpet": [
           {
            "marker": {
             "colorbar": {
              "outlinewidth": 0,
              "ticks": ""
             }
            },
            "type": "scattercarpet"
           }
          ],
          "scattergeo": [
           {
            "marker": {
             "colorbar": {
              "outlinewidth": 0,
              "ticks": ""
             }
            },
            "type": "scattergeo"
           }
          ],
          "scattergl": [
           {
            "marker": {
             "colorbar": {
              "outlinewidth": 0,
              "ticks": ""
             }
            },
            "type": "scattergl"
           }
          ],
          "scattermapbox": [
           {
            "marker": {
             "colorbar": {
              "outlinewidth": 0,
              "ticks": ""
             }
            },
            "type": "scattermapbox"
           }
          ],
          "scatterpolar": [
           {
            "marker": {
             "colorbar": {
              "outlinewidth": 0,
              "ticks": ""
             }
            },
            "type": "scatterpolar"
           }
          ],
          "scatterpolargl": [
           {
            "marker": {
             "colorbar": {
              "outlinewidth": 0,
              "ticks": ""
             }
            },
            "type": "scatterpolargl"
           }
          ],
          "scatterternary": [
           {
            "marker": {
             "colorbar": {
              "outlinewidth": 0,
              "ticks": ""
             }
            },
            "type": "scatterternary"
           }
          ],
          "surface": [
           {
            "colorbar": {
             "outlinewidth": 0,
             "ticks": ""
            },
            "colorscale": [
             [
              0,
              "#0d0887"
             ],
             [
              0.1111111111111111,
              "#46039f"
             ],
             [
              0.2222222222222222,
              "#7201a8"
             ],
             [
              0.3333333333333333,
              "#9c179e"
             ],
             [
              0.4444444444444444,
              "#bd3786"
             ],
             [
              0.5555555555555556,
              "#d8576b"
             ],
             [
              0.6666666666666666,
              "#ed7953"
             ],
             [
              0.7777777777777778,
              "#fb9f3a"
             ],
             [
              0.8888888888888888,
              "#fdca26"
             ],
             [
              1,
              "#f0f921"
             ]
            ],
            "type": "surface"
           }
          ],
          "table": [
           {
            "cells": {
             "fill": {
              "color": "#EBF0F8"
             },
             "line": {
              "color": "white"
             }
            },
            "header": {
             "fill": {
              "color": "#C8D4E3"
             },
             "line": {
              "color": "white"
             }
            },
            "type": "table"
           }
          ]
         },
         "layout": {
          "annotationdefaults": {
           "arrowcolor": "#2a3f5f",
           "arrowhead": 0,
           "arrowwidth": 1
          },
          "autotypenumbers": "strict",
          "coloraxis": {
           "colorbar": {
            "outlinewidth": 0,
            "ticks": ""
           }
          },
          "colorscale": {
           "diverging": [
            [
             0,
             "#8e0152"
            ],
            [
             0.1,
             "#c51b7d"
            ],
            [
             0.2,
             "#de77ae"
            ],
            [
             0.3,
             "#f1b6da"
            ],
            [
             0.4,
             "#fde0ef"
            ],
            [
             0.5,
             "#f7f7f7"
            ],
            [
             0.6,
             "#e6f5d0"
            ],
            [
             0.7,
             "#b8e186"
            ],
            [
             0.8,
             "#7fbc41"
            ],
            [
             0.9,
             "#4d9221"
            ],
            [
             1,
             "#276419"
            ]
           ],
           "sequential": [
            [
             0,
             "#0d0887"
            ],
            [
             0.1111111111111111,
             "#46039f"
            ],
            [
             0.2222222222222222,
             "#7201a8"
            ],
            [
             0.3333333333333333,
             "#9c179e"
            ],
            [
             0.4444444444444444,
             "#bd3786"
            ],
            [
             0.5555555555555556,
             "#d8576b"
            ],
            [
             0.6666666666666666,
             "#ed7953"
            ],
            [
             0.7777777777777778,
             "#fb9f3a"
            ],
            [
             0.8888888888888888,
             "#fdca26"
            ],
            [
             1,
             "#f0f921"
            ]
           ],
           "sequentialminus": [
            [
             0,
             "#0d0887"
            ],
            [
             0.1111111111111111,
             "#46039f"
            ],
            [
             0.2222222222222222,
             "#7201a8"
            ],
            [
             0.3333333333333333,
             "#9c179e"
            ],
            [
             0.4444444444444444,
             "#bd3786"
            ],
            [
             0.5555555555555556,
             "#d8576b"
            ],
            [
             0.6666666666666666,
             "#ed7953"
            ],
            [
             0.7777777777777778,
             "#fb9f3a"
            ],
            [
             0.8888888888888888,
             "#fdca26"
            ],
            [
             1,
             "#f0f921"
            ]
           ]
          },
          "colorway": [
           "#636efa",
           "#EF553B",
           "#00cc96",
           "#ab63fa",
           "#FFA15A",
           "#19d3f3",
           "#FF6692",
           "#B6E880",
           "#FF97FF",
           "#FECB52"
          ],
          "font": {
           "color": "#2a3f5f"
          },
          "geo": {
           "bgcolor": "white",
           "lakecolor": "white",
           "landcolor": "#E5ECF6",
           "showlakes": true,
           "showland": true,
           "subunitcolor": "white"
          },
          "hoverlabel": {
           "align": "left"
          },
          "hovermode": "closest",
          "mapbox": {
           "style": "light"
          },
          "paper_bgcolor": "white",
          "plot_bgcolor": "#E5ECF6",
          "polar": {
           "angularaxis": {
            "gridcolor": "white",
            "linecolor": "white",
            "ticks": ""
           },
           "bgcolor": "#E5ECF6",
           "radialaxis": {
            "gridcolor": "white",
            "linecolor": "white",
            "ticks": ""
           }
          },
          "scene": {
           "xaxis": {
            "backgroundcolor": "#E5ECF6",
            "gridcolor": "white",
            "gridwidth": 2,
            "linecolor": "white",
            "showbackground": true,
            "ticks": "",
            "zerolinecolor": "white"
           },
           "yaxis": {
            "backgroundcolor": "#E5ECF6",
            "gridcolor": "white",
            "gridwidth": 2,
            "linecolor": "white",
            "showbackground": true,
            "ticks": "",
            "zerolinecolor": "white"
           },
           "zaxis": {
            "backgroundcolor": "#E5ECF6",
            "gridcolor": "white",
            "gridwidth": 2,
            "linecolor": "white",
            "showbackground": true,
            "ticks": "",
            "zerolinecolor": "white"
           }
          },
          "shapedefaults": {
           "line": {
            "color": "#2a3f5f"
           }
          },
          "ternary": {
           "aaxis": {
            "gridcolor": "white",
            "linecolor": "white",
            "ticks": ""
           },
           "baxis": {
            "gridcolor": "white",
            "linecolor": "white",
            "ticks": ""
           },
           "bgcolor": "#E5ECF6",
           "caxis": {
            "gridcolor": "white",
            "linecolor": "white",
            "ticks": ""
           }
          },
          "title": {
           "x": 0.05
          },
          "xaxis": {
           "automargin": true,
           "gridcolor": "white",
           "linecolor": "white",
           "ticks": "",
           "title": {
            "standoff": 15
           },
           "zerolinecolor": "white",
           "zerolinewidth": 2
          },
          "yaxis": {
           "automargin": true,
           "gridcolor": "white",
           "linecolor": "white",
           "ticks": "",
           "title": {
            "standoff": 15
           },
           "zerolinecolor": "white",
           "zerolinewidth": 2
          }
         }
        }
       }
      },
      "text/html": [
       "<div>                            <div id=\"dbcb409f-be61-4196-8414-aa6a6e10e6b0\" class=\"plotly-graph-div\" style=\"height:525px; width:100%;\"></div>            <script type=\"text/javascript\">                require([\"plotly\"], function(Plotly) {                    window.PLOTLYENV=window.PLOTLYENV || {};                                    if (document.getElementById(\"dbcb409f-be61-4196-8414-aa6a6e10e6b0\")) {                    Plotly.newPlot(                        \"dbcb409f-be61-4196-8414-aa6a6e10e6b0\",                        [{\"connectgaps\":true,\"mode\":\"lines\",\"name\":\"BEQ04C01-All building and construction\",\"x\":[2000,2001,2002,2003,2004,2005,2006,2007,2008,2009,2010,2011,2012,2013,2014,2015,2016,2017,2018,2019,2020,2021,2022],\"y\":[155.85222130738,176.58507586291174,188.70220848162074,211.017831843063,252.81988458101125,290.9410794826392,319.806737725497,290.15357284857146,212.382986966755,132.02930569015675,93.81639392002815,76.23106097699615,74.99864662219872,84.12416419755354,91.9746802631684,99.99999999999977,110.27145845047406,126.3106349476985,145.107947342611,156.624674153659,143.828088898707,147.742366211243,166.229782755364],\"type\":\"scatter\"},{\"connectgaps\":true,\"mode\":\"lines\",\"name\":\"BEQ04C01-Building (excluding civil engineering)\",\"x\":[2000,2001,2002,2003,2004,2005,2006,2007,2008,2009,2010,2011,2012,2013,2014,2015,2016,2017,2018,2019,2020,2021,2022],\"y\":[199.84425527452225,222.655371375767,229.96048747590748,262.12281269457725,319.07013760678325,366.11714067320327,397.2855562675405,347.74043092946,236.88030758139374,130.2191047848355,88.2458612655833,74.46047077706193,66.60459412579375,77.50715185360633,86.9465293661147,99.9999999999997,111.76030686224968,130.17769945978176,149.314699285932,164.18727623343176,152.339948135874,152.45482436925874,172.92428270237423],\"type\":\"scatter\"},{\"connectgaps\":true,\"mode\":\"lines\",\"name\":\"BEQ04C01-Civil engineering\",\"x\":[2000,2001,2002,2003,2004,2005,2006,2007,2008,2009,2010,2011,2012,2013,2014,2015,2016,2017,2018,2019,2020,2021,2022],\"y\":[63.619978610390476,77.78060138820665,95.1547321103625,98.90832538554025,107.38455201418675,125.93152470313126,149.84013611574926,164.0804725718545,159.18618643016725,136.681653027994,106.6070269237992,80.29655540136923,94.2724309362067,99.3176441972303,103.5199375664324,99.99999999999967,103.48892679683046,108.69400772598638,125.94385515637074,122.172820234696,105.05184126272337,126.2745012691706,135.7326163300935],\"type\":\"scatter\"},{\"connectgaps\":true,\"mode\":\"lines\",\"name\":\"BEQ04C01-Non-residential building\",\"x\":[2000,2001,2002,2003,2004,2005,2006,2007,2008,2009,2010,2011,2012,2013,2014,2015,2016,2017,2018,2019,2020,2021,2022],\"y\":[121.4312478859595,126.2597058150105,115.56898305477425,106.6222056344975,115.368248125033,129.4468975687495,144.91810731627527,153.7390272068525,155.00182344027124,119.14456923832125,85.16412351682705,81.60626802311225,73.58669269816167,87.88776898061761,94.93685739659198,99.99999999999963,109.82225137673154,127.63347320595325,149.117221884059,162.64661017242827,154.81389801949575,156.03007446327075,176.9519934265355],\"type\":\"scatter\"},{\"connectgaps\":true,\"mode\":\"lines\",\"name\":\"BEQ04C01-Residential building\",\"x\":[2000,2001,2002,2003,2004,2005,2006,2007,2008,2009,2010,2011,2012,2013,2014,2015,2016,2017,2018,2019,2020,2021,2022],\"y\":[311.698159847,359.550477307906,391.5034445818645,480.38094309779103,605.125557205238,698.4970261214693,751.670055191875,619.9156290187229,351.22134622161224,145.106121333598,92.0821779897457,65.5649891633,57.912893628651645,64.58478845407521,76.99972936107345,99.99999999999952,124.26957408695762,146.599523461766,150.58932615256876,174.1315753544535,136.37172615977056,129.3782101260914,146.92724075551675],\"type\":\"scatter\"},{\"connectgaps\":true,\"mode\":\"lines\",\"name\":\"BEQ04C02-All building and construction\",\"x\":[2000,2001,2002,2003,2004,2005,2006,2007,2008,2009,2010,2011,2012,2013,2014,2015,2016,2017,2018,2019,2020,2021,2022],\"y\":[218.51137053184374,225.911259944877,230.59740134099576,243.65138313574874,305.568852295377,335.76469497471226,348.89085570649377,301.96224978755953,213.6974952053025,134.80092335155774,94.73183815941431,78.9214477861329,76.98572024105778,85.719230379523,92.7302782390235,99.9842413624976,109.88260576320423,124.16274470568025,136.958826387667,144.75515318340751,131.48305108441602,127.48541282240001,130.05029255140076],\"type\":\"scatter\"},{\"connectgaps\":true,\"mode\":\"lines\",\"name\":\"BEQ04C02-Building (excluding civil engineering)\",\"x\":[2000,2001,2002,2003,2004,2005,2006,2007,2008,2009,2010,2011,2012,2013,2014,2015,2016,2017,2018,2019,2020,2021,2022],\"y\":[281.10153590010276,285.80464687302526,283.545854916602,302.64431969257475,385.67016809068224,422.5504677457745,433.4248421747125,361.9087571758823,238.35313611912977,132.9334747310595,89.09027110260583,77.08195418689495,68.37384752988768,78.97284027705007,87.65714411316387,99.98448514321947,111.36608468912063,127.967019440895,140.934182645518,151.739300246087,139.26332677833523,131.56986841177587,135.338411173949],\"type\":\"scatter\"},{\"connectgaps\":true,\"mode\":\"lines\",\"name\":\"BEQ04C02-Civil engineering\",\"x\":[2000,2001,2002,2003,2004,2005,2006,2007,2008,2009,2010,2011,2012,2013,2014,2015,2016,2017,2018,2019,2020,2021,2022],\"y\":[86.99546364881445,97.61919742754613,112.69559827334925,114.2177579008125,129.698609247921,145.241239776519,163.41759450688323,170.7022975996125,160.14868725663376,139.59503584492927,107.68686321465808,83.14557300296057,96.76161329033705,101.21131829231516,104.37998106934033,99.98313080587577,103.1245351006956,106.8321598008149,118.84887010190275,112.93848323120204,96.03957292322848,108.87844847079957,105.9599743820166],\"type\":\"scatter\"},{\"connectgaps\":true,\"mode\":\"lines\",\"name\":\"BEQ04C02-Non-residential building\",\"x\":[2000,2001,2002,2003,2004,2005,2006,2007,2008,2009,2010,2011,2012,2013,2014,2015,2016,2017,2018,2019,2020,2021,2022],\"y\":[148.33114142333926,142.10902086848375,131.4658906435055,123.097826382893,139.329466044437,149.297828172557,158.15355889723725,159.909530618163,155.912462965283,121.6356306621995,85.96362894474603,84.4801991531341,75.5323965475598,89.53228826309677,95.72613336079293,99.98498927137433,109.43265416609925,125.4695246190945,140.733005601129,150.314694611345,141.52451474732675,134.6997715277195,138.464824499946],\"type\":\"scatter\"},{\"connectgaps\":true,\"mode\":\"lines\",\"name\":\"BEQ04C02-Residential building\",\"x\":[2000,2001,2002,2003,2004,2005,2006,2007,2008,2009,2010,2011,2012,2013,2014,2015,2016,2017,2018,2019,2020,2021,2022],\"y\":[471.867763076805,490.854546940304,499.10739821278946,554.6739700496532,731.6334287982068,806.3406191003112,820.0043668351041,645.328639336409,353.48726587508224,148.11855146439925,92.98330058000913,67.8702873953444,59.46062979207345,65.8251117557521,77.61032346408408,99.98123122512868,123.84549988316775,144.0872132906955,142.232689022936,160.93448207032975,124.66838625120693,111.36776648159255,115.15883425160226],\"type\":\"scatter\"},{\"connectgaps\":true,\"mode\":\"lines\",\"name\":\"BEQ04C03-All building and construction\",\"x\":[2000,2001,2002,2003,2004,2005,2006,2007,2008,2009,2010,2011,2012,2013,2014,2015,2016,2017,2018,2019,2020,2021,2022],\"y\":[155.726784181787,176.560089508197,188.6093839979565,210.95871193161423,252.846798060784,290.32720776805223,318.9665836156555,289.53445472310926,212.82359663673,132.62064142969075,93.90519313672915,76.01466981598483,74.87889388337003,83.83033861103175,91.88496092813202,100.2166734054218,109.9742465772465,126.3133806603355,144.769943954866,156.26248274035376,143.95929973763623,146.11917885626127,166.18516031625325],\"type\":\"scatter\"},{\"connectgaps\":true,\"mode\":\"lines\",\"name\":\"BEQ04C03-Building (excluding civil engineering)\",\"x\":[2000,2001,2002,2003,2004,2005,2006,2007,2008,2009,2010,2011,2012,2013,2014,2015,2016,2017,2018,2019,2020,2021,2022],\"y\":[199.70307604921226,222.745417977376,230.0359704555235,262.30713768812126,319.4076987566395,365.32716385222926,395.91144065233823,346.9005233606123,237.835300864676,131.18633898960624,88.23225768352515,74.47111417264023,66.74947787984337,77.09099482056075,86.7787399685896,100.09153035738893,111.4375563258215,130.09895079384052,148.91822477083673,163.68027561123375,152.87705114406424,150.84774152509624,173.0556375137005],\"type\":\"scatter\"},{\"connectgaps\":true,\"mode\":\"lines\",\"name\":\"BEQ04C03-Civil engineering\",\"x\":[2000,2001,2002,2003,2004,2005,2006,2007,2008,2009,2010,2011,2012,2013,2014,2015,2016,2017,2018,2019,2020,2021,2022],\"y\":[63.66405467025675,77.6865369447251,94.85763319620223,98.57342120307047,106.97603850648693,125.24406177962874,149.28970043333624,163.70496400833224,158.98527687198475,136.69092100005724,107.39588754420357,79.7090147860509,93.70426430721163,99.24241462633427,103.47716883534446,100.498761853521,103.28759753312028,108.4159054851955,125.19961164970825,122.33993834553151,105.15760655629643,124.23445604903777,134.78475551057974],\"type\":\"scatter\"},{\"connectgaps\":true,\"mode\":\"lines\",\"name\":\"BEQ04C03-Non-residential building\",\"x\":[2000,2001,2002,2003,2004,2005,2006,2007,2008,2009,2010,2011,2012,2013,2014,2015,2016,2017,2018,2019,2020,2021,2022],\"y\":[121.40851769074325,126.223704153333,115.5565424917205,106.615792731726,115.359481172344,129.40470738122625,144.81352066164575,153.576156801734,154.71724731857125,118.84566724362253,84.86708278072615,81.40797348262535,73.45463906315435,87.81511029189505,94.9020212622978,99.89020560460938,109.71197983579125,127.4598865982175,148.99025394362874,162.42747765825675,154.57669033678974,155.79239413030675,176.8340063785845],\"type\":\"scatter\"},{\"connectgaps\":true,\"mode\":\"lines\",\"name\":\"BEQ04C03-Residential building\",\"x\":[2000,2001,2002,2003,2004,2005,2006,2007,2008,2009,2010,2011,2012,2013,2014,2015,2016,2017,2018,2019,2020,2021,2022],\"y\":[311.3474810232765,359.7240789444835,391.33142814213574,480.66570078459125,605.504951839804,696.5485942295333,748.0767423518953,619.1792419977625,354.790942151602,146.88864931502226,92.31361984663442,65.70353144663758,58.12437921540668,64.75327287865693,76.53920448151737,100.16357472588456,124.0443321721655,146.0423105520475,150.476141205077,173.30918380033975,137.7398714518808,127.36323223808918,147.3633665150555],\"type\":\"scatter\"},{\"connectgaps\":true,\"mode\":\"lines\",\"name\":\"BEQ04C04-All building and construction\",\"x\":[2000,2001,2002,2003,2004,2005,2006,2007,2008,2009,2010,2011,2012,2013,2014,2015,2016,2017,2018,2019,2020,2021,2022],\"y\":[218.525976152381,226.03748274577225,230.8217613922105,243.85815670380026,305.7715784744765,334.954203726777,347.854603277723,301.42961709735425,214.27436152033226,135.37351050770275,94.83306097328322,78.66048436384825,76.87234621724335,85.44835592436297,92.74472085873347,100.23026712439088,109.61581012458251,124.05317487431475,136.71016596699326,144.41278485605824,131.84684655942553,126.3840117773495,130.32096288519375],\"type\":\"scatter\"},{\"connectgaps\":true,\"mode\":\"lines\",\"name\":\"BEQ04C04-Building (excluding civil engineering)\",\"x\":[2000,2001,2002,2003,2004,2005,2006,2007,2008,2009,2010,2011,2012,2013,2014,2015,2016,2017,2018,2019,2020,2021,2022],\"y\":[281.23224878844024,286.07378355959725,283.88979120803754,303.01451533571924,386.237207337694,421.6203051541547,431.96791530054924,361.2930763768915,239.48636650955774,133.94429083464175,89.10019355560237,77.05986747222445,68.5220460239034,78.56302313589705,87.50382763278878,100.08668280053692,111.07097721728624,127.93105251642001,140.77088243189175,151.27848652474125,139.2992948126035,130.506604716554,135.73318711733825],\"type\":\"scatter\"},{\"connectgaps\":true,\"mode\":\"lines\",\"name\":\"BEQ04C04-Civil engineering\",\"x\":[2000,2001,2002,2003,2004,2005,2006,2007,2008,2009,2010,2011,2012,2013,2014,2015,2016,2017,2018,2019,2020,2021,2022],\"y\":[87.01784897416644,97.5878171243611,112.47359333411674,113.97211671898725,129.28617879694525,144.50985836733452,162.946390329938,170.34906243857,160.06895460040874,139.5850741620235,108.44739202521819,82.48305427890622,96.17974612659168,100.9021763190584,104.19244934948568,100.31275007807054,102.90895170606473,106.59512055968325,118.34620126548,113.12945183684575,96.0759553088021,107.49337249048631,105.57283451866626],\"type\":\"scatter\"},{\"connectgaps\":true,\"mode\":\"lines\",\"name\":\"BEQ04C04-Non-residential building\",\"x\":[2000,2001,2002,2003,2004,2005,2006,2007,2008,2009,2010,2011,2012,2013,2014,2015,2016,2017,2018,2019,2020,2021,2022],\"y\":[148.36234231879126,142.177656625718,131.5726370826255,123.18186203925751,139.3825488761415,149.292849377773,158.080233968009,159.75336851099925,155.64290570219651,121.34425926838175,85.66758090808675,84.27161228643658,75.39850257636098,89.4771055391971,95.73943618914528,99.95579561770705,109.3957622541205,125.3519904784885,140.643353198091,150.181771493435,141.40096601585,134.57432785613,138.40324969528925],\"type\":\"scatter\"},{\"connectgaps\":true,\"mode\":\"lines\",\"name\":\"BEQ04C04-Residential building\",\"x\":[2000,2001,2002,2003,2004,2005,2006,2007,2008,2009,2010,2011,2012,2013,2014,2015,2016,2017,2018,2019,2020,2021,2022],\"y\":[472.00944409490177,491.1040124899558,499.39561559219,555.0326568531527,732.5187922456757,803.8541879140295,817.1452031864153,645.6078422551465,357.87096529578525,150.12879626161475,93.2848403612368,68.0195226427413,59.687512203945126,66.00023100340064,77.1672468322744,100.14941835632565,123.64111458565475,143.555280174141,142.28315746783375,160.1957490167365,125.84263966457985,109.85366972000635,115.7234151497525],\"type\":\"scatter\"}],                        {\"template\":{\"data\":{\"histogram2dcontour\":[{\"type\":\"histogram2dcontour\",\"colorbar\":{\"outlinewidth\":0,\"ticks\":\"\"},\"colorscale\":[[0.0,\"#0d0887\"],[0.1111111111111111,\"#46039f\"],[0.2222222222222222,\"#7201a8\"],[0.3333333333333333,\"#9c179e\"],[0.4444444444444444,\"#bd3786\"],[0.5555555555555556,\"#d8576b\"],[0.6666666666666666,\"#ed7953\"],[0.7777777777777778,\"#fb9f3a\"],[0.8888888888888888,\"#fdca26\"],[1.0,\"#f0f921\"]]}],\"choropleth\":[{\"type\":\"choropleth\",\"colorbar\":{\"outlinewidth\":0,\"ticks\":\"\"}}],\"histogram2d\":[{\"type\":\"histogram2d\",\"colorbar\":{\"outlinewidth\":0,\"ticks\":\"\"},\"colorscale\":[[0.0,\"#0d0887\"],[0.1111111111111111,\"#46039f\"],[0.2222222222222222,\"#7201a8\"],[0.3333333333333333,\"#9c179e\"],[0.4444444444444444,\"#bd3786\"],[0.5555555555555556,\"#d8576b\"],[0.6666666666666666,\"#ed7953\"],[0.7777777777777778,\"#fb9f3a\"],[0.8888888888888888,\"#fdca26\"],[1.0,\"#f0f921\"]]}],\"heatmap\":[{\"type\":\"heatmap\",\"colorbar\":{\"outlinewidth\":0,\"ticks\":\"\"},\"colorscale\":[[0.0,\"#0d0887\"],[0.1111111111111111,\"#46039f\"],[0.2222222222222222,\"#7201a8\"],[0.3333333333333333,\"#9c179e\"],[0.4444444444444444,\"#bd3786\"],[0.5555555555555556,\"#d8576b\"],[0.6666666666666666,\"#ed7953\"],[0.7777777777777778,\"#fb9f3a\"],[0.8888888888888888,\"#fdca26\"],[1.0,\"#f0f921\"]]}],\"heatmapgl\":[{\"type\":\"heatmapgl\",\"colorbar\":{\"outlinewidth\":0,\"ticks\":\"\"},\"colorscale\":[[0.0,\"#0d0887\"],[0.1111111111111111,\"#46039f\"],[0.2222222222222222,\"#7201a8\"],[0.3333333333333333,\"#9c179e\"],[0.4444444444444444,\"#bd3786\"],[0.5555555555555556,\"#d8576b\"],[0.6666666666666666,\"#ed7953\"],[0.7777777777777778,\"#fb9f3a\"],[0.8888888888888888,\"#fdca26\"],[1.0,\"#f0f921\"]]}],\"contourcarpet\":[{\"type\":\"contourcarpet\",\"colorbar\":{\"outlinewidth\":0,\"ticks\":\"\"}}],\"contour\":[{\"type\":\"contour\",\"colorbar\":{\"outlinewidth\":0,\"ticks\":\"\"},\"colorscale\":[[0.0,\"#0d0887\"],[0.1111111111111111,\"#46039f\"],[0.2222222222222222,\"#7201a8\"],[0.3333333333333333,\"#9c179e\"],[0.4444444444444444,\"#bd3786\"],[0.5555555555555556,\"#d8576b\"],[0.6666666666666666,\"#ed7953\"],[0.7777777777777778,\"#fb9f3a\"],[0.8888888888888888,\"#fdca26\"],[1.0,\"#f0f921\"]]}],\"surface\":[{\"type\":\"surface\",\"colorbar\":{\"outlinewidth\":0,\"ticks\":\"\"},\"colorscale\":[[0.0,\"#0d0887\"],[0.1111111111111111,\"#46039f\"],[0.2222222222222222,\"#7201a8\"],[0.3333333333333333,\"#9c179e\"],[0.4444444444444444,\"#bd3786\"],[0.5555555555555556,\"#d8576b\"],[0.6666666666666666,\"#ed7953\"],[0.7777777777777778,\"#fb9f3a\"],[0.8888888888888888,\"#fdca26\"],[1.0,\"#f0f921\"]]}],\"mesh3d\":[{\"type\":\"mesh3d\",\"colorbar\":{\"outlinewidth\":0,\"ticks\":\"\"}}],\"scatter\":[{\"fillpattern\":{\"fillmode\":\"overlay\",\"size\":10,\"solidity\":0.2},\"type\":\"scatter\"}],\"parcoords\":[{\"type\":\"parcoords\",\"line\":{\"colorbar\":{\"outlinewidth\":0,\"ticks\":\"\"}}}],\"scatterpolargl\":[{\"type\":\"scatterpolargl\",\"marker\":{\"colorbar\":{\"outlinewidth\":0,\"ticks\":\"\"}}}],\"bar\":[{\"error_x\":{\"color\":\"#2a3f5f\"},\"error_y\":{\"color\":\"#2a3f5f\"},\"marker\":{\"line\":{\"color\":\"#E5ECF6\",\"width\":0.5},\"pattern\":{\"fillmode\":\"overlay\",\"size\":10,\"solidity\":0.2}},\"type\":\"bar\"}],\"scattergeo\":[{\"type\":\"scattergeo\",\"marker\":{\"colorbar\":{\"outlinewidth\":0,\"ticks\":\"\"}}}],\"scatterpolar\":[{\"type\":\"scatterpolar\",\"marker\":{\"colorbar\":{\"outlinewidth\":0,\"ticks\":\"\"}}}],\"histogram\":[{\"marker\":{\"pattern\":{\"fillmode\":\"overlay\",\"size\":10,\"solidity\":0.2}},\"type\":\"histogram\"}],\"scattergl\":[{\"type\":\"scattergl\",\"marker\":{\"colorbar\":{\"outlinewidth\":0,\"ticks\":\"\"}}}],\"scatter3d\":[{\"type\":\"scatter3d\",\"line\":{\"colorbar\":{\"outlinewidth\":0,\"ticks\":\"\"}},\"marker\":{\"colorbar\":{\"outlinewidth\":0,\"ticks\":\"\"}}}],\"scattermapbox\":[{\"type\":\"scattermapbox\",\"marker\":{\"colorbar\":{\"outlinewidth\":0,\"ticks\":\"\"}}}],\"scatterternary\":[{\"type\":\"scatterternary\",\"marker\":{\"colorbar\":{\"outlinewidth\":0,\"ticks\":\"\"}}}],\"scattercarpet\":[{\"type\":\"scattercarpet\",\"marker\":{\"colorbar\":{\"outlinewidth\":0,\"ticks\":\"\"}}}],\"carpet\":[{\"aaxis\":{\"endlinecolor\":\"#2a3f5f\",\"gridcolor\":\"white\",\"linecolor\":\"white\",\"minorgridcolor\":\"white\",\"startlinecolor\":\"#2a3f5f\"},\"baxis\":{\"endlinecolor\":\"#2a3f5f\",\"gridcolor\":\"white\",\"linecolor\":\"white\",\"minorgridcolor\":\"white\",\"startlinecolor\":\"#2a3f5f\"},\"type\":\"carpet\"}],\"table\":[{\"cells\":{\"fill\":{\"color\":\"#EBF0F8\"},\"line\":{\"color\":\"white\"}},\"header\":{\"fill\":{\"color\":\"#C8D4E3\"},\"line\":{\"color\":\"white\"}},\"type\":\"table\"}],\"barpolar\":[{\"marker\":{\"line\":{\"color\":\"#E5ECF6\",\"width\":0.5},\"pattern\":{\"fillmode\":\"overlay\",\"size\":10,\"solidity\":0.2}},\"type\":\"barpolar\"}],\"pie\":[{\"automargin\":true,\"type\":\"pie\"}]},\"layout\":{\"autotypenumbers\":\"strict\",\"colorway\":[\"#636efa\",\"#EF553B\",\"#00cc96\",\"#ab63fa\",\"#FFA15A\",\"#19d3f3\",\"#FF6692\",\"#B6E880\",\"#FF97FF\",\"#FECB52\"],\"font\":{\"color\":\"#2a3f5f\"},\"hovermode\":\"closest\",\"hoverlabel\":{\"align\":\"left\"},\"paper_bgcolor\":\"white\",\"plot_bgcolor\":\"#E5ECF6\",\"polar\":{\"bgcolor\":\"#E5ECF6\",\"angularaxis\":{\"gridcolor\":\"white\",\"linecolor\":\"white\",\"ticks\":\"\"},\"radialaxis\":{\"gridcolor\":\"white\",\"linecolor\":\"white\",\"ticks\":\"\"}},\"ternary\":{\"bgcolor\":\"#E5ECF6\",\"aaxis\":{\"gridcolor\":\"white\",\"linecolor\":\"white\",\"ticks\":\"\"},\"baxis\":{\"gridcolor\":\"white\",\"linecolor\":\"white\",\"ticks\":\"\"},\"caxis\":{\"gridcolor\":\"white\",\"linecolor\":\"white\",\"ticks\":\"\"}},\"coloraxis\":{\"colorbar\":{\"outlinewidth\":0,\"ticks\":\"\"}},\"colorscale\":{\"sequential\":[[0.0,\"#0d0887\"],[0.1111111111111111,\"#46039f\"],[0.2222222222222222,\"#7201a8\"],[0.3333333333333333,\"#9c179e\"],[0.4444444444444444,\"#bd3786\"],[0.5555555555555556,\"#d8576b\"],[0.6666666666666666,\"#ed7953\"],[0.7777777777777778,\"#fb9f3a\"],[0.8888888888888888,\"#fdca26\"],[1.0,\"#f0f921\"]],\"sequentialminus\":[[0.0,\"#0d0887\"],[0.1111111111111111,\"#46039f\"],[0.2222222222222222,\"#7201a8\"],[0.3333333333333333,\"#9c179e\"],[0.4444444444444444,\"#bd3786\"],[0.5555555555555556,\"#d8576b\"],[0.6666666666666666,\"#ed7953\"],[0.7777777777777778,\"#fb9f3a\"],[0.8888888888888888,\"#fdca26\"],[1.0,\"#f0f921\"]],\"diverging\":[[0,\"#8e0152\"],[0.1,\"#c51b7d\"],[0.2,\"#de77ae\"],[0.3,\"#f1b6da\"],[0.4,\"#fde0ef\"],[0.5,\"#f7f7f7\"],[0.6,\"#e6f5d0\"],[0.7,\"#b8e186\"],[0.8,\"#7fbc41\"],[0.9,\"#4d9221\"],[1,\"#276419\"]]},\"xaxis\":{\"gridcolor\":\"white\",\"linecolor\":\"white\",\"ticks\":\"\",\"title\":{\"standoff\":15},\"zerolinecolor\":\"white\",\"automargin\":true,\"zerolinewidth\":2},\"yaxis\":{\"gridcolor\":\"white\",\"linecolor\":\"white\",\"ticks\":\"\",\"title\":{\"standoff\":15},\"zerolinecolor\":\"white\",\"automargin\":true,\"zerolinewidth\":2},\"scene\":{\"xaxis\":{\"backgroundcolor\":\"#E5ECF6\",\"gridcolor\":\"white\",\"linecolor\":\"white\",\"showbackground\":true,\"ticks\":\"\",\"zerolinecolor\":\"white\",\"gridwidth\":2},\"yaxis\":{\"backgroundcolor\":\"#E5ECF6\",\"gridcolor\":\"white\",\"linecolor\":\"white\",\"showbackground\":true,\"ticks\":\"\",\"zerolinecolor\":\"white\",\"gridwidth\":2},\"zaxis\":{\"backgroundcolor\":\"#E5ECF6\",\"gridcolor\":\"white\",\"linecolor\":\"white\",\"showbackground\":true,\"ticks\":\"\",\"zerolinecolor\":\"white\",\"gridwidth\":2}},\"shapedefaults\":{\"line\":{\"color\":\"#2a3f5f\"}},\"annotationdefaults\":{\"arrowcolor\":\"#2a3f5f\",\"arrowhead\":0,\"arrowwidth\":1},\"geo\":{\"bgcolor\":\"white\",\"landcolor\":\"#E5ECF6\",\"subunitcolor\":\"white\",\"showland\":true,\"showlakes\":true,\"lakecolor\":\"white\"},\"title\":{\"x\":0.05},\"mapbox\":{\"style\":\"light\"}}},\"plot_bgcolor\":\"white\"},                        {\"responsive\": true}                    ).then(function(){\n",
       "                            \n",
       "var gd = document.getElementById('dbcb409f-be61-4196-8414-aa6a6e10e6b0');\n",
       "var x = new MutationObserver(function (mutations, observer) {{\n",
       "        var display = window.getComputedStyle(gd).display;\n",
       "        if (!display || display === 'none') {{\n",
       "            console.log([gd, 'removed!']);\n",
       "            Plotly.purge(gd);\n",
       "            observer.disconnect();\n",
       "        }}\n",
       "}});\n",
       "\n",
       "// Listen for the removal of the full notebook cells\n",
       "var notebookContainer = gd.closest('#notebook-container');\n",
       "if (notebookContainer) {{\n",
       "    x.observe(notebookContainer, {childList: true});\n",
       "}}\n",
       "\n",
       "// Listen for the clearing of the current output cell\n",
       "var outputEl = gd.closest('.output');\n",
       "if (outputEl) {{\n",
       "    x.observe(outputEl, {childList: true});\n",
       "}}\n",
       "\n",
       "                        })                };                });            </script>        </div>"
      ]
     },
     "metadata": {},
     "output_type": "display_data"
    }
   ],
   "source": [
    "fig = go.Figure()\n",
    "for i in total_yearly_production_indices_df['STATISTIC'].unique():\n",
    "    data = total_yearly_production_indices_df.query(f\"STATISTIC=='{i}'\")\n",
    "    for j in data['Type of Building and Construction'].unique():\n",
    "        data2 = data.loc[data[\"Type of Building and Construction\"] == j]\n",
    "        fig.add_trace(go.Scatter(x=data2['Year'], y=data2['VALUE'], mode='lines',\n",
    "            name=f\"{i}-{j}\",\n",
    "            connectgaps=True,\n",
    "        ))\n",
    "fig.update_layout(\n",
    "    plot_bgcolor='white'\n",
    ")\n",
    "fig.show()"
   ]
  },
  {
   "cell_type": "code",
   "execution_count": 58,
   "id": "bffc671b",
   "metadata": {},
   "outputs": [
    {
     "data": {
      "application/vnd.plotly.v1+json": {
       "config": {
        "plotlyServerURL": "https://plot.ly"
       },
       "data": [
        {
         "connectgaps": true,
         "mode": "lines",
         "name": "BEQ04C01-All building and construction",
         "type": "scatter",
         "x": [
          "2000Q1",
          "2000Q2",
          "2000Q3",
          "2000Q4",
          "2001Q1",
          "2001Q2",
          "2001Q3",
          "2001Q4",
          "2002Q1",
          "2002Q2",
          "2002Q3",
          "2002Q4",
          "2003Q1",
          "2003Q2",
          "2003Q3",
          "2003Q4",
          "2004Q1",
          "2004Q2",
          "2004Q3",
          "2004Q4",
          "2005Q1",
          "2005Q2",
          "2005Q3",
          "2005Q4",
          "2006Q1",
          "2006Q2",
          "2006Q3",
          "2006Q4",
          "2007Q1",
          "2007Q2",
          "2007Q3",
          "2007Q4",
          "2008Q1",
          "2008Q2",
          "2008Q3",
          "2008Q4",
          "2009Q1",
          "2009Q2",
          "2009Q3",
          "2009Q4",
          "2010Q1",
          "2010Q2",
          "2010Q3",
          "2010Q4",
          "2011Q1",
          "2011Q2",
          "2011Q3",
          "2011Q4",
          "2012Q1",
          "2012Q2",
          "2012Q3",
          "2012Q4",
          "2013Q1",
          "2013Q2",
          "2013Q3",
          "2013Q4",
          "2014Q1",
          "2014Q2",
          "2014Q3",
          "2014Q4",
          "2015Q1",
          "2015Q2",
          "2015Q3",
          "2015Q4",
          "2016Q1",
          "2016Q2",
          "2016Q3",
          "2016Q4",
          "2017Q1",
          "2017Q2",
          "2017Q3",
          "2017Q4",
          "2018Q1",
          "2018Q2",
          "2018Q3",
          "2018Q4",
          "2019Q1",
          "2019Q2",
          "2019Q3",
          "2019Q4",
          "2020Q1",
          "2020Q2",
          "2020Q3",
          "2020Q4",
          "2021Q1",
          "2021Q2",
          "2021Q3",
          "2021Q4",
          "2022Q1",
          "2022Q2",
          "2022Q3",
          "2022Q4"
         ],
         "y": [
          143.514977427572,
          153.542078417604,
          162.663797696119,
          163.688031688225,
          167.381045922143,
          178.852154835777,
          178.185832197097,
          181.92127049663,
          174.135875231309,
          180.108692642037,
          199.692913988463,
          200.871352064674,
          186.121145298732,
          198.679281687862,
          226.177970745465,
          233.092929640193,
          237.945161786829,
          266.74987313364,
          254.147598460311,
          252.436904943265,
          256.292300915476,
          298.841241058275,
          303.371672884521,
          305.259103072285,
          304.241934942148,
          315.439027601418,
          309.607800531758,
          349.938187826664,
          284.130736561637,
          308.98813604709,
          283.122152704952,
          284.373266080607,
          227.800645388296,
          227.673055198567,
          207.237889411472,
          186.820357868685,
          143.684676102336,
          136.117361812248,
          129.637984455345,
          118.677200390698,
          90.6815531094466,
          95.7841114643568,
          93.5634918771807,
          95.2364192291285,
          68.4892748073368,
          70.7201661379171,
          78.9799454356307,
          86.7348575271,
          67.1635153337058,
          68.5521069839513,
          75.7968188676656,
          88.4821453034722,
          67.795461023386,
          78.7526192000389,
          91.5054662264187,
          98.4431103403706,
          74.7451895143154,
          91.4606283074825,
          97.7243533605647,
          103.968549870311,
          86.9943696213111,
          103.300833789336,
          100.015940172411,
          109.688856416941,
          87.2462097974492,
          111.448592651352,
          118.622577611946,
          123.768453741149,
          110.015241512496,
          122.75001536843,
          129.578261643066,
          142.899021266802,
          120.211179486163,
          143.616148768282,
          153.377062518314,
          163.227398597685,
          135.040230358843,
          149.953513166436,
          164.100170833526,
          177.404782255831,
          152.958935315721,
          102.674057954399,
          153.805740979836,
          165.873621344872,
          104.287898051507,
          139.663707148809,
          165.009204076054,
          182.008655568602,
          143.728826030175,
          162.892320500678,
          179.996530978774,
          178.301453511829
         ]
        },
        {
         "connectgaps": true,
         "mode": "lines",
         "name": "BEQ04C01-Building (excluding civil engineering)",
         "type": "scatter",
         "x": [
          "2000Q1",
          "2000Q2",
          "2000Q3",
          "2000Q4",
          "2001Q1",
          "2001Q2",
          "2001Q3",
          "2001Q4",
          "2002Q1",
          "2002Q2",
          "2002Q3",
          "2002Q4",
          "2003Q1",
          "2003Q2",
          "2003Q3",
          "2003Q4",
          "2004Q1",
          "2004Q2",
          "2004Q3",
          "2004Q4",
          "2005Q1",
          "2005Q2",
          "2005Q3",
          "2005Q4",
          "2006Q1",
          "2006Q2",
          "2006Q3",
          "2006Q4",
          "2007Q1",
          "2007Q2",
          "2007Q3",
          "2007Q4",
          "2008Q1",
          "2008Q2",
          "2008Q3",
          "2008Q4",
          "2009Q1",
          "2009Q2",
          "2009Q3",
          "2009Q4",
          "2010Q1",
          "2010Q2",
          "2010Q3",
          "2010Q4",
          "2011Q1",
          "2011Q2",
          "2011Q3",
          "2011Q4",
          "2012Q1",
          "2012Q2",
          "2012Q3",
          "2012Q4",
          "2013Q1",
          "2013Q2",
          "2013Q3",
          "2013Q4",
          "2014Q1",
          "2014Q2",
          "2014Q3",
          "2014Q4",
          "2015Q1",
          "2015Q2",
          "2015Q3",
          "2015Q4",
          "2016Q1",
          "2016Q2",
          "2016Q3",
          "2016Q4",
          "2017Q1",
          "2017Q2",
          "2017Q3",
          "2017Q4",
          "2018Q1",
          "2018Q2",
          "2018Q3",
          "2018Q4",
          "2019Q1",
          "2019Q2",
          "2019Q3",
          "2019Q4",
          "2020Q1",
          "2020Q2",
          "2020Q3",
          "2020Q4",
          "2021Q1",
          "2021Q2",
          "2021Q3",
          "2021Q4",
          "2022Q1",
          "2022Q2",
          "2022Q3",
          "2022Q4"
         ],
         "y": [
          182.795802254117,
          196.823792013697,
          209.384591799189,
          210.372835031086,
          209.547935300614,
          226.467716398974,
          224.606755902268,
          229.999077901212,
          207.80954408193,
          217.042843489989,
          245.742968606831,
          249.24659372488,
          225.524788451493,
          244.291054128083,
          284.322183247792,
          294.353224950941,
          303.213988887259,
          337.612190719066,
          316.835449667276,
          318.618921153532,
          326.56879484208,
          381.876433349431,
          376.464446188823,
          379.558888312479,
          379.551955020777,
          394.636630957154,
          381.886279346242,
          433.067359745989,
          342.700078344427,
          375.233997717191,
          336.740515991284,
          336.287131664938,
          262.611494736378,
          255.503778324213,
          227.235857836171,
          202.170099428813,
          148.921430182213,
          135.357240212555,
          123.875187321564,
          112.72256142301,
          83.6256971493847,
          83.9025720275154,
          92.4481749652974,
          93.0070009201357,
          69.5878191202959,
          70.0833455410036,
          76.2114964031669,
          81.9592220437813,
          62.4416717910165,
          62.3918375780881,
          68.2281139431001,
          73.3567531909703,
          62.088756313301,
          71.6009874633597,
          83.0893780287939,
          93.2494856089707,
          72.7788282321882,
          81.2848862628165,
          91.5712210291301,
          102.151181940324,
          87.2190162115268,
          102.405819903846,
          100.167889380649,
          110.207274503977,
          88.9096527327527,
          111.769529578752,
          120.080502993239,
          126.281542144255,
          114.534657166964,
          127.140297416283,
          132.493601676135,
          146.542241579745,
          123.978996062005,
          150.821295947192,
          157.022638508903,
          165.435866625628,
          141.177878530954,
          154.576433897698,
          173.178882372505,
          187.81591013257,
          161.812162952862,
          110.724051254904,
          163.314956811788,
          173.508621523942,
          108.816541342562,
          143.484324872887,
          171.101313294475,
          186.417117967111,
          152.249893262979,
          170.989271863493,
          186.691702261792,
          181.766263421233
         ]
        },
        {
         "connectgaps": true,
         "mode": "lines",
         "name": "BEQ04C01-Residential building",
         "type": "scatter",
         "x": [
          "2000Q1",
          "2000Q2",
          "2000Q3",
          "2000Q4",
          "2001Q1",
          "2001Q2",
          "2001Q3",
          "2001Q4",
          "2002Q1",
          "2002Q2",
          "2002Q3",
          "2002Q4",
          "2003Q1",
          "2003Q2",
          "2003Q3",
          "2003Q4",
          "2004Q1",
          "2004Q2",
          "2004Q3",
          "2004Q4",
          "2005Q1",
          "2005Q2",
          "2005Q3",
          "2005Q4",
          "2006Q1",
          "2006Q2",
          "2006Q3",
          "2006Q4",
          "2007Q1",
          "2007Q2",
          "2007Q3",
          "2007Q4",
          "2008Q1",
          "2008Q2",
          "2008Q3",
          "2008Q4",
          "2009Q1",
          "2009Q2",
          "2009Q3",
          "2009Q4",
          "2010Q1",
          "2010Q2",
          "2010Q3",
          "2010Q4",
          "2011Q1",
          "2011Q2",
          "2011Q3",
          "2011Q4",
          "2012Q1",
          "2012Q2",
          "2012Q3",
          "2012Q4",
          "2013Q1",
          "2013Q2",
          "2013Q3",
          "2013Q4",
          "2014Q1",
          "2014Q2",
          "2014Q3",
          "2014Q4",
          "2015Q1",
          "2015Q2",
          "2015Q3",
          "2015Q4",
          "2016Q1",
          "2016Q2",
          "2016Q3",
          "2016Q4",
          "2017Q1",
          "2017Q2",
          "2017Q3",
          "2017Q4",
          "2018Q1",
          "2018Q2",
          "2018Q3",
          "2018Q4",
          "2019Q1",
          "2019Q2",
          "2019Q3",
          "2019Q4",
          "2020Q1",
          "2020Q2",
          "2020Q3",
          "2020Q4",
          "2021Q1",
          "2021Q2",
          "2021Q3",
          "2021Q4",
          "2022Q1",
          "2022Q2",
          "2022Q3",
          "2022Q4"
         ],
         "y": [
          279.281551222912,
          306.710989289448,
          330.40004943782,
          330.40004943782,
          332.224641008193,
          369.617890714295,
          362.42688107151,
          373.932496437626,
          339.824989817887,
          361.749182880295,
          425.955747809799,
          438.483857819477,
          397.631705478083,
          440.777215369425,
          530.373583741029,
          552.741267802627,
          580.547758405582,
          650.115455006707,
          589.428221946443,
          600.41079346222,
          627.890235347781,
          741.81644907467,
          717.866952945904,
          706.414467117522,
          711.76729062178,
          748.704594518197,
          720.491580631903,
          825.71675499562,
          617.198391741905,
          688.443367339795,
          588.173909703037,
          585.846847290155,
          418.999056415455,
          395.349127130655,
          329.368678941908,
          261.168522398431,
          177.313545762535,
          153.980466787289,
          129.547519130481,
          119.582953654087,
          87.9644974356549,
          92.9740258150884,
          95.4041895680968,
          91.9859991401427,
          65.5545782165471,
          61.8933193676055,
          62.9947715051189,
          71.8172875639285,
          55.1356530110909,
          55.6178060563772,
          59.6401553687861,
          61.2579600783524,
          59.281905463766,
          63.2672889560637,
          64.9124262712351,
          70.877533125236,
          56.2737919793384,
          71.1597553523984,
          82.6829274142784,
          97.8824426982786,
          85.5852367593501,
          104.603908368105,
          105.004527307169,
          104.806327565374,
          99.9571539258965,
          135.115872683866,
          130.280640522674,
          131.724629215394,
          117.140854995853,
          147.44447362765,
          164.965113577981,
          156.84765164558,
          133.219468679588,
          158.578497142229,
          156.431455983463,
          154.127882804995,
          139.942580025284,
          175.379507247374,
          186.051106465979,
          195.153107679177,
          155.989525467233,
          90.3639557213872,
          148.740216249052,
          150.39320720141,
          73.5361087295046,
          123.720229786994,
          155.063588698018,
          165.192913289849,
          137.22949754008,
          154.76322184943,
          144.661943620784,
          151.054300011773
         ]
        },
        {
         "connectgaps": true,
         "mode": "lines",
         "name": "BEQ04C01-Non-residential building",
         "type": "scatter",
         "x": [
          "2000Q1",
          "2000Q2",
          "2000Q3",
          "2000Q4",
          "2001Q1",
          "2001Q2",
          "2001Q3",
          "2001Q4",
          "2002Q1",
          "2002Q2",
          "2002Q3",
          "2002Q4",
          "2003Q1",
          "2003Q2",
          "2003Q3",
          "2003Q4",
          "2004Q1",
          "2004Q2",
          "2004Q3",
          "2004Q4",
          "2005Q1",
          "2005Q2",
          "2005Q3",
          "2005Q4",
          "2006Q1",
          "2006Q2",
          "2006Q3",
          "2006Q4",
          "2007Q1",
          "2007Q2",
          "2007Q3",
          "2007Q4",
          "2008Q1",
          "2008Q2",
          "2008Q3",
          "2008Q4",
          "2009Q1",
          "2009Q2",
          "2009Q3",
          "2009Q4",
          "2010Q1",
          "2010Q2",
          "2010Q3",
          "2010Q4",
          "2011Q1",
          "2011Q2",
          "2011Q3",
          "2011Q4",
          "2012Q1",
          "2012Q2",
          "2012Q3",
          "2012Q4",
          "2013Q1",
          "2013Q2",
          "2013Q3",
          "2013Q4",
          "2014Q1",
          "2014Q2",
          "2014Q3",
          "2014Q4",
          "2015Q1",
          "2015Q2",
          "2015Q3",
          "2015Q4",
          "2016Q1",
          "2016Q2",
          "2016Q3",
          "2016Q4",
          "2017Q1",
          "2017Q2",
          "2017Q3",
          "2017Q4",
          "2018Q1",
          "2018Q2",
          "2018Q3",
          "2018Q4",
          "2019Q1",
          "2019Q2",
          "2019Q3",
          "2019Q4",
          "2020Q1",
          "2020Q2",
          "2020Q3",
          "2020Q4",
          "2021Q1",
          "2021Q2",
          "2021Q3",
          "2021Q4",
          "2022Q1",
          "2022Q2",
          "2022Q3",
          "2022Q4"
         ],
         "y": [
          115.359508444902,
          119.799136019842,
          124.415782182151,
          126.150564896943,
          123.359796621535,
          125.543338713115,
          127.568453462809,
          128.567234462583,
          114.71507074804,
          114.789324013223,
          117.920335723626,
          114.851201734208,
          103.272660239551,
          104.464456329272,
          108.801722948082,
          109.949983021085,
          105.748305562215,
          115.122157470609,
          122.667284900791,
          117.935244566517,
          112.035877720033,
          125.642898845117,
          133.367965081126,
          146.740848628722,
          142.942143280672,
          142.504155010533,
          140.746110751338,
          153.480020222558,
          147.076171254237,
          152.08809422491,
          157.458895300202,
          158.332948048061,
          150.879658557711,
          155.504473883501,
          154.034357431686,
          159.588803888187,
          128.214679470104,
          121.618084528284,
          119.346085055654,
          107.399427899243,
          80.1403111429848,
          76.6154152093138,
          90.0735895380969,
          93.8271781769127,
          72.8277473213814,
          76.6624459220788,
          86.8285760036874,
          90.1063028453014,
          68.3106433817638,
          67.8334604035024,
          75.1268759656742,
          83.0757910417063,
          64.3435175439522,
          78.2955007487022,
          97.691039574562,
          111.221018055254,
          86.0374293650501,
          89.4184686495903,
          98.7112441097055,
          105.580287462022,
          87.4721369717231,
          102.065270986848,
          99.4185511103434,
          111.044040931084,
          87.1980680408572,
          108.152490506129,
          118.500199995721,
          125.438246964219,
          114.130880038545,
          123.994579975086,
          127.462804057539,
          144.945628752643,
          122.547373543788,
          149.619476043736,
          157.114230167774,
          167.187807780938,
          141.36926280648,
          151.353422533664,
          171.184594132671,
          186.679161216898,
          162.714261718241,
          113.878432253055,
          165.573015208832,
          177.089882897855,
          114.282523860078,
          146.546367773519,
          173.5860311897,
          189.705375029786,
          154.576996825682,
          173.503166936095,
          193.20335500899,
          186.524454935375
         ]
        },
        {
         "connectgaps": true,
         "mode": "lines",
         "name": "BEQ04C01-Civil engineering",
         "type": "scatter",
         "x": [
          "2000Q1",
          "2000Q2",
          "2000Q3",
          "2000Q4",
          "2001Q1",
          "2001Q2",
          "2001Q3",
          "2001Q4",
          "2002Q1",
          "2002Q2",
          "2002Q3",
          "2002Q4",
          "2003Q1",
          "2003Q2",
          "2003Q3",
          "2003Q4",
          "2004Q1",
          "2004Q2",
          "2004Q3",
          "2004Q4",
          "2005Q1",
          "2005Q2",
          "2005Q3",
          "2005Q4",
          "2006Q1",
          "2006Q2",
          "2006Q3",
          "2006Q4",
          "2007Q1",
          "2007Q2",
          "2007Q3",
          "2007Q4",
          "2008Q1",
          "2008Q2",
          "2008Q3",
          "2008Q4",
          "2009Q1",
          "2009Q2",
          "2009Q3",
          "2009Q4",
          "2010Q1",
          "2010Q2",
          "2010Q3",
          "2010Q4",
          "2011Q1",
          "2011Q2",
          "2011Q3",
          "2011Q4",
          "2012Q1",
          "2012Q2",
          "2012Q3",
          "2012Q4",
          "2013Q1",
          "2013Q2",
          "2013Q3",
          "2013Q4",
          "2014Q1",
          "2014Q2",
          "2014Q3",
          "2014Q4",
          "2015Q1",
          "2015Q2",
          "2015Q3",
          "2015Q4",
          "2016Q1",
          "2016Q2",
          "2016Q3",
          "2016Q4",
          "2017Q1",
          "2017Q2",
          "2017Q3",
          "2017Q4",
          "2018Q1",
          "2018Q2",
          "2018Q3",
          "2018Q4",
          "2019Q1",
          "2019Q2",
          "2019Q3",
          "2019Q4",
          "2020Q1",
          "2020Q2",
          "2020Q3",
          "2020Q4",
          "2021Q1",
          "2021Q2",
          "2021Q3",
          "2021Q4",
          "2022Q1",
          "2022Q2",
          "2022Q3",
          "2022Q4"
         ],
         "y": [
          60.4388869219421,
          62.7648863353802,
          65.1836289177972,
          66.0925122664424,
          75.9941511641423,
          77.3392929928335,
          78.5868378298977,
          79.2021235659531,
          94.451655957043,
          94.5127930387482,
          97.0907388918396,
          94.5637405538192,
          95.8011121745837,
          96.9066843851203,
          100.930159494411,
          101.995345488046,
          94.609819613647,
          111.17197785322,
          116.605642020413,
          107.150768569467,
          101.96056312197,
          116.471132731865,
          143.034964477256,
          142.259438481434,
          139.000768982884,
          141.645920445715,
          151.104293727372,
          167.609561307026,
          155.853126403735,
          163.837064446969,
          165.800465424272,
          170.831234012442,
          151.846274296517,
          167.171189286002,
          163.976966079514,
          153.750316058636,
          132.792865673888,
          138.464929369481,
          143.029208091589,
          132.439608977018,
          106.882672411855,
          123.065597793175,
          96.1243976626298,
          100.355439827537,
          65.9668809866619,
          72.182385112231,
          85.3366473455703,
          97.7003081610137,
          78.0054530086565,
          82.6968486204422,
          93.1755029198471,
          123.211919195881,
          80.8987619347181,
          95.1736515494321,
          110.829847240018,
          110.368316064753,
          79.2601985938236,
          114.825392524512,
          111.852707390089,
          108.141451757305,
          85.9709795992174,
          107.378119267678,
          99.3237271126593,
          107.327174020444,
          79.6683030921778,
          109.986546648753,
          111.980917541612,
          112.319939904779,
          89.4267924199205,
          102.749841594878,
          116.297268159084,
          126.302128730063,
          103.046681751773,
          110.792700508801,
          136.769438561189,
          153.16659980372,
          107.079833130339,
          128.893540946242,
          122.741596044848,
          129.976310817355,
          112.627564968747,
          66.0018662520965,
          110.485979967609,
          131.091953862441,
          83.6574119478134,
          122.258670850227,
          137.256262081026,
          161.925660197616,
          104.91063085851,
          126.006208736743,
          149.496306245024,
          162.517319480097
         ]
        },
        {
         "connectgaps": true,
         "mode": "lines",
         "name": "BEQ04C02-All building and construction",
         "type": "scatter",
         "x": [
          "2000Q1",
          "2000Q2",
          "2000Q3",
          "2000Q4",
          "2001Q1",
          "2001Q2",
          "2001Q3",
          "2001Q4",
          "2002Q1",
          "2002Q2",
          "2002Q3",
          "2002Q4",
          "2003Q1",
          "2003Q2",
          "2003Q3",
          "2003Q4",
          "2004Q1",
          "2004Q2",
          "2004Q3",
          "2004Q4",
          "2005Q1",
          "2005Q2",
          "2005Q3",
          "2005Q4",
          "2006Q1",
          "2006Q2",
          "2006Q3",
          "2006Q4",
          "2007Q1",
          "2007Q2",
          "2007Q3",
          "2007Q4",
          "2008Q1",
          "2008Q2",
          "2008Q3",
          "2008Q4",
          "2009Q1",
          "2009Q2",
          "2009Q3",
          "2009Q4",
          "2010Q1",
          "2010Q2",
          "2010Q3",
          "2010Q4",
          "2011Q1",
          "2011Q2",
          "2011Q3",
          "2011Q4",
          "2012Q1",
          "2012Q2",
          "2012Q3",
          "2012Q4",
          "2013Q1",
          "2013Q2",
          "2013Q3",
          "2013Q4",
          "2014Q1",
          "2014Q2",
          "2014Q3",
          "2014Q4",
          "2015Q1",
          "2015Q2",
          "2015Q3",
          "2015Q4",
          "2016Q1",
          "2016Q2",
          "2016Q3",
          "2016Q4",
          "2017Q1",
          "2017Q2",
          "2017Q3",
          "2017Q4",
          "2018Q1",
          "2018Q2",
          "2018Q3",
          "2018Q4",
          "2019Q1",
          "2019Q2",
          "2019Q3",
          "2019Q4",
          "2020Q1",
          "2020Q2",
          "2020Q3",
          "2020Q4",
          "2021Q1",
          "2021Q2",
          "2021Q3",
          "2021Q4",
          "2022Q1",
          "2022Q2",
          "2022Q3",
          "2022Q4"
         ],
         "y": [
          206.81997135653,
          216.69209903382,
          228.746937337031,
          221.786474399994,
          212.48466154237,
          225.728420509875,
          231.175473316256,
          234.256484411007,
          216.771637192579,
          221.827117525073,
          244.923119630178,
          238.867731016153,
          225.342747844468,
          236.617281848433,
          266.89968770419,
          245.745815145904,
          297.908187578236,
          324.7799045376,
          303.405083277719,
          296.182233787953,
          300.433982114917,
          346.44230346926,
          350.287589711815,
          345.894904602857,
          340.3996476035,
          346.877276623175,
          337.252947138766,
          371.033551460534,
          300.156518832456,
          323.163613601868,
          291.880817354658,
          292.648049361256,
          230.525530631165,
          228.991558060177,
          207.534153505035,
          187.738738624833,
          146.0433702316,
          139.086444176089,
          132.700602657161,
          121.373276341381,
          92.3092094402992,
          96.8201476669973,
          94.0108791363514,
          95.7871163940093,
          70.3569175288962,
          73.6222849296053,
          81.9675101461357,
          89.7390785398944,
          69.3477409552573,
          70.3498965565796,
          77.6268240285624,
          90.6184194238318,
          69.291733724737,
          80.3281132095427,
          93.1479110931413,
          100.109163490671,
          76.0101785829216,
          92.3574502249287,
          98.1916363758417,
          104.361847772402,
          87.3437445997099,
          103.197636153183,
          99.8163075572965,
          109.579277139801,
          87.5965961821779,
          111.115246910621,
          118.032415534275,
          122.786164425743,
          108.818240863003,
          120.698146871613,
          127.03751141477,
          140.097079673335,
          117.738667469308,
          134.472049408503,
          143.075618020815,
          152.548970652042,
          125.502072824203,
          138.974525640812,
          152.085422459246,
          162.458591809369,
          139.944131121428,
          93.7662629720541,
          140.461863908526,
          151.759946335656,
          94.807180046825,
          122.512023814744,
          140.313949044264,
          152.308498383767,
          117.810513139487,
          128.76863280686,
          137.928376228945,
          135.693648030311
         ]
        },
        {
         "connectgaps": true,
         "mode": "lines",
         "name": "BEQ04C02-Building (excluding civil engineering)",
         "type": "scatter",
         "x": [
          "2000Q1",
          "2000Q2",
          "2000Q3",
          "2000Q4",
          "2001Q1",
          "2001Q2",
          "2001Q3",
          "2001Q4",
          "2002Q1",
          "2002Q2",
          "2002Q3",
          "2002Q4",
          "2003Q1",
          "2003Q2",
          "2003Q3",
          "2003Q4",
          "2004Q1",
          "2004Q2",
          "2004Q3",
          "2004Q4",
          "2005Q1",
          "2005Q2",
          "2005Q3",
          "2005Q4",
          "2006Q1",
          "2006Q2",
          "2006Q3",
          "2006Q4",
          "2007Q1",
          "2007Q2",
          "2007Q3",
          "2007Q4",
          "2008Q1",
          "2008Q2",
          "2008Q3",
          "2008Q4",
          "2009Q1",
          "2009Q2",
          "2009Q3",
          "2009Q4",
          "2010Q1",
          "2010Q2",
          "2010Q3",
          "2010Q4",
          "2011Q1",
          "2011Q2",
          "2011Q3",
          "2011Q4",
          "2012Q1",
          "2012Q2",
          "2012Q3",
          "2012Q4",
          "2013Q1",
          "2013Q2",
          "2013Q3",
          "2013Q4",
          "2014Q1",
          "2014Q2",
          "2014Q3",
          "2014Q4",
          "2015Q1",
          "2015Q2",
          "2015Q3",
          "2015Q4",
          "2016Q1",
          "2016Q2",
          "2016Q3",
          "2016Q4",
          "2017Q1",
          "2017Q2",
          "2017Q3",
          "2017Q4",
          "2018Q1",
          "2018Q2",
          "2018Q3",
          "2018Q4",
          "2019Q1",
          "2019Q2",
          "2019Q3",
          "2019Q4",
          "2020Q1",
          "2020Q2",
          "2020Q3",
          "2020Q4",
          "2021Q1",
          "2021Q2",
          "2021Q3",
          "2021Q4",
          "2022Q1",
          "2022Q2",
          "2022Q3",
          "2022Q4"
         ],
         "y": [
          265.870115644885,
          279.040288097419,
          295.483888753868,
          284.011851104239,
          267.604231453381,
          285.574213831363,
          293.105206962411,
          296.934935244946,
          263.801207823433,
          268.743536263211,
          302.829917028052,
          298.808758551712,
          276.956200789234,
          291.857115830991,
          337.037171483549,
          304.726790666525,
          379.605776629742,
          411.037140917989,
          378.223603405397,
          373.814151409601,
          382.794915541841,
          442.681351189664,
          434.662000739379,
          430.063603512214,
          424.638378751191,
          433.946113797471,
          415.964145162416,
          459.150730987772,
          362.010985197051,
          392.428747747892,
          347.140318799778,
          346.054976958808,
          265.739304979787,
          256.970427072351,
          227.549174574243,
          203.153637850138,
          151.358416172498,
          138.30273071517,
          126.795234776927,
          115.277517259643,
          85.1241386981417,
          84.8075344771006,
          92.8874267561623,
          93.5419844790187,
          71.4832615308094,
          72.9571302259929,
          79.0919531215882,
          84.7954718691893,
          64.4703931961768,
          64.0261414625823,
          69.8732755290158,
          75.1255799317758,
          63.4571652720206,
          73.031205376692,
          84.578209578698,
          94.8247808807897,
          74.0083057274686,
          82.0794530726466,
          92.0063061224143,
          102.534511530126,
          87.569293385067,
          102.303516387459,
          99.9679534737019,
          110.09717732665,
          89.2667196111975,
          111.435223907031,
          119.483087555462,
          125.279307682792,
          113.288483844673,
          125.01504170726,
          129.89568791778,
          143.668864293867,
          121.428987328115,
          141.21844189812,
          146.476341892633,
          154.612959463204,
          131.206206813154,
          143.258974882019,
          160.499427592683,
          171.992591696492,
          148.044064915702,
          101.11785502731,
          149.146079280172,
          158.745307890157,
          98.9241284932385,
          125.863442870954,
          145.494314025914,
          155.997588256997,
          124.794994477852,
          135.169384872327,
          143.058775679534,
          138.330489666083
         ]
        },
        {
         "connectgaps": true,
         "mode": "lines",
         "name": "BEQ04C02-Residential building",
         "type": "scatter",
         "x": [
          "2000Q1",
          "2000Q2",
          "2000Q3",
          "2000Q4",
          "2001Q1",
          "2001Q2",
          "2001Q3",
          "2001Q4",
          "2002Q1",
          "2002Q2",
          "2002Q3",
          "2002Q4",
          "2003Q1",
          "2003Q2",
          "2003Q3",
          "2003Q4",
          "2004Q1",
          "2004Q2",
          "2004Q3",
          "2004Q4",
          "2005Q1",
          "2005Q2",
          "2005Q3",
          "2005Q4",
          "2006Q1",
          "2006Q2",
          "2006Q3",
          "2006Q4",
          "2007Q1",
          "2007Q2",
          "2007Q3",
          "2007Q4",
          "2008Q1",
          "2008Q2",
          "2008Q3",
          "2008Q4",
          "2009Q1",
          "2009Q2",
          "2009Q3",
          "2009Q4",
          "2010Q1",
          "2010Q2",
          "2010Q3",
          "2010Q4",
          "2011Q1",
          "2011Q2",
          "2011Q3",
          "2011Q4",
          "2012Q1",
          "2012Q2",
          "2012Q3",
          "2012Q4",
          "2013Q1",
          "2013Q2",
          "2013Q3",
          "2013Q4",
          "2014Q1",
          "2014Q2",
          "2014Q3",
          "2014Q4",
          "2015Q1",
          "2015Q2",
          "2015Q3",
          "2015Q4",
          "2016Q1",
          "2016Q2",
          "2016Q3",
          "2016Q4",
          "2017Q1",
          "2017Q2",
          "2017Q3",
          "2017Q4",
          "2018Q1",
          "2018Q2",
          "2018Q3",
          "2018Q4",
          "2019Q1",
          "2019Q2",
          "2019Q3",
          "2019Q4",
          "2020Q1",
          "2020Q2",
          "2020Q3",
          "2020Q4",
          "2021Q1",
          "2021Q2",
          "2021Q3",
          "2021Q4",
          "2022Q1",
          "2022Q2",
          "2022Q3",
          "2022Q4"
         ],
         "y": [
          445.508869340789,
          469.562334576995,
          501.036394110496,
          471.36345427894,
          452.223077420161,
          491.339981022928,
          506.14200458339,
          513.713124734737,
          453.923217395562,
          465.435849957268,
          541.03804999022,
          536.032475508108,
          499.206490467809,
          532.486860249945,
          632.328441464236,
          554.674088016623,
          726.851830062808,
          791.548979808233,
          703.671794633753,
          704.461110688033,
          736.036775144862,
          859.981553788882,
          828.888236469644,
          800.455910997857,
          796.361661359665,
          823.328623832417,
          784.829032432047,
          875.498149716287,
          652.013576619012,
          720.030945525092,
          606.372851183002,
          602.89718401853,
          424.013237911661,
          397.640774850058,
          329.841278971636,
          262.453771766974,
          180.225234112166,
          157.340020908346,
          132.608699545992,
          122.300251291093,
          89.5510585550933,
          93.9877208883219,
          95.8685933501939,
          92.5258295264274,
          67.3479653598181,
          64.4387356709391,
          65.3832696824945,
          74.3111788681259,
          56.9335989838716,
          57.0812828784781,
          61.0853155201188,
          62.7423217858253,
          60.595473034228,
          64.5385198171037,
          66.0832114708628,
          72.0832427008139,
          57.2310748707121,
          71.8636739965028,
          83.0854072674157,
          98.2611377217057,
          85.9289525696287,
          104.499408959146,
          104.794937432305,
          104.701625939435,
          100.358588279012,
          134.711737471452,
          129.632478132014,
          130.679195650193,
          115.866325416274,
          144.979816743018,
          161.730503507824,
          153.772207495666,
          130.479401253269,
          148.481738897218,
          145.924865656215,
          144.044750285042,
          130.0581598748,
          162.538931647242,
          172.429199690434,
          178.711637068843,
          142.716857701037,
          82.5241604761527,
          135.835813926074,
          137.596712901564,
          66.8510079359132,
          108.526517357012,
          131.856793110559,
          138.236747522886,
          112.483194704983,
          122.342467865162,
          110.852064077229,
          114.957610359035
         ]
        },
        {
         "connectgaps": true,
         "mode": "lines",
         "name": "BEQ04C02-Non-residential building",
         "type": "scatter",
         "x": [
          "2000Q1",
          "2000Q2",
          "2000Q3",
          "2000Q4",
          "2001Q1",
          "2001Q2",
          "2001Q3",
          "2001Q4",
          "2002Q1",
          "2002Q2",
          "2002Q3",
          "2002Q4",
          "2003Q1",
          "2003Q2",
          "2003Q3",
          "2003Q4",
          "2004Q1",
          "2004Q2",
          "2004Q3",
          "2004Q4",
          "2005Q1",
          "2005Q2",
          "2005Q3",
          "2005Q4",
          "2006Q1",
          "2006Q2",
          "2006Q3",
          "2006Q4",
          "2007Q1",
          "2007Q2",
          "2007Q3",
          "2007Q4",
          "2008Q1",
          "2008Q2",
          "2008Q3",
          "2008Q4",
          "2009Q1",
          "2009Q2",
          "2009Q3",
          "2009Q4",
          "2010Q1",
          "2010Q2",
          "2010Q3",
          "2010Q4",
          "2011Q1",
          "2011Q2",
          "2011Q3",
          "2011Q4",
          "2012Q1",
          "2012Q2",
          "2012Q3",
          "2012Q4",
          "2013Q1",
          "2013Q2",
          "2013Q3",
          "2013Q4",
          "2014Q1",
          "2014Q2",
          "2014Q3",
          "2014Q4",
          "2015Q1",
          "2015Q2",
          "2015Q3",
          "2015Q4",
          "2016Q1",
          "2016Q2",
          "2016Q3",
          "2016Q4",
          "2017Q1",
          "2017Q2",
          "2017Q3",
          "2017Q4",
          "2018Q1",
          "2018Q2",
          "2018Q3",
          "2018Q4",
          "2019Q1",
          "2019Q2",
          "2019Q3",
          "2019Q4",
          "2020Q1",
          "2020Q2",
          "2020Q3",
          "2020Q4",
          "2021Q1",
          "2021Q2",
          "2021Q3",
          "2021Q4",
          "2022Q1",
          "2022Q2",
          "2022Q3",
          "2022Q4"
         ],
         "y": [
          140.914436021031,
          146.337422551468,
          151.976824217242,
          154.095882903616,
          138.845068267034,
          141.302766949277,
          143.582023268388,
          144.706224989236,
          130.494469998324,
          130.579018748935,
          134.140746116793,
          130.64932770997,
          119.23064811206,
          120.606716111044,
          125.614078783213,
          126.939862525255,
          132.382944365408,
          140.151227650734,
          146.426153350281,
          138.357538811325,
          131.317804297082,
          145.640221777173,
          153.976430265145,
          166.256856350828,
          159.912831962165,
          156.689880855826,
          153.296860137059,
          162.714662633899,
          155.354871384752,
          159.048239617753,
          162.312474826095,
          162.922536644052,
          152.667913531363,
          156.388106827092,
          154.237868917472,
          160.355962585205,
          130.305318381264,
          124.257450237769,
          122.15234248129,
          109.827411548475,
          81.5687085801443,
          77.4345726187481,
          90.4931368576127,
          94.358097722479,
          74.8044774164086,
          79.7985815141759,
          90.1019256425297,
          93.2158120394222,
          70.5234833811053,
          69.6038253089216,
          76.9312252324254,
          85.0710522677869,
          65.7555007060155,
          79.8520087788198,
          99.4322560556508,
          113.089387511901,
          87.4827470573788,
          90.284139351097,
          99.1710241416179,
          105.966622893078,
          87.8234306945011,
          101.963307679169,
          99.2201108885662,
          110.933107823261,
          87.548261085198,
          107.829003495642,
          117.910646761911,
          124.442705321646,
          112.889099939213,
          121.92190754679,
          124.963533389744,
          142.103557600631,
          120.026810522809,
          140.093142363048,
          146.561781872923,
          156.250287645736,
          131.384073240223,
          140.271939326843,
          158.651153042327,
          170.951612835987,
          148.869406878537,
          103.99856826763,
          151.208233067426,
          162.021850775714,
          103.893203509162,
          128.549445415367,
          147.607169378997,
          158.749267807352,
          126.702456414493,
          137.156653704423,
          148.048547899609,
          141.951639981259
         ]
        },
        {
         "connectgaps": true,
         "mode": "lines",
         "name": "BEQ04C02-Civil engineering",
         "type": "scatter",
         "x": [
          "2000Q1",
          "2000Q2",
          "2000Q3",
          "2000Q4",
          "2001Q1",
          "2001Q2",
          "2001Q3",
          "2001Q4",
          "2002Q1",
          "2002Q2",
          "2002Q3",
          "2002Q4",
          "2003Q1",
          "2003Q2",
          "2003Q3",
          "2003Q4",
          "2004Q1",
          "2004Q2",
          "2004Q3",
          "2004Q4",
          "2005Q1",
          "2005Q2",
          "2005Q3",
          "2005Q4",
          "2006Q1",
          "2006Q2",
          "2006Q3",
          "2006Q4",
          "2007Q1",
          "2007Q2",
          "2007Q3",
          "2007Q4",
          "2008Q1",
          "2008Q2",
          "2008Q3",
          "2008Q4",
          "2009Q1",
          "2009Q2",
          "2009Q3",
          "2009Q4",
          "2010Q1",
          "2010Q2",
          "2010Q3",
          "2010Q4",
          "2011Q1",
          "2011Q2",
          "2011Q3",
          "2011Q4",
          "2012Q1",
          "2012Q2",
          "2012Q3",
          "2012Q4",
          "2013Q1",
          "2013Q2",
          "2013Q3",
          "2013Q4",
          "2014Q1",
          "2014Q2",
          "2014Q3",
          "2014Q4",
          "2015Q1",
          "2015Q2",
          "2015Q3",
          "2015Q4",
          "2016Q1",
          "2016Q2",
          "2016Q3",
          "2016Q4",
          "2017Q1",
          "2017Q2",
          "2017Q3",
          "2017Q4",
          "2018Q1",
          "2018Q2",
          "2018Q3",
          "2018Q4",
          "2019Q1",
          "2019Q2",
          "2019Q3",
          "2019Q4",
          "2020Q1",
          "2020Q2",
          "2020Q3",
          "2020Q4",
          "2021Q1",
          "2021Q2",
          "2021Q3",
          "2021Q4",
          "2022Q1",
          "2022Q2",
          "2022Q3",
          "2022Q4"
         ],
         "y": [
          82.6456034709101,
          85.8261576219107,
          89.133638154375,
          90.376455348062,
          93.7528362877361,
          97.5392268475872,
          98.8724323280052,
          100.312294246856,
          110.313379743388,
          114.814786018968,
          117.036215183241,
          108.6180121478,
          110.332431749927,
          114.188070698842,
          116.32354834503,
          116.026980809451,
          118.465780580001,
          135.372797997877,
          139.221898628731,
          125.733959785075,
          119.535465377459,
          135.039164592706,
          165.174497498902,
          161.215831637009,
          155.538636466118,
          155.781382464577,
          164.615877660299,
          177.734481436539,
          164.66304356333,
          171.373578832305,
          170.949763562212,
          175.822804440603,
          153.680681557036,
          168.159081237488,
          164.230691419413,
          154.524294812598,
          134.988631183253,
          141.501852908757,
          146.425399039424,
          135.464260248283,
          108.808662615461,
          124.405338676338,
          96.5907215076583,
          100.942730059175,
          67.7704349756135,
          75.1497144122545,
          88.5708019134183,
          101.091340710556,
          80.5478493268792,
          84.8714656279058,
          95.4317023659482,
          126.195435840615,
          82.6899579646238,
          97.0843837365948,
          112.826964221047,
          112.243967246995,
          80.6071837658183,
          115.959351839277,
          112.395333256729,
          108.558055415537,
          86.3162445775275,
          107.270848419259,
          99.1254761603386,
          107.219954066378,
          79.9882561166444,
          109.657573926973,
          111.423798548868,
          111.428511810297,
          88.4538006131756,
          101.032292620332,
          114.016929567729,
          123.825616402023,
          100.927210334744,
          103.738483622473,
          127.583431493646,
          143.146354956748,
          99.5165735412072,
          119.456479097537,
          113.754954629145,
          119.025925656919,
          103.044432725295,
          60.2756769425539,
          100.900438326583,
          119.937743698482,
          76.0521926798303,
          107.244448114234,
          116.714508572301,
          135.502644516833,
          85.992320375828,
          99.6096511752914,
          114.556556509597,
          123.68136946735
         ]
        },
        {
         "connectgaps": true,
         "mode": "lines",
         "name": "BEQ04C03-All building and construction",
         "type": "scatter",
         "x": [
          "2000Q1",
          "2000Q2",
          "2000Q3",
          "2000Q4",
          "2001Q1",
          "2001Q2",
          "2001Q3",
          "2001Q4",
          "2002Q1",
          "2002Q2",
          "2002Q3",
          "2002Q4",
          "2003Q1",
          "2003Q2",
          "2003Q3",
          "2003Q4",
          "2004Q1",
          "2004Q2",
          "2004Q3",
          "2004Q4",
          "2005Q1",
          "2005Q2",
          "2005Q3",
          "2005Q4",
          "2006Q1",
          "2006Q2",
          "2006Q3",
          "2006Q4",
          "2007Q1",
          "2007Q2",
          "2007Q3",
          "2007Q4",
          "2008Q1",
          "2008Q2",
          "2008Q3",
          "2008Q4",
          "2009Q1",
          "2009Q2",
          "2009Q3",
          "2009Q4",
          "2010Q1",
          "2010Q2",
          "2010Q3",
          "2010Q4",
          "2011Q1",
          "2011Q2",
          "2011Q3",
          "2011Q4",
          "2012Q1",
          "2012Q2",
          "2012Q3",
          "2012Q4",
          "2013Q1",
          "2013Q2",
          "2013Q3",
          "2013Q4",
          "2014Q1",
          "2014Q2",
          "2014Q3",
          "2014Q4",
          "2015Q1",
          "2015Q2",
          "2015Q3",
          "2015Q4",
          "2016Q1",
          "2016Q2",
          "2016Q3",
          "2016Q4",
          "2017Q1",
          "2017Q2",
          "2017Q3",
          "2017Q4",
          "2018Q1",
          "2018Q2",
          "2018Q3",
          "2018Q4",
          "2019Q1",
          "2019Q2",
          "2019Q3",
          "2019Q4",
          "2020Q1",
          "2020Q2",
          "2020Q3",
          "2020Q4",
          "2021Q1",
          "2021Q2",
          "2021Q3",
          "2021Q4",
          "2022Q1",
          "2022Q2",
          "2022Q3",
          "2022Q4"
         ],
         "y": [
          148.962897581372,
          154.184896607106,
          158.238980182692,
          161.520362355978,
          173.710432385175,
          179.869535778254,
          173.242523422165,
          179.417866447194,
          180.962667956839,
          180.754000527198,
          194.150045325439,
          198.57082218235,
          194.135432021407,
          197.526998374986,
          220.27385620289,
          231.898561127174,
          248.877584638847,
          261.892453455635,
          248.664871375329,
          251.952282773325,
          269.057403495567,
          290.889480184623,
          298.513599913342,
          302.848347478677,
          321.280906826021,
          307.220002375661,
          305.479216586305,
          341.886208674635,
          303.406817023938,
          303.25094655909,
          278.782573213393,
          272.697482096016,
          246.541796824606,
          226.248851511645,
          202.883323255258,
          175.620414955411,
          157.673146589606,
          137.493360902218,
          126.121340937223,
          109.194717289716,
          100.912579580235,
          98.4735445931998,
          90.461770395094,
          85.7728779783878,
          77.2588785409441,
          73.8321335001052,
          75.9124226678223,
          77.0552445550677,
          76.7990278359132,
          71.6803490099852,
          72.555442644398,
          78.4807560431837,
          78.4559814335397,
          81.3089033344458,
          87.3960557995899,
          88.1604138765516,
          87.3854480492852,
          92.2891645731772,
          93.3961946842197,
          94.469036405846,
          101.980797416989,
          102.404545758711,
          95.8915871393072,
          100.58976330668,
          102.101981671785,
          109.663307146741,
          114.021398222613,
          114.110299267847,
          127.523556979307,
          121.484232900869,
          124.50851477117,
          131.737217989996,
          137.857030061284,
          144.092631572758,
          146.75998933912,
          150.370124846302,
          153.140602010176,
          153.20893246563,
          155.927437558575,
          162.772958927034,
          172.861865415231,
          106.452141907445,
          145.060803830951,
          151.462387796918,
          118.359730646964,
          145.936029611238,
          154.59620373863,
          165.584751428213,
          164.340372110492,
          170.363198205159,
          167.988188591532,
          162.04888235783
         ]
        },
        {
         "connectgaps": true,
         "mode": "lines",
         "name": "BEQ04C03-Building (excluding civil engineering)",
         "type": "scatter",
         "x": [
          "2000Q1",
          "2000Q2",
          "2000Q3",
          "2000Q4",
          "2001Q1",
          "2001Q2",
          "2001Q3",
          "2001Q4",
          "2002Q1",
          "2002Q2",
          "2002Q3",
          "2002Q4",
          "2003Q1",
          "2003Q2",
          "2003Q3",
          "2003Q4",
          "2004Q1",
          "2004Q2",
          "2004Q3",
          "2004Q4",
          "2005Q1",
          "2005Q2",
          "2005Q3",
          "2005Q4",
          "2006Q1",
          "2006Q2",
          "2006Q3",
          "2006Q4",
          "2007Q1",
          "2007Q2",
          "2007Q3",
          "2007Q4",
          "2008Q1",
          "2008Q2",
          "2008Q3",
          "2008Q4",
          "2009Q1",
          "2009Q2",
          "2009Q3",
          "2009Q4",
          "2010Q1",
          "2010Q2",
          "2010Q3",
          "2010Q4",
          "2011Q1",
          "2011Q2",
          "2011Q3",
          "2011Q4",
          "2012Q1",
          "2012Q2",
          "2012Q3",
          "2012Q4",
          "2013Q1",
          "2013Q2",
          "2013Q3",
          "2013Q4",
          "2014Q1",
          "2014Q2",
          "2014Q3",
          "2014Q4",
          "2015Q1",
          "2015Q2",
          "2015Q3",
          "2015Q4",
          "2016Q1",
          "2016Q2",
          "2016Q3",
          "2016Q4",
          "2017Q1",
          "2017Q2",
          "2017Q3",
          "2017Q4",
          "2018Q1",
          "2018Q2",
          "2018Q3",
          "2018Q4",
          "2019Q1",
          "2019Q2",
          "2019Q3",
          "2019Q4",
          "2020Q1",
          "2020Q2",
          "2020Q3",
          "2020Q4",
          "2021Q1",
          "2021Q2",
          "2021Q3",
          "2021Q4",
          "2022Q1",
          "2022Q2",
          "2022Q3",
          "2022Q4"
         ],
         "y": [
          192.043996388387,
          197.648074315339,
          203.636221541916,
          205.484011951207,
          220.431752022006,
          227.291035568675,
          218.431231959777,
          224.827652359046,
          223.684182850493,
          212.173708601463,
          239.270192763183,
          245.015797606955,
          235.570098886146,
          243.495179301113,
          277.653433281756,
          292.50983928347,
          317.495690757263,
          330.539003201277,
          311.056962934606,
          318.539138133412,
          346.666005181,
          366.202708727778,
          371.519264618037,
          376.920676882102,
          393.530459379748,
          390.881689883206,
          377.3833096453,
          421.850303701099,
          364.468136292721,
          371.707425538523,
          331.042528645475,
          320.38400296573,
          286.697092422189,
          254.700128966319,
          221.339795343161,
          188.604186727035,
          161.822688816536,
          140.118211471192,
          119.591686084896,
          103.212769585801,
          93.2424315397179,
          87.09195039995,
          88.6610062565302,
          83.9336425379025,
          76.685254394036,
          75.0079743710679,
          72.8767243417609,
          73.3145035836961,
          70.211762154601,
          65.8794567387149,
          65.2953279330525,
          65.6113646930051,
          70.9839161757344,
          73.8755591146759,
          79.8008412281471,
          83.7036627636856,
          81.625514985488,
          84.5323769129307,
          88.3401084171998,
          92.6169595587399,
          99.9453871177858,
          102.658691124652,
          97.0599011284369,
          100.702142058681,
          102.688284114099,
          110.057109972641,
          116.546848796451,
          116.457982420095,
          128.107125363383,
          128.417512382517,
          128.179337350297,
          135.691828079165,
          142.249298640448,
          148.803665342433,
          150.740156272507,
          153.879778827959,
          158.047945682191,
          157.232767262857,
          164.537577269196,
          174.902812230691,
          184.082031788157,
          111.954154142535,
          153.629277778451,
          161.842740867114,
          126.749943158875,
          143.095365880028,
          159.708526807572,
          173.83713025391,
          174.976072586854,
          174.111059209706,
          173.490557167944,
          169.644861090298
         ]
        },
        {
         "connectgaps": true,
         "mode": "lines",
         "name": "BEQ04C03-Residential building",
         "type": "scatter",
         "x": [
          "2000Q1",
          "2000Q2",
          "2000Q3",
          "2000Q4",
          "2001Q1",
          "2001Q2",
          "2001Q3",
          "2001Q4",
          "2002Q1",
          "2002Q2",
          "2002Q3",
          "2002Q4",
          "2003Q1",
          "2003Q2",
          "2003Q3",
          "2003Q4",
          "2004Q1",
          "2004Q2",
          "2004Q3",
          "2004Q4",
          "2005Q1",
          "2005Q2",
          "2005Q3",
          "2005Q4",
          "2006Q1",
          "2006Q2",
          "2006Q3",
          "2006Q4",
          "2007Q1",
          "2007Q2",
          "2007Q3",
          "2007Q4",
          "2008Q1",
          "2008Q2",
          "2008Q3",
          "2008Q4",
          "2009Q1",
          "2009Q2",
          "2009Q3",
          "2009Q4",
          "2010Q1",
          "2010Q2",
          "2010Q3",
          "2010Q4",
          "2011Q1",
          "2011Q2",
          "2011Q3",
          "2011Q4",
          "2012Q1",
          "2012Q2",
          "2012Q3",
          "2012Q4",
          "2013Q1",
          "2013Q2",
          "2013Q3",
          "2013Q4",
          "2014Q1",
          "2014Q2",
          "2014Q3",
          "2014Q4",
          "2015Q1",
          "2015Q2",
          "2015Q3",
          "2015Q4",
          "2016Q1",
          "2016Q2",
          "2016Q3",
          "2016Q4",
          "2017Q1",
          "2017Q2",
          "2017Q3",
          "2017Q4",
          "2018Q1",
          "2018Q2",
          "2018Q3",
          "2018Q4",
          "2019Q1",
          "2019Q2",
          "2019Q3",
          "2019Q4",
          "2020Q1",
          "2020Q2",
          "2020Q3",
          "2020Q4",
          "2021Q1",
          "2021Q2",
          "2021Q3",
          "2021Q4",
          "2022Q1",
          "2022Q2",
          "2022Q3",
          "2022Q4"
         ],
         "y": [
          297.635954843263,
          307.40464460562,
          318.749628841375,
          321.599695802848,
          353.415661004046,
          371.08735737182,
          349.898137405527,
          364.495159996541,
          360.272532034495,
          362.221303045761,
          412.441423178978,
          430.390454309309,
          419.796492632022,
          436.006950457939,
          517.235147826986,
          549.624212221418,
          608.508830576194,
          633.480025620737,
          581.991966759447,
          598.038984402838,
          658.753069105,
          715.929126853088,
          717.554444011304,
          693.957736948741,
          753.507712331356,
          724.095732295483,
          724.79154759287,
          789.911977187872,
          666.864965017394,
          671.286345427955,
          589.369889733612,
          549.195767812089,
          459.562930630814,
          391.038195101974,
          326.808893380805,
          241.753749492815,
          195.992617266066,
          154.984332337477,
          127.330574319722,
          109.247073336824,
          97.6206507714102,
          95.3260940669916,
          93.1538247073247,
          83.1539098408112,
          72.9974600103043,
          64.1242718696802,
          61.3422117224892,
          64.3501821840766,
          61.9613703451055,
          57.4114451893233,
          57.9822755052834,
          55.1424258219145,
          67.2086276454847,
          64.1821354606267,
          62.9446292095788,
          64.6776991989375,
          64.4027594697486,
          70.5062993770157,
          79.8260248934469,
          91.4217341858583,
          98.0868109735722,
          101.579468693482,
          100.827583819701,
          100.160435416783,
          114.250186937606,
          129.650401926383,
          124.568220844535,
          127.708518980138,
          133.445170510177,
          141.165910435184,
          157.281369399554,
          152.276791863275,
          152.009750526699,
          152.312681471506,
          148.944223663418,
          148.637909158685,
          159.788166866258,
          170.002846910058,
          177.211646582434,
          186.234074842609,
          178.291608694323,
          88.2779627640022,
          141.845730680858,
          142.54418366834,
          83.8088764975487,
          121.674613465863,
          148.179127634633,
          155.790311354312,
          156.403484665095,
          152.291946796285,
          138.466401776571,
          142.291632822271
         ]
        },
        {
         "connectgaps": true,
         "mode": "lines",
         "name": "BEQ04C03-Non-residential building",
         "type": "scatter",
         "x": [
          "2000Q1",
          "2000Q2",
          "2000Q3",
          "2000Q4",
          "2001Q1",
          "2001Q2",
          "2001Q3",
          "2001Q4",
          "2002Q1",
          "2002Q2",
          "2002Q3",
          "2002Q4",
          "2003Q1",
          "2003Q2",
          "2003Q3",
          "2003Q4",
          "2004Q1",
          "2004Q2",
          "2004Q3",
          "2004Q4",
          "2005Q1",
          "2005Q2",
          "2005Q3",
          "2005Q4",
          "2006Q1",
          "2006Q2",
          "2006Q3",
          "2006Q4",
          "2007Q1",
          "2007Q2",
          "2007Q3",
          "2007Q4",
          "2008Q1",
          "2008Q2",
          "2008Q3",
          "2008Q4",
          "2009Q1",
          "2009Q2",
          "2009Q3",
          "2009Q4",
          "2010Q1",
          "2010Q2",
          "2010Q3",
          "2010Q4",
          "2011Q1",
          "2011Q2",
          "2011Q3",
          "2011Q4",
          "2012Q1",
          "2012Q2",
          "2012Q3",
          "2012Q4",
          "2013Q1",
          "2013Q2",
          "2013Q3",
          "2013Q4",
          "2014Q1",
          "2014Q2",
          "2014Q3",
          "2014Q4",
          "2015Q1",
          "2015Q2",
          "2015Q3",
          "2015Q4",
          "2016Q1",
          "2016Q2",
          "2016Q3",
          "2016Q4",
          "2017Q1",
          "2017Q2",
          "2017Q3",
          "2017Q4",
          "2018Q1",
          "2018Q2",
          "2018Q3",
          "2018Q4",
          "2019Q1",
          "2019Q2",
          "2019Q3",
          "2019Q4",
          "2020Q1",
          "2020Q2",
          "2020Q3",
          "2020Q4",
          "2021Q1",
          "2021Q2",
          "2021Q3",
          "2021Q4",
          "2022Q1",
          "2022Q2",
          "2022Q3",
          "2022Q4"
         ],
         "y": [
          119.454102292447,
          121.366027745656,
          121.681033947686,
          123.132906777184,
          127.584569658067,
          127.13299419563,
          124.701786877578,
          125.475465882057,
          119.245730343415,
          116.193685039278,
          114.978374155914,
          111.808380428275,
          108.14501582697,
          105.435843324799,
          106.006239632638,
          106.876072142497,
          110.791525039859,
          115.806034174997,
          120.178071867683,
          114.662293606837,
          117.061078785992,
          126.380590622053,
          131.146874499606,
          143.030285617254,
          147.843801300494,
          143.758223262277,
          138.45220594764,
          149.199852136172,
          152.369097901853,
          153.807284360194,
          154.688379286261,
          153.439865658628,
          156.953457121065,
          157.853998254362,
          150.539716432351,
          153.521817466507,
          135.56267262625,
          124.798131731356,
          115.154034228271,
          99.8678303886131,
          88.5590396362522,
          80.8811447322944,
          85.4451110820493,
          84.5830356723087,
          82.2381982349105,
          81.8071025479292,
          81.9974713785097,
          79.589121769152,
          78.4328622851377,
          73.3885207647454,
          70.2209659522681,
          71.7762072504662,
          75.2785993920728,
          83.5249524281676,
          92.7755207108047,
          99.6813686365351,
          97.9301061233345,
          93.6238903621004,
          93.8339570605652,
          94.2201315031911,
          100.601112456659,
          104.691683945304,
          94.6958523129109,
          99.5721737035636,
          101.974242460527,
          109.151463092641,
          113.912603364111,
          113.809610425886,
          130.323506335622,
          123.996671360968,
          122.685865832159,
          132.833502864121,
          139.966590898781,
          149.439365525758,
          151.596396412744,
          154.958662937232,
          159.561831002894,
          151.779735318684,
          164.348732997189,
          174.01961131426,
          182.035656187006,
          115.151616011317,
          157.108594885796,
          164.01089426304,
          134.899019644895,
          148.665521013911,
          163.555727405039,
          176.049308457382,
          176.381382427542,
          176.197185713024,
          182.060597320424,
          172.696860053348
         ]
        },
        {
         "connectgaps": true,
         "mode": "lines",
         "name": "BEQ04C03-Civil engineering",
         "type": "scatter",
         "x": [
          "2000Q1",
          "2000Q2",
          "2000Q3",
          "2000Q4",
          "2001Q1",
          "2001Q2",
          "2001Q3",
          "2001Q4",
          "2002Q1",
          "2002Q2",
          "2002Q3",
          "2002Q4",
          "2003Q1",
          "2003Q2",
          "2003Q3",
          "2003Q4",
          "2004Q1",
          "2004Q2",
          "2004Q3",
          "2004Q4",
          "2005Q1",
          "2005Q2",
          "2005Q3",
          "2005Q4",
          "2006Q1",
          "2006Q2",
          "2006Q3",
          "2006Q4",
          "2007Q1",
          "2007Q2",
          "2007Q3",
          "2007Q4",
          "2008Q1",
          "2008Q2",
          "2008Q3",
          "2008Q4",
          "2009Q1",
          "2009Q2",
          "2009Q3",
          "2009Q4",
          "2010Q1",
          "2010Q2",
          "2010Q3",
          "2010Q4",
          "2011Q1",
          "2011Q2",
          "2011Q3",
          "2011Q4",
          "2012Q1",
          "2012Q2",
          "2012Q3",
          "2012Q4",
          "2013Q1",
          "2013Q2",
          "2013Q3",
          "2013Q4",
          "2014Q1",
          "2014Q2",
          "2014Q3",
          "2014Q4",
          "2015Q1",
          "2015Q2",
          "2015Q3",
          "2015Q4",
          "2016Q1",
          "2016Q2",
          "2016Q3",
          "2016Q4",
          "2017Q1",
          "2017Q2",
          "2017Q3",
          "2017Q4",
          "2018Q1",
          "2018Q2",
          "2018Q3",
          "2018Q4",
          "2019Q1",
          "2019Q2",
          "2019Q3",
          "2019Q4",
          "2020Q1",
          "2020Q2",
          "2020Q3",
          "2020Q4",
          "2021Q1",
          "2021Q2",
          "2021Q3",
          "2021Q4",
          "2022Q1",
          "2022Q2",
          "2022Q3",
          "2022Q4"
         ],
         "y": [
          58.7811972846848,
          62.255065633868,
          64.7627580872921,
          68.8571976751821,
          74.192407760516,
          76.8476806308592,
          77.8494600415968,
          81.8565993459284,
          93.24470849969,
          94.1452759229643,
          95.5987727916509,
          96.4417755705037,
          96.3186326599553,
          96.7848009838761,
          98.7174083739325,
          102.472842794518,
          96.8843198502107,
          111.351987263248,
          113.541827174112,
          106.126019738377,
          105.961706907153,
          117.024343458579,
          139.043996842579,
          138.946199910204,
          146.138615621002,
          142.955059597789,
          146.535970133969,
          161.529156380585,
          166.055562421676,
          166.048488252858,
          159.993297274841,
          162.722508083954,
          164.385490966047,
          170.31561609536,
          157.116586358789,
          144.123414067743,
          146.971252189323,
          141.974863016321,
          136.133769939516,
          121.683798855069,
          121.188571123108,
          127.359412291854,
          90.9352259334685,
          90.1003408283838,
          76.8506708168731,
          74.8101953552598,
          80.4175708980368,
          86.7576220740339,
          92.8421422809742,
          84.8756138891147,
          87.6551153226666,
          109.444185736091,
          98.0362757494167,
          95.6530358019056,
          104.329846351511,
          98.9505006025038,
          97.1847573917503,
          113.253914264364,
          105.335043800348,
          98.1349598849155,
          105.078265110763,
          104.923776459783,
          93.9246262201462,
          98.0683796233918,
          96.1162039692901,
          107.666858131488,
          106.496832267074,
          102.870495764629,
          105.79065397531,
          101.761749942218,
          111.038745785331,
          115.072472237923,
          120.526645846563,
          111.413237850665,
          130.481122631251,
          138.377440270354,
          125.107243122155,
          131.372560360985,
          116.672425983136,
          116.20752391585,
          132.463501895395,
          67.8516419704327,
          104.845205492028,
          115.47007686733,
          99.9930657287521,
          126.523948232274,
          129.784647089929,
          140.636163145196,
          127.373380594056,
          131.076014727039,
          140.85139104912,
          139.838235672104
         ]
        },
        {
         "connectgaps": true,
         "mode": "lines",
         "name": "BEQ04C04-All building and construction",
         "type": "scatter",
         "x": [
          "2000Q1",
          "2000Q2",
          "2000Q3",
          "2000Q4",
          "2001Q1",
          "2001Q2",
          "2001Q3",
          "2001Q4",
          "2002Q1",
          "2002Q2",
          "2002Q3",
          "2002Q4",
          "2003Q1",
          "2003Q2",
          "2003Q3",
          "2003Q4",
          "2004Q1",
          "2004Q2",
          "2004Q3",
          "2004Q4",
          "2005Q1",
          "2005Q2",
          "2005Q3",
          "2005Q4",
          "2006Q1",
          "2006Q2",
          "2006Q3",
          "2006Q4",
          "2007Q1",
          "2007Q2",
          "2007Q3",
          "2007Q4",
          "2008Q1",
          "2008Q2",
          "2008Q3",
          "2008Q4",
          "2009Q1",
          "2009Q2",
          "2009Q3",
          "2009Q4",
          "2010Q1",
          "2010Q2",
          "2010Q3",
          "2010Q4",
          "2011Q1",
          "2011Q2",
          "2011Q3",
          "2011Q4",
          "2012Q1",
          "2012Q2",
          "2012Q3",
          "2012Q4",
          "2013Q1",
          "2013Q2",
          "2013Q3",
          "2013Q4",
          "2014Q1",
          "2014Q2",
          "2014Q3",
          "2014Q4",
          "2015Q1",
          "2015Q2",
          "2015Q3",
          "2015Q4",
          "2016Q1",
          "2016Q2",
          "2016Q3",
          "2016Q4",
          "2017Q1",
          "2017Q2",
          "2017Q3",
          "2017Q4",
          "2018Q1",
          "2018Q2",
          "2018Q3",
          "2018Q4",
          "2019Q1",
          "2019Q2",
          "2019Q3",
          "2019Q4",
          "2020Q1",
          "2020Q2",
          "2020Q3",
          "2020Q4",
          "2021Q1",
          "2021Q2",
          "2021Q3",
          "2021Q4",
          "2022Q1",
          "2022Q2",
          "2022Q3",
          "2022Q4"
         ],
         "y": [
          216.612216968824,
          218.514304670204,
          220.424981423259,
          218.552401547237,
          222.520017423678,
          227.320775695543,
          222.857877172333,
          231.451260691535,
          230.6850514844,
          218.545712048414,
          236.515426776735,
          237.540855259293,
          234.787780085271,
          235.392781938062,
          258.979609237058,
          246.27245555481,
          311.237401451428,
          318.015561740474,
          296.95036534273,
          296.882985363274,
          317.195234770268,
          334.055757605004,
          345.994563276394,
          342.571259255442,
          354.080313987881,
          342.502520618624,
          334.711107527821,
          360.124470976566,
          319.011377109478,
          318.867328583766,
          289.142050805598,
          278.697711890575,
          250.661749364015,
          226.534256560333,
          204.182652765632,
          175.718787391349,
          158.964227786411,
          141.359775520399,
          129.600338714033,
          111.569700009968,
          102.976733681559,
          98.923209952848,
          91.182532933051,
          86.2497673256749,
          78.4952518753756,
          77.4458869414711,
          79.0656707858314,
          79.6351278527149,
          79.2309301243351,
          73.4453682882164,
          74.6512819195484,
          80.1618045368735,
          80.7895823424428,
          82.1352456445723,
          89.4771120663266,
          89.3914836441102,
          87.6502423137406,
          94.1068356961412,
          94.4856141464855,
          94.7361912785666,
          101.791253307441,
          102.110147167765,
          96.3955465345055,
          100.624121487852,
          101.70752978896,
          109.013703760924,
          114.191644707832,
          113.550362240614,
          122.438499974289,
          121.592007005663,
          122.628755757627,
          129.55343675968,
          134.368427408164,
          134.086914232649,
          137.219626968528,
          141.165695258632,
          140.85092378729,
          141.808645002649,
          144.700232408771,
          150.291338225523,
          159.11251280498,
          95.2771036954311,
          132.682269961636,
          140.315499775655,
          110.013982133974,
          123.113773480618,
          131.796585030578,
          140.611706464228,
          135.517775736687,
          131.527911506066,
          129.13562563825,
          125.102538659772
         ]
        },
        {
         "connectgaps": true,
         "mode": "lines",
         "name": "BEQ04C04-Building (excluding civil engineering)",
         "type": "scatter",
         "x": [
          "2000Q1",
          "2000Q2",
          "2000Q3",
          "2000Q4",
          "2001Q1",
          "2001Q2",
          "2001Q3",
          "2001Q4",
          "2002Q1",
          "2002Q2",
          "2002Q3",
          "2002Q4",
          "2003Q1",
          "2003Q2",
          "2003Q3",
          "2003Q4",
          "2004Q1",
          "2004Q2",
          "2004Q3",
          "2004Q4",
          "2005Q1",
          "2005Q2",
          "2005Q3",
          "2005Q4",
          "2006Q1",
          "2006Q2",
          "2006Q3",
          "2006Q4",
          "2007Q1",
          "2007Q2",
          "2007Q3",
          "2007Q4",
          "2008Q1",
          "2008Q2",
          "2008Q3",
          "2008Q4",
          "2009Q1",
          "2009Q2",
          "2009Q3",
          "2009Q4",
          "2010Q1",
          "2010Q2",
          "2010Q3",
          "2010Q4",
          "2011Q1",
          "2011Q2",
          "2011Q3",
          "2011Q4",
          "2012Q1",
          "2012Q2",
          "2012Q3",
          "2012Q4",
          "2013Q1",
          "2013Q2",
          "2013Q3",
          "2013Q4",
          "2014Q1",
          "2014Q2",
          "2014Q3",
          "2014Q4",
          "2015Q1",
          "2015Q2",
          "2015Q3",
          "2015Q4",
          "2016Q1",
          "2016Q2",
          "2016Q3",
          "2016Q4",
          "2017Q1",
          "2017Q2",
          "2017Q3",
          "2017Q4",
          "2018Q1",
          "2018Q2",
          "2018Q3",
          "2018Q4",
          "2019Q1",
          "2019Q2",
          "2019Q3",
          "2019Q4",
          "2020Q1",
          "2020Q2",
          "2020Q3",
          "2020Q4",
          "2021Q1",
          "2021Q2",
          "2021Q3",
          "2021Q4",
          "2022Q1",
          "2022Q2",
          "2022Q3",
          "2022Q4"
         ],
         "y": [
          281.721068185939,
          283.861875986608,
          283.018909882077,
          276.327141099137,
          283.152739098274,
          290.265565598132,
          281.027264722167,
          289.849564819816,
          282.185621855267,
          267.94453863907,
          291.252917884722,
          294.176086453091,
          290.448682046385,
          291.848061843967,
          326.470944086634,
          303.290373365891,
          397.852951858335,
          403.463405197257,
          370.474997474972,
          373.157474820212,
          403.626230074434,
          428.132619622133,
          430.512981686148,
          424.209389233904,
          441.813627006599,
          429.299017962285,
          414.065567602135,
          442.693448631178,
          384.141222246145,
          390.535508086513,
          343.96409483343,
          326.531480341478,
          288.236813906899,
          258.116749884929,
          223.029641939659,
          188.562260306744,
          164.558410867421,
          142.843897544093,
          122.871069296463,
          105.50378563059,
          94.4102867264591,
          88.162793013323,
          89.2432977188245,
          84.5843967638029,
          79.0757918779463,
          77.458774601422,
          75.7120300856536,
          75.9928733238759,
          72.4519408081571,
          67.4437030541847,
          66.9225662347836,
          67.2699739984882,
          72.1559505110744,
          75.6427949010818,
          81.2770221271963,
          85.1763250042357,
          83.3729906543591,
          84.926075997031,
          88.7943686369796,
          92.9218752427854,
          100.02420716476,
          102.937351775696,
          96.9328052167037,
          100.452367044988,
          102.42680467814,
          110.60615892274,
          116.149277797865,
          115.1016674704,
          127.100958782801,
          126.244161817061,
          126.056415405311,
          132.322674060507,
          137.461086813846,
          141.708086102669,
          141.361359610818,
          142.552997200234,
          145.356710053389,
          147.943767724442,
          153.681611307457,
          158.131857013677,
          164.965502507303,
          104.929612289381,
          141.743411535912,
          145.558652917818,
          111.802866725024,
          130.003627478648,
          137.471513863891,
          142.748410798653,
          140.325287522478,
          141.115026719217,
          134.75014955222,
          126.742284675438
         ]
        },
        {
         "connectgaps": true,
         "mode": "lines",
         "name": "BEQ04C04-Residential building",
         "type": "scatter",
         "x": [
          "2000Q1",
          "2000Q2",
          "2000Q3",
          "2000Q4",
          "2001Q1",
          "2001Q2",
          "2001Q3",
          "2001Q4",
          "2002Q1",
          "2002Q2",
          "2002Q3",
          "2002Q4",
          "2003Q1",
          "2003Q2",
          "2003Q3",
          "2003Q4",
          "2004Q1",
          "2004Q2",
          "2004Q3",
          "2004Q4",
          "2005Q1",
          "2005Q2",
          "2005Q3",
          "2005Q4",
          "2006Q1",
          "2006Q2",
          "2006Q3",
          "2006Q4",
          "2007Q1",
          "2007Q2",
          "2007Q3",
          "2007Q4",
          "2008Q1",
          "2008Q2",
          "2008Q3",
          "2008Q4",
          "2009Q1",
          "2009Q2",
          "2009Q3",
          "2009Q4",
          "2010Q1",
          "2010Q2",
          "2010Q3",
          "2010Q4",
          "2011Q1",
          "2011Q2",
          "2011Q3",
          "2011Q4",
          "2012Q1",
          "2012Q2",
          "2012Q3",
          "2012Q4",
          "2013Q1",
          "2013Q2",
          "2013Q3",
          "2013Q4",
          "2014Q1",
          "2014Q2",
          "2014Q3",
          "2014Q4",
          "2015Q1",
          "2015Q2",
          "2015Q3",
          "2015Q4",
          "2016Q1",
          "2016Q2",
          "2016Q3",
          "2016Q4",
          "2017Q1",
          "2017Q2",
          "2017Q3",
          "2017Q4",
          "2018Q1",
          "2018Q2",
          "2018Q3",
          "2018Q4",
          "2019Q1",
          "2019Q2",
          "2019Q3",
          "2019Q4",
          "2020Q1",
          "2020Q2",
          "2020Q3",
          "2020Q4",
          "2021Q1",
          "2021Q2",
          "2021Q3",
          "2021Q4",
          "2022Q1",
          "2022Q2",
          "2022Q3",
          "2022Q4"
         ],
         "y": [
          475.919802588304,
          475.663376784305,
          475.745041760254,
          460.709555246744,
          482.642602384627,
          496.933019036105,
          481.661422718335,
          503.179005820756,
          484.229983083124,
          466.58660952766,
          517.461644345415,
          529.304225412561,
          532.135226401055,
          524.364525458639,
          610.395226849295,
          553.235648703622,
          772.945499910806,
          766.579208902035,
          688.130609625867,
          702.419850543995,
          783.366729044907,
          828.047661806037,
          820.014290632255,
          783.988070172919,
          855.495276355555,
          798.159828496387,
          779.881580017551,
          835.044127876168,
          712.001304616247,
          707.272835287567,
          599.414431627303,
          563.742797489469,
          469.117482430169,
          396.218399558853,
          323.050035511489,
          243.09794368263,
          200.234162076157,
          159.245429122082,
          128.890714032804,
          112.144879815416,
          99.7386492487822,
          96.4915347542008,
          92.8317757940106,
          84.0774016479536,
          75.126793075666,
          66.7079162786621,
          63.3424388758365,
          66.9009423408006,
          63.9903937202247,
          58.845799408141,
          59.2576968841831,
          56.6561588032317,
          68.6008319610024,
          65.4374979157631,
          64.0768342382087,
          65.8857598986284,
          65.329810692201,
          71.260305998237,
          80.2697489201919,
          91.8091217184677,
          98.1693462737856,
          101.685123943394,
          100.725215251802,
          100.017987956321,
          114.187009100258,
          129.793590621234,
          124.040241398871,
          126.543617222256,
          131.311894141099,
          139.552390647982,
          154.243367596669,
          149.113468310814,
          148.011962783289,
          143.489874454163,
          138.959575759536,
          138.671216874347,
          147.888668938971,
          158.280886900355,
          164.289366663213,
          170.324073564407,
          162.542554221853,
          80.8940309808664,
          129.648838883395,
          130.285134572205,
          75.9558267133054,
          106.954544056247,
          126.199309944835,
          130.304998165638,
          127.666849720318,
          120.649474449986,
          106.337643474394,
          108.239692954312
         ]
        },
        {
         "connectgaps": true,
         "mode": "lines",
         "name": "BEQ04C04-Non-residential building",
         "type": "scatter",
         "x": [
          "2000Q1",
          "2000Q2",
          "2000Q3",
          "2000Q4",
          "2001Q1",
          "2001Q2",
          "2001Q3",
          "2001Q4",
          "2002Q1",
          "2002Q2",
          "2002Q3",
          "2002Q4",
          "2003Q1",
          "2003Q2",
          "2003Q3",
          "2003Q4",
          "2004Q1",
          "2004Q2",
          "2004Q3",
          "2004Q4",
          "2005Q1",
          "2005Q2",
          "2005Q3",
          "2005Q4",
          "2006Q1",
          "2006Q2",
          "2006Q3",
          "2006Q4",
          "2007Q1",
          "2007Q2",
          "2007Q3",
          "2007Q4",
          "2008Q1",
          "2008Q2",
          "2008Q3",
          "2008Q4",
          "2009Q1",
          "2009Q2",
          "2009Q3",
          "2009Q4",
          "2010Q1",
          "2010Q2",
          "2010Q3",
          "2010Q4",
          "2011Q1",
          "2011Q2",
          "2011Q3",
          "2011Q4",
          "2012Q1",
          "2012Q2",
          "2012Q3",
          "2012Q4",
          "2013Q1",
          "2013Q2",
          "2013Q3",
          "2013Q4",
          "2014Q1",
          "2014Q2",
          "2014Q3",
          "2014Q4",
          "2015Q1",
          "2015Q2",
          "2015Q3",
          "2015Q4",
          "2016Q1",
          "2016Q2",
          "2016Q3",
          "2016Q4",
          "2017Q1",
          "2017Q2",
          "2017Q3",
          "2017Q4",
          "2018Q1",
          "2018Q2",
          "2018Q3",
          "2018Q4",
          "2019Q1",
          "2019Q2",
          "2019Q3",
          "2019Q4",
          "2020Q1",
          "2020Q2",
          "2020Q3",
          "2020Q4",
          "2021Q1",
          "2021Q2",
          "2021Q3",
          "2021Q4",
          "2022Q1",
          "2022Q2",
          "2022Q3",
          "2022Q4"
         ],
         "y": [
          147.593342961596,
          148.472401709595,
          148.70906806679,
          148.674556537184,
          145.341828291778,
          143.43614084105,
          140.234627493554,
          139.69802987649,
          136.703354371093,
          132.498398724659,
          130.800762596778,
          126.288032637972,
          125.2029957106,
          121.943496746198,
          122.600926728152,
          122.98002897208,
          138.144245575059,
          140.952098869672,
          143.977700094795,
          134.45615096504,
          136.798969809671,
          146.299353135395,
          152.061539025975,
          162.011535540051,
          165.082443580427,
          157.769264266787,
          151.474868767707,
          157.994359257115,
          160.697085660208,
          160.666424680679,
          160.053153799729,
          157.596809903381,
          158.723024962236,
          158.703134216386,
          151.172893133373,
          153.972570496791,
          137.549264699209,
          127.475274112256,
          118.265370910372,
          102.08712735169,
          89.8740221677328,
          81.7672907512529,
          86.0365375757944,
          84.9924731375669,
          84.1409761674263,
          84.9973183552286,
          85.3714102361941,
          82.5767443868973,
          80.6499689944136,
          75.176714111077,
          72.1068929072577,
          73.6604342926956,
          76.7927656761482,
          84.9379181832998,
          94.6274361190664,
          101.550302178274,
          99.4704121113897,
          94.1766064014177,
          94.424312593949,
          94.8864136498247,
          100.860557863816,
          104.137052457381,
          94.6680287416172,
          100.157543408014,
          101.679470153333,
          108.564928949069,
          113.526691405192,
          113.811958508888,
          127.838682400518,
          121.946380668039,
          120.500152137193,
          131.122746708204,
          135.683570246904,
          140.185345864057,
          141.591960229731,
          145.112536451672,
          147.494936307202,
          140.887182683096,
          152.790905317349,
          159.554061666093,
          165.606890936774,
          105.215717091603,
          144.30044518027,
          150.480810854753,
          121.299862702051,
          130.321545103885,
          139.720439473084,
          146.9554641455,
          144.703602167704,
          139.313666344214,
          139.497577482028,
          130.098152787211
         ]
        },
        {
         "connectgaps": true,
         "mode": "lines",
         "name": "BEQ04C04-Civil engineering",
         "type": "scatter",
         "x": [
          "2000Q1",
          "2000Q2",
          "2000Q3",
          "2000Q4",
          "2001Q1",
          "2001Q2",
          "2001Q3",
          "2001Q4",
          "2002Q1",
          "2002Q2",
          "2002Q3",
          "2002Q4",
          "2003Q1",
          "2003Q2",
          "2003Q3",
          "2003Q4",
          "2004Q1",
          "2004Q2",
          "2004Q3",
          "2004Q4",
          "2005Q1",
          "2005Q2",
          "2005Q3",
          "2005Q4",
          "2006Q1",
          "2006Q2",
          "2006Q3",
          "2006Q4",
          "2007Q1",
          "2007Q2",
          "2007Q3",
          "2007Q4",
          "2008Q1",
          "2008Q2",
          "2008Q3",
          "2008Q4",
          "2009Q1",
          "2009Q2",
          "2009Q3",
          "2009Q4",
          "2010Q1",
          "2010Q2",
          "2010Q3",
          "2010Q4",
          "2011Q1",
          "2011Q2",
          "2011Q3",
          "2011Q4",
          "2012Q1",
          "2012Q2",
          "2012Q3",
          "2012Q4",
          "2013Q1",
          "2013Q2",
          "2013Q3",
          "2013Q4",
          "2014Q1",
          "2014Q2",
          "2014Q3",
          "2014Q4",
          "2015Q1",
          "2015Q2",
          "2015Q3",
          "2015Q4",
          "2016Q1",
          "2016Q2",
          "2016Q3",
          "2016Q4",
          "2017Q1",
          "2017Q2",
          "2017Q3",
          "2017Q4",
          "2018Q1",
          "2018Q2",
          "2018Q3",
          "2018Q4",
          "2019Q1",
          "2019Q2",
          "2019Q3",
          "2019Q4",
          "2020Q1",
          "2020Q2",
          "2020Q3",
          "2020Q4",
          "2021Q1",
          "2021Q2",
          "2021Q3",
          "2021Q4",
          "2022Q1",
          "2022Q2",
          "2022Q3",
          "2022Q4"
         ],
         "y": [
          82.7018335360889,
          84.5758339744766,
          87.705318273011,
          93.0884101130893,
          94.0331420229167,
          96.1154270934832,
          97.0371070719425,
          103.165592309102,
          111.338875848827,
          113.138912290546,
          114.257330421709,
          111.159254775385,
          112.648668675908,
          112.692134070732,
          112.936342281102,
          117.611321848207,
          122.442921308088,
          134.013806806965,
          134.874409359164,
          125.813577713564,
          124.801440055928,
          134.343869476132,
          160.147098067933,
          158.747025869345,
          163.895457221717,
          155.9707018972,
          159.550571061508,
          172.368831139327,
          175.526435798503,
          172.695638773484,
          164.919308931094,
          168.254866251199,
          166.387735042256,
          170.454162094581,
          157.197084948368,
          146.23683631643,
          148.525515709472,
          144.41488310056,
          139.073270526844,
          126.326627311218,
          121.899958952291,
          128.10549862667,
          91.0633985901992,
          92.7207119317126,
          77.2475814871224,
          77.7682618050412,
          83.07284736463,
          91.8435264588313,
          93.5287041487048,
          87.2762132208918,
          89.3276439255211,
          114.586423211249,
          97.510589059319,
          98.1907639444666,
          105.796067478375,
          102.111284794073,
          96.5896032497163,
          115.28081243685,
          105.658441986518,
          99.2409397248584,
          103.842099153869,
          105.662845600972,
          93.6933658965769,
          98.0526896608642,
          95.7255150076829,
          107.925303967213,
          106.11210952072,
          101.872878328643,
          104.260424858665,
          100.324100242913,
          109.112816390303,
          112.683140746852,
          117.619531859627,
          104.379069562896,
          122.179535145924,
          129.206668493473,
          115.771083259712,
          121.809839592723,
          108.58141711595,
          106.355467378998,
          120.552608340837,
          62.0027967745208,
          96.1979386310656,
          105.550477488785,
          90.3793261647292,
          111.079782093398,
          110.909427117239,
          117.604954586579,
          103.706494965765,
          103.710875987338,
          108.505730003522,
          106.36823711804
         ]
        }
       ],
       "layout": {
        "plot_bgcolor": "white",
        "template": {
         "data": {
          "bar": [
           {
            "error_x": {
             "color": "#2a3f5f"
            },
            "error_y": {
             "color": "#2a3f5f"
            },
            "marker": {
             "line": {
              "color": "#E5ECF6",
              "width": 0.5
             },
             "pattern": {
              "fillmode": "overlay",
              "size": 10,
              "solidity": 0.2
             }
            },
            "type": "bar"
           }
          ],
          "barpolar": [
           {
            "marker": {
             "line": {
              "color": "#E5ECF6",
              "width": 0.5
             },
             "pattern": {
              "fillmode": "overlay",
              "size": 10,
              "solidity": 0.2
             }
            },
            "type": "barpolar"
           }
          ],
          "carpet": [
           {
            "aaxis": {
             "endlinecolor": "#2a3f5f",
             "gridcolor": "white",
             "linecolor": "white",
             "minorgridcolor": "white",
             "startlinecolor": "#2a3f5f"
            },
            "baxis": {
             "endlinecolor": "#2a3f5f",
             "gridcolor": "white",
             "linecolor": "white",
             "minorgridcolor": "white",
             "startlinecolor": "#2a3f5f"
            },
            "type": "carpet"
           }
          ],
          "choropleth": [
           {
            "colorbar": {
             "outlinewidth": 0,
             "ticks": ""
            },
            "type": "choropleth"
           }
          ],
          "contour": [
           {
            "colorbar": {
             "outlinewidth": 0,
             "ticks": ""
            },
            "colorscale": [
             [
              0,
              "#0d0887"
             ],
             [
              0.1111111111111111,
              "#46039f"
             ],
             [
              0.2222222222222222,
              "#7201a8"
             ],
             [
              0.3333333333333333,
              "#9c179e"
             ],
             [
              0.4444444444444444,
              "#bd3786"
             ],
             [
              0.5555555555555556,
              "#d8576b"
             ],
             [
              0.6666666666666666,
              "#ed7953"
             ],
             [
              0.7777777777777778,
              "#fb9f3a"
             ],
             [
              0.8888888888888888,
              "#fdca26"
             ],
             [
              1,
              "#f0f921"
             ]
            ],
            "type": "contour"
           }
          ],
          "contourcarpet": [
           {
            "colorbar": {
             "outlinewidth": 0,
             "ticks": ""
            },
            "type": "contourcarpet"
           }
          ],
          "heatmap": [
           {
            "colorbar": {
             "outlinewidth": 0,
             "ticks": ""
            },
            "colorscale": [
             [
              0,
              "#0d0887"
             ],
             [
              0.1111111111111111,
              "#46039f"
             ],
             [
              0.2222222222222222,
              "#7201a8"
             ],
             [
              0.3333333333333333,
              "#9c179e"
             ],
             [
              0.4444444444444444,
              "#bd3786"
             ],
             [
              0.5555555555555556,
              "#d8576b"
             ],
             [
              0.6666666666666666,
              "#ed7953"
             ],
             [
              0.7777777777777778,
              "#fb9f3a"
             ],
             [
              0.8888888888888888,
              "#fdca26"
             ],
             [
              1,
              "#f0f921"
             ]
            ],
            "type": "heatmap"
           }
          ],
          "heatmapgl": [
           {
            "colorbar": {
             "outlinewidth": 0,
             "ticks": ""
            },
            "colorscale": [
             [
              0,
              "#0d0887"
             ],
             [
              0.1111111111111111,
              "#46039f"
             ],
             [
              0.2222222222222222,
              "#7201a8"
             ],
             [
              0.3333333333333333,
              "#9c179e"
             ],
             [
              0.4444444444444444,
              "#bd3786"
             ],
             [
              0.5555555555555556,
              "#d8576b"
             ],
             [
              0.6666666666666666,
              "#ed7953"
             ],
             [
              0.7777777777777778,
              "#fb9f3a"
             ],
             [
              0.8888888888888888,
              "#fdca26"
             ],
             [
              1,
              "#f0f921"
             ]
            ],
            "type": "heatmapgl"
           }
          ],
          "histogram": [
           {
            "marker": {
             "pattern": {
              "fillmode": "overlay",
              "size": 10,
              "solidity": 0.2
             }
            },
            "type": "histogram"
           }
          ],
          "histogram2d": [
           {
            "colorbar": {
             "outlinewidth": 0,
             "ticks": ""
            },
            "colorscale": [
             [
              0,
              "#0d0887"
             ],
             [
              0.1111111111111111,
              "#46039f"
             ],
             [
              0.2222222222222222,
              "#7201a8"
             ],
             [
              0.3333333333333333,
              "#9c179e"
             ],
             [
              0.4444444444444444,
              "#bd3786"
             ],
             [
              0.5555555555555556,
              "#d8576b"
             ],
             [
              0.6666666666666666,
              "#ed7953"
             ],
             [
              0.7777777777777778,
              "#fb9f3a"
             ],
             [
              0.8888888888888888,
              "#fdca26"
             ],
             [
              1,
              "#f0f921"
             ]
            ],
            "type": "histogram2d"
           }
          ],
          "histogram2dcontour": [
           {
            "colorbar": {
             "outlinewidth": 0,
             "ticks": ""
            },
            "colorscale": [
             [
              0,
              "#0d0887"
             ],
             [
              0.1111111111111111,
              "#46039f"
             ],
             [
              0.2222222222222222,
              "#7201a8"
             ],
             [
              0.3333333333333333,
              "#9c179e"
             ],
             [
              0.4444444444444444,
              "#bd3786"
             ],
             [
              0.5555555555555556,
              "#d8576b"
             ],
             [
              0.6666666666666666,
              "#ed7953"
             ],
             [
              0.7777777777777778,
              "#fb9f3a"
             ],
             [
              0.8888888888888888,
              "#fdca26"
             ],
             [
              1,
              "#f0f921"
             ]
            ],
            "type": "histogram2dcontour"
           }
          ],
          "mesh3d": [
           {
            "colorbar": {
             "outlinewidth": 0,
             "ticks": ""
            },
            "type": "mesh3d"
           }
          ],
          "parcoords": [
           {
            "line": {
             "colorbar": {
              "outlinewidth": 0,
              "ticks": ""
             }
            },
            "type": "parcoords"
           }
          ],
          "pie": [
           {
            "automargin": true,
            "type": "pie"
           }
          ],
          "scatter": [
           {
            "fillpattern": {
             "fillmode": "overlay",
             "size": 10,
             "solidity": 0.2
            },
            "type": "scatter"
           }
          ],
          "scatter3d": [
           {
            "line": {
             "colorbar": {
              "outlinewidth": 0,
              "ticks": ""
             }
            },
            "marker": {
             "colorbar": {
              "outlinewidth": 0,
              "ticks": ""
             }
            },
            "type": "scatter3d"
           }
          ],
          "scattercarpet": [
           {
            "marker": {
             "colorbar": {
              "outlinewidth": 0,
              "ticks": ""
             }
            },
            "type": "scattercarpet"
           }
          ],
          "scattergeo": [
           {
            "marker": {
             "colorbar": {
              "outlinewidth": 0,
              "ticks": ""
             }
            },
            "type": "scattergeo"
           }
          ],
          "scattergl": [
           {
            "marker": {
             "colorbar": {
              "outlinewidth": 0,
              "ticks": ""
             }
            },
            "type": "scattergl"
           }
          ],
          "scattermapbox": [
           {
            "marker": {
             "colorbar": {
              "outlinewidth": 0,
              "ticks": ""
             }
            },
            "type": "scattermapbox"
           }
          ],
          "scatterpolar": [
           {
            "marker": {
             "colorbar": {
              "outlinewidth": 0,
              "ticks": ""
             }
            },
            "type": "scatterpolar"
           }
          ],
          "scatterpolargl": [
           {
            "marker": {
             "colorbar": {
              "outlinewidth": 0,
              "ticks": ""
             }
            },
            "type": "scatterpolargl"
           }
          ],
          "scatterternary": [
           {
            "marker": {
             "colorbar": {
              "outlinewidth": 0,
              "ticks": ""
             }
            },
            "type": "scatterternary"
           }
          ],
          "surface": [
           {
            "colorbar": {
             "outlinewidth": 0,
             "ticks": ""
            },
            "colorscale": [
             [
              0,
              "#0d0887"
             ],
             [
              0.1111111111111111,
              "#46039f"
             ],
             [
              0.2222222222222222,
              "#7201a8"
             ],
             [
              0.3333333333333333,
              "#9c179e"
             ],
             [
              0.4444444444444444,
              "#bd3786"
             ],
             [
              0.5555555555555556,
              "#d8576b"
             ],
             [
              0.6666666666666666,
              "#ed7953"
             ],
             [
              0.7777777777777778,
              "#fb9f3a"
             ],
             [
              0.8888888888888888,
              "#fdca26"
             ],
             [
              1,
              "#f0f921"
             ]
            ],
            "type": "surface"
           }
          ],
          "table": [
           {
            "cells": {
             "fill": {
              "color": "#EBF0F8"
             },
             "line": {
              "color": "white"
             }
            },
            "header": {
             "fill": {
              "color": "#C8D4E3"
             },
             "line": {
              "color": "white"
             }
            },
            "type": "table"
           }
          ]
         },
         "layout": {
          "annotationdefaults": {
           "arrowcolor": "#2a3f5f",
           "arrowhead": 0,
           "arrowwidth": 1
          },
          "autotypenumbers": "strict",
          "coloraxis": {
           "colorbar": {
            "outlinewidth": 0,
            "ticks": ""
           }
          },
          "colorscale": {
           "diverging": [
            [
             0,
             "#8e0152"
            ],
            [
             0.1,
             "#c51b7d"
            ],
            [
             0.2,
             "#de77ae"
            ],
            [
             0.3,
             "#f1b6da"
            ],
            [
             0.4,
             "#fde0ef"
            ],
            [
             0.5,
             "#f7f7f7"
            ],
            [
             0.6,
             "#e6f5d0"
            ],
            [
             0.7,
             "#b8e186"
            ],
            [
             0.8,
             "#7fbc41"
            ],
            [
             0.9,
             "#4d9221"
            ],
            [
             1,
             "#276419"
            ]
           ],
           "sequential": [
            [
             0,
             "#0d0887"
            ],
            [
             0.1111111111111111,
             "#46039f"
            ],
            [
             0.2222222222222222,
             "#7201a8"
            ],
            [
             0.3333333333333333,
             "#9c179e"
            ],
            [
             0.4444444444444444,
             "#bd3786"
            ],
            [
             0.5555555555555556,
             "#d8576b"
            ],
            [
             0.6666666666666666,
             "#ed7953"
            ],
            [
             0.7777777777777778,
             "#fb9f3a"
            ],
            [
             0.8888888888888888,
             "#fdca26"
            ],
            [
             1,
             "#f0f921"
            ]
           ],
           "sequentialminus": [
            [
             0,
             "#0d0887"
            ],
            [
             0.1111111111111111,
             "#46039f"
            ],
            [
             0.2222222222222222,
             "#7201a8"
            ],
            [
             0.3333333333333333,
             "#9c179e"
            ],
            [
             0.4444444444444444,
             "#bd3786"
            ],
            [
             0.5555555555555556,
             "#d8576b"
            ],
            [
             0.6666666666666666,
             "#ed7953"
            ],
            [
             0.7777777777777778,
             "#fb9f3a"
            ],
            [
             0.8888888888888888,
             "#fdca26"
            ],
            [
             1,
             "#f0f921"
            ]
           ]
          },
          "colorway": [
           "#636efa",
           "#EF553B",
           "#00cc96",
           "#ab63fa",
           "#FFA15A",
           "#19d3f3",
           "#FF6692",
           "#B6E880",
           "#FF97FF",
           "#FECB52"
          ],
          "font": {
           "color": "#2a3f5f"
          },
          "geo": {
           "bgcolor": "white",
           "lakecolor": "white",
           "landcolor": "#E5ECF6",
           "showlakes": true,
           "showland": true,
           "subunitcolor": "white"
          },
          "hoverlabel": {
           "align": "left"
          },
          "hovermode": "closest",
          "mapbox": {
           "style": "light"
          },
          "paper_bgcolor": "white",
          "plot_bgcolor": "#E5ECF6",
          "polar": {
           "angularaxis": {
            "gridcolor": "white",
            "linecolor": "white",
            "ticks": ""
           },
           "bgcolor": "#E5ECF6",
           "radialaxis": {
            "gridcolor": "white",
            "linecolor": "white",
            "ticks": ""
           }
          },
          "scene": {
           "xaxis": {
            "backgroundcolor": "#E5ECF6",
            "gridcolor": "white",
            "gridwidth": 2,
            "linecolor": "white",
            "showbackground": true,
            "ticks": "",
            "zerolinecolor": "white"
           },
           "yaxis": {
            "backgroundcolor": "#E5ECF6",
            "gridcolor": "white",
            "gridwidth": 2,
            "linecolor": "white",
            "showbackground": true,
            "ticks": "",
            "zerolinecolor": "white"
           },
           "zaxis": {
            "backgroundcolor": "#E5ECF6",
            "gridcolor": "white",
            "gridwidth": 2,
            "linecolor": "white",
            "showbackground": true,
            "ticks": "",
            "zerolinecolor": "white"
           }
          },
          "shapedefaults": {
           "line": {
            "color": "#2a3f5f"
           }
          },
          "ternary": {
           "aaxis": {
            "gridcolor": "white",
            "linecolor": "white",
            "ticks": ""
           },
           "baxis": {
            "gridcolor": "white",
            "linecolor": "white",
            "ticks": ""
           },
           "bgcolor": "#E5ECF6",
           "caxis": {
            "gridcolor": "white",
            "linecolor": "white",
            "ticks": ""
           }
          },
          "title": {
           "x": 0.05
          },
          "xaxis": {
           "automargin": true,
           "gridcolor": "white",
           "linecolor": "white",
           "ticks": "",
           "title": {
            "standoff": 15
           },
           "zerolinecolor": "white",
           "zerolinewidth": 2
          },
          "yaxis": {
           "automargin": true,
           "gridcolor": "white",
           "linecolor": "white",
           "ticks": "",
           "title": {
            "standoff": 15
           },
           "zerolinecolor": "white",
           "zerolinewidth": 2
          }
         }
        }
       }
      },
      "text/html": [
       "<div>                            <div id=\"be239f94-158a-428f-ac20-fa75cd8a7ecd\" class=\"plotly-graph-div\" style=\"height:525px; width:100%;\"></div>            <script type=\"text/javascript\">                require([\"plotly\"], function(Plotly) {                    window.PLOTLYENV=window.PLOTLYENV || {};                                    if (document.getElementById(\"be239f94-158a-428f-ac20-fa75cd8a7ecd\")) {                    Plotly.newPlot(                        \"be239f94-158a-428f-ac20-fa75cd8a7ecd\",                        [{\"connectgaps\":true,\"mode\":\"lines\",\"name\":\"BEQ04C01-All building and construction\",\"x\":[\"2000Q1\",\"2000Q2\",\"2000Q3\",\"2000Q4\",\"2001Q1\",\"2001Q2\",\"2001Q3\",\"2001Q4\",\"2002Q1\",\"2002Q2\",\"2002Q3\",\"2002Q4\",\"2003Q1\",\"2003Q2\",\"2003Q3\",\"2003Q4\",\"2004Q1\",\"2004Q2\",\"2004Q3\",\"2004Q4\",\"2005Q1\",\"2005Q2\",\"2005Q3\",\"2005Q4\",\"2006Q1\",\"2006Q2\",\"2006Q3\",\"2006Q4\",\"2007Q1\",\"2007Q2\",\"2007Q3\",\"2007Q4\",\"2008Q1\",\"2008Q2\",\"2008Q3\",\"2008Q4\",\"2009Q1\",\"2009Q2\",\"2009Q3\",\"2009Q4\",\"2010Q1\",\"2010Q2\",\"2010Q3\",\"2010Q4\",\"2011Q1\",\"2011Q2\",\"2011Q3\",\"2011Q4\",\"2012Q1\",\"2012Q2\",\"2012Q3\",\"2012Q4\",\"2013Q1\",\"2013Q2\",\"2013Q3\",\"2013Q4\",\"2014Q1\",\"2014Q2\",\"2014Q3\",\"2014Q4\",\"2015Q1\",\"2015Q2\",\"2015Q3\",\"2015Q4\",\"2016Q1\",\"2016Q2\",\"2016Q3\",\"2016Q4\",\"2017Q1\",\"2017Q2\",\"2017Q3\",\"2017Q4\",\"2018Q1\",\"2018Q2\",\"2018Q3\",\"2018Q4\",\"2019Q1\",\"2019Q2\",\"2019Q3\",\"2019Q4\",\"2020Q1\",\"2020Q2\",\"2020Q3\",\"2020Q4\",\"2021Q1\",\"2021Q2\",\"2021Q3\",\"2021Q4\",\"2022Q1\",\"2022Q2\",\"2022Q3\",\"2022Q4\"],\"y\":[143.514977427572,153.542078417604,162.663797696119,163.688031688225,167.381045922143,178.852154835777,178.185832197097,181.92127049663,174.135875231309,180.108692642037,199.692913988463,200.871352064674,186.121145298732,198.679281687862,226.177970745465,233.092929640193,237.945161786829,266.74987313364,254.147598460311,252.436904943265,256.292300915476,298.841241058275,303.371672884521,305.259103072285,304.241934942148,315.439027601418,309.607800531758,349.938187826664,284.130736561637,308.98813604709,283.122152704952,284.373266080607,227.800645388296,227.673055198567,207.237889411472,186.820357868685,143.684676102336,136.117361812248,129.637984455345,118.677200390698,90.6815531094466,95.7841114643568,93.5634918771807,95.2364192291285,68.4892748073368,70.7201661379171,78.9799454356307,86.7348575271,67.1635153337058,68.5521069839513,75.7968188676656,88.4821453034722,67.795461023386,78.7526192000389,91.5054662264187,98.4431103403706,74.7451895143154,91.4606283074825,97.7243533605647,103.968549870311,86.9943696213111,103.300833789336,100.015940172411,109.688856416941,87.2462097974492,111.448592651352,118.622577611946,123.768453741149,110.015241512496,122.75001536843,129.578261643066,142.899021266802,120.211179486163,143.616148768282,153.377062518314,163.227398597685,135.040230358843,149.953513166436,164.100170833526,177.404782255831,152.958935315721,102.674057954399,153.805740979836,165.873621344872,104.287898051507,139.663707148809,165.009204076054,182.008655568602,143.728826030175,162.892320500678,179.996530978774,178.301453511829],\"type\":\"scatter\"},{\"connectgaps\":true,\"mode\":\"lines\",\"name\":\"BEQ04C01-Building (excluding civil engineering)\",\"x\":[\"2000Q1\",\"2000Q2\",\"2000Q3\",\"2000Q4\",\"2001Q1\",\"2001Q2\",\"2001Q3\",\"2001Q4\",\"2002Q1\",\"2002Q2\",\"2002Q3\",\"2002Q4\",\"2003Q1\",\"2003Q2\",\"2003Q3\",\"2003Q4\",\"2004Q1\",\"2004Q2\",\"2004Q3\",\"2004Q4\",\"2005Q1\",\"2005Q2\",\"2005Q3\",\"2005Q4\",\"2006Q1\",\"2006Q2\",\"2006Q3\",\"2006Q4\",\"2007Q1\",\"2007Q2\",\"2007Q3\",\"2007Q4\",\"2008Q1\",\"2008Q2\",\"2008Q3\",\"2008Q4\",\"2009Q1\",\"2009Q2\",\"2009Q3\",\"2009Q4\",\"2010Q1\",\"2010Q2\",\"2010Q3\",\"2010Q4\",\"2011Q1\",\"2011Q2\",\"2011Q3\",\"2011Q4\",\"2012Q1\",\"2012Q2\",\"2012Q3\",\"2012Q4\",\"2013Q1\",\"2013Q2\",\"2013Q3\",\"2013Q4\",\"2014Q1\",\"2014Q2\",\"2014Q3\",\"2014Q4\",\"2015Q1\",\"2015Q2\",\"2015Q3\",\"2015Q4\",\"2016Q1\",\"2016Q2\",\"2016Q3\",\"2016Q4\",\"2017Q1\",\"2017Q2\",\"2017Q3\",\"2017Q4\",\"2018Q1\",\"2018Q2\",\"2018Q3\",\"2018Q4\",\"2019Q1\",\"2019Q2\",\"2019Q3\",\"2019Q4\",\"2020Q1\",\"2020Q2\",\"2020Q3\",\"2020Q4\",\"2021Q1\",\"2021Q2\",\"2021Q3\",\"2021Q4\",\"2022Q1\",\"2022Q2\",\"2022Q3\",\"2022Q4\"],\"y\":[182.795802254117,196.823792013697,209.384591799189,210.372835031086,209.547935300614,226.467716398974,224.606755902268,229.999077901212,207.80954408193,217.042843489989,245.742968606831,249.24659372488,225.524788451493,244.291054128083,284.322183247792,294.353224950941,303.213988887259,337.612190719066,316.835449667276,318.618921153532,326.56879484208,381.876433349431,376.464446188823,379.558888312479,379.551955020777,394.636630957154,381.886279346242,433.067359745989,342.700078344427,375.233997717191,336.740515991284,336.287131664938,262.611494736378,255.503778324213,227.235857836171,202.170099428813,148.921430182213,135.357240212555,123.875187321564,112.72256142301,83.6256971493847,83.9025720275154,92.4481749652974,93.0070009201357,69.5878191202959,70.0833455410036,76.2114964031669,81.9592220437813,62.4416717910165,62.3918375780881,68.2281139431001,73.3567531909703,62.088756313301,71.6009874633597,83.0893780287939,93.2494856089707,72.7788282321882,81.2848862628165,91.5712210291301,102.151181940324,87.2190162115268,102.405819903846,100.167889380649,110.207274503977,88.9096527327527,111.769529578752,120.080502993239,126.281542144255,114.534657166964,127.140297416283,132.493601676135,146.542241579745,123.978996062005,150.821295947192,157.022638508903,165.435866625628,141.177878530954,154.576433897698,173.178882372505,187.81591013257,161.812162952862,110.724051254904,163.314956811788,173.508621523942,108.816541342562,143.484324872887,171.101313294475,186.417117967111,152.249893262979,170.989271863493,186.691702261792,181.766263421233],\"type\":\"scatter\"},{\"connectgaps\":true,\"mode\":\"lines\",\"name\":\"BEQ04C01-Residential building\",\"x\":[\"2000Q1\",\"2000Q2\",\"2000Q3\",\"2000Q4\",\"2001Q1\",\"2001Q2\",\"2001Q3\",\"2001Q4\",\"2002Q1\",\"2002Q2\",\"2002Q3\",\"2002Q4\",\"2003Q1\",\"2003Q2\",\"2003Q3\",\"2003Q4\",\"2004Q1\",\"2004Q2\",\"2004Q3\",\"2004Q4\",\"2005Q1\",\"2005Q2\",\"2005Q3\",\"2005Q4\",\"2006Q1\",\"2006Q2\",\"2006Q3\",\"2006Q4\",\"2007Q1\",\"2007Q2\",\"2007Q3\",\"2007Q4\",\"2008Q1\",\"2008Q2\",\"2008Q3\",\"2008Q4\",\"2009Q1\",\"2009Q2\",\"2009Q3\",\"2009Q4\",\"2010Q1\",\"2010Q2\",\"2010Q3\",\"2010Q4\",\"2011Q1\",\"2011Q2\",\"2011Q3\",\"2011Q4\",\"2012Q1\",\"2012Q2\",\"2012Q3\",\"2012Q4\",\"2013Q1\",\"2013Q2\",\"2013Q3\",\"2013Q4\",\"2014Q1\",\"2014Q2\",\"2014Q3\",\"2014Q4\",\"2015Q1\",\"2015Q2\",\"2015Q3\",\"2015Q4\",\"2016Q1\",\"2016Q2\",\"2016Q3\",\"2016Q4\",\"2017Q1\",\"2017Q2\",\"2017Q3\",\"2017Q4\",\"2018Q1\",\"2018Q2\",\"2018Q3\",\"2018Q4\",\"2019Q1\",\"2019Q2\",\"2019Q3\",\"2019Q4\",\"2020Q1\",\"2020Q2\",\"2020Q3\",\"2020Q4\",\"2021Q1\",\"2021Q2\",\"2021Q3\",\"2021Q4\",\"2022Q1\",\"2022Q2\",\"2022Q3\",\"2022Q4\"],\"y\":[279.281551222912,306.710989289448,330.40004943782,330.40004943782,332.224641008193,369.617890714295,362.42688107151,373.932496437626,339.824989817887,361.749182880295,425.955747809799,438.483857819477,397.631705478083,440.777215369425,530.373583741029,552.741267802627,580.547758405582,650.115455006707,589.428221946443,600.41079346222,627.890235347781,741.81644907467,717.866952945904,706.414467117522,711.76729062178,748.704594518197,720.491580631903,825.71675499562,617.198391741905,688.443367339795,588.173909703037,585.846847290155,418.999056415455,395.349127130655,329.368678941908,261.168522398431,177.313545762535,153.980466787289,129.547519130481,119.582953654087,87.9644974356549,92.9740258150884,95.4041895680968,91.9859991401427,65.5545782165471,61.8933193676055,62.9947715051189,71.8172875639285,55.1356530110909,55.6178060563772,59.6401553687861,61.2579600783524,59.281905463766,63.2672889560637,64.9124262712351,70.877533125236,56.2737919793384,71.1597553523984,82.6829274142784,97.8824426982786,85.5852367593501,104.603908368105,105.004527307169,104.806327565374,99.9571539258965,135.115872683866,130.280640522674,131.724629215394,117.140854995853,147.44447362765,164.965113577981,156.84765164558,133.219468679588,158.578497142229,156.431455983463,154.127882804995,139.942580025284,175.379507247374,186.051106465979,195.153107679177,155.989525467233,90.3639557213872,148.740216249052,150.39320720141,73.5361087295046,123.720229786994,155.063588698018,165.192913289849,137.22949754008,154.76322184943,144.661943620784,151.054300011773],\"type\":\"scatter\"},{\"connectgaps\":true,\"mode\":\"lines\",\"name\":\"BEQ04C01-Non-residential building\",\"x\":[\"2000Q1\",\"2000Q2\",\"2000Q3\",\"2000Q4\",\"2001Q1\",\"2001Q2\",\"2001Q3\",\"2001Q4\",\"2002Q1\",\"2002Q2\",\"2002Q3\",\"2002Q4\",\"2003Q1\",\"2003Q2\",\"2003Q3\",\"2003Q4\",\"2004Q1\",\"2004Q2\",\"2004Q3\",\"2004Q4\",\"2005Q1\",\"2005Q2\",\"2005Q3\",\"2005Q4\",\"2006Q1\",\"2006Q2\",\"2006Q3\",\"2006Q4\",\"2007Q1\",\"2007Q2\",\"2007Q3\",\"2007Q4\",\"2008Q1\",\"2008Q2\",\"2008Q3\",\"2008Q4\",\"2009Q1\",\"2009Q2\",\"2009Q3\",\"2009Q4\",\"2010Q1\",\"2010Q2\",\"2010Q3\",\"2010Q4\",\"2011Q1\",\"2011Q2\",\"2011Q3\",\"2011Q4\",\"2012Q1\",\"2012Q2\",\"2012Q3\",\"2012Q4\",\"2013Q1\",\"2013Q2\",\"2013Q3\",\"2013Q4\",\"2014Q1\",\"2014Q2\",\"2014Q3\",\"2014Q4\",\"2015Q1\",\"2015Q2\",\"2015Q3\",\"2015Q4\",\"2016Q1\",\"2016Q2\",\"2016Q3\",\"2016Q4\",\"2017Q1\",\"2017Q2\",\"2017Q3\",\"2017Q4\",\"2018Q1\",\"2018Q2\",\"2018Q3\",\"2018Q4\",\"2019Q1\",\"2019Q2\",\"2019Q3\",\"2019Q4\",\"2020Q1\",\"2020Q2\",\"2020Q3\",\"2020Q4\",\"2021Q1\",\"2021Q2\",\"2021Q3\",\"2021Q4\",\"2022Q1\",\"2022Q2\",\"2022Q3\",\"2022Q4\"],\"y\":[115.359508444902,119.799136019842,124.415782182151,126.150564896943,123.359796621535,125.543338713115,127.568453462809,128.567234462583,114.71507074804,114.789324013223,117.920335723626,114.851201734208,103.272660239551,104.464456329272,108.801722948082,109.949983021085,105.748305562215,115.122157470609,122.667284900791,117.935244566517,112.035877720033,125.642898845117,133.367965081126,146.740848628722,142.942143280672,142.504155010533,140.746110751338,153.480020222558,147.076171254237,152.08809422491,157.458895300202,158.332948048061,150.879658557711,155.504473883501,154.034357431686,159.588803888187,128.214679470104,121.618084528284,119.346085055654,107.399427899243,80.1403111429848,76.6154152093138,90.0735895380969,93.8271781769127,72.8277473213814,76.6624459220788,86.8285760036874,90.1063028453014,68.3106433817638,67.8334604035024,75.1268759656742,83.0757910417063,64.3435175439522,78.2955007487022,97.691039574562,111.221018055254,86.0374293650501,89.4184686495903,98.7112441097055,105.580287462022,87.4721369717231,102.065270986848,99.4185511103434,111.044040931084,87.1980680408572,108.152490506129,118.500199995721,125.438246964219,114.130880038545,123.994579975086,127.462804057539,144.945628752643,122.547373543788,149.619476043736,157.114230167774,167.187807780938,141.36926280648,151.353422533664,171.184594132671,186.679161216898,162.714261718241,113.878432253055,165.573015208832,177.089882897855,114.282523860078,146.546367773519,173.5860311897,189.705375029786,154.576996825682,173.503166936095,193.20335500899,186.524454935375],\"type\":\"scatter\"},{\"connectgaps\":true,\"mode\":\"lines\",\"name\":\"BEQ04C01-Civil engineering\",\"x\":[\"2000Q1\",\"2000Q2\",\"2000Q3\",\"2000Q4\",\"2001Q1\",\"2001Q2\",\"2001Q3\",\"2001Q4\",\"2002Q1\",\"2002Q2\",\"2002Q3\",\"2002Q4\",\"2003Q1\",\"2003Q2\",\"2003Q3\",\"2003Q4\",\"2004Q1\",\"2004Q2\",\"2004Q3\",\"2004Q4\",\"2005Q1\",\"2005Q2\",\"2005Q3\",\"2005Q4\",\"2006Q1\",\"2006Q2\",\"2006Q3\",\"2006Q4\",\"2007Q1\",\"2007Q2\",\"2007Q3\",\"2007Q4\",\"2008Q1\",\"2008Q2\",\"2008Q3\",\"2008Q4\",\"2009Q1\",\"2009Q2\",\"2009Q3\",\"2009Q4\",\"2010Q1\",\"2010Q2\",\"2010Q3\",\"2010Q4\",\"2011Q1\",\"2011Q2\",\"2011Q3\",\"2011Q4\",\"2012Q1\",\"2012Q2\",\"2012Q3\",\"2012Q4\",\"2013Q1\",\"2013Q2\",\"2013Q3\",\"2013Q4\",\"2014Q1\",\"2014Q2\",\"2014Q3\",\"2014Q4\",\"2015Q1\",\"2015Q2\",\"2015Q3\",\"2015Q4\",\"2016Q1\",\"2016Q2\",\"2016Q3\",\"2016Q4\",\"2017Q1\",\"2017Q2\",\"2017Q3\",\"2017Q4\",\"2018Q1\",\"2018Q2\",\"2018Q3\",\"2018Q4\",\"2019Q1\",\"2019Q2\",\"2019Q3\",\"2019Q4\",\"2020Q1\",\"2020Q2\",\"2020Q3\",\"2020Q4\",\"2021Q1\",\"2021Q2\",\"2021Q3\",\"2021Q4\",\"2022Q1\",\"2022Q2\",\"2022Q3\",\"2022Q4\"],\"y\":[60.4388869219421,62.7648863353802,65.1836289177972,66.0925122664424,75.9941511641423,77.3392929928335,78.5868378298977,79.2021235659531,94.451655957043,94.5127930387482,97.0907388918396,94.5637405538192,95.8011121745837,96.9066843851203,100.930159494411,101.995345488046,94.609819613647,111.17197785322,116.605642020413,107.150768569467,101.96056312197,116.471132731865,143.034964477256,142.259438481434,139.000768982884,141.645920445715,151.104293727372,167.609561307026,155.853126403735,163.837064446969,165.800465424272,170.831234012442,151.846274296517,167.171189286002,163.976966079514,153.750316058636,132.792865673888,138.464929369481,143.029208091589,132.439608977018,106.882672411855,123.065597793175,96.1243976626298,100.355439827537,65.9668809866619,72.182385112231,85.3366473455703,97.7003081610137,78.0054530086565,82.6968486204422,93.1755029198471,123.211919195881,80.8987619347181,95.1736515494321,110.829847240018,110.368316064753,79.2601985938236,114.825392524512,111.852707390089,108.141451757305,85.9709795992174,107.378119267678,99.3237271126593,107.327174020444,79.6683030921778,109.986546648753,111.980917541612,112.319939904779,89.4267924199205,102.749841594878,116.297268159084,126.302128730063,103.046681751773,110.792700508801,136.769438561189,153.16659980372,107.079833130339,128.893540946242,122.741596044848,129.976310817355,112.627564968747,66.0018662520965,110.485979967609,131.091953862441,83.6574119478134,122.258670850227,137.256262081026,161.925660197616,104.91063085851,126.006208736743,149.496306245024,162.517319480097],\"type\":\"scatter\"},{\"connectgaps\":true,\"mode\":\"lines\",\"name\":\"BEQ04C02-All building and construction\",\"x\":[\"2000Q1\",\"2000Q2\",\"2000Q3\",\"2000Q4\",\"2001Q1\",\"2001Q2\",\"2001Q3\",\"2001Q4\",\"2002Q1\",\"2002Q2\",\"2002Q3\",\"2002Q4\",\"2003Q1\",\"2003Q2\",\"2003Q3\",\"2003Q4\",\"2004Q1\",\"2004Q2\",\"2004Q3\",\"2004Q4\",\"2005Q1\",\"2005Q2\",\"2005Q3\",\"2005Q4\",\"2006Q1\",\"2006Q2\",\"2006Q3\",\"2006Q4\",\"2007Q1\",\"2007Q2\",\"2007Q3\",\"2007Q4\",\"2008Q1\",\"2008Q2\",\"2008Q3\",\"2008Q4\",\"2009Q1\",\"2009Q2\",\"2009Q3\",\"2009Q4\",\"2010Q1\",\"2010Q2\",\"2010Q3\",\"2010Q4\",\"2011Q1\",\"2011Q2\",\"2011Q3\",\"2011Q4\",\"2012Q1\",\"2012Q2\",\"2012Q3\",\"2012Q4\",\"2013Q1\",\"2013Q2\",\"2013Q3\",\"2013Q4\",\"2014Q1\",\"2014Q2\",\"2014Q3\",\"2014Q4\",\"2015Q1\",\"2015Q2\",\"2015Q3\",\"2015Q4\",\"2016Q1\",\"2016Q2\",\"2016Q3\",\"2016Q4\",\"2017Q1\",\"2017Q2\",\"2017Q3\",\"2017Q4\",\"2018Q1\",\"2018Q2\",\"2018Q3\",\"2018Q4\",\"2019Q1\",\"2019Q2\",\"2019Q3\",\"2019Q4\",\"2020Q1\",\"2020Q2\",\"2020Q3\",\"2020Q4\",\"2021Q1\",\"2021Q2\",\"2021Q3\",\"2021Q4\",\"2022Q1\",\"2022Q2\",\"2022Q3\",\"2022Q4\"],\"y\":[206.81997135653,216.69209903382,228.746937337031,221.786474399994,212.48466154237,225.728420509875,231.175473316256,234.256484411007,216.771637192579,221.827117525073,244.923119630178,238.867731016153,225.342747844468,236.617281848433,266.89968770419,245.745815145904,297.908187578236,324.7799045376,303.405083277719,296.182233787953,300.433982114917,346.44230346926,350.287589711815,345.894904602857,340.3996476035,346.877276623175,337.252947138766,371.033551460534,300.156518832456,323.163613601868,291.880817354658,292.648049361256,230.525530631165,228.991558060177,207.534153505035,187.738738624833,146.0433702316,139.086444176089,132.700602657161,121.373276341381,92.3092094402992,96.8201476669973,94.0108791363514,95.7871163940093,70.3569175288962,73.6222849296053,81.9675101461357,89.7390785398944,69.3477409552573,70.3498965565796,77.6268240285624,90.6184194238318,69.291733724737,80.3281132095427,93.1479110931413,100.109163490671,76.0101785829216,92.3574502249287,98.1916363758417,104.361847772402,87.3437445997099,103.197636153183,99.8163075572965,109.579277139801,87.5965961821779,111.115246910621,118.032415534275,122.786164425743,108.818240863003,120.698146871613,127.03751141477,140.097079673335,117.738667469308,134.472049408503,143.075618020815,152.548970652042,125.502072824203,138.974525640812,152.085422459246,162.458591809369,139.944131121428,93.7662629720541,140.461863908526,151.759946335656,94.807180046825,122.512023814744,140.313949044264,152.308498383767,117.810513139487,128.76863280686,137.928376228945,135.693648030311],\"type\":\"scatter\"},{\"connectgaps\":true,\"mode\":\"lines\",\"name\":\"BEQ04C02-Building (excluding civil engineering)\",\"x\":[\"2000Q1\",\"2000Q2\",\"2000Q3\",\"2000Q4\",\"2001Q1\",\"2001Q2\",\"2001Q3\",\"2001Q4\",\"2002Q1\",\"2002Q2\",\"2002Q3\",\"2002Q4\",\"2003Q1\",\"2003Q2\",\"2003Q3\",\"2003Q4\",\"2004Q1\",\"2004Q2\",\"2004Q3\",\"2004Q4\",\"2005Q1\",\"2005Q2\",\"2005Q3\",\"2005Q4\",\"2006Q1\",\"2006Q2\",\"2006Q3\",\"2006Q4\",\"2007Q1\",\"2007Q2\",\"2007Q3\",\"2007Q4\",\"2008Q1\",\"2008Q2\",\"2008Q3\",\"2008Q4\",\"2009Q1\",\"2009Q2\",\"2009Q3\",\"2009Q4\",\"2010Q1\",\"2010Q2\",\"2010Q3\",\"2010Q4\",\"2011Q1\",\"2011Q2\",\"2011Q3\",\"2011Q4\",\"2012Q1\",\"2012Q2\",\"2012Q3\",\"2012Q4\",\"2013Q1\",\"2013Q2\",\"2013Q3\",\"2013Q4\",\"2014Q1\",\"2014Q2\",\"2014Q3\",\"2014Q4\",\"2015Q1\",\"2015Q2\",\"2015Q3\",\"2015Q4\",\"2016Q1\",\"2016Q2\",\"2016Q3\",\"2016Q4\",\"2017Q1\",\"2017Q2\",\"2017Q3\",\"2017Q4\",\"2018Q1\",\"2018Q2\",\"2018Q3\",\"2018Q4\",\"2019Q1\",\"2019Q2\",\"2019Q3\",\"2019Q4\",\"2020Q1\",\"2020Q2\",\"2020Q3\",\"2020Q4\",\"2021Q1\",\"2021Q2\",\"2021Q3\",\"2021Q4\",\"2022Q1\",\"2022Q2\",\"2022Q3\",\"2022Q4\"],\"y\":[265.870115644885,279.040288097419,295.483888753868,284.011851104239,267.604231453381,285.574213831363,293.105206962411,296.934935244946,263.801207823433,268.743536263211,302.829917028052,298.808758551712,276.956200789234,291.857115830991,337.037171483549,304.726790666525,379.605776629742,411.037140917989,378.223603405397,373.814151409601,382.794915541841,442.681351189664,434.662000739379,430.063603512214,424.638378751191,433.946113797471,415.964145162416,459.150730987772,362.010985197051,392.428747747892,347.140318799778,346.054976958808,265.739304979787,256.970427072351,227.549174574243,203.153637850138,151.358416172498,138.30273071517,126.795234776927,115.277517259643,85.1241386981417,84.8075344771006,92.8874267561623,93.5419844790187,71.4832615308094,72.9571302259929,79.0919531215882,84.7954718691893,64.4703931961768,64.0261414625823,69.8732755290158,75.1255799317758,63.4571652720206,73.031205376692,84.578209578698,94.8247808807897,74.0083057274686,82.0794530726466,92.0063061224143,102.534511530126,87.569293385067,102.303516387459,99.9679534737019,110.09717732665,89.2667196111975,111.435223907031,119.483087555462,125.279307682792,113.288483844673,125.01504170726,129.89568791778,143.668864293867,121.428987328115,141.21844189812,146.476341892633,154.612959463204,131.206206813154,143.258974882019,160.499427592683,171.992591696492,148.044064915702,101.11785502731,149.146079280172,158.745307890157,98.9241284932385,125.863442870954,145.494314025914,155.997588256997,124.794994477852,135.169384872327,143.058775679534,138.330489666083],\"type\":\"scatter\"},{\"connectgaps\":true,\"mode\":\"lines\",\"name\":\"BEQ04C02-Residential building\",\"x\":[\"2000Q1\",\"2000Q2\",\"2000Q3\",\"2000Q4\",\"2001Q1\",\"2001Q2\",\"2001Q3\",\"2001Q4\",\"2002Q1\",\"2002Q2\",\"2002Q3\",\"2002Q4\",\"2003Q1\",\"2003Q2\",\"2003Q3\",\"2003Q4\",\"2004Q1\",\"2004Q2\",\"2004Q3\",\"2004Q4\",\"2005Q1\",\"2005Q2\",\"2005Q3\",\"2005Q4\",\"2006Q1\",\"2006Q2\",\"2006Q3\",\"2006Q4\",\"2007Q1\",\"2007Q2\",\"2007Q3\",\"2007Q4\",\"2008Q1\",\"2008Q2\",\"2008Q3\",\"2008Q4\",\"2009Q1\",\"2009Q2\",\"2009Q3\",\"2009Q4\",\"2010Q1\",\"2010Q2\",\"2010Q3\",\"2010Q4\",\"2011Q1\",\"2011Q2\",\"2011Q3\",\"2011Q4\",\"2012Q1\",\"2012Q2\",\"2012Q3\",\"2012Q4\",\"2013Q1\",\"2013Q2\",\"2013Q3\",\"2013Q4\",\"2014Q1\",\"2014Q2\",\"2014Q3\",\"2014Q4\",\"2015Q1\",\"2015Q2\",\"2015Q3\",\"2015Q4\",\"2016Q1\",\"2016Q2\",\"2016Q3\",\"2016Q4\",\"2017Q1\",\"2017Q2\",\"2017Q3\",\"2017Q4\",\"2018Q1\",\"2018Q2\",\"2018Q3\",\"2018Q4\",\"2019Q1\",\"2019Q2\",\"2019Q3\",\"2019Q4\",\"2020Q1\",\"2020Q2\",\"2020Q3\",\"2020Q4\",\"2021Q1\",\"2021Q2\",\"2021Q3\",\"2021Q4\",\"2022Q1\",\"2022Q2\",\"2022Q3\",\"2022Q4\"],\"y\":[445.508869340789,469.562334576995,501.036394110496,471.36345427894,452.223077420161,491.339981022928,506.14200458339,513.713124734737,453.923217395562,465.435849957268,541.03804999022,536.032475508108,499.206490467809,532.486860249945,632.328441464236,554.674088016623,726.851830062808,791.548979808233,703.671794633753,704.461110688033,736.036775144862,859.981553788882,828.888236469644,800.455910997857,796.361661359665,823.328623832417,784.829032432047,875.498149716287,652.013576619012,720.030945525092,606.372851183002,602.89718401853,424.013237911661,397.640774850058,329.841278971636,262.453771766974,180.225234112166,157.340020908346,132.608699545992,122.300251291093,89.5510585550933,93.9877208883219,95.8685933501939,92.5258295264274,67.3479653598181,64.4387356709391,65.3832696824945,74.3111788681259,56.9335989838716,57.0812828784781,61.0853155201188,62.7423217858253,60.595473034228,64.5385198171037,66.0832114708628,72.0832427008139,57.2310748707121,71.8636739965028,83.0854072674157,98.2611377217057,85.9289525696287,104.499408959146,104.794937432305,104.701625939435,100.358588279012,134.711737471452,129.632478132014,130.679195650193,115.866325416274,144.979816743018,161.730503507824,153.772207495666,130.479401253269,148.481738897218,145.924865656215,144.044750285042,130.0581598748,162.538931647242,172.429199690434,178.711637068843,142.716857701037,82.5241604761527,135.835813926074,137.596712901564,66.8510079359132,108.526517357012,131.856793110559,138.236747522886,112.483194704983,122.342467865162,110.852064077229,114.957610359035],\"type\":\"scatter\"},{\"connectgaps\":true,\"mode\":\"lines\",\"name\":\"BEQ04C02-Non-residential building\",\"x\":[\"2000Q1\",\"2000Q2\",\"2000Q3\",\"2000Q4\",\"2001Q1\",\"2001Q2\",\"2001Q3\",\"2001Q4\",\"2002Q1\",\"2002Q2\",\"2002Q3\",\"2002Q4\",\"2003Q1\",\"2003Q2\",\"2003Q3\",\"2003Q4\",\"2004Q1\",\"2004Q2\",\"2004Q3\",\"2004Q4\",\"2005Q1\",\"2005Q2\",\"2005Q3\",\"2005Q4\",\"2006Q1\",\"2006Q2\",\"2006Q3\",\"2006Q4\",\"2007Q1\",\"2007Q2\",\"2007Q3\",\"2007Q4\",\"2008Q1\",\"2008Q2\",\"2008Q3\",\"2008Q4\",\"2009Q1\",\"2009Q2\",\"2009Q3\",\"2009Q4\",\"2010Q1\",\"2010Q2\",\"2010Q3\",\"2010Q4\",\"2011Q1\",\"2011Q2\",\"2011Q3\",\"2011Q4\",\"2012Q1\",\"2012Q2\",\"2012Q3\",\"2012Q4\",\"2013Q1\",\"2013Q2\",\"2013Q3\",\"2013Q4\",\"2014Q1\",\"2014Q2\",\"2014Q3\",\"2014Q4\",\"2015Q1\",\"2015Q2\",\"2015Q3\",\"2015Q4\",\"2016Q1\",\"2016Q2\",\"2016Q3\",\"2016Q4\",\"2017Q1\",\"2017Q2\",\"2017Q3\",\"2017Q4\",\"2018Q1\",\"2018Q2\",\"2018Q3\",\"2018Q4\",\"2019Q1\",\"2019Q2\",\"2019Q3\",\"2019Q4\",\"2020Q1\",\"2020Q2\",\"2020Q3\",\"2020Q4\",\"2021Q1\",\"2021Q2\",\"2021Q3\",\"2021Q4\",\"2022Q1\",\"2022Q2\",\"2022Q3\",\"2022Q4\"],\"y\":[140.914436021031,146.337422551468,151.976824217242,154.095882903616,138.845068267034,141.302766949277,143.582023268388,144.706224989236,130.494469998324,130.579018748935,134.140746116793,130.64932770997,119.23064811206,120.606716111044,125.614078783213,126.939862525255,132.382944365408,140.151227650734,146.426153350281,138.357538811325,131.317804297082,145.640221777173,153.976430265145,166.256856350828,159.912831962165,156.689880855826,153.296860137059,162.714662633899,155.354871384752,159.048239617753,162.312474826095,162.922536644052,152.667913531363,156.388106827092,154.237868917472,160.355962585205,130.305318381264,124.257450237769,122.15234248129,109.827411548475,81.5687085801443,77.4345726187481,90.4931368576127,94.358097722479,74.8044774164086,79.7985815141759,90.1019256425297,93.2158120394222,70.5234833811053,69.6038253089216,76.9312252324254,85.0710522677869,65.7555007060155,79.8520087788198,99.4322560556508,113.089387511901,87.4827470573788,90.284139351097,99.1710241416179,105.966622893078,87.8234306945011,101.963307679169,99.2201108885662,110.933107823261,87.548261085198,107.829003495642,117.910646761911,124.442705321646,112.889099939213,121.92190754679,124.963533389744,142.103557600631,120.026810522809,140.093142363048,146.561781872923,156.250287645736,131.384073240223,140.271939326843,158.651153042327,170.951612835987,148.869406878537,103.99856826763,151.208233067426,162.021850775714,103.893203509162,128.549445415367,147.607169378997,158.749267807352,126.702456414493,137.156653704423,148.048547899609,141.951639981259],\"type\":\"scatter\"},{\"connectgaps\":true,\"mode\":\"lines\",\"name\":\"BEQ04C02-Civil engineering\",\"x\":[\"2000Q1\",\"2000Q2\",\"2000Q3\",\"2000Q4\",\"2001Q1\",\"2001Q2\",\"2001Q3\",\"2001Q4\",\"2002Q1\",\"2002Q2\",\"2002Q3\",\"2002Q4\",\"2003Q1\",\"2003Q2\",\"2003Q3\",\"2003Q4\",\"2004Q1\",\"2004Q2\",\"2004Q3\",\"2004Q4\",\"2005Q1\",\"2005Q2\",\"2005Q3\",\"2005Q4\",\"2006Q1\",\"2006Q2\",\"2006Q3\",\"2006Q4\",\"2007Q1\",\"2007Q2\",\"2007Q3\",\"2007Q4\",\"2008Q1\",\"2008Q2\",\"2008Q3\",\"2008Q4\",\"2009Q1\",\"2009Q2\",\"2009Q3\",\"2009Q4\",\"2010Q1\",\"2010Q2\",\"2010Q3\",\"2010Q4\",\"2011Q1\",\"2011Q2\",\"2011Q3\",\"2011Q4\",\"2012Q1\",\"2012Q2\",\"2012Q3\",\"2012Q4\",\"2013Q1\",\"2013Q2\",\"2013Q3\",\"2013Q4\",\"2014Q1\",\"2014Q2\",\"2014Q3\",\"2014Q4\",\"2015Q1\",\"2015Q2\",\"2015Q3\",\"2015Q4\",\"2016Q1\",\"2016Q2\",\"2016Q3\",\"2016Q4\",\"2017Q1\",\"2017Q2\",\"2017Q3\",\"2017Q4\",\"2018Q1\",\"2018Q2\",\"2018Q3\",\"2018Q4\",\"2019Q1\",\"2019Q2\",\"2019Q3\",\"2019Q4\",\"2020Q1\",\"2020Q2\",\"2020Q3\",\"2020Q4\",\"2021Q1\",\"2021Q2\",\"2021Q3\",\"2021Q4\",\"2022Q1\",\"2022Q2\",\"2022Q3\",\"2022Q4\"],\"y\":[82.6456034709101,85.8261576219107,89.133638154375,90.376455348062,93.7528362877361,97.5392268475872,98.8724323280052,100.312294246856,110.313379743388,114.814786018968,117.036215183241,108.6180121478,110.332431749927,114.188070698842,116.32354834503,116.026980809451,118.465780580001,135.372797997877,139.221898628731,125.733959785075,119.535465377459,135.039164592706,165.174497498902,161.215831637009,155.538636466118,155.781382464577,164.615877660299,177.734481436539,164.66304356333,171.373578832305,170.949763562212,175.822804440603,153.680681557036,168.159081237488,164.230691419413,154.524294812598,134.988631183253,141.501852908757,146.425399039424,135.464260248283,108.808662615461,124.405338676338,96.5907215076583,100.942730059175,67.7704349756135,75.1497144122545,88.5708019134183,101.091340710556,80.5478493268792,84.8714656279058,95.4317023659482,126.195435840615,82.6899579646238,97.0843837365948,112.826964221047,112.243967246995,80.6071837658183,115.959351839277,112.395333256729,108.558055415537,86.3162445775275,107.270848419259,99.1254761603386,107.219954066378,79.9882561166444,109.657573926973,111.423798548868,111.428511810297,88.4538006131756,101.032292620332,114.016929567729,123.825616402023,100.927210334744,103.738483622473,127.583431493646,143.146354956748,99.5165735412072,119.456479097537,113.754954629145,119.025925656919,103.044432725295,60.2756769425539,100.900438326583,119.937743698482,76.0521926798303,107.244448114234,116.714508572301,135.502644516833,85.992320375828,99.6096511752914,114.556556509597,123.68136946735],\"type\":\"scatter\"},{\"connectgaps\":true,\"mode\":\"lines\",\"name\":\"BEQ04C03-All building and construction\",\"x\":[\"2000Q1\",\"2000Q2\",\"2000Q3\",\"2000Q4\",\"2001Q1\",\"2001Q2\",\"2001Q3\",\"2001Q4\",\"2002Q1\",\"2002Q2\",\"2002Q3\",\"2002Q4\",\"2003Q1\",\"2003Q2\",\"2003Q3\",\"2003Q4\",\"2004Q1\",\"2004Q2\",\"2004Q3\",\"2004Q4\",\"2005Q1\",\"2005Q2\",\"2005Q3\",\"2005Q4\",\"2006Q1\",\"2006Q2\",\"2006Q3\",\"2006Q4\",\"2007Q1\",\"2007Q2\",\"2007Q3\",\"2007Q4\",\"2008Q1\",\"2008Q2\",\"2008Q3\",\"2008Q4\",\"2009Q1\",\"2009Q2\",\"2009Q3\",\"2009Q4\",\"2010Q1\",\"2010Q2\",\"2010Q3\",\"2010Q4\",\"2011Q1\",\"2011Q2\",\"2011Q3\",\"2011Q4\",\"2012Q1\",\"2012Q2\",\"2012Q3\",\"2012Q4\",\"2013Q1\",\"2013Q2\",\"2013Q3\",\"2013Q4\",\"2014Q1\",\"2014Q2\",\"2014Q3\",\"2014Q4\",\"2015Q1\",\"2015Q2\",\"2015Q3\",\"2015Q4\",\"2016Q1\",\"2016Q2\",\"2016Q3\",\"2016Q4\",\"2017Q1\",\"2017Q2\",\"2017Q3\",\"2017Q4\",\"2018Q1\",\"2018Q2\",\"2018Q3\",\"2018Q4\",\"2019Q1\",\"2019Q2\",\"2019Q3\",\"2019Q4\",\"2020Q1\",\"2020Q2\",\"2020Q3\",\"2020Q4\",\"2021Q1\",\"2021Q2\",\"2021Q3\",\"2021Q4\",\"2022Q1\",\"2022Q2\",\"2022Q3\",\"2022Q4\"],\"y\":[148.962897581372,154.184896607106,158.238980182692,161.520362355978,173.710432385175,179.869535778254,173.242523422165,179.417866447194,180.962667956839,180.754000527198,194.150045325439,198.57082218235,194.135432021407,197.526998374986,220.27385620289,231.898561127174,248.877584638847,261.892453455635,248.664871375329,251.952282773325,269.057403495567,290.889480184623,298.513599913342,302.848347478677,321.280906826021,307.220002375661,305.479216586305,341.886208674635,303.406817023938,303.25094655909,278.782573213393,272.697482096016,246.541796824606,226.248851511645,202.883323255258,175.620414955411,157.673146589606,137.493360902218,126.121340937223,109.194717289716,100.912579580235,98.4735445931998,90.461770395094,85.7728779783878,77.2588785409441,73.8321335001052,75.9124226678223,77.0552445550677,76.7990278359132,71.6803490099852,72.555442644398,78.4807560431837,78.4559814335397,81.3089033344458,87.3960557995899,88.1604138765516,87.3854480492852,92.2891645731772,93.3961946842197,94.469036405846,101.980797416989,102.404545758711,95.8915871393072,100.58976330668,102.101981671785,109.663307146741,114.021398222613,114.110299267847,127.523556979307,121.484232900869,124.50851477117,131.737217989996,137.857030061284,144.092631572758,146.75998933912,150.370124846302,153.140602010176,153.20893246563,155.927437558575,162.772958927034,172.861865415231,106.452141907445,145.060803830951,151.462387796918,118.359730646964,145.936029611238,154.59620373863,165.584751428213,164.340372110492,170.363198205159,167.988188591532,162.04888235783],\"type\":\"scatter\"},{\"connectgaps\":true,\"mode\":\"lines\",\"name\":\"BEQ04C03-Building (excluding civil engineering)\",\"x\":[\"2000Q1\",\"2000Q2\",\"2000Q3\",\"2000Q4\",\"2001Q1\",\"2001Q2\",\"2001Q3\",\"2001Q4\",\"2002Q1\",\"2002Q2\",\"2002Q3\",\"2002Q4\",\"2003Q1\",\"2003Q2\",\"2003Q3\",\"2003Q4\",\"2004Q1\",\"2004Q2\",\"2004Q3\",\"2004Q4\",\"2005Q1\",\"2005Q2\",\"2005Q3\",\"2005Q4\",\"2006Q1\",\"2006Q2\",\"2006Q3\",\"2006Q4\",\"2007Q1\",\"2007Q2\",\"2007Q3\",\"2007Q4\",\"2008Q1\",\"2008Q2\",\"2008Q3\",\"2008Q4\",\"2009Q1\",\"2009Q2\",\"2009Q3\",\"2009Q4\",\"2010Q1\",\"2010Q2\",\"2010Q3\",\"2010Q4\",\"2011Q1\",\"2011Q2\",\"2011Q3\",\"2011Q4\",\"2012Q1\",\"2012Q2\",\"2012Q3\",\"2012Q4\",\"2013Q1\",\"2013Q2\",\"2013Q3\",\"2013Q4\",\"2014Q1\",\"2014Q2\",\"2014Q3\",\"2014Q4\",\"2015Q1\",\"2015Q2\",\"2015Q3\",\"2015Q4\",\"2016Q1\",\"2016Q2\",\"2016Q3\",\"2016Q4\",\"2017Q1\",\"2017Q2\",\"2017Q3\",\"2017Q4\",\"2018Q1\",\"2018Q2\",\"2018Q3\",\"2018Q4\",\"2019Q1\",\"2019Q2\",\"2019Q3\",\"2019Q4\",\"2020Q1\",\"2020Q2\",\"2020Q3\",\"2020Q4\",\"2021Q1\",\"2021Q2\",\"2021Q3\",\"2021Q4\",\"2022Q1\",\"2022Q2\",\"2022Q3\",\"2022Q4\"],\"y\":[192.043996388387,197.648074315339,203.636221541916,205.484011951207,220.431752022006,227.291035568675,218.431231959777,224.827652359046,223.684182850493,212.173708601463,239.270192763183,245.015797606955,235.570098886146,243.495179301113,277.653433281756,292.50983928347,317.495690757263,330.539003201277,311.056962934606,318.539138133412,346.666005181,366.202708727778,371.519264618037,376.920676882102,393.530459379748,390.881689883206,377.3833096453,421.850303701099,364.468136292721,371.707425538523,331.042528645475,320.38400296573,286.697092422189,254.700128966319,221.339795343161,188.604186727035,161.822688816536,140.118211471192,119.591686084896,103.212769585801,93.2424315397179,87.09195039995,88.6610062565302,83.9336425379025,76.685254394036,75.0079743710679,72.8767243417609,73.3145035836961,70.211762154601,65.8794567387149,65.2953279330525,65.6113646930051,70.9839161757344,73.8755591146759,79.8008412281471,83.7036627636856,81.625514985488,84.5323769129307,88.3401084171998,92.6169595587399,99.9453871177858,102.658691124652,97.0599011284369,100.702142058681,102.688284114099,110.057109972641,116.546848796451,116.457982420095,128.107125363383,128.417512382517,128.179337350297,135.691828079165,142.249298640448,148.803665342433,150.740156272507,153.879778827959,158.047945682191,157.232767262857,164.537577269196,174.902812230691,184.082031788157,111.954154142535,153.629277778451,161.842740867114,126.749943158875,143.095365880028,159.708526807572,173.83713025391,174.976072586854,174.111059209706,173.490557167944,169.644861090298],\"type\":\"scatter\"},{\"connectgaps\":true,\"mode\":\"lines\",\"name\":\"BEQ04C03-Residential building\",\"x\":[\"2000Q1\",\"2000Q2\",\"2000Q3\",\"2000Q4\",\"2001Q1\",\"2001Q2\",\"2001Q3\",\"2001Q4\",\"2002Q1\",\"2002Q2\",\"2002Q3\",\"2002Q4\",\"2003Q1\",\"2003Q2\",\"2003Q3\",\"2003Q4\",\"2004Q1\",\"2004Q2\",\"2004Q3\",\"2004Q4\",\"2005Q1\",\"2005Q2\",\"2005Q3\",\"2005Q4\",\"2006Q1\",\"2006Q2\",\"2006Q3\",\"2006Q4\",\"2007Q1\",\"2007Q2\",\"2007Q3\",\"2007Q4\",\"2008Q1\",\"2008Q2\",\"2008Q3\",\"2008Q4\",\"2009Q1\",\"2009Q2\",\"2009Q3\",\"2009Q4\",\"2010Q1\",\"2010Q2\",\"2010Q3\",\"2010Q4\",\"2011Q1\",\"2011Q2\",\"2011Q3\",\"2011Q4\",\"2012Q1\",\"2012Q2\",\"2012Q3\",\"2012Q4\",\"2013Q1\",\"2013Q2\",\"2013Q3\",\"2013Q4\",\"2014Q1\",\"2014Q2\",\"2014Q3\",\"2014Q4\",\"2015Q1\",\"2015Q2\",\"2015Q3\",\"2015Q4\",\"2016Q1\",\"2016Q2\",\"2016Q3\",\"2016Q4\",\"2017Q1\",\"2017Q2\",\"2017Q3\",\"2017Q4\",\"2018Q1\",\"2018Q2\",\"2018Q3\",\"2018Q4\",\"2019Q1\",\"2019Q2\",\"2019Q3\",\"2019Q4\",\"2020Q1\",\"2020Q2\",\"2020Q3\",\"2020Q4\",\"2021Q1\",\"2021Q2\",\"2021Q3\",\"2021Q4\",\"2022Q1\",\"2022Q2\",\"2022Q3\",\"2022Q4\"],\"y\":[297.635954843263,307.40464460562,318.749628841375,321.599695802848,353.415661004046,371.08735737182,349.898137405527,364.495159996541,360.272532034495,362.221303045761,412.441423178978,430.390454309309,419.796492632022,436.006950457939,517.235147826986,549.624212221418,608.508830576194,633.480025620737,581.991966759447,598.038984402838,658.753069105,715.929126853088,717.554444011304,693.957736948741,753.507712331356,724.095732295483,724.79154759287,789.911977187872,666.864965017394,671.286345427955,589.369889733612,549.195767812089,459.562930630814,391.038195101974,326.808893380805,241.753749492815,195.992617266066,154.984332337477,127.330574319722,109.247073336824,97.6206507714102,95.3260940669916,93.1538247073247,83.1539098408112,72.9974600103043,64.1242718696802,61.3422117224892,64.3501821840766,61.9613703451055,57.4114451893233,57.9822755052834,55.1424258219145,67.2086276454847,64.1821354606267,62.9446292095788,64.6776991989375,64.4027594697486,70.5062993770157,79.8260248934469,91.4217341858583,98.0868109735722,101.579468693482,100.827583819701,100.160435416783,114.250186937606,129.650401926383,124.568220844535,127.708518980138,133.445170510177,141.165910435184,157.281369399554,152.276791863275,152.009750526699,152.312681471506,148.944223663418,148.637909158685,159.788166866258,170.002846910058,177.211646582434,186.234074842609,178.291608694323,88.2779627640022,141.845730680858,142.54418366834,83.8088764975487,121.674613465863,148.179127634633,155.790311354312,156.403484665095,152.291946796285,138.466401776571,142.291632822271],\"type\":\"scatter\"},{\"connectgaps\":true,\"mode\":\"lines\",\"name\":\"BEQ04C03-Non-residential building\",\"x\":[\"2000Q1\",\"2000Q2\",\"2000Q3\",\"2000Q4\",\"2001Q1\",\"2001Q2\",\"2001Q3\",\"2001Q4\",\"2002Q1\",\"2002Q2\",\"2002Q3\",\"2002Q4\",\"2003Q1\",\"2003Q2\",\"2003Q3\",\"2003Q4\",\"2004Q1\",\"2004Q2\",\"2004Q3\",\"2004Q4\",\"2005Q1\",\"2005Q2\",\"2005Q3\",\"2005Q4\",\"2006Q1\",\"2006Q2\",\"2006Q3\",\"2006Q4\",\"2007Q1\",\"2007Q2\",\"2007Q3\",\"2007Q4\",\"2008Q1\",\"2008Q2\",\"2008Q3\",\"2008Q4\",\"2009Q1\",\"2009Q2\",\"2009Q3\",\"2009Q4\",\"2010Q1\",\"2010Q2\",\"2010Q3\",\"2010Q4\",\"2011Q1\",\"2011Q2\",\"2011Q3\",\"2011Q4\",\"2012Q1\",\"2012Q2\",\"2012Q3\",\"2012Q4\",\"2013Q1\",\"2013Q2\",\"2013Q3\",\"2013Q4\",\"2014Q1\",\"2014Q2\",\"2014Q3\",\"2014Q4\",\"2015Q1\",\"2015Q2\",\"2015Q3\",\"2015Q4\",\"2016Q1\",\"2016Q2\",\"2016Q3\",\"2016Q4\",\"2017Q1\",\"2017Q2\",\"2017Q3\",\"2017Q4\",\"2018Q1\",\"2018Q2\",\"2018Q3\",\"2018Q4\",\"2019Q1\",\"2019Q2\",\"2019Q3\",\"2019Q4\",\"2020Q1\",\"2020Q2\",\"2020Q3\",\"2020Q4\",\"2021Q1\",\"2021Q2\",\"2021Q3\",\"2021Q4\",\"2022Q1\",\"2022Q2\",\"2022Q3\",\"2022Q4\"],\"y\":[119.454102292447,121.366027745656,121.681033947686,123.132906777184,127.584569658067,127.13299419563,124.701786877578,125.475465882057,119.245730343415,116.193685039278,114.978374155914,111.808380428275,108.14501582697,105.435843324799,106.006239632638,106.876072142497,110.791525039859,115.806034174997,120.178071867683,114.662293606837,117.061078785992,126.380590622053,131.146874499606,143.030285617254,147.843801300494,143.758223262277,138.45220594764,149.199852136172,152.369097901853,153.807284360194,154.688379286261,153.439865658628,156.953457121065,157.853998254362,150.539716432351,153.521817466507,135.56267262625,124.798131731356,115.154034228271,99.8678303886131,88.5590396362522,80.8811447322944,85.4451110820493,84.5830356723087,82.2381982349105,81.8071025479292,81.9974713785097,79.589121769152,78.4328622851377,73.3885207647454,70.2209659522681,71.7762072504662,75.2785993920728,83.5249524281676,92.7755207108047,99.6813686365351,97.9301061233345,93.6238903621004,93.8339570605652,94.2201315031911,100.601112456659,104.691683945304,94.6958523129109,99.5721737035636,101.974242460527,109.151463092641,113.912603364111,113.809610425886,130.323506335622,123.996671360968,122.685865832159,132.833502864121,139.966590898781,149.439365525758,151.596396412744,154.958662937232,159.561831002894,151.779735318684,164.348732997189,174.01961131426,182.035656187006,115.151616011317,157.108594885796,164.01089426304,134.899019644895,148.665521013911,163.555727405039,176.049308457382,176.381382427542,176.197185713024,182.060597320424,172.696860053348],\"type\":\"scatter\"},{\"connectgaps\":true,\"mode\":\"lines\",\"name\":\"BEQ04C03-Civil engineering\",\"x\":[\"2000Q1\",\"2000Q2\",\"2000Q3\",\"2000Q4\",\"2001Q1\",\"2001Q2\",\"2001Q3\",\"2001Q4\",\"2002Q1\",\"2002Q2\",\"2002Q3\",\"2002Q4\",\"2003Q1\",\"2003Q2\",\"2003Q3\",\"2003Q4\",\"2004Q1\",\"2004Q2\",\"2004Q3\",\"2004Q4\",\"2005Q1\",\"2005Q2\",\"2005Q3\",\"2005Q4\",\"2006Q1\",\"2006Q2\",\"2006Q3\",\"2006Q4\",\"2007Q1\",\"2007Q2\",\"2007Q3\",\"2007Q4\",\"2008Q1\",\"2008Q2\",\"2008Q3\",\"2008Q4\",\"2009Q1\",\"2009Q2\",\"2009Q3\",\"2009Q4\",\"2010Q1\",\"2010Q2\",\"2010Q3\",\"2010Q4\",\"2011Q1\",\"2011Q2\",\"2011Q3\",\"2011Q4\",\"2012Q1\",\"2012Q2\",\"2012Q3\",\"2012Q4\",\"2013Q1\",\"2013Q2\",\"2013Q3\",\"2013Q4\",\"2014Q1\",\"2014Q2\",\"2014Q3\",\"2014Q4\",\"2015Q1\",\"2015Q2\",\"2015Q3\",\"2015Q4\",\"2016Q1\",\"2016Q2\",\"2016Q3\",\"2016Q4\",\"2017Q1\",\"2017Q2\",\"2017Q3\",\"2017Q4\",\"2018Q1\",\"2018Q2\",\"2018Q3\",\"2018Q4\",\"2019Q1\",\"2019Q2\",\"2019Q3\",\"2019Q4\",\"2020Q1\",\"2020Q2\",\"2020Q3\",\"2020Q4\",\"2021Q1\",\"2021Q2\",\"2021Q3\",\"2021Q4\",\"2022Q1\",\"2022Q2\",\"2022Q3\",\"2022Q4\"],\"y\":[58.7811972846848,62.255065633868,64.7627580872921,68.8571976751821,74.192407760516,76.8476806308592,77.8494600415968,81.8565993459284,93.24470849969,94.1452759229643,95.5987727916509,96.4417755705037,96.3186326599553,96.7848009838761,98.7174083739325,102.472842794518,96.8843198502107,111.351987263248,113.541827174112,106.126019738377,105.961706907153,117.024343458579,139.043996842579,138.946199910204,146.138615621002,142.955059597789,146.535970133969,161.529156380585,166.055562421676,166.048488252858,159.993297274841,162.722508083954,164.385490966047,170.31561609536,157.116586358789,144.123414067743,146.971252189323,141.974863016321,136.133769939516,121.683798855069,121.188571123108,127.359412291854,90.9352259334685,90.1003408283838,76.8506708168731,74.8101953552598,80.4175708980368,86.7576220740339,92.8421422809742,84.8756138891147,87.6551153226666,109.444185736091,98.0362757494167,95.6530358019056,104.329846351511,98.9505006025038,97.1847573917503,113.253914264364,105.335043800348,98.1349598849155,105.078265110763,104.923776459783,93.9246262201462,98.0683796233918,96.1162039692901,107.666858131488,106.496832267074,102.870495764629,105.79065397531,101.761749942218,111.038745785331,115.072472237923,120.526645846563,111.413237850665,130.481122631251,138.377440270354,125.107243122155,131.372560360985,116.672425983136,116.20752391585,132.463501895395,67.8516419704327,104.845205492028,115.47007686733,99.9930657287521,126.523948232274,129.784647089929,140.636163145196,127.373380594056,131.076014727039,140.85139104912,139.838235672104],\"type\":\"scatter\"},{\"connectgaps\":true,\"mode\":\"lines\",\"name\":\"BEQ04C04-All building and construction\",\"x\":[\"2000Q1\",\"2000Q2\",\"2000Q3\",\"2000Q4\",\"2001Q1\",\"2001Q2\",\"2001Q3\",\"2001Q4\",\"2002Q1\",\"2002Q2\",\"2002Q3\",\"2002Q4\",\"2003Q1\",\"2003Q2\",\"2003Q3\",\"2003Q4\",\"2004Q1\",\"2004Q2\",\"2004Q3\",\"2004Q4\",\"2005Q1\",\"2005Q2\",\"2005Q3\",\"2005Q4\",\"2006Q1\",\"2006Q2\",\"2006Q3\",\"2006Q4\",\"2007Q1\",\"2007Q2\",\"2007Q3\",\"2007Q4\",\"2008Q1\",\"2008Q2\",\"2008Q3\",\"2008Q4\",\"2009Q1\",\"2009Q2\",\"2009Q3\",\"2009Q4\",\"2010Q1\",\"2010Q2\",\"2010Q3\",\"2010Q4\",\"2011Q1\",\"2011Q2\",\"2011Q3\",\"2011Q4\",\"2012Q1\",\"2012Q2\",\"2012Q3\",\"2012Q4\",\"2013Q1\",\"2013Q2\",\"2013Q3\",\"2013Q4\",\"2014Q1\",\"2014Q2\",\"2014Q3\",\"2014Q4\",\"2015Q1\",\"2015Q2\",\"2015Q3\",\"2015Q4\",\"2016Q1\",\"2016Q2\",\"2016Q3\",\"2016Q4\",\"2017Q1\",\"2017Q2\",\"2017Q3\",\"2017Q4\",\"2018Q1\",\"2018Q2\",\"2018Q3\",\"2018Q4\",\"2019Q1\",\"2019Q2\",\"2019Q3\",\"2019Q4\",\"2020Q1\",\"2020Q2\",\"2020Q3\",\"2020Q4\",\"2021Q1\",\"2021Q2\",\"2021Q3\",\"2021Q4\",\"2022Q1\",\"2022Q2\",\"2022Q3\",\"2022Q4\"],\"y\":[216.612216968824,218.514304670204,220.424981423259,218.552401547237,222.520017423678,227.320775695543,222.857877172333,231.451260691535,230.6850514844,218.545712048414,236.515426776735,237.540855259293,234.787780085271,235.392781938062,258.979609237058,246.27245555481,311.237401451428,318.015561740474,296.95036534273,296.882985363274,317.195234770268,334.055757605004,345.994563276394,342.571259255442,354.080313987881,342.502520618624,334.711107527821,360.124470976566,319.011377109478,318.867328583766,289.142050805598,278.697711890575,250.661749364015,226.534256560333,204.182652765632,175.718787391349,158.964227786411,141.359775520399,129.600338714033,111.569700009968,102.976733681559,98.923209952848,91.182532933051,86.2497673256749,78.4952518753756,77.4458869414711,79.0656707858314,79.6351278527149,79.2309301243351,73.4453682882164,74.6512819195484,80.1618045368735,80.7895823424428,82.1352456445723,89.4771120663266,89.3914836441102,87.6502423137406,94.1068356961412,94.4856141464855,94.7361912785666,101.791253307441,102.110147167765,96.3955465345055,100.624121487852,101.70752978896,109.013703760924,114.191644707832,113.550362240614,122.438499974289,121.592007005663,122.628755757627,129.55343675968,134.368427408164,134.086914232649,137.219626968528,141.165695258632,140.85092378729,141.808645002649,144.700232408771,150.291338225523,159.11251280498,95.2771036954311,132.682269961636,140.315499775655,110.013982133974,123.113773480618,131.796585030578,140.611706464228,135.517775736687,131.527911506066,129.13562563825,125.102538659772],\"type\":\"scatter\"},{\"connectgaps\":true,\"mode\":\"lines\",\"name\":\"BEQ04C04-Building (excluding civil engineering)\",\"x\":[\"2000Q1\",\"2000Q2\",\"2000Q3\",\"2000Q4\",\"2001Q1\",\"2001Q2\",\"2001Q3\",\"2001Q4\",\"2002Q1\",\"2002Q2\",\"2002Q3\",\"2002Q4\",\"2003Q1\",\"2003Q2\",\"2003Q3\",\"2003Q4\",\"2004Q1\",\"2004Q2\",\"2004Q3\",\"2004Q4\",\"2005Q1\",\"2005Q2\",\"2005Q3\",\"2005Q4\",\"2006Q1\",\"2006Q2\",\"2006Q3\",\"2006Q4\",\"2007Q1\",\"2007Q2\",\"2007Q3\",\"2007Q4\",\"2008Q1\",\"2008Q2\",\"2008Q3\",\"2008Q4\",\"2009Q1\",\"2009Q2\",\"2009Q3\",\"2009Q4\",\"2010Q1\",\"2010Q2\",\"2010Q3\",\"2010Q4\",\"2011Q1\",\"2011Q2\",\"2011Q3\",\"2011Q4\",\"2012Q1\",\"2012Q2\",\"2012Q3\",\"2012Q4\",\"2013Q1\",\"2013Q2\",\"2013Q3\",\"2013Q4\",\"2014Q1\",\"2014Q2\",\"2014Q3\",\"2014Q4\",\"2015Q1\",\"2015Q2\",\"2015Q3\",\"2015Q4\",\"2016Q1\",\"2016Q2\",\"2016Q3\",\"2016Q4\",\"2017Q1\",\"2017Q2\",\"2017Q3\",\"2017Q4\",\"2018Q1\",\"2018Q2\",\"2018Q3\",\"2018Q4\",\"2019Q1\",\"2019Q2\",\"2019Q3\",\"2019Q4\",\"2020Q1\",\"2020Q2\",\"2020Q3\",\"2020Q4\",\"2021Q1\",\"2021Q2\",\"2021Q3\",\"2021Q4\",\"2022Q1\",\"2022Q2\",\"2022Q3\",\"2022Q4\"],\"y\":[281.721068185939,283.861875986608,283.018909882077,276.327141099137,283.152739098274,290.265565598132,281.027264722167,289.849564819816,282.185621855267,267.94453863907,291.252917884722,294.176086453091,290.448682046385,291.848061843967,326.470944086634,303.290373365891,397.852951858335,403.463405197257,370.474997474972,373.157474820212,403.626230074434,428.132619622133,430.512981686148,424.209389233904,441.813627006599,429.299017962285,414.065567602135,442.693448631178,384.141222246145,390.535508086513,343.96409483343,326.531480341478,288.236813906899,258.116749884929,223.029641939659,188.562260306744,164.558410867421,142.843897544093,122.871069296463,105.50378563059,94.4102867264591,88.162793013323,89.2432977188245,84.5843967638029,79.0757918779463,77.458774601422,75.7120300856536,75.9928733238759,72.4519408081571,67.4437030541847,66.9225662347836,67.2699739984882,72.1559505110744,75.6427949010818,81.2770221271963,85.1763250042357,83.3729906543591,84.926075997031,88.7943686369796,92.9218752427854,100.02420716476,102.937351775696,96.9328052167037,100.452367044988,102.42680467814,110.60615892274,116.149277797865,115.1016674704,127.100958782801,126.244161817061,126.056415405311,132.322674060507,137.461086813846,141.708086102669,141.361359610818,142.552997200234,145.356710053389,147.943767724442,153.681611307457,158.131857013677,164.965502507303,104.929612289381,141.743411535912,145.558652917818,111.802866725024,130.003627478648,137.471513863891,142.748410798653,140.325287522478,141.115026719217,134.75014955222,126.742284675438],\"type\":\"scatter\"},{\"connectgaps\":true,\"mode\":\"lines\",\"name\":\"BEQ04C04-Residential building\",\"x\":[\"2000Q1\",\"2000Q2\",\"2000Q3\",\"2000Q4\",\"2001Q1\",\"2001Q2\",\"2001Q3\",\"2001Q4\",\"2002Q1\",\"2002Q2\",\"2002Q3\",\"2002Q4\",\"2003Q1\",\"2003Q2\",\"2003Q3\",\"2003Q4\",\"2004Q1\",\"2004Q2\",\"2004Q3\",\"2004Q4\",\"2005Q1\",\"2005Q2\",\"2005Q3\",\"2005Q4\",\"2006Q1\",\"2006Q2\",\"2006Q3\",\"2006Q4\",\"2007Q1\",\"2007Q2\",\"2007Q3\",\"2007Q4\",\"2008Q1\",\"2008Q2\",\"2008Q3\",\"2008Q4\",\"2009Q1\",\"2009Q2\",\"2009Q3\",\"2009Q4\",\"2010Q1\",\"2010Q2\",\"2010Q3\",\"2010Q4\",\"2011Q1\",\"2011Q2\",\"2011Q3\",\"2011Q4\",\"2012Q1\",\"2012Q2\",\"2012Q3\",\"2012Q4\",\"2013Q1\",\"2013Q2\",\"2013Q3\",\"2013Q4\",\"2014Q1\",\"2014Q2\",\"2014Q3\",\"2014Q4\",\"2015Q1\",\"2015Q2\",\"2015Q3\",\"2015Q4\",\"2016Q1\",\"2016Q2\",\"2016Q3\",\"2016Q4\",\"2017Q1\",\"2017Q2\",\"2017Q3\",\"2017Q4\",\"2018Q1\",\"2018Q2\",\"2018Q3\",\"2018Q4\",\"2019Q1\",\"2019Q2\",\"2019Q3\",\"2019Q4\",\"2020Q1\",\"2020Q2\",\"2020Q3\",\"2020Q4\",\"2021Q1\",\"2021Q2\",\"2021Q3\",\"2021Q4\",\"2022Q1\",\"2022Q2\",\"2022Q3\",\"2022Q4\"],\"y\":[475.919802588304,475.663376784305,475.745041760254,460.709555246744,482.642602384627,496.933019036105,481.661422718335,503.179005820756,484.229983083124,466.58660952766,517.461644345415,529.304225412561,532.135226401055,524.364525458639,610.395226849295,553.235648703622,772.945499910806,766.579208902035,688.130609625867,702.419850543995,783.366729044907,828.047661806037,820.014290632255,783.988070172919,855.495276355555,798.159828496387,779.881580017551,835.044127876168,712.001304616247,707.272835287567,599.414431627303,563.742797489469,469.117482430169,396.218399558853,323.050035511489,243.09794368263,200.234162076157,159.245429122082,128.890714032804,112.144879815416,99.7386492487822,96.4915347542008,92.8317757940106,84.0774016479536,75.126793075666,66.7079162786621,63.3424388758365,66.9009423408006,63.9903937202247,58.845799408141,59.2576968841831,56.6561588032317,68.6008319610024,65.4374979157631,64.0768342382087,65.8857598986284,65.329810692201,71.260305998237,80.2697489201919,91.8091217184677,98.1693462737856,101.685123943394,100.725215251802,100.017987956321,114.187009100258,129.793590621234,124.040241398871,126.543617222256,131.311894141099,139.552390647982,154.243367596669,149.113468310814,148.011962783289,143.489874454163,138.959575759536,138.671216874347,147.888668938971,158.280886900355,164.289366663213,170.324073564407,162.542554221853,80.8940309808664,129.648838883395,130.285134572205,75.9558267133054,106.954544056247,126.199309944835,130.304998165638,127.666849720318,120.649474449986,106.337643474394,108.239692954312],\"type\":\"scatter\"},{\"connectgaps\":true,\"mode\":\"lines\",\"name\":\"BEQ04C04-Non-residential building\",\"x\":[\"2000Q1\",\"2000Q2\",\"2000Q3\",\"2000Q4\",\"2001Q1\",\"2001Q2\",\"2001Q3\",\"2001Q4\",\"2002Q1\",\"2002Q2\",\"2002Q3\",\"2002Q4\",\"2003Q1\",\"2003Q2\",\"2003Q3\",\"2003Q4\",\"2004Q1\",\"2004Q2\",\"2004Q3\",\"2004Q4\",\"2005Q1\",\"2005Q2\",\"2005Q3\",\"2005Q4\",\"2006Q1\",\"2006Q2\",\"2006Q3\",\"2006Q4\",\"2007Q1\",\"2007Q2\",\"2007Q3\",\"2007Q4\",\"2008Q1\",\"2008Q2\",\"2008Q3\",\"2008Q4\",\"2009Q1\",\"2009Q2\",\"2009Q3\",\"2009Q4\",\"2010Q1\",\"2010Q2\",\"2010Q3\",\"2010Q4\",\"2011Q1\",\"2011Q2\",\"2011Q3\",\"2011Q4\",\"2012Q1\",\"2012Q2\",\"2012Q3\",\"2012Q4\",\"2013Q1\",\"2013Q2\",\"2013Q3\",\"2013Q4\",\"2014Q1\",\"2014Q2\",\"2014Q3\",\"2014Q4\",\"2015Q1\",\"2015Q2\",\"2015Q3\",\"2015Q4\",\"2016Q1\",\"2016Q2\",\"2016Q3\",\"2016Q4\",\"2017Q1\",\"2017Q2\",\"2017Q3\",\"2017Q4\",\"2018Q1\",\"2018Q2\",\"2018Q3\",\"2018Q4\",\"2019Q1\",\"2019Q2\",\"2019Q3\",\"2019Q4\",\"2020Q1\",\"2020Q2\",\"2020Q3\",\"2020Q4\",\"2021Q1\",\"2021Q2\",\"2021Q3\",\"2021Q4\",\"2022Q1\",\"2022Q2\",\"2022Q3\",\"2022Q4\"],\"y\":[147.593342961596,148.472401709595,148.70906806679,148.674556537184,145.341828291778,143.43614084105,140.234627493554,139.69802987649,136.703354371093,132.498398724659,130.800762596778,126.288032637972,125.2029957106,121.943496746198,122.600926728152,122.98002897208,138.144245575059,140.952098869672,143.977700094795,134.45615096504,136.798969809671,146.299353135395,152.061539025975,162.011535540051,165.082443580427,157.769264266787,151.474868767707,157.994359257115,160.697085660208,160.666424680679,160.053153799729,157.596809903381,158.723024962236,158.703134216386,151.172893133373,153.972570496791,137.549264699209,127.475274112256,118.265370910372,102.08712735169,89.8740221677328,81.7672907512529,86.0365375757944,84.9924731375669,84.1409761674263,84.9973183552286,85.3714102361941,82.5767443868973,80.6499689944136,75.176714111077,72.1068929072577,73.6604342926956,76.7927656761482,84.9379181832998,94.6274361190664,101.550302178274,99.4704121113897,94.1766064014177,94.424312593949,94.8864136498247,100.860557863816,104.137052457381,94.6680287416172,100.157543408014,101.679470153333,108.564928949069,113.526691405192,113.811958508888,127.838682400518,121.946380668039,120.500152137193,131.122746708204,135.683570246904,140.185345864057,141.591960229731,145.112536451672,147.494936307202,140.887182683096,152.790905317349,159.554061666093,165.606890936774,105.215717091603,144.30044518027,150.480810854753,121.299862702051,130.321545103885,139.720439473084,146.9554641455,144.703602167704,139.313666344214,139.497577482028,130.098152787211],\"type\":\"scatter\"},{\"connectgaps\":true,\"mode\":\"lines\",\"name\":\"BEQ04C04-Civil engineering\",\"x\":[\"2000Q1\",\"2000Q2\",\"2000Q3\",\"2000Q4\",\"2001Q1\",\"2001Q2\",\"2001Q3\",\"2001Q4\",\"2002Q1\",\"2002Q2\",\"2002Q3\",\"2002Q4\",\"2003Q1\",\"2003Q2\",\"2003Q3\",\"2003Q4\",\"2004Q1\",\"2004Q2\",\"2004Q3\",\"2004Q4\",\"2005Q1\",\"2005Q2\",\"2005Q3\",\"2005Q4\",\"2006Q1\",\"2006Q2\",\"2006Q3\",\"2006Q4\",\"2007Q1\",\"2007Q2\",\"2007Q3\",\"2007Q4\",\"2008Q1\",\"2008Q2\",\"2008Q3\",\"2008Q4\",\"2009Q1\",\"2009Q2\",\"2009Q3\",\"2009Q4\",\"2010Q1\",\"2010Q2\",\"2010Q3\",\"2010Q4\",\"2011Q1\",\"2011Q2\",\"2011Q3\",\"2011Q4\",\"2012Q1\",\"2012Q2\",\"2012Q3\",\"2012Q4\",\"2013Q1\",\"2013Q2\",\"2013Q3\",\"2013Q4\",\"2014Q1\",\"2014Q2\",\"2014Q3\",\"2014Q4\",\"2015Q1\",\"2015Q2\",\"2015Q3\",\"2015Q4\",\"2016Q1\",\"2016Q2\",\"2016Q3\",\"2016Q4\",\"2017Q1\",\"2017Q2\",\"2017Q3\",\"2017Q4\",\"2018Q1\",\"2018Q2\",\"2018Q3\",\"2018Q4\",\"2019Q1\",\"2019Q2\",\"2019Q3\",\"2019Q4\",\"2020Q1\",\"2020Q2\",\"2020Q3\",\"2020Q4\",\"2021Q1\",\"2021Q2\",\"2021Q3\",\"2021Q4\",\"2022Q1\",\"2022Q2\",\"2022Q3\",\"2022Q4\"],\"y\":[82.7018335360889,84.5758339744766,87.705318273011,93.0884101130893,94.0331420229167,96.1154270934832,97.0371070719425,103.165592309102,111.338875848827,113.138912290546,114.257330421709,111.159254775385,112.648668675908,112.692134070732,112.936342281102,117.611321848207,122.442921308088,134.013806806965,134.874409359164,125.813577713564,124.801440055928,134.343869476132,160.147098067933,158.747025869345,163.895457221717,155.9707018972,159.550571061508,172.368831139327,175.526435798503,172.695638773484,164.919308931094,168.254866251199,166.387735042256,170.454162094581,157.197084948368,146.23683631643,148.525515709472,144.41488310056,139.073270526844,126.326627311218,121.899958952291,128.10549862667,91.0633985901992,92.7207119317126,77.2475814871224,77.7682618050412,83.07284736463,91.8435264588313,93.5287041487048,87.2762132208918,89.3276439255211,114.586423211249,97.510589059319,98.1907639444666,105.796067478375,102.111284794073,96.5896032497163,115.28081243685,105.658441986518,99.2409397248584,103.842099153869,105.662845600972,93.6933658965769,98.0526896608642,95.7255150076829,107.925303967213,106.11210952072,101.872878328643,104.260424858665,100.324100242913,109.112816390303,112.683140746852,117.619531859627,104.379069562896,122.179535145924,129.206668493473,115.771083259712,121.809839592723,108.58141711595,106.355467378998,120.552608340837,62.0027967745208,96.1979386310656,105.550477488785,90.3793261647292,111.079782093398,110.909427117239,117.604954586579,103.706494965765,103.710875987338,108.505730003522,106.36823711804],\"type\":\"scatter\"}],                        {\"template\":{\"data\":{\"histogram2dcontour\":[{\"type\":\"histogram2dcontour\",\"colorbar\":{\"outlinewidth\":0,\"ticks\":\"\"},\"colorscale\":[[0.0,\"#0d0887\"],[0.1111111111111111,\"#46039f\"],[0.2222222222222222,\"#7201a8\"],[0.3333333333333333,\"#9c179e\"],[0.4444444444444444,\"#bd3786\"],[0.5555555555555556,\"#d8576b\"],[0.6666666666666666,\"#ed7953\"],[0.7777777777777778,\"#fb9f3a\"],[0.8888888888888888,\"#fdca26\"],[1.0,\"#f0f921\"]]}],\"choropleth\":[{\"type\":\"choropleth\",\"colorbar\":{\"outlinewidth\":0,\"ticks\":\"\"}}],\"histogram2d\":[{\"type\":\"histogram2d\",\"colorbar\":{\"outlinewidth\":0,\"ticks\":\"\"},\"colorscale\":[[0.0,\"#0d0887\"],[0.1111111111111111,\"#46039f\"],[0.2222222222222222,\"#7201a8\"],[0.3333333333333333,\"#9c179e\"],[0.4444444444444444,\"#bd3786\"],[0.5555555555555556,\"#d8576b\"],[0.6666666666666666,\"#ed7953\"],[0.7777777777777778,\"#fb9f3a\"],[0.8888888888888888,\"#fdca26\"],[1.0,\"#f0f921\"]]}],\"heatmap\":[{\"type\":\"heatmap\",\"colorbar\":{\"outlinewidth\":0,\"ticks\":\"\"},\"colorscale\":[[0.0,\"#0d0887\"],[0.1111111111111111,\"#46039f\"],[0.2222222222222222,\"#7201a8\"],[0.3333333333333333,\"#9c179e\"],[0.4444444444444444,\"#bd3786\"],[0.5555555555555556,\"#d8576b\"],[0.6666666666666666,\"#ed7953\"],[0.7777777777777778,\"#fb9f3a\"],[0.8888888888888888,\"#fdca26\"],[1.0,\"#f0f921\"]]}],\"heatmapgl\":[{\"type\":\"heatmapgl\",\"colorbar\":{\"outlinewidth\":0,\"ticks\":\"\"},\"colorscale\":[[0.0,\"#0d0887\"],[0.1111111111111111,\"#46039f\"],[0.2222222222222222,\"#7201a8\"],[0.3333333333333333,\"#9c179e\"],[0.4444444444444444,\"#bd3786\"],[0.5555555555555556,\"#d8576b\"],[0.6666666666666666,\"#ed7953\"],[0.7777777777777778,\"#fb9f3a\"],[0.8888888888888888,\"#fdca26\"],[1.0,\"#f0f921\"]]}],\"contourcarpet\":[{\"type\":\"contourcarpet\",\"colorbar\":{\"outlinewidth\":0,\"ticks\":\"\"}}],\"contour\":[{\"type\":\"contour\",\"colorbar\":{\"outlinewidth\":0,\"ticks\":\"\"},\"colorscale\":[[0.0,\"#0d0887\"],[0.1111111111111111,\"#46039f\"],[0.2222222222222222,\"#7201a8\"],[0.3333333333333333,\"#9c179e\"],[0.4444444444444444,\"#bd3786\"],[0.5555555555555556,\"#d8576b\"],[0.6666666666666666,\"#ed7953\"],[0.7777777777777778,\"#fb9f3a\"],[0.8888888888888888,\"#fdca26\"],[1.0,\"#f0f921\"]]}],\"surface\":[{\"type\":\"surface\",\"colorbar\":{\"outlinewidth\":0,\"ticks\":\"\"},\"colorscale\":[[0.0,\"#0d0887\"],[0.1111111111111111,\"#46039f\"],[0.2222222222222222,\"#7201a8\"],[0.3333333333333333,\"#9c179e\"],[0.4444444444444444,\"#bd3786\"],[0.5555555555555556,\"#d8576b\"],[0.6666666666666666,\"#ed7953\"],[0.7777777777777778,\"#fb9f3a\"],[0.8888888888888888,\"#fdca26\"],[1.0,\"#f0f921\"]]}],\"mesh3d\":[{\"type\":\"mesh3d\",\"colorbar\":{\"outlinewidth\":0,\"ticks\":\"\"}}],\"scatter\":[{\"fillpattern\":{\"fillmode\":\"overlay\",\"size\":10,\"solidity\":0.2},\"type\":\"scatter\"}],\"parcoords\":[{\"type\":\"parcoords\",\"line\":{\"colorbar\":{\"outlinewidth\":0,\"ticks\":\"\"}}}],\"scatterpolargl\":[{\"type\":\"scatterpolargl\",\"marker\":{\"colorbar\":{\"outlinewidth\":0,\"ticks\":\"\"}}}],\"bar\":[{\"error_x\":{\"color\":\"#2a3f5f\"},\"error_y\":{\"color\":\"#2a3f5f\"},\"marker\":{\"line\":{\"color\":\"#E5ECF6\",\"width\":0.5},\"pattern\":{\"fillmode\":\"overlay\",\"size\":10,\"solidity\":0.2}},\"type\":\"bar\"}],\"scattergeo\":[{\"type\":\"scattergeo\",\"marker\":{\"colorbar\":{\"outlinewidth\":0,\"ticks\":\"\"}}}],\"scatterpolar\":[{\"type\":\"scatterpolar\",\"marker\":{\"colorbar\":{\"outlinewidth\":0,\"ticks\":\"\"}}}],\"histogram\":[{\"marker\":{\"pattern\":{\"fillmode\":\"overlay\",\"size\":10,\"solidity\":0.2}},\"type\":\"histogram\"}],\"scattergl\":[{\"type\":\"scattergl\",\"marker\":{\"colorbar\":{\"outlinewidth\":0,\"ticks\":\"\"}}}],\"scatter3d\":[{\"type\":\"scatter3d\",\"line\":{\"colorbar\":{\"outlinewidth\":0,\"ticks\":\"\"}},\"marker\":{\"colorbar\":{\"outlinewidth\":0,\"ticks\":\"\"}}}],\"scattermapbox\":[{\"type\":\"scattermapbox\",\"marker\":{\"colorbar\":{\"outlinewidth\":0,\"ticks\":\"\"}}}],\"scatterternary\":[{\"type\":\"scatterternary\",\"marker\":{\"colorbar\":{\"outlinewidth\":0,\"ticks\":\"\"}}}],\"scattercarpet\":[{\"type\":\"scattercarpet\",\"marker\":{\"colorbar\":{\"outlinewidth\":0,\"ticks\":\"\"}}}],\"carpet\":[{\"aaxis\":{\"endlinecolor\":\"#2a3f5f\",\"gridcolor\":\"white\",\"linecolor\":\"white\",\"minorgridcolor\":\"white\",\"startlinecolor\":\"#2a3f5f\"},\"baxis\":{\"endlinecolor\":\"#2a3f5f\",\"gridcolor\":\"white\",\"linecolor\":\"white\",\"minorgridcolor\":\"white\",\"startlinecolor\":\"#2a3f5f\"},\"type\":\"carpet\"}],\"table\":[{\"cells\":{\"fill\":{\"color\":\"#EBF0F8\"},\"line\":{\"color\":\"white\"}},\"header\":{\"fill\":{\"color\":\"#C8D4E3\"},\"line\":{\"color\":\"white\"}},\"type\":\"table\"}],\"barpolar\":[{\"marker\":{\"line\":{\"color\":\"#E5ECF6\",\"width\":0.5},\"pattern\":{\"fillmode\":\"overlay\",\"size\":10,\"solidity\":0.2}},\"type\":\"barpolar\"}],\"pie\":[{\"automargin\":true,\"type\":\"pie\"}]},\"layout\":{\"autotypenumbers\":\"strict\",\"colorway\":[\"#636efa\",\"#EF553B\",\"#00cc96\",\"#ab63fa\",\"#FFA15A\",\"#19d3f3\",\"#FF6692\",\"#B6E880\",\"#FF97FF\",\"#FECB52\"],\"font\":{\"color\":\"#2a3f5f\"},\"hovermode\":\"closest\",\"hoverlabel\":{\"align\":\"left\"},\"paper_bgcolor\":\"white\",\"plot_bgcolor\":\"#E5ECF6\",\"polar\":{\"bgcolor\":\"#E5ECF6\",\"angularaxis\":{\"gridcolor\":\"white\",\"linecolor\":\"white\",\"ticks\":\"\"},\"radialaxis\":{\"gridcolor\":\"white\",\"linecolor\":\"white\",\"ticks\":\"\"}},\"ternary\":{\"bgcolor\":\"#E5ECF6\",\"aaxis\":{\"gridcolor\":\"white\",\"linecolor\":\"white\",\"ticks\":\"\"},\"baxis\":{\"gridcolor\":\"white\",\"linecolor\":\"white\",\"ticks\":\"\"},\"caxis\":{\"gridcolor\":\"white\",\"linecolor\":\"white\",\"ticks\":\"\"}},\"coloraxis\":{\"colorbar\":{\"outlinewidth\":0,\"ticks\":\"\"}},\"colorscale\":{\"sequential\":[[0.0,\"#0d0887\"],[0.1111111111111111,\"#46039f\"],[0.2222222222222222,\"#7201a8\"],[0.3333333333333333,\"#9c179e\"],[0.4444444444444444,\"#bd3786\"],[0.5555555555555556,\"#d8576b\"],[0.6666666666666666,\"#ed7953\"],[0.7777777777777778,\"#fb9f3a\"],[0.8888888888888888,\"#fdca26\"],[1.0,\"#f0f921\"]],\"sequentialminus\":[[0.0,\"#0d0887\"],[0.1111111111111111,\"#46039f\"],[0.2222222222222222,\"#7201a8\"],[0.3333333333333333,\"#9c179e\"],[0.4444444444444444,\"#bd3786\"],[0.5555555555555556,\"#d8576b\"],[0.6666666666666666,\"#ed7953\"],[0.7777777777777778,\"#fb9f3a\"],[0.8888888888888888,\"#fdca26\"],[1.0,\"#f0f921\"]],\"diverging\":[[0,\"#8e0152\"],[0.1,\"#c51b7d\"],[0.2,\"#de77ae\"],[0.3,\"#f1b6da\"],[0.4,\"#fde0ef\"],[0.5,\"#f7f7f7\"],[0.6,\"#e6f5d0\"],[0.7,\"#b8e186\"],[0.8,\"#7fbc41\"],[0.9,\"#4d9221\"],[1,\"#276419\"]]},\"xaxis\":{\"gridcolor\":\"white\",\"linecolor\":\"white\",\"ticks\":\"\",\"title\":{\"standoff\":15},\"zerolinecolor\":\"white\",\"automargin\":true,\"zerolinewidth\":2},\"yaxis\":{\"gridcolor\":\"white\",\"linecolor\":\"white\",\"ticks\":\"\",\"title\":{\"standoff\":15},\"zerolinecolor\":\"white\",\"automargin\":true,\"zerolinewidth\":2},\"scene\":{\"xaxis\":{\"backgroundcolor\":\"#E5ECF6\",\"gridcolor\":\"white\",\"linecolor\":\"white\",\"showbackground\":true,\"ticks\":\"\",\"zerolinecolor\":\"white\",\"gridwidth\":2},\"yaxis\":{\"backgroundcolor\":\"#E5ECF6\",\"gridcolor\":\"white\",\"linecolor\":\"white\",\"showbackground\":true,\"ticks\":\"\",\"zerolinecolor\":\"white\",\"gridwidth\":2},\"zaxis\":{\"backgroundcolor\":\"#E5ECF6\",\"gridcolor\":\"white\",\"linecolor\":\"white\",\"showbackground\":true,\"ticks\":\"\",\"zerolinecolor\":\"white\",\"gridwidth\":2}},\"shapedefaults\":{\"line\":{\"color\":\"#2a3f5f\"}},\"annotationdefaults\":{\"arrowcolor\":\"#2a3f5f\",\"arrowhead\":0,\"arrowwidth\":1},\"geo\":{\"bgcolor\":\"white\",\"landcolor\":\"#E5ECF6\",\"subunitcolor\":\"white\",\"showland\":true,\"showlakes\":true,\"lakecolor\":\"white\"},\"title\":{\"x\":0.05},\"mapbox\":{\"style\":\"light\"}}},\"plot_bgcolor\":\"white\"},                        {\"responsive\": true}                    ).then(function(){\n",
       "                            \n",
       "var gd = document.getElementById('be239f94-158a-428f-ac20-fa75cd8a7ecd');\n",
       "var x = new MutationObserver(function (mutations, observer) {{\n",
       "        var display = window.getComputedStyle(gd).display;\n",
       "        if (!display || display === 'none') {{\n",
       "            console.log([gd, 'removed!']);\n",
       "            Plotly.purge(gd);\n",
       "            observer.disconnect();\n",
       "        }}\n",
       "}});\n",
       "\n",
       "// Listen for the removal of the full notebook cells\n",
       "var notebookContainer = gd.closest('#notebook-container');\n",
       "if (notebookContainer) {{\n",
       "    x.observe(notebookContainer, {childList: true});\n",
       "}}\n",
       "\n",
       "// Listen for the clearing of the current output cell\n",
       "var outputEl = gd.closest('.output');\n",
       "if (outputEl) {{\n",
       "    x.observe(outputEl, {childList: true});\n",
       "}}\n",
       "\n",
       "                        })                };                });            </script>        </div>"
      ]
     },
     "metadata": {},
     "output_type": "display_data"
    }
   ],
   "source": [
    "fig = go.Figure()\n",
    "for i in total_production_indices_df['STATISTIC'].unique():\n",
    "    data = total_production_indices_df.query(f\"STATISTIC=='{i}'\")\n",
    "    for j in data['Type of Building and Construction'].unique():\n",
    "        data2 = data.loc[data[\"Type of Building and Construction\"] == j]\n",
    "        fig.add_trace(go.Scatter(x=data2['Quarter'], y=data2['VALUE'], mode='lines',\n",
    "            name=f\"{i}-{j}\",\n",
    "            connectgaps=True,\n",
    "        ))\n",
    "fig.update_layout(\n",
    "    plot_bgcolor='white'\n",
    ")\n",
    "fig.show()"
   ]
  },
  {
   "cell_type": "code",
   "execution_count": null,
   "id": "305d2ee1",
   "metadata": {},
   "outputs": [],
   "source": []
  }
 ],
 "metadata": {
  "kernelspec": {
   "display_name": "Python 3 (ipykernel)",
   "language": "python",
   "name": "python3"
  },
  "language_info": {
   "codemirror_mode": {
    "name": "ipython",
    "version": 3
   },
   "file_extension": ".py",
   "mimetype": "text/x-python",
   "name": "python",
   "nbconvert_exporter": "python",
   "pygments_lexer": "ipython3",
   "version": "3.10.9"
  }
 },
 "nbformat": 4,
 "nbformat_minor": 5
}
