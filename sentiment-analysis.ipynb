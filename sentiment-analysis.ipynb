{
 "cells": [
  {
   "cell_type": "code",
   "execution_count": 9,
   "id": "9adda5cd",
   "metadata": {},
   "outputs": [],
   "source": [
    "from dotenv import load_dotenv\n",
    "# Library that has a lot of operating system functions\n",
    "from os import getenv\n",
    "import requests\n",
    "import time\n",
    "\n",
    "import pandas as pd\n",
    "import seaborn as sns\n",
    "import matplotlib.pyplot as plt\n",
    "from matplotlib.figure import Figure\n",
    "import panel as pn\n",
    "import hvplot.pandas\n",
    "\n",
    "import nltk\n",
    "from nltk.corpus import stopwords\n",
    "# nltk.download('stopwords')\n",
    "# nltk.download('vader_lexicon')\n",
    "\n",
    "import string\n",
    "from nltk.stem import PorterStemmer\n",
    "from nltk.sentiment.vader import SentimentIntensityAnalyzer\n",
    "from textblob import TextBlob\n",
    "from sklearn.feature_extraction.text import TfidfVectorizer\n",
    "\n",
    "import re\n",
    "import pymongo\n",
    "import json\n",
    "import param\n",
    "pd.options.plotting.backend = 'holoviews'"
   ]
  },
  {
   "cell_type": "code",
   "execution_count": 2,
   "id": "0a376fa5",
   "metadata": {},
   "outputs": [],
   "source": [
    "# Load from the .env\n",
    "load_dotenv()\n",
    "\n",
    "# Get the Reddit credentials from environmental variables\n",
    "APP_NAME = getenv('APP_NAME')\n",
    "APP_ID = getenv(\"APP_ID\")\n",
    "APP_SECRET = getenv(\"APP_SECRET\")\n",
    "USERNAME = getenv('REDDIT_USERNAME')\n",
    "PASSWORD = getenv('PASSWORD')"
   ]
  },
  {
   "cell_type": "code",
   "execution_count": 3,
   "id": "21d20444",
   "metadata": {},
   "outputs": [
    {
     "name": "stdout",
     "output_type": "stream",
     "text": [
      "Credentials loaded\n"
     ]
    }
   ],
   "source": [
    "# Check that the variables all loaded\n",
    "if APP_NAME and APP_ID and APP_SECRET and USERNAME and PASSWORD:\n",
    "    print(\"Credentials loaded\")\n",
    "else:\n",
    "    print(\"ERROR: Credentials not loaded!!\")"
   ]
  },
  {
   "cell_type": "code",
   "execution_count": 4,
   "id": "3ffe3d19",
   "metadata": {},
   "outputs": [
    {
     "data": {
      "text/plain": [
       "<Response [200]>"
      ]
     },
     "execution_count": 4,
     "metadata": {},
     "output_type": "execute_result"
    }
   ],
   "source": [
    "# Sets up the authentication part of the request\n",
    "auth = requests.auth.HTTPBasicAuth(f'{APP_ID}', f'{APP_SECRET}')\n",
    "\n",
    "# Sets up the data we want to send: our login method (password), username, and password\n",
    "data = {'grant_type': 'password',\n",
    "        'username': f'{USERNAME}',\n",
    "        'password': f'{PASSWORD}'}\n",
    "\n",
    "# Sets up this requests header info, which gives reddit a brief description of our app\n",
    "# This is the format requested by Reddit: os:app_name:version (by /u/username)\n",
    "headers = {'User-Agent': f'macos:{APP_NAME}:v1.0 (by /u/{USERNAME})'}\n",
    "\n",
    "# Makes the request to the access_token api endpoint, and saves the response in res\n",
    "res = requests.post('https://www.reddit.com/api/v1/access_token',\n",
    "                    auth=auth, data=data, headers=headers)\n",
    "\n",
    "# Converts response to JSON and pull access_token value\n",
    "TOKEN = res.json()['access_token']\n",
    "\n",
    "# Adds authorisation to our headers dictionary\n",
    "headers = {**headers, **{'Authorization': f\"bearer {TOKEN}\"}}\n",
    "\n",
    "# While the token is valid (~2 hours) we can just add headers=headers to our requests to prove authentication\n",
    "# Making a test request. <Response [200]> means that it was a success!\n",
    "requests.get('https://oauth.reddit.com/api/v1/me', headers=headers)"
   ]
  },
  {
   "cell_type": "markdown",
   "id": "cad149f6",
   "metadata": {},
   "source": [
    "### Creating Functions for reusability\n",
    "After writing the code lines one-by-one and verifying the correctness, organizing the code into functions for better reusuability and correctness."
   ]
  },
  {
   "cell_type": "code",
   "execution_count": 5,
   "id": "c140c8a4",
   "metadata": {},
   "outputs": [],
   "source": [
    "# Function to search Reddit posts\n",
    "def search_reddit(subreddit, keyword):\n",
    "    # Searching for a keyword within sub-reddit for last 1 year and sort by comments\n",
    "    # https://www.reddit.com/dev/api#GET_search\n",
    "    params = {'limit': 100, 'restrict_sr': 1, 'sr_nsfw': 1, 't': 'all', 'sort': 'comments'}\n",
    "    search_results = []\n",
    "\n",
    "    for i in range(100):\n",
    "        res = requests.get(\n",
    "            f\"https://oauth.reddit.com/r/{subreddit}/search?q={keyword}\",\n",
    "            headers=headers,\n",
    "            params=params\n",
    "        )\n",
    "\n",
    "        results = res.json()['data']['children']\n",
    "        search_results.extend(results)\n",
    "\n",
    "        # Get the ID of last post and start next search after it\n",
    "        try:\n",
    "            fullname = f\"{results[-1]['kind']}_{results[-1]['data']['id']}\"\n",
    "            # This tells the API that the post we want is the one after the current one in the queue (ie is the next oldest one).\n",
    "            params['after'] = fullname\n",
    "            # Sleeping for 1 second to not exceed Reddit's API limits\n",
    "            time.sleep(1)\n",
    "        except:\n",
    "            print(f\"No search results after last result ID: {params['after']}\")\n",
    "            break\n",
    "\n",
    "    # Total search results for the keyword\n",
    "    print(f\"Search results: {len(search_results)}\")\n",
    "    return get_comments_for_posts(search_results)\n",
    "\n",
    "\n",
    "# Function to get comments/replies for each post\n",
    "def get_comments_for_posts(search_results):\n",
    "    # Define a list to store all the post and comment responses\n",
    "    comments = []\n",
    "    for post in search_results:\n",
    "        # Get comments for each post\n",
    "        res = requests.get(\n",
    "            f\"https://oauth.reddit.com{post['data']['permalink']}\",\n",
    "            headers=headers\n",
    "        )\n",
    "        # Add the retreived post body\n",
    "        post = res.json()[0]['data']['children'][0]['data']\n",
    "        replies = res.json()[1]['data']['children']\n",
    "        comments.append({'created_utc': post['created_utc'],\n",
    "                      'author': post['author'],\n",
    "                      'post_id': post['id'],\n",
    "                      'subreddit': post['subreddit'],\n",
    "                     'text': post['selftext']})\n",
    "        # Add the retreived comments to \"comments\" list\n",
    "        # Loop through the comments and extract the reply bodies\n",
    "        for comment in replies:\n",
    "            reply_bodies = extract_reply_body(comment)\n",
    "            if reply_bodies:\n",
    "                comments.append(reply_bodies)\n",
    "        \n",
    "        # Sleeping for 0.1 second to not exceed Reddit's API limits\n",
    "        time.sleep(0.1)\n",
    "\n",
    "    print(f\"Total comments retreived: {len(comments)}\")\n",
    "    return comments\n",
    "    \n",
    "# Define a function to extract the reply body from a comment or a reply\n",
    "# It takes reply as input and returns its body or list of bodies\n",
    "def extract_reply_body(reply):\n",
    "    if reply['kind'] == 't1':\n",
    "        # If the reply is a comment, extract the comment body\n",
    "        return {\n",
    "            'created_utc': reply['data']['created'],\n",
    "            'author': reply['data']['author'],\n",
    "            'post_id': reply['data']['link_id'].split('_')[1],\n",
    "            'subreddit': reply['data']['subreddit'],\n",
    "            'text': reply['data']['body']\n",
    "        }\n",
    "    elif reply['kind'] == 'Listing':\n",
    "        # If the reply is a listing of replies, traverse the listing and extract the reply bodies\n",
    "        reply_bodies = []\n",
    "        for child in reply['data']['children']:\n",
    "            reply_body = extract_reply_body(child)\n",
    "            if reply_body:\n",
    "                reply_bodies.append(reply_body)\n",
    "        return reply_bodies"
   ]
  },
  {
   "cell_type": "code",
   "execution_count": 6,
   "id": "c6116281",
   "metadata": {},
   "outputs": [
    {
     "name": "stdout",
     "output_type": "stream",
     "text": [
      "No search results after last result ID: t3_rtkitj\n",
      "Search results: 131\n",
      "Total comments retreived: 1791\n"
     ]
    },
    {
     "data": {
      "text/html": [
       "<div>\n",
       "<style scoped>\n",
       "    .dataframe tbody tr th:only-of-type {\n",
       "        vertical-align: middle;\n",
       "    }\n",
       "\n",
       "    .dataframe tbody tr th {\n",
       "        vertical-align: top;\n",
       "    }\n",
       "\n",
       "    .dataframe thead th {\n",
       "        text-align: right;\n",
       "    }\n",
       "</style>\n",
       "<table border=\"1\" class=\"dataframe\">\n",
       "  <thead>\n",
       "    <tr style=\"text-align: right;\">\n",
       "      <th></th>\n",
       "      <th>created_utc</th>\n",
       "      <th>author</th>\n",
       "      <th>post_id</th>\n",
       "      <th>subreddit</th>\n",
       "      <th>text</th>\n",
       "    </tr>\n",
       "  </thead>\n",
       "  <tbody>\n",
       "    <tr>\n",
       "      <th>0</th>\n",
       "      <td>1.674811e+09</td>\n",
       "      <td>tashadaily</td>\n",
       "      <td>10mgkxn</td>\n",
       "      <td>ireland</td>\n",
       "      <td>Right so obviously a burner account.\\n\\nMy fia...</td>\n",
       "    </tr>\n",
       "    <tr>\n",
       "      <th>1</th>\n",
       "      <td>1.674818e+09</td>\n",
       "      <td>PedantJuice</td>\n",
       "      <td>10mgkxn</td>\n",
       "      <td>ireland</td>\n",
       "      <td>First; this is perfectly, perfectly human way ...</td>\n",
       "    </tr>\n",
       "    <tr>\n",
       "      <th>2</th>\n",
       "      <td>1.674814e+09</td>\n",
       "      <td>FullyStacked92</td>\n",
       "      <td>10mgkxn</td>\n",
       "      <td>ireland</td>\n",
       "      <td>The reason your life isn't comfortable on a co...</td>\n",
       "    </tr>\n",
       "    <tr>\n",
       "      <th>3</th>\n",
       "      <td>1.674817e+09</td>\n",
       "      <td>theriskguy</td>\n",
       "      <td>10mgkxn</td>\n",
       "      <td>ireland</td>\n",
       "      <td>You’re directing your anger in the wrong, dire...</td>\n",
       "    </tr>\n",
       "    <tr>\n",
       "      <th>4</th>\n",
       "      <td>1.674812e+09</td>\n",
       "      <td>slice_of_za</td>\n",
       "      <td>10mgkxn</td>\n",
       "      <td>ireland</td>\n",
       "      <td>Sounds like you're having a shitty time of it ...</td>\n",
       "    </tr>\n",
       "  </tbody>\n",
       "</table>\n",
       "</div>"
      ],
      "text/plain": [
       "    created_utc          author  post_id subreddit   \n",
       "0  1.674811e+09      tashadaily  10mgkxn   ireland  \\\n",
       "1  1.674818e+09     PedantJuice  10mgkxn   ireland   \n",
       "2  1.674814e+09  FullyStacked92  10mgkxn   ireland   \n",
       "3  1.674817e+09      theriskguy  10mgkxn   ireland   \n",
       "4  1.674812e+09     slice_of_za  10mgkxn   ireland   \n",
       "\n",
       "                                                text  \n",
       "0  Right so obviously a burner account.\\n\\nMy fia...  \n",
       "1  First; this is perfectly, perfectly human way ...  \n",
       "2  The reason your life isn't comfortable on a co...  \n",
       "3  You’re directing your anger in the wrong, dire...  \n",
       "4  Sounds like you're having a shitty time of it ...  "
      ]
     },
     "execution_count": 6,
     "metadata": {},
     "output_type": "execute_result"
    }
   ],
   "source": [
    "# Creating DF from search results for \"house contruction\" in Reddit\n",
    "irish_construction_posts_df = pd.DataFrame.from_dict(search_reddit(\"ireland\", \"house construction\"))\n",
    "irish_construction_posts_df.head()"
   ]
  },
  {
   "cell_type": "code",
   "execution_count": 7,
   "id": "e7d6ea86",
   "metadata": {},
   "outputs": [
    {
     "name": "stdout",
     "output_type": "stream",
     "text": [
      "<class 'pandas.core.frame.DataFrame'>\n",
      "RangeIndex: 1791 entries, 0 to 1790\n",
      "Data columns (total 5 columns):\n",
      " #   Column       Non-Null Count  Dtype         \n",
      "---  ------       --------------  -----         \n",
      " 0   created_utc  1791 non-null   datetime64[ns]\n",
      " 1   author       1791 non-null   object        \n",
      " 2   post_id      1791 non-null   object        \n",
      " 3   subreddit    1791 non-null   object        \n",
      " 4   text         1791 non-null   object        \n",
      "dtypes: datetime64[ns](1), object(4)\n",
      "memory usage: 70.1+ KB\n"
     ]
    }
   ],
   "source": [
    "irish_construction_posts_df['created_utc'] = pd.to_datetime(irish_construction_posts_df['created_utc'], unit='s')\n",
    "irish_construction_posts_df.info()"
   ]
  },
  {
   "cell_type": "code",
   "execution_count": 8,
   "id": "0d71aaea",
   "metadata": {},
   "outputs": [
    {
     "data": {
      "text/html": [
       "<div>\n",
       "<style scoped>\n",
       "    .dataframe tbody tr th:only-of-type {\n",
       "        vertical-align: middle;\n",
       "    }\n",
       "\n",
       "    .dataframe tbody tr th {\n",
       "        vertical-align: top;\n",
       "    }\n",
       "\n",
       "    .dataframe thead th {\n",
       "        text-align: right;\n",
       "    }\n",
       "</style>\n",
       "<table border=\"1\" class=\"dataframe\">\n",
       "  <thead>\n",
       "    <tr style=\"text-align: right;\">\n",
       "      <th></th>\n",
       "      <th>created_utc</th>\n",
       "      <th>author</th>\n",
       "      <th>post_id</th>\n",
       "      <th>subreddit</th>\n",
       "      <th>text</th>\n",
       "    </tr>\n",
       "  </thead>\n",
       "  <tbody>\n",
       "    <tr>\n",
       "      <th>0</th>\n",
       "      <td>2023-01-27 09:09:44</td>\n",
       "      <td>tashadaily</td>\n",
       "      <td>10mgkxn</td>\n",
       "      <td>ireland</td>\n",
       "      <td>Right so obviously a burner account.\\n\\nMy fia...</td>\n",
       "    </tr>\n",
       "    <tr>\n",
       "      <th>1</th>\n",
       "      <td>2023-01-27 11:15:03</td>\n",
       "      <td>PedantJuice</td>\n",
       "      <td>10mgkxn</td>\n",
       "      <td>ireland</td>\n",
       "      <td>First; this is perfectly, perfectly human way ...</td>\n",
       "    </tr>\n",
       "    <tr>\n",
       "      <th>2</th>\n",
       "      <td>2023-01-27 09:59:22</td>\n",
       "      <td>FullyStacked92</td>\n",
       "      <td>10mgkxn</td>\n",
       "      <td>ireland</td>\n",
       "      <td>The reason your life isn't comfortable on a co...</td>\n",
       "    </tr>\n",
       "    <tr>\n",
       "      <th>3</th>\n",
       "      <td>2023-01-27 10:59:06</td>\n",
       "      <td>theriskguy</td>\n",
       "      <td>10mgkxn</td>\n",
       "      <td>ireland</td>\n",
       "      <td>You’re directing your anger in the wrong, dire...</td>\n",
       "    </tr>\n",
       "    <tr>\n",
       "      <th>4</th>\n",
       "      <td>2023-01-27 09:36:50</td>\n",
       "      <td>slice_of_za</td>\n",
       "      <td>10mgkxn</td>\n",
       "      <td>ireland</td>\n",
       "      <td>Sounds like you're having a shitty time of it ...</td>\n",
       "    </tr>\n",
       "  </tbody>\n",
       "</table>\n",
       "</div>"
      ],
      "text/plain": [
       "          created_utc          author  post_id subreddit   \n",
       "0 2023-01-27 09:09:44      tashadaily  10mgkxn   ireland  \\\n",
       "1 2023-01-27 11:15:03     PedantJuice  10mgkxn   ireland   \n",
       "2 2023-01-27 09:59:22  FullyStacked92  10mgkxn   ireland   \n",
       "3 2023-01-27 10:59:06      theriskguy  10mgkxn   ireland   \n",
       "4 2023-01-27 09:36:50     slice_of_za  10mgkxn   ireland   \n",
       "\n",
       "                                                text  \n",
       "0  Right so obviously a burner account.\\n\\nMy fia...  \n",
       "1  First; this is perfectly, perfectly human way ...  \n",
       "2  The reason your life isn't comfortable on a co...  \n",
       "3  You’re directing your anger in the wrong, dire...  \n",
       "4  Sounds like you're having a shitty time of it ...  "
      ]
     },
     "execution_count": 8,
     "metadata": {},
     "output_type": "execute_result"
    }
   ],
   "source": [
    "irish_construction_posts_df.head()"
   ]
  },
  {
   "cell_type": "code",
   "execution_count": 9,
   "id": "a3fd3ff9",
   "metadata": {},
   "outputs": [
    {
     "name": "stdout",
     "output_type": "stream",
     "text": [
      "No search results after last result ID: t3_mla0zq\n",
      "Search results: 230\n",
      "Total comments retreived: 14695\n"
     ]
    },
    {
     "data": {
      "text/html": [
       "<div>\n",
       "<style scoped>\n",
       "    .dataframe tbody tr th:only-of-type {\n",
       "        vertical-align: middle;\n",
       "    }\n",
       "\n",
       "    .dataframe tbody tr th {\n",
       "        vertical-align: top;\n",
       "    }\n",
       "\n",
       "    .dataframe thead th {\n",
       "        text-align: right;\n",
       "    }\n",
       "</style>\n",
       "<table border=\"1\" class=\"dataframe\">\n",
       "  <thead>\n",
       "    <tr style=\"text-align: right;\">\n",
       "      <th></th>\n",
       "      <th>created_utc</th>\n",
       "      <th>author</th>\n",
       "      <th>post_id</th>\n",
       "      <th>subreddit</th>\n",
       "      <th>text</th>\n",
       "    </tr>\n",
       "  </thead>\n",
       "  <tbody>\n",
       "    <tr>\n",
       "      <th>0</th>\n",
       "      <td>1.663774e+09</td>\n",
       "      <td>coluber_</td>\n",
       "      <td>xk7udf</td>\n",
       "      <td>ireland</td>\n",
       "      <td>Hi all. I see the topic of Ukrainian refugees ...</td>\n",
       "    </tr>\n",
       "    <tr>\n",
       "      <th>1</th>\n",
       "      <td>1.663774e+09</td>\n",
       "      <td>pul123PUL</td>\n",
       "      <td>xk7udf</td>\n",
       "      <td>ireland</td>\n",
       "      <td>What has been the biggest challenge for you da...</td>\n",
       "    </tr>\n",
       "    <tr>\n",
       "      <th>2</th>\n",
       "      <td>1.663780e+09</td>\n",
       "      <td>Fantastic_Section517</td>\n",
       "      <td>xk7udf</td>\n",
       "      <td>ireland</td>\n",
       "      <td>Are you working at present? The reason I ask i...</td>\n",
       "    </tr>\n",
       "    <tr>\n",
       "      <th>3</th>\n",
       "      <td>1.663777e+09</td>\n",
       "      <td>EDITORDIE</td>\n",
       "      <td>xk7udf</td>\n",
       "      <td>ireland</td>\n",
       "      <td>I wish you and your family the best and hope t...</td>\n",
       "    </tr>\n",
       "    <tr>\n",
       "      <th>4</th>\n",
       "      <td>1.663774e+09</td>\n",
       "      <td>ImpressionPristine46</td>\n",
       "      <td>xk7udf</td>\n",
       "      <td>ireland</td>\n",
       "      <td>Have all your family and friends moved to Irel...</td>\n",
       "    </tr>\n",
       "  </tbody>\n",
       "</table>\n",
       "</div>"
      ],
      "text/plain": [
       "    created_utc                author post_id subreddit   \n",
       "0  1.663774e+09              coluber_  xk7udf   ireland  \\\n",
       "1  1.663774e+09             pul123PUL  xk7udf   ireland   \n",
       "2  1.663780e+09  Fantastic_Section517  xk7udf   ireland   \n",
       "3  1.663777e+09             EDITORDIE  xk7udf   ireland   \n",
       "4  1.663774e+09  ImpressionPristine46  xk7udf   ireland   \n",
       "\n",
       "                                                text  \n",
       "0  Hi all. I see the topic of Ukrainian refugees ...  \n",
       "1  What has been the biggest challenge for you da...  \n",
       "2  Are you working at present? The reason I ask i...  \n",
       "3  I wish you and your family the best and hope t...  \n",
       "4  Have all your family and friends moved to Irel...  "
      ]
     },
     "execution_count": 9,
     "metadata": {},
     "output_type": "execute_result"
    }
   ],
   "source": [
    "# Creating DF from search results for \"house contruction\" in Reddit\n",
    "irish_housing_posts_df = pd.DataFrame.from_dict(search_reddit(\"ireland\", \"housing\"))\n",
    "irish_housing_posts_df.head()"
   ]
  },
  {
   "cell_type": "code",
   "execution_count": 10,
   "id": "3505afd1",
   "metadata": {},
   "outputs": [
    {
     "data": {
      "text/html": [
       "<div>\n",
       "<style scoped>\n",
       "    .dataframe tbody tr th:only-of-type {\n",
       "        vertical-align: middle;\n",
       "    }\n",
       "\n",
       "    .dataframe tbody tr th {\n",
       "        vertical-align: top;\n",
       "    }\n",
       "\n",
       "    .dataframe thead th {\n",
       "        text-align: right;\n",
       "    }\n",
       "</style>\n",
       "<table border=\"1\" class=\"dataframe\">\n",
       "  <thead>\n",
       "    <tr style=\"text-align: right;\">\n",
       "      <th></th>\n",
       "      <th>created_utc</th>\n",
       "      <th>author</th>\n",
       "      <th>post_id</th>\n",
       "      <th>subreddit</th>\n",
       "      <th>text</th>\n",
       "    </tr>\n",
       "  </thead>\n",
       "  <tbody>\n",
       "    <tr>\n",
       "      <th>0</th>\n",
       "      <td>2022-09-21 15:21:22</td>\n",
       "      <td>coluber_</td>\n",
       "      <td>xk7udf</td>\n",
       "      <td>ireland</td>\n",
       "      <td>Hi all. I see the topic of Ukrainian refugees ...</td>\n",
       "    </tr>\n",
       "    <tr>\n",
       "      <th>1</th>\n",
       "      <td>2022-09-21 15:29:39</td>\n",
       "      <td>pul123PUL</td>\n",
       "      <td>xk7udf</td>\n",
       "      <td>ireland</td>\n",
       "      <td>What has been the biggest challenge for you da...</td>\n",
       "    </tr>\n",
       "    <tr>\n",
       "      <th>2</th>\n",
       "      <td>2022-09-21 17:06:30</td>\n",
       "      <td>Fantastic_Section517</td>\n",
       "      <td>xk7udf</td>\n",
       "      <td>ireland</td>\n",
       "      <td>Are you working at present? The reason I ask i...</td>\n",
       "    </tr>\n",
       "    <tr>\n",
       "      <th>3</th>\n",
       "      <td>2022-09-21 16:12:04</td>\n",
       "      <td>EDITORDIE</td>\n",
       "      <td>xk7udf</td>\n",
       "      <td>ireland</td>\n",
       "      <td>I wish you and your family the best and hope t...</td>\n",
       "    </tr>\n",
       "    <tr>\n",
       "      <th>4</th>\n",
       "      <td>2022-09-21 15:30:34</td>\n",
       "      <td>ImpressionPristine46</td>\n",
       "      <td>xk7udf</td>\n",
       "      <td>ireland</td>\n",
       "      <td>Have all your family and friends moved to Irel...</td>\n",
       "    </tr>\n",
       "  </tbody>\n",
       "</table>\n",
       "</div>"
      ],
      "text/plain": [
       "          created_utc                author post_id subreddit   \n",
       "0 2022-09-21 15:21:22              coluber_  xk7udf   ireland  \\\n",
       "1 2022-09-21 15:29:39             pul123PUL  xk7udf   ireland   \n",
       "2 2022-09-21 17:06:30  Fantastic_Section517  xk7udf   ireland   \n",
       "3 2022-09-21 16:12:04             EDITORDIE  xk7udf   ireland   \n",
       "4 2022-09-21 15:30:34  ImpressionPristine46  xk7udf   ireland   \n",
       "\n",
       "                                                text  \n",
       "0  Hi all. I see the topic of Ukrainian refugees ...  \n",
       "1  What has been the biggest challenge for you da...  \n",
       "2  Are you working at present? The reason I ask i...  \n",
       "3  I wish you and your family the best and hope t...  \n",
       "4  Have all your family and friends moved to Irel...  "
      ]
     },
     "execution_count": 10,
     "metadata": {},
     "output_type": "execute_result"
    }
   ],
   "source": [
    "# Converting to datetime\n",
    "irish_housing_posts_df['created_utc'] = pd.to_datetime(irish_housing_posts_df['created_utc'], unit='s')\n",
    "irish_housing_posts_df.head()"
   ]
  },
  {
   "cell_type": "code",
   "execution_count": 11,
   "id": "62af8da5",
   "metadata": {},
   "outputs": [
    {
     "name": "stdout",
     "output_type": "stream",
     "text": [
      "No search results after last result ID: t3_kx1c92\n",
      "Search results: 36\n",
      "Total comments retreived: 450\n"
     ]
    },
    {
     "data": {
      "text/html": [
       "<div>\n",
       "<style scoped>\n",
       "    .dataframe tbody tr th:only-of-type {\n",
       "        vertical-align: middle;\n",
       "    }\n",
       "\n",
       "    .dataframe tbody tr th {\n",
       "        vertical-align: top;\n",
       "    }\n",
       "\n",
       "    .dataframe thead th {\n",
       "        text-align: right;\n",
       "    }\n",
       "</style>\n",
       "<table border=\"1\" class=\"dataframe\">\n",
       "  <thead>\n",
       "    <tr style=\"text-align: right;\">\n",
       "      <th></th>\n",
       "      <th>created_utc</th>\n",
       "      <th>author</th>\n",
       "      <th>post_id</th>\n",
       "      <th>subreddit</th>\n",
       "      <th>text</th>\n",
       "    </tr>\n",
       "  </thead>\n",
       "  <tbody>\n",
       "    <tr>\n",
       "      <th>0</th>\n",
       "      <td>2021-09-24 10:59:29</td>\n",
       "      <td>AprilMaria</td>\n",
       "      <td>puhd1j</td>\n",
       "      <td>ireland</td>\n",
       "      <td>Ok so basically at the moment I'm trying to bu...</td>\n",
       "    </tr>\n",
       "    <tr>\n",
       "      <th>1</th>\n",
       "      <td>2021-09-24 11:04:58</td>\n",
       "      <td>LucyVialli</td>\n",
       "      <td>puhd1j</td>\n",
       "      <td>ireland</td>\n",
       "      <td>Would you say it's time for everyone to crack ...</td>\n",
       "    </tr>\n",
       "    <tr>\n",
       "      <th>2</th>\n",
       "      <td>2021-09-24 11:02:59</td>\n",
       "      <td>basicallyculchie</td>\n",
       "      <td>puhd1j</td>\n",
       "      <td>ireland</td>\n",
       "      <td>World's gone ta fuck</td>\n",
       "    </tr>\n",
       "    <tr>\n",
       "      <th>3</th>\n",
       "      <td>2021-09-24 11:11:50</td>\n",
       "      <td>HacksawJimDGN</td>\n",
       "      <td>puhd1j</td>\n",
       "      <td>ireland</td>\n",
       "      <td>Time to bulk buy toilet paper again.</td>\n",
       "    </tr>\n",
       "    <tr>\n",
       "      <th>4</th>\n",
       "      <td>2021-09-24 11:05:53</td>\n",
       "      <td>fedupofbrick</td>\n",
       "      <td>puhd1j</td>\n",
       "      <td>ireland</td>\n",
       "      <td>It's a big problem. Some people seem to think ...</td>\n",
       "    </tr>\n",
       "  </tbody>\n",
       "</table>\n",
       "</div>"
      ],
      "text/plain": [
       "          created_utc            author post_id subreddit   \n",
       "0 2021-09-24 10:59:29        AprilMaria  puhd1j   ireland  \\\n",
       "1 2021-09-24 11:04:58        LucyVialli  puhd1j   ireland   \n",
       "2 2021-09-24 11:02:59  basicallyculchie  puhd1j   ireland   \n",
       "3 2021-09-24 11:11:50     HacksawJimDGN  puhd1j   ireland   \n",
       "4 2021-09-24 11:05:53      fedupofbrick  puhd1j   ireland   \n",
       "\n",
       "                                                text  \n",
       "0  Ok so basically at the moment I'm trying to bu...  \n",
       "1  Would you say it's time for everyone to crack ...  \n",
       "2                               World's gone ta fuck  \n",
       "3               Time to bulk buy toilet paper again.  \n",
       "4  It's a big problem. Some people seem to think ...  "
      ]
     },
     "execution_count": 11,
     "metadata": {},
     "output_type": "execute_result"
    }
   ],
   "source": [
    "# Creating DF from search results for \"construction price\" in Reddit\n",
    "irish_construction_price_df = pd.DataFrame.from_dict(search_reddit(\"ireland\", \"construction price\"))\n",
    "irish_construction_price_df['created_utc'] = pd.to_datetime(irish_construction_price_df['created_utc'], unit='s')\n",
    "irish_construction_price_df.head()"
   ]
  },
  {
   "cell_type": "code",
   "execution_count": 12,
   "id": "dd8273ca",
   "metadata": {},
   "outputs": [
    {
     "data": {
      "text/plain": [
       "(16936, 5)"
      ]
     },
     "execution_count": 12,
     "metadata": {},
     "output_type": "execute_result"
    }
   ],
   "source": [
    "# Combining two DFs\n",
    "irish_housing_reddit_df = pd.concat([irish_construction_posts_df, irish_housing_posts_df, irish_construction_price_df])\n",
    "irish_housing_reddit_df.shape"
   ]
  },
  {
   "cell_type": "code",
   "execution_count": 13,
   "id": "9b32cb14",
   "metadata": {},
   "outputs": [
    {
     "data": {
      "text/plain": [
       "608"
      ]
     },
     "execution_count": 13,
     "metadata": {},
     "output_type": "execute_result"
    }
   ],
   "source": [
    "# Check the duplicates after concatenating two DFs\n",
    "irish_housing_reddit_df.duplicated(subset=['created_utc', 'post_id']).sum()"
   ]
  },
  {
   "cell_type": "code",
   "execution_count": 14,
   "id": "aacbb1c8",
   "metadata": {},
   "outputs": [
    {
     "data": {
      "text/plain": [
       "(16326, 5)"
      ]
     },
     "execution_count": 14,
     "metadata": {},
     "output_type": "execute_result"
    }
   ],
   "source": [
    "# Drop the duplicates\n",
    "irish_housing_reddit_df.drop_duplicates(subset=['created_utc'], inplace=True)\n",
    "irish_housing_reddit_df.shape"
   ]
  },
  {
   "cell_type": "markdown",
   "id": "b22cbb56",
   "metadata": {},
   "source": [
    "### Data Pre Processing and Sentiment Analysis"
   ]
  },
  {
   "cell_type": "code",
   "execution_count": 15,
   "id": "c6f29de7",
   "metadata": {},
   "outputs": [],
   "source": [
    "# Initialize the sentiment analyzer\n",
    "sia = SentimentIntensityAnalyzer()"
   ]
  },
  {
   "cell_type": "code",
   "execution_count": 16,
   "id": "668c4ed1",
   "metadata": {},
   "outputs": [],
   "source": [
    "# Function to clean data before Sentiment Analysis\n",
    "def get_cleaned_data(X):\n",
    "    # Store the stopwords into the object named as \"stop_words\"\n",
    "    stop_words = stopwords.words('english')\n",
    "\n",
    "    # Store the string.punctuation into an object punct\n",
    "    punct = string.punctuation\n",
    "\n",
    "    # Initialise an object using a method PorterStemmer\n",
    "    stemmer = PorterStemmer()\n",
    "\n",
    "    cleaned_data=[]\n",
    "\n",
    "    # For loop from first value to length(X), ^a-zA-Z means include small and capital case letters\n",
    "    for i in range(len(X)):\n",
    "        post = re.sub('[^a-zA-Z]', ' ', X.iloc[i])\n",
    "        post = post.lower().split()\n",
    "        post = [stemmer.stem(word) for word in post if (word not in stop_words) and (word not in punct)]\n",
    "        post = ' '.join(post)\n",
    "        cleaned_data.append(post)\n",
    "\n",
    "    return pd.Series(cleaned_data)\n",
    "\n",
    "\n",
    "# Function to classify compound result \n",
    "def classify_sia_polarity(output_dict):  \n",
    "    polarity = \"neutral\"\n",
    "\n",
    "    if(output_dict['compound'] >= 0.05):\n",
    "        polarity = \"positive\"\n",
    "\n",
    "    elif(output_dict['compound'] <= -0.05):\n",
    "        polarity = \"negative\"\n",
    "\n",
    "    return polarity\n",
    "\n",
    "# Function to classify textblob's sentiment polarity\n",
    "def classify_textblob_polarity(polarity):\n",
    "    sentiment = \"neutral\"\n",
    "    if(polarity > 0):\n",
    "        sentiment = \"positive\"\n",
    "    elif(polarity < 0):\n",
    "        sentiment = \"negative\"\n",
    "    return sentiment\n",
    "\n",
    "# Function to predict sentiment\n",
    "def predict_sentiment(text): \n",
    "    output_dict =  sia.polarity_scores(text)\n",
    "    return classify_sia_polarity(output_dict)\n",
    "\n",
    "# Function to calculate sentiment polarity using TextBlob\n",
    "def get_sentiment(text):\n",
    "    blob = TextBlob(text)\n",
    "    sentiment = classify_textblob_polarity(blob.sentiment.polarity)\n",
    "    return sentiment"
   ]
  },
  {
   "cell_type": "code",
   "execution_count": 17,
   "id": "ae3fc4f5",
   "metadata": {},
   "outputs": [],
   "source": [
    "cleaned_data = get_cleaned_data(irish_housing_reddit_df['text'])\n",
    "irish_housing_reddit_df['vader_prediction'] = cleaned_data.apply(predict_sentiment)\n",
    "irish_housing_reddit_df['textblob_sentiment'] = cleaned_data.apply(get_sentiment)"
   ]
  },
  {
   "cell_type": "code",
   "execution_count": 18,
   "id": "70e2cfcc",
   "metadata": {},
   "outputs": [
    {
     "data": {
      "text/html": [
       "<div>\n",
       "<style scoped>\n",
       "    .dataframe tbody tr th:only-of-type {\n",
       "        vertical-align: middle;\n",
       "    }\n",
       "\n",
       "    .dataframe tbody tr th {\n",
       "        vertical-align: top;\n",
       "    }\n",
       "\n",
       "    .dataframe thead th {\n",
       "        text-align: right;\n",
       "    }\n",
       "</style>\n",
       "<table border=\"1\" class=\"dataframe\">\n",
       "  <thead>\n",
       "    <tr style=\"text-align: right;\">\n",
       "      <th></th>\n",
       "      <th>created_utc</th>\n",
       "      <th>author</th>\n",
       "      <th>post_id</th>\n",
       "      <th>subreddit</th>\n",
       "      <th>text</th>\n",
       "      <th>vader_prediction</th>\n",
       "      <th>textblob_sentiment</th>\n",
       "    </tr>\n",
       "  </thead>\n",
       "  <tbody>\n",
       "    <tr>\n",
       "      <th>439</th>\n",
       "      <td>2014-05-14 17:45:52</td>\n",
       "      <td>COdoubleMON</td>\n",
       "      <td>25jpau</td>\n",
       "      <td>ireland</td>\n",
       "      <td>A nice way of saying \"Shut the fuck up\".</td>\n",
       "      <td>positive</td>\n",
       "      <td>positive</td>\n",
       "    </tr>\n",
       "    <tr>\n",
       "      <th>440</th>\n",
       "      <td>2014-05-14 16:15:08</td>\n",
       "      <td>[deleted]</td>\n",
       "      <td>25jpau</td>\n",
       "      <td>ireland</td>\n",
       "      <td>[removed]</td>\n",
       "      <td>positive</td>\n",
       "      <td>positive</td>\n",
       "    </tr>\n",
       "    <tr>\n",
       "      <th>447</th>\n",
       "      <td>2021-01-14 08:00:32</td>\n",
       "      <td>absolunesss</td>\n",
       "      <td>kx1c92</td>\n",
       "      <td>ireland</td>\n",
       "      <td>I am working in a company that is considering ...</td>\n",
       "      <td>positive</td>\n",
       "      <td>positive</td>\n",
       "    </tr>\n",
       "    <tr>\n",
       "      <th>448</th>\n",
       "      <td>2021-01-14 08:12:08</td>\n",
       "      <td>forfudgecake</td>\n",
       "      <td>kx1c92</td>\n",
       "      <td>ireland</td>\n",
       "      <td>Take the lead from your suppliers and/or fixed...</td>\n",
       "      <td>positive</td>\n",
       "      <td>positive</td>\n",
       "    </tr>\n",
       "    <tr>\n",
       "      <th>449</th>\n",
       "      <td>2021-01-14 12:34:48</td>\n",
       "      <td>malamorcannai</td>\n",
       "      <td>kx1c92</td>\n",
       "      <td>ireland</td>\n",
       "      <td>Bought a whopper in bk the other day and it wa...</td>\n",
       "      <td>neutral</td>\n",
       "      <td>neutral</td>\n",
       "    </tr>\n",
       "  </tbody>\n",
       "</table>\n",
       "</div>"
      ],
      "text/plain": [
       "            created_utc         author post_id subreddit   \n",
       "439 2014-05-14 17:45:52    COdoubleMON  25jpau   ireland  \\\n",
       "440 2014-05-14 16:15:08      [deleted]  25jpau   ireland   \n",
       "447 2021-01-14 08:00:32    absolunesss  kx1c92   ireland   \n",
       "448 2021-01-14 08:12:08   forfudgecake  kx1c92   ireland   \n",
       "449 2021-01-14 12:34:48  malamorcannai  kx1c92   ireland   \n",
       "\n",
       "                                                  text vader_prediction   \n",
       "439           A nice way of saying \"Shut the fuck up\".         positive  \\\n",
       "440                                          [removed]         positive   \n",
       "447  I am working in a company that is considering ...         positive   \n",
       "448  Take the lead from your suppliers and/or fixed...         positive   \n",
       "449  Bought a whopper in bk the other day and it wa...          neutral   \n",
       "\n",
       "    textblob_sentiment  \n",
       "439           positive  \n",
       "440           positive  \n",
       "447           positive  \n",
       "448           positive  \n",
       "449            neutral  "
      ]
     },
     "execution_count": 18,
     "metadata": {},
     "output_type": "execute_result"
    }
   ],
   "source": [
    "irish_housing_reddit_df.tail()"
   ]
  },
  {
   "cell_type": "code",
   "execution_count": 19,
   "id": "5f681b60",
   "metadata": {},
   "outputs": [
    {
     "name": "stdout",
     "output_type": "stream",
     "text": [
      "Differences between Vader and TextBlob: 5739\n"
     ]
    }
   ],
   "source": [
    "print(f\"Differences between Vader and TextBlob: {irish_housing_reddit_df[irish_housing_reddit_df['vader_prediction'] != irish_housing_reddit_df['textblob_sentiment']].shape[0]}\")"
   ]
  },
  {
   "cell_type": "code",
   "execution_count": 20,
   "id": "a8d1bb62",
   "metadata": {
    "scrolled": true
   },
   "outputs": [
    {
     "data": {
      "text/plain": [
       "[Text(0.5, 1.0, 'TextBlob Prediction')]"
      ]
     },
     "execution_count": 20,
     "metadata": {},
     "output_type": "execute_result"
    },
    {
     "data": {
      "image/png": "[encoded data removed]",
      "text/plain": [
       "<Figure size 3000x600 with 2 Axes>"
      ]
     },
     "metadata": {},
     "output_type": "display_data"
    }
   ],
   "source": [
    "fig, (ax1, ax2) = plt.subplots(1,2, sharex=True, figsize=(30,6))\n",
    "sns.countplot(data=irish_housing_reddit_df, x='vader_prediction', ax=ax1).set(title=\"VADER Prediction\")\n",
    "sns.countplot(data=irish_housing_reddit_df, x='textblob_sentiment', ax=ax2).set(title=\"TextBlob Prediction\")"
   ]
  },
  {
   "cell_type": "markdown",
   "id": "80c9ee35",
   "metadata": {},
   "source": [
    "### European house construction sentiment"
   ]
  },
  {
   "cell_type": "code",
   "execution_count": 21,
   "id": "64330926",
   "metadata": {},
   "outputs": [
    {
     "name": "stdout",
     "output_type": "stream",
     "text": [
      "No search results after last result ID: t3_v3xc4\n",
      "Search results: 34\n",
      "Total comments retreived: 363\n"
     ]
    }
   ],
   "source": [
    "# Create a DF with Reddit search data for \"house construction\" in subreddit \"europe\"\n",
    "europe_house_cons_reddit_df = pd.DataFrame.from_dict(search_reddit(\"europe\", \"house construction\"))"
   ]
  },
  {
   "cell_type": "code",
   "execution_count": 22,
   "id": "bb175999",
   "metadata": {},
   "outputs": [
    {
     "name": "stdout",
     "output_type": "stream",
     "text": [
      "No search results after last result ID: t3_2ezyho\n",
      "Search results: 215\n",
      "Total comments retreived: 6963\n"
     ]
    }
   ],
   "source": [
    "# Create a DF with Reddit search data for \"housing\" in subreddit \"europe\"\n",
    "europe_housing_reddit_df = pd.DataFrame.from_dict(search_reddit(\"europe\", \"housing\"))"
   ]
  },
  {
   "cell_type": "code",
   "execution_count": 23,
   "id": "7022f5c8",
   "metadata": {},
   "outputs": [
    {
     "name": "stdout",
     "output_type": "stream",
     "text": [
      "No search results after last result ID: t3_4k6w9b\n",
      "Search results: 14\n",
      "Total comments retreived: 134\n"
     ]
    }
   ],
   "source": [
    "# Create a DF with Reddit search data for \"construction price\" in subreddit \"europe\"\n",
    "europe_construction_price_df = pd.DataFrame.from_dict(search_reddit(\"europe\", \"construction price\"))"
   ]
  },
  {
   "cell_type": "code",
   "execution_count": 24,
   "id": "7ff26ee8",
   "metadata": {},
   "outputs": [
    {
     "data": {
      "text/plain": [
       "(7460, 5)"
      ]
     },
     "execution_count": 24,
     "metadata": {},
     "output_type": "execute_result"
    }
   ],
   "source": [
    "european_housing_reddit_df = pd.concat([europe_house_cons_reddit_df, europe_housing_reddit_df, europe_construction_price_df])\n",
    "european_housing_reddit_df.shape"
   ]
  },
  {
   "cell_type": "code",
   "execution_count": 25,
   "id": "8d71fc3f",
   "metadata": {},
   "outputs": [
    {
     "data": {
      "text/plain": [
       "(7198, 5)"
      ]
     },
     "execution_count": 25,
     "metadata": {},
     "output_type": "execute_result"
    }
   ],
   "source": [
    "# Drop the duplicates\n",
    "european_housing_reddit_df.drop_duplicates(subset=['created_utc'], inplace=True)\n",
    "european_housing_reddit_df.shape"
   ]
  },
  {
   "cell_type": "code",
   "execution_count": 26,
   "id": "939c4b6b",
   "metadata": {},
   "outputs": [
    {
     "data": {
      "text/html": [
       "<div>\n",
       "<style scoped>\n",
       "    .dataframe tbody tr th:only-of-type {\n",
       "        vertical-align: middle;\n",
       "    }\n",
       "\n",
       "    .dataframe tbody tr th {\n",
       "        vertical-align: top;\n",
       "    }\n",
       "\n",
       "    .dataframe thead th {\n",
       "        text-align: right;\n",
       "    }\n",
       "</style>\n",
       "<table border=\"1\" class=\"dataframe\">\n",
       "  <thead>\n",
       "    <tr style=\"text-align: right;\">\n",
       "      <th></th>\n",
       "      <th>created_utc</th>\n",
       "      <th>author</th>\n",
       "      <th>post_id</th>\n",
       "      <th>subreddit</th>\n",
       "      <th>text</th>\n",
       "    </tr>\n",
       "  </thead>\n",
       "  <tbody>\n",
       "    <tr>\n",
       "      <th>0</th>\n",
       "      <td>2021-10-07 18:19:16</td>\n",
       "      <td>DevilSauron</td>\n",
       "      <td>q3f6wi</td>\n",
       "      <td>europe</td>\n",
       "      <td>**The Election**\\n\\nTomorrow and on Saturday (...</td>\n",
       "    </tr>\n",
       "    <tr>\n",
       "      <th>1</th>\n",
       "      <td>2021-10-14 13:58:01</td>\n",
       "      <td>Plane_Willingness_25</td>\n",
       "      <td>q3f6wi</td>\n",
       "      <td>europe</td>\n",
       "      <td>So how are things developing? Is Babis still g...</td>\n",
       "    </tr>\n",
       "    <tr>\n",
       "      <th>2</th>\n",
       "      <td>2021-10-09 22:57:31</td>\n",
       "      <td>linknewtab</td>\n",
       "      <td>q3f6wi</td>\n",
       "      <td>europe</td>\n",
       "      <td>Any chance the new government will finally joi...</td>\n",
       "    </tr>\n",
       "    <tr>\n",
       "      <th>3</th>\n",
       "      <td>2021-10-09 22:55:50</td>\n",
       "      <td>[deleted]</td>\n",
       "      <td>q3f6wi</td>\n",
       "      <td>europe</td>\n",
       "      <td>[deleted]</td>\n",
       "    </tr>\n",
       "    <tr>\n",
       "      <th>4</th>\n",
       "      <td>2021-10-09 22:48:07</td>\n",
       "      <td>Freeman3017</td>\n",
       "      <td>q3f6wi</td>\n",
       "      <td>europe</td>\n",
       "      <td>Victory day for democracy, this is how it shou...</td>\n",
       "    </tr>\n",
       "  </tbody>\n",
       "</table>\n",
       "</div>"
      ],
      "text/plain": [
       "          created_utc                author post_id subreddit   \n",
       "0 2021-10-07 18:19:16           DevilSauron  q3f6wi    europe  \\\n",
       "1 2021-10-14 13:58:01  Plane_Willingness_25  q3f6wi    europe   \n",
       "2 2021-10-09 22:57:31            linknewtab  q3f6wi    europe   \n",
       "3 2021-10-09 22:55:50             [deleted]  q3f6wi    europe   \n",
       "4 2021-10-09 22:48:07           Freeman3017  q3f6wi    europe   \n",
       "\n",
       "                                                text  \n",
       "0  **The Election**\\n\\nTomorrow and on Saturday (...  \n",
       "1  So how are things developing? Is Babis still g...  \n",
       "2  Any chance the new government will finally joi...  \n",
       "3                                          [deleted]  \n",
       "4  Victory day for democracy, this is how it shou...  "
      ]
     },
     "execution_count": 26,
     "metadata": {},
     "output_type": "execute_result"
    }
   ],
   "source": [
    "# Convert the seconds timestamp to datetime\n",
    "european_housing_reddit_df['created_utc'] = pd.to_datetime(european_housing_reddit_df['created_utc'], unit='s')\n",
    "european_housing_reddit_df.head()"
   ]
  },
  {
   "cell_type": "code",
   "execution_count": 27,
   "id": "d3048653",
   "metadata": {},
   "outputs": [
    {
     "data": {
      "text/html": [
       "<div>\n",
       "<style scoped>\n",
       "    .dataframe tbody tr th:only-of-type {\n",
       "        vertical-align: middle;\n",
       "    }\n",
       "\n",
       "    .dataframe tbody tr th {\n",
       "        vertical-align: top;\n",
       "    }\n",
       "\n",
       "    .dataframe thead th {\n",
       "        text-align: right;\n",
       "    }\n",
       "</style>\n",
       "<table border=\"1\" class=\"dataframe\">\n",
       "  <thead>\n",
       "    <tr style=\"text-align: right;\">\n",
       "      <th></th>\n",
       "      <th>created_utc</th>\n",
       "      <th>author</th>\n",
       "      <th>post_id</th>\n",
       "      <th>subreddit</th>\n",
       "      <th>text</th>\n",
       "      <th>vader_prediction</th>\n",
       "      <th>textblob_sentiment</th>\n",
       "    </tr>\n",
       "  </thead>\n",
       "  <tbody>\n",
       "    <tr>\n",
       "      <th>0</th>\n",
       "      <td>2021-10-07 18:19:16</td>\n",
       "      <td>DevilSauron</td>\n",
       "      <td>q3f6wi</td>\n",
       "      <td>europe</td>\n",
       "      <td>**The Election**\\n\\nTomorrow and on Saturday (...</td>\n",
       "      <td>positive</td>\n",
       "      <td>positive</td>\n",
       "    </tr>\n",
       "    <tr>\n",
       "      <th>1</th>\n",
       "      <td>2021-10-14 13:58:01</td>\n",
       "      <td>Plane_Willingness_25</td>\n",
       "      <td>q3f6wi</td>\n",
       "      <td>europe</td>\n",
       "      <td>So how are things developing? Is Babis still g...</td>\n",
       "      <td>neutral</td>\n",
       "      <td>neutral</td>\n",
       "    </tr>\n",
       "    <tr>\n",
       "      <th>2</th>\n",
       "      <td>2021-10-09 22:57:31</td>\n",
       "      <td>linknewtab</td>\n",
       "      <td>q3f6wi</td>\n",
       "      <td>europe</td>\n",
       "      <td>Any chance the new government will finally joi...</td>\n",
       "      <td>positive</td>\n",
       "      <td>positive</td>\n",
       "    </tr>\n",
       "    <tr>\n",
       "      <th>3</th>\n",
       "      <td>2021-10-09 22:55:50</td>\n",
       "      <td>[deleted]</td>\n",
       "      <td>q3f6wi</td>\n",
       "      <td>europe</td>\n",
       "      <td>[deleted]</td>\n",
       "      <td>neutral</td>\n",
       "      <td>neutral</td>\n",
       "    </tr>\n",
       "    <tr>\n",
       "      <th>4</th>\n",
       "      <td>2021-10-09 22:48:07</td>\n",
       "      <td>Freeman3017</td>\n",
       "      <td>q3f6wi</td>\n",
       "      <td>europe</td>\n",
       "      <td>Victory day for democracy, this is how it shou...</td>\n",
       "      <td>negative</td>\n",
       "      <td>positive</td>\n",
       "    </tr>\n",
       "  </tbody>\n",
       "</table>\n",
       "</div>"
      ],
      "text/plain": [
       "          created_utc                author post_id subreddit   \n",
       "0 2021-10-07 18:19:16           DevilSauron  q3f6wi    europe  \\\n",
       "1 2021-10-14 13:58:01  Plane_Willingness_25  q3f6wi    europe   \n",
       "2 2021-10-09 22:57:31            linknewtab  q3f6wi    europe   \n",
       "3 2021-10-09 22:55:50             [deleted]  q3f6wi    europe   \n",
       "4 2021-10-09 22:48:07           Freeman3017  q3f6wi    europe   \n",
       "\n",
       "                                                text vader_prediction   \n",
       "0  **The Election**\\n\\nTomorrow and on Saturday (...         positive  \\\n",
       "1  So how are things developing? Is Babis still g...          neutral   \n",
       "2  Any chance the new government will finally joi...         positive   \n",
       "3                                          [deleted]          neutral   \n",
       "4  Victory day for democracy, this is how it shou...         negative   \n",
       "\n",
       "  textblob_sentiment  \n",
       "0           positive  \n",
       "1            neutral  \n",
       "2           positive  \n",
       "3            neutral  \n",
       "4           positive  "
      ]
     },
     "execution_count": 27,
     "metadata": {},
     "output_type": "execute_result"
    }
   ],
   "source": [
    "# Initialize the sentiment analyzer\n",
    "sia = SentimentIntensityAnalyzer()\n",
    "\n",
    "# Clean the data and perform sentiment analysis on it\n",
    "cleaned_data = get_cleaned_data(european_housing_reddit_df['text'])\n",
    "european_housing_reddit_df['vader_prediction'] = cleaned_data.apply(predict_sentiment)\n",
    "european_housing_reddit_df['textblob_sentiment'] = cleaned_data.apply(get_sentiment)\n",
    "european_housing_reddit_df.head()"
   ]
  },
  {
   "cell_type": "code",
   "execution_count": 28,
   "id": "e00655d9",
   "metadata": {},
   "outputs": [
    {
     "name": "stdout",
     "output_type": "stream",
     "text": [
      "Differences between Vader and TextBlob: 2461\n"
     ]
    }
   ],
   "source": [
    "print(f\"Differences between Vader and TextBlob: {european_housing_reddit_df[european_housing_reddit_df['vader_prediction'] != european_housing_reddit_df['textblob_sentiment']].shape[0]}\")"
   ]
  },
  {
   "cell_type": "code",
   "execution_count": 29,
   "id": "4a7f4133",
   "metadata": {},
   "outputs": [
    {
     "data": {
      "image/png": "[encoded data removed]",
      "text/plain": [
       "<Figure size 3000x600 with 2 Axes>"
      ]
     },
     "metadata": {},
     "output_type": "display_data"
    }
   ],
   "source": [
    "# Plotting Vader and TextBlob prediction side-by-side\n",
    "fig, (ax1, ax2) = plt.subplots(1,2, sharex=True, figsize=(30,6))\n",
    "sns.countplot(data=european_housing_reddit_df, x='vader_prediction', ax=ax1).set(title=\"VADER Prediction\");\n",
    "sns.countplot(data=european_housing_reddit_df, x='textblob_sentiment', ax=ax2).set(title=\"TextBlob Prediction\");"
   ]
  },
  {
   "cell_type": "markdown",
   "id": "4ffd23fa",
   "metadata": {},
   "source": [
    "### Persist the dataset to MongoDB\n",
    "Performing API calls to Reddit could result in exceeding the allowed rate limits. A delay was applied before making each GET request to prevent the throttling. When querying large amount of posts/comments, this process can take long time to complete. So, it can be more efficient to regularly persisting the data to a database, and later querying from it instead of using Reddit API all the time."
   ]
  },
  {
   "cell_type": "code",
   "execution_count": 29,
   "id": "c9863a16",
   "metadata": {},
   "outputs": [],
   "source": [
    "# Creating MongoDB client and connection\n",
    "client = pymongo.MongoClient(\"mongodb://localhost:27017\")\n",
    "db = client[\"ca2\"]\n",
    "# Collection\n",
    "coll = db['irish_housing_construction']"
   ]
  },
  {
   "cell_type": "code",
   "execution_count": 30,
   "id": "4e5c69d1",
   "metadata": {
    "collapsed": true
   },
   "outputs": [
    {
     "ename": "NameError",
     "evalue": "name 'irish_housing_reddit_df' is not defined",
     "output_type": "error",
     "traceback": [
      "\u001b[0;31m---------------------------------------------------------------------------\u001b[0m",
      "\u001b[0;31mNameError\u001b[0m                                 Traceback (most recent call last)",
      "Cell \u001b[0;32mIn[30], line 2\u001b[0m\n\u001b[1;32m      1\u001b[0m \u001b[38;5;66;03m# Insert the DF rows to MongoDB collection\u001b[39;00m\n\u001b[0;32m----> 2\u001b[0m coll\u001b[38;5;241m.\u001b[39minsert_many(\u001b[43mirish_housing_reddit_df\u001b[49m\u001b[38;5;241m.\u001b[39mto_dict(\u001b[38;5;124m'\u001b[39m\u001b[38;5;124mrecords\u001b[39m\u001b[38;5;124m'\u001b[39m))\n",
      "\u001b[0;31mNameError\u001b[0m: name 'irish_housing_reddit_df' is not defined"
     ]
    }
   ],
   "source": [
    "# Insert the DF rows to MongoDB collection\n",
    "coll.insert_many(irish_housing_reddit_df.to_dict('records'))"
   ]
  },
  {
   "cell_type": "code",
   "execution_count": 32,
   "id": "a52719a8",
   "metadata": {
    "scrolled": false
   },
   "outputs": [
    {
     "name": "stdout",
     "output_type": "stream",
     "text": [
      "Estimated documents in MongoDB Collection: 16326\n"
     ]
    }
   ],
   "source": [
    "print(f\"Estimated documents in MongoDB Collection: {coll.estimated_document_count()}\")"
   ]
  },
  {
   "cell_type": "code",
   "execution_count": 33,
   "id": "d3627113",
   "metadata": {},
   "outputs": [
    {
     "data": {
      "text/plain": [
       "<pymongo.results.InsertManyResult at 0x7fe47017ec80>"
      ]
     },
     "execution_count": 33,
     "metadata": {},
     "output_type": "execute_result"
    }
   ],
   "source": [
    "coll_europe = db['european_housing_construction']\n",
    "\n",
    "# Insert the DF rows to MongoDB collection\n",
    "coll_europe.insert_many(european_housing_reddit_df.to_dict('records'))"
   ]
  },
  {
   "cell_type": "code",
   "execution_count": 34,
   "id": "562bf3fc",
   "metadata": {
    "scrolled": true
   },
   "outputs": [
    {
     "name": "stdout",
     "output_type": "stream",
     "text": [
      "Estimated documents in MongoDB Collection: 7198\n"
     ]
    }
   ],
   "source": [
    "print(f\"Estimated documents in MongoDB Collection: {coll_europe.estimated_document_count()}\")"
   ]
  },
  {
   "cell_type": "markdown",
   "id": "a31b9c28",
   "metadata": {},
   "source": [
    "### Loading Data from MongoDB to Create Visualization"
   ]
  },
  {
   "cell_type": "code",
   "execution_count": 10,
   "id": "9092be84",
   "metadata": {},
   "outputs": [],
   "source": [
    "pd.options.plotting.backend = 'holoviews'\n",
    "# Creating MongoDB client and connection\n",
    "client = pymongo.MongoClient(\"mongodb://localhost:27017\")\n",
    "db = client[\"ca2\"]\n",
    "# Collection\n",
    "irish_coll = db['irish_housing_construction']\n",
    "european_coll = db['european_housing_construction']"
   ]
  },
  {
   "cell_type": "code",
   "execution_count": 11,
   "id": "c0676578",
   "metadata": {},
   "outputs": [],
   "source": [
    "# Creating DFs from MongoDB collection\n",
    "irish_df = pd.DataFrame(list(irish_coll.find()))\n",
    "european_df = pd.DataFrame(list(european_coll.find()))"
   ]
  },
  {
   "cell_type": "code",
   "execution_count": 12,
   "id": "c2bf534b",
   "metadata": {},
   "outputs": [
    {
     "data": {
      "text/html": [
       "<div>\n",
       "<style scoped>\n",
       "    .dataframe tbody tr th:only-of-type {\n",
       "        vertical-align: middle;\n",
       "    }\n",
       "\n",
       "    .dataframe tbody tr th {\n",
       "        vertical-align: top;\n",
       "    }\n",
       "\n",
       "    .dataframe thead th {\n",
       "        text-align: right;\n",
       "    }\n",
       "</style>\n",
       "<table border=\"1\" class=\"dataframe\">\n",
       "  <thead>\n",
       "    <tr style=\"text-align: right;\">\n",
       "      <th></th>\n",
       "      <th>_id</th>\n",
       "      <th>created_utc</th>\n",
       "      <th>author</th>\n",
       "      <th>post_id</th>\n",
       "      <th>subreddit</th>\n",
       "      <th>text</th>\n",
       "      <th>vader_prediction</th>\n",
       "      <th>textblob_sentiment</th>\n",
       "    </tr>\n",
       "  </thead>\n",
       "  <tbody>\n",
       "    <tr>\n",
       "      <th>0</th>\n",
       "      <td>645eb6b30a7f4a95813a1c4f</td>\n",
       "      <td>2023-01-27 09:09:44</td>\n",
       "      <td>tashadaily</td>\n",
       "      <td>10mgkxn</td>\n",
       "      <td>ireland</td>\n",
       "      <td>Right so obviously a burner account.\\n\\nMy fia...</td>\n",
       "      <td>positive</td>\n",
       "      <td>positive</td>\n",
       "    </tr>\n",
       "    <tr>\n",
       "      <th>1</th>\n",
       "      <td>645eb6b30a7f4a95813a1c50</td>\n",
       "      <td>2023-01-27 11:15:03</td>\n",
       "      <td>PedantJuice</td>\n",
       "      <td>10mgkxn</td>\n",
       "      <td>ireland</td>\n",
       "      <td>First; this is perfectly, perfectly human way ...</td>\n",
       "      <td>positive</td>\n",
       "      <td>positive</td>\n",
       "    </tr>\n",
       "    <tr>\n",
       "      <th>2</th>\n",
       "      <td>645eb6b30a7f4a95813a1c51</td>\n",
       "      <td>2023-01-27 09:59:22</td>\n",
       "      <td>FullyStacked92</td>\n",
       "      <td>10mgkxn</td>\n",
       "      <td>ireland</td>\n",
       "      <td>The reason your life isn't comfortable on a co...</td>\n",
       "      <td>negative</td>\n",
       "      <td>positive</td>\n",
       "    </tr>\n",
       "    <tr>\n",
       "      <th>3</th>\n",
       "      <td>645eb6b30a7f4a95813a1c52</td>\n",
       "      <td>2023-01-27 10:59:06</td>\n",
       "      <td>theriskguy</td>\n",
       "      <td>10mgkxn</td>\n",
       "      <td>ireland</td>\n",
       "      <td>You’re directing your anger in the wrong, dire...</td>\n",
       "      <td>negative</td>\n",
       "      <td>negative</td>\n",
       "    </tr>\n",
       "    <tr>\n",
       "      <th>4</th>\n",
       "      <td>645eb6b30a7f4a95813a1c53</td>\n",
       "      <td>2023-01-27 09:36:50</td>\n",
       "      <td>slice_of_za</td>\n",
       "      <td>10mgkxn</td>\n",
       "      <td>ireland</td>\n",
       "      <td>Sounds like you're having a shitty time of it ...</td>\n",
       "      <td>positive</td>\n",
       "      <td>positive</td>\n",
       "    </tr>\n",
       "  </tbody>\n",
       "</table>\n",
       "</div>"
      ],
      "text/plain": [
       "                        _id         created_utc          author  post_id  \\\n",
       "0  645eb6b30a7f4a95813a1c4f 2023-01-27 09:09:44      tashadaily  10mgkxn   \n",
       "1  645eb6b30a7f4a95813a1c50 2023-01-27 11:15:03     PedantJuice  10mgkxn   \n",
       "2  645eb6b30a7f4a95813a1c51 2023-01-27 09:59:22  FullyStacked92  10mgkxn   \n",
       "3  645eb6b30a7f4a95813a1c52 2023-01-27 10:59:06      theriskguy  10mgkxn   \n",
       "4  645eb6b30a7f4a95813a1c53 2023-01-27 09:36:50     slice_of_za  10mgkxn   \n",
       "\n",
       "  subreddit                                               text  \\\n",
       "0   ireland  Right so obviously a burner account.\\n\\nMy fia...   \n",
       "1   ireland  First; this is perfectly, perfectly human way ...   \n",
       "2   ireland  The reason your life isn't comfortable on a co...   \n",
       "3   ireland  You’re directing your anger in the wrong, dire...   \n",
       "4   ireland  Sounds like you're having a shitty time of it ...   \n",
       "\n",
       "  vader_prediction textblob_sentiment  \n",
       "0         positive           positive  \n",
       "1         positive           positive  \n",
       "2         negative           positive  \n",
       "3         negative           negative  \n",
       "4         positive           positive  "
      ]
     },
     "execution_count": 12,
     "metadata": {},
     "output_type": "execute_result"
    }
   ],
   "source": [
    "irish_df.head()"
   ]
  },
  {
   "cell_type": "code",
   "execution_count": 13,
   "id": "64807714",
   "metadata": {
    "scrolled": true
   },
   "outputs": [
    {
     "data": {
      "text/html": [
       "<div>\n",
       "<style scoped>\n",
       "    .dataframe tbody tr th:only-of-type {\n",
       "        vertical-align: middle;\n",
       "    }\n",
       "\n",
       "    .dataframe tbody tr th {\n",
       "        vertical-align: top;\n",
       "    }\n",
       "\n",
       "    .dataframe thead th {\n",
       "        text-align: right;\n",
       "    }\n",
       "</style>\n",
       "<table border=\"1\" class=\"dataframe\">\n",
       "  <thead>\n",
       "    <tr style=\"text-align: right;\">\n",
       "      <th></th>\n",
       "      <th>_id</th>\n",
       "      <th>created_utc</th>\n",
       "      <th>author</th>\n",
       "      <th>post_id</th>\n",
       "      <th>subreddit</th>\n",
       "      <th>text</th>\n",
       "      <th>vader_prediction</th>\n",
       "      <th>textblob_sentiment</th>\n",
       "    </tr>\n",
       "  </thead>\n",
       "  <tbody>\n",
       "    <tr>\n",
       "      <th>0</th>\n",
       "      <td>645eb6b40a7f4a95813a5c15</td>\n",
       "      <td>2021-10-07 18:19:16</td>\n",
       "      <td>DevilSauron</td>\n",
       "      <td>q3f6wi</td>\n",
       "      <td>europe</td>\n",
       "      <td>**The Election**\\n\\nTomorrow and on Saturday (...</td>\n",
       "      <td>positive</td>\n",
       "      <td>positive</td>\n",
       "    </tr>\n",
       "    <tr>\n",
       "      <th>1</th>\n",
       "      <td>645eb6b40a7f4a95813a5c16</td>\n",
       "      <td>2021-10-14 13:58:01</td>\n",
       "      <td>Plane_Willingness_25</td>\n",
       "      <td>q3f6wi</td>\n",
       "      <td>europe</td>\n",
       "      <td>So how are things developing? Is Babis still g...</td>\n",
       "      <td>neutral</td>\n",
       "      <td>neutral</td>\n",
       "    </tr>\n",
       "    <tr>\n",
       "      <th>2</th>\n",
       "      <td>645eb6b40a7f4a95813a5c17</td>\n",
       "      <td>2021-10-09 22:57:31</td>\n",
       "      <td>linknewtab</td>\n",
       "      <td>q3f6wi</td>\n",
       "      <td>europe</td>\n",
       "      <td>Any chance the new government will finally joi...</td>\n",
       "      <td>positive</td>\n",
       "      <td>positive</td>\n",
       "    </tr>\n",
       "    <tr>\n",
       "      <th>3</th>\n",
       "      <td>645eb6b40a7f4a95813a5c18</td>\n",
       "      <td>2021-10-09 22:55:50</td>\n",
       "      <td>[deleted]</td>\n",
       "      <td>q3f6wi</td>\n",
       "      <td>europe</td>\n",
       "      <td>[deleted]</td>\n",
       "      <td>neutral</td>\n",
       "      <td>neutral</td>\n",
       "    </tr>\n",
       "    <tr>\n",
       "      <th>4</th>\n",
       "      <td>645eb6b40a7f4a95813a5c19</td>\n",
       "      <td>2021-10-09 22:48:07</td>\n",
       "      <td>Freeman3017</td>\n",
       "      <td>q3f6wi</td>\n",
       "      <td>europe</td>\n",
       "      <td>Victory day for democracy, this is how it shou...</td>\n",
       "      <td>negative</td>\n",
       "      <td>positive</td>\n",
       "    </tr>\n",
       "  </tbody>\n",
       "</table>\n",
       "</div>"
      ],
      "text/plain": [
       "                        _id         created_utc                author post_id  \\\n",
       "0  645eb6b40a7f4a95813a5c15 2021-10-07 18:19:16           DevilSauron  q3f6wi   \n",
       "1  645eb6b40a7f4a95813a5c16 2021-10-14 13:58:01  Plane_Willingness_25  q3f6wi   \n",
       "2  645eb6b40a7f4a95813a5c17 2021-10-09 22:57:31            linknewtab  q3f6wi   \n",
       "3  645eb6b40a7f4a95813a5c18 2021-10-09 22:55:50             [deleted]  q3f6wi   \n",
       "4  645eb6b40a7f4a95813a5c19 2021-10-09 22:48:07           Freeman3017  q3f6wi   \n",
       "\n",
       "  subreddit                                               text  \\\n",
       "0    europe  **The Election**\\n\\nTomorrow and on Saturday (...   \n",
       "1    europe  So how are things developing? Is Babis still g...   \n",
       "2    europe  Any chance the new government will finally joi...   \n",
       "3    europe                                          [deleted]   \n",
       "4    europe  Victory day for democracy, this is how it shou...   \n",
       "\n",
       "  vader_prediction textblob_sentiment  \n",
       "0         positive           positive  \n",
       "1          neutral            neutral  \n",
       "2         positive           positive  \n",
       "3          neutral            neutral  \n",
       "4         negative           positive  "
      ]
     },
     "execution_count": 13,
     "metadata": {},
     "output_type": "execute_result"
    }
   ],
   "source": [
    "european_df.head()"
   ]
  },
  {
   "cell_type": "code",
   "execution_count": 14,
   "id": "6d5e1c65",
   "metadata": {},
   "outputs": [
    {
     "data": {
      "text/html": [
       "<div>\n",
       "<style scoped>\n",
       "    .dataframe tbody tr th:only-of-type {\n",
       "        vertical-align: middle;\n",
       "    }\n",
       "\n",
       "    .dataframe tbody tr th {\n",
       "        vertical-align: top;\n",
       "    }\n",
       "\n",
       "    .dataframe thead th {\n",
       "        text-align: right;\n",
       "    }\n",
       "</style>\n",
       "<table border=\"1\" class=\"dataframe\">\n",
       "  <thead>\n",
       "    <tr style=\"text-align: right;\">\n",
       "      <th></th>\n",
       "      <th>_id</th>\n",
       "      <th>created_utc</th>\n",
       "      <th>author</th>\n",
       "      <th>post_id</th>\n",
       "      <th>subreddit</th>\n",
       "      <th>text</th>\n",
       "      <th>vader_prediction</th>\n",
       "      <th>textblob_sentiment</th>\n",
       "    </tr>\n",
       "  </thead>\n",
       "  <tbody>\n",
       "    <tr>\n",
       "      <th>0</th>\n",
       "      <td>645eb6b30a7f4a95813a22ea</td>\n",
       "      <td>2010-08-16 20:24:13</td>\n",
       "      <td>el-fish</td>\n",
       "      <td>d1uqp</td>\n",
       "      <td>ireland</td>\n",
       "      <td>In detroit there are companies that deconstruc...</td>\n",
       "      <td>neutral</td>\n",
       "      <td>neutral</td>\n",
       "    </tr>\n",
       "    <tr>\n",
       "      <th>1</th>\n",
       "      <td>645eb6b30a7f4a95813a22eb</td>\n",
       "      <td>2010-08-16 20:31:30</td>\n",
       "      <td>el-fish</td>\n",
       "      <td>d1uqp</td>\n",
       "      <td>ireland</td>\n",
       "      <td>Messed up that submission. Ment to link to thi...</td>\n",
       "      <td>negative</td>\n",
       "      <td>neutral</td>\n",
       "    </tr>\n",
       "    <tr>\n",
       "      <th>2</th>\n",
       "      <td>645eb6b30a7f4a95813a22ec</td>\n",
       "      <td>2010-08-16 21:41:27</td>\n",
       "      <td>[deleted]</td>\n",
       "      <td>d1uqp</td>\n",
       "      <td>ireland</td>\n",
       "      <td>As a Canadian currently looking for work in Du...</td>\n",
       "      <td>negative</td>\n",
       "      <td>neutral</td>\n",
       "    </tr>\n",
       "    <tr>\n",
       "      <th>3</th>\n",
       "      <td>645eb6b30a7f4a95813a5c09</td>\n",
       "      <td>2010-10-28 14:35:06</td>\n",
       "      <td>chipsambos</td>\n",
       "      <td>dxq3p</td>\n",
       "      <td>ireland</td>\n",
       "      <td>From Michael Kennedy TD:\\n\\n28-Oct-2010\\n\\nA C...</td>\n",
       "      <td>negative</td>\n",
       "      <td>negative</td>\n",
       "    </tr>\n",
       "    <tr>\n",
       "      <th>4</th>\n",
       "      <td>645eb6b30a7f4a95813a5c0c</td>\n",
       "      <td>2010-10-28 15:30:57</td>\n",
       "      <td>keithwalsh1972</td>\n",
       "      <td>dxq3p</td>\n",
       "      <td>ireland</td>\n",
       "      <td>This shit just gets worse......\\n\\nWe are abou...</td>\n",
       "      <td>negative</td>\n",
       "      <td>negative</td>\n",
       "    </tr>\n",
       "  </tbody>\n",
       "</table>\n",
       "</div>"
      ],
      "text/plain": [
       "                        _id         created_utc          author post_id  \\\n",
       "0  645eb6b30a7f4a95813a22ea 2010-08-16 20:24:13         el-fish   d1uqp   \n",
       "1  645eb6b30a7f4a95813a22eb 2010-08-16 20:31:30         el-fish   d1uqp   \n",
       "2  645eb6b30a7f4a95813a22ec 2010-08-16 21:41:27       [deleted]   d1uqp   \n",
       "3  645eb6b30a7f4a95813a5c09 2010-10-28 14:35:06      chipsambos   dxq3p   \n",
       "4  645eb6b30a7f4a95813a5c0c 2010-10-28 15:30:57  keithwalsh1972   dxq3p   \n",
       "\n",
       "  subreddit                                               text  \\\n",
       "0   ireland  In detroit there are companies that deconstruc...   \n",
       "1   ireland  Messed up that submission. Ment to link to thi...   \n",
       "2   ireland  As a Canadian currently looking for work in Du...   \n",
       "3   ireland  From Michael Kennedy TD:\\n\\n28-Oct-2010\\n\\nA C...   \n",
       "4   ireland  This shit just gets worse......\\n\\nWe are abou...   \n",
       "\n",
       "  vader_prediction textblob_sentiment  \n",
       "0          neutral            neutral  \n",
       "1         negative            neutral  \n",
       "2         negative            neutral  \n",
       "3         negative           negative  \n",
       "4         negative           negative  "
      ]
     },
     "execution_count": 14,
     "metadata": {},
     "output_type": "execute_result"
    }
   ],
   "source": [
    "# Concat the Irish and European DFs, sort by the creation time and reset index to start from 0\n",
    "reddit_sentiment_df = pd.concat([irish_df, european_df]).sort_values(by=['created_utc']).reset_index(drop=True)\n",
    "reddit_sentiment_df.head()"
   ]
  },
  {
   "cell_type": "code",
   "execution_count": 15,
   "id": "60c78c05",
   "metadata": {},
   "outputs": [],
   "source": [
    "# Selecting rows that have common sentiment for Vader and Textblob\n",
    "reddit_common_sentiment_df = reddit_sentiment_df[reddit_sentiment_df['vader_prediction'] == reddit_sentiment_df['textblob_sentiment']].copy()\n",
    "\n",
    "# Rename column\n",
    "reddit_common_sentiment_df.rename(columns={\"vader_prediction\": \"sentiment\"}, inplace=True)\n",
    "\n",
    "# Add columns year and month\n",
    "reddit_common_sentiment_df['year'] = reddit_common_sentiment_df['created_utc'].dt.year\n",
    "reddit_common_sentiment_df['month'] = reddit_common_sentiment_df['created_utc'].dt.to_period('M')   #month.astype('str')\n",
    "# reddit_common_sentiment_df['day'] = reddit_common_sentiment_df['created_utc'].dt.day.astype('str')\n",
    "# reddit_common_sentiment_df['date'] = reddit_common_sentiment_df['created_utc'].dt.to_period('D')"
   ]
  },
  {
   "cell_type": "code",
   "execution_count": 16,
   "id": "106161fb",
   "metadata": {},
   "outputs": [
    {
     "data": {},
     "metadata": {},
     "output_type": "display_data"
    },
    {
     "data": {
      "application/vnd.holoviews_exec.v0+json": "",
      "text/html": [
       "<div id='1002'>\n",
       "  <div class=\"bk-root\" id=\"78f08b47-e29b-4922-b2ea-fdf5e643244b\" data-root-id=\"1002\"></div>\n",
       "</div>\n",
       "<script type=\"application/javascript\">(function(root) {\n",
       "  function embed_document(root) {\n",
       "    var docs_json = {\"664de62a-31d2-4c3c-9abe-f714f4930b33\":{\"defs\":[{\"extends\":null,\"module\":null,\"name\":\"ReactiveHTML1\",\"overrides\":[],\"properties\":[]},{\"extends\":null,\"module\":null,\"name\":\"FlexBox1\",\"overrides\":[],\"properties\":[{\"default\":\"flex-start\",\"kind\":null,\"name\":\"align_content\"},{\"default\":\"flex-start\",\"kind\":null,\"name\":\"align_items\"},{\"default\":\"row\",\"kind\":null,\"name\":\"flex_direction\"},{\"default\":\"wrap\",\"kind\":null,\"name\":\"flex_wrap\"},{\"default\":\"flex-start\",\"kind\":null,\"name\":\"justify_content\"}]},{\"extends\":null,\"module\":null,\"name\":\"GridStack1\",\"overrides\":[],\"properties\":[{\"default\":\"warn\",\"kind\":null,\"name\":\"mode\"},{\"default\":null,\"kind\":null,\"name\":\"ncols\"},{\"default\":null,\"kind\":null,\"name\":\"nrows\"},{\"default\":true,\"kind\":null,\"name\":\"allow_resize\"},{\"default\":true,\"kind\":null,\"name\":\"allow_drag\"},{\"default\":[],\"kind\":null,\"name\":\"state\"}]},{\"extends\":null,\"module\":null,\"name\":\"click1\",\"overrides\":[],\"properties\":[{\"default\":\"\",\"kind\":null,\"name\":\"terminal_output\"},{\"default\":\"\",\"kind\":null,\"name\":\"debug_name\"},{\"default\":0,\"kind\":null,\"name\":\"clears\"}]},{\"extends\":null,\"module\":null,\"name\":\"NotificationAreaBase1\",\"overrides\":[],\"properties\":[{\"default\":\"bottom-right\",\"kind\":null,\"name\":\"position\"},{\"default\":0,\"kind\":null,\"name\":\"_clear\"}]},{\"extends\":null,\"module\":null,\"name\":\"NotificationArea1\",\"overrides\":[],\"properties\":[{\"default\":[],\"kind\":null,\"name\":\"notifications\"},{\"default\":\"bottom-right\",\"kind\":null,\"name\":\"position\"},{\"default\":0,\"kind\":null,\"name\":\"_clear\"},{\"default\":[{\"background\":\"#ffc107\",\"icon\":{\"className\":\"fas fa-exclamation-triangle\",\"color\":\"white\",\"tagName\":\"i\"},\"type\":\"warning\"},{\"background\":\"#007bff\",\"icon\":{\"className\":\"fas fa-info-circle\",\"color\":\"white\",\"tagName\":\"i\"},\"type\":\"info\"}],\"kind\":null,\"name\":\"types\"}]},{\"extends\":null,\"module\":null,\"name\":\"Notification\",\"overrides\":[],\"properties\":[{\"default\":null,\"kind\":null,\"name\":\"background\"},{\"default\":3000,\"kind\":null,\"name\":\"duration\"},{\"default\":null,\"kind\":null,\"name\":\"icon\"},{\"default\":\"\",\"kind\":null,\"name\":\"message\"},{\"default\":null,\"kind\":null,\"name\":\"notification_type\"},{\"default\":false,\"kind\":null,\"name\":\"_destroyed\"}]},{\"extends\":null,\"module\":null,\"name\":\"TemplateActions1\",\"overrides\":[],\"properties\":[{\"default\":0,\"kind\":null,\"name\":\"open_modal\"},{\"default\":0,\"kind\":null,\"name\":\"close_modal\"}]},{\"extends\":null,\"module\":null,\"name\":\"MaterialTemplateActions1\",\"overrides\":[],\"properties\":[{\"default\":0,\"kind\":null,\"name\":\"open_modal\"},{\"default\":0,\"kind\":null,\"name\":\"close_modal\"}]}],\"roots\":{\"references\":[{\"attributes\":{\"source\":{\"id\":\"1175\"}},\"id\":\"1182\",\"type\":\"CDSView\"},{\"attributes\":{},\"id\":\"1066\",\"type\":\"Selection\"},{\"attributes\":{\"overlay\":{\"id\":\"1030\"}},\"id\":\"1028\",\"type\":\"BoxZoomTool\"},{\"attributes\":{\"data\":{\"count\":[4,4,1,18,32,70,69,78,128,104,120,92,61],\"sentiment\":[\"negative\",\"negative\",\"negative\",\"negative\",\"negative\",\"negative\",\"negative\",\"negative\",\"negative\",\"negative\",\"negative\",\"negative\",\"negative\"],\"year\":[2010,2012,2013,2014,2015,2016,2017,2018,2019,2020,2021,2022,2023]},\"selected\":{\"id\":\"1155\"},\"selection_policy\":{\"id\":\"1169\"}},\"id\":\"1154\",\"type\":\"ColumnDataSource\"},{\"attributes\":{},\"id\":\"1192\",\"type\":\"UnionRenderers\"},{\"attributes\":{},\"id\":\"1136\",\"type\":\"PanTool\"},{\"attributes\":{},\"id\":\"1150\",\"type\":\"AllLabels\"},{\"attributes\":{\"source\":{\"id\":\"1087\"}},\"id\":\"1094\",\"type\":\"CDSView\"},{\"attributes\":{\"line_alpha\":0.1,\"line_color\":\"#e5ae38\",\"line_width\":2,\"x\":{\"field\":\"year\"},\"y\":{\"field\":\"count\"}},\"id\":\"1201\",\"type\":\"Line\"},{\"attributes\":{},\"id\":\"1015\",\"type\":\"LinearScale\"},{\"attributes\":{\"axis\":{\"id\":\"1021\"},\"coordinates\":null,\"dimension\":1,\"grid_line_color\":null,\"group\":null,\"ticker\":null},\"id\":\"1024\",\"type\":\"Grid\"},{\"attributes\":{},\"id\":\"1082\",\"type\":\"UnionRenderers\"},{\"attributes\":{\"label\":{\"value\":\"neutral\"},\"renderers\":[{\"id\":\"1181\"}]},\"id\":\"1195\",\"type\":\"LegendItem\"},{\"attributes\":{\"data\":{\"count\":[2,2,5,19,6,96,63,110,484,972,585],\"sentiment\":[\"negative\",\"negative\",\"negative\",\"negative\",\"negative\",\"negative\",\"negative\",\"negative\",\"negative\",\"negative\",\"negative\"],\"year\":[2010,2014,2015,2016,2017,2018,2019,2020,2021,2022,2023]},\"selected\":{\"id\":\"1045\"},\"selection_policy\":{\"id\":\"1059\"}},\"id\":\"1044\",\"type\":\"ColumnDataSource\"},{\"attributes\":{\"line_color\":\"#fc4f30\",\"line_width\":2,\"x\":{\"field\":\"year\"},\"y\":{\"field\":\"count\"}},\"id\":\"1068\",\"type\":\"Line\"},{\"attributes\":{\"label\":{\"value\":\"positive\"},\"renderers\":[{\"id\":\"1203\"}]},\"id\":\"1219\",\"type\":\"LegendItem\"},{\"attributes\":{},\"id\":\"1153\",\"type\":\"AllLabels\"},{\"attributes\":{\"toolbars\":[{\"id\":\"1031\"},{\"id\":\"1141\"}],\"tools\":[{\"id\":\"1005\"},{\"id\":\"1025\"},{\"id\":\"1026\"},{\"id\":\"1027\"},{\"id\":\"1028\"},{\"id\":\"1029\"},{\"id\":\"1115\"},{\"id\":\"1135\"},{\"id\":\"1136\"},{\"id\":\"1137\"},{\"id\":\"1138\"},{\"id\":\"1139\"}]},\"id\":\"1256\",\"type\":\"ProxyToolbar\"},{\"attributes\":{},\"id\":\"1152\",\"type\":\"BasicTickFormatter\"},{\"attributes\":{},\"id\":\"1106\",\"type\":\"UnionRenderers\"},{\"attributes\":{},\"id\":\"1022\",\"type\":\"BasicTicker\"},{\"attributes\":{},\"id\":\"1149\",\"type\":\"BasicTickFormatter\"},{\"attributes\":{},\"id\":\"1135\",\"type\":\"SaveTool\"},{\"attributes\":{\"end\":2023.0,\"reset_end\":2023.0,\"reset_start\":2010.0,\"start\":2010.0,\"tags\":[[[\"year\",\"year\",null]]]},\"id\":\"1003\",\"type\":\"Range1d\"},{\"attributes\":{\"line_alpha\":0.2,\"line_color\":\"#fc4f30\",\"line_width\":2,\"x\":{\"field\":\"year\"},\"y\":{\"field\":\"count\"}},\"id\":\"1070\",\"type\":\"Line\"},{\"attributes\":{\"coordinates\":null,\"data_source\":{\"id\":\"1044\"},\"glyph\":{\"id\":\"1047\"},\"group\":null,\"hover_glyph\":null,\"muted_glyph\":{\"id\":\"1049\"},\"nonselection_glyph\":{\"id\":\"1048\"},\"selection_glyph\":{\"id\":\"1064\"},\"view\":{\"id\":\"1051\"}},\"id\":\"1050\",\"type\":\"GlyphRenderer\"},{\"attributes\":{\"toolbar\":{\"id\":\"1256\"},\"toolbar_location\":\"above\"},\"id\":\"1257\",\"type\":\"ToolbarBox\"},{\"attributes\":{\"source\":{\"id\":\"1065\"}},\"id\":\"1072\",\"type\":\"CDSView\"},{\"attributes\":{\"line_color\":\"#fc4f30\",\"line_width\":2,\"x\":{\"field\":\"year\"},\"y\":{\"field\":\"count\"}},\"id\":\"1196\",\"type\":\"Line\"},{\"attributes\":{},\"id\":\"1029\",\"type\":\"ResetTool\"},{\"attributes\":{\"line_alpha\":0.2,\"line_color\":\"#fc4f30\",\"line_width\":2,\"x\":{\"field\":\"year\"},\"y\":{\"field\":\"count\"}},\"id\":\"1180\",\"type\":\"Line\"},{\"attributes\":{\"axis\":{\"id\":\"1127\"},\"coordinates\":null,\"grid_line_color\":null,\"group\":null,\"ticker\":null},\"id\":\"1130\",\"type\":\"Grid\"},{\"attributes\":{\"label\":{\"value\":\"positive\"},\"renderers\":[{\"id\":\"1093\"}]},\"id\":\"1109\",\"type\":\"LegendItem\"},{\"attributes\":{\"bottom_units\":\"screen\",\"coordinates\":null,\"fill_alpha\":0.5,\"fill_color\":\"lightgrey\",\"group\":null,\"left_units\":\"screen\",\"level\":\"overlay\",\"line_alpha\":1.0,\"line_color\":\"black\",\"line_dash\":[4,4],\"line_width\":2,\"right_units\":\"screen\",\"syncable\":false,\"top_units\":\"screen\"},\"id\":\"1140\",\"type\":\"BoxAnnotation\"},{\"attributes\":{\"line_alpha\":0.1,\"line_color\":\"#30a2da\",\"line_width\":2,\"x\":{\"field\":\"year\"},\"y\":{\"field\":\"count\"}},\"id\":\"1158\",\"type\":\"Line\"},{\"attributes\":{\"line_alpha\":0.2,\"line_color\":\"#e5ae38\",\"line_width\":2,\"x\":{\"field\":\"year\"},\"y\":{\"field\":\"count\"}},\"id\":\"1092\",\"type\":\"Line\"},{\"attributes\":{\"end\":2293.4,\"reset_end\":2293.4,\"reset_start\":-207.4,\"start\":-207.4,\"tags\":[[[\"count\",\"count\",null]]]},\"id\":\"1004\",\"type\":\"Range1d\"},{\"attributes\":{\"coordinates\":null,\"data_source\":{\"id\":\"1175\"},\"glyph\":{\"id\":\"1178\"},\"group\":null,\"hover_glyph\":null,\"muted_glyph\":{\"id\":\"1180\"},\"nonselection_glyph\":{\"id\":\"1179\"},\"selection_glyph\":{\"id\":\"1196\"},\"view\":{\"id\":\"1182\"}},\"id\":\"1181\",\"type\":\"GlyphRenderer\"},{\"attributes\":{\"line_alpha\":0.1,\"line_color\":\"#fc4f30\",\"line_width\":2,\"x\":{\"field\":\"year\"},\"y\":{\"field\":\"count\"}},\"id\":\"1069\",\"type\":\"Line\"},{\"attributes\":{\"line_alpha\":0.2,\"line_color\":\"#e5ae38\",\"line_width\":2,\"x\":{\"field\":\"year\"},\"y\":{\"field\":\"count\"}},\"id\":\"1202\",\"type\":\"Line\"},{\"attributes\":{\"line_color\":\"#e5ae38\",\"line_width\":2,\"x\":{\"field\":\"year\"},\"y\":{\"field\":\"count\"}},\"id\":\"1110\",\"type\":\"Line\"},{\"attributes\":{},\"id\":\"1123\",\"type\":\"LinearScale\"},{\"attributes\":{\"bottom_units\":\"screen\",\"coordinates\":null,\"fill_alpha\":0.5,\"fill_color\":\"lightgrey\",\"group\":null,\"left_units\":\"screen\",\"level\":\"overlay\",\"line_alpha\":1.0,\"line_color\":\"black\",\"line_dash\":[4,4],\"line_width\":2,\"right_units\":\"screen\",\"syncable\":false,\"top_units\":\"screen\"},\"id\":\"1030\",\"type\":\"BoxAnnotation\"},{\"attributes\":{\"line_color\":\"#fc4f30\",\"line_width\":2,\"x\":{\"field\":\"year\"},\"y\":{\"field\":\"count\"}},\"id\":\"1086\",\"type\":\"Line\"},{\"attributes\":{},\"id\":\"1045\",\"type\":\"Selection\"},{\"attributes\":{\"coordinates\":null,\"data_source\":{\"id\":\"1065\"},\"glyph\":{\"id\":\"1068\"},\"group\":null,\"hover_glyph\":null,\"muted_glyph\":{\"id\":\"1070\"},\"nonselection_glyph\":{\"id\":\"1069\"},\"selection_glyph\":{\"id\":\"1086\"},\"view\":{\"id\":\"1072\"}},\"id\":\"1071\",\"type\":\"GlyphRenderer\"},{\"attributes\":{},\"id\":\"1176\",\"type\":\"Selection\"},{\"attributes\":{},\"id\":\"1042\",\"type\":\"BasicTickFormatter\"},{\"attributes\":{\"overlay\":{\"id\":\"1140\"}},\"id\":\"1138\",\"type\":\"BoxZoomTool\"},{\"attributes\":{\"line_alpha\":0.1,\"line_color\":\"#e5ae38\",\"line_width\":2,\"x\":{\"field\":\"year\"},\"y\":{\"field\":\"count\"}},\"id\":\"1091\",\"type\":\"Line\"},{\"attributes\":{\"source\":{\"id\":\"1154\"}},\"id\":\"1161\",\"type\":\"CDSView\"},{\"attributes\":{\"line_color\":\"#30a2da\",\"line_width\":2,\"x\":{\"field\":\"year\"},\"y\":{\"field\":\"count\"}},\"id\":\"1064\",\"type\":\"Line\"},{\"attributes\":{\"label\":{\"value\":\"neutral\"},\"renderers\":[{\"id\":\"1071\"}]},\"id\":\"1085\",\"type\":\"LegendItem\"},{\"attributes\":{},\"id\":\"1216\",\"type\":\"UnionRenderers\"},{\"attributes\":{\"axis_label\":\"year\",\"coordinates\":null,\"formatter\":{\"id\":\"1039\"},\"group\":null,\"major_label_policy\":{\"id\":\"1040\"},\"ticker\":{\"id\":\"1018\"}},\"id\":\"1017\",\"type\":\"LinearAxis\"},{\"attributes\":{},\"id\":\"1088\",\"type\":\"Selection\"},{\"attributes\":{\"line_alpha\":0.2,\"line_color\":\"#30a2da\",\"line_width\":2,\"x\":{\"field\":\"year\"},\"y\":{\"field\":\"count\"}},\"id\":\"1159\",\"type\":\"Line\"},{\"attributes\":{\"children\":[{\"id\":\"1258\"}],\"margin\":[0,0,0,0],\"name\":\"Row01073\",\"tags\":[\"embedded\"]},\"id\":\"1002\",\"type\":\"Row\"},{\"attributes\":{\"data\":{\"count\":[5,15,2,71,91,178,227,224,273,345,331,250,140],\"sentiment\":[\"neutral\",\"neutral\",\"neutral\",\"neutral\",\"neutral\",\"neutral\",\"neutral\",\"neutral\",\"neutral\",\"neutral\",\"neutral\",\"neutral\",\"neutral\"],\"year\":[2010,2012,2013,2014,2015,2016,2017,2018,2019,2020,2021,2022,2023]},\"selected\":{\"id\":\"1176\"},\"selection_policy\":{\"id\":\"1192\"}},\"id\":\"1175\",\"type\":\"ColumnDataSource\"},{\"attributes\":{},\"id\":\"1025\",\"type\":\"SaveTool\"},{\"attributes\":{\"line_color\":\"#fc4f30\",\"line_width\":2,\"x\":{\"field\":\"year\"},\"y\":{\"field\":\"count\"}},\"id\":\"1178\",\"type\":\"Line\"},{\"attributes\":{},\"id\":\"1043\",\"type\":\"AllLabels\"},{\"attributes\":{},\"id\":\"1139\",\"type\":\"ResetTool\"},{\"attributes\":{\"coordinates\":null,\"data_source\":{\"id\":\"1154\"},\"glyph\":{\"id\":\"1157\"},\"group\":null,\"hover_glyph\":null,\"muted_glyph\":{\"id\":\"1159\"},\"nonselection_glyph\":{\"id\":\"1158\"},\"selection_glyph\":{\"id\":\"1174\"},\"view\":{\"id\":\"1161\"}},\"id\":\"1160\",\"type\":\"GlyphRenderer\"},{\"attributes\":{\"click_policy\":\"mute\",\"coordinates\":null,\"group\":null,\"items\":[{\"id\":\"1063\"},{\"id\":\"1085\"},{\"id\":\"1109\"}],\"location\":\"top_left\",\"title\":\"sentiment\"},\"id\":\"1062\",\"type\":\"Legend\"},{\"attributes\":{\"coordinates\":null,\"group\":null,\"text_color\":\"black\",\"text_font_size\":\"12pt\"},\"id\":\"1009\",\"type\":\"Title\"},{\"attributes\":{\"active_drag\":{\"id\":\"1026\"},\"active_scroll\":{\"id\":\"1027\"},\"tools\":[{\"id\":\"1005\"},{\"id\":\"1025\"},{\"id\":\"1026\"},{\"id\":\"1027\"},{\"id\":\"1028\"},{\"id\":\"1029\"}]},\"id\":\"1031\",\"type\":\"Toolbar\"},{\"attributes\":{\"axis_label\":\"year\",\"coordinates\":null,\"formatter\":{\"id\":\"1149\"},\"group\":null,\"major_label_policy\":{\"id\":\"1150\"},\"ticker\":{\"id\":\"1128\"}},\"id\":\"1127\",\"type\":\"LinearAxis\"},{\"attributes\":{\"line_alpha\":0.1,\"line_color\":\"#fc4f30\",\"line_width\":2,\"x\":{\"field\":\"year\"},\"y\":{\"field\":\"count\"}},\"id\":\"1179\",\"type\":\"Line\"},{\"attributes\":{},\"id\":\"1059\",\"type\":\"UnionRenderers\"},{\"attributes\":{},\"id\":\"1039\",\"type\":\"BasicTickFormatter\"},{\"attributes\":{\"axis_label\":\"count\",\"coordinates\":null,\"formatter\":{\"id\":\"1152\"},\"group\":null,\"major_label_policy\":{\"id\":\"1153\"},\"ticker\":{\"id\":\"1132\"}},\"id\":\"1131\",\"type\":\"LinearAxis\"},{\"attributes\":{\"label\":{\"value\":\"negative\"},\"renderers\":[{\"id\":\"1160\"}]},\"id\":\"1173\",\"type\":\"LegendItem\"},{\"attributes\":{\"line_alpha\":0.2,\"line_color\":\"#30a2da\",\"line_width\":2,\"x\":{\"field\":\"year\"},\"y\":{\"field\":\"count\"}},\"id\":\"1049\",\"type\":\"Line\"},{\"attributes\":{\"data\":{\"count\":[7,5,2,57,80,154,196,199,218,260,298,204,124],\"sentiment\":[\"positive\",\"positive\",\"positive\",\"positive\",\"positive\",\"positive\",\"positive\",\"positive\",\"positive\",\"positive\",\"positive\",\"positive\",\"positive\"],\"year\":[2010,2012,2013,2014,2015,2016,2017,2018,2019,2020,2021,2022,2023]},\"selected\":{\"id\":\"1198\"},\"selection_policy\":{\"id\":\"1216\"}},\"id\":\"1197\",\"type\":\"ColumnDataSource\"},{\"attributes\":{\"coordinates\":null,\"group\":null,\"text_color\":\"black\",\"text_font_size\":\"12pt\"},\"id\":\"1119\",\"type\":\"Title\"},{\"attributes\":{\"line_color\":\"#e5ae38\",\"line_width\":2,\"x\":{\"field\":\"year\"},\"y\":{\"field\":\"count\"}},\"id\":\"1220\",\"type\":\"Line\"},{\"attributes\":{\"line_color\":\"#30a2da\",\"line_width\":2,\"x\":{\"field\":\"year\"},\"y\":{\"field\":\"count\"}},\"id\":\"1047\",\"type\":\"Line\"},{\"attributes\":{\"line_color\":\"#30a2da\",\"line_width\":2,\"x\":{\"field\":\"year\"},\"y\":{\"field\":\"count\"}},\"id\":\"1157\",\"type\":\"Line\"},{\"attributes\":{\"coordinates\":null,\"data_source\":{\"id\":\"1087\"},\"glyph\":{\"id\":\"1090\"},\"group\":null,\"hover_glyph\":null,\"muted_glyph\":{\"id\":\"1092\"},\"nonselection_glyph\":{\"id\":\"1091\"},\"selection_glyph\":{\"id\":\"1110\"},\"view\":{\"id\":\"1094\"}},\"id\":\"1093\",\"type\":\"GlyphRenderer\"},{\"attributes\":{\"line_color\":\"#e5ae38\",\"line_width\":2,\"x\":{\"field\":\"year\"},\"y\":{\"field\":\"count\"}},\"id\":\"1200\",\"type\":\"Line\"},{\"attributes\":{\"line_alpha\":0.1,\"line_color\":\"#30a2da\",\"line_width\":2,\"x\":{\"field\":\"year\"},\"y\":{\"field\":\"count\"}},\"id\":\"1048\",\"type\":\"Line\"},{\"attributes\":{},\"id\":\"1018\",\"type\":\"BasicTicker\"},{\"attributes\":{},\"id\":\"1169\",\"type\":\"UnionRenderers\"},{\"attributes\":{\"callback\":null,\"renderers\":[{\"id\":\"1160\"},{\"id\":\"1181\"},{\"id\":\"1203\"}],\"tags\":[\"hv_created\"],\"tooltips\":[[\"sentiment\",\"@{sentiment}\"],[\"year\",\"@{year}\"],[\"count\",\"@{count}\"]]},\"id\":\"1115\",\"type\":\"HoverTool\"},{\"attributes\":{\"axis\":{\"id\":\"1131\"},\"coordinates\":null,\"dimension\":1,\"grid_line_color\":null,\"group\":null,\"ticker\":null},\"id\":\"1134\",\"type\":\"Grid\"},{\"attributes\":{\"below\":[{\"id\":\"1017\"}],\"center\":[{\"id\":\"1020\"},{\"id\":\"1024\"},{\"id\":\"1062\"}],\"height\":300,\"left\":[{\"id\":\"1021\"}],\"margin\":null,\"min_border_bottom\":10,\"min_border_left\":10,\"min_border_right\":10,\"min_border_top\":10,\"renderers\":[{\"id\":\"1050\"},{\"id\":\"1071\"},{\"id\":\"1093\"}],\"sizing_mode\":\"fixed\",\"title\":{\"id\":\"1009\"},\"toolbar\":{\"id\":\"1031\"},\"toolbar_location\":null,\"width\":500,\"x_range\":{\"id\":\"1003\"},\"x_scale\":{\"id\":\"1013\"},\"y_range\":{\"id\":\"1004\"},\"y_scale\":{\"id\":\"1015\"}},\"id\":\"1008\",\"subtype\":\"Figure\",\"type\":\"Plot\"},{\"attributes\":{\"coordinates\":null,\"data_source\":{\"id\":\"1197\"},\"glyph\":{\"id\":\"1200\"},\"group\":null,\"hover_glyph\":null,\"muted_glyph\":{\"id\":\"1202\"},\"nonselection_glyph\":{\"id\":\"1201\"},\"selection_glyph\":{\"id\":\"1220\"},\"view\":{\"id\":\"1204\"}},\"id\":\"1203\",\"type\":\"GlyphRenderer\"},{\"attributes\":{},\"id\":\"1198\",\"type\":\"Selection\"},{\"attributes\":{\"line_color\":\"#30a2da\",\"line_width\":2,\"x\":{\"field\":\"year\"},\"y\":{\"field\":\"count\"}},\"id\":\"1174\",\"type\":\"Line\"},{\"attributes\":{},\"id\":\"1026\",\"type\":\"PanTool\"},{\"attributes\":{},\"id\":\"1128\",\"type\":\"BasicTicker\"},{\"attributes\":{\"children\":[[{\"id\":\"1008\"},0,0],[{\"id\":\"1118\"},0,1]]},\"id\":\"1255\",\"type\":\"GridBox\"},{\"attributes\":{\"label\":{\"value\":\"negative\"},\"renderers\":[{\"id\":\"1050\"}]},\"id\":\"1063\",\"type\":\"LegendItem\"},{\"attributes\":{\"axis\":{\"id\":\"1017\"},\"coordinates\":null,\"grid_line_color\":null,\"group\":null,\"ticker\":null},\"id\":\"1020\",\"type\":\"Grid\"},{\"attributes\":{\"children\":[{\"id\":\"1257\"},{\"id\":\"1255\"}]},\"id\":\"1258\",\"type\":\"Column\"},{\"attributes\":{},\"id\":\"1132\",\"type\":\"BasicTicker\"},{\"attributes\":{},\"id\":\"1027\",\"type\":\"WheelZoomTool\"},{\"attributes\":{\"active_drag\":{\"id\":\"1136\"},\"active_scroll\":{\"id\":\"1137\"},\"tools\":[{\"id\":\"1115\"},{\"id\":\"1135\"},{\"id\":\"1136\"},{\"id\":\"1137\"},{\"id\":\"1138\"},{\"id\":\"1139\"}]},\"id\":\"1141\",\"type\":\"Toolbar\"},{\"attributes\":{\"callback\":null,\"renderers\":[{\"id\":\"1050\"},{\"id\":\"1071\"},{\"id\":\"1093\"}],\"tags\":[\"hv_created\"],\"tooltips\":[[\"sentiment\",\"@{sentiment}\"],[\"year\",\"@{year}\"],[\"count\",\"@{count}\"]]},\"id\":\"1005\",\"type\":\"HoverTool\"},{\"attributes\":{\"data\":{\"count\":[16,40,56,49,138,113,207,1099,2085,1061],\"sentiment\":[\"positive\",\"positive\",\"positive\",\"positive\",\"positive\",\"positive\",\"positive\",\"positive\",\"positive\",\"positive\"],\"year\":[2014,2015,2016,2017,2018,2019,2020,2021,2022,2023]},\"selected\":{\"id\":\"1088\"},\"selection_policy\":{\"id\":\"1106\"}},\"id\":\"1087\",\"type\":\"ColumnDataSource\"},{\"attributes\":{\"source\":{\"id\":\"1044\"}},\"id\":\"1051\",\"type\":\"CDSView\"},{\"attributes\":{},\"id\":\"1040\",\"type\":\"AllLabels\"},{\"attributes\":{},\"id\":\"1137\",\"type\":\"WheelZoomTool\"},{\"attributes\":{\"click_policy\":\"mute\",\"coordinates\":null,\"group\":null,\"items\":[{\"id\":\"1173\"},{\"id\":\"1195\"},{\"id\":\"1219\"}],\"location\":\"top_left\",\"title\":\"sentiment\"},\"id\":\"1172\",\"type\":\"Legend\"},{\"attributes\":{\"source\":{\"id\":\"1197\"}},\"id\":\"1204\",\"type\":\"CDSView\"},{\"attributes\":{},\"id\":\"1125\",\"type\":\"LinearScale\"},{\"attributes\":{\"line_color\":\"#e5ae38\",\"line_width\":2,\"x\":{\"field\":\"year\"},\"y\":{\"field\":\"count\"}},\"id\":\"1090\",\"type\":\"Line\"},{\"attributes\":{},\"id\":\"1013\",\"type\":\"LinearScale\"},{\"attributes\":{},\"id\":\"1155\",\"type\":\"Selection\"},{\"attributes\":{\"axis_label\":\"count\",\"coordinates\":null,\"formatter\":{\"id\":\"1042\"},\"group\":null,\"major_label_policy\":{\"id\":\"1043\"},\"ticker\":{\"id\":\"1022\"}},\"id\":\"1021\",\"type\":\"LinearAxis\"},{\"attributes\":{\"below\":[{\"id\":\"1127\"}],\"center\":[{\"id\":\"1130\"},{\"id\":\"1134\"},{\"id\":\"1172\"}],\"height\":300,\"left\":[{\"id\":\"1131\"}],\"margin\":null,\"min_border_bottom\":10,\"min_border_left\":10,\"min_border_right\":10,\"min_border_top\":10,\"renderers\":[{\"id\":\"1160\"},{\"id\":\"1181\"},{\"id\":\"1203\"}],\"sizing_mode\":\"fixed\",\"title\":{\"id\":\"1119\"},\"toolbar\":{\"id\":\"1141\"},\"toolbar_location\":null,\"width\":500,\"x_range\":{\"id\":\"1003\"},\"x_scale\":{\"id\":\"1123\"},\"y_range\":{\"id\":\"1004\"},\"y_scale\":{\"id\":\"1125\"}},\"id\":\"1118\",\"subtype\":\"Figure\",\"type\":\"Plot\"},{\"attributes\":{\"data\":{\"count\":[2,6,16,58,36,115,91,132,716,1549,658],\"sentiment\":[\"neutral\",\"neutral\",\"neutral\",\"neutral\",\"neutral\",\"neutral\",\"neutral\",\"neutral\",\"neutral\",\"neutral\",\"neutral\"],\"year\":[2010,2014,2015,2016,2017,2018,2019,2020,2021,2022,2023]},\"selected\":{\"id\":\"1066\"},\"selection_policy\":{\"id\":\"1082\"}},\"id\":\"1065\",\"type\":\"ColumnDataSource\"}],\"root_ids\":[\"1002\"]},\"title\":\"Bokeh Application\",\"version\":\"2.4.3\"}};\n",
       "    var render_items = [{\"docid\":\"664de62a-31d2-4c3c-9abe-f714f4930b33\",\"root_ids\":[\"1002\"],\"roots\":{\"1002\":\"78f08b47-e29b-4922-b2ea-fdf5e643244b\"}}];\n",
       "    root.Bokeh.embed.embed_items_notebook(docs_json, render_items);\n",
       "    for (const render_item of render_items) {\n",
       "      for (const root_id of render_item.root_ids) {\n",
       "\tconst id_el = document.getElementById(root_id)\n",
       "\tif (id_el.children.length && (id_el.children[0].className === 'bk-root')) {\n",
       "\t  const root_el = id_el.children[0]\n",
       "\t  root_el.id = root_el.id + '-rendered'\n",
       "\t}\n",
       "      }\n",
       "    }\n",
       "  }\n",
       "  if (root.Bokeh !== undefined && root.Bokeh.Panel !== undefined) {\n",
       "    embed_document(root);\n",
       "  } else {\n",
       "    var attempts = 0;\n",
       "    var timer = setInterval(function(root) {\n",
       "      if (root.Bokeh !== undefined && root.Bokeh.Panel !== undefined) {\n",
       "        clearInterval(timer);\n",
       "        embed_document(root);\n",
       "      } else if (document.readyState == \"complete\") {\n",
       "        attempts++;\n",
       "        if (attempts > 200) {\n",
       "          clearInterval(timer);\n",
       "          console.log(\"Bokeh: ERROR: Unable to run BokehJS code because BokehJS library is missing\");\n",
       "        }\n",
       "      }\n",
       "    }, 25, root)\n",
       "  }\n",
       "})(window);</script>"
      ],
      "text/plain": [
       ":Layout\n",
       "   .NdOverlay.I  :NdOverlay   [sentiment]\n",
       "      :Curve   [year]   (count)\n",
       "   .NdOverlay.II :NdOverlay   [sentiment]\n",
       "      :Curve   [year]   (count)"
      ]
     },
     "execution_count": 16,
     "metadata": {
      "application/vnd.holoviews_exec.v0+json": {
       "id": "1002"
      }
     },
     "output_type": "execute_result"
    }
   ],
   "source": [
    "# Group the data in year level for quick comparision between Irish and European sentiment\n",
    "grouped_reddit_df = reddit_common_sentiment_df.groupby(['year', 'subreddit', 'sentiment']).size().reset_index(name=\"count\")\n",
    "\n",
    "# Plot the line charts for Irish and European datasets\n",
    "grouped_reddit_df[grouped_reddit_df['subreddit']=='ireland'].plot(x='year', y='count', by='sentiment', width=500, height=300).opts(legend_position='top_left') + \\\n",
    "grouped_reddit_df[grouped_reddit_df['subreddit']=='europe'].plot(x='year', y='count', by='sentiment', width=500, height=300).opts(legend_position='top_left')"
   ]
  },
  {
   "cell_type": "code",
   "execution_count": 17,
   "id": "b4a1bf7e",
   "metadata": {},
   "outputs": [
    {
     "data": {
      "text/html": [
       "<div>\n",
       "<style scoped>\n",
       "    .dataframe tbody tr th:only-of-type {\n",
       "        vertical-align: middle;\n",
       "    }\n",
       "\n",
       "    .dataframe tbody tr th {\n",
       "        vertical-align: top;\n",
       "    }\n",
       "\n",
       "    .dataframe thead th {\n",
       "        text-align: right;\n",
       "    }\n",
       "</style>\n",
       "<table border=\"1\" class=\"dataframe\">\n",
       "  <thead>\n",
       "    <tr style=\"text-align: right;\">\n",
       "      <th></th>\n",
       "      <th>year</th>\n",
       "      <th>month</th>\n",
       "      <th>sentiment</th>\n",
       "      <th>subreddit</th>\n",
       "      <th>count</th>\n",
       "    </tr>\n",
       "  </thead>\n",
       "  <tbody>\n",
       "    <tr>\n",
       "      <th>0</th>\n",
       "      <td>2010</td>\n",
       "      <td>2010-08</td>\n",
       "      <td>neutral</td>\n",
       "      <td>ireland</td>\n",
       "      <td>1</td>\n",
       "    </tr>\n",
       "    <tr>\n",
       "      <th>1</th>\n",
       "      <td>2010</td>\n",
       "      <td>2010-10</td>\n",
       "      <td>negative</td>\n",
       "      <td>ireland</td>\n",
       "      <td>2</td>\n",
       "    </tr>\n",
       "    <tr>\n",
       "      <th>2</th>\n",
       "      <td>2010</td>\n",
       "      <td>2010-10</td>\n",
       "      <td>neutral</td>\n",
       "      <td>ireland</td>\n",
       "      <td>1</td>\n",
       "    </tr>\n",
       "    <tr>\n",
       "      <th>3</th>\n",
       "      <td>2010</td>\n",
       "      <td>2010-12</td>\n",
       "      <td>negative</td>\n",
       "      <td>europe</td>\n",
       "      <td>4</td>\n",
       "    </tr>\n",
       "    <tr>\n",
       "      <th>4</th>\n",
       "      <td>2010</td>\n",
       "      <td>2010-12</td>\n",
       "      <td>neutral</td>\n",
       "      <td>europe</td>\n",
       "      <td>5</td>\n",
       "    </tr>\n",
       "  </tbody>\n",
       "</table>\n",
       "</div>"
      ],
      "text/plain": [
       "   year    month sentiment subreddit  count\n",
       "0  2010  2010-08   neutral   ireland      1\n",
       "1  2010  2010-10  negative   ireland      2\n",
       "2  2010  2010-10   neutral   ireland      1\n",
       "3  2010  2010-12  negative    europe      4\n",
       "4  2010  2010-12   neutral    europe      5"
      ]
     },
     "execution_count": 17,
     "metadata": {},
     "output_type": "execute_result"
    }
   ],
   "source": [
    "# Group the data in month level and get the size of each group for visualization afterwards\n",
    "grouped_reddit_df = reddit_common_sentiment_df.groupby(['year', 'month', 'sentiment', 'subreddit']).size().reset_index(name=\"count\")\n",
    "grouped_reddit_df.head()"
   ]
  },
  {
   "cell_type": "code",
   "execution_count": 18,
   "id": "5f855ea8",
   "metadata": {},
   "outputs": [
    {
     "data": {
      "text/plain": [
       "SentimentAnalysis(name='SentimentAnalysis01245', subreddit='ireland', year=2023)"
      ]
     },
     "execution_count": 18,
     "metadata": {},
     "output_type": "execute_result"
    }
   ],
   "source": [
    "# Class to be used by Panel\n",
    "class SentimentAnalysis(param.Parameterized):\n",
    "    df = grouped_reddit_df\n",
    "    # Dropdown for subreddits\n",
    "    subreddit = param.Selector(objects=list(df['subreddit'].unique()))\n",
    "    years = df['year'].unique()\n",
    "    # Define slider for Year\n",
    "    year  = param.Integer(default=2023, bounds=(int(years[0]), int(years[-1])))\n",
    "\n",
    "    # Function to plot sentiment\n",
    "    def plot_sentiment(self, x='month', y='count', hue='sentiment'):\n",
    "        # Filter the dataset with year and subreddit\n",
    "        data = self.df[(self.df['year']==self.year) & (self.df['subreddit']==self.subreddit)]\n",
    "        # Will use hvplot\n",
    "        return data.plot(x=x, y=y, by=hue)\n",
    "\n",
    "# Instantiating the class\n",
    "obj = SentimentAnalysis()\n",
    "obj"
   ]
  },
  {
   "cell_type": "code",
   "execution_count": 19,
   "id": "93fcc088",
   "metadata": {
    "scrolled": false
   },
   "outputs": [
    {
     "data": {},
     "metadata": {},
     "output_type": "display_data"
    },
    {
     "data": {},
     "metadata": {},
     "output_type": "display_data"
    },
    {
     "data": {
      "application/vnd.holoviews_exec.v0+json": "",
      "text/html": [
       "<div id='1428'>\n",
       "  <div class=\"bk-root\" id=\"7d828a13-aea5-42ea-9059-93975c381d35\" data-root-id=\"1428\"></div>\n",
       "</div>\n",
       "<script type=\"application/javascript\">(function(root) {\n",
       "  function embed_document(root) {\n",
       "    var docs_json = {\"d33bc7ec-7d21-4fcd-b86b-fc48360a5a83\":{\"defs\":[{\"extends\":null,\"module\":null,\"name\":\"ReactiveHTML1\",\"overrides\":[],\"properties\":[]},{\"extends\":null,\"module\":null,\"name\":\"FlexBox1\",\"overrides\":[],\"properties\":[{\"default\":\"flex-start\",\"kind\":null,\"name\":\"align_content\"},{\"default\":\"flex-start\",\"kind\":null,\"name\":\"align_items\"},{\"default\":\"row\",\"kind\":null,\"name\":\"flex_direction\"},{\"default\":\"wrap\",\"kind\":null,\"name\":\"flex_wrap\"},{\"default\":\"flex-start\",\"kind\":null,\"name\":\"justify_content\"}]},{\"extends\":null,\"module\":null,\"name\":\"GridStack1\",\"overrides\":[],\"properties\":[{\"default\":\"warn\",\"kind\":null,\"name\":\"mode\"},{\"default\":null,\"kind\":null,\"name\":\"ncols\"},{\"default\":null,\"kind\":null,\"name\":\"nrows\"},{\"default\":true,\"kind\":null,\"name\":\"allow_resize\"},{\"default\":true,\"kind\":null,\"name\":\"allow_drag\"},{\"default\":[],\"kind\":null,\"name\":\"state\"}]},{\"extends\":null,\"module\":null,\"name\":\"click1\",\"overrides\":[],\"properties\":[{\"default\":\"\",\"kind\":null,\"name\":\"terminal_output\"},{\"default\":\"\",\"kind\":null,\"name\":\"debug_name\"},{\"default\":0,\"kind\":null,\"name\":\"clears\"}]},{\"extends\":null,\"module\":null,\"name\":\"NotificationAreaBase1\",\"overrides\":[],\"properties\":[{\"default\":\"bottom-right\",\"kind\":null,\"name\":\"position\"},{\"default\":0,\"kind\":null,\"name\":\"_clear\"}]},{\"extends\":null,\"module\":null,\"name\":\"NotificationArea1\",\"overrides\":[],\"properties\":[{\"default\":[],\"kind\":null,\"name\":\"notifications\"},{\"default\":\"bottom-right\",\"kind\":null,\"name\":\"position\"},{\"default\":0,\"kind\":null,\"name\":\"_clear\"},{\"default\":[{\"background\":\"#ffc107\",\"icon\":{\"className\":\"fas fa-exclamation-triangle\",\"color\":\"white\",\"tagName\":\"i\"},\"type\":\"warning\"},{\"background\":\"#007bff\",\"icon\":{\"className\":\"fas fa-info-circle\",\"color\":\"white\",\"tagName\":\"i\"},\"type\":\"info\"}],\"kind\":null,\"name\":\"types\"}]},{\"extends\":null,\"module\":null,\"name\":\"Notification\",\"overrides\":[],\"properties\":[{\"default\":null,\"kind\":null,\"name\":\"background\"},{\"default\":3000,\"kind\":null,\"name\":\"duration\"},{\"default\":null,\"kind\":null,\"name\":\"icon\"},{\"default\":\"\",\"kind\":null,\"name\":\"message\"},{\"default\":null,\"kind\":null,\"name\":\"notification_type\"},{\"default\":false,\"kind\":null,\"name\":\"_destroyed\"}]},{\"extends\":null,\"module\":null,\"name\":\"TemplateActions1\",\"overrides\":[],\"properties\":[{\"default\":0,\"kind\":null,\"name\":\"open_modal\"},{\"default\":0,\"kind\":null,\"name\":\"close_modal\"}]},{\"extends\":null,\"module\":null,\"name\":\"MaterialTemplateActions1\",\"overrides\":[],\"properties\":[{\"default\":0,\"kind\":null,\"name\":\"open_modal\"},{\"default\":0,\"kind\":null,\"name\":\"close_modal\"}]}],\"roots\":{\"references\":[{\"attributes\":{},\"id\":\"1457\",\"type\":\"PanTool\"},{\"attributes\":{\"end\":2023,\"margin\":[5,10,5,10],\"start\":2010,\"title\":\"Year\",\"value\":2023},\"id\":\"1432\",\"type\":\"Slider\"},{\"attributes\":{\"mantissas\":[1,2,5],\"max_interval\":500.0,\"num_minor_ticks\":0},\"id\":\"1493\",\"type\":\"AdaptiveTicker\"},{\"attributes\":{},\"id\":\"1473\",\"type\":\"BasicTickFormatter\"},{\"attributes\":{\"coordinates\":null,\"group\":null,\"text_color\":\"black\",\"text_font_size\":\"12pt\"},\"id\":\"1440\",\"type\":\"Title\"},{\"attributes\":{},\"id\":\"1470\",\"type\":\"DatetimeTickFormatter\"},{\"attributes\":{},\"id\":\"1561\",\"type\":\"UnionRenderers\"},{\"attributes\":{\"data\":{\"count\":[332,184,200,304,41],\"month\":[1672531200000.0,1675209600000.0,1677628800000.0,1680307200000.0,1682899200000.0],\"sentiment\":[\"positive\",\"positive\",\"positive\",\"positive\",\"positive\"]},\"selected\":{\"id\":\"1543\"},\"selection_policy\":{\"id\":\"1561\"}},\"id\":\"1542\",\"type\":\"ColumnDataSource\"},{\"attributes\":{},\"id\":\"1525\",\"type\":\"UnionRenderers\"},{\"attributes\":{\"days\":[1,4,7,10,13,16,19,22,25,28]},\"id\":\"1497\",\"type\":\"DaysTicker\"},{\"attributes\":{\"line_color\":\"#e5ae38\",\"line_width\":2,\"x\":{\"field\":\"month\"},\"y\":{\"field\":\"count\"}},\"id\":\"1545\",\"type\":\"Line\"},{\"attributes\":{\"margin\":[5,10,5,10],\"options\":[[\"ireland\",\"ireland\"],[\"europe\",\"europe\"]],\"title\":\"Subreddit\",\"value\":\"ireland\"},\"id\":\"1431\",\"type\":\"panel.models.widgets.CustomSelect\"},{\"attributes\":{},\"id\":\"1474\",\"type\":\"AllLabels\"},{\"attributes\":{\"axis_label\":\"month\",\"coordinates\":null,\"formatter\":{\"id\":\"1470\"},\"group\":null,\"major_label_policy\":{\"id\":\"1471\"},\"ticker\":{\"id\":\"1449\"}},\"id\":\"1448\",\"type\":\"DatetimeAxis\"},{\"attributes\":{\"axis_label\":\"count\",\"coordinates\":null,\"formatter\":{\"id\":\"1473\"},\"group\":null,\"major_label_policy\":{\"id\":\"1474\"},\"ticker\":{\"id\":\"1453\"}},\"id\":\"1452\",\"type\":\"LinearAxis\"},{\"attributes\":{\"days\":[1,15]},\"id\":\"1499\",\"type\":\"DaysTicker\"},{\"attributes\":{\"line_alpha\":0.2,\"line_color\":\"#30a2da\",\"line_width\":2,\"x\":{\"field\":\"month\"},\"y\":{\"field\":\"count\"}},\"id\":\"1480\",\"type\":\"Line\"},{\"attributes\":{\"source\":{\"id\":\"1475\"}},\"id\":\"1482\",\"type\":\"CDSView\"},{\"attributes\":{},\"id\":\"1444\",\"type\":\"LinearScale\"},{\"attributes\":{\"axis\":{\"id\":\"1452\"},\"coordinates\":null,\"dimension\":1,\"grid_line_color\":null,\"group\":null,\"ticker\":null},\"id\":\"1455\",\"type\":\"Grid\"},{\"attributes\":{\"label\":{\"value\":\"neutral\"},\"renderers\":[{\"id\":\"1514\"}]},\"id\":\"1540\",\"type\":\"LegendItem\"},{\"attributes\":{\"data\":{\"count\":[176,109,84,197,19],\"month\":[1672531200000.0,1675209600000.0,1677628800000.0,1680307200000.0,1682899200000.0],\"sentiment\":[\"negative\",\"negative\",\"negative\",\"negative\",\"negative\"]},\"selected\":{\"id\":\"1476\"},\"selection_policy\":{\"id\":\"1490\"}},\"id\":\"1475\",\"type\":\"ColumnDataSource\"},{\"attributes\":{\"source\":{\"id\":\"1508\"}},\"id\":\"1515\",\"type\":\"CDSView\"},{\"attributes\":{\"months\":[0,6]},\"id\":\"1503\",\"type\":\"MonthsTicker\"},{\"attributes\":{\"label\":{\"value\":\"negative\"},\"renderers\":[{\"id\":\"1481\"}]},\"id\":\"1506\",\"type\":\"LegendItem\"},{\"attributes\":{},\"id\":\"1490\",\"type\":\"UnionRenderers\"},{\"attributes\":{},\"id\":\"1458\",\"type\":\"WheelZoomTool\"},{\"attributes\":{\"base\":60,\"mantissas\":[1,2,5,10,15,20,30],\"max_interval\":1800000.0,\"min_interval\":1000.0,\"num_minor_ticks\":0},\"id\":\"1494\",\"type\":\"AdaptiveTicker\"},{\"attributes\":{\"line_alpha\":0.1,\"line_color\":\"#30a2da\",\"line_width\":2,\"x\":{\"field\":\"month\"},\"y\":{\"field\":\"count\"}},\"id\":\"1479\",\"type\":\"Line\"},{\"attributes\":{\"margin\":[5,10,5,10],\"name\":\"\",\"text\":\"<b>SentimentAnalysis</b>\"},\"id\":\"1430\",\"type\":\"Div\"},{\"attributes\":{\"bottom_units\":\"screen\",\"coordinates\":null,\"fill_alpha\":0.5,\"fill_color\":\"lightgrey\",\"group\":null,\"left_units\":\"screen\",\"level\":\"overlay\",\"line_alpha\":1.0,\"line_color\":\"black\",\"line_dash\":[4,4],\"line_width\":2,\"right_units\":\"screen\",\"syncable\":false,\"top_units\":\"screen\"},\"id\":\"1461\",\"type\":\"BoxAnnotation\"},{\"attributes\":{\"months\":[0,2,4,6,8,10]},\"id\":\"1501\",\"type\":\"MonthsTicker\"},{\"attributes\":{\"line_color\":\"#30a2da\",\"line_width\":2,\"x\":{\"field\":\"month\"},\"y\":{\"field\":\"count\"}},\"id\":\"1478\",\"type\":\"Line\"},{\"attributes\":{\"click_policy\":\"mute\",\"coordinates\":null,\"group\":null,\"items\":[{\"id\":\"1506\"},{\"id\":\"1540\"},{\"id\":\"1576\"}],\"location\":[0,0],\"title\":\"sentiment\"},\"id\":\"1505\",\"type\":\"Legend\"},{\"attributes\":{\"months\":[0,1,2,3,4,5,6,7,8,9,10,11]},\"id\":\"1500\",\"type\":\"MonthsTicker\"},{\"attributes\":{},\"id\":\"1453\",\"type\":\"BasicTicker\"},{\"attributes\":{\"client_comm_id\":\"341bc72e28374af8873642eaee4195f2\",\"comm_id\":\"1ff798ad66aa4f099dbdbab904e0351b\",\"plot_id\":\"1428\"},\"id\":\"1686\",\"type\":\"panel.models.comm_manager.CommManager\"},{\"attributes\":{\"children\":[{\"id\":\"1439\"}],\"margin\":[0,0,0,0],\"name\":\"Row01258\",\"sizing_mode\":\"fixed\"},\"id\":\"1433\",\"type\":\"Row\"},{\"attributes\":{\"coordinates\":null,\"data_source\":{\"id\":\"1542\"},\"glyph\":{\"id\":\"1545\"},\"group\":null,\"hover_glyph\":null,\"muted_glyph\":{\"id\":\"1547\"},\"nonselection_glyph\":{\"id\":\"1546\"},\"selection_glyph\":{\"id\":\"1577\"},\"view\":{\"id\":\"1549\"}},\"id\":\"1548\",\"type\":\"GlyphRenderer\"},{\"attributes\":{\"line_alpha\":0.1,\"line_color\":\"#fc4f30\",\"line_width\":2,\"x\":{\"field\":\"month\"},\"y\":{\"field\":\"count\"}},\"id\":\"1512\",\"type\":\"Line\"},{\"attributes\":{\"months\":[0,4,8]},\"id\":\"1502\",\"type\":\"MonthsTicker\"},{\"attributes\":{\"end\":1682899200000.0,\"reset_end\":1682899200000.0,\"reset_start\":1672531200000.0,\"start\":1672531200000.0,\"tags\":[[[\"month\",\"month\",null]]]},\"id\":\"1434\",\"type\":\"Range1d\"},{\"attributes\":{\"line_alpha\":0.2,\"line_color\":\"#e5ae38\",\"line_width\":2,\"x\":{\"field\":\"month\"},\"y\":{\"field\":\"count\"}},\"id\":\"1547\",\"type\":\"Line\"},{\"attributes\":{\"coordinates\":null,\"data_source\":{\"id\":\"1475\"},\"glyph\":{\"id\":\"1478\"},\"group\":null,\"hover_glyph\":null,\"muted_glyph\":{\"id\":\"1480\"},\"nonselection_glyph\":{\"id\":\"1479\"},\"selection_glyph\":{\"id\":\"1507\"},\"view\":{\"id\":\"1482\"}},\"id\":\"1481\",\"type\":\"GlyphRenderer\"},{\"attributes\":{},\"id\":\"1446\",\"type\":\"LinearScale\"},{\"attributes\":{\"line_color\":\"#fc4f30\",\"line_width\":2,\"x\":{\"field\":\"month\"},\"y\":{\"field\":\"count\"}},\"id\":\"1541\",\"type\":\"Line\"},{\"attributes\":{\"children\":[{\"id\":\"1430\"},{\"id\":\"1431\"},{\"id\":\"1432\"}],\"margin\":[5,5,5,5],\"min_width\":300,\"name\":\"SentimentAnalysis\",\"width\":300},\"id\":\"1429\",\"type\":\"Column\"},{\"attributes\":{\"data\":{\"count\":[181,114,168,156,39],\"month\":[1672531200000.0,1675209600000.0,1677628800000.0,1680307200000.0,1682899200000.0],\"sentiment\":[\"neutral\",\"neutral\",\"neutral\",\"neutral\",\"neutral\"]},\"selected\":{\"id\":\"1509\"},\"selection_policy\":{\"id\":\"1525\"}},\"id\":\"1508\",\"type\":\"ColumnDataSource\"},{\"attributes\":{},\"id\":\"1456\",\"type\":\"SaveTool\"},{\"attributes\":{\"line_color\":\"#30a2da\",\"line_width\":2,\"x\":{\"field\":\"month\"},\"y\":{\"field\":\"count\"}},\"id\":\"1507\",\"type\":\"Line\"},{\"attributes\":{\"days\":[1,8,15,22]},\"id\":\"1498\",\"type\":\"DaysTicker\"},{\"attributes\":{\"end\":363.3,\"reset_end\":363.3,\"reset_start\":-12.3,\"start\":-12.3,\"tags\":[[[\"count\",\"count\",null]]]},\"id\":\"1435\",\"type\":\"Range1d\"},{\"attributes\":{\"num_minor_ticks\":5,\"tickers\":[{\"id\":\"1493\"},{\"id\":\"1494\"},{\"id\":\"1495\"},{\"id\":\"1496\"},{\"id\":\"1497\"},{\"id\":\"1498\"},{\"id\":\"1499\"},{\"id\":\"1500\"},{\"id\":\"1501\"},{\"id\":\"1502\"},{\"id\":\"1503\"},{\"id\":\"1504\"}]},\"id\":\"1449\",\"type\":\"DatetimeTicker\"},{\"attributes\":{\"source\":{\"id\":\"1542\"}},\"id\":\"1549\",\"type\":\"CDSView\"},{\"attributes\":{\"coordinates\":null,\"data_source\":{\"id\":\"1508\"},\"glyph\":{\"id\":\"1511\"},\"group\":null,\"hover_glyph\":null,\"muted_glyph\":{\"id\":\"1513\"},\"nonselection_glyph\":{\"id\":\"1512\"},\"selection_glyph\":{\"id\":\"1541\"},\"view\":{\"id\":\"1515\"}},\"id\":\"1514\",\"type\":\"GlyphRenderer\"},{\"attributes\":{},\"id\":\"1509\",\"type\":\"Selection\"},{\"attributes\":{},\"id\":\"1476\",\"type\":\"Selection\"},{\"attributes\":{\"line_color\":\"#e5ae38\",\"line_width\":2,\"x\":{\"field\":\"month\"},\"y\":{\"field\":\"count\"}},\"id\":\"1577\",\"type\":\"Line\"},{\"attributes\":{\"line_color\":\"#fc4f30\",\"line_width\":2,\"x\":{\"field\":\"month\"},\"y\":{\"field\":\"count\"}},\"id\":\"1511\",\"type\":\"Line\"},{\"attributes\":{},\"id\":\"1504\",\"type\":\"YearsTicker\"},{\"attributes\":{\"axis\":{\"id\":\"1448\"},\"coordinates\":null,\"grid_line_color\":null,\"group\":null,\"ticker\":null},\"id\":\"1451\",\"type\":\"Grid\"},{\"attributes\":{\"children\":[{\"id\":\"1429\"},{\"id\":\"1433\"}],\"margin\":[0,0,0,0],\"name\":\"Row01397\"},\"id\":\"1428\",\"type\":\"Row\"},{\"attributes\":{\"label\":{\"value\":\"positive\"},\"renderers\":[{\"id\":\"1548\"}]},\"id\":\"1576\",\"type\":\"LegendItem\"},{\"attributes\":{\"callback\":null,\"formatters\":{\"@{month}\":\"datetime\"},\"renderers\":[{\"id\":\"1481\"},{\"id\":\"1514\"},{\"id\":\"1548\"}],\"tags\":[\"hv_created\"],\"tooltips\":[[\"sentiment\",\"@{sentiment}\"],[\"month\",\"@{month}{%F %T}\"],[\"count\",\"@{count}\"]]},\"id\":\"1436\",\"type\":\"HoverTool\"},{\"attributes\":{},\"id\":\"1543\",\"type\":\"Selection\"},{\"attributes\":{\"overlay\":{\"id\":\"1461\"}},\"id\":\"1459\",\"type\":\"BoxZoomTool\"},{\"attributes\":{\"base\":24,\"mantissas\":[1,2,4,6,8,12],\"max_interval\":43200000.0,\"min_interval\":3600000.0,\"num_minor_ticks\":0},\"id\":\"1495\",\"type\":\"AdaptiveTicker\"},{\"attributes\":{},\"id\":\"1471\",\"type\":\"AllLabels\"},{\"attributes\":{\"line_alpha\":0.1,\"line_color\":\"#e5ae38\",\"line_width\":2,\"x\":{\"field\":\"month\"},\"y\":{\"field\":\"count\"}},\"id\":\"1546\",\"type\":\"Line\"},{\"attributes\":{},\"id\":\"1460\",\"type\":\"ResetTool\"},{\"attributes\":{\"active_drag\":{\"id\":\"1457\"},\"active_scroll\":{\"id\":\"1458\"},\"tools\":[{\"id\":\"1436\"},{\"id\":\"1456\"},{\"id\":\"1457\"},{\"id\":\"1458\"},{\"id\":\"1459\"},{\"id\":\"1460\"}]},\"id\":\"1462\",\"type\":\"Toolbar\"},{\"attributes\":{\"line_alpha\":0.2,\"line_color\":\"#fc4f30\",\"line_width\":2,\"x\":{\"field\":\"month\"},\"y\":{\"field\":\"count\"}},\"id\":\"1513\",\"type\":\"Line\"},{\"attributes\":{\"days\":[1,2,3,4,5,6,7,8,9,10,11,12,13,14,15,16,17,18,19,20,21,22,23,24,25,26,27,28,29,30,31]},\"id\":\"1496\",\"type\":\"DaysTicker\"},{\"attributes\":{\"below\":[{\"id\":\"1448\"}],\"center\":[{\"id\":\"1451\"},{\"id\":\"1455\"}],\"height\":300,\"left\":[{\"id\":\"1452\"}],\"margin\":[5,5,5,5],\"min_border_bottom\":10,\"min_border_left\":10,\"min_border_right\":10,\"min_border_top\":10,\"name\":\"ParamMethod01254\",\"renderers\":[{\"id\":\"1481\"},{\"id\":\"1514\"},{\"id\":\"1548\"}],\"right\":[{\"id\":\"1505\"}],\"sizing_mode\":\"fixed\",\"title\":{\"id\":\"1440\"},\"toolbar\":{\"id\":\"1462\"},\"width\":700,\"x_range\":{\"id\":\"1434\"},\"x_scale\":{\"id\":\"1444\"},\"y_range\":{\"id\":\"1435\"},\"y_scale\":{\"id\":\"1446\"}},\"id\":\"1439\",\"subtype\":\"Figure\",\"type\":\"Plot\"}],\"root_ids\":[\"1428\",\"1686\"]},\"title\":\"Bokeh Application\",\"version\":\"2.4.3\"}};\n",
       "    var render_items = [{\"docid\":\"d33bc7ec-7d21-4fcd-b86b-fc48360a5a83\",\"root_ids\":[\"1428\"],\"roots\":{\"1428\":\"7d828a13-aea5-42ea-9059-93975c381d35\"}}];\n",
       "    root.Bokeh.embed.embed_items_notebook(docs_json, render_items);\n",
       "    for (const render_item of render_items) {\n",
       "      for (const root_id of render_item.root_ids) {\n",
       "\tconst id_el = document.getElementById(root_id)\n",
       "\tif (id_el.children.length && (id_el.children[0].className === 'bk-root')) {\n",
       "\t  const root_el = id_el.children[0]\n",
       "\t  root_el.id = root_el.id + '-rendered'\n",
       "\t}\n",
       "      }\n",
       "    }\n",
       "  }\n",
       "  if (root.Bokeh !== undefined && root.Bokeh.Panel !== undefined) {\n",
       "    embed_document(root);\n",
       "  } else {\n",
       "    var attempts = 0;\n",
       "    var timer = setInterval(function(root) {\n",
       "      if (root.Bokeh !== undefined && root.Bokeh.Panel !== undefined) {\n",
       "        clearInterval(timer);\n",
       "        embed_document(root);\n",
       "      } else if (document.readyState == \"complete\") {\n",
       "        attempts++;\n",
       "        if (attempts > 200) {\n",
       "          clearInterval(timer);\n",
       "          console.log(\"Bokeh: ERROR: Unable to run BokehJS code because BokehJS library is missing\");\n",
       "        }\n",
       "      }\n",
       "    }, 25, root)\n",
       "  }\n",
       "})(window);</script>"
      ],
      "text/plain": [
       "Row\n",
       "    [0] Column(margin=5, name='SentimentAnalysis', width=300)\n",
       "        [0] StaticText(value='<b>SentimentAnalysis</b>'...)\n",
       "        [1] Select(name='Subreddit', options=OrderedDict([('ireland', ...]), value='ireland')\n",
       "        [2] IntSlider(end=2023, name='Year', start=2010, value=2023)\n",
       "    [1] ParamMethod(method, _pane=HoloViews)"
      ]
     },
     "execution_count": 19,
     "metadata": {
      "application/vnd.holoviews_exec.v0+json": {
       "id": "1428"
      }
     },
     "output_type": "execute_result"
    }
   ],
   "source": [
    "# Display the panel\n",
    "pn.Row(obj.param, obj.plot_sentiment)"
   ]
  },
  {
   "cell_type": "code",
   "execution_count": null,
   "id": "018a3a53",
   "metadata": {},
   "outputs": [],
   "source": []
  }
 ],
 "metadata": {
  "kernelspec": {
   "display_name": "Python 3 (ipykernel)",
   "language": "python",
   "name": "python3"
  },
  "language_info": {
   "codemirror_mode": {
    "name": "ipython",
    "version": 3
   },
   "file_extension": ".py",
   "mimetype": "text/x-python",
   "name": "python",
   "nbconvert_exporter": "python",
   "pygments_lexer": "ipython3",
   "version": "3.10.9"
  }
 },
 "nbformat": 4,
 "nbformat_minor": 5
}
