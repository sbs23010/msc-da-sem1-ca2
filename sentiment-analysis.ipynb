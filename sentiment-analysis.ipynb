{
 "cells": [
  {
   "cell_type": "code",
   "execution_count": 67,
   "id": "a6e73ca0",
   "metadata": {},
   "outputs": [
    {
     "name": "stderr",
     "output_type": "stream",
     "text": [
      "[nltk_data] Downloading package stopwords to\n",
      "[nltk_data]     /Users/bsajjan/nltk_data...\n",
      "[nltk_data]   Package stopwords is already up-to-date!\n"
     ]
    }
   ],
   "source": [
    "from dotenv import load_dotenv\n",
    "# Library that has a lot of operating system functions\n",
    "from os import getenv\n",
    "import requests\n",
    "import time\n",
    "\n",
    "import pandas as pd\n",
    "import seaborn as sns\n",
    "import matplotlib.pyplot as plt\n",
    "\n",
    "import nltk\n",
    "from nltk.corpus import stopwords\n",
    "nltk.download('stopwords')\n",
    "\n",
    "import string\n",
    "from nltk.stem import PorterStemmer\n",
    "from nltk.sentiment.vader import SentimentIntensityAnalyzer\n",
    "from sklearn.feature_extraction.text import TfidfVectorizer\n",
    "from sklearn.cluster import KMeans\n",
    "from sklearn.decomposition import PCA\n",
    "import re\n",
    "\n",
    "import pymongo\n",
    "import json"
   ]
  },
  {
   "cell_type": "code",
   "execution_count": 2,
   "id": "2eda75db",
   "metadata": {},
   "outputs": [],
   "source": [
    "# Load from the .env\n",
    "load_dotenv()\n",
    "\n",
    "# Get the Reddit credentials from environmental variables\n",
    "APP_NAME = getenv('APP_NAME')\n",
    "APP_ID = getenv(\"APP_ID\")\n",
    "APP_SECRET = getenv(\"APP_SECRET\")\n",
    "USERNAME = getenv('REDDIT_USERNAME')\n",
    "PASSWORD = getenv('PASSWORD')"
   ]
  },
  {
   "cell_type": "code",
   "execution_count": 3,
   "id": "29c06a02",
   "metadata": {},
   "outputs": [
    {
     "name": "stdout",
     "output_type": "stream",
     "text": [
      "Credentials loaded\n"
     ]
    }
   ],
   "source": [
    "# Check that the variables all loaded\n",
    "if APP_NAME and APP_ID and APP_SECRET and USERNAME and PASSWORD:\n",
    "    print(\"Credentials loaded\")\n",
    "else:\n",
    "    print(\"ERROR: Credentials not loaded!!\")"
   ]
  },
  {
   "cell_type": "code",
   "execution_count": 4,
   "id": "dd67f890",
   "metadata": {},
   "outputs": [
    {
     "data": {
      "text/plain": [
       "<Response [200]>"
      ]
     },
     "execution_count": 4,
     "metadata": {},
     "output_type": "execute_result"
    }
   ],
   "source": [
    "# Sets up the authentication part of the request\n",
    "auth = requests.auth.HTTPBasicAuth(f'{APP_ID}', f'{APP_SECRET}')\n",
    "\n",
    "# Sets up the data we want to send: our login method (password), username, and password\n",
    "data = {'grant_type': 'password',\n",
    "        'username': f'{USERNAME}',\n",
    "        'password': f'{PASSWORD}'}\n",
    "\n",
    "# Sets up this requests header info, which gives reddit a brief description of our app\n",
    "# This is the format requested by Reddit: os:app_name:version (by /u/username)\n",
    "headers = {'User-Agent': f'macos:{APP_NAME}:v1.0 (by /u/{USERNAME})'}\n",
    "\n",
    "# Makes the request to the access_token api endpoint, and saves the response in res\n",
    "res = requests.post('https://www.reddit.com/api/v1/access_token',\n",
    "                    auth=auth, data=data, headers=headers)\n",
    "\n",
    "# Converts response to JSON and pull access_token value\n",
    "TOKEN = res.json()['access_token']\n",
    "\n",
    "# Adds authorisation to our headers dictionary\n",
    "headers = {**headers, **{'Authorization': f\"bearer {TOKEN}\"}}\n",
    "\n",
    "# While the token is valid (~2 hours) we can just add headers=headers to our requests to prove authentication\n",
    "# Making a test request. <Response [200]> means that it was a success!\n",
    "requests.get('https://oauth.reddit.com/api/v1/me', headers=headers)"
   ]
  },
  {
   "cell_type": "markdown",
   "id": "ace49f6e",
   "metadata": {},
   "source": [
    "### Creating Functions for reusability\n",
    "After writing the code lines one-by-one and verifying the correctness, organizing the code into functions for better reusuability and correctness."
   ]
  },
  {
   "cell_type": "code",
   "execution_count": 5,
   "id": "77c83e22",
   "metadata": {},
   "outputs": [],
   "source": [
    "# Function to search Reddit posts\n",
    "def search_reddit(subreddit, keyword):\n",
    "    # Searching for a keyword within sub-reddit for last 1 year and sort by comments\n",
    "    # https://www.reddit.com/dev/api#GET_search\n",
    "    params = {'limit': 100, 'restrict_sr': 1, 'sr_nsfw': 1, 't': 'all', 'sort': 'comments'}\n",
    "    search_results = []\n",
    "\n",
    "    for i in range(100):\n",
    "        res = requests.get(\n",
    "            f\"https://oauth.reddit.com/r/{subreddit}/search?q={keyword}\",\n",
    "            headers=headers,\n",
    "            params=params\n",
    "        )\n",
    "\n",
    "        results = res.json()['data']['children']\n",
    "        search_results.extend(results)\n",
    "\n",
    "        # Get the ID of last post and start next search after it\n",
    "        try:\n",
    "            fullname = f\"{results[-1]['kind']}_{results[-1]['data']['id']}\"\n",
    "            # This tells the API that the post we want is the one after the current one in the queue (ie is the next oldest one).\n",
    "            params['after'] = fullname\n",
    "            # Sleeping for 1 second to not exceed Reddit's API limits\n",
    "            time.sleep(1)\n",
    "        except:\n",
    "            print(f\"No search results after last result ID: {params['after']}\")\n",
    "            break\n",
    "\n",
    "    # Total search results for the keyword\n",
    "    print(f\"Search results: {len(search_results)}\")\n",
    "    return get_comments_for_posts(search_results)\n",
    "\n",
    "\n",
    "# Function to get comments/replies for each post\n",
    "def get_comments_for_posts(search_results):\n",
    "    # Define a list to store all the post and comment responses\n",
    "    comments = []\n",
    "    for post in search_results:\n",
    "        # Get comments for each post\n",
    "        res = requests.get(\n",
    "            f\"https://oauth.reddit.com{post['data']['permalink']}\",\n",
    "            headers=headers\n",
    "        )\n",
    "        # Add the retreived post body\n",
    "        post = res.json()[0]['data']['children'][0]['data']\n",
    "        replies = res.json()[1]['data']['children']\n",
    "        comments.append({'created_utc': post['created_utc'],\n",
    "                      'author': post['author'],\n",
    "                      'post_id': post['id'],\n",
    "                      'subreddit': post['subreddit'],\n",
    "                     'text': post['selftext']})\n",
    "        # Add the retreived comments to \"comments\" list\n",
    "        # Loop through the comments and extract the reply bodies\n",
    "        for comment in replies:\n",
    "            reply_bodies = extract_reply_body(comment)\n",
    "            if reply_bodies:\n",
    "                comments.append(reply_bodies)\n",
    "        \n",
    "        # Sleeping for 0.1 second to not exceed Reddit's API limits\n",
    "        time.sleep(0.1)\n",
    "\n",
    "    print(f\"Total comments retreived: {len(comments)}\")\n",
    "    return comments\n",
    "    \n",
    "# Define a function to extract the reply body from a comment or a reply\n",
    "# It takes reply as input and returns its body or list of bodies\n",
    "def extract_reply_body(reply):\n",
    "    if reply['kind'] == 't1':\n",
    "        # If the reply is a comment, extract the comment body\n",
    "        return {\n",
    "            'created_utc': reply['data']['created'],\n",
    "            'author': reply['data']['author'],\n",
    "            'post_id': reply['data']['link_id'].split('_')[1],\n",
    "            'subreddit': reply['data']['subreddit'],\n",
    "            'text': reply['data']['body']\n",
    "        }\n",
    "    elif reply['kind'] == 'Listing':\n",
    "        # If the reply is a listing of replies, traverse the listing and extract the reply bodies\n",
    "        reply_bodies = []\n",
    "        for child in reply['data']['children']:\n",
    "            reply_body = extract_reply_body(child)\n",
    "            if reply_body:\n",
    "                reply_bodies.append(reply_body)\n",
    "        return reply_bodies"
   ]
  },
  {
   "cell_type": "code",
   "execution_count": 6,
   "id": "a3b7de1a",
   "metadata": {},
   "outputs": [
    {
     "name": "stdout",
     "output_type": "stream",
     "text": [
      "No search results after last result ID: t3_rtkitj\n",
      "Search results: 131\n",
      "Total comments retreived: 1789\n"
     ]
    },
    {
     "data": {
      "text/html": [
       "<div>\n",
       "<style scoped>\n",
       "    .dataframe tbody tr th:only-of-type {\n",
       "        vertical-align: middle;\n",
       "    }\n",
       "\n",
       "    .dataframe tbody tr th {\n",
       "        vertical-align: top;\n",
       "    }\n",
       "\n",
       "    .dataframe thead th {\n",
       "        text-align: right;\n",
       "    }\n",
       "</style>\n",
       "<table border=\"1\" class=\"dataframe\">\n",
       "  <thead>\n",
       "    <tr style=\"text-align: right;\">\n",
       "      <th></th>\n",
       "      <th>created_utc</th>\n",
       "      <th>author</th>\n",
       "      <th>post_id</th>\n",
       "      <th>subreddit</th>\n",
       "      <th>text</th>\n",
       "    </tr>\n",
       "  </thead>\n",
       "  <tbody>\n",
       "    <tr>\n",
       "      <th>0</th>\n",
       "      <td>1.674811e+09</td>\n",
       "      <td>tashadaily</td>\n",
       "      <td>10mgkxn</td>\n",
       "      <td>ireland</td>\n",
       "      <td>Right so obviously a burner account.\\n\\nMy fia...</td>\n",
       "    </tr>\n",
       "    <tr>\n",
       "      <th>1</th>\n",
       "      <td>1.674818e+09</td>\n",
       "      <td>PedantJuice</td>\n",
       "      <td>10mgkxn</td>\n",
       "      <td>ireland</td>\n",
       "      <td>First; this is perfectly, perfectly human way ...</td>\n",
       "    </tr>\n",
       "    <tr>\n",
       "      <th>2</th>\n",
       "      <td>1.674814e+09</td>\n",
       "      <td>FullyStacked92</td>\n",
       "      <td>10mgkxn</td>\n",
       "      <td>ireland</td>\n",
       "      <td>The reason your life isn't comfortable on a co...</td>\n",
       "    </tr>\n",
       "    <tr>\n",
       "      <th>3</th>\n",
       "      <td>1.674817e+09</td>\n",
       "      <td>theriskguy</td>\n",
       "      <td>10mgkxn</td>\n",
       "      <td>ireland</td>\n",
       "      <td>You’re directing your anger in the wrong, dire...</td>\n",
       "    </tr>\n",
       "    <tr>\n",
       "      <th>4</th>\n",
       "      <td>1.674812e+09</td>\n",
       "      <td>slice_of_za</td>\n",
       "      <td>10mgkxn</td>\n",
       "      <td>ireland</td>\n",
       "      <td>Sounds like you're having a shitty time of it ...</td>\n",
       "    </tr>\n",
       "  </tbody>\n",
       "</table>\n",
       "</div>"
      ],
      "text/plain": [
       "    created_utc          author  post_id subreddit   \n",
       "0  1.674811e+09      tashadaily  10mgkxn   ireland  \\\n",
       "1  1.674818e+09     PedantJuice  10mgkxn   ireland   \n",
       "2  1.674814e+09  FullyStacked92  10mgkxn   ireland   \n",
       "3  1.674817e+09      theriskguy  10mgkxn   ireland   \n",
       "4  1.674812e+09     slice_of_za  10mgkxn   ireland   \n",
       "\n",
       "                                                text  \n",
       "0  Right so obviously a burner account.\\n\\nMy fia...  \n",
       "1  First; this is perfectly, perfectly human way ...  \n",
       "2  The reason your life isn't comfortable on a co...  \n",
       "3  You’re directing your anger in the wrong, dire...  \n",
       "4  Sounds like you're having a shitty time of it ...  "
      ]
     },
     "execution_count": 6,
     "metadata": {},
     "output_type": "execute_result"
    }
   ],
   "source": [
    "# Creating DF from search results for \"house contruction\" in Reddit\n",
    "irish_construction_posts_df = pd.DataFrame.from_dict(search_reddit(\"ireland\", \"house construction\"))\n",
    "irish_construction_posts_df.head()"
   ]
  },
  {
   "cell_type": "code",
   "execution_count": 7,
   "id": "c5c5affa",
   "metadata": {},
   "outputs": [
    {
     "name": "stdout",
     "output_type": "stream",
     "text": [
      "<class 'pandas.core.frame.DataFrame'>\n",
      "RangeIndex: 1789 entries, 0 to 1788\n",
      "Data columns (total 5 columns):\n",
      " #   Column       Non-Null Count  Dtype         \n",
      "---  ------       --------------  -----         \n",
      " 0   created_utc  1789 non-null   datetime64[ns]\n",
      " 1   author       1789 non-null   object        \n",
      " 2   post_id      1789 non-null   object        \n",
      " 3   subreddit    1789 non-null   object        \n",
      " 4   text         1789 non-null   object        \n",
      "dtypes: datetime64[ns](1), object(4)\n",
      "memory usage: 70.0+ KB\n"
     ]
    }
   ],
   "source": [
    "irish_construction_posts_df['created_utc'] = pd.to_datetime(irish_construction_posts_df['created_utc'], unit='s')\n",
    "irish_construction_posts_df.info()"
   ]
  },
  {
   "cell_type": "code",
   "execution_count": 8,
   "id": "39bee57e",
   "metadata": {},
   "outputs": [
    {
     "data": {
      "text/html": [
       "<div>\n",
       "<style scoped>\n",
       "    .dataframe tbody tr th:only-of-type {\n",
       "        vertical-align: middle;\n",
       "    }\n",
       "\n",
       "    .dataframe tbody tr th {\n",
       "        vertical-align: top;\n",
       "    }\n",
       "\n",
       "    .dataframe thead th {\n",
       "        text-align: right;\n",
       "    }\n",
       "</style>\n",
       "<table border=\"1\" class=\"dataframe\">\n",
       "  <thead>\n",
       "    <tr style=\"text-align: right;\">\n",
       "      <th></th>\n",
       "      <th>created_utc</th>\n",
       "      <th>author</th>\n",
       "      <th>post_id</th>\n",
       "      <th>subreddit</th>\n",
       "      <th>text</th>\n",
       "    </tr>\n",
       "  </thead>\n",
       "  <tbody>\n",
       "    <tr>\n",
       "      <th>0</th>\n",
       "      <td>2023-01-27 09:09:44</td>\n",
       "      <td>tashadaily</td>\n",
       "      <td>10mgkxn</td>\n",
       "      <td>ireland</td>\n",
       "      <td>Right so obviously a burner account.\\n\\nMy fia...</td>\n",
       "    </tr>\n",
       "    <tr>\n",
       "      <th>1</th>\n",
       "      <td>2023-01-27 11:15:03</td>\n",
       "      <td>PedantJuice</td>\n",
       "      <td>10mgkxn</td>\n",
       "      <td>ireland</td>\n",
       "      <td>First; this is perfectly, perfectly human way ...</td>\n",
       "    </tr>\n",
       "    <tr>\n",
       "      <th>2</th>\n",
       "      <td>2023-01-27 09:59:22</td>\n",
       "      <td>FullyStacked92</td>\n",
       "      <td>10mgkxn</td>\n",
       "      <td>ireland</td>\n",
       "      <td>The reason your life isn't comfortable on a co...</td>\n",
       "    </tr>\n",
       "    <tr>\n",
       "      <th>3</th>\n",
       "      <td>2023-01-27 10:59:06</td>\n",
       "      <td>theriskguy</td>\n",
       "      <td>10mgkxn</td>\n",
       "      <td>ireland</td>\n",
       "      <td>You’re directing your anger in the wrong, dire...</td>\n",
       "    </tr>\n",
       "    <tr>\n",
       "      <th>4</th>\n",
       "      <td>2023-01-27 09:36:50</td>\n",
       "      <td>slice_of_za</td>\n",
       "      <td>10mgkxn</td>\n",
       "      <td>ireland</td>\n",
       "      <td>Sounds like you're having a shitty time of it ...</td>\n",
       "    </tr>\n",
       "  </tbody>\n",
       "</table>\n",
       "</div>"
      ],
      "text/plain": [
       "          created_utc          author  post_id subreddit   \n",
       "0 2023-01-27 09:09:44      tashadaily  10mgkxn   ireland  \\\n",
       "1 2023-01-27 11:15:03     PedantJuice  10mgkxn   ireland   \n",
       "2 2023-01-27 09:59:22  FullyStacked92  10mgkxn   ireland   \n",
       "3 2023-01-27 10:59:06      theriskguy  10mgkxn   ireland   \n",
       "4 2023-01-27 09:36:50     slice_of_za  10mgkxn   ireland   \n",
       "\n",
       "                                                text  \n",
       "0  Right so obviously a burner account.\\n\\nMy fia...  \n",
       "1  First; this is perfectly, perfectly human way ...  \n",
       "2  The reason your life isn't comfortable on a co...  \n",
       "3  You’re directing your anger in the wrong, dire...  \n",
       "4  Sounds like you're having a shitty time of it ...  "
      ]
     },
     "execution_count": 8,
     "metadata": {},
     "output_type": "execute_result"
    }
   ],
   "source": [
    "irish_construction_posts_df.head()"
   ]
  },
  {
   "cell_type": "code",
   "execution_count": 9,
   "id": "97438be3",
   "metadata": {},
   "outputs": [
    {
     "name": "stdout",
     "output_type": "stream",
     "text": [
      "No search results after last result ID: t3_mla0zq\n",
      "Search results: 230\n",
      "Total comments retreived: 14696\n"
     ]
    },
    {
     "data": {
      "text/html": [
       "<div>\n",
       "<style scoped>\n",
       "    .dataframe tbody tr th:only-of-type {\n",
       "        vertical-align: middle;\n",
       "    }\n",
       "\n",
       "    .dataframe tbody tr th {\n",
       "        vertical-align: top;\n",
       "    }\n",
       "\n",
       "    .dataframe thead th {\n",
       "        text-align: right;\n",
       "    }\n",
       "</style>\n",
       "<table border=\"1\" class=\"dataframe\">\n",
       "  <thead>\n",
       "    <tr style=\"text-align: right;\">\n",
       "      <th></th>\n",
       "      <th>created_utc</th>\n",
       "      <th>author</th>\n",
       "      <th>post_id</th>\n",
       "      <th>subreddit</th>\n",
       "      <th>text</th>\n",
       "    </tr>\n",
       "  </thead>\n",
       "  <tbody>\n",
       "    <tr>\n",
       "      <th>0</th>\n",
       "      <td>1.663774e+09</td>\n",
       "      <td>coluber_</td>\n",
       "      <td>xk7udf</td>\n",
       "      <td>ireland</td>\n",
       "      <td>Hi all. I see the topic of Ukrainian refugees ...</td>\n",
       "    </tr>\n",
       "    <tr>\n",
       "      <th>1</th>\n",
       "      <td>1.663774e+09</td>\n",
       "      <td>pul123PUL</td>\n",
       "      <td>xk7udf</td>\n",
       "      <td>ireland</td>\n",
       "      <td>What has been the biggest challenge for you da...</td>\n",
       "    </tr>\n",
       "    <tr>\n",
       "      <th>2</th>\n",
       "      <td>1.663780e+09</td>\n",
       "      <td>Fantastic_Section517</td>\n",
       "      <td>xk7udf</td>\n",
       "      <td>ireland</td>\n",
       "      <td>Are you working at present? The reason I ask i...</td>\n",
       "    </tr>\n",
       "    <tr>\n",
       "      <th>3</th>\n",
       "      <td>1.663777e+09</td>\n",
       "      <td>EDITORDIE</td>\n",
       "      <td>xk7udf</td>\n",
       "      <td>ireland</td>\n",
       "      <td>I wish you and your family the best and hope t...</td>\n",
       "    </tr>\n",
       "    <tr>\n",
       "      <th>4</th>\n",
       "      <td>1.663774e+09</td>\n",
       "      <td>ImpressionPristine46</td>\n",
       "      <td>xk7udf</td>\n",
       "      <td>ireland</td>\n",
       "      <td>Have all your family and friends moved to Irel...</td>\n",
       "    </tr>\n",
       "  </tbody>\n",
       "</table>\n",
       "</div>"
      ],
      "text/plain": [
       "    created_utc                author post_id subreddit   \n",
       "0  1.663774e+09              coluber_  xk7udf   ireland  \\\n",
       "1  1.663774e+09             pul123PUL  xk7udf   ireland   \n",
       "2  1.663780e+09  Fantastic_Section517  xk7udf   ireland   \n",
       "3  1.663777e+09             EDITORDIE  xk7udf   ireland   \n",
       "4  1.663774e+09  ImpressionPristine46  xk7udf   ireland   \n",
       "\n",
       "                                                text  \n",
       "0  Hi all. I see the topic of Ukrainian refugees ...  \n",
       "1  What has been the biggest challenge for you da...  \n",
       "2  Are you working at present? The reason I ask i...  \n",
       "3  I wish you and your family the best and hope t...  \n",
       "4  Have all your family and friends moved to Irel...  "
      ]
     },
     "execution_count": 9,
     "metadata": {},
     "output_type": "execute_result"
    }
   ],
   "source": [
    "# Creating DF from search results for \"house contruction\" in Reddit\n",
    "irish_housing_posts_df = pd.DataFrame.from_dict(search_reddit(\"ireland\", \"housing\"))\n",
    "irish_housing_posts_df.head()"
   ]
  },
  {
   "cell_type": "code",
   "execution_count": 10,
   "id": "f992790c",
   "metadata": {},
   "outputs": [
    {
     "data": {
      "text/html": [
       "<div>\n",
       "<style scoped>\n",
       "    .dataframe tbody tr th:only-of-type {\n",
       "        vertical-align: middle;\n",
       "    }\n",
       "\n",
       "    .dataframe tbody tr th {\n",
       "        vertical-align: top;\n",
       "    }\n",
       "\n",
       "    .dataframe thead th {\n",
       "        text-align: right;\n",
       "    }\n",
       "</style>\n",
       "<table border=\"1\" class=\"dataframe\">\n",
       "  <thead>\n",
       "    <tr style=\"text-align: right;\">\n",
       "      <th></th>\n",
       "      <th>created_utc</th>\n",
       "      <th>author</th>\n",
       "      <th>post_id</th>\n",
       "      <th>subreddit</th>\n",
       "      <th>text</th>\n",
       "    </tr>\n",
       "  </thead>\n",
       "  <tbody>\n",
       "    <tr>\n",
       "      <th>0</th>\n",
       "      <td>2022-09-21 15:21:22</td>\n",
       "      <td>coluber_</td>\n",
       "      <td>xk7udf</td>\n",
       "      <td>ireland</td>\n",
       "      <td>Hi all. I see the topic of Ukrainian refugees ...</td>\n",
       "    </tr>\n",
       "    <tr>\n",
       "      <th>1</th>\n",
       "      <td>2022-09-21 15:29:39</td>\n",
       "      <td>pul123PUL</td>\n",
       "      <td>xk7udf</td>\n",
       "      <td>ireland</td>\n",
       "      <td>What has been the biggest challenge for you da...</td>\n",
       "    </tr>\n",
       "    <tr>\n",
       "      <th>2</th>\n",
       "      <td>2022-09-21 17:06:30</td>\n",
       "      <td>Fantastic_Section517</td>\n",
       "      <td>xk7udf</td>\n",
       "      <td>ireland</td>\n",
       "      <td>Are you working at present? The reason I ask i...</td>\n",
       "    </tr>\n",
       "    <tr>\n",
       "      <th>3</th>\n",
       "      <td>2022-09-21 16:12:04</td>\n",
       "      <td>EDITORDIE</td>\n",
       "      <td>xk7udf</td>\n",
       "      <td>ireland</td>\n",
       "      <td>I wish you and your family the best and hope t...</td>\n",
       "    </tr>\n",
       "    <tr>\n",
       "      <th>4</th>\n",
       "      <td>2022-09-21 15:30:34</td>\n",
       "      <td>ImpressionPristine46</td>\n",
       "      <td>xk7udf</td>\n",
       "      <td>ireland</td>\n",
       "      <td>Have all your family and friends moved to Irel...</td>\n",
       "    </tr>\n",
       "  </tbody>\n",
       "</table>\n",
       "</div>"
      ],
      "text/plain": [
       "          created_utc                author post_id subreddit   \n",
       "0 2022-09-21 15:21:22              coluber_  xk7udf   ireland  \\\n",
       "1 2022-09-21 15:29:39             pul123PUL  xk7udf   ireland   \n",
       "2 2022-09-21 17:06:30  Fantastic_Section517  xk7udf   ireland   \n",
       "3 2022-09-21 16:12:04             EDITORDIE  xk7udf   ireland   \n",
       "4 2022-09-21 15:30:34  ImpressionPristine46  xk7udf   ireland   \n",
       "\n",
       "                                                text  \n",
       "0  Hi all. I see the topic of Ukrainian refugees ...  \n",
       "1  What has been the biggest challenge for you da...  \n",
       "2  Are you working at present? The reason I ask i...  \n",
       "3  I wish you and your family the best and hope t...  \n",
       "4  Have all your family and friends moved to Irel...  "
      ]
     },
     "execution_count": 10,
     "metadata": {},
     "output_type": "execute_result"
    }
   ],
   "source": [
    "# Converting to datetime\n",
    "irish_housing_posts_df['created_utc'] = pd.to_datetime(irish_housing_posts_df['created_utc'], unit='s')\n",
    "irish_housing_posts_df.head()"
   ]
  },
  {
   "cell_type": "code",
   "execution_count": 11,
   "id": "cea3afe1",
   "metadata": {},
   "outputs": [
    {
     "data": {
      "text/plain": [
       "(16485, 5)"
      ]
     },
     "execution_count": 11,
     "metadata": {},
     "output_type": "execute_result"
    }
   ],
   "source": [
    "# Combining two DFs\n",
    "irish_housing_reddit_df = pd.concat([irish_construction_posts_df, irish_housing_posts_df])\n",
    "irish_housing_reddit_df.shape"
   ]
  },
  {
   "cell_type": "code",
   "execution_count": 12,
   "id": "a4cfa2df",
   "metadata": {},
   "outputs": [
    {
     "data": {
      "text/plain": [
       "291"
      ]
     },
     "execution_count": 12,
     "metadata": {},
     "output_type": "execute_result"
    }
   ],
   "source": [
    "# Check the duplicates after concatenating two DFs\n",
    "irish_housing_reddit_df.duplicated(subset=['created_utc']).sum()"
   ]
  },
  {
   "cell_type": "code",
   "execution_count": 13,
   "id": "7bf79a2f",
   "metadata": {},
   "outputs": [
    {
     "data": {
      "text/plain": [
       "(16194, 5)"
      ]
     },
     "execution_count": 13,
     "metadata": {},
     "output_type": "execute_result"
    }
   ],
   "source": [
    "# Drop the duplicates\n",
    "irish_housing_reddit_df.drop_duplicates(subset=['created_utc'], inplace=True)\n",
    "irish_housing_reddit_df.shape"
   ]
  },
  {
   "cell_type": "markdown",
   "id": "fe0a7548",
   "metadata": {},
   "source": [
    "### Data Pre Processing"
   ]
  },
  {
   "cell_type": "code",
   "execution_count": 14,
   "id": "c91453b5",
   "metadata": {},
   "outputs": [],
   "source": [
    "# Store the column of the dataframe named as \"text\"\n",
    "X = irish_housing_reddit_df['text']"
   ]
  },
  {
   "cell_type": "code",
   "execution_count": 15,
   "id": "c92beba9",
   "metadata": {},
   "outputs": [],
   "source": [
    "# Store the stopwords into the object named as \"stop_words\"\n",
    "stop_words = stopwords.words('english')\n",
    "\n",
    "# Store the string.punctuation into an object punct\n",
    "punct = string.punctuation\n",
    "\n",
    "# Initialise an object using a method PorterStemmer\n",
    "stemmer = PorterStemmer()"
   ]
  },
  {
   "cell_type": "code",
   "execution_count": 16,
   "id": "ffc6c242",
   "metadata": {},
   "outputs": [],
   "source": [
    "cleaned_data=[]\n",
    "\n",
    "# For loop from first value to length(X), ^a-zA-Z means include small and capital case letters\n",
    "for i in range(len(X)):\n",
    "    post = re.sub('[^a-zA-Z]', ' ', X.iloc[i])\n",
    "    post = post.lower().split()\n",
    "    post = [stemmer.stem(word) for word in post if (word not in stop_words) and (word not in punct)]\n",
    "    post = ' '.join(post)\n",
    "    cleaned_data.append(post)\n",
    "    \n",
    "cleaned_data = pd.Series(cleaned_data)"
   ]
  },
  {
   "cell_type": "code",
   "execution_count": 17,
   "id": "9e8951fe",
   "metadata": {},
   "outputs": [
    {
     "name": "stderr",
     "output_type": "stream",
     "text": [
      "[nltk_data] Downloading package vader_lexicon to\n",
      "[nltk_data]     /Users/bsajjan/nltk_data...\n",
      "[nltk_data]   Package vader_lexicon is already up-to-date!\n"
     ]
    }
   ],
   "source": [
    "# Initialize the sentiment analyzer\n",
    "nltk.download('vader_lexicon')\n",
    "sia = SentimentIntensityAnalyzer()"
   ]
  },
  {
   "cell_type": "code",
   "execution_count": 18,
   "id": "ab8f43e0",
   "metadata": {},
   "outputs": [],
   "source": [
    "# Function to classify compound result \n",
    "def format_output(output_dict):  \n",
    "    polarity = \"neutral\"\n",
    "\n",
    "    if(output_dict['compound'] >= 0.05):\n",
    "        polarity = \"positive\"\n",
    "\n",
    "    elif(output_dict['compound'] <= -0.05):\n",
    "        polarity = \"negative\"\n",
    "\n",
    "    return polarity\n",
    "\n",
    "# Function to predict sentiment\n",
    "def predict_sentiment(text): \n",
    "    output_dict =  sia.polarity_scores(text)\n",
    "    return format_output(output_dict)"
   ]
  },
  {
   "cell_type": "code",
   "execution_count": 19,
   "id": "f0e5e519",
   "metadata": {},
   "outputs": [],
   "source": [
    "irish_housing_reddit_df['vader_prediction'] = irish_housing_reddit_df['text'].apply(predict_sentiment)"
   ]
  },
  {
   "cell_type": "code",
   "execution_count": 20,
   "id": "bbe0920e",
   "metadata": {},
   "outputs": [
    {
     "data": {
      "text/html": [
       "<div>\n",
       "<style scoped>\n",
       "    .dataframe tbody tr th:only-of-type {\n",
       "        vertical-align: middle;\n",
       "    }\n",
       "\n",
       "    .dataframe tbody tr th {\n",
       "        vertical-align: top;\n",
       "    }\n",
       "\n",
       "    .dataframe thead th {\n",
       "        text-align: right;\n",
       "    }\n",
       "</style>\n",
       "<table border=\"1\" class=\"dataframe\">\n",
       "  <thead>\n",
       "    <tr style=\"text-align: right;\">\n",
       "      <th></th>\n",
       "      <th>created_utc</th>\n",
       "      <th>author</th>\n",
       "      <th>post_id</th>\n",
       "      <th>subreddit</th>\n",
       "      <th>text</th>\n",
       "      <th>vader_prediction</th>\n",
       "    </tr>\n",
       "  </thead>\n",
       "  <tbody>\n",
       "    <tr>\n",
       "      <th>14691</th>\n",
       "      <td>2021-04-07 03:23:51</td>\n",
       "      <td>ExcelDesigns</td>\n",
       "      <td>mla0zq</td>\n",
       "      <td>ireland</td>\n",
       "      <td>Sad you're leaving, best of luck in the future...</td>\n",
       "      <td>positive</td>\n",
       "    </tr>\n",
       "    <tr>\n",
       "      <th>14692</th>\n",
       "      <td>2021-04-07 04:54:09</td>\n",
       "      <td>fakenudez</td>\n",
       "      <td>mla0zq</td>\n",
       "      <td>ireland</td>\n",
       "      <td>Ahh you’ll miss that college student lifestyle...</td>\n",
       "      <td>positive</td>\n",
       "    </tr>\n",
       "    <tr>\n",
       "      <th>14693</th>\n",
       "      <td>2021-04-07 05:33:01</td>\n",
       "      <td>Present_Course4100</td>\n",
       "      <td>mla0zq</td>\n",
       "      <td>ireland</td>\n",
       "      <td>The truly Irish thing to do would be to stay, ...</td>\n",
       "      <td>neutral</td>\n",
       "    </tr>\n",
       "    <tr>\n",
       "      <th>14694</th>\n",
       "      <td>2021-04-07 09:14:12</td>\n",
       "      <td>Kevinyamouth</td>\n",
       "      <td>mla0zq</td>\n",
       "      <td>ireland</td>\n",
       "      <td>Safe travels where were you originally from la...</td>\n",
       "      <td>positive</td>\n",
       "    </tr>\n",
       "    <tr>\n",
       "      <th>14695</th>\n",
       "      <td>2021-04-07 06:30:08</td>\n",
       "      <td>younggundc</td>\n",
       "      <td>mla0zq</td>\n",
       "      <td>ireland</td>\n",
       "      <td>Lovely story but just something I want to say ...</td>\n",
       "      <td>positive</td>\n",
       "    </tr>\n",
       "  </tbody>\n",
       "</table>\n",
       "</div>"
      ],
      "text/plain": [
       "              created_utc              author post_id subreddit   \n",
       "14691 2021-04-07 03:23:51        ExcelDesigns  mla0zq   ireland  \\\n",
       "14692 2021-04-07 04:54:09           fakenudez  mla0zq   ireland   \n",
       "14693 2021-04-07 05:33:01  Present_Course4100  mla0zq   ireland   \n",
       "14694 2021-04-07 09:14:12        Kevinyamouth  mla0zq   ireland   \n",
       "14695 2021-04-07 06:30:08          younggundc  mla0zq   ireland   \n",
       "\n",
       "                                                    text vader_prediction  \n",
       "14691  Sad you're leaving, best of luck in the future...         positive  \n",
       "14692  Ahh you’ll miss that college student lifestyle...         positive  \n",
       "14693  The truly Irish thing to do would be to stay, ...          neutral  \n",
       "14694  Safe travels where were you originally from la...         positive  \n",
       "14695  Lovely story but just something I want to say ...         positive  "
      ]
     },
     "execution_count": 20,
     "metadata": {},
     "output_type": "execute_result"
    }
   ],
   "source": [
    "irish_housing_reddit_df.tail()"
   ]
  },
  {
   "cell_type": "code",
   "execution_count": 21,
   "id": "5c36d1b0",
   "metadata": {
    "scrolled": true
   },
   "outputs": [
    {
     "data": {
      "text/plain": [
       "<Axes: xlabel='vader_prediction'>"
      ]
     },
     "execution_count": 21,
     "metadata": {},
     "output_type": "execute_result"
    },
    {
     "data": {
      "image/png": "[encoded data removed]",
      "text/plain": [
       "<Figure size 640x480 with 1 Axes>"
      ]
     },
     "metadata": {},
     "output_type": "display_data"
    }
   ],
   "source": [
    "# irish_housing_reddit_df['year'] = irish_housing_reddit_df['created_utc'].dt.year\n",
    "irish_housing_reddit_df['vader_prediction'].value_counts().plot.bar()"
   ]
  },
  {
   "cell_type": "markdown",
   "id": "a59491f0",
   "metadata": {},
   "source": [
    "### Persist the dataset to MongoDB\n",
    "Performing API calls to Reddit could result in exceeding the allowed rate limits. A delay was applied before making each GET request to prevent the throttling. When querying large amount of posts/comments, this process can take long time to complete. So, it can be more efficient to regularly persisting the data to a database, and later querying from it instead of using Reddit API all the time."
   ]
  },
  {
   "cell_type": "code",
   "execution_count": 26,
   "id": "908259b3",
   "metadata": {},
   "outputs": [],
   "source": [
    "client = pymongo.MongoClient(\"mongodb://localhost:27017\")\n",
    "db = client[\"ca2\"]\n",
    "# Collection\n",
    "coll = db['irish_housing_construction']"
   ]
  },
  {
   "cell_type": "code",
   "execution_count": 39,
   "id": "23881525",
   "metadata": {},
   "outputs": [
    {
     "data": {
      "text/plain": [
       "<pymongo.results.InsertManyResult at 0x7febdae67490>"
      ]
     },
     "execution_count": 39,
     "metadata": {},
     "output_type": "execute_result"
    }
   ],
   "source": [
    "# Insert the DF rows to MongoDB collection\n",
    "coll.insert_many(irish_housing_reddit_df.to_dict('records'))"
   ]
  },
  {
   "cell_type": "code",
   "execution_count": 40,
   "id": "cf9c648a",
   "metadata": {},
   "outputs": [
    {
     "name": "stdout",
     "output_type": "stream",
     "text": [
      "Estimated documents in MongoDB Collection: 16194\n"
     ]
    }
   ],
   "source": [
    "print(f\"Estimated documents in MongoDB Collection: {coll.estimated_document_count()}\")"
   ]
  },
  {
   "cell_type": "markdown",
   "id": "61ac373b",
   "metadata": {},
   "source": [
    "### European house construction sentiment"
   ]
  },
  {
   "cell_type": "code",
   "execution_count": 32,
   "id": "3517bad7",
   "metadata": {},
   "outputs": [
    {
     "name": "stdout",
     "output_type": "stream",
     "text": [
      "No search results after last result ID: t3_bo3d3b\n",
      "Search results: 34\n",
      "Total comments retreived: 363\n"
     ]
    }
   ],
   "source": [
    "europe_housing_reddit_df = pd.DataFrame.from_dict(search_reddit(\"europe\", \"house construction\"))"
   ]
  },
  {
   "cell_type": "code",
   "execution_count": 33,
   "id": "d0f045f2",
   "metadata": {},
   "outputs": [
    {
     "data": {
      "text/html": [
       "<div>\n",
       "<style scoped>\n",
       "    .dataframe tbody tr th:only-of-type {\n",
       "        vertical-align: middle;\n",
       "    }\n",
       "\n",
       "    .dataframe tbody tr th {\n",
       "        vertical-align: top;\n",
       "    }\n",
       "\n",
       "    .dataframe thead th {\n",
       "        text-align: right;\n",
       "    }\n",
       "</style>\n",
       "<table border=\"1\" class=\"dataframe\">\n",
       "  <thead>\n",
       "    <tr style=\"text-align: right;\">\n",
       "      <th></th>\n",
       "      <th>created_utc</th>\n",
       "      <th>author</th>\n",
       "      <th>post_id</th>\n",
       "      <th>subreddit</th>\n",
       "      <th>text</th>\n",
       "    </tr>\n",
       "  </thead>\n",
       "  <tbody>\n",
       "    <tr>\n",
       "      <th>0</th>\n",
       "      <td>2021-10-07 18:19:16</td>\n",
       "      <td>DevilSauron</td>\n",
       "      <td>q3f6wi</td>\n",
       "      <td>europe</td>\n",
       "      <td>**The Election**\\n\\nTomorrow and on Saturday (...</td>\n",
       "    </tr>\n",
       "    <tr>\n",
       "      <th>1</th>\n",
       "      <td>2021-10-14 13:58:01</td>\n",
       "      <td>Plane_Willingness_25</td>\n",
       "      <td>q3f6wi</td>\n",
       "      <td>europe</td>\n",
       "      <td>So how are things developing? Is Babis still g...</td>\n",
       "    </tr>\n",
       "    <tr>\n",
       "      <th>2</th>\n",
       "      <td>2021-10-09 22:57:31</td>\n",
       "      <td>linknewtab</td>\n",
       "      <td>q3f6wi</td>\n",
       "      <td>europe</td>\n",
       "      <td>Any chance the new government will finally joi...</td>\n",
       "    </tr>\n",
       "    <tr>\n",
       "      <th>3</th>\n",
       "      <td>2021-10-09 22:55:50</td>\n",
       "      <td>[deleted]</td>\n",
       "      <td>q3f6wi</td>\n",
       "      <td>europe</td>\n",
       "      <td>[deleted]</td>\n",
       "    </tr>\n",
       "    <tr>\n",
       "      <th>4</th>\n",
       "      <td>2021-10-09 22:48:07</td>\n",
       "      <td>Freeman3017</td>\n",
       "      <td>q3f6wi</td>\n",
       "      <td>europe</td>\n",
       "      <td>Victory day for democracy, this is how it shou...</td>\n",
       "    </tr>\n",
       "  </tbody>\n",
       "</table>\n",
       "</div>"
      ],
      "text/plain": [
       "          created_utc                author post_id subreddit   \n",
       "0 2021-10-07 18:19:16           DevilSauron  q3f6wi    europe  \\\n",
       "1 2021-10-14 13:58:01  Plane_Willingness_25  q3f6wi    europe   \n",
       "2 2021-10-09 22:57:31            linknewtab  q3f6wi    europe   \n",
       "3 2021-10-09 22:55:50             [deleted]  q3f6wi    europe   \n",
       "4 2021-10-09 22:48:07           Freeman3017  q3f6wi    europe   \n",
       "\n",
       "                                                text  \n",
       "0  **The Election**\\n\\nTomorrow and on Saturday (...  \n",
       "1  So how are things developing? Is Babis still g...  \n",
       "2  Any chance the new government will finally joi...  \n",
       "3                                          [deleted]  \n",
       "4  Victory day for democracy, this is how it shou...  "
      ]
     },
     "execution_count": 33,
     "metadata": {},
     "output_type": "execute_result"
    }
   ],
   "source": [
    "europe_housing_reddit_df['created_utc'] = pd.to_datetime(europe_housing_reddit_df['created_utc'], unit='s')\n",
    "europe_housing_reddit_df.head()"
   ]
  },
  {
   "cell_type": "code",
   "execution_count": 34,
   "id": "530d463d",
   "metadata": {},
   "outputs": [],
   "source": [
    "# Store the column of the dataframe named as \"text\"\n",
    "X = europe_housing_reddit_df['text']\n",
    "\n",
    "# Store the stopwords into the object named as \"stop_words\"\n",
    "stop_words = stopwords.words('english')\n",
    "\n",
    "# Store the string.punctuation into an object punct\n",
    "punct = string.punctuation\n",
    "\n",
    "# Initialise an object using a method PorterStemmer\n",
    "stemmer = PorterStemmer()\n",
    "\n",
    "cleaned_data=[]\n",
    "\n",
    "# For loop from first value to length(X), ^a-zA-Z means include small and capital case letters\n",
    "for i in range(len(X)):\n",
    "    post = re.sub('[^a-zA-Z]', ' ', X.iloc[i])\n",
    "    post = post.lower().split()\n",
    "    post = [stemmer.stem(word) for word in post if (word not in stop_words) and (word not in punct)]\n",
    "    post = ' '.join(post)\n",
    "    cleaned_data.append(post)\n",
    "    \n",
    "cleaned_data = pd.Series(cleaned_data)\n"
   ]
  },
  {
   "cell_type": "code",
   "execution_count": 35,
   "id": "0f3bf9b3",
   "metadata": {},
   "outputs": [
    {
     "name": "stderr",
     "output_type": "stream",
     "text": [
      "[nltk_data] Downloading package vader_lexicon to\n",
      "[nltk_data]     /Users/bsajjan/nltk_data...\n",
      "[nltk_data]   Package vader_lexicon is already up-to-date!\n"
     ]
    },
    {
     "data": {
      "text/html": [
       "<div>\n",
       "<style scoped>\n",
       "    .dataframe tbody tr th:only-of-type {\n",
       "        vertical-align: middle;\n",
       "    }\n",
       "\n",
       "    .dataframe tbody tr th {\n",
       "        vertical-align: top;\n",
       "    }\n",
       "\n",
       "    .dataframe thead th {\n",
       "        text-align: right;\n",
       "    }\n",
       "</style>\n",
       "<table border=\"1\" class=\"dataframe\">\n",
       "  <thead>\n",
       "    <tr style=\"text-align: right;\">\n",
       "      <th></th>\n",
       "      <th>created_utc</th>\n",
       "      <th>author</th>\n",
       "      <th>post_id</th>\n",
       "      <th>subreddit</th>\n",
       "      <th>text</th>\n",
       "      <th>vader_prediction</th>\n",
       "    </tr>\n",
       "  </thead>\n",
       "  <tbody>\n",
       "    <tr>\n",
       "      <th>0</th>\n",
       "      <td>2021-10-07 18:19:16</td>\n",
       "      <td>DevilSauron</td>\n",
       "      <td>q3f6wi</td>\n",
       "      <td>europe</td>\n",
       "      <td>**The Election**\\n\\nTomorrow and on Saturday (...</td>\n",
       "      <td>positive</td>\n",
       "    </tr>\n",
       "    <tr>\n",
       "      <th>1</th>\n",
       "      <td>2021-10-14 13:58:01</td>\n",
       "      <td>Plane_Willingness_25</td>\n",
       "      <td>q3f6wi</td>\n",
       "      <td>europe</td>\n",
       "      <td>So how are things developing? Is Babis still g...</td>\n",
       "      <td>neutral</td>\n",
       "    </tr>\n",
       "    <tr>\n",
       "      <th>2</th>\n",
       "      <td>2021-10-09 22:57:31</td>\n",
       "      <td>linknewtab</td>\n",
       "      <td>q3f6wi</td>\n",
       "      <td>europe</td>\n",
       "      <td>Any chance the new government will finally joi...</td>\n",
       "      <td>positive</td>\n",
       "    </tr>\n",
       "    <tr>\n",
       "      <th>3</th>\n",
       "      <td>2021-10-09 22:55:50</td>\n",
       "      <td>[deleted]</td>\n",
       "      <td>q3f6wi</td>\n",
       "      <td>europe</td>\n",
       "      <td>[deleted]</td>\n",
       "      <td>neutral</td>\n",
       "    </tr>\n",
       "    <tr>\n",
       "      <th>4</th>\n",
       "      <td>2021-10-09 22:48:07</td>\n",
       "      <td>Freeman3017</td>\n",
       "      <td>q3f6wi</td>\n",
       "      <td>europe</td>\n",
       "      <td>Victory day for democracy, this is how it shou...</td>\n",
       "      <td>positive</td>\n",
       "    </tr>\n",
       "  </tbody>\n",
       "</table>\n",
       "</div>"
      ],
      "text/plain": [
       "          created_utc                author post_id subreddit   \n",
       "0 2021-10-07 18:19:16           DevilSauron  q3f6wi    europe  \\\n",
       "1 2021-10-14 13:58:01  Plane_Willingness_25  q3f6wi    europe   \n",
       "2 2021-10-09 22:57:31            linknewtab  q3f6wi    europe   \n",
       "3 2021-10-09 22:55:50             [deleted]  q3f6wi    europe   \n",
       "4 2021-10-09 22:48:07           Freeman3017  q3f6wi    europe   \n",
       "\n",
       "                                                text vader_prediction  \n",
       "0  **The Election**\\n\\nTomorrow and on Saturday (...         positive  \n",
       "1  So how are things developing? Is Babis still g...          neutral  \n",
       "2  Any chance the new government will finally joi...         positive  \n",
       "3                                          [deleted]          neutral  \n",
       "4  Victory day for democracy, this is how it shou...         positive  "
      ]
     },
     "execution_count": 35,
     "metadata": {},
     "output_type": "execute_result"
    }
   ],
   "source": [
    "# Initialize the sentiment analyzer\n",
    "nltk.download('vader_lexicon')\n",
    "sia = SentimentIntensityAnalyzer()\n",
    "\n",
    "europe_housing_reddit_df['vader_prediction'] = europe_housing_reddit_df['text'].apply(predict_sentiment)\n",
    "europe_housing_reddit_df.head()"
   ]
  },
  {
   "cell_type": "code",
   "execution_count": 37,
   "id": "038243e6",
   "metadata": {},
   "outputs": [
    {
     "data": {
      "text/plain": [
       "<pymongo.results.InsertManyResult at 0x7febdae67520>"
      ]
     },
     "execution_count": 37,
     "metadata": {},
     "output_type": "execute_result"
    }
   ],
   "source": [
    "coll_europe = db['europe_housing_construction']\n",
    "\n",
    "# Insert the DF rows to MongoDB collection\n",
    "coll_europe.insert_many(europe_housing_reddit_df.to_dict('records'))"
   ]
  },
  {
   "cell_type": "code",
   "execution_count": 38,
   "id": "353d6067",
   "metadata": {},
   "outputs": [
    {
     "name": "stdout",
     "output_type": "stream",
     "text": [
      "Estimated documents in MongoDB Collection: 363\n"
     ]
    }
   ],
   "source": [
    "print(f\"Estimated documents in MongoDB Collection: {coll_europe.estimated_document_count()}\")"
   ]
  },
  {
   "cell_type": "code",
   "execution_count": 41,
   "id": "d5c37c36",
   "metadata": {},
   "outputs": [
    {
     "data": {
      "text/plain": [
       "<Axes: xlabel='vader_prediction'>"
      ]
     },
     "execution_count": 41,
     "metadata": {},
     "output_type": "execute_result"
    },
    {
     "data": {
      "image/png": "[encoded data removed]",
      "text/plain": [
       "<Figure size 640x480 with 1 Axes>"
      ]
     },
     "metadata": {},
     "output_type": "display_data"
    }
   ],
   "source": [
    "europe_housing_reddit_df['vader_prediction'].value_counts().plot.bar()"
   ]
  },
  {
   "cell_type": "code",
   "execution_count": 43,
   "id": "e1dd00e3",
   "metadata": {},
   "outputs": [],
   "source": [
    "new_europe_df = europe_housing_reddit_df\n",
    "new_europe_df['year'] = new_europe_df['created_utc'].dt.year\n",
    "new_europe_df[]\n",
    "# plt.plot(europe_housing_reddit_df[created_utc].dt.year, europe_housing_reddit_df['vader_prediction'])\n",
    "# plot.show()"
   ]
  },
  {
   "cell_type": "code",
   "execution_count": 44,
   "id": "7b43e79a",
   "metadata": {},
   "outputs": [
    {
     "data": {
      "text/html": [
       "<div>\n",
       "<style scoped>\n",
       "    .dataframe tbody tr th:only-of-type {\n",
       "        vertical-align: middle;\n",
       "    }\n",
       "\n",
       "    .dataframe tbody tr th {\n",
       "        vertical-align: top;\n",
       "    }\n",
       "\n",
       "    .dataframe thead th {\n",
       "        text-align: right;\n",
       "    }\n",
       "</style>\n",
       "<table border=\"1\" class=\"dataframe\">\n",
       "  <thead>\n",
       "    <tr style=\"text-align: right;\">\n",
       "      <th></th>\n",
       "      <th>created_utc</th>\n",
       "      <th>author</th>\n",
       "      <th>post_id</th>\n",
       "      <th>subreddit</th>\n",
       "      <th>text</th>\n",
       "      <th>vader_prediction</th>\n",
       "      <th>year</th>\n",
       "    </tr>\n",
       "  </thead>\n",
       "  <tbody>\n",
       "    <tr>\n",
       "      <th>0</th>\n",
       "      <td>2021-10-07 18:19:16</td>\n",
       "      <td>DevilSauron</td>\n",
       "      <td>q3f6wi</td>\n",
       "      <td>europe</td>\n",
       "      <td>**The Election**\\n\\nTomorrow and on Saturday (...</td>\n",
       "      <td>positive</td>\n",
       "      <td>2021</td>\n",
       "    </tr>\n",
       "    <tr>\n",
       "      <th>1</th>\n",
       "      <td>2021-10-14 13:58:01</td>\n",
       "      <td>Plane_Willingness_25</td>\n",
       "      <td>q3f6wi</td>\n",
       "      <td>europe</td>\n",
       "      <td>So how are things developing? Is Babis still g...</td>\n",
       "      <td>neutral</td>\n",
       "      <td>2021</td>\n",
       "    </tr>\n",
       "    <tr>\n",
       "      <th>2</th>\n",
       "      <td>2021-10-09 22:57:31</td>\n",
       "      <td>linknewtab</td>\n",
       "      <td>q3f6wi</td>\n",
       "      <td>europe</td>\n",
       "      <td>Any chance the new government will finally joi...</td>\n",
       "      <td>positive</td>\n",
       "      <td>2021</td>\n",
       "    </tr>\n",
       "    <tr>\n",
       "      <th>3</th>\n",
       "      <td>2021-10-09 22:55:50</td>\n",
       "      <td>[deleted]</td>\n",
       "      <td>q3f6wi</td>\n",
       "      <td>europe</td>\n",
       "      <td>[deleted]</td>\n",
       "      <td>neutral</td>\n",
       "      <td>2021</td>\n",
       "    </tr>\n",
       "    <tr>\n",
       "      <th>4</th>\n",
       "      <td>2021-10-09 22:48:07</td>\n",
       "      <td>Freeman3017</td>\n",
       "      <td>q3f6wi</td>\n",
       "      <td>europe</td>\n",
       "      <td>Victory day for democracy, this is how it shou...</td>\n",
       "      <td>positive</td>\n",
       "      <td>2021</td>\n",
       "    </tr>\n",
       "  </tbody>\n",
       "</table>\n",
       "</div>"
      ],
      "text/plain": [
       "          created_utc                author post_id subreddit   \n",
       "0 2021-10-07 18:19:16           DevilSauron  q3f6wi    europe  \\\n",
       "1 2021-10-14 13:58:01  Plane_Willingness_25  q3f6wi    europe   \n",
       "2 2021-10-09 22:57:31            linknewtab  q3f6wi    europe   \n",
       "3 2021-10-09 22:55:50             [deleted]  q3f6wi    europe   \n",
       "4 2021-10-09 22:48:07           Freeman3017  q3f6wi    europe   \n",
       "\n",
       "                                                text vader_prediction  year  \n",
       "0  **The Election**\\n\\nTomorrow and on Saturday (...         positive  2021  \n",
       "1  So how are things developing? Is Babis still g...          neutral  2021  \n",
       "2  Any chance the new government will finally joi...         positive  2021  \n",
       "3                                          [deleted]          neutral  2021  \n",
       "4  Victory day for democracy, this is how it shou...         positive  2021  "
      ]
     },
     "execution_count": 44,
     "metadata": {},
     "output_type": "execute_result"
    }
   ],
   "source": [
    "new_europe_df.head()"
   ]
  },
  {
   "cell_type": "code",
   "execution_count": 45,
   "id": "1714b981",
   "metadata": {},
   "outputs": [
    {
     "data": {
      "text/plain": [
       "array([2021, 2020, 2018, 2023, 2017, 2019, 2014, 2010, 2015, 2022, 2013,\n",
       "       2016, 2012], dtype=int32)"
      ]
     },
     "execution_count": 45,
     "metadata": {},
     "output_type": "execute_result"
    }
   ],
   "source": [
    "new_europe_df['year'].unique()"
   ]
  },
  {
   "cell_type": "code",
   "execution_count": 47,
   "id": "b6720fe4",
   "metadata": {},
   "outputs": [],
   "source": [
    "new_europe_grouped_df = new_europe_df.groupby(['year', 'vader_prediction']).size().reset_index(name=\"count\")"
   ]
  },
  {
   "cell_type": "code",
   "execution_count": 48,
   "id": "9bbd0953",
   "metadata": {},
   "outputs": [
    {
     "data": {
      "text/html": [
       "<div>\n",
       "<style scoped>\n",
       "    .dataframe tbody tr th:only-of-type {\n",
       "        vertical-align: middle;\n",
       "    }\n",
       "\n",
       "    .dataframe tbody tr th {\n",
       "        vertical-align: top;\n",
       "    }\n",
       "\n",
       "    .dataframe thead th {\n",
       "        text-align: right;\n",
       "    }\n",
       "</style>\n",
       "<table border=\"1\" class=\"dataframe\">\n",
       "  <thead>\n",
       "    <tr style=\"text-align: right;\">\n",
       "      <th></th>\n",
       "      <th>year</th>\n",
       "      <th>vader_prediction</th>\n",
       "      <th>count</th>\n",
       "    </tr>\n",
       "  </thead>\n",
       "  <tbody>\n",
       "    <tr>\n",
       "      <th>0</th>\n",
       "      <td>2010</td>\n",
       "      <td>negative</td>\n",
       "      <td>8</td>\n",
       "    </tr>\n",
       "    <tr>\n",
       "      <th>1</th>\n",
       "      <td>2010</td>\n",
       "      <td>neutral</td>\n",
       "      <td>7</td>\n",
       "    </tr>\n",
       "    <tr>\n",
       "      <th>2</th>\n",
       "      <td>2010</td>\n",
       "      <td>positive</td>\n",
       "      <td>9</td>\n",
       "    </tr>\n",
       "    <tr>\n",
       "      <th>3</th>\n",
       "      <td>2012</td>\n",
       "      <td>positive</td>\n",
       "      <td>1</td>\n",
       "    </tr>\n",
       "    <tr>\n",
       "      <th>4</th>\n",
       "      <td>2013</td>\n",
       "      <td>negative</td>\n",
       "      <td>2</td>\n",
       "    </tr>\n",
       "  </tbody>\n",
       "</table>\n",
       "</div>"
      ],
      "text/plain": [
       "   year vader_prediction  count\n",
       "0  2010         negative      8\n",
       "1  2010          neutral      7\n",
       "2  2010         positive      9\n",
       "3  2012         positive      1\n",
       "4  2013         negative      2"
      ]
     },
     "execution_count": 48,
     "metadata": {},
     "output_type": "execute_result"
    }
   ],
   "source": [
    "new_europe_grouped_df.head()"
   ]
  },
  {
   "cell_type": "code",
   "execution_count": 49,
   "id": "82066e1a",
   "metadata": {},
   "outputs": [
    {
     "data": {
      "text/plain": [
       "<Axes: xlabel='year', ylabel='count'>"
      ]
     },
     "execution_count": 49,
     "metadata": {},
     "output_type": "execute_result"
    },
    {
     "data": {
      "image/png": "[encoded data removed]",
      "text/plain": [
       "<Figure size 640x480 with 1 Axes>"
      ]
     },
     "metadata": {},
     "output_type": "display_data"
    }
   ],
   "source": [
    "sns.lineplot(data=new_europe_grouped_df, x='year', y='count', hue='vader_prediction')"
   ]
  },
  {
   "cell_type": "code",
   "execution_count": 50,
   "id": "0b6e998a",
   "metadata": {},
   "outputs": [
    {
     "data": {
      "text/plain": [
       "<Axes: xlabel='year', ylabel='count'>"
      ]
     },
     "execution_count": 50,
     "metadata": {},
     "output_type": "execute_result"
    },
    {
     "data": {
      "image/png": "[encoded data removed]",
      "text/plain": [
       "<Figure size 640x480 with 1 Axes>"
      ]
     },
     "metadata": {},
     "output_type": "display_data"
    }
   ],
   "source": [
    "irish_housing_reddit_df['year'] = irish_housing_reddit_df['created_utc'].dt.year\n",
    "grouped_irish_df = irish_housing_reddit_df.groupby(['year', 'vader_prediction']).size().reset_index(name=\"count\")\n",
    "sns.lineplot(data=grouped_irish_df, x='year', y='count', hue='vader_prediction')"
   ]
  },
  {
   "cell_type": "markdown",
   "id": "bb6c6c53",
   "metadata": {},
   "source": [
    "### Applying Clustering-based Sentiment Analysis"
   ]
  },
  {
   "cell_type": "code",
   "execution_count": 55,
   "id": "f84e5ffc",
   "metadata": {},
   "outputs": [],
   "source": [
    "# Initialize the vectorizer and analyzer\n",
    "vectorizer = TfidfVectorizer(stop_words='english')\n",
    "analyzer = SentimentIntensityAnalyzer()"
   ]
  },
  {
   "cell_type": "code",
   "execution_count": 70,
   "id": "7b559b73",
   "metadata": {},
   "outputs": [
    {
     "name": "stderr",
     "output_type": "stream",
     "text": [
      "/Users/bsajjan/anaconda3/lib/python3.10/site-packages/sklearn/cluster/_kmeans.py:870: FutureWarning: The default value of `n_init` will change from 10 to 'auto' in 1.4. Set the value of `n_init` explicitly to suppress the warning\n",
      "  warnings.warn(\n"
     ]
    }
   ],
   "source": [
    "# Transform the data into vectors\n",
    "vectors = vectorizer.fit_transform(irish_housing_reddit_df['text'])\n",
    "\n",
    "# Perform K-means clustering\n",
    "num_clusters = 3\n",
    "kmeans = KMeans(n_clusters=num_clusters)\n",
    "kmeans.fit(vectors)\n",
    "\n",
    "# Apply PCA to reduce the dimensionality of the vectors to 2 dimensions\n",
    "pca = PCA(n_components=3)\n",
    "vectors_2d = pca.fit_transform(vectors.toarray())\n",
    "\n",
    "# Get the cluster labels\n",
    "cluster_labels = kmeans.labels_"
   ]
  },
  {
   "cell_type": "code",
   "execution_count": 71,
   "id": "d096063c",
   "metadata": {},
   "outputs": [
    {
     "data": {
      "image/png": "[encoded data removed]",
      "text/plain": [
       "<Figure size 640x480 with 1 Axes>"
      ]
     },
     "metadata": {},
     "output_type": "display_data"
    }
   ],
   "source": [
    "# Create a scatter plot of the data points, colored by cluster\n",
    "colors = ['r', 'g', 'b', 'c', 'm', 'y', 'k']\n",
    "for i in range(len(vectors_2d)):\n",
    "    plt.scatter(vectors_2d[i, 0], vectors_2d[i, 1], color=colors[kmeans.labels_[i]])\n",
    "\n",
    "plt.show()"
   ]
  },
  {
   "cell_type": "code",
   "execution_count": 72,
   "id": "6782b979",
   "metadata": {},
   "outputs": [],
   "source": [
    "# Get the sentiment scores for each document and each cluster\n",
    "document_scores = []\n",
    "cluster_scores = []\n",
    "for i, document in enumerate(irish_housing_reddit_df['text']):\n",
    "    sentiment_scores = analyzer.polarity_scores(document)\n",
    "    document_scores.append(sentiment_scores['compound'])\n",
    "    cluster_scores.append((cluster_labels[i], sentiment_scores['compound']))"
   ]
  },
  {
   "cell_type": "code",
   "execution_count": 73,
   "id": "2dc10c00",
   "metadata": {},
   "outputs": [
    {
     "name": "stdout",
     "output_type": "stream",
     "text": [
      "Cluster scores:\n",
      "Cluster 0: Mean sentiment score = 0.03\n",
      "Cluster 1: Mean sentiment score = 0.00\n",
      "Cluster 2: Mean sentiment score = 0.06\n"
     ]
    }
   ],
   "source": [
    "# Print the cluster scores\n",
    "print('Cluster scores:')\n",
    "for i in range(num_clusters):\n",
    "    scores = [x[1] for x in cluster_scores if x[0] == i]\n",
    "    print(f'Cluster {i}: Mean sentiment score = {sum(scores) / len(scores):.2f}')\n"
   ]
  },
  {
   "cell_type": "code",
   "execution_count": 74,
   "id": "843d64a9",
   "metadata": {},
   "outputs": [
    {
     "data": {
      "text/plain": [
       "(2, 0.9964)"
      ]
     },
     "execution_count": 74,
     "metadata": {},
     "output_type": "execute_result"
    }
   ],
   "source": [
    "cluster_scores[0]"
   ]
  },
  {
   "cell_type": "code",
   "execution_count": 75,
   "id": "1da13642",
   "metadata": {},
   "outputs": [
    {
     "data": {
      "text/plain": [
       "0.9964"
      ]
     },
     "execution_count": 75,
     "metadata": {},
     "output_type": "execute_result"
    }
   ],
   "source": [
    "document_scores[0]"
   ]
  },
  {
   "cell_type": "code",
   "execution_count": null,
   "id": "e49468f3",
   "metadata": {},
   "outputs": [],
   "source": []
  }
 ],
 "metadata": {
  "kernelspec": {
   "display_name": "Python 3 (ipykernel)",
   "language": "python",
   "name": "python3"
  },
  "language_info": {
   "codemirror_mode": {
    "name": "ipython",
    "version": 3
   },
   "file_extension": ".py",
   "mimetype": "text/x-python",
   "name": "python",
   "nbconvert_exporter": "python",
   "pygments_lexer": "ipython3",
   "version": "3.10.9"
  }
 },
 "nbformat": 4,
 "nbformat_minor": 5
}
