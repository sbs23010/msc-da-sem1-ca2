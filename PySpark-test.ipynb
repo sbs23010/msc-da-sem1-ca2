{
 "cells": [
  {
   "cell_type": "code",
   "execution_count": 6,
   "id": "6aff8b70",
   "metadata": {},
   "outputs": [],
   "source": [
    "import os\n",
    "os.environ['SPARK_HOME'] = '/opt/homebrew/opt/apache-spark/libexec/'\n",
    "import findspark\n",
    "findspark.init()"
   ]
  },
  {
   "cell_type": "code",
   "execution_count": 30,
   "id": "f1077d92",
   "metadata": {},
   "outputs": [],
   "source": [
    "from pyspark.sql import SparkSession\n",
    "from pyspark.sql.functions import col\n",
    "import pandas as pd\n",
    "import requests\n",
    "from io import StringIO"
   ]
  },
  {
   "cell_type": "code",
   "execution_count": 4,
   "id": "ef39f3c6",
   "metadata": {},
   "outputs": [
    {
     "name": "stderr",
     "output_type": "stream",
     "text": [
      "Picked up JAVA_TOOL_OPTIONS: -Dlog4j2.formatMsgNoLookups=true\n",
      "Picked up JAVA_TOOL_OPTIONS: -Dlog4j2.formatMsgNoLookups=true\n",
      "Setting default log level to \"WARN\".\n",
      "To adjust logging level use sc.setLogLevel(newLevel). For SparkR, use setLogLevel(newLevel).\n",
      "23/05/21 21:56:50 WARN NativeCodeLoader: Unable to load native-hadoop library for your platform... using builtin-java classes where applicable\n"
     ]
    }
   ],
   "source": [
    "# Create a Spark session\n",
    "spark = SparkSession.builder.appName('CA2').getOrCreate()"
   ]
  },
  {
   "cell_type": "code",
   "execution_count": 7,
   "id": "f8409476",
   "metadata": {},
   "outputs": [
    {
     "data": {
      "text/plain": [
       "<Response [200]>"
      ]
     },
     "execution_count": 7,
     "metadata": {},
     "output_type": "execute_result"
    }
   ],
   "source": [
    "# Source: https://ec.europa.eu/eurostat/web/products-datasets/-/teiis500\n",
    "url = \"https://ec.europa.eu/eurostat/api/dissemination/sdmx/2.1/data/teiis500?format=TSV\"\n",
    "res = requests.get(url)\n",
    "res"
   ]
  },
  {
   "cell_type": "code",
   "execution_count": 21,
   "id": "a4edd1a1",
   "metadata": {},
   "outputs": [
    {
     "name": "stdout",
     "output_type": "stream",
     "text": [
      "+------------------------------------------+--------+--------+--------+--------+--------+--------+--------+--------+--------+--------+--------+--------+\n",
      "|freq,indic_bt,nace_r2,unit,geo\\TIME_PERIOD|2022-04 |2022-05 |2022-06 |2022-07 |2022-08 |2022-09 |2022-10 |2022-11 |2022-12 |2023-01 |2023-02 |2023-03 |\n",
      "+------------------------------------------+--------+--------+--------+--------+--------+--------+--------+--------+--------+--------+--------+--------+\n",
      "|                      M,PROD,F,I2015_SC...|  134.1 |  133.5 |  130.4 |  128.7 |  130.1 |  129.1 |  130.0 |  132.3 |  128.8 |  133.3 |  146.2 | 130.3 p|\n",
      "|                      M,PROD,F,I2015_SC...|   98.8 |   99.4 |   98.7 |  100.5 |   99.1 |   98.1 |   98.3 |   99.9 |   99.3 |   97.9 |  100.6 |   98.4 |\n",
      "|                      M,PROD,F,I2015_SC...|   89.9 |   91.8 |   90.4 |   89.9 |   90.2 |   90.0 |   90.6 |   90.9 |   89.4 |   89.8 |   89.5 |  90.2 p|\n",
      "|                      M,PROD,F,I2015_SC...|  112.7 |  109.9 |  109.4 |  105.9 |  107.5 |  105.5 |  108.5 |  108.4 |  108.2 |  113.6 |  109.3 |  108.3 |\n",
      "+------------------------------------------+--------+--------+--------+--------+--------+--------+--------+--------+--------+--------+--------+--------+\n",
      "only showing top 4 rows\n",
      "\n"
     ]
    }
   ],
   "source": [
    "eu_prod_construction_df = spark.createDataFrame(pd.read_csv(StringIO(res.text), delimiter='\\t'))\n",
    "eu_prod_construction_df.show(4)"
   ]
  },
  {
   "cell_type": "code",
   "execution_count": 22,
   "id": "3edcdc90",
   "metadata": {},
   "outputs": [
    {
     "name": "stderr",
     "output_type": "stream",
     "text": [
      "                                                                                \r"
     ]
    },
    {
     "data": {
      "text/plain": [
       "(75, 13)"
      ]
     },
     "execution_count": 22,
     "metadata": {},
     "output_type": "execute_result"
    }
   ],
   "source": [
    "# Shape of the DF\n",
    "eu_prod_construction_df.count(), len(eu_prod_construction_df.columns)"
   ]
  },
  {
   "cell_type": "code",
   "execution_count": 25,
   "id": "89d0187d",
   "metadata": {},
   "outputs": [
    {
     "name": "stderr",
     "output_type": "stream",
     "text": [
      "23/05/21 22:14:40 WARN package: Truncated the string representation of a plan since it was too large. This behavior can be adjusted by setting 'spark.sql.debug.maxToStringFields'.\n",
      "[Stage 10:>                                                         (0 + 1) / 1]\r"
     ]
    },
    {
     "name": "stdout",
     "output_type": "stream",
     "text": [
      "+-------+------------------------------------------+-----------------+------------------+------------------+-----------------+------------------+-----------------+-----------------+------------------+------------------+-----------------+------------------+-----------------+\n",
      "|summary|freq,indic_bt,nace_r2,unit,geo\\TIME_PERIOD|         2022-04 |          2022-05 |          2022-06 |         2022-07 |          2022-08 |         2022-09 |         2022-10 |          2022-11 |          2022-12 |         2023-01 |          2023-02 |         2023-03 |\n",
      "+-------+------------------------------------------+-----------------+------------------+------------------+-----------------+------------------+-----------------+-----------------+------------------+------------------+-----------------+------------------+-----------------+\n",
      "|  count|                                        75|               75|                75|                75|               75|                75|               75|               75|                75|                75|               75|                75|               75|\n",
      "|   mean|                                      null|38.60819672131147|40.577049180327876|38.824590163934424|38.15737704918032| 39.00491803278689|38.54310344827587|38.48727272727272|39.341818181818184|36.973076923076924|41.71372549019608|38.392500000000005|36.92666666666666|\n",
      "| stddev|                                      null|56.24556662553345| 56.13151934947846| 56.26521025683546| 56.2802761750402|55.666702872930856|56.61262679832703|55.94498969571692| 56.29343653245018| 55.15328058215903|55.31455873315033| 55.98015851563746|58.48719242843615|\n",
      "|    min|                      M,PROD,F,I2015_SC...|           -0.1 p|             -0.1 |             -0.1 |            -0.2 |            -0.2 p|            -0.2 |           -0.1 s|             -0.1 |             -0.2 |            -0.1 |             -0.1 |            -0.3 |\n",
      "|    max|                      M,PROD,F,PCH_M1_S...|            98.8 |             99.4 |             98.7 |            89.9 |             99.1 |            98.1 |            98.3 |             99.9 |             99.3 |           98.3 p|              9.7 |               : |\n",
      "+-------+------------------------------------------+-----------------+------------------+------------------+-----------------+------------------+-----------------+-----------------+------------------+------------------+-----------------+------------------+-----------------+\n",
      "\n"
     ]
    },
    {
     "name": "stderr",
     "output_type": "stream",
     "text": [
      "\r",
      "                                                                                \r"
     ]
    }
   ],
   "source": [
    "eu_prod_construction_df.describe().show()"
   ]
  },
  {
   "cell_type": "code",
   "execution_count": 26,
   "id": "bcc76316",
   "metadata": {},
   "outputs": [
    {
     "name": "stderr",
     "output_type": "stream",
     "text": [
      "[Stage 13:>                                                         (0 + 1) / 1]\r"
     ]
    },
    {
     "name": "stdout",
     "output_type": "stream",
     "text": [
      "+-------+------------------------------------------+-----------------+------------------+------------------+-----------------+------------------+-----------------+-----------------+------------------+------------------+-----------------+------------------+-----------------+\n",
      "|summary|freq,indic_bt,nace_r2,unit,geo\\TIME_PERIOD|         2022-04 |          2022-05 |          2022-06 |         2022-07 |          2022-08 |         2022-09 |         2022-10 |          2022-11 |          2022-12 |         2023-01 |          2023-02 |         2023-03 |\n",
      "+-------+------------------------------------------+-----------------+------------------+------------------+-----------------+------------------+-----------------+-----------------+------------------+------------------+-----------------+------------------+-----------------+\n",
      "|  count|                                        75|               75|                75|                75|               75|                75|               75|               75|                75|                75|               75|                75|               75|\n",
      "|   mean|                                      null|38.60819672131147|40.577049180327876|38.824590163934424|38.15737704918032| 39.00491803278689|38.54310344827587|38.48727272727272|39.341818181818184|36.973076923076924|41.71372549019608|38.392500000000005|36.92666666666666|\n",
      "| stddev|                                      null|56.24556662553345| 56.13151934947846| 56.26521025683546| 56.2802761750402|55.666702872930856|56.61262679832703|55.94498969571692| 56.29343653245018| 55.15328058215903|55.31455873315033| 55.98015851563746|58.48719242843615|\n",
      "|    min|                      M,PROD,F,I2015_SC...|           -0.1 p|             -0.1 |             -0.1 |            -0.2 |            -0.2 p|            -0.2 |           -0.1 s|             -0.1 |             -0.2 |            -0.1 |             -0.1 |            -0.3 |\n",
      "|    25%|                                      null|             -1.5|               0.3|              -0.7|             -0.2|               0.3|              0.2|              0.6|               0.3|              -1.7|              0.4|              -0.1|             -3.4|\n",
      "|    50%|                                      null|              3.6|               5.2|               2.3|              2.0|               3.7|              1.5|              2.5|               2.7|               2.1|              5.2|               2.7|             -0.3|\n",
      "|    75%|                                      null|            104.4|             104.3|             102.9|            102.9|             101.1|            103.6|            104.7|             104.8|              99.3|            103.5|              89.7|            104.3|\n",
      "|    max|                      M,PROD,F,PCH_M1_S...|            98.8 |             99.4 |             98.7 |            89.9 |             99.1 |            98.1 |            98.3 |             99.9 |             99.3 |           98.3 p|              9.7 |               : |\n",
      "+-------+------------------------------------------+-----------------+------------------+------------------+-----------------+------------------+-----------------+-----------------+------------------+------------------+-----------------+------------------+-----------------+\n",
      "\n"
     ]
    },
    {
     "name": "stderr",
     "output_type": "stream",
     "text": [
      "\r",
      "                                                                                \r"
     ]
    }
   ],
   "source": [
    "eu_prod_construction_df.summary().show()"
   ]
  },
  {
   "cell_type": "code",
   "execution_count": 31,
   "id": "611e563b",
   "metadata": {},
   "outputs": [
    {
     "ename": "AttributeError",
     "evalue": "'DataFrame' object has no attribute 'apply'",
     "output_type": "error",
     "traceback": [
      "\u001b[0;31m---------------------------------------------------------------------------\u001b[0m",
      "\u001b[0;31mAttributeError\u001b[0m                            Traceback (most recent call last)",
      "Cell \u001b[0;32mIn[31], line 2\u001b[0m\n\u001b[1;32m      1\u001b[0m \u001b[38;5;66;03m# Taking out country, and unit of measurement to separate columns\u001b[39;00m\n\u001b[0;32m----> 2\u001b[0m \u001b[43meu_prod_construction_df\u001b[49m\u001b[38;5;241;43m.\u001b[39;49m\u001b[43mwithColumn\u001b[49m\u001b[43m(\u001b[49m\u001b[38;5;124;43m'\u001b[39;49m\u001b[38;5;124;43mcountry\u001b[39;49m\u001b[38;5;124;43m'\u001b[39;49m\u001b[43m,\u001b[49m\u001b[43m \u001b[49m\u001b[43mcol\u001b[49m\u001b[43m(\u001b[49m\u001b[38;5;124;43m'\u001b[39;49m\u001b[38;5;124;43mfreq,indic_bt,nace_r2,unit,geo\u001b[39;49m\u001b[38;5;124;43m\\\u001b[39;49m\u001b[38;5;124;43mTIME_PERIOD\u001b[39;49m\u001b[38;5;124;43m'\u001b[39;49m\u001b[43m)\u001b[49m\u001b[43m)\u001b[49m\u001b[38;5;241;43m.\u001b[39;49m\u001b[43mapply\u001b[49m(\u001b[38;5;28;01mlambda\u001b[39;00m x: x\u001b[38;5;241m.\u001b[39msplit(\u001b[38;5;124m'\u001b[39m\u001b[38;5;124m,\u001b[39m\u001b[38;5;124m'\u001b[39m)[\u001b[38;5;241m4\u001b[39m])\n\u001b[1;32m      3\u001b[0m eu_prod_construction_df\u001b[38;5;241m.\u001b[39mwithColumn(\u001b[38;5;124m'\u001b[39m\u001b[38;5;124mstats\u001b[39m\u001b[38;5;124m'\u001b[39m, col(\u001b[38;5;124m'\u001b[39m\u001b[38;5;124mfreq,indic_bt,nace_r2,unit,geo\u001b[39m\u001b[38;5;124m\\\u001b[39m\u001b[38;5;124mTIME_PERIOD\u001b[39m\u001b[38;5;124m'\u001b[39m))\u001b[38;5;241m.\u001b[39mapply(\u001b[38;5;28;01mlambda\u001b[39;00m x: x\u001b[38;5;241m.\u001b[39msplit(\u001b[38;5;124m'\u001b[39m\u001b[38;5;124m,\u001b[39m\u001b[38;5;124m'\u001b[39m)[\u001b[38;5;241m3\u001b[39m])\n",
      "File \u001b[0;32m/opt/homebrew/opt/apache-spark/libexec/python/pyspark/sql/dataframe.py:2977\u001b[0m, in \u001b[0;36mDataFrame.__getattr__\u001b[0;34m(self, name)\u001b[0m\n\u001b[1;32m   2944\u001b[0m \u001b[38;5;124;03m\"\"\"Returns the :class:`Column` denoted by ``name``.\u001b[39;00m\n\u001b[1;32m   2945\u001b[0m \n\u001b[1;32m   2946\u001b[0m \u001b[38;5;124;03m.. versionadded:: 1.3.0\u001b[39;00m\n\u001b[0;32m   (...)\u001b[0m\n\u001b[1;32m   2974\u001b[0m \u001b[38;5;124;03m+---+\u001b[39;00m\n\u001b[1;32m   2975\u001b[0m \u001b[38;5;124;03m\"\"\"\u001b[39;00m\n\u001b[1;32m   2976\u001b[0m \u001b[38;5;28;01mif\u001b[39;00m name \u001b[38;5;129;01mnot\u001b[39;00m \u001b[38;5;129;01min\u001b[39;00m \u001b[38;5;28mself\u001b[39m\u001b[38;5;241m.\u001b[39mcolumns:\n\u001b[0;32m-> 2977\u001b[0m     \u001b[38;5;28;01mraise\u001b[39;00m \u001b[38;5;167;01mAttributeError\u001b[39;00m(\n\u001b[1;32m   2978\u001b[0m         \u001b[38;5;124m\"\u001b[39m\u001b[38;5;124m'\u001b[39m\u001b[38;5;132;01m%s\u001b[39;00m\u001b[38;5;124m'\u001b[39m\u001b[38;5;124m object has no attribute \u001b[39m\u001b[38;5;124m'\u001b[39m\u001b[38;5;132;01m%s\u001b[39;00m\u001b[38;5;124m'\u001b[39m\u001b[38;5;124m\"\u001b[39m \u001b[38;5;241m%\u001b[39m (\u001b[38;5;28mself\u001b[39m\u001b[38;5;241m.\u001b[39m\u001b[38;5;18m__class__\u001b[39m\u001b[38;5;241m.\u001b[39m\u001b[38;5;18m__name__\u001b[39m, name)\n\u001b[1;32m   2979\u001b[0m     )\n\u001b[1;32m   2980\u001b[0m jc \u001b[38;5;241m=\u001b[39m \u001b[38;5;28mself\u001b[39m\u001b[38;5;241m.\u001b[39m_jdf\u001b[38;5;241m.\u001b[39mapply(name)\n\u001b[1;32m   2981\u001b[0m \u001b[38;5;28;01mreturn\u001b[39;00m Column(jc)\n",
      "\u001b[0;31mAttributeError\u001b[0m: 'DataFrame' object has no attribute 'apply'"
     ]
    }
   ],
   "source": [
    "# Taking out country, and unit of measurement to separate columns\n",
    "eu_prod_construction_df.withColumn('country', col('freq,indic_bt,nace_r2,unit,geo\\TIME_PERIOD')).apply(lambda x: x.split(',')[4])\n",
    "eu_prod_construction_df.withColumn('stats', col('freq,indic_bt,nace_r2,unit,geo\\TIME_PERIOD')).apply(lambda x: x.split(',')[3])"
   ]
  },
  {
   "cell_type": "code",
   "execution_count": null,
   "id": "d3534686",
   "metadata": {},
   "outputs": [],
   "source": []
  }
 ],
 "metadata": {
  "kernelspec": {
   "display_name": "Python 3 (ipykernel)",
   "language": "python",
   "name": "python3"
  },
  "language_info": {
   "codemirror_mode": {
    "name": "ipython",
    "version": 3
   },
   "file_extension": ".py",
   "mimetype": "text/x-python",
   "name": "python",
   "nbconvert_exporter": "python",
   "pygments_lexer": "ipython3",
   "version": "3.10.9"
  }
 },
 "nbformat": 4,
 "nbformat_minor": 5
}
